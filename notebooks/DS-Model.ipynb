{
 "cells": [
  {
   "cell_type": "markdown",
   "id": "71ecff33-b42f-409c-8732-e75b692a806a",
   "metadata": {
    "tags": []
   },
   "source": [
    "# Overall Info"
   ]
  },
  {
   "cell_type": "code",
   "execution_count": 64,
   "id": "b336303c-e252-4e06-8428-91e5b9c34151",
   "metadata": {},
   "outputs": [
    {
     "data": {
      "text/html": [
       "<pre style=\"white-space:pre;overflow-x:auto;line-height:normal;font-family:Menlo,'DejaVu Sans Mono',consolas,'Courier New',monospace\"><span style=\"color: #7fbfbf; text-decoration-color: #7fbfbf\">[05/21/23 17:07:54] </span><span style=\"color: #000080; text-decoration-color: #000080\">INFO    </span> Resolved project path as:                                              <a href=\"file:///home/work/Documents/repo/economic_freedom_ml/.venv/lib/python3.8/site-packages/kedro/ipython/__init__.py\" target=\"_blank\"><span style=\"color: #7f7f7f; text-decoration-color: #7f7f7f\">__init__.py</span></a><span style=\"color: #7f7f7f; text-decoration-color: #7f7f7f\">:</span><a href=\"file:///home/work/Documents/repo/economic_freedom_ml/.venv/lib/python3.8/site-packages/kedro/ipython/__init__.py#132\" target=\"_blank\"><span style=\"color: #7f7f7f; text-decoration-color: #7f7f7f\">132</span></a>\n",
       "<span style=\"color: #7fbfbf; text-decoration-color: #7fbfbf\">                    </span>         <span style=\"color: #800080; text-decoration-color: #800080\">/home/work/Documents/repo/</span><span style=\"color: #ff00ff; text-decoration-color: #ff00ff\">economic_freedom_ml.</span>                         <span style=\"color: #7f7f7f; text-decoration-color: #7f7f7f\">               </span>\n",
       "<span style=\"color: #7fbfbf; text-decoration-color: #7fbfbf\">                    </span>         To set a different path, run <span style=\"color: #008000; text-decoration-color: #008000\">'%reload_kedro &lt;project_root&gt;'</span>            <span style=\"color: #7f7f7f; text-decoration-color: #7f7f7f\">               </span>\n",
       "</pre>\n"
      ],
      "text/plain": [
       "\u001b[2;36m[05/21/23 17:07:54]\u001b[0m\u001b[2;36m \u001b[0m\u001b[34mINFO    \u001b[0m Resolved project path as:                                              \u001b]8;id=189842;file:///home/work/Documents/repo/economic_freedom_ml/.venv/lib/python3.8/site-packages/kedro/ipython/__init__.py\u001b\\\u001b[2m__init__.py\u001b[0m\u001b]8;;\u001b\\\u001b[2m:\u001b[0m\u001b]8;id=41241;file:///home/work/Documents/repo/economic_freedom_ml/.venv/lib/python3.8/site-packages/kedro/ipython/__init__.py#132\u001b\\\u001b[2m132\u001b[0m\u001b]8;;\u001b\\\n",
       "\u001b[2;36m                    \u001b[0m         \u001b[35m/home/work/Documents/repo/\u001b[0m\u001b[95meconomic_freedom_ml.\u001b[0m                         \u001b[2m               \u001b[0m\n",
       "\u001b[2;36m                    \u001b[0m         To set a different path, run \u001b[32m'%reload_kedro \u001b[0m\u001b[32m<\u001b[0m\u001b[32mproject_root\u001b[0m\u001b[32m>\u001b[0m\u001b[32m'\u001b[0m            \u001b[2m               \u001b[0m\n"
      ]
     },
     "metadata": {},
     "output_type": "display_data"
    },
    {
     "data": {
      "text/html": [
       "<pre style=\"white-space:pre;overflow-x:auto;line-height:normal;font-family:Menlo,'DejaVu Sans Mono',consolas,'Courier New',monospace\"><span style=\"color: #7fbfbf; text-decoration-color: #7fbfbf\">[05/21/23 17:07:55] </span><span style=\"color: #000080; text-decoration-color: #000080\">INFO    </span> Kedro project economic_freedom_ml                                      <a href=\"file:///home/work/Documents/repo/economic_freedom_ml/.venv/lib/python3.8/site-packages/kedro/ipython/__init__.py\" target=\"_blank\"><span style=\"color: #7f7f7f; text-decoration-color: #7f7f7f\">__init__.py</span></a><span style=\"color: #7f7f7f; text-decoration-color: #7f7f7f\">:</span><a href=\"file:///home/work/Documents/repo/economic_freedom_ml/.venv/lib/python3.8/site-packages/kedro/ipython/__init__.py#101\" target=\"_blank\"><span style=\"color: #7f7f7f; text-decoration-color: #7f7f7f\">101</span></a>\n",
       "</pre>\n"
      ],
      "text/plain": [
       "\u001b[2;36m[05/21/23 17:07:55]\u001b[0m\u001b[2;36m \u001b[0m\u001b[34mINFO    \u001b[0m Kedro project economic_freedom_ml                                      \u001b]8;id=152291;file:///home/work/Documents/repo/economic_freedom_ml/.venv/lib/python3.8/site-packages/kedro/ipython/__init__.py\u001b\\\u001b[2m__init__.py\u001b[0m\u001b]8;;\u001b\\\u001b[2m:\u001b[0m\u001b]8;id=478392;file:///home/work/Documents/repo/economic_freedom_ml/.venv/lib/python3.8/site-packages/kedro/ipython/__init__.py#101\u001b\\\u001b[2m101\u001b[0m\u001b]8;;\u001b\\\n"
      ]
     },
     "metadata": {},
     "output_type": "display_data"
    },
    {
     "data": {
      "text/html": [
       "<pre style=\"white-space:pre;overflow-x:auto;line-height:normal;font-family:Menlo,'DejaVu Sans Mono',consolas,'Courier New',monospace\"><span style=\"color: #7fbfbf; text-decoration-color: #7fbfbf\">                    </span><span style=\"color: #000080; text-decoration-color: #000080\">INFO    </span> Defined global variable <span style=\"color: #008000; text-decoration-color: #008000\">'context'</span>, <span style=\"color: #008000; text-decoration-color: #008000\">'session'</span>, <span style=\"color: #008000; text-decoration-color: #008000\">'catalog'</span> and            <a href=\"file:///home/work/Documents/repo/economic_freedom_ml/.venv/lib/python3.8/site-packages/kedro/ipython/__init__.py\" target=\"_blank\"><span style=\"color: #7f7f7f; text-decoration-color: #7f7f7f\">__init__.py</span></a><span style=\"color: #7f7f7f; text-decoration-color: #7f7f7f\">:</span><a href=\"file:///home/work/Documents/repo/economic_freedom_ml/.venv/lib/python3.8/site-packages/kedro/ipython/__init__.py#102\" target=\"_blank\"><span style=\"color: #7f7f7f; text-decoration-color: #7f7f7f\">102</span></a>\n",
       "<span style=\"color: #7fbfbf; text-decoration-color: #7fbfbf\">                    </span>         <span style=\"color: #008000; text-decoration-color: #008000\">'pipelines'</span>                                                            <span style=\"color: #7f7f7f; text-decoration-color: #7f7f7f\">               </span>\n",
       "</pre>\n"
      ],
      "text/plain": [
       "\u001b[2;36m                   \u001b[0m\u001b[2;36m \u001b[0m\u001b[34mINFO    \u001b[0m Defined global variable \u001b[32m'context'\u001b[0m, \u001b[32m'session'\u001b[0m, \u001b[32m'catalog'\u001b[0m and            \u001b]8;id=382454;file:///home/work/Documents/repo/economic_freedom_ml/.venv/lib/python3.8/site-packages/kedro/ipython/__init__.py\u001b\\\u001b[2m__init__.py\u001b[0m\u001b]8;;\u001b\\\u001b[2m:\u001b[0m\u001b]8;id=204814;file:///home/work/Documents/repo/economic_freedom_ml/.venv/lib/python3.8/site-packages/kedro/ipython/__init__.py#102\u001b\\\u001b[2m102\u001b[0m\u001b]8;;\u001b\\\n",
       "\u001b[2;36m                    \u001b[0m         \u001b[32m'pipelines'\u001b[0m                                                            \u001b[2m               \u001b[0m\n"
      ]
     },
     "metadata": {},
     "output_type": "display_data"
    }
   ],
   "source": [
    "%reload_kedro"
   ]
  },
  {
   "cell_type": "markdown",
   "id": "7cf88aa0",
   "metadata": {
    "tags": []
   },
   "source": [
    "## Packages"
   ]
  },
  {
   "cell_type": "code",
   "execution_count": 2,
   "id": "7729373c-c169-4bb2-8274-c5cfcdce9023",
   "metadata": {},
   "outputs": [
    {
     "data": {
      "text/html": [
       "<pre style=\"white-space:pre;overflow-x:auto;line-height:normal;font-family:Menlo,'DejaVu Sans Mono',consolas,'Courier New',monospace\"><span style=\"color: #7fbfbf; text-decoration-color: #7fbfbf\">[05/20/23 18:37:00] </span><span style=\"color: #800000; text-decoration-color: #800000\">WARNING </span> <span style=\"color: #800080; text-decoration-color: #800080\">/home/work/Documents/repo/economic_freedom_ml/.venv/lib/python3.8/site</span> <a href=\"file:///usr/lib/python3.8/warnings.py\" target=\"_blank\"><span style=\"color: #7f7f7f; text-decoration-color: #7f7f7f\">warnings.py</span></a><span style=\"color: #7f7f7f; text-decoration-color: #7f7f7f\">:</span><a href=\"file:///usr/lib/python3.8/warnings.py#109\" target=\"_blank\"><span style=\"color: #7f7f7f; text-decoration-color: #7f7f7f\">109</span></a>\n",
       "<span style=\"color: #7fbfbf; text-decoration-color: #7fbfbf\">                    </span>         <span style=\"color: #800080; text-decoration-color: #800080\">-packages/seaborn/</span><span style=\"color: #ff00ff; text-decoration-color: #ff00ff\">rcmod.py</span>:<span style=\"color: #008080; text-decoration-color: #008080; font-weight: bold\">82</span>: DeprecationWarning: distutils Version   <span style=\"color: #7f7f7f; text-decoration-color: #7f7f7f\">               </span>\n",
       "<span style=\"color: #7fbfbf; text-decoration-color: #7fbfbf\">                    </span>         classes are deprecated. Use packaging.version instead.                 <span style=\"color: #7f7f7f; text-decoration-color: #7f7f7f\">               </span>\n",
       "<span style=\"color: #7fbfbf; text-decoration-color: #7fbfbf\">                    </span>           if <span style=\"color: #800080; text-decoration-color: #800080; font-weight: bold\">LooseVersion</span><span style=\"font-weight: bold\">(</span>mpl.__version__<span style=\"font-weight: bold\">)</span> &gt;= <span style=\"color: #008000; text-decoration-color: #008000\">\"3.0\"</span>:                           <span style=\"color: #7f7f7f; text-decoration-color: #7f7f7f\">               </span>\n",
       "<span style=\"color: #7fbfbf; text-decoration-color: #7fbfbf\">                    </span>                                                                                <span style=\"color: #7f7f7f; text-decoration-color: #7f7f7f\">               </span>\n",
       "</pre>\n"
      ],
      "text/plain": [
       "\u001b[2;36m[05/20/23 18:37:00]\u001b[0m\u001b[2;36m \u001b[0m\u001b[31mWARNING \u001b[0m \u001b[35m/home/work/Documents/repo/economic_freedom_ml/.venv/lib/python3.8/site\u001b[0m \u001b]8;id=629393;file:///usr/lib/python3.8/warnings.py\u001b\\\u001b[2mwarnings.py\u001b[0m\u001b]8;;\u001b\\\u001b[2m:\u001b[0m\u001b]8;id=415528;file:///usr/lib/python3.8/warnings.py#109\u001b\\\u001b[2m109\u001b[0m\u001b]8;;\u001b\\\n",
       "\u001b[2;36m                    \u001b[0m         \u001b[35m-packages/seaborn/\u001b[0m\u001b[95mrcmod.py\u001b[0m:\u001b[1;36m82\u001b[0m: DeprecationWarning: distutils Version   \u001b[2m               \u001b[0m\n",
       "\u001b[2;36m                    \u001b[0m         classes are deprecated. Use packaging.version instead.                 \u001b[2m               \u001b[0m\n",
       "\u001b[2;36m                    \u001b[0m           if \u001b[1;35mLooseVersion\u001b[0m\u001b[1m(\u001b[0mmpl.__version__\u001b[1m)\u001b[0m >= \u001b[32m\"3.0\"\u001b[0m:                           \u001b[2m               \u001b[0m\n",
       "\u001b[2;36m                    \u001b[0m                                                                                \u001b[2m               \u001b[0m\n"
      ]
     },
     "metadata": {},
     "output_type": "display_data"
    },
    {
     "data": {
      "text/html": [
       "<pre style=\"white-space:pre;overflow-x:auto;line-height:normal;font-family:Menlo,'DejaVu Sans Mono',consolas,'Courier New',monospace\"><span style=\"color: #7fbfbf; text-decoration-color: #7fbfbf\">                    </span><span style=\"color: #800000; text-decoration-color: #800000\">WARNING </span> <span style=\"color: #800080; text-decoration-color: #800080\">/home/work/Documents/repo/economic_freedom_ml/.venv/lib/python3.8/site</span> <a href=\"file:///usr/lib/python3.8/warnings.py\" target=\"_blank\"><span style=\"color: #7f7f7f; text-decoration-color: #7f7f7f\">warnings.py</span></a><span style=\"color: #7f7f7f; text-decoration-color: #7f7f7f\">:</span><a href=\"file:///usr/lib/python3.8/warnings.py#109\" target=\"_blank\"><span style=\"color: #7f7f7f; text-decoration-color: #7f7f7f\">109</span></a>\n",
       "<span style=\"color: #7fbfbf; text-decoration-color: #7fbfbf\">                    </span>         <span style=\"color: #800080; text-decoration-color: #800080\">-packages/setuptools/_distutils/</span><span style=\"color: #ff00ff; text-decoration-color: #ff00ff\">version.py</span>:<span style=\"color: #008080; text-decoration-color: #008080; font-weight: bold\">345</span>: DeprecationWarning:    <span style=\"color: #7f7f7f; text-decoration-color: #7f7f7f\">               </span>\n",
       "<span style=\"color: #7fbfbf; text-decoration-color: #7fbfbf\">                    </span>         distutils Version classes are deprecated. Use packaging.version        <span style=\"color: #7f7f7f; text-decoration-color: #7f7f7f\">               </span>\n",
       "<span style=\"color: #7fbfbf; text-decoration-color: #7fbfbf\">                    </span>         instead.                                                               <span style=\"color: #7f7f7f; text-decoration-color: #7f7f7f\">               </span>\n",
       "<span style=\"color: #7fbfbf; text-decoration-color: #7fbfbf\">                    </span>           other = <span style=\"color: #800080; text-decoration-color: #800080; font-weight: bold\">LooseVersion</span><span style=\"font-weight: bold\">(</span>other<span style=\"font-weight: bold\">)</span>                                          <span style=\"color: #7f7f7f; text-decoration-color: #7f7f7f\">               </span>\n",
       "<span style=\"color: #7fbfbf; text-decoration-color: #7fbfbf\">                    </span>                                                                                <span style=\"color: #7f7f7f; text-decoration-color: #7f7f7f\">               </span>\n",
       "</pre>\n"
      ],
      "text/plain": [
       "\u001b[2;36m                   \u001b[0m\u001b[2;36m \u001b[0m\u001b[31mWARNING \u001b[0m \u001b[35m/home/work/Documents/repo/economic_freedom_ml/.venv/lib/python3.8/site\u001b[0m \u001b]8;id=805925;file:///usr/lib/python3.8/warnings.py\u001b\\\u001b[2mwarnings.py\u001b[0m\u001b]8;;\u001b\\\u001b[2m:\u001b[0m\u001b]8;id=366948;file:///usr/lib/python3.8/warnings.py#109\u001b\\\u001b[2m109\u001b[0m\u001b]8;;\u001b\\\n",
       "\u001b[2;36m                    \u001b[0m         \u001b[35m-packages/setuptools/_distutils/\u001b[0m\u001b[95mversion.py\u001b[0m:\u001b[1;36m345\u001b[0m: DeprecationWarning:    \u001b[2m               \u001b[0m\n",
       "\u001b[2;36m                    \u001b[0m         distutils Version classes are deprecated. Use packaging.version        \u001b[2m               \u001b[0m\n",
       "\u001b[2;36m                    \u001b[0m         instead.                                                               \u001b[2m               \u001b[0m\n",
       "\u001b[2;36m                    \u001b[0m           other = \u001b[1;35mLooseVersion\u001b[0m\u001b[1m(\u001b[0mother\u001b[1m)\u001b[0m                                          \u001b[2m               \u001b[0m\n",
       "\u001b[2;36m                    \u001b[0m                                                                                \u001b[2m               \u001b[0m\n"
      ]
     },
     "metadata": {},
     "output_type": "display_data"
    },
    {
     "data": {
      "text/html": [
       "<pre style=\"white-space:pre;overflow-x:auto;line-height:normal;font-family:Menlo,'DejaVu Sans Mono',consolas,'Courier New',monospace\"><span style=\"color: #7fbfbf; text-decoration-color: #7fbfbf\">                    </span><span style=\"color: #800000; text-decoration-color: #800000; font-weight: bold\">ERROR   </span> Importing plotly failed. Interactive plots will not work.                   <a href=\"file:///home/work/Documents/repo/economic_freedom_ml/.venv/lib/python3.8/site-packages/prophet/plot.py\" target=\"_blank\"><span style=\"color: #7f7f7f; text-decoration-color: #7f7f7f\">plot.py</span></a><span style=\"color: #7f7f7f; text-decoration-color: #7f7f7f\">:</span><a href=\"file:///home/work/Documents/repo/economic_freedom_ml/.venv/lib/python3.8/site-packages/prophet/plot.py#39\" target=\"_blank\"><span style=\"color: #7f7f7f; text-decoration-color: #7f7f7f\">39</span></a>\n",
       "</pre>\n"
      ],
      "text/plain": [
       "\u001b[2;36m                   \u001b[0m\u001b[2;36m \u001b[0m\u001b[1;31mERROR   \u001b[0m Importing plotly failed. Interactive plots will not work.                   \u001b]8;id=34428;file:///home/work/Documents/repo/economic_freedom_ml/.venv/lib/python3.8/site-packages/prophet/plot.py\u001b\\\u001b[2mplot.py\u001b[0m\u001b]8;;\u001b\\\u001b[2m:\u001b[0m\u001b]8;id=536997;file:///home/work/Documents/repo/economic_freedom_ml/.venv/lib/python3.8/site-packages/prophet/plot.py#39\u001b\\\u001b[2m39\u001b[0m\u001b]8;;\u001b\\\n"
      ]
     },
     "metadata": {},
     "output_type": "display_data"
    }
   ],
   "source": [
    "import matplotlib \n",
    "import matplotlib.pyplot as plt\n",
    "import seaborn as sns\n",
    "import numpy as np\n",
    "import pandas as pd\n",
    "from prophet import Prophet\n",
    "import xgboost as xgb\n",
    "from datetime import datetime\n",
    "from sklearn.metrics import mean_absolute_error\n",
    "from sklearn.metrics import mean_squared_error\n",
    "from sklearn.metrics import r2_score\n",
    "from sklearn.model_selection import train_test_split\n",
    "from sklearn.ensemble import RandomForestRegressor\n",
    "from pandas_profiling import ProfileReport\n",
    "from time import time"
   ]
  },
  {
   "cell_type": "markdown",
   "id": "f56f89a1",
   "metadata": {
    "jp-MarkdownHeadingCollapsed": true,
    "tags": []
   },
   "source": [
    "# Random Forest and XGBoost"
   ]
  },
  {
   "cell_type": "markdown",
   "id": "b21b6827",
   "metadata": {},
   "source": [
    "## Checking Info"
   ]
  },
  {
   "cell_type": "code",
   "execution_count": 3,
   "id": "829e5b33-23fe-4731-a5d4-9542ac0205b3",
   "metadata": {},
   "outputs": [
    {
     "data": {
      "text/html": [
       "<pre style=\"white-space:pre;overflow-x:auto;line-height:normal;font-family:Menlo,'DejaVu Sans Mono',consolas,'Courier New',monospace\"><span style=\"color: #7fbfbf; text-decoration-color: #7fbfbf\">[05/20/23 18:37:01] </span><span style=\"color: #000080; text-decoration-color: #000080\">INFO    </span> Loading data from <span style=\"color: #008000; text-decoration-color: #008000\">'data_with_features'</span> <span style=\"font-weight: bold\">(</span>CSVDataSet<span style=\"font-weight: bold\">)</span><span style=\"color: #808000; text-decoration-color: #808000\">...</span>             <a href=\"file:///home/work/Documents/repo/economic_freedom_ml/.venv/lib/python3.8/site-packages/kedro/io/data_catalog.py\" target=\"_blank\"><span style=\"color: #7f7f7f; text-decoration-color: #7f7f7f\">data_catalog.py</span></a><span style=\"color: #7f7f7f; text-decoration-color: #7f7f7f\">:</span><a href=\"file:///home/work/Documents/repo/economic_freedom_ml/.venv/lib/python3.8/site-packages/kedro/io/data_catalog.py#343\" target=\"_blank\"><span style=\"color: #7f7f7f; text-decoration-color: #7f7f7f\">343</span></a>\n",
       "</pre>\n"
      ],
      "text/plain": [
       "\u001b[2;36m[05/20/23 18:37:01]\u001b[0m\u001b[2;36m \u001b[0m\u001b[34mINFO    \u001b[0m Loading data from \u001b[32m'data_with_features'\u001b[0m \u001b[1m(\u001b[0mCSVDataSet\u001b[1m)\u001b[0m\u001b[33m...\u001b[0m             \u001b]8;id=405306;file:///home/work/Documents/repo/economic_freedom_ml/.venv/lib/python3.8/site-packages/kedro/io/data_catalog.py\u001b\\\u001b[2mdata_catalog.py\u001b[0m\u001b]8;;\u001b\\\u001b[2m:\u001b[0m\u001b]8;id=215527;file:///home/work/Documents/repo/economic_freedom_ml/.venv/lib/python3.8/site-packages/kedro/io/data_catalog.py#343\u001b\\\u001b[2m343\u001b[0m\u001b]8;;\u001b\\\n"
      ]
     },
     "metadata": {},
     "output_type": "display_data"
    }
   ],
   "source": [
    "model_input = catalog.load(\"data_with_features\")"
   ]
  },
  {
   "cell_type": "code",
   "execution_count": 4,
   "id": "b957288d-1293-482c-bb52-0732034e08c8",
   "metadata": {},
   "outputs": [
    {
     "data": {
      "text/html": [
       "<div>\n",
       "<style scoped>\n",
       "    .dataframe tbody tr th:only-of-type {\n",
       "        vertical-align: middle;\n",
       "    }\n",
       "\n",
       "    .dataframe tbody tr th {\n",
       "        vertical-align: top;\n",
       "    }\n",
       "\n",
       "    .dataframe thead th {\n",
       "        text-align: right;\n",
       "    }\n",
       "</style>\n",
       "<table border=\"1\" class=\"dataframe\">\n",
       "  <thead>\n",
       "    <tr style=\"text-align: right;\">\n",
       "      <th></th>\n",
       "      <th>year</th>\n",
       "      <th>score</th>\n",
       "      <th>argentina</th>\n",
       "      <th>bahamas</th>\n",
       "      <th>barbados</th>\n",
       "      <th>belize</th>\n",
       "      <th>bolivia</th>\n",
       "      <th>brazil</th>\n",
       "      <th>canada</th>\n",
       "      <th>chile</th>\n",
       "      <th>...</th>\n",
       "      <th>peru</th>\n",
       "      <th>saint_lucia</th>\n",
       "      <th>saint_vincent_and_the_grenadines</th>\n",
       "      <th>suriname</th>\n",
       "      <th>trinidad_and_tobago</th>\n",
       "      <th>united_states</th>\n",
       "      <th>uruguay</th>\n",
       "      <th>venezuela</th>\n",
       "      <th>north_america</th>\n",
       "      <th>south_america</th>\n",
       "    </tr>\n",
       "  </thead>\n",
       "  <tbody>\n",
       "    <tr>\n",
       "      <th>0</th>\n",
       "      <td>2023</td>\n",
       "      <td>50.1</td>\n",
       "      <td>1</td>\n",
       "      <td>0</td>\n",
       "      <td>0</td>\n",
       "      <td>0</td>\n",
       "      <td>0</td>\n",
       "      <td>0</td>\n",
       "      <td>0</td>\n",
       "      <td>0</td>\n",
       "      <td>...</td>\n",
       "      <td>0</td>\n",
       "      <td>0</td>\n",
       "      <td>0</td>\n",
       "      <td>0</td>\n",
       "      <td>0</td>\n",
       "      <td>0</td>\n",
       "      <td>0</td>\n",
       "      <td>0</td>\n",
       "      <td>0</td>\n",
       "      <td>1</td>\n",
       "    </tr>\n",
       "    <tr>\n",
       "      <th>1</th>\n",
       "      <td>2023</td>\n",
       "      <td>71.3</td>\n",
       "      <td>0</td>\n",
       "      <td>0</td>\n",
       "      <td>1</td>\n",
       "      <td>0</td>\n",
       "      <td>0</td>\n",
       "      <td>0</td>\n",
       "      <td>0</td>\n",
       "      <td>0</td>\n",
       "      <td>...</td>\n",
       "      <td>0</td>\n",
       "      <td>0</td>\n",
       "      <td>0</td>\n",
       "      <td>0</td>\n",
       "      <td>0</td>\n",
       "      <td>0</td>\n",
       "      <td>0</td>\n",
       "      <td>0</td>\n",
       "      <td>1</td>\n",
       "      <td>0</td>\n",
       "    </tr>\n",
       "    <tr>\n",
       "      <th>2</th>\n",
       "      <td>2023</td>\n",
       "      <td>56.6</td>\n",
       "      <td>0</td>\n",
       "      <td>0</td>\n",
       "      <td>0</td>\n",
       "      <td>1</td>\n",
       "      <td>0</td>\n",
       "      <td>0</td>\n",
       "      <td>0</td>\n",
       "      <td>0</td>\n",
       "      <td>...</td>\n",
       "      <td>0</td>\n",
       "      <td>0</td>\n",
       "      <td>0</td>\n",
       "      <td>0</td>\n",
       "      <td>0</td>\n",
       "      <td>0</td>\n",
       "      <td>0</td>\n",
       "      <td>0</td>\n",
       "      <td>1</td>\n",
       "      <td>0</td>\n",
       "    </tr>\n",
       "    <tr>\n",
       "      <th>3</th>\n",
       "      <td>2023</td>\n",
       "      <td>43.0</td>\n",
       "      <td>0</td>\n",
       "      <td>0</td>\n",
       "      <td>0</td>\n",
       "      <td>0</td>\n",
       "      <td>1</td>\n",
       "      <td>0</td>\n",
       "      <td>0</td>\n",
       "      <td>0</td>\n",
       "      <td>...</td>\n",
       "      <td>0</td>\n",
       "      <td>0</td>\n",
       "      <td>0</td>\n",
       "      <td>0</td>\n",
       "      <td>0</td>\n",
       "      <td>0</td>\n",
       "      <td>0</td>\n",
       "      <td>0</td>\n",
       "      <td>0</td>\n",
       "      <td>1</td>\n",
       "    </tr>\n",
       "    <tr>\n",
       "      <th>4</th>\n",
       "      <td>2023</td>\n",
       "      <td>53.3</td>\n",
       "      <td>0</td>\n",
       "      <td>0</td>\n",
       "      <td>0</td>\n",
       "      <td>0</td>\n",
       "      <td>0</td>\n",
       "      <td>1</td>\n",
       "      <td>0</td>\n",
       "      <td>0</td>\n",
       "      <td>...</td>\n",
       "      <td>0</td>\n",
       "      <td>0</td>\n",
       "      <td>0</td>\n",
       "      <td>0</td>\n",
       "      <td>0</td>\n",
       "      <td>0</td>\n",
       "      <td>0</td>\n",
       "      <td>0</td>\n",
       "      <td>0</td>\n",
       "      <td>1</td>\n",
       "    </tr>\n",
       "  </tbody>\n",
       "</table>\n",
       "<p>5 rows × 36 columns</p>\n",
       "</div>"
      ]
     },
     "execution_count": 4,
     "metadata": {},
     "output_type": "execute_result"
    }
   ],
   "source": [
    "model_input.head()"
   ]
  },
  {
   "cell_type": "code",
   "execution_count": 5,
   "id": "71873599-2d2e-45bb-8151-5191be072036",
   "metadata": {},
   "outputs": [
    {
     "name": "stdout",
     "output_type": "stream",
     "text": [
      "(                              column    dtype  missing_percent  count  \\\n",
      "0                               year    int64              0.0    883   \n",
      "1                              score  float64              0.0    883   \n",
      "2                          argentina    int64              0.0    883   \n",
      "3                            bahamas    int64              0.0    883   \n",
      "4                           barbados    int64              0.0    883   \n",
      "5                             belize    int64              0.0    883   \n",
      "6                            bolivia    int64              0.0    883   \n",
      "7                             brazil    int64              0.0    883   \n",
      "8                             canada    int64              0.0    883   \n",
      "9                              chile    int64              0.0    883   \n",
      "10                          colombia    int64              0.0    883   \n",
      "11                        costa_rica    int64              0.0    883   \n",
      "12                              cuba    int64              0.0    883   \n",
      "13                          dominica    int64              0.0    883   \n",
      "14                dominican_republic    int64              0.0    883   \n",
      "15                           ecuador    int64              0.0    883   \n",
      "16                       el_salvador    int64              0.0    883   \n",
      "17                         guatemala    int64              0.0    883   \n",
      "18                            guyana    int64              0.0    883   \n",
      "19                             haiti    int64              0.0    883   \n",
      "20                          honduras    int64              0.0    883   \n",
      "21                           jamaica    int64              0.0    883   \n",
      "22                            mexico    int64              0.0    883   \n",
      "23                         nicaragua    int64              0.0    883   \n",
      "24                            panama    int64              0.0    883   \n",
      "25                          paraguay    int64              0.0    883   \n",
      "26                              peru    int64              0.0    883   \n",
      "27                       saint_lucia    int64              0.0    883   \n",
      "28  saint_vincent_and_the_grenadines    int64              0.0    883   \n",
      "29                          suriname    int64              0.0    883   \n",
      "30               trinidad_and_tobago    int64              0.0    883   \n",
      "31                     united_states    int64              0.0    883   \n",
      "32                           uruguay    int64              0.0    883   \n",
      "33                         venezuela    int64              0.0    883   \n",
      "34                     north_america    int64              0.0    883   \n",
      "35                     south_america    int64              0.0    883   \n",
      "\n",
      "    n_unique  \n",
      "0         29  \n",
      "1        344  \n",
      "2          2  \n",
      "3          2  \n",
      "4          2  \n",
      "5          2  \n",
      "6          2  \n",
      "7          2  \n",
      "8          2  \n",
      "9          2  \n",
      "10         2  \n",
      "11         2  \n",
      "12         2  \n",
      "13         2  \n",
      "14         2  \n",
      "15         2  \n",
      "16         2  \n",
      "17         2  \n",
      "18         2  \n",
      "19         2  \n",
      "20         2  \n",
      "21         2  \n",
      "22         2  \n",
      "23         2  \n",
      "24         2  \n",
      "25         2  \n",
      "26         2  \n",
      "27         2  \n",
      "28         2  \n",
      "29         2  \n",
      "30         2  \n",
      "31         2  \n",
      "32         2  \n",
      "33         2  \n",
      "34         2  \n",
      "35         2  ,)\n"
     ]
    }
   ],
   "source": [
    "model_input_info = pd.DataFrame({'column': model_input.columns,  \n",
    "                             'dtype': model_input.dtypes,\n",
    "                             'missing_percent': model_input.isna().sum()/model_input.shape[0],\n",
    "                             'count': model_input.count(),\n",
    "                             'n_unique': model_input.nunique()}).reset_index().drop('index', axis=1).round(decimals = 3),  \n",
    "print(model_input_info)"
   ]
  },
  {
   "cell_type": "markdown",
   "id": "2dd2ea5a-61cc-441d-b41e-e379cdf55a49",
   "metadata": {},
   "source": [
    "## Preparing the Data"
   ]
  },
  {
   "cell_type": "markdown",
   "id": "f58f3ead-bf9a-4b85-aba1-da6786298845",
   "metadata": {},
   "source": [
    "### Separating the data into feature data and target data (X_all and y_all, respectively)"
   ]
  },
  {
   "cell_type": "code",
   "execution_count": 6,
   "id": "688a399b",
   "metadata": {},
   "outputs": [],
   "source": [
    "model_input_ds = model_input.set_index(\"year\")"
   ]
  },
  {
   "cell_type": "code",
   "execution_count": 7,
   "id": "4dab4997-e84a-4625-a48a-511f90156da3",
   "metadata": {},
   "outputs": [],
   "source": [
    "X_all = model_input_ds.drop('score', axis=1)\n",
    "y_all = model_input_ds['score']"
   ]
  },
  {
   "cell_type": "code",
   "execution_count": 8,
   "id": "fd8d84b1",
   "metadata": {},
   "outputs": [
    {
     "data": {
      "text/html": [
       "<div>\n",
       "<style scoped>\n",
       "    .dataframe tbody tr th:only-of-type {\n",
       "        vertical-align: middle;\n",
       "    }\n",
       "\n",
       "    .dataframe tbody tr th {\n",
       "        vertical-align: top;\n",
       "    }\n",
       "\n",
       "    .dataframe thead th {\n",
       "        text-align: right;\n",
       "    }\n",
       "</style>\n",
       "<table border=\"1\" class=\"dataframe\">\n",
       "  <thead>\n",
       "    <tr style=\"text-align: right;\">\n",
       "      <th></th>\n",
       "      <th>argentina</th>\n",
       "      <th>bahamas</th>\n",
       "      <th>barbados</th>\n",
       "      <th>belize</th>\n",
       "      <th>bolivia</th>\n",
       "      <th>brazil</th>\n",
       "      <th>canada</th>\n",
       "      <th>chile</th>\n",
       "      <th>colombia</th>\n",
       "      <th>costa_rica</th>\n",
       "      <th>...</th>\n",
       "      <th>peru</th>\n",
       "      <th>saint_lucia</th>\n",
       "      <th>saint_vincent_and_the_grenadines</th>\n",
       "      <th>suriname</th>\n",
       "      <th>trinidad_and_tobago</th>\n",
       "      <th>united_states</th>\n",
       "      <th>uruguay</th>\n",
       "      <th>venezuela</th>\n",
       "      <th>north_america</th>\n",
       "      <th>south_america</th>\n",
       "    </tr>\n",
       "    <tr>\n",
       "      <th>year</th>\n",
       "      <th></th>\n",
       "      <th></th>\n",
       "      <th></th>\n",
       "      <th></th>\n",
       "      <th></th>\n",
       "      <th></th>\n",
       "      <th></th>\n",
       "      <th></th>\n",
       "      <th></th>\n",
       "      <th></th>\n",
       "      <th></th>\n",
       "      <th></th>\n",
       "      <th></th>\n",
       "      <th></th>\n",
       "      <th></th>\n",
       "      <th></th>\n",
       "      <th></th>\n",
       "      <th></th>\n",
       "      <th></th>\n",
       "      <th></th>\n",
       "      <th></th>\n",
       "    </tr>\n",
       "  </thead>\n",
       "  <tbody>\n",
       "    <tr>\n",
       "      <th>2023</th>\n",
       "      <td>1</td>\n",
       "      <td>0</td>\n",
       "      <td>0</td>\n",
       "      <td>0</td>\n",
       "      <td>0</td>\n",
       "      <td>0</td>\n",
       "      <td>0</td>\n",
       "      <td>0</td>\n",
       "      <td>0</td>\n",
       "      <td>0</td>\n",
       "      <td>...</td>\n",
       "      <td>0</td>\n",
       "      <td>0</td>\n",
       "      <td>0</td>\n",
       "      <td>0</td>\n",
       "      <td>0</td>\n",
       "      <td>0</td>\n",
       "      <td>0</td>\n",
       "      <td>0</td>\n",
       "      <td>0</td>\n",
       "      <td>1</td>\n",
       "    </tr>\n",
       "    <tr>\n",
       "      <th>2023</th>\n",
       "      <td>0</td>\n",
       "      <td>0</td>\n",
       "      <td>1</td>\n",
       "      <td>0</td>\n",
       "      <td>0</td>\n",
       "      <td>0</td>\n",
       "      <td>0</td>\n",
       "      <td>0</td>\n",
       "      <td>0</td>\n",
       "      <td>0</td>\n",
       "      <td>...</td>\n",
       "      <td>0</td>\n",
       "      <td>0</td>\n",
       "      <td>0</td>\n",
       "      <td>0</td>\n",
       "      <td>0</td>\n",
       "      <td>0</td>\n",
       "      <td>0</td>\n",
       "      <td>0</td>\n",
       "      <td>1</td>\n",
       "      <td>0</td>\n",
       "    </tr>\n",
       "    <tr>\n",
       "      <th>2023</th>\n",
       "      <td>0</td>\n",
       "      <td>0</td>\n",
       "      <td>0</td>\n",
       "      <td>1</td>\n",
       "      <td>0</td>\n",
       "      <td>0</td>\n",
       "      <td>0</td>\n",
       "      <td>0</td>\n",
       "      <td>0</td>\n",
       "      <td>0</td>\n",
       "      <td>...</td>\n",
       "      <td>0</td>\n",
       "      <td>0</td>\n",
       "      <td>0</td>\n",
       "      <td>0</td>\n",
       "      <td>0</td>\n",
       "      <td>0</td>\n",
       "      <td>0</td>\n",
       "      <td>0</td>\n",
       "      <td>1</td>\n",
       "      <td>0</td>\n",
       "    </tr>\n",
       "    <tr>\n",
       "      <th>2023</th>\n",
       "      <td>0</td>\n",
       "      <td>0</td>\n",
       "      <td>0</td>\n",
       "      <td>0</td>\n",
       "      <td>1</td>\n",
       "      <td>0</td>\n",
       "      <td>0</td>\n",
       "      <td>0</td>\n",
       "      <td>0</td>\n",
       "      <td>0</td>\n",
       "      <td>...</td>\n",
       "      <td>0</td>\n",
       "      <td>0</td>\n",
       "      <td>0</td>\n",
       "      <td>0</td>\n",
       "      <td>0</td>\n",
       "      <td>0</td>\n",
       "      <td>0</td>\n",
       "      <td>0</td>\n",
       "      <td>0</td>\n",
       "      <td>1</td>\n",
       "    </tr>\n",
       "    <tr>\n",
       "      <th>2023</th>\n",
       "      <td>0</td>\n",
       "      <td>0</td>\n",
       "      <td>0</td>\n",
       "      <td>0</td>\n",
       "      <td>0</td>\n",
       "      <td>1</td>\n",
       "      <td>0</td>\n",
       "      <td>0</td>\n",
       "      <td>0</td>\n",
       "      <td>0</td>\n",
       "      <td>...</td>\n",
       "      <td>0</td>\n",
       "      <td>0</td>\n",
       "      <td>0</td>\n",
       "      <td>0</td>\n",
       "      <td>0</td>\n",
       "      <td>0</td>\n",
       "      <td>0</td>\n",
       "      <td>0</td>\n",
       "      <td>0</td>\n",
       "      <td>1</td>\n",
       "    </tr>\n",
       "  </tbody>\n",
       "</table>\n",
       "<p>5 rows × 34 columns</p>\n",
       "</div>"
      ]
     },
     "execution_count": 8,
     "metadata": {},
     "output_type": "execute_result"
    }
   ],
   "source": [
    "X_all.head()"
   ]
  },
  {
   "cell_type": "code",
   "execution_count": 9,
   "id": "393f477c",
   "metadata": {},
   "outputs": [
    {
     "data": {
      "text/html": [
       "<pre style=\"white-space:pre;overflow-x:auto;line-height:normal;font-family:Menlo,'DejaVu Sans Mono',consolas,'Courier New',monospace\">\n",
       "year\n",
       "<span style=\"color: #008080; text-decoration-color: #008080; font-weight: bold\">2023</span>    <span style=\"color: #008080; text-decoration-color: #008080; font-weight: bold\">50.1</span>\n",
       "<span style=\"color: #008080; text-decoration-color: #008080; font-weight: bold\">2023</span>    <span style=\"color: #008080; text-decoration-color: #008080; font-weight: bold\">71.3</span>\n",
       "<span style=\"color: #008080; text-decoration-color: #008080; font-weight: bold\">2023</span>    <span style=\"color: #008080; text-decoration-color: #008080; font-weight: bold\">56.6</span>\n",
       "<span style=\"color: #008080; text-decoration-color: #008080; font-weight: bold\">2023</span>    <span style=\"color: #008080; text-decoration-color: #008080; font-weight: bold\">43.0</span>\n",
       "<span style=\"color: #008080; text-decoration-color: #008080; font-weight: bold\">2023</span>    <span style=\"color: #008080; text-decoration-color: #008080; font-weight: bold\">53.3</span>\n",
       "Name: score, dtype: float64\n",
       "</pre>\n"
      ],
      "text/plain": [
       "\n",
       "year\n",
       "\u001b[1;36m2023\u001b[0m    \u001b[1;36m50.1\u001b[0m\n",
       "\u001b[1;36m2023\u001b[0m    \u001b[1;36m71.3\u001b[0m\n",
       "\u001b[1;36m2023\u001b[0m    \u001b[1;36m56.6\u001b[0m\n",
       "\u001b[1;36m2023\u001b[0m    \u001b[1;36m43.0\u001b[0m\n",
       "\u001b[1;36m2023\u001b[0m    \u001b[1;36m53.3\u001b[0m\n",
       "Name: score, dtype: float64\n"
      ]
     },
     "metadata": {},
     "output_type": "display_data"
    }
   ],
   "source": [
    "y_all.head()"
   ]
  },
  {
   "cell_type": "markdown",
   "id": "dab584e2-a76f-4e3a-988d-030b160d8ce1",
   "metadata": {
    "tags": []
   },
   "source": [
    "### Training and Testing Data Split"
   ]
  },
  {
   "cell_type": "code",
   "execution_count": 10,
   "id": "1c625a12-e549-4094-a745-b7f952f79db1",
   "metadata": {},
   "outputs": [
    {
     "name": "stdout",
     "output_type": "stream",
     "text": [
      "Training set has 723 samples.\n",
      "Testing set has 160 samples.\n"
     ]
    }
   ],
   "source": [
    "X_train = X_all[X_all.index<2019]\n",
    "y_train = y_all[y_all.index<2019]\n",
    "\n",
    "X_test = X_all[X_all.index>=2019]\n",
    "y_test = y_all[y_all.index>=2019]\n",
    "\n",
    "print(\"Training set has {} samples.\".format(X_train.shape[0]))\n",
    "print(\"Testing set has {} samples.\".format(X_test.shape[0]))"
   ]
  },
  {
   "cell_type": "markdown",
   "id": "ff2ec361-ca7c-460a-83cf-1bba4e18f3b5",
   "metadata": {
    "tags": []
   },
   "source": [
    "## Random Forest "
   ]
  },
  {
   "cell_type": "code",
   "execution_count": 11,
   "id": "6675366c-6369-48e6-9a0e-ed82454aa6ee",
   "metadata": {
    "jp-MarkdownHeadingCollapsed": true,
    "tags": []
   },
   "outputs": [],
   "source": [
    "random_forest = RandomForestRegressor(random_state=999)\n",
    "random_forest.fit(X_train, y_train)\n",
    "rf_predicted = random_forest.predict(X_test)"
   ]
  },
  {
   "cell_type": "markdown",
   "id": "6a9ef571",
   "metadata": {},
   "source": [
    "## XGBoost"
   ]
  },
  {
   "cell_type": "code",
   "execution_count": 12,
   "id": "705b4841",
   "metadata": {},
   "outputs": [],
   "source": [
    "# fit the model\n",
    "my_xgb = xgb.XGBRegressor(objective='reg:squarederror', n_estimators=1000)\n",
    "my_xgb.fit(X_train, y_train)\n",
    "\n",
    "# predict on the same period\n",
    "xb_predicted = my_xgb.predict(X_test)"
   ]
  },
  {
   "cell_type": "code",
   "execution_count": 13,
   "id": "0643d1e5",
   "metadata": {},
   "outputs": [
    {
     "data": {
      "text/html": [
       "<pre style=\"white-space:pre;overflow-x:auto;line-height:normal;font-family:Menlo,'DejaVu Sans Mono',consolas,'Courier New',monospace\">\n",
       "<span style=\"color: #800080; text-decoration-color: #800080; font-weight: bold\">array</span><span style=\"font-weight: bold\">([</span><span style=\"color: #008080; text-decoration-color: #008080; font-weight: bold\">57.100132</span>, <span style=\"color: #008080; text-decoration-color: #008080; font-weight: bold\">67.939</span>   , <span style=\"color: #008080; text-decoration-color: #008080; font-weight: bold\">61.6377</span>  , <span style=\"color: #008080; text-decoration-color: #008080; font-weight: bold\">56.558464</span>, <span style=\"color: #008080; text-decoration-color: #008080; font-weight: bold\">57.045918</span>, <span style=\"color: #008080; text-decoration-color: #008080; font-weight: bold\">75.73734</span> ,\n",
       "       <span style=\"color: #008080; text-decoration-color: #008080; font-weight: bold\">76.587364</span>, <span style=\"color: #008080; text-decoration-color: #008080; font-weight: bold\">65.49149</span> , <span style=\"color: #008080; text-decoration-color: #008080; font-weight: bold\">66.53318</span> , <span style=\"color: #008080; text-decoration-color: #008080; font-weight: bold\">30.00015</span> , <span style=\"color: #008080; text-decoration-color: #008080; font-weight: bold\">64.110245</span>, <span style=\"color: #008080; text-decoration-color: #008080; font-weight: bold\">58.575172</span>,\n",
       "       <span style=\"color: #008080; text-decoration-color: #008080; font-weight: bold\">53.612682</span>, <span style=\"color: #008080; text-decoration-color: #008080; font-weight: bold\">69.44567</span> , <span style=\"color: #008080; text-decoration-color: #008080; font-weight: bold\">62.0377</span>  , <span style=\"color: #008080; text-decoration-color: #008080; font-weight: bold\">52.875107</span>, <span style=\"color: #008080; text-decoration-color: #008080; font-weight: bold\">48.7918</span>  , <span style=\"color: #008080; text-decoration-color: #008080; font-weight: bold\">57.775154</span>,\n",
       "       <span style=\"color: #008080; text-decoration-color: #008080; font-weight: bold\">66.191505</span>, <span style=\"color: #008080; text-decoration-color: #008080; font-weight: bold\">63.962643</span>, <span style=\"color: #008080; text-decoration-color: #008080; font-weight: bold\">57.983517</span>, <span style=\"color: #008080; text-decoration-color: #008080; font-weight: bold\">67.179016</span>, <span style=\"color: #008080; text-decoration-color: #008080; font-weight: bold\">61.328976</span>, <span style=\"color: #008080; text-decoration-color: #008080; font-weight: bold\">65.66232</span> ,\n",
       "       <span style=\"color: #008080; text-decoration-color: #008080; font-weight: bold\">69.529724</span>, <span style=\"color: #008080; text-decoration-color: #008080; font-weight: bold\">66.79971</span> , <span style=\"color: #008080; text-decoration-color: #008080; font-weight: bold\">48.87844</span> , <span style=\"color: #008080; text-decoration-color: #008080; font-weight: bold\">70.98734</span> , <span style=\"color: #008080; text-decoration-color: #008080; font-weight: bold\">67.7781</span>  , <span style=\"color: #008080; text-decoration-color: #008080; font-weight: bold\">77.52901</span> ,\n",
       "       <span style=\"color: #008080; text-decoration-color: #008080; font-weight: bold\">68.27484</span> , <span style=\"color: #008080; text-decoration-color: #008080; font-weight: bold\">44.71268</span> , <span style=\"color: #008080; text-decoration-color: #008080; font-weight: bold\">57.100132</span>, <span style=\"color: #008080; text-decoration-color: #008080; font-weight: bold\">67.939</span>   , <span style=\"color: #008080; text-decoration-color: #008080; font-weight: bold\">61.6377</span>  , <span style=\"color: #008080; text-decoration-color: #008080; font-weight: bold\">56.558464</span>,\n",
       "       <span style=\"color: #008080; text-decoration-color: #008080; font-weight: bold\">57.045918</span>, <span style=\"color: #008080; text-decoration-color: #008080; font-weight: bold\">75.73734</span> , <span style=\"color: #008080; text-decoration-color: #008080; font-weight: bold\">76.587364</span>, <span style=\"color: #008080; text-decoration-color: #008080; font-weight: bold\">65.49149</span> , <span style=\"color: #008080; text-decoration-color: #008080; font-weight: bold\">66.53318</span> , <span style=\"color: #008080; text-decoration-color: #008080; font-weight: bold\">30.00015</span> ,\n",
       "       <span style=\"color: #008080; text-decoration-color: #008080; font-weight: bold\">64.110245</span>, <span style=\"color: #008080; text-decoration-color: #008080; font-weight: bold\">58.575172</span>, <span style=\"color: #008080; text-decoration-color: #008080; font-weight: bold\">53.612682</span>, <span style=\"color: #008080; text-decoration-color: #008080; font-weight: bold\">69.44567</span> , <span style=\"color: #008080; text-decoration-color: #008080; font-weight: bold\">62.0377</span>  , <span style=\"color: #008080; text-decoration-color: #008080; font-weight: bold\">52.875107</span>,\n",
       "       <span style=\"color: #008080; text-decoration-color: #008080; font-weight: bold\">48.7918</span>  , <span style=\"color: #008080; text-decoration-color: #008080; font-weight: bold\">57.775154</span>, <span style=\"color: #008080; text-decoration-color: #008080; font-weight: bold\">66.191505</span>, <span style=\"color: #008080; text-decoration-color: #008080; font-weight: bold\">63.962643</span>, <span style=\"color: #008080; text-decoration-color: #008080; font-weight: bold\">57.983517</span>, <span style=\"color: #008080; text-decoration-color: #008080; font-weight: bold\">67.179016</span>,\n",
       "       <span style=\"color: #008080; text-decoration-color: #008080; font-weight: bold\">61.328976</span>, <span style=\"color: #008080; text-decoration-color: #008080; font-weight: bold\">65.66232</span> , <span style=\"color: #008080; text-decoration-color: #008080; font-weight: bold\">69.529724</span>, <span style=\"color: #008080; text-decoration-color: #008080; font-weight: bold\">66.79971</span> , <span style=\"color: #008080; text-decoration-color: #008080; font-weight: bold\">48.87844</span> , <span style=\"color: #008080; text-decoration-color: #008080; font-weight: bold\">70.98734</span> ,\n",
       "       <span style=\"color: #008080; text-decoration-color: #008080; font-weight: bold\">67.7781</span>  , <span style=\"color: #008080; text-decoration-color: #008080; font-weight: bold\">77.52901</span> , <span style=\"color: #008080; text-decoration-color: #008080; font-weight: bold\">68.27484</span> , <span style=\"color: #008080; text-decoration-color: #008080; font-weight: bold\">44.71268</span> , <span style=\"color: #008080; text-decoration-color: #008080; font-weight: bold\">57.100132</span>, <span style=\"color: #008080; text-decoration-color: #008080; font-weight: bold\">67.939</span>   ,\n",
       "       <span style=\"color: #008080; text-decoration-color: #008080; font-weight: bold\">61.6377</span>  , <span style=\"color: #008080; text-decoration-color: #008080; font-weight: bold\">56.558464</span>, <span style=\"color: #008080; text-decoration-color: #008080; font-weight: bold\">57.045918</span>, <span style=\"color: #008080; text-decoration-color: #008080; font-weight: bold\">75.73734</span> , <span style=\"color: #008080; text-decoration-color: #008080; font-weight: bold\">76.587364</span>, <span style=\"color: #008080; text-decoration-color: #008080; font-weight: bold\">65.49149</span> ,\n",
       "       <span style=\"color: #008080; text-decoration-color: #008080; font-weight: bold\">66.53318</span> , <span style=\"color: #008080; text-decoration-color: #008080; font-weight: bold\">30.00015</span> , <span style=\"color: #008080; text-decoration-color: #008080; font-weight: bold\">64.110245</span>, <span style=\"color: #008080; text-decoration-color: #008080; font-weight: bold\">58.575172</span>, <span style=\"color: #008080; text-decoration-color: #008080; font-weight: bold\">53.612682</span>, <span style=\"color: #008080; text-decoration-color: #008080; font-weight: bold\">69.44567</span> ,\n",
       "       <span style=\"color: #008080; text-decoration-color: #008080; font-weight: bold\">62.0377</span>  , <span style=\"color: #008080; text-decoration-color: #008080; font-weight: bold\">52.875107</span>, <span style=\"color: #008080; text-decoration-color: #008080; font-weight: bold\">48.7918</span>  , <span style=\"color: #008080; text-decoration-color: #008080; font-weight: bold\">57.775154</span>, <span style=\"color: #008080; text-decoration-color: #008080; font-weight: bold\">66.191505</span>, <span style=\"color: #008080; text-decoration-color: #008080; font-weight: bold\">63.962643</span>,\n",
       "       <span style=\"color: #008080; text-decoration-color: #008080; font-weight: bold\">57.983517</span>, <span style=\"color: #008080; text-decoration-color: #008080; font-weight: bold\">67.179016</span>, <span style=\"color: #008080; text-decoration-color: #008080; font-weight: bold\">61.328976</span>, <span style=\"color: #008080; text-decoration-color: #008080; font-weight: bold\">65.66232</span> , <span style=\"color: #008080; text-decoration-color: #008080; font-weight: bold\">69.529724</span>, <span style=\"color: #008080; text-decoration-color: #008080; font-weight: bold\">66.79971</span> ,\n",
       "       <span style=\"color: #008080; text-decoration-color: #008080; font-weight: bold\">48.87844</span> , <span style=\"color: #008080; text-decoration-color: #008080; font-weight: bold\">70.98734</span> , <span style=\"color: #008080; text-decoration-color: #008080; font-weight: bold\">67.7781</span>  , <span style=\"color: #008080; text-decoration-color: #008080; font-weight: bold\">77.52901</span> , <span style=\"color: #008080; text-decoration-color: #008080; font-weight: bold\">68.27484</span> , <span style=\"color: #008080; text-decoration-color: #008080; font-weight: bold\">44.71268</span> ,\n",
       "       <span style=\"color: #008080; text-decoration-color: #008080; font-weight: bold\">57.100132</span>, <span style=\"color: #008080; text-decoration-color: #008080; font-weight: bold\">67.939</span>   , <span style=\"color: #008080; text-decoration-color: #008080; font-weight: bold\">61.6377</span>  , <span style=\"color: #008080; text-decoration-color: #008080; font-weight: bold\">56.558464</span>, <span style=\"color: #008080; text-decoration-color: #008080; font-weight: bold\">57.045918</span>, <span style=\"color: #008080; text-decoration-color: #008080; font-weight: bold\">75.73734</span> ,\n",
       "       <span style=\"color: #008080; text-decoration-color: #008080; font-weight: bold\">76.587364</span>, <span style=\"color: #008080; text-decoration-color: #008080; font-weight: bold\">65.49149</span> , <span style=\"color: #008080; text-decoration-color: #008080; font-weight: bold\">66.53318</span> , <span style=\"color: #008080; text-decoration-color: #008080; font-weight: bold\">30.00015</span> , <span style=\"color: #008080; text-decoration-color: #008080; font-weight: bold\">64.110245</span>, <span style=\"color: #008080; text-decoration-color: #008080; font-weight: bold\">58.575172</span>,\n",
       "       <span style=\"color: #008080; text-decoration-color: #008080; font-weight: bold\">53.612682</span>, <span style=\"color: #008080; text-decoration-color: #008080; font-weight: bold\">69.44567</span> , <span style=\"color: #008080; text-decoration-color: #008080; font-weight: bold\">62.0377</span>  , <span style=\"color: #008080; text-decoration-color: #008080; font-weight: bold\">52.875107</span>, <span style=\"color: #008080; text-decoration-color: #008080; font-weight: bold\">48.7918</span>  , <span style=\"color: #008080; text-decoration-color: #008080; font-weight: bold\">57.775154</span>,\n",
       "       <span style=\"color: #008080; text-decoration-color: #008080; font-weight: bold\">66.191505</span>, <span style=\"color: #008080; text-decoration-color: #008080; font-weight: bold\">63.962643</span>, <span style=\"color: #008080; text-decoration-color: #008080; font-weight: bold\">57.983517</span>, <span style=\"color: #008080; text-decoration-color: #008080; font-weight: bold\">67.179016</span>, <span style=\"color: #008080; text-decoration-color: #008080; font-weight: bold\">61.328976</span>, <span style=\"color: #008080; text-decoration-color: #008080; font-weight: bold\">65.66232</span> ,\n",
       "       <span style=\"color: #008080; text-decoration-color: #008080; font-weight: bold\">69.529724</span>, <span style=\"color: #008080; text-decoration-color: #008080; font-weight: bold\">66.79971</span> , <span style=\"color: #008080; text-decoration-color: #008080; font-weight: bold\">48.87844</span> , <span style=\"color: #008080; text-decoration-color: #008080; font-weight: bold\">70.98734</span> , <span style=\"color: #008080; text-decoration-color: #008080; font-weight: bold\">67.7781</span>  , <span style=\"color: #008080; text-decoration-color: #008080; font-weight: bold\">77.52901</span> ,\n",
       "       <span style=\"color: #008080; text-decoration-color: #008080; font-weight: bold\">68.27484</span> , <span style=\"color: #008080; text-decoration-color: #008080; font-weight: bold\">44.71268</span> , <span style=\"color: #008080; text-decoration-color: #008080; font-weight: bold\">57.100132</span>, <span style=\"color: #008080; text-decoration-color: #008080; font-weight: bold\">67.939</span>   , <span style=\"color: #008080; text-decoration-color: #008080; font-weight: bold\">61.6377</span>  , <span style=\"color: #008080; text-decoration-color: #008080; font-weight: bold\">56.558464</span>,\n",
       "       <span style=\"color: #008080; text-decoration-color: #008080; font-weight: bold\">57.045918</span>, <span style=\"color: #008080; text-decoration-color: #008080; font-weight: bold\">75.73734</span> , <span style=\"color: #008080; text-decoration-color: #008080; font-weight: bold\">76.587364</span>, <span style=\"color: #008080; text-decoration-color: #008080; font-weight: bold\">65.49149</span> , <span style=\"color: #008080; text-decoration-color: #008080; font-weight: bold\">66.53318</span> , <span style=\"color: #008080; text-decoration-color: #008080; font-weight: bold\">30.00015</span> ,\n",
       "       <span style=\"color: #008080; text-decoration-color: #008080; font-weight: bold\">64.110245</span>, <span style=\"color: #008080; text-decoration-color: #008080; font-weight: bold\">58.575172</span>, <span style=\"color: #008080; text-decoration-color: #008080; font-weight: bold\">53.612682</span>, <span style=\"color: #008080; text-decoration-color: #008080; font-weight: bold\">69.44567</span> , <span style=\"color: #008080; text-decoration-color: #008080; font-weight: bold\">62.0377</span>  , <span style=\"color: #008080; text-decoration-color: #008080; font-weight: bold\">52.875107</span>,\n",
       "       <span style=\"color: #008080; text-decoration-color: #008080; font-weight: bold\">48.7918</span>  , <span style=\"color: #008080; text-decoration-color: #008080; font-weight: bold\">57.775154</span>, <span style=\"color: #008080; text-decoration-color: #008080; font-weight: bold\">66.191505</span>, <span style=\"color: #008080; text-decoration-color: #008080; font-weight: bold\">63.962643</span>, <span style=\"color: #008080; text-decoration-color: #008080; font-weight: bold\">57.983517</span>, <span style=\"color: #008080; text-decoration-color: #008080; font-weight: bold\">67.179016</span>,\n",
       "       <span style=\"color: #008080; text-decoration-color: #008080; font-weight: bold\">61.328976</span>, <span style=\"color: #008080; text-decoration-color: #008080; font-weight: bold\">65.66232</span> , <span style=\"color: #008080; text-decoration-color: #008080; font-weight: bold\">69.529724</span>, <span style=\"color: #008080; text-decoration-color: #008080; font-weight: bold\">66.79971</span> , <span style=\"color: #008080; text-decoration-color: #008080; font-weight: bold\">48.87844</span> , <span style=\"color: #008080; text-decoration-color: #008080; font-weight: bold\">70.98734</span> ,\n",
       "       <span style=\"color: #008080; text-decoration-color: #008080; font-weight: bold\">67.7781</span>  , <span style=\"color: #008080; text-decoration-color: #008080; font-weight: bold\">77.52901</span> , <span style=\"color: #008080; text-decoration-color: #008080; font-weight: bold\">68.27484</span> , <span style=\"color: #008080; text-decoration-color: #008080; font-weight: bold\">44.71268</span> <span style=\"font-weight: bold\">]</span>, <span style=\"color: #808000; text-decoration-color: #808000\">dtype</span>=<span style=\"color: #800080; text-decoration-color: #800080\">float32</span><span style=\"font-weight: bold\">)</span>\n",
       "</pre>\n"
      ],
      "text/plain": [
       "\n",
       "\u001b[1;35marray\u001b[0m\u001b[1m(\u001b[0m\u001b[1m[\u001b[0m\u001b[1;36m57.100132\u001b[0m, \u001b[1;36m67.939\u001b[0m   , \u001b[1;36m61.6377\u001b[0m  , \u001b[1;36m56.558464\u001b[0m, \u001b[1;36m57.045918\u001b[0m, \u001b[1;36m75.73734\u001b[0m ,\n",
       "       \u001b[1;36m76.587364\u001b[0m, \u001b[1;36m65.49149\u001b[0m , \u001b[1;36m66.53318\u001b[0m , \u001b[1;36m30.00015\u001b[0m , \u001b[1;36m64.110245\u001b[0m, \u001b[1;36m58.575172\u001b[0m,\n",
       "       \u001b[1;36m53.612682\u001b[0m, \u001b[1;36m69.44567\u001b[0m , \u001b[1;36m62.0377\u001b[0m  , \u001b[1;36m52.875107\u001b[0m, \u001b[1;36m48.7918\u001b[0m  , \u001b[1;36m57.775154\u001b[0m,\n",
       "       \u001b[1;36m66.191505\u001b[0m, \u001b[1;36m63.962643\u001b[0m, \u001b[1;36m57.983517\u001b[0m, \u001b[1;36m67.179016\u001b[0m, \u001b[1;36m61.328976\u001b[0m, \u001b[1;36m65.66232\u001b[0m ,\n",
       "       \u001b[1;36m69.529724\u001b[0m, \u001b[1;36m66.79971\u001b[0m , \u001b[1;36m48.87844\u001b[0m , \u001b[1;36m70.98734\u001b[0m , \u001b[1;36m67.7781\u001b[0m  , \u001b[1;36m77.52901\u001b[0m ,\n",
       "       \u001b[1;36m68.27484\u001b[0m , \u001b[1;36m44.71268\u001b[0m , \u001b[1;36m57.100132\u001b[0m, \u001b[1;36m67.939\u001b[0m   , \u001b[1;36m61.6377\u001b[0m  , \u001b[1;36m56.558464\u001b[0m,\n",
       "       \u001b[1;36m57.045918\u001b[0m, \u001b[1;36m75.73734\u001b[0m , \u001b[1;36m76.587364\u001b[0m, \u001b[1;36m65.49149\u001b[0m , \u001b[1;36m66.53318\u001b[0m , \u001b[1;36m30.00015\u001b[0m ,\n",
       "       \u001b[1;36m64.110245\u001b[0m, \u001b[1;36m58.575172\u001b[0m, \u001b[1;36m53.612682\u001b[0m, \u001b[1;36m69.44567\u001b[0m , \u001b[1;36m62.0377\u001b[0m  , \u001b[1;36m52.875107\u001b[0m,\n",
       "       \u001b[1;36m48.7918\u001b[0m  , \u001b[1;36m57.775154\u001b[0m, \u001b[1;36m66.191505\u001b[0m, \u001b[1;36m63.962643\u001b[0m, \u001b[1;36m57.983517\u001b[0m, \u001b[1;36m67.179016\u001b[0m,\n",
       "       \u001b[1;36m61.328976\u001b[0m, \u001b[1;36m65.66232\u001b[0m , \u001b[1;36m69.529724\u001b[0m, \u001b[1;36m66.79971\u001b[0m , \u001b[1;36m48.87844\u001b[0m , \u001b[1;36m70.98734\u001b[0m ,\n",
       "       \u001b[1;36m67.7781\u001b[0m  , \u001b[1;36m77.52901\u001b[0m , \u001b[1;36m68.27484\u001b[0m , \u001b[1;36m44.71268\u001b[0m , \u001b[1;36m57.100132\u001b[0m, \u001b[1;36m67.939\u001b[0m   ,\n",
       "       \u001b[1;36m61.6377\u001b[0m  , \u001b[1;36m56.558464\u001b[0m, \u001b[1;36m57.045918\u001b[0m, \u001b[1;36m75.73734\u001b[0m , \u001b[1;36m76.587364\u001b[0m, \u001b[1;36m65.49149\u001b[0m ,\n",
       "       \u001b[1;36m66.53318\u001b[0m , \u001b[1;36m30.00015\u001b[0m , \u001b[1;36m64.110245\u001b[0m, \u001b[1;36m58.575172\u001b[0m, \u001b[1;36m53.612682\u001b[0m, \u001b[1;36m69.44567\u001b[0m ,\n",
       "       \u001b[1;36m62.0377\u001b[0m  , \u001b[1;36m52.875107\u001b[0m, \u001b[1;36m48.7918\u001b[0m  , \u001b[1;36m57.775154\u001b[0m, \u001b[1;36m66.191505\u001b[0m, \u001b[1;36m63.962643\u001b[0m,\n",
       "       \u001b[1;36m57.983517\u001b[0m, \u001b[1;36m67.179016\u001b[0m, \u001b[1;36m61.328976\u001b[0m, \u001b[1;36m65.66232\u001b[0m , \u001b[1;36m69.529724\u001b[0m, \u001b[1;36m66.79971\u001b[0m ,\n",
       "       \u001b[1;36m48.87844\u001b[0m , \u001b[1;36m70.98734\u001b[0m , \u001b[1;36m67.7781\u001b[0m  , \u001b[1;36m77.52901\u001b[0m , \u001b[1;36m68.27484\u001b[0m , \u001b[1;36m44.71268\u001b[0m ,\n",
       "       \u001b[1;36m57.100132\u001b[0m, \u001b[1;36m67.939\u001b[0m   , \u001b[1;36m61.6377\u001b[0m  , \u001b[1;36m56.558464\u001b[0m, \u001b[1;36m57.045918\u001b[0m, \u001b[1;36m75.73734\u001b[0m ,\n",
       "       \u001b[1;36m76.587364\u001b[0m, \u001b[1;36m65.49149\u001b[0m , \u001b[1;36m66.53318\u001b[0m , \u001b[1;36m30.00015\u001b[0m , \u001b[1;36m64.110245\u001b[0m, \u001b[1;36m58.575172\u001b[0m,\n",
       "       \u001b[1;36m53.612682\u001b[0m, \u001b[1;36m69.44567\u001b[0m , \u001b[1;36m62.0377\u001b[0m  , \u001b[1;36m52.875107\u001b[0m, \u001b[1;36m48.7918\u001b[0m  , \u001b[1;36m57.775154\u001b[0m,\n",
       "       \u001b[1;36m66.191505\u001b[0m, \u001b[1;36m63.962643\u001b[0m, \u001b[1;36m57.983517\u001b[0m, \u001b[1;36m67.179016\u001b[0m, \u001b[1;36m61.328976\u001b[0m, \u001b[1;36m65.66232\u001b[0m ,\n",
       "       \u001b[1;36m69.529724\u001b[0m, \u001b[1;36m66.79971\u001b[0m , \u001b[1;36m48.87844\u001b[0m , \u001b[1;36m70.98734\u001b[0m , \u001b[1;36m67.7781\u001b[0m  , \u001b[1;36m77.52901\u001b[0m ,\n",
       "       \u001b[1;36m68.27484\u001b[0m , \u001b[1;36m44.71268\u001b[0m , \u001b[1;36m57.100132\u001b[0m, \u001b[1;36m67.939\u001b[0m   , \u001b[1;36m61.6377\u001b[0m  , \u001b[1;36m56.558464\u001b[0m,\n",
       "       \u001b[1;36m57.045918\u001b[0m, \u001b[1;36m75.73734\u001b[0m , \u001b[1;36m76.587364\u001b[0m, \u001b[1;36m65.49149\u001b[0m , \u001b[1;36m66.53318\u001b[0m , \u001b[1;36m30.00015\u001b[0m ,\n",
       "       \u001b[1;36m64.110245\u001b[0m, \u001b[1;36m58.575172\u001b[0m, \u001b[1;36m53.612682\u001b[0m, \u001b[1;36m69.44567\u001b[0m , \u001b[1;36m62.0377\u001b[0m  , \u001b[1;36m52.875107\u001b[0m,\n",
       "       \u001b[1;36m48.7918\u001b[0m  , \u001b[1;36m57.775154\u001b[0m, \u001b[1;36m66.191505\u001b[0m, \u001b[1;36m63.962643\u001b[0m, \u001b[1;36m57.983517\u001b[0m, \u001b[1;36m67.179016\u001b[0m,\n",
       "       \u001b[1;36m61.328976\u001b[0m, \u001b[1;36m65.66232\u001b[0m , \u001b[1;36m69.529724\u001b[0m, \u001b[1;36m66.79971\u001b[0m , \u001b[1;36m48.87844\u001b[0m , \u001b[1;36m70.98734\u001b[0m ,\n",
       "       \u001b[1;36m67.7781\u001b[0m  , \u001b[1;36m77.52901\u001b[0m , \u001b[1;36m68.27484\u001b[0m , \u001b[1;36m44.71268\u001b[0m \u001b[1m]\u001b[0m, \u001b[33mdtype\u001b[0m=\u001b[35mfloat32\u001b[0m\u001b[1m)\u001b[0m\n"
      ]
     },
     "metadata": {},
     "output_type": "display_data"
    }
   ],
   "source": [
    "xb_predicted"
   ]
  },
  {
   "cell_type": "markdown",
   "id": "78029e06",
   "metadata": {},
   "source": [
    "# Prophet"
   ]
  },
  {
   "cell_type": "markdown",
   "id": "858d9b4f",
   "metadata": {
    "tags": []
   },
   "source": [
    "## Checking Info"
   ]
  },
  {
   "cell_type": "code",
   "execution_count": 14,
   "id": "b128cb75",
   "metadata": {},
   "outputs": [
    {
     "data": {
      "text/html": [
       "<pre style=\"white-space:pre;overflow-x:auto;line-height:normal;font-family:Menlo,'DejaVu Sans Mono',consolas,'Courier New',monospace\"><span style=\"color: #7fbfbf; text-decoration-color: #7fbfbf\">[05/20/23 18:37:02] </span><span style=\"color: #000080; text-decoration-color: #000080\">INFO    </span> Loading data from <span style=\"color: #008000; text-decoration-color: #008000\">'preprocess_data'</span> <span style=\"font-weight: bold\">(</span>CSVDataSet<span style=\"font-weight: bold\">)</span><span style=\"color: #808000; text-decoration-color: #808000\">...</span>                <a href=\"file:///home/work/Documents/repo/economic_freedom_ml/.venv/lib/python3.8/site-packages/kedro/io/data_catalog.py\" target=\"_blank\"><span style=\"color: #7f7f7f; text-decoration-color: #7f7f7f\">data_catalog.py</span></a><span style=\"color: #7f7f7f; text-decoration-color: #7f7f7f\">:</span><a href=\"file:///home/work/Documents/repo/economic_freedom_ml/.venv/lib/python3.8/site-packages/kedro/io/data_catalog.py#343\" target=\"_blank\"><span style=\"color: #7f7f7f; text-decoration-color: #7f7f7f\">343</span></a>\n",
       "</pre>\n"
      ],
      "text/plain": [
       "\u001b[2;36m[05/20/23 18:37:02]\u001b[0m\u001b[2;36m \u001b[0m\u001b[34mINFO    \u001b[0m Loading data from \u001b[32m'preprocess_data'\u001b[0m \u001b[1m(\u001b[0mCSVDataSet\u001b[1m)\u001b[0m\u001b[33m...\u001b[0m                \u001b]8;id=401484;file:///home/work/Documents/repo/economic_freedom_ml/.venv/lib/python3.8/site-packages/kedro/io/data_catalog.py\u001b\\\u001b[2mdata_catalog.py\u001b[0m\u001b]8;;\u001b\\\u001b[2m:\u001b[0m\u001b]8;id=375193;file:///home/work/Documents/repo/economic_freedom_ml/.venv/lib/python3.8/site-packages/kedro/io/data_catalog.py#343\u001b\\\u001b[2m343\u001b[0m\u001b]8;;\u001b\\\n"
      ]
     },
     "metadata": {},
     "output_type": "display_data"
    }
   ],
   "source": [
    "model_input_prophet = catalog.load(\"preprocess_data\")"
   ]
  },
  {
   "cell_type": "code",
   "execution_count": 15,
   "id": "1d91740f",
   "metadata": {},
   "outputs": [
    {
     "data": {
      "text/html": [
       "<div>\n",
       "<style scoped>\n",
       "    .dataframe tbody tr th:only-of-type {\n",
       "        vertical-align: middle;\n",
       "    }\n",
       "\n",
       "    .dataframe tbody tr th {\n",
       "        vertical-align: top;\n",
       "    }\n",
       "\n",
       "    .dataframe thead th {\n",
       "        text-align: right;\n",
       "    }\n",
       "</style>\n",
       "<table border=\"1\" class=\"dataframe\">\n",
       "  <thead>\n",
       "    <tr style=\"text-align: right;\">\n",
       "      <th></th>\n",
       "      <th>country</th>\n",
       "      <th>year</th>\n",
       "      <th>score</th>\n",
       "      <th>property_right</th>\n",
       "      <th>government_integrity</th>\n",
       "      <th>tax_burden</th>\n",
       "      <th>government_spending</th>\n",
       "      <th>business_freedom</th>\n",
       "      <th>labor_freedom</th>\n",
       "      <th>monetary_freedom</th>\n",
       "      <th>trade_freedom</th>\n",
       "      <th>investment_freedom</th>\n",
       "      <th>financial_freedom</th>\n",
       "    </tr>\n",
       "  </thead>\n",
       "  <tbody>\n",
       "    <tr>\n",
       "      <th>0</th>\n",
       "      <td>argentina</td>\n",
       "      <td>2023</td>\n",
       "      <td>50.1</td>\n",
       "      <td>35.1</td>\n",
       "      <td>45.1</td>\n",
       "      <td>73.3</td>\n",
       "      <td>53.0</td>\n",
       "      <td>55.1</td>\n",
       "      <td>51.0</td>\n",
       "      <td>37.9</td>\n",
       "      <td>60.6</td>\n",
       "      <td>55.0</td>\n",
       "      <td>60.0</td>\n",
       "    </tr>\n",
       "    <tr>\n",
       "      <th>1</th>\n",
       "      <td>barbados</td>\n",
       "      <td>2023</td>\n",
       "      <td>71.3</td>\n",
       "      <td>72.6</td>\n",
       "      <td>68.7</td>\n",
       "      <td>80.6</td>\n",
       "      <td>70.8</td>\n",
       "      <td>64.7</td>\n",
       "      <td>63.4</td>\n",
       "      <td>78.6</td>\n",
       "      <td>58.4</td>\n",
       "      <td>70.0</td>\n",
       "      <td>60.0</td>\n",
       "    </tr>\n",
       "    <tr>\n",
       "      <th>2</th>\n",
       "      <td>belize</td>\n",
       "      <td>2023</td>\n",
       "      <td>56.6</td>\n",
       "      <td>34.7</td>\n",
       "      <td>38.1</td>\n",
       "      <td>77.0</td>\n",
       "      <td>64.1</td>\n",
       "      <td>54.0</td>\n",
       "      <td>59.9</td>\n",
       "      <td>82.5</td>\n",
       "      <td>55.6</td>\n",
       "      <td>55.0</td>\n",
       "      <td>50.0</td>\n",
       "    </tr>\n",
       "    <tr>\n",
       "      <th>3</th>\n",
       "      <td>bolivia</td>\n",
       "      <td>2023</td>\n",
       "      <td>43.0</td>\n",
       "      <td>14.1</td>\n",
       "      <td>28.7</td>\n",
       "      <td>86.0</td>\n",
       "      <td>58.8</td>\n",
       "      <td>54.7</td>\n",
       "      <td>46.2</td>\n",
       "      <td>72.8</td>\n",
       "      <td>60.8</td>\n",
       "      <td>15.0</td>\n",
       "      <td>40.0</td>\n",
       "    </tr>\n",
       "    <tr>\n",
       "      <th>4</th>\n",
       "      <td>brazil</td>\n",
       "      <td>2023</td>\n",
       "      <td>53.3</td>\n",
       "      <td>50.3</td>\n",
       "      <td>40.0</td>\n",
       "      <td>69.9</td>\n",
       "      <td>53.8</td>\n",
       "      <td>63.2</td>\n",
       "      <td>55.9</td>\n",
       "      <td>78.4</td>\n",
       "      <td>60.0</td>\n",
       "      <td>60.0</td>\n",
       "      <td>50.0</td>\n",
       "    </tr>\n",
       "  </tbody>\n",
       "</table>\n",
       "</div>"
      ]
     },
     "execution_count": 15,
     "metadata": {},
     "output_type": "execute_result"
    }
   ],
   "source": [
    "model_input_prophet.head()"
   ]
  },
  {
   "cell_type": "code",
   "execution_count": 16,
   "id": "afdfa0ac",
   "metadata": {},
   "outputs": [
    {
     "name": "stdout",
     "output_type": "stream",
     "text": [
      "(                  column    dtype  missing_percent  count  n_unique\n",
      "0                country   object              0.0    883        32\n",
      "1                   year    int64              0.0    883        29\n",
      "2                  score  float64              0.0    883       344\n",
      "3         property_right  float64              0.0    883       165\n",
      "4   government_integrity  float64              0.0    883       229\n",
      "5             tax_burden  float64              0.0    883       309\n",
      "6    government_spending  float64              0.0    883       390\n",
      "7       business_freedom  float64              0.0    883       325\n",
      "8          labor_freedom  float64              0.0    883       354\n",
      "9       monetary_freedom  float64              0.0    883       332\n",
      "10         trade_freedom  float64              0.0    883       246\n",
      "11    investment_freedom  float64              0.0    883        19\n",
      "12     financial_freedom  float64              0.0    883         9,)\n"
     ]
    }
   ],
   "source": [
    "model_input_info = pd.DataFrame({'column': model_input_prophet.columns,  \n",
    "                             'dtype': model_input_prophet.dtypes,\n",
    "                             'missing_percent': model_input_prophet.isna().sum()/model_input_prophet.shape[0],\n",
    "                             'count': model_input_prophet.count(),\n",
    "                             'n_unique': model_input_prophet.nunique()}).reset_index().drop('index', axis=1).round(decimals = 3),  \n",
    "print(model_input_info)"
   ]
  },
  {
   "cell_type": "markdown",
   "id": "b7f748fb",
   "metadata": {},
   "source": [
    "### Separating the data into feature data and target data \n",
    "### (X_all and y_all, respectively)"
   ]
  },
  {
   "cell_type": "code",
   "execution_count": 17,
   "id": "bae8508b",
   "metadata": {},
   "outputs": [],
   "source": [
    "model_input_prophet[\"year\"] = (model_input_prophet[\"year\"].map(str)+ \"-12-31\")"
   ]
  },
  {
   "cell_type": "code",
   "execution_count": 18,
   "id": "876f39a7",
   "metadata": {},
   "outputs": [],
   "source": [
    "model_input_prophet[\"year\"] = pd.to_datetime(model_input_prophet[\"year\"])\n"
   ]
  },
  {
   "cell_type": "code",
   "execution_count": 19,
   "id": "e6182d92",
   "metadata": {},
   "outputs": [
    {
     "data": {
      "text/html": [
       "<div>\n",
       "<style scoped>\n",
       "    .dataframe tbody tr th:only-of-type {\n",
       "        vertical-align: middle;\n",
       "    }\n",
       "\n",
       "    .dataframe tbody tr th {\n",
       "        vertical-align: top;\n",
       "    }\n",
       "\n",
       "    .dataframe thead th {\n",
       "        text-align: right;\n",
       "    }\n",
       "</style>\n",
       "<table border=\"1\" class=\"dataframe\">\n",
       "  <thead>\n",
       "    <tr style=\"text-align: right;\">\n",
       "      <th></th>\n",
       "      <th>country</th>\n",
       "      <th>year</th>\n",
       "      <th>score</th>\n",
       "      <th>property_right</th>\n",
       "      <th>government_integrity</th>\n",
       "      <th>tax_burden</th>\n",
       "      <th>government_spending</th>\n",
       "      <th>business_freedom</th>\n",
       "      <th>labor_freedom</th>\n",
       "      <th>monetary_freedom</th>\n",
       "      <th>trade_freedom</th>\n",
       "      <th>investment_freedom</th>\n",
       "      <th>financial_freedom</th>\n",
       "    </tr>\n",
       "  </thead>\n",
       "  <tbody>\n",
       "    <tr>\n",
       "      <th>0</th>\n",
       "      <td>argentina</td>\n",
       "      <td>2023-12-31</td>\n",
       "      <td>50.1</td>\n",
       "      <td>35.1</td>\n",
       "      <td>45.1</td>\n",
       "      <td>73.3</td>\n",
       "      <td>53.0</td>\n",
       "      <td>55.1</td>\n",
       "      <td>51.0</td>\n",
       "      <td>37.9</td>\n",
       "      <td>60.6</td>\n",
       "      <td>55.0</td>\n",
       "      <td>60.0</td>\n",
       "    </tr>\n",
       "    <tr>\n",
       "      <th>1</th>\n",
       "      <td>barbados</td>\n",
       "      <td>2023-12-31</td>\n",
       "      <td>71.3</td>\n",
       "      <td>72.6</td>\n",
       "      <td>68.7</td>\n",
       "      <td>80.6</td>\n",
       "      <td>70.8</td>\n",
       "      <td>64.7</td>\n",
       "      <td>63.4</td>\n",
       "      <td>78.6</td>\n",
       "      <td>58.4</td>\n",
       "      <td>70.0</td>\n",
       "      <td>60.0</td>\n",
       "    </tr>\n",
       "    <tr>\n",
       "      <th>2</th>\n",
       "      <td>belize</td>\n",
       "      <td>2023-12-31</td>\n",
       "      <td>56.6</td>\n",
       "      <td>34.7</td>\n",
       "      <td>38.1</td>\n",
       "      <td>77.0</td>\n",
       "      <td>64.1</td>\n",
       "      <td>54.0</td>\n",
       "      <td>59.9</td>\n",
       "      <td>82.5</td>\n",
       "      <td>55.6</td>\n",
       "      <td>55.0</td>\n",
       "      <td>50.0</td>\n",
       "    </tr>\n",
       "    <tr>\n",
       "      <th>3</th>\n",
       "      <td>bolivia</td>\n",
       "      <td>2023-12-31</td>\n",
       "      <td>43.0</td>\n",
       "      <td>14.1</td>\n",
       "      <td>28.7</td>\n",
       "      <td>86.0</td>\n",
       "      <td>58.8</td>\n",
       "      <td>54.7</td>\n",
       "      <td>46.2</td>\n",
       "      <td>72.8</td>\n",
       "      <td>60.8</td>\n",
       "      <td>15.0</td>\n",
       "      <td>40.0</td>\n",
       "    </tr>\n",
       "    <tr>\n",
       "      <th>4</th>\n",
       "      <td>brazil</td>\n",
       "      <td>2023-12-31</td>\n",
       "      <td>53.3</td>\n",
       "      <td>50.3</td>\n",
       "      <td>40.0</td>\n",
       "      <td>69.9</td>\n",
       "      <td>53.8</td>\n",
       "      <td>63.2</td>\n",
       "      <td>55.9</td>\n",
       "      <td>78.4</td>\n",
       "      <td>60.0</td>\n",
       "      <td>60.0</td>\n",
       "      <td>50.0</td>\n",
       "    </tr>\n",
       "  </tbody>\n",
       "</table>\n",
       "</div>"
      ]
     },
     "execution_count": 19,
     "metadata": {},
     "output_type": "execute_result"
    }
   ],
   "source": [
    "model_input_prophet.head()"
   ]
  },
  {
   "cell_type": "code",
   "execution_count": 20,
   "id": "c01d8bc4",
   "metadata": {},
   "outputs": [],
   "source": [
    "y_all_prophet = model_input_prophet[['year','score','country']]\n",
    "y_all_prophet = y_all_prophet.rename({'year': 'ds', 'score':'y'},axis=1)"
   ]
  },
  {
   "cell_type": "code",
   "execution_count": 21,
   "id": "61aa350b",
   "metadata": {},
   "outputs": [
    {
     "data": {
      "text/html": [
       "<div>\n",
       "<style scoped>\n",
       "    .dataframe tbody tr th:only-of-type {\n",
       "        vertical-align: middle;\n",
       "    }\n",
       "\n",
       "    .dataframe tbody tr th {\n",
       "        vertical-align: top;\n",
       "    }\n",
       "\n",
       "    .dataframe thead th {\n",
       "        text-align: right;\n",
       "    }\n",
       "</style>\n",
       "<table border=\"1\" class=\"dataframe\">\n",
       "  <thead>\n",
       "    <tr style=\"text-align: right;\">\n",
       "      <th></th>\n",
       "      <th>ds</th>\n",
       "      <th>y</th>\n",
       "      <th>country</th>\n",
       "    </tr>\n",
       "  </thead>\n",
       "  <tbody>\n",
       "    <tr>\n",
       "      <th>0</th>\n",
       "      <td>2023-12-31</td>\n",
       "      <td>50.1</td>\n",
       "      <td>argentina</td>\n",
       "    </tr>\n",
       "    <tr>\n",
       "      <th>1</th>\n",
       "      <td>2023-12-31</td>\n",
       "      <td>71.3</td>\n",
       "      <td>barbados</td>\n",
       "    </tr>\n",
       "    <tr>\n",
       "      <th>2</th>\n",
       "      <td>2023-12-31</td>\n",
       "      <td>56.6</td>\n",
       "      <td>belize</td>\n",
       "    </tr>\n",
       "    <tr>\n",
       "      <th>3</th>\n",
       "      <td>2023-12-31</td>\n",
       "      <td>43.0</td>\n",
       "      <td>bolivia</td>\n",
       "    </tr>\n",
       "    <tr>\n",
       "      <th>4</th>\n",
       "      <td>2023-12-31</td>\n",
       "      <td>53.3</td>\n",
       "      <td>brazil</td>\n",
       "    </tr>\n",
       "  </tbody>\n",
       "</table>\n",
       "</div>"
      ]
     },
     "execution_count": 21,
     "metadata": {},
     "output_type": "execute_result"
    }
   ],
   "source": [
    "y_all_prophet.head()"
   ]
  },
  {
   "cell_type": "markdown",
   "id": "96fe17f9",
   "metadata": {},
   "source": [
    "### Training and Testing Data Split"
   ]
  },
  {
   "cell_type": "code",
   "execution_count": 22,
   "id": "d94dc89d",
   "metadata": {},
   "outputs": [
    {
     "name": "stdout",
     "output_type": "stream",
     "text": [
      "Training set has 723 samples.\n",
      "Testing set has 160 samples.\n"
     ]
    }
   ],
   "source": [
    "y_train_prophet = y_all_prophet[y_all_prophet[\"ds\"]<datetime(2019,1,1)]\n",
    "\n",
    "y_test_prophet = y_all_prophet[y_all_prophet[\"ds\"]>=datetime(2019,1,1)]\n",
    "\n",
    "print(\"Training set has {} samples.\".format(y_train_prophet.shape[0]))\n",
    "print(\"Testing set has {} samples.\".format(y_test_prophet.shape[0]))"
   ]
  },
  {
   "cell_type": "markdown",
   "id": "e432deae",
   "metadata": {},
   "source": [
    "## Prophet (Meta) Predictions"
   ]
  },
  {
   "cell_type": "code",
   "execution_count": 23,
   "id": "7d1d8a44",
   "metadata": {},
   "outputs": [
    {
     "data": {
      "text/html": [
       "<pre style=\"white-space:pre;overflow-x:auto;line-height:normal;font-family:Menlo,'DejaVu Sans Mono',consolas,'Courier New',monospace\"><span style=\"color: #7fbfbf; text-decoration-color: #7fbfbf\">                    </span><span style=\"color: #000080; text-decoration-color: #000080\">INFO    </span> Disabling weekly seasonality. Run prophet with                       <a href=\"file:///home/work/Documents/repo/economic_freedom_ml/.venv/lib/python3.8/site-packages/prophet/forecaster.py\" target=\"_blank\"><span style=\"color: #7f7f7f; text-decoration-color: #7f7f7f\">forecaster.py</span></a><span style=\"color: #7f7f7f; text-decoration-color: #7f7f7f\">:</span><a href=\"file:///home/work/Documents/repo/economic_freedom_ml/.venv/lib/python3.8/site-packages/prophet/forecaster.py#931\" target=\"_blank\"><span style=\"color: #7f7f7f; text-decoration-color: #7f7f7f\">931</span></a>\n",
       "<span style=\"color: #7fbfbf; text-decoration-color: #7fbfbf\">                    </span>         <span style=\"color: #808000; text-decoration-color: #808000\">weekly_seasonality</span>=<span style=\"color: #00ff00; text-decoration-color: #00ff00; font-style: italic\">True</span> to override this.                            <span style=\"color: #7f7f7f; text-decoration-color: #7f7f7f\">                 </span>\n",
       "</pre>\n"
      ],
      "text/plain": [
       "\u001b[2;36m                   \u001b[0m\u001b[2;36m \u001b[0m\u001b[34mINFO    \u001b[0m Disabling weekly seasonality. Run prophet with                       \u001b]8;id=49505;file:///home/work/Documents/repo/economic_freedom_ml/.venv/lib/python3.8/site-packages/prophet/forecaster.py\u001b\\\u001b[2mforecaster.py\u001b[0m\u001b]8;;\u001b\\\u001b[2m:\u001b[0m\u001b]8;id=990909;file:///home/work/Documents/repo/economic_freedom_ml/.venv/lib/python3.8/site-packages/prophet/forecaster.py#931\u001b\\\u001b[2m931\u001b[0m\u001b]8;;\u001b\\\n",
       "\u001b[2;36m                    \u001b[0m         \u001b[33mweekly_seasonality\u001b[0m=\u001b[3;92mTrue\u001b[0m to override this.                            \u001b[2m                 \u001b[0m\n"
      ]
     },
     "metadata": {},
     "output_type": "display_data"
    },
    {
     "data": {
      "text/html": [
       "<pre style=\"white-space:pre;overflow-x:auto;line-height:normal;font-family:Menlo,'DejaVu Sans Mono',consolas,'Courier New',monospace\"><span style=\"color: #7fbfbf; text-decoration-color: #7fbfbf\">                    </span><span style=\"color: #000080; text-decoration-color: #000080\">INFO    </span> Disabling daily seasonality. Run prophet with <span style=\"color: #808000; text-decoration-color: #808000\">daily_seasonality</span>=<span style=\"color: #00ff00; text-decoration-color: #00ff00; font-style: italic\">True</span> <a href=\"file:///home/work/Documents/repo/economic_freedom_ml/.venv/lib/python3.8/site-packages/prophet/forecaster.py\" target=\"_blank\"><span style=\"color: #7f7f7f; text-decoration-color: #7f7f7f\">forecaster.py</span></a><span style=\"color: #7f7f7f; text-decoration-color: #7f7f7f\">:</span><a href=\"file:///home/work/Documents/repo/economic_freedom_ml/.venv/lib/python3.8/site-packages/prophet/forecaster.py#931\" target=\"_blank\"><span style=\"color: #7f7f7f; text-decoration-color: #7f7f7f\">931</span></a>\n",
       "<span style=\"color: #7fbfbf; text-decoration-color: #7fbfbf\">                    </span>         to override this.                                                    <span style=\"color: #7f7f7f; text-decoration-color: #7f7f7f\">                 </span>\n",
       "</pre>\n"
      ],
      "text/plain": [
       "\u001b[2;36m                   \u001b[0m\u001b[2;36m \u001b[0m\u001b[34mINFO    \u001b[0m Disabling daily seasonality. Run prophet with \u001b[33mdaily_seasonality\u001b[0m=\u001b[3;92mTrue\u001b[0m \u001b]8;id=881090;file:///home/work/Documents/repo/economic_freedom_ml/.venv/lib/python3.8/site-packages/prophet/forecaster.py\u001b\\\u001b[2mforecaster.py\u001b[0m\u001b]8;;\u001b\\\u001b[2m:\u001b[0m\u001b]8;id=813296;file:///home/work/Documents/repo/economic_freedom_ml/.venv/lib/python3.8/site-packages/prophet/forecaster.py#931\u001b\\\u001b[2m931\u001b[0m\u001b]8;;\u001b\\\n",
       "\u001b[2;36m                    \u001b[0m         to override this.                                                    \u001b[2m                 \u001b[0m\n"
      ]
     },
     "metadata": {},
     "output_type": "display_data"
    },
    {
     "data": {
      "text/html": [
       "<pre style=\"white-space:pre;overflow-x:auto;line-height:normal;font-family:Menlo,'DejaVu Sans Mono',consolas,'Courier New',monospace\"><span style=\"color: #7fbfbf; text-decoration-color: #7fbfbf\">                    </span><span style=\"color: #000080; text-decoration-color: #000080\">INFO    </span> n_changepoints greater than number of observations. Using <span style=\"color: #008080; text-decoration-color: #008080; font-weight: bold\">18</span>.        <a href=\"file:///home/work/Documents/repo/economic_freedom_ml/.venv/lib/python3.8/site-packages/prophet/forecaster.py\" target=\"_blank\"><span style=\"color: #7f7f7f; text-decoration-color: #7f7f7f\">forecaster.py</span></a><span style=\"color: #7f7f7f; text-decoration-color: #7f7f7f\">:</span><a href=\"file:///home/work/Documents/repo/economic_freedom_ml/.venv/lib/python3.8/site-packages/prophet/forecaster.py#401\" target=\"_blank\"><span style=\"color: #7f7f7f; text-decoration-color: #7f7f7f\">401</span></a>\n",
       "</pre>\n"
      ],
      "text/plain": [
       "\u001b[2;36m                   \u001b[0m\u001b[2;36m \u001b[0m\u001b[34mINFO    \u001b[0m n_changepoints greater than number of observations. Using \u001b[1;36m18\u001b[0m.        \u001b]8;id=420038;file:///home/work/Documents/repo/economic_freedom_ml/.venv/lib/python3.8/site-packages/prophet/forecaster.py\u001b\\\u001b[2mforecaster.py\u001b[0m\u001b]8;;\u001b\\\u001b[2m:\u001b[0m\u001b]8;id=72416;file:///home/work/Documents/repo/economic_freedom_ml/.venv/lib/python3.8/site-packages/prophet/forecaster.py#401\u001b\\\u001b[2m401\u001b[0m\u001b]8;;\u001b\\\n"
      ]
     },
     "metadata": {},
     "output_type": "display_data"
    },
    {
     "data": {
      "text/html": [
       "<pre style=\"white-space:pre;overflow-x:auto;line-height:normal;font-family:Menlo,'DejaVu Sans Mono',consolas,'Courier New',monospace\"><span style=\"color: #7fbfbf; text-decoration-color: #7fbfbf\">                    </span><span style=\"color: #008000; text-decoration-color: #008000\">DEBUG   </span> input tempfile: <span style=\"color: #800080; text-decoration-color: #800080\">/tmp/tmpsaail0o2/</span><span style=\"color: #ff00ff; text-decoration-color: #ff00ff\">ayt14qm8.json</span>                       <a href=\"file:///home/work/Documents/repo/economic_freedom_ml/.venv/lib/python3.8/site-packages/cmdstanpy/utils/filesystem.py\" target=\"_blank\"><span style=\"color: #7f7f7f; text-decoration-color: #7f7f7f\">filesystem.py</span></a><span style=\"color: #7f7f7f; text-decoration-color: #7f7f7f\">:</span><a href=\"file:///home/work/Documents/repo/economic_freedom_ml/.venv/lib/python3.8/site-packages/cmdstanpy/utils/filesystem.py#123\" target=\"_blank\"><span style=\"color: #7f7f7f; text-decoration-color: #7f7f7f\">123</span></a>\n",
       "</pre>\n"
      ],
      "text/plain": [
       "\u001b[2;36m                   \u001b[0m\u001b[2;36m \u001b[0m\u001b[32mDEBUG   \u001b[0m input tempfile: \u001b[35m/tmp/tmpsaail0o2/\u001b[0m\u001b[95mayt14qm8.json\u001b[0m                       \u001b]8;id=803906;file:///home/work/Documents/repo/economic_freedom_ml/.venv/lib/python3.8/site-packages/cmdstanpy/utils/filesystem.py\u001b\\\u001b[2mfilesystem.py\u001b[0m\u001b]8;;\u001b\\\u001b[2m:\u001b[0m\u001b]8;id=654836;file:///home/work/Documents/repo/economic_freedom_ml/.venv/lib/python3.8/site-packages/cmdstanpy/utils/filesystem.py#123\u001b\\\u001b[2m123\u001b[0m\u001b]8;;\u001b\\\n"
      ]
     },
     "metadata": {},
     "output_type": "display_data"
    },
    {
     "data": {
      "text/html": [
       "<pre style=\"white-space:pre;overflow-x:auto;line-height:normal;font-family:Menlo,'DejaVu Sans Mono',consolas,'Courier New',monospace\"><span style=\"color: #7fbfbf; text-decoration-color: #7fbfbf\">                    </span><span style=\"color: #008000; text-decoration-color: #008000\">DEBUG   </span> input tempfile: <span style=\"color: #800080; text-decoration-color: #800080\">/tmp/tmpsaail0o2/</span><span style=\"color: #ff00ff; text-decoration-color: #ff00ff\">r7q2rw3g.json</span>                       <a href=\"file:///home/work/Documents/repo/economic_freedom_ml/.venv/lib/python3.8/site-packages/cmdstanpy/utils/filesystem.py\" target=\"_blank\"><span style=\"color: #7f7f7f; text-decoration-color: #7f7f7f\">filesystem.py</span></a><span style=\"color: #7f7f7f; text-decoration-color: #7f7f7f\">:</span><a href=\"file:///home/work/Documents/repo/economic_freedom_ml/.venv/lib/python3.8/site-packages/cmdstanpy/utils/filesystem.py#123\" target=\"_blank\"><span style=\"color: #7f7f7f; text-decoration-color: #7f7f7f\">123</span></a>\n",
       "</pre>\n"
      ],
      "text/plain": [
       "\u001b[2;36m                   \u001b[0m\u001b[2;36m \u001b[0m\u001b[32mDEBUG   \u001b[0m input tempfile: \u001b[35m/tmp/tmpsaail0o2/\u001b[0m\u001b[95mr7q2rw3g.json\u001b[0m                       \u001b]8;id=232529;file:///home/work/Documents/repo/economic_freedom_ml/.venv/lib/python3.8/site-packages/cmdstanpy/utils/filesystem.py\u001b\\\u001b[2mfilesystem.py\u001b[0m\u001b]8;;\u001b\\\u001b[2m:\u001b[0m\u001b]8;id=704285;file:///home/work/Documents/repo/economic_freedom_ml/.venv/lib/python3.8/site-packages/cmdstanpy/utils/filesystem.py#123\u001b\\\u001b[2m123\u001b[0m\u001b]8;;\u001b\\\n"
      ]
     },
     "metadata": {},
     "output_type": "display_data"
    },
    {
     "data": {
      "text/html": [
       "<pre style=\"white-space:pre;overflow-x:auto;line-height:normal;font-family:Menlo,'DejaVu Sans Mono',consolas,'Courier New',monospace\"><span style=\"color: #7fbfbf; text-decoration-color: #7fbfbf\">                    </span><span style=\"color: #008000; text-decoration-color: #008000\">DEBUG   </span> idx <span style=\"color: #008080; text-decoration-color: #008080; font-weight: bold\">0</span>                                                                    <a href=\"file:///home/work/Documents/repo/economic_freedom_ml/.venv/lib/python3.8/site-packages/cmdstanpy/model.py\" target=\"_blank\"><span style=\"color: #7f7f7f; text-decoration-color: #7f7f7f\">model.py</span></a><span style=\"color: #7f7f7f; text-decoration-color: #7f7f7f\">:</span><a href=\"file:///home/work/Documents/repo/economic_freedom_ml/.venv/lib/python3.8/site-packages/cmdstanpy/model.py#1677\" target=\"_blank\"><span style=\"color: #7f7f7f; text-decoration-color: #7f7f7f\">1677</span></a>\n",
       "</pre>\n"
      ],
      "text/plain": [
       "\u001b[2;36m                   \u001b[0m\u001b[2;36m \u001b[0m\u001b[32mDEBUG   \u001b[0m idx \u001b[1;36m0\u001b[0m                                                                    \u001b]8;id=496773;file:///home/work/Documents/repo/economic_freedom_ml/.venv/lib/python3.8/site-packages/cmdstanpy/model.py\u001b\\\u001b[2mmodel.py\u001b[0m\u001b]8;;\u001b\\\u001b[2m:\u001b[0m\u001b]8;id=417955;file:///home/work/Documents/repo/economic_freedom_ml/.venv/lib/python3.8/site-packages/cmdstanpy/model.py#1677\u001b\\\u001b[2m1677\u001b[0m\u001b]8;;\u001b\\\n"
      ]
     },
     "metadata": {},
     "output_type": "display_data"
    },
    {
     "data": {
      "text/html": [
       "<pre style=\"white-space:pre;overflow-x:auto;line-height:normal;font-family:Menlo,'DejaVu Sans Mono',consolas,'Courier New',monospace\"><span style=\"color: #7fbfbf; text-decoration-color: #7fbfbf\">                    </span><span style=\"color: #008000; text-decoration-color: #008000\">DEBUG   </span> running CmdStan, num_threads: <span style=\"color: #800080; text-decoration-color: #800080; font-style: italic\">None</span>                                       <a href=\"file:///home/work/Documents/repo/economic_freedom_ml/.venv/lib/python3.8/site-packages/cmdstanpy/model.py\" target=\"_blank\"><span style=\"color: #7f7f7f; text-decoration-color: #7f7f7f\">model.py</span></a><span style=\"color: #7f7f7f; text-decoration-color: #7f7f7f\">:</span><a href=\"file:///home/work/Documents/repo/economic_freedom_ml/.venv/lib/python3.8/site-packages/cmdstanpy/model.py#1678\" target=\"_blank\"><span style=\"color: #7f7f7f; text-decoration-color: #7f7f7f\">1678</span></a>\n",
       "</pre>\n"
      ],
      "text/plain": [
       "\u001b[2;36m                   \u001b[0m\u001b[2;36m \u001b[0m\u001b[32mDEBUG   \u001b[0m running CmdStan, num_threads: \u001b[3;35mNone\u001b[0m                                       \u001b]8;id=928520;file:///home/work/Documents/repo/economic_freedom_ml/.venv/lib/python3.8/site-packages/cmdstanpy/model.py\u001b\\\u001b[2mmodel.py\u001b[0m\u001b]8;;\u001b\\\u001b[2m:\u001b[0m\u001b]8;id=802702;file:///home/work/Documents/repo/economic_freedom_ml/.venv/lib/python3.8/site-packages/cmdstanpy/model.py#1678\u001b\\\u001b[2m1678\u001b[0m\u001b]8;;\u001b\\\n"
      ]
     },
     "metadata": {},
     "output_type": "display_data"
    },
    {
     "data": {
      "text/html": [
       "<pre style=\"white-space:pre;overflow-x:auto;line-height:normal;font-family:Menlo,'DejaVu Sans Mono',consolas,'Courier New',monospace\"><span style=\"color: #7fbfbf; text-decoration-color: #7fbfbf\">                    </span><span style=\"color: #008000; text-decoration-color: #008000\">DEBUG   </span> CmdStan args:                                                            <a href=\"file:///home/work/Documents/repo/economic_freedom_ml/.venv/lib/python3.8/site-packages/cmdstanpy/model.py\" target=\"_blank\"><span style=\"color: #7f7f7f; text-decoration-color: #7f7f7f\">model.py</span></a><span style=\"color: #7f7f7f; text-decoration-color: #7f7f7f\">:</span><a href=\"file:///home/work/Documents/repo/economic_freedom_ml/.venv/lib/python3.8/site-packages/cmdstanpy/model.py#1690\" target=\"_blank\"><span style=\"color: #7f7f7f; text-decoration-color: #7f7f7f\">1690</span></a>\n",
       "<span style=\"color: #7fbfbf; text-decoration-color: #7fbfbf\">                    </span>         <span style=\"font-weight: bold\">[</span><span style=\"color: #008000; text-decoration-color: #008000\">'/home/work/Documents/repo/economic_freedom_ml/.venv/lib/python3.8/site</span> <span style=\"color: #7f7f7f; text-decoration-color: #7f7f7f\">             </span>\n",
       "<span style=\"color: #7fbfbf; text-decoration-color: #7fbfbf\">                    </span>         <span style=\"color: #008000; text-decoration-color: #008000\">-packages/prophet/stan_model/prophet_model.bin'</span>, <span style=\"color: #008000; text-decoration-color: #008000\">'random'</span>, <span style=\"color: #008000; text-decoration-color: #008000\">'seed=97539'</span>, <span style=\"color: #7f7f7f; text-decoration-color: #7f7f7f\">             </span>\n",
       "<span style=\"color: #7fbfbf; text-decoration-color: #7fbfbf\">                    </span>         <span style=\"color: #008000; text-decoration-color: #008000\">'data'</span>, <span style=\"color: #008000; text-decoration-color: #008000\">'file=/tmp/tmpsaail0o2/ayt14qm8.json'</span>,                           <span style=\"color: #7f7f7f; text-decoration-color: #7f7f7f\">             </span>\n",
       "<span style=\"color: #7fbfbf; text-decoration-color: #7fbfbf\">                    </span>         <span style=\"color: #008000; text-decoration-color: #008000\">'init=/tmp/tmpsaail0o2/r7q2rw3g.json'</span>, <span style=\"color: #008000; text-decoration-color: #008000\">'output'</span>,                         <span style=\"color: #7f7f7f; text-decoration-color: #7f7f7f\">             </span>\n",
       "<span style=\"color: #7fbfbf; text-decoration-color: #7fbfbf\">                    </span>         <span style=\"color: #008000; text-decoration-color: #008000\">'file=/tmp/tmpsaail0o2/prophet_model30h00zuu/prophet_model-2023052018370</span> <span style=\"color: #7f7f7f; text-decoration-color: #7f7f7f\">             </span>\n",
       "<span style=\"color: #7fbfbf; text-decoration-color: #7fbfbf\">                    </span>         <span style=\"color: #008000; text-decoration-color: #008000\">2.csv'</span>, <span style=\"color: #008000; text-decoration-color: #008000\">'method=optimize'</span>, <span style=\"color: #008000; text-decoration-color: #008000\">'algorithm=newton'</span>, <span style=\"color: #008000; text-decoration-color: #008000\">'iter=10000'</span><span style=\"font-weight: bold\">]</span>             <span style=\"color: #7f7f7f; text-decoration-color: #7f7f7f\">             </span>\n",
       "</pre>\n"
      ],
      "text/plain": [
       "\u001b[2;36m                   \u001b[0m\u001b[2;36m \u001b[0m\u001b[32mDEBUG   \u001b[0m CmdStan args:                                                            \u001b]8;id=871783;file:///home/work/Documents/repo/economic_freedom_ml/.venv/lib/python3.8/site-packages/cmdstanpy/model.py\u001b\\\u001b[2mmodel.py\u001b[0m\u001b]8;;\u001b\\\u001b[2m:\u001b[0m\u001b]8;id=108928;file:///home/work/Documents/repo/economic_freedom_ml/.venv/lib/python3.8/site-packages/cmdstanpy/model.py#1690\u001b\\\u001b[2m1690\u001b[0m\u001b]8;;\u001b\\\n",
       "\u001b[2;36m                    \u001b[0m         \u001b[1m[\u001b[0m\u001b[32m'/home/work/Documents/repo/economic_freedom_ml/.venv/lib/python3.8/site\u001b[0m \u001b[2m             \u001b[0m\n",
       "\u001b[2;36m                    \u001b[0m         \u001b[32m-packages/prophet/stan_model/prophet_model.bin'\u001b[0m, \u001b[32m'random'\u001b[0m, \u001b[32m'\u001b[0m\u001b[32mseed\u001b[0m\u001b[32m=\u001b[0m\u001b[32m97539\u001b[0m\u001b[32m'\u001b[0m, \u001b[2m             \u001b[0m\n",
       "\u001b[2;36m                    \u001b[0m         \u001b[32m'data'\u001b[0m, \u001b[32m'\u001b[0m\u001b[32mfile\u001b[0m\u001b[32m=/tmp/tmpsaail0o2/ayt14qm8.json'\u001b[0m,                           \u001b[2m             \u001b[0m\n",
       "\u001b[2;36m                    \u001b[0m         \u001b[32m'\u001b[0m\u001b[32minit\u001b[0m\u001b[32m=/tmp/tmpsaail0o2/r7q2rw3g.json'\u001b[0m, \u001b[32m'output'\u001b[0m,                         \u001b[2m             \u001b[0m\n",
       "\u001b[2;36m                    \u001b[0m         \u001b[32m'\u001b[0m\u001b[32mfile\u001b[0m\u001b[32m=/tmp/tmpsaail0o2/prophet_model30h00zuu/prophet_model-2023052018370\u001b[0m \u001b[2m             \u001b[0m\n",
       "\u001b[2;36m                    \u001b[0m         \u001b[32m2.csv'\u001b[0m, \u001b[32m'\u001b[0m\u001b[32mmethod\u001b[0m\u001b[32m=\u001b[0m\u001b[32moptimize\u001b[0m\u001b[32m'\u001b[0m, \u001b[32m'\u001b[0m\u001b[32malgorithm\u001b[0m\u001b[32m=\u001b[0m\u001b[32mnewton\u001b[0m\u001b[32m'\u001b[0m, \u001b[32m'\u001b[0m\u001b[32miter\u001b[0m\u001b[32m=\u001b[0m\u001b[32m10000\u001b[0m\u001b[32m'\u001b[0m\u001b[1m]\u001b[0m             \u001b[2m             \u001b[0m\n"
      ]
     },
     "metadata": {},
     "output_type": "display_data"
    },
    {
     "name": "stderr",
     "output_type": "stream",
     "text": [
      "18:37:02 - cmdstanpy - INFO - Chain [1] start processing\n"
     ]
    },
    {
     "data": {
      "text/html": [
       "<pre style=\"white-space:pre;overflow-x:auto;line-height:normal;font-family:Menlo,'DejaVu Sans Mono',consolas,'Courier New',monospace\"><span style=\"color: #7fbfbf; text-decoration-color: #7fbfbf\">                    </span><span style=\"color: #000080; text-decoration-color: #000080\">INFO    </span> Chain <span style=\"font-weight: bold\">[</span><span style=\"color: #008080; text-decoration-color: #008080; font-weight: bold\">1</span><span style=\"font-weight: bold\">]</span> start processing                                               <a href=\"file:///home/work/Documents/repo/economic_freedom_ml/.venv/lib/python3.8/site-packages/cmdstanpy/model.py\" target=\"_blank\"><span style=\"color: #7f7f7f; text-decoration-color: #7f7f7f\">model.py</span></a><span style=\"color: #7f7f7f; text-decoration-color: #7f7f7f\">:</span><a href=\"file:///home/work/Documents/repo/economic_freedom_ml/.venv/lib/python3.8/site-packages/cmdstanpy/model.py#1693\" target=\"_blank\"><span style=\"color: #7f7f7f; text-decoration-color: #7f7f7f\">1693</span></a>\n",
       "</pre>\n"
      ],
      "text/plain": [
       "\u001b[2;36m                   \u001b[0m\u001b[2;36m \u001b[0m\u001b[34mINFO    \u001b[0m Chain \u001b[1m[\u001b[0m\u001b[1;36m1\u001b[0m\u001b[1m]\u001b[0m start processing                                               \u001b]8;id=136128;file:///home/work/Documents/repo/economic_freedom_ml/.venv/lib/python3.8/site-packages/cmdstanpy/model.py\u001b\\\u001b[2mmodel.py\u001b[0m\u001b]8;;\u001b\\\u001b[2m:\u001b[0m\u001b]8;id=754127;file:///home/work/Documents/repo/economic_freedom_ml/.venv/lib/python3.8/site-packages/cmdstanpy/model.py#1693\u001b\\\u001b[2m1693\u001b[0m\u001b]8;;\u001b\\\n"
      ]
     },
     "metadata": {},
     "output_type": "display_data"
    },
    {
     "name": "stderr",
     "output_type": "stream",
     "text": [
      "18:37:02 - cmdstanpy - INFO - Chain [1] done processing\n"
     ]
    },
    {
     "data": {
      "text/html": [
       "<pre style=\"white-space:pre;overflow-x:auto;line-height:normal;font-family:Menlo,'DejaVu Sans Mono',consolas,'Courier New',monospace\"><span style=\"color: #7fbfbf; text-decoration-color: #7fbfbf\">                    </span><span style=\"color: #000080; text-decoration-color: #000080\">INFO    </span> Chain <span style=\"font-weight: bold\">[</span><span style=\"color: #008080; text-decoration-color: #008080; font-weight: bold\">1</span><span style=\"font-weight: bold\">]</span> done processing                                                <a href=\"file:///home/work/Documents/repo/economic_freedom_ml/.venv/lib/python3.8/site-packages/cmdstanpy/model.py\" target=\"_blank\"><span style=\"color: #7f7f7f; text-decoration-color: #7f7f7f\">model.py</span></a><span style=\"color: #7f7f7f; text-decoration-color: #7f7f7f\">:</span><a href=\"file:///home/work/Documents/repo/economic_freedom_ml/.venv/lib/python3.8/site-packages/cmdstanpy/model.py#1750\" target=\"_blank\"><span style=\"color: #7f7f7f; text-decoration-color: #7f7f7f\">1750</span></a>\n",
       "</pre>\n"
      ],
      "text/plain": [
       "\u001b[2;36m                   \u001b[0m\u001b[2;36m \u001b[0m\u001b[34mINFO    \u001b[0m Chain \u001b[1m[\u001b[0m\u001b[1;36m1\u001b[0m\u001b[1m]\u001b[0m done processing                                                \u001b]8;id=932372;file:///home/work/Documents/repo/economic_freedom_ml/.venv/lib/python3.8/site-packages/cmdstanpy/model.py\u001b\\\u001b[2mmodel.py\u001b[0m\u001b]8;;\u001b\\\u001b[2m:\u001b[0m\u001b]8;id=566902;file:///home/work/Documents/repo/economic_freedom_ml/.venv/lib/python3.8/site-packages/cmdstanpy/model.py#1750\u001b\\\u001b[2m1750\u001b[0m\u001b]8;;\u001b\\\n"
      ]
     },
     "metadata": {},
     "output_type": "display_data"
    },
    {
     "data": {
      "text/html": [
       "<pre style=\"white-space:pre;overflow-x:auto;line-height:normal;font-family:Menlo,'DejaVu Sans Mono',consolas,'Courier New',monospace\"><span style=\"color: #7fbfbf; text-decoration-color: #7fbfbf\">                    </span><span style=\"color: #000080; text-decoration-color: #000080\">INFO    </span> Disabling weekly seasonality. Run prophet with                       <a href=\"file:///home/work/Documents/repo/economic_freedom_ml/.venv/lib/python3.8/site-packages/prophet/forecaster.py\" target=\"_blank\"><span style=\"color: #7f7f7f; text-decoration-color: #7f7f7f\">forecaster.py</span></a><span style=\"color: #7f7f7f; text-decoration-color: #7f7f7f\">:</span><a href=\"file:///home/work/Documents/repo/economic_freedom_ml/.venv/lib/python3.8/site-packages/prophet/forecaster.py#931\" target=\"_blank\"><span style=\"color: #7f7f7f; text-decoration-color: #7f7f7f\">931</span></a>\n",
       "<span style=\"color: #7fbfbf; text-decoration-color: #7fbfbf\">                    </span>         <span style=\"color: #808000; text-decoration-color: #808000\">weekly_seasonality</span>=<span style=\"color: #00ff00; text-decoration-color: #00ff00; font-style: italic\">True</span> to override this.                            <span style=\"color: #7f7f7f; text-decoration-color: #7f7f7f\">                 </span>\n",
       "</pre>\n"
      ],
      "text/plain": [
       "\u001b[2;36m                   \u001b[0m\u001b[2;36m \u001b[0m\u001b[34mINFO    \u001b[0m Disabling weekly seasonality. Run prophet with                       \u001b]8;id=579495;file:///home/work/Documents/repo/economic_freedom_ml/.venv/lib/python3.8/site-packages/prophet/forecaster.py\u001b\\\u001b[2mforecaster.py\u001b[0m\u001b]8;;\u001b\\\u001b[2m:\u001b[0m\u001b]8;id=463504;file:///home/work/Documents/repo/economic_freedom_ml/.venv/lib/python3.8/site-packages/prophet/forecaster.py#931\u001b\\\u001b[2m931\u001b[0m\u001b]8;;\u001b\\\n",
       "\u001b[2;36m                    \u001b[0m         \u001b[33mweekly_seasonality\u001b[0m=\u001b[3;92mTrue\u001b[0m to override this.                            \u001b[2m                 \u001b[0m\n"
      ]
     },
     "metadata": {},
     "output_type": "display_data"
    },
    {
     "data": {
      "text/html": [
       "<pre style=\"white-space:pre;overflow-x:auto;line-height:normal;font-family:Menlo,'DejaVu Sans Mono',consolas,'Courier New',monospace\"><span style=\"color: #7fbfbf; text-decoration-color: #7fbfbf\">                    </span><span style=\"color: #000080; text-decoration-color: #000080\">INFO    </span> Disabling daily seasonality. Run prophet with <span style=\"color: #808000; text-decoration-color: #808000\">daily_seasonality</span>=<span style=\"color: #00ff00; text-decoration-color: #00ff00; font-style: italic\">True</span> <a href=\"file:///home/work/Documents/repo/economic_freedom_ml/.venv/lib/python3.8/site-packages/prophet/forecaster.py\" target=\"_blank\"><span style=\"color: #7f7f7f; text-decoration-color: #7f7f7f\">forecaster.py</span></a><span style=\"color: #7f7f7f; text-decoration-color: #7f7f7f\">:</span><a href=\"file:///home/work/Documents/repo/economic_freedom_ml/.venv/lib/python3.8/site-packages/prophet/forecaster.py#931\" target=\"_blank\"><span style=\"color: #7f7f7f; text-decoration-color: #7f7f7f\">931</span></a>\n",
       "<span style=\"color: #7fbfbf; text-decoration-color: #7fbfbf\">                    </span>         to override this.                                                    <span style=\"color: #7f7f7f; text-decoration-color: #7f7f7f\">                 </span>\n",
       "</pre>\n"
      ],
      "text/plain": [
       "\u001b[2;36m                   \u001b[0m\u001b[2;36m \u001b[0m\u001b[34mINFO    \u001b[0m Disabling daily seasonality. Run prophet with \u001b[33mdaily_seasonality\u001b[0m=\u001b[3;92mTrue\u001b[0m \u001b]8;id=327481;file:///home/work/Documents/repo/economic_freedom_ml/.venv/lib/python3.8/site-packages/prophet/forecaster.py\u001b\\\u001b[2mforecaster.py\u001b[0m\u001b]8;;\u001b\\\u001b[2m:\u001b[0m\u001b]8;id=481211;file:///home/work/Documents/repo/economic_freedom_ml/.venv/lib/python3.8/site-packages/prophet/forecaster.py#931\u001b\\\u001b[2m931\u001b[0m\u001b]8;;\u001b\\\n",
       "\u001b[2;36m                    \u001b[0m         to override this.                                                    \u001b[2m                 \u001b[0m\n"
      ]
     },
     "metadata": {},
     "output_type": "display_data"
    },
    {
     "data": {
      "text/html": [
       "<pre style=\"white-space:pre;overflow-x:auto;line-height:normal;font-family:Menlo,'DejaVu Sans Mono',consolas,'Courier New',monospace\"><span style=\"color: #7fbfbf; text-decoration-color: #7fbfbf\">                    </span><span style=\"color: #000080; text-decoration-color: #000080\">INFO    </span> n_changepoints greater than number of observations. Using <span style=\"color: #008080; text-decoration-color: #008080; font-weight: bold\">17</span>.        <a href=\"file:///home/work/Documents/repo/economic_freedom_ml/.venv/lib/python3.8/site-packages/prophet/forecaster.py\" target=\"_blank\"><span style=\"color: #7f7f7f; text-decoration-color: #7f7f7f\">forecaster.py</span></a><span style=\"color: #7f7f7f; text-decoration-color: #7f7f7f\">:</span><a href=\"file:///home/work/Documents/repo/economic_freedom_ml/.venv/lib/python3.8/site-packages/prophet/forecaster.py#401\" target=\"_blank\"><span style=\"color: #7f7f7f; text-decoration-color: #7f7f7f\">401</span></a>\n",
       "</pre>\n"
      ],
      "text/plain": [
       "\u001b[2;36m                   \u001b[0m\u001b[2;36m \u001b[0m\u001b[34mINFO    \u001b[0m n_changepoints greater than number of observations. Using \u001b[1;36m17\u001b[0m.        \u001b]8;id=224540;file:///home/work/Documents/repo/economic_freedom_ml/.venv/lib/python3.8/site-packages/prophet/forecaster.py\u001b\\\u001b[2mforecaster.py\u001b[0m\u001b]8;;\u001b\\\u001b[2m:\u001b[0m\u001b]8;id=507394;file:///home/work/Documents/repo/economic_freedom_ml/.venv/lib/python3.8/site-packages/prophet/forecaster.py#401\u001b\\\u001b[2m401\u001b[0m\u001b]8;;\u001b\\\n"
      ]
     },
     "metadata": {},
     "output_type": "display_data"
    },
    {
     "data": {
      "text/html": [
       "<pre style=\"white-space:pre;overflow-x:auto;line-height:normal;font-family:Menlo,'DejaVu Sans Mono',consolas,'Courier New',monospace\"><span style=\"color: #7fbfbf; text-decoration-color: #7fbfbf\">                    </span><span style=\"color: #008000; text-decoration-color: #008000\">DEBUG   </span> input tempfile: <span style=\"color: #800080; text-decoration-color: #800080\">/tmp/tmpsaail0o2/</span><span style=\"color: #ff00ff; text-decoration-color: #ff00ff\">4cxr6vli.json</span>                       <a href=\"file:///home/work/Documents/repo/economic_freedom_ml/.venv/lib/python3.8/site-packages/cmdstanpy/utils/filesystem.py\" target=\"_blank\"><span style=\"color: #7f7f7f; text-decoration-color: #7f7f7f\">filesystem.py</span></a><span style=\"color: #7f7f7f; text-decoration-color: #7f7f7f\">:</span><a href=\"file:///home/work/Documents/repo/economic_freedom_ml/.venv/lib/python3.8/site-packages/cmdstanpy/utils/filesystem.py#123\" target=\"_blank\"><span style=\"color: #7f7f7f; text-decoration-color: #7f7f7f\">123</span></a>\n",
       "</pre>\n"
      ],
      "text/plain": [
       "\u001b[2;36m                   \u001b[0m\u001b[2;36m \u001b[0m\u001b[32mDEBUG   \u001b[0m input tempfile: \u001b[35m/tmp/tmpsaail0o2/\u001b[0m\u001b[95m4cxr6vli.json\u001b[0m                       \u001b]8;id=380544;file:///home/work/Documents/repo/economic_freedom_ml/.venv/lib/python3.8/site-packages/cmdstanpy/utils/filesystem.py\u001b\\\u001b[2mfilesystem.py\u001b[0m\u001b]8;;\u001b\\\u001b[2m:\u001b[0m\u001b]8;id=419776;file:///home/work/Documents/repo/economic_freedom_ml/.venv/lib/python3.8/site-packages/cmdstanpy/utils/filesystem.py#123\u001b\\\u001b[2m123\u001b[0m\u001b]8;;\u001b\\\n"
      ]
     },
     "metadata": {},
     "output_type": "display_data"
    },
    {
     "data": {
      "text/html": [
       "<pre style=\"white-space:pre;overflow-x:auto;line-height:normal;font-family:Menlo,'DejaVu Sans Mono',consolas,'Courier New',monospace\"><span style=\"color: #7fbfbf; text-decoration-color: #7fbfbf\">                    </span><span style=\"color: #008000; text-decoration-color: #008000\">DEBUG   </span> input tempfile: <span style=\"color: #800080; text-decoration-color: #800080\">/tmp/tmpsaail0o2/</span><span style=\"color: #ff00ff; text-decoration-color: #ff00ff\">1f0h74fj.json</span>                       <a href=\"file:///home/work/Documents/repo/economic_freedom_ml/.venv/lib/python3.8/site-packages/cmdstanpy/utils/filesystem.py\" target=\"_blank\"><span style=\"color: #7f7f7f; text-decoration-color: #7f7f7f\">filesystem.py</span></a><span style=\"color: #7f7f7f; text-decoration-color: #7f7f7f\">:</span><a href=\"file:///home/work/Documents/repo/economic_freedom_ml/.venv/lib/python3.8/site-packages/cmdstanpy/utils/filesystem.py#123\" target=\"_blank\"><span style=\"color: #7f7f7f; text-decoration-color: #7f7f7f\">123</span></a>\n",
       "</pre>\n"
      ],
      "text/plain": [
       "\u001b[2;36m                   \u001b[0m\u001b[2;36m \u001b[0m\u001b[32mDEBUG   \u001b[0m input tempfile: \u001b[35m/tmp/tmpsaail0o2/\u001b[0m\u001b[95m1f0h74fj.json\u001b[0m                       \u001b]8;id=845254;file:///home/work/Documents/repo/economic_freedom_ml/.venv/lib/python3.8/site-packages/cmdstanpy/utils/filesystem.py\u001b\\\u001b[2mfilesystem.py\u001b[0m\u001b]8;;\u001b\\\u001b[2m:\u001b[0m\u001b]8;id=998659;file:///home/work/Documents/repo/economic_freedom_ml/.venv/lib/python3.8/site-packages/cmdstanpy/utils/filesystem.py#123\u001b\\\u001b[2m123\u001b[0m\u001b]8;;\u001b\\\n"
      ]
     },
     "metadata": {},
     "output_type": "display_data"
    },
    {
     "data": {
      "text/html": [
       "<pre style=\"white-space:pre;overflow-x:auto;line-height:normal;font-family:Menlo,'DejaVu Sans Mono',consolas,'Courier New',monospace\"><span style=\"color: #7fbfbf; text-decoration-color: #7fbfbf\">                    </span><span style=\"color: #008000; text-decoration-color: #008000\">DEBUG   </span> idx <span style=\"color: #008080; text-decoration-color: #008080; font-weight: bold\">0</span>                                                                    <a href=\"file:///home/work/Documents/repo/economic_freedom_ml/.venv/lib/python3.8/site-packages/cmdstanpy/model.py\" target=\"_blank\"><span style=\"color: #7f7f7f; text-decoration-color: #7f7f7f\">model.py</span></a><span style=\"color: #7f7f7f; text-decoration-color: #7f7f7f\">:</span><a href=\"file:///home/work/Documents/repo/economic_freedom_ml/.venv/lib/python3.8/site-packages/cmdstanpy/model.py#1677\" target=\"_blank\"><span style=\"color: #7f7f7f; text-decoration-color: #7f7f7f\">1677</span></a>\n",
       "</pre>\n"
      ],
      "text/plain": [
       "\u001b[2;36m                   \u001b[0m\u001b[2;36m \u001b[0m\u001b[32mDEBUG   \u001b[0m idx \u001b[1;36m0\u001b[0m                                                                    \u001b]8;id=590741;file:///home/work/Documents/repo/economic_freedom_ml/.venv/lib/python3.8/site-packages/cmdstanpy/model.py\u001b\\\u001b[2mmodel.py\u001b[0m\u001b]8;;\u001b\\\u001b[2m:\u001b[0m\u001b]8;id=195175;file:///home/work/Documents/repo/economic_freedom_ml/.venv/lib/python3.8/site-packages/cmdstanpy/model.py#1677\u001b\\\u001b[2m1677\u001b[0m\u001b]8;;\u001b\\\n"
      ]
     },
     "metadata": {},
     "output_type": "display_data"
    },
    {
     "data": {
      "text/html": [
       "<pre style=\"white-space:pre;overflow-x:auto;line-height:normal;font-family:Menlo,'DejaVu Sans Mono',consolas,'Courier New',monospace\"><span style=\"color: #7fbfbf; text-decoration-color: #7fbfbf\">                    </span><span style=\"color: #008000; text-decoration-color: #008000\">DEBUG   </span> running CmdStan, num_threads: <span style=\"color: #800080; text-decoration-color: #800080; font-style: italic\">None</span>                                       <a href=\"file:///home/work/Documents/repo/economic_freedom_ml/.venv/lib/python3.8/site-packages/cmdstanpy/model.py\" target=\"_blank\"><span style=\"color: #7f7f7f; text-decoration-color: #7f7f7f\">model.py</span></a><span style=\"color: #7f7f7f; text-decoration-color: #7f7f7f\">:</span><a href=\"file:///home/work/Documents/repo/economic_freedom_ml/.venv/lib/python3.8/site-packages/cmdstanpy/model.py#1678\" target=\"_blank\"><span style=\"color: #7f7f7f; text-decoration-color: #7f7f7f\">1678</span></a>\n",
       "</pre>\n"
      ],
      "text/plain": [
       "\u001b[2;36m                   \u001b[0m\u001b[2;36m \u001b[0m\u001b[32mDEBUG   \u001b[0m running CmdStan, num_threads: \u001b[3;35mNone\u001b[0m                                       \u001b]8;id=592841;file:///home/work/Documents/repo/economic_freedom_ml/.venv/lib/python3.8/site-packages/cmdstanpy/model.py\u001b\\\u001b[2mmodel.py\u001b[0m\u001b]8;;\u001b\\\u001b[2m:\u001b[0m\u001b]8;id=770545;file:///home/work/Documents/repo/economic_freedom_ml/.venv/lib/python3.8/site-packages/cmdstanpy/model.py#1678\u001b\\\u001b[2m1678\u001b[0m\u001b]8;;\u001b\\\n"
      ]
     },
     "metadata": {},
     "output_type": "display_data"
    },
    {
     "data": {
      "text/html": [
       "<pre style=\"white-space:pre;overflow-x:auto;line-height:normal;font-family:Menlo,'DejaVu Sans Mono',consolas,'Courier New',monospace\"><span style=\"color: #7fbfbf; text-decoration-color: #7fbfbf\">                    </span><span style=\"color: #008000; text-decoration-color: #008000\">DEBUG   </span> CmdStan args:                                                            <a href=\"file:///home/work/Documents/repo/economic_freedom_ml/.venv/lib/python3.8/site-packages/cmdstanpy/model.py\" target=\"_blank\"><span style=\"color: #7f7f7f; text-decoration-color: #7f7f7f\">model.py</span></a><span style=\"color: #7f7f7f; text-decoration-color: #7f7f7f\">:</span><a href=\"file:///home/work/Documents/repo/economic_freedom_ml/.venv/lib/python3.8/site-packages/cmdstanpy/model.py#1690\" target=\"_blank\"><span style=\"color: #7f7f7f; text-decoration-color: #7f7f7f\">1690</span></a>\n",
       "<span style=\"color: #7fbfbf; text-decoration-color: #7fbfbf\">                    </span>         <span style=\"font-weight: bold\">[</span><span style=\"color: #008000; text-decoration-color: #008000\">'/home/work/Documents/repo/economic_freedom_ml/.venv/lib/python3.8/site</span> <span style=\"color: #7f7f7f; text-decoration-color: #7f7f7f\">             </span>\n",
       "<span style=\"color: #7fbfbf; text-decoration-color: #7fbfbf\">                    </span>         <span style=\"color: #008000; text-decoration-color: #008000\">-packages/prophet/stan_model/prophet_model.bin'</span>, <span style=\"color: #008000; text-decoration-color: #008000\">'random'</span>, <span style=\"color: #008000; text-decoration-color: #008000\">'seed=32715'</span>, <span style=\"color: #7f7f7f; text-decoration-color: #7f7f7f\">             </span>\n",
       "<span style=\"color: #7fbfbf; text-decoration-color: #7fbfbf\">                    </span>         <span style=\"color: #008000; text-decoration-color: #008000\">'data'</span>, <span style=\"color: #008000; text-decoration-color: #008000\">'file=/tmp/tmpsaail0o2/4cxr6vli.json'</span>,                           <span style=\"color: #7f7f7f; text-decoration-color: #7f7f7f\">             </span>\n",
       "<span style=\"color: #7fbfbf; text-decoration-color: #7fbfbf\">                    </span>         <span style=\"color: #008000; text-decoration-color: #008000\">'init=/tmp/tmpsaail0o2/1f0h74fj.json'</span>, <span style=\"color: #008000; text-decoration-color: #008000\">'output'</span>,                         <span style=\"color: #7f7f7f; text-decoration-color: #7f7f7f\">             </span>\n",
       "<span style=\"color: #7fbfbf; text-decoration-color: #7fbfbf\">                    </span>         <span style=\"color: #008000; text-decoration-color: #008000\">'file=/tmp/tmpsaail0o2/prophet_model0soe3i3_/prophet_model-2023052018370</span> <span style=\"color: #7f7f7f; text-decoration-color: #7f7f7f\">             </span>\n",
       "<span style=\"color: #7fbfbf; text-decoration-color: #7fbfbf\">                    </span>         <span style=\"color: #008000; text-decoration-color: #008000\">2.csv'</span>, <span style=\"color: #008000; text-decoration-color: #008000\">'method=optimize'</span>, <span style=\"color: #008000; text-decoration-color: #008000\">'algorithm=newton'</span>, <span style=\"color: #008000; text-decoration-color: #008000\">'iter=10000'</span><span style=\"font-weight: bold\">]</span>             <span style=\"color: #7f7f7f; text-decoration-color: #7f7f7f\">             </span>\n",
       "</pre>\n"
      ],
      "text/plain": [
       "\u001b[2;36m                   \u001b[0m\u001b[2;36m \u001b[0m\u001b[32mDEBUG   \u001b[0m CmdStan args:                                                            \u001b]8;id=336000;file:///home/work/Documents/repo/economic_freedom_ml/.venv/lib/python3.8/site-packages/cmdstanpy/model.py\u001b\\\u001b[2mmodel.py\u001b[0m\u001b]8;;\u001b\\\u001b[2m:\u001b[0m\u001b]8;id=246592;file:///home/work/Documents/repo/economic_freedom_ml/.venv/lib/python3.8/site-packages/cmdstanpy/model.py#1690\u001b\\\u001b[2m1690\u001b[0m\u001b]8;;\u001b\\\n",
       "\u001b[2;36m                    \u001b[0m         \u001b[1m[\u001b[0m\u001b[32m'/home/work/Documents/repo/economic_freedom_ml/.venv/lib/python3.8/site\u001b[0m \u001b[2m             \u001b[0m\n",
       "\u001b[2;36m                    \u001b[0m         \u001b[32m-packages/prophet/stan_model/prophet_model.bin'\u001b[0m, \u001b[32m'random'\u001b[0m, \u001b[32m'\u001b[0m\u001b[32mseed\u001b[0m\u001b[32m=\u001b[0m\u001b[32m32715\u001b[0m\u001b[32m'\u001b[0m, \u001b[2m             \u001b[0m\n",
       "\u001b[2;36m                    \u001b[0m         \u001b[32m'data'\u001b[0m, \u001b[32m'\u001b[0m\u001b[32mfile\u001b[0m\u001b[32m=/tmp/tmpsaail0o2/4cxr6vli.json'\u001b[0m,                           \u001b[2m             \u001b[0m\n",
       "\u001b[2;36m                    \u001b[0m         \u001b[32m'\u001b[0m\u001b[32minit\u001b[0m\u001b[32m=/tmp/tmpsaail0o2/1f0h74fj.json'\u001b[0m, \u001b[32m'output'\u001b[0m,                         \u001b[2m             \u001b[0m\n",
       "\u001b[2;36m                    \u001b[0m         \u001b[32m'\u001b[0m\u001b[32mfile\u001b[0m\u001b[32m=/tmp/tmpsaail0o2/prophet_model0soe3i3_/prophet_model-2023052018370\u001b[0m \u001b[2m             \u001b[0m\n",
       "\u001b[2;36m                    \u001b[0m         \u001b[32m2.csv'\u001b[0m, \u001b[32m'\u001b[0m\u001b[32mmethod\u001b[0m\u001b[32m=\u001b[0m\u001b[32moptimize\u001b[0m\u001b[32m'\u001b[0m, \u001b[32m'\u001b[0m\u001b[32malgorithm\u001b[0m\u001b[32m=\u001b[0m\u001b[32mnewton\u001b[0m\u001b[32m'\u001b[0m, \u001b[32m'\u001b[0m\u001b[32miter\u001b[0m\u001b[32m=\u001b[0m\u001b[32m10000\u001b[0m\u001b[32m'\u001b[0m\u001b[1m]\u001b[0m             \u001b[2m             \u001b[0m\n"
      ]
     },
     "metadata": {},
     "output_type": "display_data"
    },
    {
     "name": "stderr",
     "output_type": "stream",
     "text": [
      "18:37:02 - cmdstanpy - INFO - Chain [1] start processing\n"
     ]
    },
    {
     "data": {
      "text/html": [
       "<pre style=\"white-space:pre;overflow-x:auto;line-height:normal;font-family:Menlo,'DejaVu Sans Mono',consolas,'Courier New',monospace\"><span style=\"color: #7fbfbf; text-decoration-color: #7fbfbf\">                    </span><span style=\"color: #000080; text-decoration-color: #000080\">INFO    </span> Chain <span style=\"font-weight: bold\">[</span><span style=\"color: #008080; text-decoration-color: #008080; font-weight: bold\">1</span><span style=\"font-weight: bold\">]</span> start processing                                               <a href=\"file:///home/work/Documents/repo/economic_freedom_ml/.venv/lib/python3.8/site-packages/cmdstanpy/model.py\" target=\"_blank\"><span style=\"color: #7f7f7f; text-decoration-color: #7f7f7f\">model.py</span></a><span style=\"color: #7f7f7f; text-decoration-color: #7f7f7f\">:</span><a href=\"file:///home/work/Documents/repo/economic_freedom_ml/.venv/lib/python3.8/site-packages/cmdstanpy/model.py#1693\" target=\"_blank\"><span style=\"color: #7f7f7f; text-decoration-color: #7f7f7f\">1693</span></a>\n",
       "</pre>\n"
      ],
      "text/plain": [
       "\u001b[2;36m                   \u001b[0m\u001b[2;36m \u001b[0m\u001b[34mINFO    \u001b[0m Chain \u001b[1m[\u001b[0m\u001b[1;36m1\u001b[0m\u001b[1m]\u001b[0m start processing                                               \u001b]8;id=589225;file:///home/work/Documents/repo/economic_freedom_ml/.venv/lib/python3.8/site-packages/cmdstanpy/model.py\u001b\\\u001b[2mmodel.py\u001b[0m\u001b]8;;\u001b\\\u001b[2m:\u001b[0m\u001b]8;id=795273;file:///home/work/Documents/repo/economic_freedom_ml/.venv/lib/python3.8/site-packages/cmdstanpy/model.py#1693\u001b\\\u001b[2m1693\u001b[0m\u001b]8;;\u001b\\\n"
      ]
     },
     "metadata": {},
     "output_type": "display_data"
    },
    {
     "name": "stderr",
     "output_type": "stream",
     "text": [
      "18:37:02 - cmdstanpy - INFO - Chain [1] done processing\n"
     ]
    },
    {
     "data": {
      "text/html": [
       "<pre style=\"white-space:pre;overflow-x:auto;line-height:normal;font-family:Menlo,'DejaVu Sans Mono',consolas,'Courier New',monospace\"><span style=\"color: #7fbfbf; text-decoration-color: #7fbfbf\">                    </span><span style=\"color: #000080; text-decoration-color: #000080\">INFO    </span> Chain <span style=\"font-weight: bold\">[</span><span style=\"color: #008080; text-decoration-color: #008080; font-weight: bold\">1</span><span style=\"font-weight: bold\">]</span> done processing                                                <a href=\"file:///home/work/Documents/repo/economic_freedom_ml/.venv/lib/python3.8/site-packages/cmdstanpy/model.py\" target=\"_blank\"><span style=\"color: #7f7f7f; text-decoration-color: #7f7f7f\">model.py</span></a><span style=\"color: #7f7f7f; text-decoration-color: #7f7f7f\">:</span><a href=\"file:///home/work/Documents/repo/economic_freedom_ml/.venv/lib/python3.8/site-packages/cmdstanpy/model.py#1750\" target=\"_blank\"><span style=\"color: #7f7f7f; text-decoration-color: #7f7f7f\">1750</span></a>\n",
       "</pre>\n"
      ],
      "text/plain": [
       "\u001b[2;36m                   \u001b[0m\u001b[2;36m \u001b[0m\u001b[34mINFO    \u001b[0m Chain \u001b[1m[\u001b[0m\u001b[1;36m1\u001b[0m\u001b[1m]\u001b[0m done processing                                                \u001b]8;id=778866;file:///home/work/Documents/repo/economic_freedom_ml/.venv/lib/python3.8/site-packages/cmdstanpy/model.py\u001b\\\u001b[2mmodel.py\u001b[0m\u001b]8;;\u001b\\\u001b[2m:\u001b[0m\u001b]8;id=801810;file:///home/work/Documents/repo/economic_freedom_ml/.venv/lib/python3.8/site-packages/cmdstanpy/model.py#1750\u001b\\\u001b[2m1750\u001b[0m\u001b]8;;\u001b\\\n"
      ]
     },
     "metadata": {},
     "output_type": "display_data"
    },
    {
     "data": {
      "text/html": [
       "<pre style=\"white-space:pre;overflow-x:auto;line-height:normal;font-family:Menlo,'DejaVu Sans Mono',consolas,'Courier New',monospace\"><span style=\"color: #7fbfbf; text-decoration-color: #7fbfbf\">                    </span><span style=\"color: #000080; text-decoration-color: #000080\">INFO    </span> Disabling weekly seasonality. Run prophet with                       <a href=\"file:///home/work/Documents/repo/economic_freedom_ml/.venv/lib/python3.8/site-packages/prophet/forecaster.py\" target=\"_blank\"><span style=\"color: #7f7f7f; text-decoration-color: #7f7f7f\">forecaster.py</span></a><span style=\"color: #7f7f7f; text-decoration-color: #7f7f7f\">:</span><a href=\"file:///home/work/Documents/repo/economic_freedom_ml/.venv/lib/python3.8/site-packages/prophet/forecaster.py#931\" target=\"_blank\"><span style=\"color: #7f7f7f; text-decoration-color: #7f7f7f\">931</span></a>\n",
       "<span style=\"color: #7fbfbf; text-decoration-color: #7fbfbf\">                    </span>         <span style=\"color: #808000; text-decoration-color: #808000\">weekly_seasonality</span>=<span style=\"color: #00ff00; text-decoration-color: #00ff00; font-style: italic\">True</span> to override this.                            <span style=\"color: #7f7f7f; text-decoration-color: #7f7f7f\">                 </span>\n",
       "</pre>\n"
      ],
      "text/plain": [
       "\u001b[2;36m                   \u001b[0m\u001b[2;36m \u001b[0m\u001b[34mINFO    \u001b[0m Disabling weekly seasonality. Run prophet with                       \u001b]8;id=89991;file:///home/work/Documents/repo/economic_freedom_ml/.venv/lib/python3.8/site-packages/prophet/forecaster.py\u001b\\\u001b[2mforecaster.py\u001b[0m\u001b]8;;\u001b\\\u001b[2m:\u001b[0m\u001b]8;id=568990;file:///home/work/Documents/repo/economic_freedom_ml/.venv/lib/python3.8/site-packages/prophet/forecaster.py#931\u001b\\\u001b[2m931\u001b[0m\u001b]8;;\u001b\\\n",
       "\u001b[2;36m                    \u001b[0m         \u001b[33mweekly_seasonality\u001b[0m=\u001b[3;92mTrue\u001b[0m to override this.                            \u001b[2m                 \u001b[0m\n"
      ]
     },
     "metadata": {},
     "output_type": "display_data"
    },
    {
     "data": {
      "text/html": [
       "<pre style=\"white-space:pre;overflow-x:auto;line-height:normal;font-family:Menlo,'DejaVu Sans Mono',consolas,'Courier New',monospace\"><span style=\"color: #7fbfbf; text-decoration-color: #7fbfbf\">                    </span><span style=\"color: #000080; text-decoration-color: #000080\">INFO    </span> Disabling daily seasonality. Run prophet with <span style=\"color: #808000; text-decoration-color: #808000\">daily_seasonality</span>=<span style=\"color: #00ff00; text-decoration-color: #00ff00; font-style: italic\">True</span> <a href=\"file:///home/work/Documents/repo/economic_freedom_ml/.venv/lib/python3.8/site-packages/prophet/forecaster.py\" target=\"_blank\"><span style=\"color: #7f7f7f; text-decoration-color: #7f7f7f\">forecaster.py</span></a><span style=\"color: #7f7f7f; text-decoration-color: #7f7f7f\">:</span><a href=\"file:///home/work/Documents/repo/economic_freedom_ml/.venv/lib/python3.8/site-packages/prophet/forecaster.py#931\" target=\"_blank\"><span style=\"color: #7f7f7f; text-decoration-color: #7f7f7f\">931</span></a>\n",
       "<span style=\"color: #7fbfbf; text-decoration-color: #7fbfbf\">                    </span>         to override this.                                                    <span style=\"color: #7f7f7f; text-decoration-color: #7f7f7f\">                 </span>\n",
       "</pre>\n"
      ],
      "text/plain": [
       "\u001b[2;36m                   \u001b[0m\u001b[2;36m \u001b[0m\u001b[34mINFO    \u001b[0m Disabling daily seasonality. Run prophet with \u001b[33mdaily_seasonality\u001b[0m=\u001b[3;92mTrue\u001b[0m \u001b]8;id=620102;file:///home/work/Documents/repo/economic_freedom_ml/.venv/lib/python3.8/site-packages/prophet/forecaster.py\u001b\\\u001b[2mforecaster.py\u001b[0m\u001b]8;;\u001b\\\u001b[2m:\u001b[0m\u001b]8;id=386831;file:///home/work/Documents/repo/economic_freedom_ml/.venv/lib/python3.8/site-packages/prophet/forecaster.py#931\u001b\\\u001b[2m931\u001b[0m\u001b]8;;\u001b\\\n",
       "\u001b[2;36m                    \u001b[0m         to override this.                                                    \u001b[2m                 \u001b[0m\n"
      ]
     },
     "metadata": {},
     "output_type": "display_data"
    },
    {
     "data": {
      "text/html": [
       "<pre style=\"white-space:pre;overflow-x:auto;line-height:normal;font-family:Menlo,'DejaVu Sans Mono',consolas,'Courier New',monospace\"><span style=\"color: #7fbfbf; text-decoration-color: #7fbfbf\">                    </span><span style=\"color: #000080; text-decoration-color: #000080\">INFO    </span> n_changepoints greater than number of observations. Using <span style=\"color: #008080; text-decoration-color: #008080; font-weight: bold\">18</span>.        <a href=\"file:///home/work/Documents/repo/economic_freedom_ml/.venv/lib/python3.8/site-packages/prophet/forecaster.py\" target=\"_blank\"><span style=\"color: #7f7f7f; text-decoration-color: #7f7f7f\">forecaster.py</span></a><span style=\"color: #7f7f7f; text-decoration-color: #7f7f7f\">:</span><a href=\"file:///home/work/Documents/repo/economic_freedom_ml/.venv/lib/python3.8/site-packages/prophet/forecaster.py#401\" target=\"_blank\"><span style=\"color: #7f7f7f; text-decoration-color: #7f7f7f\">401</span></a>\n",
       "</pre>\n"
      ],
      "text/plain": [
       "\u001b[2;36m                   \u001b[0m\u001b[2;36m \u001b[0m\u001b[34mINFO    \u001b[0m n_changepoints greater than number of observations. Using \u001b[1;36m18\u001b[0m.        \u001b]8;id=181830;file:///home/work/Documents/repo/economic_freedom_ml/.venv/lib/python3.8/site-packages/prophet/forecaster.py\u001b\\\u001b[2mforecaster.py\u001b[0m\u001b]8;;\u001b\\\u001b[2m:\u001b[0m\u001b]8;id=916380;file:///home/work/Documents/repo/economic_freedom_ml/.venv/lib/python3.8/site-packages/prophet/forecaster.py#401\u001b\\\u001b[2m401\u001b[0m\u001b]8;;\u001b\\\n"
      ]
     },
     "metadata": {},
     "output_type": "display_data"
    },
    {
     "data": {
      "text/html": [
       "<pre style=\"white-space:pre;overflow-x:auto;line-height:normal;font-family:Menlo,'DejaVu Sans Mono',consolas,'Courier New',monospace\"><span style=\"color: #7fbfbf; text-decoration-color: #7fbfbf\">                    </span><span style=\"color: #008000; text-decoration-color: #008000\">DEBUG   </span> input tempfile: <span style=\"color: #800080; text-decoration-color: #800080\">/tmp/tmpsaail0o2/</span><span style=\"color: #ff00ff; text-decoration-color: #ff00ff\">j9dpwstl.json</span>                       <a href=\"file:///home/work/Documents/repo/economic_freedom_ml/.venv/lib/python3.8/site-packages/cmdstanpy/utils/filesystem.py\" target=\"_blank\"><span style=\"color: #7f7f7f; text-decoration-color: #7f7f7f\">filesystem.py</span></a><span style=\"color: #7f7f7f; text-decoration-color: #7f7f7f\">:</span><a href=\"file:///home/work/Documents/repo/economic_freedom_ml/.venv/lib/python3.8/site-packages/cmdstanpy/utils/filesystem.py#123\" target=\"_blank\"><span style=\"color: #7f7f7f; text-decoration-color: #7f7f7f\">123</span></a>\n",
       "</pre>\n"
      ],
      "text/plain": [
       "\u001b[2;36m                   \u001b[0m\u001b[2;36m \u001b[0m\u001b[32mDEBUG   \u001b[0m input tempfile: \u001b[35m/tmp/tmpsaail0o2/\u001b[0m\u001b[95mj9dpwstl.json\u001b[0m                       \u001b]8;id=782921;file:///home/work/Documents/repo/economic_freedom_ml/.venv/lib/python3.8/site-packages/cmdstanpy/utils/filesystem.py\u001b\\\u001b[2mfilesystem.py\u001b[0m\u001b]8;;\u001b\\\u001b[2m:\u001b[0m\u001b]8;id=467659;file:///home/work/Documents/repo/economic_freedom_ml/.venv/lib/python3.8/site-packages/cmdstanpy/utils/filesystem.py#123\u001b\\\u001b[2m123\u001b[0m\u001b]8;;\u001b\\\n"
      ]
     },
     "metadata": {},
     "output_type": "display_data"
    },
    {
     "data": {
      "text/html": [
       "<pre style=\"white-space:pre;overflow-x:auto;line-height:normal;font-family:Menlo,'DejaVu Sans Mono',consolas,'Courier New',monospace\"><span style=\"color: #7fbfbf; text-decoration-color: #7fbfbf\">                    </span><span style=\"color: #008000; text-decoration-color: #008000\">DEBUG   </span> input tempfile: <span style=\"color: #800080; text-decoration-color: #800080\">/tmp/tmpsaail0o2/</span><span style=\"color: #ff00ff; text-decoration-color: #ff00ff\">9p2f7g1r.json</span>                       <a href=\"file:///home/work/Documents/repo/economic_freedom_ml/.venv/lib/python3.8/site-packages/cmdstanpy/utils/filesystem.py\" target=\"_blank\"><span style=\"color: #7f7f7f; text-decoration-color: #7f7f7f\">filesystem.py</span></a><span style=\"color: #7f7f7f; text-decoration-color: #7f7f7f\">:</span><a href=\"file:///home/work/Documents/repo/economic_freedom_ml/.venv/lib/python3.8/site-packages/cmdstanpy/utils/filesystem.py#123\" target=\"_blank\"><span style=\"color: #7f7f7f; text-decoration-color: #7f7f7f\">123</span></a>\n",
       "</pre>\n"
      ],
      "text/plain": [
       "\u001b[2;36m                   \u001b[0m\u001b[2;36m \u001b[0m\u001b[32mDEBUG   \u001b[0m input tempfile: \u001b[35m/tmp/tmpsaail0o2/\u001b[0m\u001b[95m9p2f7g1r.json\u001b[0m                       \u001b]8;id=487095;file:///home/work/Documents/repo/economic_freedom_ml/.venv/lib/python3.8/site-packages/cmdstanpy/utils/filesystem.py\u001b\\\u001b[2mfilesystem.py\u001b[0m\u001b]8;;\u001b\\\u001b[2m:\u001b[0m\u001b]8;id=529957;file:///home/work/Documents/repo/economic_freedom_ml/.venv/lib/python3.8/site-packages/cmdstanpy/utils/filesystem.py#123\u001b\\\u001b[2m123\u001b[0m\u001b]8;;\u001b\\\n"
      ]
     },
     "metadata": {},
     "output_type": "display_data"
    },
    {
     "data": {
      "text/html": [
       "<pre style=\"white-space:pre;overflow-x:auto;line-height:normal;font-family:Menlo,'DejaVu Sans Mono',consolas,'Courier New',monospace\"><span style=\"color: #7fbfbf; text-decoration-color: #7fbfbf\">                    </span><span style=\"color: #008000; text-decoration-color: #008000\">DEBUG   </span> idx <span style=\"color: #008080; text-decoration-color: #008080; font-weight: bold\">0</span>                                                                    <a href=\"file:///home/work/Documents/repo/economic_freedom_ml/.venv/lib/python3.8/site-packages/cmdstanpy/model.py\" target=\"_blank\"><span style=\"color: #7f7f7f; text-decoration-color: #7f7f7f\">model.py</span></a><span style=\"color: #7f7f7f; text-decoration-color: #7f7f7f\">:</span><a href=\"file:///home/work/Documents/repo/economic_freedom_ml/.venv/lib/python3.8/site-packages/cmdstanpy/model.py#1677\" target=\"_blank\"><span style=\"color: #7f7f7f; text-decoration-color: #7f7f7f\">1677</span></a>\n",
       "</pre>\n"
      ],
      "text/plain": [
       "\u001b[2;36m                   \u001b[0m\u001b[2;36m \u001b[0m\u001b[32mDEBUG   \u001b[0m idx \u001b[1;36m0\u001b[0m                                                                    \u001b]8;id=231816;file:///home/work/Documents/repo/economic_freedom_ml/.venv/lib/python3.8/site-packages/cmdstanpy/model.py\u001b\\\u001b[2mmodel.py\u001b[0m\u001b]8;;\u001b\\\u001b[2m:\u001b[0m\u001b]8;id=849250;file:///home/work/Documents/repo/economic_freedom_ml/.venv/lib/python3.8/site-packages/cmdstanpy/model.py#1677\u001b\\\u001b[2m1677\u001b[0m\u001b]8;;\u001b\\\n"
      ]
     },
     "metadata": {},
     "output_type": "display_data"
    },
    {
     "data": {
      "text/html": [
       "<pre style=\"white-space:pre;overflow-x:auto;line-height:normal;font-family:Menlo,'DejaVu Sans Mono',consolas,'Courier New',monospace\"><span style=\"color: #7fbfbf; text-decoration-color: #7fbfbf\">                    </span><span style=\"color: #008000; text-decoration-color: #008000\">DEBUG   </span> running CmdStan, num_threads: <span style=\"color: #800080; text-decoration-color: #800080; font-style: italic\">None</span>                                       <a href=\"file:///home/work/Documents/repo/economic_freedom_ml/.venv/lib/python3.8/site-packages/cmdstanpy/model.py\" target=\"_blank\"><span style=\"color: #7f7f7f; text-decoration-color: #7f7f7f\">model.py</span></a><span style=\"color: #7f7f7f; text-decoration-color: #7f7f7f\">:</span><a href=\"file:///home/work/Documents/repo/economic_freedom_ml/.venv/lib/python3.8/site-packages/cmdstanpy/model.py#1678\" target=\"_blank\"><span style=\"color: #7f7f7f; text-decoration-color: #7f7f7f\">1678</span></a>\n",
       "</pre>\n"
      ],
      "text/plain": [
       "\u001b[2;36m                   \u001b[0m\u001b[2;36m \u001b[0m\u001b[32mDEBUG   \u001b[0m running CmdStan, num_threads: \u001b[3;35mNone\u001b[0m                                       \u001b]8;id=897619;file:///home/work/Documents/repo/economic_freedom_ml/.venv/lib/python3.8/site-packages/cmdstanpy/model.py\u001b\\\u001b[2mmodel.py\u001b[0m\u001b]8;;\u001b\\\u001b[2m:\u001b[0m\u001b]8;id=57524;file:///home/work/Documents/repo/economic_freedom_ml/.venv/lib/python3.8/site-packages/cmdstanpy/model.py#1678\u001b\\\u001b[2m1678\u001b[0m\u001b]8;;\u001b\\\n"
      ]
     },
     "metadata": {},
     "output_type": "display_data"
    },
    {
     "data": {
      "text/html": [
       "<pre style=\"white-space:pre;overflow-x:auto;line-height:normal;font-family:Menlo,'DejaVu Sans Mono',consolas,'Courier New',monospace\"><span style=\"color: #7fbfbf; text-decoration-color: #7fbfbf\">                    </span><span style=\"color: #008000; text-decoration-color: #008000\">DEBUG   </span> CmdStan args:                                                            <a href=\"file:///home/work/Documents/repo/economic_freedom_ml/.venv/lib/python3.8/site-packages/cmdstanpy/model.py\" target=\"_blank\"><span style=\"color: #7f7f7f; text-decoration-color: #7f7f7f\">model.py</span></a><span style=\"color: #7f7f7f; text-decoration-color: #7f7f7f\">:</span><a href=\"file:///home/work/Documents/repo/economic_freedom_ml/.venv/lib/python3.8/site-packages/cmdstanpy/model.py#1690\" target=\"_blank\"><span style=\"color: #7f7f7f; text-decoration-color: #7f7f7f\">1690</span></a>\n",
       "<span style=\"color: #7fbfbf; text-decoration-color: #7fbfbf\">                    </span>         <span style=\"font-weight: bold\">[</span><span style=\"color: #008000; text-decoration-color: #008000\">'/home/work/Documents/repo/economic_freedom_ml/.venv/lib/python3.8/site</span> <span style=\"color: #7f7f7f; text-decoration-color: #7f7f7f\">             </span>\n",
       "<span style=\"color: #7fbfbf; text-decoration-color: #7fbfbf\">                    </span>         <span style=\"color: #008000; text-decoration-color: #008000\">-packages/prophet/stan_model/prophet_model.bin'</span>, <span style=\"color: #008000; text-decoration-color: #008000\">'random'</span>, <span style=\"color: #008000; text-decoration-color: #008000\">'seed=45253'</span>, <span style=\"color: #7f7f7f; text-decoration-color: #7f7f7f\">             </span>\n",
       "<span style=\"color: #7fbfbf; text-decoration-color: #7fbfbf\">                    </span>         <span style=\"color: #008000; text-decoration-color: #008000\">'data'</span>, <span style=\"color: #008000; text-decoration-color: #008000\">'file=/tmp/tmpsaail0o2/j9dpwstl.json'</span>,                           <span style=\"color: #7f7f7f; text-decoration-color: #7f7f7f\">             </span>\n",
       "<span style=\"color: #7fbfbf; text-decoration-color: #7fbfbf\">                    </span>         <span style=\"color: #008000; text-decoration-color: #008000\">'init=/tmp/tmpsaail0o2/9p2f7g1r.json'</span>, <span style=\"color: #008000; text-decoration-color: #008000\">'output'</span>,                         <span style=\"color: #7f7f7f; text-decoration-color: #7f7f7f\">             </span>\n",
       "<span style=\"color: #7fbfbf; text-decoration-color: #7fbfbf\">                    </span>         <span style=\"color: #008000; text-decoration-color: #008000\">'file=/tmp/tmpsaail0o2/prophet_modelgef5q61a/prophet_model-2023052018370</span> <span style=\"color: #7f7f7f; text-decoration-color: #7f7f7f\">             </span>\n",
       "<span style=\"color: #7fbfbf; text-decoration-color: #7fbfbf\">                    </span>         <span style=\"color: #008000; text-decoration-color: #008000\">2.csv'</span>, <span style=\"color: #008000; text-decoration-color: #008000\">'method=optimize'</span>, <span style=\"color: #008000; text-decoration-color: #008000\">'algorithm=newton'</span>, <span style=\"color: #008000; text-decoration-color: #008000\">'iter=10000'</span><span style=\"font-weight: bold\">]</span>             <span style=\"color: #7f7f7f; text-decoration-color: #7f7f7f\">             </span>\n",
       "</pre>\n"
      ],
      "text/plain": [
       "\u001b[2;36m                   \u001b[0m\u001b[2;36m \u001b[0m\u001b[32mDEBUG   \u001b[0m CmdStan args:                                                            \u001b]8;id=164552;file:///home/work/Documents/repo/economic_freedom_ml/.venv/lib/python3.8/site-packages/cmdstanpy/model.py\u001b\\\u001b[2mmodel.py\u001b[0m\u001b]8;;\u001b\\\u001b[2m:\u001b[0m\u001b]8;id=933933;file:///home/work/Documents/repo/economic_freedom_ml/.venv/lib/python3.8/site-packages/cmdstanpy/model.py#1690\u001b\\\u001b[2m1690\u001b[0m\u001b]8;;\u001b\\\n",
       "\u001b[2;36m                    \u001b[0m         \u001b[1m[\u001b[0m\u001b[32m'/home/work/Documents/repo/economic_freedom_ml/.venv/lib/python3.8/site\u001b[0m \u001b[2m             \u001b[0m\n",
       "\u001b[2;36m                    \u001b[0m         \u001b[32m-packages/prophet/stan_model/prophet_model.bin'\u001b[0m, \u001b[32m'random'\u001b[0m, \u001b[32m'\u001b[0m\u001b[32mseed\u001b[0m\u001b[32m=\u001b[0m\u001b[32m45253\u001b[0m\u001b[32m'\u001b[0m, \u001b[2m             \u001b[0m\n",
       "\u001b[2;36m                    \u001b[0m         \u001b[32m'data'\u001b[0m, \u001b[32m'\u001b[0m\u001b[32mfile\u001b[0m\u001b[32m=/tmp/tmpsaail0o2/j9dpwstl.json'\u001b[0m,                           \u001b[2m             \u001b[0m\n",
       "\u001b[2;36m                    \u001b[0m         \u001b[32m'\u001b[0m\u001b[32minit\u001b[0m\u001b[32m=/tmp/tmpsaail0o2/9p2f7g1r.json'\u001b[0m, \u001b[32m'output'\u001b[0m,                         \u001b[2m             \u001b[0m\n",
       "\u001b[2;36m                    \u001b[0m         \u001b[32m'\u001b[0m\u001b[32mfile\u001b[0m\u001b[32m=/tmp/tmpsaail0o2/prophet_modelgef5q61a/prophet_model-2023052018370\u001b[0m \u001b[2m             \u001b[0m\n",
       "\u001b[2;36m                    \u001b[0m         \u001b[32m2.csv'\u001b[0m, \u001b[32m'\u001b[0m\u001b[32mmethod\u001b[0m\u001b[32m=\u001b[0m\u001b[32moptimize\u001b[0m\u001b[32m'\u001b[0m, \u001b[32m'\u001b[0m\u001b[32malgorithm\u001b[0m\u001b[32m=\u001b[0m\u001b[32mnewton\u001b[0m\u001b[32m'\u001b[0m, \u001b[32m'\u001b[0m\u001b[32miter\u001b[0m\u001b[32m=\u001b[0m\u001b[32m10000\u001b[0m\u001b[32m'\u001b[0m\u001b[1m]\u001b[0m             \u001b[2m             \u001b[0m\n"
      ]
     },
     "metadata": {},
     "output_type": "display_data"
    },
    {
     "name": "stderr",
     "output_type": "stream",
     "text": [
      "18:37:02 - cmdstanpy - INFO - Chain [1] start processing\n"
     ]
    },
    {
     "data": {
      "text/html": [
       "<pre style=\"white-space:pre;overflow-x:auto;line-height:normal;font-family:Menlo,'DejaVu Sans Mono',consolas,'Courier New',monospace\"><span style=\"color: #7fbfbf; text-decoration-color: #7fbfbf\">                    </span><span style=\"color: #000080; text-decoration-color: #000080\">INFO    </span> Chain <span style=\"font-weight: bold\">[</span><span style=\"color: #008080; text-decoration-color: #008080; font-weight: bold\">1</span><span style=\"font-weight: bold\">]</span> start processing                                               <a href=\"file:///home/work/Documents/repo/economic_freedom_ml/.venv/lib/python3.8/site-packages/cmdstanpy/model.py\" target=\"_blank\"><span style=\"color: #7f7f7f; text-decoration-color: #7f7f7f\">model.py</span></a><span style=\"color: #7f7f7f; text-decoration-color: #7f7f7f\">:</span><a href=\"file:///home/work/Documents/repo/economic_freedom_ml/.venv/lib/python3.8/site-packages/cmdstanpy/model.py#1693\" target=\"_blank\"><span style=\"color: #7f7f7f; text-decoration-color: #7f7f7f\">1693</span></a>\n",
       "</pre>\n"
      ],
      "text/plain": [
       "\u001b[2;36m                   \u001b[0m\u001b[2;36m \u001b[0m\u001b[34mINFO    \u001b[0m Chain \u001b[1m[\u001b[0m\u001b[1;36m1\u001b[0m\u001b[1m]\u001b[0m start processing                                               \u001b]8;id=913574;file:///home/work/Documents/repo/economic_freedom_ml/.venv/lib/python3.8/site-packages/cmdstanpy/model.py\u001b\\\u001b[2mmodel.py\u001b[0m\u001b]8;;\u001b\\\u001b[2m:\u001b[0m\u001b]8;id=185804;file:///home/work/Documents/repo/economic_freedom_ml/.venv/lib/python3.8/site-packages/cmdstanpy/model.py#1693\u001b\\\u001b[2m1693\u001b[0m\u001b]8;;\u001b\\\n"
      ]
     },
     "metadata": {},
     "output_type": "display_data"
    },
    {
     "name": "stderr",
     "output_type": "stream",
     "text": [
      "18:37:03 - cmdstanpy - INFO - Chain [1] done processing\n"
     ]
    },
    {
     "data": {
      "text/html": [
       "<pre style=\"white-space:pre;overflow-x:auto;line-height:normal;font-family:Menlo,'DejaVu Sans Mono',consolas,'Courier New',monospace\"><span style=\"color: #7fbfbf; text-decoration-color: #7fbfbf\">[05/20/23 18:37:03] </span><span style=\"color: #000080; text-decoration-color: #000080\">INFO    </span> Chain <span style=\"font-weight: bold\">[</span><span style=\"color: #008080; text-decoration-color: #008080; font-weight: bold\">1</span><span style=\"font-weight: bold\">]</span> done processing                                                <a href=\"file:///home/work/Documents/repo/economic_freedom_ml/.venv/lib/python3.8/site-packages/cmdstanpy/model.py\" target=\"_blank\"><span style=\"color: #7f7f7f; text-decoration-color: #7f7f7f\">model.py</span></a><span style=\"color: #7f7f7f; text-decoration-color: #7f7f7f\">:</span><a href=\"file:///home/work/Documents/repo/economic_freedom_ml/.venv/lib/python3.8/site-packages/cmdstanpy/model.py#1750\" target=\"_blank\"><span style=\"color: #7f7f7f; text-decoration-color: #7f7f7f\">1750</span></a>\n",
       "</pre>\n"
      ],
      "text/plain": [
       "\u001b[2;36m[05/20/23 18:37:03]\u001b[0m\u001b[2;36m \u001b[0m\u001b[34mINFO    \u001b[0m Chain \u001b[1m[\u001b[0m\u001b[1;36m1\u001b[0m\u001b[1m]\u001b[0m done processing                                                \u001b]8;id=300738;file:///home/work/Documents/repo/economic_freedom_ml/.venv/lib/python3.8/site-packages/cmdstanpy/model.py\u001b\\\u001b[2mmodel.py\u001b[0m\u001b]8;;\u001b\\\u001b[2m:\u001b[0m\u001b]8;id=494083;file:///home/work/Documents/repo/economic_freedom_ml/.venv/lib/python3.8/site-packages/cmdstanpy/model.py#1750\u001b\\\u001b[2m1750\u001b[0m\u001b]8;;\u001b\\\n"
      ]
     },
     "metadata": {},
     "output_type": "display_data"
    },
    {
     "data": {
      "text/html": [
       "<pre style=\"white-space:pre;overflow-x:auto;line-height:normal;font-family:Menlo,'DejaVu Sans Mono',consolas,'Courier New',monospace\"><span style=\"color: #7fbfbf; text-decoration-color: #7fbfbf\">                    </span><span style=\"color: #000080; text-decoration-color: #000080\">INFO    </span> Disabling weekly seasonality. Run prophet with                       <a href=\"file:///home/work/Documents/repo/economic_freedom_ml/.venv/lib/python3.8/site-packages/prophet/forecaster.py\" target=\"_blank\"><span style=\"color: #7f7f7f; text-decoration-color: #7f7f7f\">forecaster.py</span></a><span style=\"color: #7f7f7f; text-decoration-color: #7f7f7f\">:</span><a href=\"file:///home/work/Documents/repo/economic_freedom_ml/.venv/lib/python3.8/site-packages/prophet/forecaster.py#931\" target=\"_blank\"><span style=\"color: #7f7f7f; text-decoration-color: #7f7f7f\">931</span></a>\n",
       "<span style=\"color: #7fbfbf; text-decoration-color: #7fbfbf\">                    </span>         <span style=\"color: #808000; text-decoration-color: #808000\">weekly_seasonality</span>=<span style=\"color: #00ff00; text-decoration-color: #00ff00; font-style: italic\">True</span> to override this.                            <span style=\"color: #7f7f7f; text-decoration-color: #7f7f7f\">                 </span>\n",
       "</pre>\n"
      ],
      "text/plain": [
       "\u001b[2;36m                   \u001b[0m\u001b[2;36m \u001b[0m\u001b[34mINFO    \u001b[0m Disabling weekly seasonality. Run prophet with                       \u001b]8;id=956522;file:///home/work/Documents/repo/economic_freedom_ml/.venv/lib/python3.8/site-packages/prophet/forecaster.py\u001b\\\u001b[2mforecaster.py\u001b[0m\u001b]8;;\u001b\\\u001b[2m:\u001b[0m\u001b]8;id=876553;file:///home/work/Documents/repo/economic_freedom_ml/.venv/lib/python3.8/site-packages/prophet/forecaster.py#931\u001b\\\u001b[2m931\u001b[0m\u001b]8;;\u001b\\\n",
       "\u001b[2;36m                    \u001b[0m         \u001b[33mweekly_seasonality\u001b[0m=\u001b[3;92mTrue\u001b[0m to override this.                            \u001b[2m                 \u001b[0m\n"
      ]
     },
     "metadata": {},
     "output_type": "display_data"
    },
    {
     "data": {
      "text/html": [
       "<pre style=\"white-space:pre;overflow-x:auto;line-height:normal;font-family:Menlo,'DejaVu Sans Mono',consolas,'Courier New',monospace\"><span style=\"color: #7fbfbf; text-decoration-color: #7fbfbf\">                    </span><span style=\"color: #000080; text-decoration-color: #000080\">INFO    </span> Disabling daily seasonality. Run prophet with <span style=\"color: #808000; text-decoration-color: #808000\">daily_seasonality</span>=<span style=\"color: #00ff00; text-decoration-color: #00ff00; font-style: italic\">True</span> <a href=\"file:///home/work/Documents/repo/economic_freedom_ml/.venv/lib/python3.8/site-packages/prophet/forecaster.py\" target=\"_blank\"><span style=\"color: #7f7f7f; text-decoration-color: #7f7f7f\">forecaster.py</span></a><span style=\"color: #7f7f7f; text-decoration-color: #7f7f7f\">:</span><a href=\"file:///home/work/Documents/repo/economic_freedom_ml/.venv/lib/python3.8/site-packages/prophet/forecaster.py#931\" target=\"_blank\"><span style=\"color: #7f7f7f; text-decoration-color: #7f7f7f\">931</span></a>\n",
       "<span style=\"color: #7fbfbf; text-decoration-color: #7fbfbf\">                    </span>         to override this.                                                    <span style=\"color: #7f7f7f; text-decoration-color: #7f7f7f\">                 </span>\n",
       "</pre>\n"
      ],
      "text/plain": [
       "\u001b[2;36m                   \u001b[0m\u001b[2;36m \u001b[0m\u001b[34mINFO    \u001b[0m Disabling daily seasonality. Run prophet with \u001b[33mdaily_seasonality\u001b[0m=\u001b[3;92mTrue\u001b[0m \u001b]8;id=670197;file:///home/work/Documents/repo/economic_freedom_ml/.venv/lib/python3.8/site-packages/prophet/forecaster.py\u001b\\\u001b[2mforecaster.py\u001b[0m\u001b]8;;\u001b\\\u001b[2m:\u001b[0m\u001b]8;id=685956;file:///home/work/Documents/repo/economic_freedom_ml/.venv/lib/python3.8/site-packages/prophet/forecaster.py#931\u001b\\\u001b[2m931\u001b[0m\u001b]8;;\u001b\\\n",
       "\u001b[2;36m                    \u001b[0m         to override this.                                                    \u001b[2m                 \u001b[0m\n"
      ]
     },
     "metadata": {},
     "output_type": "display_data"
    },
    {
     "data": {
      "text/html": [
       "<pre style=\"white-space:pre;overflow-x:auto;line-height:normal;font-family:Menlo,'DejaVu Sans Mono',consolas,'Courier New',monospace\"><span style=\"color: #7fbfbf; text-decoration-color: #7fbfbf\">                    </span><span style=\"color: #000080; text-decoration-color: #000080\">INFO    </span> n_changepoints greater than number of observations. Using <span style=\"color: #008080; text-decoration-color: #008080; font-weight: bold\">18</span>.        <a href=\"file:///home/work/Documents/repo/economic_freedom_ml/.venv/lib/python3.8/site-packages/prophet/forecaster.py\" target=\"_blank\"><span style=\"color: #7f7f7f; text-decoration-color: #7f7f7f\">forecaster.py</span></a><span style=\"color: #7f7f7f; text-decoration-color: #7f7f7f\">:</span><a href=\"file:///home/work/Documents/repo/economic_freedom_ml/.venv/lib/python3.8/site-packages/prophet/forecaster.py#401\" target=\"_blank\"><span style=\"color: #7f7f7f; text-decoration-color: #7f7f7f\">401</span></a>\n",
       "</pre>\n"
      ],
      "text/plain": [
       "\u001b[2;36m                   \u001b[0m\u001b[2;36m \u001b[0m\u001b[34mINFO    \u001b[0m n_changepoints greater than number of observations. Using \u001b[1;36m18\u001b[0m.        \u001b]8;id=54574;file:///home/work/Documents/repo/economic_freedom_ml/.venv/lib/python3.8/site-packages/prophet/forecaster.py\u001b\\\u001b[2mforecaster.py\u001b[0m\u001b]8;;\u001b\\\u001b[2m:\u001b[0m\u001b]8;id=294414;file:///home/work/Documents/repo/economic_freedom_ml/.venv/lib/python3.8/site-packages/prophet/forecaster.py#401\u001b\\\u001b[2m401\u001b[0m\u001b]8;;\u001b\\\n"
      ]
     },
     "metadata": {},
     "output_type": "display_data"
    },
    {
     "data": {
      "text/html": [
       "<pre style=\"white-space:pre;overflow-x:auto;line-height:normal;font-family:Menlo,'DejaVu Sans Mono',consolas,'Courier New',monospace\"><span style=\"color: #7fbfbf; text-decoration-color: #7fbfbf\">                    </span><span style=\"color: #008000; text-decoration-color: #008000\">DEBUG   </span> input tempfile: <span style=\"color: #800080; text-decoration-color: #800080\">/tmp/tmpsaail0o2/</span><span style=\"color: #ff00ff; text-decoration-color: #ff00ff\">_h_j9h__.json</span>                       <a href=\"file:///home/work/Documents/repo/economic_freedom_ml/.venv/lib/python3.8/site-packages/cmdstanpy/utils/filesystem.py\" target=\"_blank\"><span style=\"color: #7f7f7f; text-decoration-color: #7f7f7f\">filesystem.py</span></a><span style=\"color: #7f7f7f; text-decoration-color: #7f7f7f\">:</span><a href=\"file:///home/work/Documents/repo/economic_freedom_ml/.venv/lib/python3.8/site-packages/cmdstanpy/utils/filesystem.py#123\" target=\"_blank\"><span style=\"color: #7f7f7f; text-decoration-color: #7f7f7f\">123</span></a>\n",
       "</pre>\n"
      ],
      "text/plain": [
       "\u001b[2;36m                   \u001b[0m\u001b[2;36m \u001b[0m\u001b[32mDEBUG   \u001b[0m input tempfile: \u001b[35m/tmp/tmpsaail0o2/\u001b[0m\u001b[95m_h_j9h__.json\u001b[0m                       \u001b]8;id=345596;file:///home/work/Documents/repo/economic_freedom_ml/.venv/lib/python3.8/site-packages/cmdstanpy/utils/filesystem.py\u001b\\\u001b[2mfilesystem.py\u001b[0m\u001b]8;;\u001b\\\u001b[2m:\u001b[0m\u001b]8;id=992854;file:///home/work/Documents/repo/economic_freedom_ml/.venv/lib/python3.8/site-packages/cmdstanpy/utils/filesystem.py#123\u001b\\\u001b[2m123\u001b[0m\u001b]8;;\u001b\\\n"
      ]
     },
     "metadata": {},
     "output_type": "display_data"
    },
    {
     "data": {
      "text/html": [
       "<pre style=\"white-space:pre;overflow-x:auto;line-height:normal;font-family:Menlo,'DejaVu Sans Mono',consolas,'Courier New',monospace\"><span style=\"color: #7fbfbf; text-decoration-color: #7fbfbf\">                    </span><span style=\"color: #008000; text-decoration-color: #008000\">DEBUG   </span> input tempfile: <span style=\"color: #800080; text-decoration-color: #800080\">/tmp/tmpsaail0o2/</span><span style=\"color: #ff00ff; text-decoration-color: #ff00ff\">07orozn9.json</span>                       <a href=\"file:///home/work/Documents/repo/economic_freedom_ml/.venv/lib/python3.8/site-packages/cmdstanpy/utils/filesystem.py\" target=\"_blank\"><span style=\"color: #7f7f7f; text-decoration-color: #7f7f7f\">filesystem.py</span></a><span style=\"color: #7f7f7f; text-decoration-color: #7f7f7f\">:</span><a href=\"file:///home/work/Documents/repo/economic_freedom_ml/.venv/lib/python3.8/site-packages/cmdstanpy/utils/filesystem.py#123\" target=\"_blank\"><span style=\"color: #7f7f7f; text-decoration-color: #7f7f7f\">123</span></a>\n",
       "</pre>\n"
      ],
      "text/plain": [
       "\u001b[2;36m                   \u001b[0m\u001b[2;36m \u001b[0m\u001b[32mDEBUG   \u001b[0m input tempfile: \u001b[35m/tmp/tmpsaail0o2/\u001b[0m\u001b[95m07orozn9.json\u001b[0m                       \u001b]8;id=494789;file:///home/work/Documents/repo/economic_freedom_ml/.venv/lib/python3.8/site-packages/cmdstanpy/utils/filesystem.py\u001b\\\u001b[2mfilesystem.py\u001b[0m\u001b]8;;\u001b\\\u001b[2m:\u001b[0m\u001b]8;id=989099;file:///home/work/Documents/repo/economic_freedom_ml/.venv/lib/python3.8/site-packages/cmdstanpy/utils/filesystem.py#123\u001b\\\u001b[2m123\u001b[0m\u001b]8;;\u001b\\\n"
      ]
     },
     "metadata": {},
     "output_type": "display_data"
    },
    {
     "data": {
      "text/html": [
       "<pre style=\"white-space:pre;overflow-x:auto;line-height:normal;font-family:Menlo,'DejaVu Sans Mono',consolas,'Courier New',monospace\"><span style=\"color: #7fbfbf; text-decoration-color: #7fbfbf\">                    </span><span style=\"color: #008000; text-decoration-color: #008000\">DEBUG   </span> idx <span style=\"color: #008080; text-decoration-color: #008080; font-weight: bold\">0</span>                                                                    <a href=\"file:///home/work/Documents/repo/economic_freedom_ml/.venv/lib/python3.8/site-packages/cmdstanpy/model.py\" target=\"_blank\"><span style=\"color: #7f7f7f; text-decoration-color: #7f7f7f\">model.py</span></a><span style=\"color: #7f7f7f; text-decoration-color: #7f7f7f\">:</span><a href=\"file:///home/work/Documents/repo/economic_freedom_ml/.venv/lib/python3.8/site-packages/cmdstanpy/model.py#1677\" target=\"_blank\"><span style=\"color: #7f7f7f; text-decoration-color: #7f7f7f\">1677</span></a>\n",
       "</pre>\n"
      ],
      "text/plain": [
       "\u001b[2;36m                   \u001b[0m\u001b[2;36m \u001b[0m\u001b[32mDEBUG   \u001b[0m idx \u001b[1;36m0\u001b[0m                                                                    \u001b]8;id=750009;file:///home/work/Documents/repo/economic_freedom_ml/.venv/lib/python3.8/site-packages/cmdstanpy/model.py\u001b\\\u001b[2mmodel.py\u001b[0m\u001b]8;;\u001b\\\u001b[2m:\u001b[0m\u001b]8;id=727461;file:///home/work/Documents/repo/economic_freedom_ml/.venv/lib/python3.8/site-packages/cmdstanpy/model.py#1677\u001b\\\u001b[2m1677\u001b[0m\u001b]8;;\u001b\\\n"
      ]
     },
     "metadata": {},
     "output_type": "display_data"
    },
    {
     "data": {
      "text/html": [
       "<pre style=\"white-space:pre;overflow-x:auto;line-height:normal;font-family:Menlo,'DejaVu Sans Mono',consolas,'Courier New',monospace\"><span style=\"color: #7fbfbf; text-decoration-color: #7fbfbf\">                    </span><span style=\"color: #008000; text-decoration-color: #008000\">DEBUG   </span> running CmdStan, num_threads: <span style=\"color: #800080; text-decoration-color: #800080; font-style: italic\">None</span>                                       <a href=\"file:///home/work/Documents/repo/economic_freedom_ml/.venv/lib/python3.8/site-packages/cmdstanpy/model.py\" target=\"_blank\"><span style=\"color: #7f7f7f; text-decoration-color: #7f7f7f\">model.py</span></a><span style=\"color: #7f7f7f; text-decoration-color: #7f7f7f\">:</span><a href=\"file:///home/work/Documents/repo/economic_freedom_ml/.venv/lib/python3.8/site-packages/cmdstanpy/model.py#1678\" target=\"_blank\"><span style=\"color: #7f7f7f; text-decoration-color: #7f7f7f\">1678</span></a>\n",
       "</pre>\n"
      ],
      "text/plain": [
       "\u001b[2;36m                   \u001b[0m\u001b[2;36m \u001b[0m\u001b[32mDEBUG   \u001b[0m running CmdStan, num_threads: \u001b[3;35mNone\u001b[0m                                       \u001b]8;id=476341;file:///home/work/Documents/repo/economic_freedom_ml/.venv/lib/python3.8/site-packages/cmdstanpy/model.py\u001b\\\u001b[2mmodel.py\u001b[0m\u001b]8;;\u001b\\\u001b[2m:\u001b[0m\u001b]8;id=709831;file:///home/work/Documents/repo/economic_freedom_ml/.venv/lib/python3.8/site-packages/cmdstanpy/model.py#1678\u001b\\\u001b[2m1678\u001b[0m\u001b]8;;\u001b\\\n"
      ]
     },
     "metadata": {},
     "output_type": "display_data"
    },
    {
     "data": {
      "text/html": [
       "<pre style=\"white-space:pre;overflow-x:auto;line-height:normal;font-family:Menlo,'DejaVu Sans Mono',consolas,'Courier New',monospace\"><span style=\"color: #7fbfbf; text-decoration-color: #7fbfbf\">                    </span><span style=\"color: #008000; text-decoration-color: #008000\">DEBUG   </span> CmdStan args:                                                            <a href=\"file:///home/work/Documents/repo/economic_freedom_ml/.venv/lib/python3.8/site-packages/cmdstanpy/model.py\" target=\"_blank\"><span style=\"color: #7f7f7f; text-decoration-color: #7f7f7f\">model.py</span></a><span style=\"color: #7f7f7f; text-decoration-color: #7f7f7f\">:</span><a href=\"file:///home/work/Documents/repo/economic_freedom_ml/.venv/lib/python3.8/site-packages/cmdstanpy/model.py#1690\" target=\"_blank\"><span style=\"color: #7f7f7f; text-decoration-color: #7f7f7f\">1690</span></a>\n",
       "<span style=\"color: #7fbfbf; text-decoration-color: #7fbfbf\">                    </span>         <span style=\"font-weight: bold\">[</span><span style=\"color: #008000; text-decoration-color: #008000\">'/home/work/Documents/repo/economic_freedom_ml/.venv/lib/python3.8/site</span> <span style=\"color: #7f7f7f; text-decoration-color: #7f7f7f\">             </span>\n",
       "<span style=\"color: #7fbfbf; text-decoration-color: #7fbfbf\">                    </span>         <span style=\"color: #008000; text-decoration-color: #008000\">-packages/prophet/stan_model/prophet_model.bin'</span>, <span style=\"color: #008000; text-decoration-color: #008000\">'random'</span>, <span style=\"color: #008000; text-decoration-color: #008000\">'seed=25454'</span>, <span style=\"color: #7f7f7f; text-decoration-color: #7f7f7f\">             </span>\n",
       "<span style=\"color: #7fbfbf; text-decoration-color: #7fbfbf\">                    </span>         <span style=\"color: #008000; text-decoration-color: #008000\">'data'</span>, <span style=\"color: #008000; text-decoration-color: #008000\">'file=/tmp/tmpsaail0o2/_h_j9h__.json'</span>,                           <span style=\"color: #7f7f7f; text-decoration-color: #7f7f7f\">             </span>\n",
       "<span style=\"color: #7fbfbf; text-decoration-color: #7fbfbf\">                    </span>         <span style=\"color: #008000; text-decoration-color: #008000\">'init=/tmp/tmpsaail0o2/07orozn9.json'</span>, <span style=\"color: #008000; text-decoration-color: #008000\">'output'</span>,                         <span style=\"color: #7f7f7f; text-decoration-color: #7f7f7f\">             </span>\n",
       "<span style=\"color: #7fbfbf; text-decoration-color: #7fbfbf\">                    </span>         <span style=\"color: #008000; text-decoration-color: #008000\">'file=/tmp/tmpsaail0o2/prophet_modelbsrd0lee/prophet_model-2023052018370</span> <span style=\"color: #7f7f7f; text-decoration-color: #7f7f7f\">             </span>\n",
       "<span style=\"color: #7fbfbf; text-decoration-color: #7fbfbf\">                    </span>         <span style=\"color: #008000; text-decoration-color: #008000\">3.csv'</span>, <span style=\"color: #008000; text-decoration-color: #008000\">'method=optimize'</span>, <span style=\"color: #008000; text-decoration-color: #008000\">'algorithm=newton'</span>, <span style=\"color: #008000; text-decoration-color: #008000\">'iter=10000'</span><span style=\"font-weight: bold\">]</span>             <span style=\"color: #7f7f7f; text-decoration-color: #7f7f7f\">             </span>\n",
       "</pre>\n"
      ],
      "text/plain": [
       "\u001b[2;36m                   \u001b[0m\u001b[2;36m \u001b[0m\u001b[32mDEBUG   \u001b[0m CmdStan args:                                                            \u001b]8;id=935317;file:///home/work/Documents/repo/economic_freedom_ml/.venv/lib/python3.8/site-packages/cmdstanpy/model.py\u001b\\\u001b[2mmodel.py\u001b[0m\u001b]8;;\u001b\\\u001b[2m:\u001b[0m\u001b]8;id=252916;file:///home/work/Documents/repo/economic_freedom_ml/.venv/lib/python3.8/site-packages/cmdstanpy/model.py#1690\u001b\\\u001b[2m1690\u001b[0m\u001b]8;;\u001b\\\n",
       "\u001b[2;36m                    \u001b[0m         \u001b[1m[\u001b[0m\u001b[32m'/home/work/Documents/repo/economic_freedom_ml/.venv/lib/python3.8/site\u001b[0m \u001b[2m             \u001b[0m\n",
       "\u001b[2;36m                    \u001b[0m         \u001b[32m-packages/prophet/stan_model/prophet_model.bin'\u001b[0m, \u001b[32m'random'\u001b[0m, \u001b[32m'\u001b[0m\u001b[32mseed\u001b[0m\u001b[32m=\u001b[0m\u001b[32m25454\u001b[0m\u001b[32m'\u001b[0m, \u001b[2m             \u001b[0m\n",
       "\u001b[2;36m                    \u001b[0m         \u001b[32m'data'\u001b[0m, \u001b[32m'\u001b[0m\u001b[32mfile\u001b[0m\u001b[32m=/tmp/tmpsaail0o2/_h_j9h__.json'\u001b[0m,                           \u001b[2m             \u001b[0m\n",
       "\u001b[2;36m                    \u001b[0m         \u001b[32m'\u001b[0m\u001b[32minit\u001b[0m\u001b[32m=/tmp/tmpsaail0o2/07orozn9.json'\u001b[0m, \u001b[32m'output'\u001b[0m,                         \u001b[2m             \u001b[0m\n",
       "\u001b[2;36m                    \u001b[0m         \u001b[32m'\u001b[0m\u001b[32mfile\u001b[0m\u001b[32m=/tmp/tmpsaail0o2/prophet_modelbsrd0lee/prophet_model-2023052018370\u001b[0m \u001b[2m             \u001b[0m\n",
       "\u001b[2;36m                    \u001b[0m         \u001b[32m3.csv'\u001b[0m, \u001b[32m'\u001b[0m\u001b[32mmethod\u001b[0m\u001b[32m=\u001b[0m\u001b[32moptimize\u001b[0m\u001b[32m'\u001b[0m, \u001b[32m'\u001b[0m\u001b[32malgorithm\u001b[0m\u001b[32m=\u001b[0m\u001b[32mnewton\u001b[0m\u001b[32m'\u001b[0m, \u001b[32m'\u001b[0m\u001b[32miter\u001b[0m\u001b[32m=\u001b[0m\u001b[32m10000\u001b[0m\u001b[32m'\u001b[0m\u001b[1m]\u001b[0m             \u001b[2m             \u001b[0m\n"
      ]
     },
     "metadata": {},
     "output_type": "display_data"
    },
    {
     "name": "stderr",
     "output_type": "stream",
     "text": [
      "18:37:03 - cmdstanpy - INFO - Chain [1] start processing\n"
     ]
    },
    {
     "data": {
      "text/html": [
       "<pre style=\"white-space:pre;overflow-x:auto;line-height:normal;font-family:Menlo,'DejaVu Sans Mono',consolas,'Courier New',monospace\"><span style=\"color: #7fbfbf; text-decoration-color: #7fbfbf\">                    </span><span style=\"color: #000080; text-decoration-color: #000080\">INFO    </span> Chain <span style=\"font-weight: bold\">[</span><span style=\"color: #008080; text-decoration-color: #008080; font-weight: bold\">1</span><span style=\"font-weight: bold\">]</span> start processing                                               <a href=\"file:///home/work/Documents/repo/economic_freedom_ml/.venv/lib/python3.8/site-packages/cmdstanpy/model.py\" target=\"_blank\"><span style=\"color: #7f7f7f; text-decoration-color: #7f7f7f\">model.py</span></a><span style=\"color: #7f7f7f; text-decoration-color: #7f7f7f\">:</span><a href=\"file:///home/work/Documents/repo/economic_freedom_ml/.venv/lib/python3.8/site-packages/cmdstanpy/model.py#1693\" target=\"_blank\"><span style=\"color: #7f7f7f; text-decoration-color: #7f7f7f\">1693</span></a>\n",
       "</pre>\n"
      ],
      "text/plain": [
       "\u001b[2;36m                   \u001b[0m\u001b[2;36m \u001b[0m\u001b[34mINFO    \u001b[0m Chain \u001b[1m[\u001b[0m\u001b[1;36m1\u001b[0m\u001b[1m]\u001b[0m start processing                                               \u001b]8;id=404787;file:///home/work/Documents/repo/economic_freedom_ml/.venv/lib/python3.8/site-packages/cmdstanpy/model.py\u001b\\\u001b[2mmodel.py\u001b[0m\u001b]8;;\u001b\\\u001b[2m:\u001b[0m\u001b]8;id=754069;file:///home/work/Documents/repo/economic_freedom_ml/.venv/lib/python3.8/site-packages/cmdstanpy/model.py#1693\u001b\\\u001b[2m1693\u001b[0m\u001b]8;;\u001b\\\n"
      ]
     },
     "metadata": {},
     "output_type": "display_data"
    },
    {
     "name": "stderr",
     "output_type": "stream",
     "text": [
      "18:37:03 - cmdstanpy - INFO - Chain [1] done processing\n"
     ]
    },
    {
     "data": {
      "text/html": [
       "<pre style=\"white-space:pre;overflow-x:auto;line-height:normal;font-family:Menlo,'DejaVu Sans Mono',consolas,'Courier New',monospace\"><span style=\"color: #7fbfbf; text-decoration-color: #7fbfbf\">                    </span><span style=\"color: #000080; text-decoration-color: #000080\">INFO    </span> Chain <span style=\"font-weight: bold\">[</span><span style=\"color: #008080; text-decoration-color: #008080; font-weight: bold\">1</span><span style=\"font-weight: bold\">]</span> done processing                                                <a href=\"file:///home/work/Documents/repo/economic_freedom_ml/.venv/lib/python3.8/site-packages/cmdstanpy/model.py\" target=\"_blank\"><span style=\"color: #7f7f7f; text-decoration-color: #7f7f7f\">model.py</span></a><span style=\"color: #7f7f7f; text-decoration-color: #7f7f7f\">:</span><a href=\"file:///home/work/Documents/repo/economic_freedom_ml/.venv/lib/python3.8/site-packages/cmdstanpy/model.py#1750\" target=\"_blank\"><span style=\"color: #7f7f7f; text-decoration-color: #7f7f7f\">1750</span></a>\n",
       "</pre>\n"
      ],
      "text/plain": [
       "\u001b[2;36m                   \u001b[0m\u001b[2;36m \u001b[0m\u001b[34mINFO    \u001b[0m Chain \u001b[1m[\u001b[0m\u001b[1;36m1\u001b[0m\u001b[1m]\u001b[0m done processing                                                \u001b]8;id=424788;file:///home/work/Documents/repo/economic_freedom_ml/.venv/lib/python3.8/site-packages/cmdstanpy/model.py\u001b\\\u001b[2mmodel.py\u001b[0m\u001b]8;;\u001b\\\u001b[2m:\u001b[0m\u001b]8;id=526728;file:///home/work/Documents/repo/economic_freedom_ml/.venv/lib/python3.8/site-packages/cmdstanpy/model.py#1750\u001b\\\u001b[2m1750\u001b[0m\u001b]8;;\u001b\\\n"
      ]
     },
     "metadata": {},
     "output_type": "display_data"
    },
    {
     "data": {
      "text/html": [
       "<pre style=\"white-space:pre;overflow-x:auto;line-height:normal;font-family:Menlo,'DejaVu Sans Mono',consolas,'Courier New',monospace\"><span style=\"color: #7fbfbf; text-decoration-color: #7fbfbf\">                    </span><span style=\"color: #000080; text-decoration-color: #000080\">INFO    </span> Disabling weekly seasonality. Run prophet with                       <a href=\"file:///home/work/Documents/repo/economic_freedom_ml/.venv/lib/python3.8/site-packages/prophet/forecaster.py\" target=\"_blank\"><span style=\"color: #7f7f7f; text-decoration-color: #7f7f7f\">forecaster.py</span></a><span style=\"color: #7f7f7f; text-decoration-color: #7f7f7f\">:</span><a href=\"file:///home/work/Documents/repo/economic_freedom_ml/.venv/lib/python3.8/site-packages/prophet/forecaster.py#931\" target=\"_blank\"><span style=\"color: #7f7f7f; text-decoration-color: #7f7f7f\">931</span></a>\n",
       "<span style=\"color: #7fbfbf; text-decoration-color: #7fbfbf\">                    </span>         <span style=\"color: #808000; text-decoration-color: #808000\">weekly_seasonality</span>=<span style=\"color: #00ff00; text-decoration-color: #00ff00; font-style: italic\">True</span> to override this.                            <span style=\"color: #7f7f7f; text-decoration-color: #7f7f7f\">                 </span>\n",
       "</pre>\n"
      ],
      "text/plain": [
       "\u001b[2;36m                   \u001b[0m\u001b[2;36m \u001b[0m\u001b[34mINFO    \u001b[0m Disabling weekly seasonality. Run prophet with                       \u001b]8;id=355782;file:///home/work/Documents/repo/economic_freedom_ml/.venv/lib/python3.8/site-packages/prophet/forecaster.py\u001b\\\u001b[2mforecaster.py\u001b[0m\u001b]8;;\u001b\\\u001b[2m:\u001b[0m\u001b]8;id=255038;file:///home/work/Documents/repo/economic_freedom_ml/.venv/lib/python3.8/site-packages/prophet/forecaster.py#931\u001b\\\u001b[2m931\u001b[0m\u001b]8;;\u001b\\\n",
       "\u001b[2;36m                    \u001b[0m         \u001b[33mweekly_seasonality\u001b[0m=\u001b[3;92mTrue\u001b[0m to override this.                            \u001b[2m                 \u001b[0m\n"
      ]
     },
     "metadata": {},
     "output_type": "display_data"
    },
    {
     "data": {
      "text/html": [
       "<pre style=\"white-space:pre;overflow-x:auto;line-height:normal;font-family:Menlo,'DejaVu Sans Mono',consolas,'Courier New',monospace\"><span style=\"color: #7fbfbf; text-decoration-color: #7fbfbf\">                    </span><span style=\"color: #000080; text-decoration-color: #000080\">INFO    </span> Disabling daily seasonality. Run prophet with <span style=\"color: #808000; text-decoration-color: #808000\">daily_seasonality</span>=<span style=\"color: #00ff00; text-decoration-color: #00ff00; font-style: italic\">True</span> <a href=\"file:///home/work/Documents/repo/economic_freedom_ml/.venv/lib/python3.8/site-packages/prophet/forecaster.py\" target=\"_blank\"><span style=\"color: #7f7f7f; text-decoration-color: #7f7f7f\">forecaster.py</span></a><span style=\"color: #7f7f7f; text-decoration-color: #7f7f7f\">:</span><a href=\"file:///home/work/Documents/repo/economic_freedom_ml/.venv/lib/python3.8/site-packages/prophet/forecaster.py#931\" target=\"_blank\"><span style=\"color: #7f7f7f; text-decoration-color: #7f7f7f\">931</span></a>\n",
       "<span style=\"color: #7fbfbf; text-decoration-color: #7fbfbf\">                    </span>         to override this.                                                    <span style=\"color: #7f7f7f; text-decoration-color: #7f7f7f\">                 </span>\n",
       "</pre>\n"
      ],
      "text/plain": [
       "\u001b[2;36m                   \u001b[0m\u001b[2;36m \u001b[0m\u001b[34mINFO    \u001b[0m Disabling daily seasonality. Run prophet with \u001b[33mdaily_seasonality\u001b[0m=\u001b[3;92mTrue\u001b[0m \u001b]8;id=583732;file:///home/work/Documents/repo/economic_freedom_ml/.venv/lib/python3.8/site-packages/prophet/forecaster.py\u001b\\\u001b[2mforecaster.py\u001b[0m\u001b]8;;\u001b\\\u001b[2m:\u001b[0m\u001b]8;id=624442;file:///home/work/Documents/repo/economic_freedom_ml/.venv/lib/python3.8/site-packages/prophet/forecaster.py#931\u001b\\\u001b[2m931\u001b[0m\u001b]8;;\u001b\\\n",
       "\u001b[2;36m                    \u001b[0m         to override this.                                                    \u001b[2m                 \u001b[0m\n"
      ]
     },
     "metadata": {},
     "output_type": "display_data"
    },
    {
     "data": {
      "text/html": [
       "<pre style=\"white-space:pre;overflow-x:auto;line-height:normal;font-family:Menlo,'DejaVu Sans Mono',consolas,'Courier New',monospace\"><span style=\"color: #7fbfbf; text-decoration-color: #7fbfbf\">                    </span><span style=\"color: #000080; text-decoration-color: #000080\">INFO    </span> n_changepoints greater than number of observations. Using <span style=\"color: #008080; text-decoration-color: #008080; font-weight: bold\">18</span>.        <a href=\"file:///home/work/Documents/repo/economic_freedom_ml/.venv/lib/python3.8/site-packages/prophet/forecaster.py\" target=\"_blank\"><span style=\"color: #7f7f7f; text-decoration-color: #7f7f7f\">forecaster.py</span></a><span style=\"color: #7f7f7f; text-decoration-color: #7f7f7f\">:</span><a href=\"file:///home/work/Documents/repo/economic_freedom_ml/.venv/lib/python3.8/site-packages/prophet/forecaster.py#401\" target=\"_blank\"><span style=\"color: #7f7f7f; text-decoration-color: #7f7f7f\">401</span></a>\n",
       "</pre>\n"
      ],
      "text/plain": [
       "\u001b[2;36m                   \u001b[0m\u001b[2;36m \u001b[0m\u001b[34mINFO    \u001b[0m n_changepoints greater than number of observations. Using \u001b[1;36m18\u001b[0m.        \u001b]8;id=339663;file:///home/work/Documents/repo/economic_freedom_ml/.venv/lib/python3.8/site-packages/prophet/forecaster.py\u001b\\\u001b[2mforecaster.py\u001b[0m\u001b]8;;\u001b\\\u001b[2m:\u001b[0m\u001b]8;id=927500;file:///home/work/Documents/repo/economic_freedom_ml/.venv/lib/python3.8/site-packages/prophet/forecaster.py#401\u001b\\\u001b[2m401\u001b[0m\u001b]8;;\u001b\\\n"
      ]
     },
     "metadata": {},
     "output_type": "display_data"
    },
    {
     "data": {
      "text/html": [
       "<pre style=\"white-space:pre;overflow-x:auto;line-height:normal;font-family:Menlo,'DejaVu Sans Mono',consolas,'Courier New',monospace\"><span style=\"color: #7fbfbf; text-decoration-color: #7fbfbf\">                    </span><span style=\"color: #008000; text-decoration-color: #008000\">DEBUG   </span> input tempfile: <span style=\"color: #800080; text-decoration-color: #800080\">/tmp/tmpsaail0o2/</span><span style=\"color: #ff00ff; text-decoration-color: #ff00ff\">jljdxth5.json</span>                       <a href=\"file:///home/work/Documents/repo/economic_freedom_ml/.venv/lib/python3.8/site-packages/cmdstanpy/utils/filesystem.py\" target=\"_blank\"><span style=\"color: #7f7f7f; text-decoration-color: #7f7f7f\">filesystem.py</span></a><span style=\"color: #7f7f7f; text-decoration-color: #7f7f7f\">:</span><a href=\"file:///home/work/Documents/repo/economic_freedom_ml/.venv/lib/python3.8/site-packages/cmdstanpy/utils/filesystem.py#123\" target=\"_blank\"><span style=\"color: #7f7f7f; text-decoration-color: #7f7f7f\">123</span></a>\n",
       "</pre>\n"
      ],
      "text/plain": [
       "\u001b[2;36m                   \u001b[0m\u001b[2;36m \u001b[0m\u001b[32mDEBUG   \u001b[0m input tempfile: \u001b[35m/tmp/tmpsaail0o2/\u001b[0m\u001b[95mjljdxth5.json\u001b[0m                       \u001b]8;id=229519;file:///home/work/Documents/repo/economic_freedom_ml/.venv/lib/python3.8/site-packages/cmdstanpy/utils/filesystem.py\u001b\\\u001b[2mfilesystem.py\u001b[0m\u001b]8;;\u001b\\\u001b[2m:\u001b[0m\u001b]8;id=691277;file:///home/work/Documents/repo/economic_freedom_ml/.venv/lib/python3.8/site-packages/cmdstanpy/utils/filesystem.py#123\u001b\\\u001b[2m123\u001b[0m\u001b]8;;\u001b\\\n"
      ]
     },
     "metadata": {},
     "output_type": "display_data"
    },
    {
     "data": {
      "text/html": [
       "<pre style=\"white-space:pre;overflow-x:auto;line-height:normal;font-family:Menlo,'DejaVu Sans Mono',consolas,'Courier New',monospace\"><span style=\"color: #7fbfbf; text-decoration-color: #7fbfbf\">                    </span><span style=\"color: #008000; text-decoration-color: #008000\">DEBUG   </span> input tempfile: <span style=\"color: #800080; text-decoration-color: #800080\">/tmp/tmpsaail0o2/</span><span style=\"color: #ff00ff; text-decoration-color: #ff00ff\">dgp5l2ur.json</span>                       <a href=\"file:///home/work/Documents/repo/economic_freedom_ml/.venv/lib/python3.8/site-packages/cmdstanpy/utils/filesystem.py\" target=\"_blank\"><span style=\"color: #7f7f7f; text-decoration-color: #7f7f7f\">filesystem.py</span></a><span style=\"color: #7f7f7f; text-decoration-color: #7f7f7f\">:</span><a href=\"file:///home/work/Documents/repo/economic_freedom_ml/.venv/lib/python3.8/site-packages/cmdstanpy/utils/filesystem.py#123\" target=\"_blank\"><span style=\"color: #7f7f7f; text-decoration-color: #7f7f7f\">123</span></a>\n",
       "</pre>\n"
      ],
      "text/plain": [
       "\u001b[2;36m                   \u001b[0m\u001b[2;36m \u001b[0m\u001b[32mDEBUG   \u001b[0m input tempfile: \u001b[35m/tmp/tmpsaail0o2/\u001b[0m\u001b[95mdgp5l2ur.json\u001b[0m                       \u001b]8;id=648259;file:///home/work/Documents/repo/economic_freedom_ml/.venv/lib/python3.8/site-packages/cmdstanpy/utils/filesystem.py\u001b\\\u001b[2mfilesystem.py\u001b[0m\u001b]8;;\u001b\\\u001b[2m:\u001b[0m\u001b]8;id=769658;file:///home/work/Documents/repo/economic_freedom_ml/.venv/lib/python3.8/site-packages/cmdstanpy/utils/filesystem.py#123\u001b\\\u001b[2m123\u001b[0m\u001b]8;;\u001b\\\n"
      ]
     },
     "metadata": {},
     "output_type": "display_data"
    },
    {
     "data": {
      "text/html": [
       "<pre style=\"white-space:pre;overflow-x:auto;line-height:normal;font-family:Menlo,'DejaVu Sans Mono',consolas,'Courier New',monospace\"><span style=\"color: #7fbfbf; text-decoration-color: #7fbfbf\">                    </span><span style=\"color: #008000; text-decoration-color: #008000\">DEBUG   </span> idx <span style=\"color: #008080; text-decoration-color: #008080; font-weight: bold\">0</span>                                                                    <a href=\"file:///home/work/Documents/repo/economic_freedom_ml/.venv/lib/python3.8/site-packages/cmdstanpy/model.py\" target=\"_blank\"><span style=\"color: #7f7f7f; text-decoration-color: #7f7f7f\">model.py</span></a><span style=\"color: #7f7f7f; text-decoration-color: #7f7f7f\">:</span><a href=\"file:///home/work/Documents/repo/economic_freedom_ml/.venv/lib/python3.8/site-packages/cmdstanpy/model.py#1677\" target=\"_blank\"><span style=\"color: #7f7f7f; text-decoration-color: #7f7f7f\">1677</span></a>\n",
       "</pre>\n"
      ],
      "text/plain": [
       "\u001b[2;36m                   \u001b[0m\u001b[2;36m \u001b[0m\u001b[32mDEBUG   \u001b[0m idx \u001b[1;36m0\u001b[0m                                                                    \u001b]8;id=199334;file:///home/work/Documents/repo/economic_freedom_ml/.venv/lib/python3.8/site-packages/cmdstanpy/model.py\u001b\\\u001b[2mmodel.py\u001b[0m\u001b]8;;\u001b\\\u001b[2m:\u001b[0m\u001b]8;id=289507;file:///home/work/Documents/repo/economic_freedom_ml/.venv/lib/python3.8/site-packages/cmdstanpy/model.py#1677\u001b\\\u001b[2m1677\u001b[0m\u001b]8;;\u001b\\\n"
      ]
     },
     "metadata": {},
     "output_type": "display_data"
    },
    {
     "data": {
      "text/html": [
       "<pre style=\"white-space:pre;overflow-x:auto;line-height:normal;font-family:Menlo,'DejaVu Sans Mono',consolas,'Courier New',monospace\"><span style=\"color: #7fbfbf; text-decoration-color: #7fbfbf\">                    </span><span style=\"color: #008000; text-decoration-color: #008000\">DEBUG   </span> running CmdStan, num_threads: <span style=\"color: #800080; text-decoration-color: #800080; font-style: italic\">None</span>                                       <a href=\"file:///home/work/Documents/repo/economic_freedom_ml/.venv/lib/python3.8/site-packages/cmdstanpy/model.py\" target=\"_blank\"><span style=\"color: #7f7f7f; text-decoration-color: #7f7f7f\">model.py</span></a><span style=\"color: #7f7f7f; text-decoration-color: #7f7f7f\">:</span><a href=\"file:///home/work/Documents/repo/economic_freedom_ml/.venv/lib/python3.8/site-packages/cmdstanpy/model.py#1678\" target=\"_blank\"><span style=\"color: #7f7f7f; text-decoration-color: #7f7f7f\">1678</span></a>\n",
       "</pre>\n"
      ],
      "text/plain": [
       "\u001b[2;36m                   \u001b[0m\u001b[2;36m \u001b[0m\u001b[32mDEBUG   \u001b[0m running CmdStan, num_threads: \u001b[3;35mNone\u001b[0m                                       \u001b]8;id=69095;file:///home/work/Documents/repo/economic_freedom_ml/.venv/lib/python3.8/site-packages/cmdstanpy/model.py\u001b\\\u001b[2mmodel.py\u001b[0m\u001b]8;;\u001b\\\u001b[2m:\u001b[0m\u001b]8;id=941095;file:///home/work/Documents/repo/economic_freedom_ml/.venv/lib/python3.8/site-packages/cmdstanpy/model.py#1678\u001b\\\u001b[2m1678\u001b[0m\u001b]8;;\u001b\\\n"
      ]
     },
     "metadata": {},
     "output_type": "display_data"
    },
    {
     "data": {
      "text/html": [
       "<pre style=\"white-space:pre;overflow-x:auto;line-height:normal;font-family:Menlo,'DejaVu Sans Mono',consolas,'Courier New',monospace\"><span style=\"color: #7fbfbf; text-decoration-color: #7fbfbf\">                    </span><span style=\"color: #008000; text-decoration-color: #008000\">DEBUG   </span> CmdStan args:                                                            <a href=\"file:///home/work/Documents/repo/economic_freedom_ml/.venv/lib/python3.8/site-packages/cmdstanpy/model.py\" target=\"_blank\"><span style=\"color: #7f7f7f; text-decoration-color: #7f7f7f\">model.py</span></a><span style=\"color: #7f7f7f; text-decoration-color: #7f7f7f\">:</span><a href=\"file:///home/work/Documents/repo/economic_freedom_ml/.venv/lib/python3.8/site-packages/cmdstanpy/model.py#1690\" target=\"_blank\"><span style=\"color: #7f7f7f; text-decoration-color: #7f7f7f\">1690</span></a>\n",
       "<span style=\"color: #7fbfbf; text-decoration-color: #7fbfbf\">                    </span>         <span style=\"font-weight: bold\">[</span><span style=\"color: #008000; text-decoration-color: #008000\">'/home/work/Documents/repo/economic_freedom_ml/.venv/lib/python3.8/site</span> <span style=\"color: #7f7f7f; text-decoration-color: #7f7f7f\">             </span>\n",
       "<span style=\"color: #7fbfbf; text-decoration-color: #7fbfbf\">                    </span>         <span style=\"color: #008000; text-decoration-color: #008000\">-packages/prophet/stan_model/prophet_model.bin'</span>, <span style=\"color: #008000; text-decoration-color: #008000\">'random'</span>, <span style=\"color: #008000; text-decoration-color: #008000\">'seed=86341'</span>, <span style=\"color: #7f7f7f; text-decoration-color: #7f7f7f\">             </span>\n",
       "<span style=\"color: #7fbfbf; text-decoration-color: #7fbfbf\">                    </span>         <span style=\"color: #008000; text-decoration-color: #008000\">'data'</span>, <span style=\"color: #008000; text-decoration-color: #008000\">'file=/tmp/tmpsaail0o2/jljdxth5.json'</span>,                           <span style=\"color: #7f7f7f; text-decoration-color: #7f7f7f\">             </span>\n",
       "<span style=\"color: #7fbfbf; text-decoration-color: #7fbfbf\">                    </span>         <span style=\"color: #008000; text-decoration-color: #008000\">'init=/tmp/tmpsaail0o2/dgp5l2ur.json'</span>, <span style=\"color: #008000; text-decoration-color: #008000\">'output'</span>,                         <span style=\"color: #7f7f7f; text-decoration-color: #7f7f7f\">             </span>\n",
       "<span style=\"color: #7fbfbf; text-decoration-color: #7fbfbf\">                    </span>         <span style=\"color: #008000; text-decoration-color: #008000\">'file=/tmp/tmpsaail0o2/prophet_modelgpn983b4/prophet_model-2023052018370</span> <span style=\"color: #7f7f7f; text-decoration-color: #7f7f7f\">             </span>\n",
       "<span style=\"color: #7fbfbf; text-decoration-color: #7fbfbf\">                    </span>         <span style=\"color: #008000; text-decoration-color: #008000\">3.csv'</span>, <span style=\"color: #008000; text-decoration-color: #008000\">'method=optimize'</span>, <span style=\"color: #008000; text-decoration-color: #008000\">'algorithm=newton'</span>, <span style=\"color: #008000; text-decoration-color: #008000\">'iter=10000'</span><span style=\"font-weight: bold\">]</span>             <span style=\"color: #7f7f7f; text-decoration-color: #7f7f7f\">             </span>\n",
       "</pre>\n"
      ],
      "text/plain": [
       "\u001b[2;36m                   \u001b[0m\u001b[2;36m \u001b[0m\u001b[32mDEBUG   \u001b[0m CmdStan args:                                                            \u001b]8;id=841515;file:///home/work/Documents/repo/economic_freedom_ml/.venv/lib/python3.8/site-packages/cmdstanpy/model.py\u001b\\\u001b[2mmodel.py\u001b[0m\u001b]8;;\u001b\\\u001b[2m:\u001b[0m\u001b]8;id=925175;file:///home/work/Documents/repo/economic_freedom_ml/.venv/lib/python3.8/site-packages/cmdstanpy/model.py#1690\u001b\\\u001b[2m1690\u001b[0m\u001b]8;;\u001b\\\n",
       "\u001b[2;36m                    \u001b[0m         \u001b[1m[\u001b[0m\u001b[32m'/home/work/Documents/repo/economic_freedom_ml/.venv/lib/python3.8/site\u001b[0m \u001b[2m             \u001b[0m\n",
       "\u001b[2;36m                    \u001b[0m         \u001b[32m-packages/prophet/stan_model/prophet_model.bin'\u001b[0m, \u001b[32m'random'\u001b[0m, \u001b[32m'\u001b[0m\u001b[32mseed\u001b[0m\u001b[32m=\u001b[0m\u001b[32m86341\u001b[0m\u001b[32m'\u001b[0m, \u001b[2m             \u001b[0m\n",
       "\u001b[2;36m                    \u001b[0m         \u001b[32m'data'\u001b[0m, \u001b[32m'\u001b[0m\u001b[32mfile\u001b[0m\u001b[32m=/tmp/tmpsaail0o2/jljdxth5.json'\u001b[0m,                           \u001b[2m             \u001b[0m\n",
       "\u001b[2;36m                    \u001b[0m         \u001b[32m'\u001b[0m\u001b[32minit\u001b[0m\u001b[32m=/tmp/tmpsaail0o2/dgp5l2ur.json'\u001b[0m, \u001b[32m'output'\u001b[0m,                         \u001b[2m             \u001b[0m\n",
       "\u001b[2;36m                    \u001b[0m         \u001b[32m'\u001b[0m\u001b[32mfile\u001b[0m\u001b[32m=/tmp/tmpsaail0o2/prophet_modelgpn983b4/prophet_model-2023052018370\u001b[0m \u001b[2m             \u001b[0m\n",
       "\u001b[2;36m                    \u001b[0m         \u001b[32m3.csv'\u001b[0m, \u001b[32m'\u001b[0m\u001b[32mmethod\u001b[0m\u001b[32m=\u001b[0m\u001b[32moptimize\u001b[0m\u001b[32m'\u001b[0m, \u001b[32m'\u001b[0m\u001b[32malgorithm\u001b[0m\u001b[32m=\u001b[0m\u001b[32mnewton\u001b[0m\u001b[32m'\u001b[0m, \u001b[32m'\u001b[0m\u001b[32miter\u001b[0m\u001b[32m=\u001b[0m\u001b[32m10000\u001b[0m\u001b[32m'\u001b[0m\u001b[1m]\u001b[0m             \u001b[2m             \u001b[0m\n"
      ]
     },
     "metadata": {},
     "output_type": "display_data"
    },
    {
     "name": "stderr",
     "output_type": "stream",
     "text": [
      "18:37:03 - cmdstanpy - INFO - Chain [1] start processing\n"
     ]
    },
    {
     "data": {
      "text/html": [
       "<pre style=\"white-space:pre;overflow-x:auto;line-height:normal;font-family:Menlo,'DejaVu Sans Mono',consolas,'Courier New',monospace\"><span style=\"color: #7fbfbf; text-decoration-color: #7fbfbf\">                    </span><span style=\"color: #000080; text-decoration-color: #000080\">INFO    </span> Chain <span style=\"font-weight: bold\">[</span><span style=\"color: #008080; text-decoration-color: #008080; font-weight: bold\">1</span><span style=\"font-weight: bold\">]</span> start processing                                               <a href=\"file:///home/work/Documents/repo/economic_freedom_ml/.venv/lib/python3.8/site-packages/cmdstanpy/model.py\" target=\"_blank\"><span style=\"color: #7f7f7f; text-decoration-color: #7f7f7f\">model.py</span></a><span style=\"color: #7f7f7f; text-decoration-color: #7f7f7f\">:</span><a href=\"file:///home/work/Documents/repo/economic_freedom_ml/.venv/lib/python3.8/site-packages/cmdstanpy/model.py#1693\" target=\"_blank\"><span style=\"color: #7f7f7f; text-decoration-color: #7f7f7f\">1693</span></a>\n",
       "</pre>\n"
      ],
      "text/plain": [
       "\u001b[2;36m                   \u001b[0m\u001b[2;36m \u001b[0m\u001b[34mINFO    \u001b[0m Chain \u001b[1m[\u001b[0m\u001b[1;36m1\u001b[0m\u001b[1m]\u001b[0m start processing                                               \u001b]8;id=588649;file:///home/work/Documents/repo/economic_freedom_ml/.venv/lib/python3.8/site-packages/cmdstanpy/model.py\u001b\\\u001b[2mmodel.py\u001b[0m\u001b]8;;\u001b\\\u001b[2m:\u001b[0m\u001b]8;id=435825;file:///home/work/Documents/repo/economic_freedom_ml/.venv/lib/python3.8/site-packages/cmdstanpy/model.py#1693\u001b\\\u001b[2m1693\u001b[0m\u001b]8;;\u001b\\\n"
      ]
     },
     "metadata": {},
     "output_type": "display_data"
    },
    {
     "name": "stderr",
     "output_type": "stream",
     "text": [
      "18:37:03 - cmdstanpy - INFO - Chain [1] done processing\n"
     ]
    },
    {
     "data": {
      "text/html": [
       "<pre style=\"white-space:pre;overflow-x:auto;line-height:normal;font-family:Menlo,'DejaVu Sans Mono',consolas,'Courier New',monospace\"><span style=\"color: #7fbfbf; text-decoration-color: #7fbfbf\">                    </span><span style=\"color: #000080; text-decoration-color: #000080\">INFO    </span> Chain <span style=\"font-weight: bold\">[</span><span style=\"color: #008080; text-decoration-color: #008080; font-weight: bold\">1</span><span style=\"font-weight: bold\">]</span> done processing                                                <a href=\"file:///home/work/Documents/repo/economic_freedom_ml/.venv/lib/python3.8/site-packages/cmdstanpy/model.py\" target=\"_blank\"><span style=\"color: #7f7f7f; text-decoration-color: #7f7f7f\">model.py</span></a><span style=\"color: #7f7f7f; text-decoration-color: #7f7f7f\">:</span><a href=\"file:///home/work/Documents/repo/economic_freedom_ml/.venv/lib/python3.8/site-packages/cmdstanpy/model.py#1750\" target=\"_blank\"><span style=\"color: #7f7f7f; text-decoration-color: #7f7f7f\">1750</span></a>\n",
       "</pre>\n"
      ],
      "text/plain": [
       "\u001b[2;36m                   \u001b[0m\u001b[2;36m \u001b[0m\u001b[34mINFO    \u001b[0m Chain \u001b[1m[\u001b[0m\u001b[1;36m1\u001b[0m\u001b[1m]\u001b[0m done processing                                                \u001b]8;id=232859;file:///home/work/Documents/repo/economic_freedom_ml/.venv/lib/python3.8/site-packages/cmdstanpy/model.py\u001b\\\u001b[2mmodel.py\u001b[0m\u001b]8;;\u001b\\\u001b[2m:\u001b[0m\u001b]8;id=106046;file:///home/work/Documents/repo/economic_freedom_ml/.venv/lib/python3.8/site-packages/cmdstanpy/model.py#1750\u001b\\\u001b[2m1750\u001b[0m\u001b]8;;\u001b\\\n"
      ]
     },
     "metadata": {},
     "output_type": "display_data"
    },
    {
     "data": {
      "text/html": [
       "<pre style=\"white-space:pre;overflow-x:auto;line-height:normal;font-family:Menlo,'DejaVu Sans Mono',consolas,'Courier New',monospace\"><span style=\"color: #7fbfbf; text-decoration-color: #7fbfbf\">                    </span><span style=\"color: #000080; text-decoration-color: #000080\">INFO    </span> Disabling weekly seasonality. Run prophet with                       <a href=\"file:///home/work/Documents/repo/economic_freedom_ml/.venv/lib/python3.8/site-packages/prophet/forecaster.py\" target=\"_blank\"><span style=\"color: #7f7f7f; text-decoration-color: #7f7f7f\">forecaster.py</span></a><span style=\"color: #7f7f7f; text-decoration-color: #7f7f7f\">:</span><a href=\"file:///home/work/Documents/repo/economic_freedom_ml/.venv/lib/python3.8/site-packages/prophet/forecaster.py#931\" target=\"_blank\"><span style=\"color: #7f7f7f; text-decoration-color: #7f7f7f\">931</span></a>\n",
       "<span style=\"color: #7fbfbf; text-decoration-color: #7fbfbf\">                    </span>         <span style=\"color: #808000; text-decoration-color: #808000\">weekly_seasonality</span>=<span style=\"color: #00ff00; text-decoration-color: #00ff00; font-style: italic\">True</span> to override this.                            <span style=\"color: #7f7f7f; text-decoration-color: #7f7f7f\">                 </span>\n",
       "</pre>\n"
      ],
      "text/plain": [
       "\u001b[2;36m                   \u001b[0m\u001b[2;36m \u001b[0m\u001b[34mINFO    \u001b[0m Disabling weekly seasonality. Run prophet with                       \u001b]8;id=34905;file:///home/work/Documents/repo/economic_freedom_ml/.venv/lib/python3.8/site-packages/prophet/forecaster.py\u001b\\\u001b[2mforecaster.py\u001b[0m\u001b]8;;\u001b\\\u001b[2m:\u001b[0m\u001b]8;id=511271;file:///home/work/Documents/repo/economic_freedom_ml/.venv/lib/python3.8/site-packages/prophet/forecaster.py#931\u001b\\\u001b[2m931\u001b[0m\u001b]8;;\u001b\\\n",
       "\u001b[2;36m                    \u001b[0m         \u001b[33mweekly_seasonality\u001b[0m=\u001b[3;92mTrue\u001b[0m to override this.                            \u001b[2m                 \u001b[0m\n"
      ]
     },
     "metadata": {},
     "output_type": "display_data"
    },
    {
     "data": {
      "text/html": [
       "<pre style=\"white-space:pre;overflow-x:auto;line-height:normal;font-family:Menlo,'DejaVu Sans Mono',consolas,'Courier New',monospace\"><span style=\"color: #7fbfbf; text-decoration-color: #7fbfbf\">                    </span><span style=\"color: #000080; text-decoration-color: #000080\">INFO    </span> Disabling daily seasonality. Run prophet with <span style=\"color: #808000; text-decoration-color: #808000\">daily_seasonality</span>=<span style=\"color: #00ff00; text-decoration-color: #00ff00; font-style: italic\">True</span> <a href=\"file:///home/work/Documents/repo/economic_freedom_ml/.venv/lib/python3.8/site-packages/prophet/forecaster.py\" target=\"_blank\"><span style=\"color: #7f7f7f; text-decoration-color: #7f7f7f\">forecaster.py</span></a><span style=\"color: #7f7f7f; text-decoration-color: #7f7f7f\">:</span><a href=\"file:///home/work/Documents/repo/economic_freedom_ml/.venv/lib/python3.8/site-packages/prophet/forecaster.py#931\" target=\"_blank\"><span style=\"color: #7f7f7f; text-decoration-color: #7f7f7f\">931</span></a>\n",
       "<span style=\"color: #7fbfbf; text-decoration-color: #7fbfbf\">                    </span>         to override this.                                                    <span style=\"color: #7f7f7f; text-decoration-color: #7f7f7f\">                 </span>\n",
       "</pre>\n"
      ],
      "text/plain": [
       "\u001b[2;36m                   \u001b[0m\u001b[2;36m \u001b[0m\u001b[34mINFO    \u001b[0m Disabling daily seasonality. Run prophet with \u001b[33mdaily_seasonality\u001b[0m=\u001b[3;92mTrue\u001b[0m \u001b]8;id=397654;file:///home/work/Documents/repo/economic_freedom_ml/.venv/lib/python3.8/site-packages/prophet/forecaster.py\u001b\\\u001b[2mforecaster.py\u001b[0m\u001b]8;;\u001b\\\u001b[2m:\u001b[0m\u001b]8;id=41631;file:///home/work/Documents/repo/economic_freedom_ml/.venv/lib/python3.8/site-packages/prophet/forecaster.py#931\u001b\\\u001b[2m931\u001b[0m\u001b]8;;\u001b\\\n",
       "\u001b[2;36m                    \u001b[0m         to override this.                                                    \u001b[2m                 \u001b[0m\n"
      ]
     },
     "metadata": {},
     "output_type": "display_data"
    },
    {
     "data": {
      "text/html": [
       "<pre style=\"white-space:pre;overflow-x:auto;line-height:normal;font-family:Menlo,'DejaVu Sans Mono',consolas,'Courier New',monospace\"><span style=\"color: #7fbfbf; text-decoration-color: #7fbfbf\">                    </span><span style=\"color: #000080; text-decoration-color: #000080\">INFO    </span> n_changepoints greater than number of observations. Using <span style=\"color: #008080; text-decoration-color: #008080; font-weight: bold\">18</span>.        <a href=\"file:///home/work/Documents/repo/economic_freedom_ml/.venv/lib/python3.8/site-packages/prophet/forecaster.py\" target=\"_blank\"><span style=\"color: #7f7f7f; text-decoration-color: #7f7f7f\">forecaster.py</span></a><span style=\"color: #7f7f7f; text-decoration-color: #7f7f7f\">:</span><a href=\"file:///home/work/Documents/repo/economic_freedom_ml/.venv/lib/python3.8/site-packages/prophet/forecaster.py#401\" target=\"_blank\"><span style=\"color: #7f7f7f; text-decoration-color: #7f7f7f\">401</span></a>\n",
       "</pre>\n"
      ],
      "text/plain": [
       "\u001b[2;36m                   \u001b[0m\u001b[2;36m \u001b[0m\u001b[34mINFO    \u001b[0m n_changepoints greater than number of observations. Using \u001b[1;36m18\u001b[0m.        \u001b]8;id=604137;file:///home/work/Documents/repo/economic_freedom_ml/.venv/lib/python3.8/site-packages/prophet/forecaster.py\u001b\\\u001b[2mforecaster.py\u001b[0m\u001b]8;;\u001b\\\u001b[2m:\u001b[0m\u001b]8;id=870544;file:///home/work/Documents/repo/economic_freedom_ml/.venv/lib/python3.8/site-packages/prophet/forecaster.py#401\u001b\\\u001b[2m401\u001b[0m\u001b]8;;\u001b\\\n"
      ]
     },
     "metadata": {},
     "output_type": "display_data"
    },
    {
     "data": {
      "text/html": [
       "<pre style=\"white-space:pre;overflow-x:auto;line-height:normal;font-family:Menlo,'DejaVu Sans Mono',consolas,'Courier New',monospace\"><span style=\"color: #7fbfbf; text-decoration-color: #7fbfbf\">                    </span><span style=\"color: #008000; text-decoration-color: #008000\">DEBUG   </span> input tempfile: <span style=\"color: #800080; text-decoration-color: #800080\">/tmp/tmpsaail0o2/</span><span style=\"color: #ff00ff; text-decoration-color: #ff00ff\">099kxlvv.json</span>                       <a href=\"file:///home/work/Documents/repo/economic_freedom_ml/.venv/lib/python3.8/site-packages/cmdstanpy/utils/filesystem.py\" target=\"_blank\"><span style=\"color: #7f7f7f; text-decoration-color: #7f7f7f\">filesystem.py</span></a><span style=\"color: #7f7f7f; text-decoration-color: #7f7f7f\">:</span><a href=\"file:///home/work/Documents/repo/economic_freedom_ml/.venv/lib/python3.8/site-packages/cmdstanpy/utils/filesystem.py#123\" target=\"_blank\"><span style=\"color: #7f7f7f; text-decoration-color: #7f7f7f\">123</span></a>\n",
       "</pre>\n"
      ],
      "text/plain": [
       "\u001b[2;36m                   \u001b[0m\u001b[2;36m \u001b[0m\u001b[32mDEBUG   \u001b[0m input tempfile: \u001b[35m/tmp/tmpsaail0o2/\u001b[0m\u001b[95m099kxlvv.json\u001b[0m                       \u001b]8;id=811731;file:///home/work/Documents/repo/economic_freedom_ml/.venv/lib/python3.8/site-packages/cmdstanpy/utils/filesystem.py\u001b\\\u001b[2mfilesystem.py\u001b[0m\u001b]8;;\u001b\\\u001b[2m:\u001b[0m\u001b]8;id=164958;file:///home/work/Documents/repo/economic_freedom_ml/.venv/lib/python3.8/site-packages/cmdstanpy/utils/filesystem.py#123\u001b\\\u001b[2m123\u001b[0m\u001b]8;;\u001b\\\n"
      ]
     },
     "metadata": {},
     "output_type": "display_data"
    },
    {
     "data": {
      "text/html": [
       "<pre style=\"white-space:pre;overflow-x:auto;line-height:normal;font-family:Menlo,'DejaVu Sans Mono',consolas,'Courier New',monospace\"><span style=\"color: #7fbfbf; text-decoration-color: #7fbfbf\">                    </span><span style=\"color: #008000; text-decoration-color: #008000\">DEBUG   </span> input tempfile: <span style=\"color: #800080; text-decoration-color: #800080\">/tmp/tmpsaail0o2/</span><span style=\"color: #ff00ff; text-decoration-color: #ff00ff\">o0z7d0uz.json</span>                       <a href=\"file:///home/work/Documents/repo/economic_freedom_ml/.venv/lib/python3.8/site-packages/cmdstanpy/utils/filesystem.py\" target=\"_blank\"><span style=\"color: #7f7f7f; text-decoration-color: #7f7f7f\">filesystem.py</span></a><span style=\"color: #7f7f7f; text-decoration-color: #7f7f7f\">:</span><a href=\"file:///home/work/Documents/repo/economic_freedom_ml/.venv/lib/python3.8/site-packages/cmdstanpy/utils/filesystem.py#123\" target=\"_blank\"><span style=\"color: #7f7f7f; text-decoration-color: #7f7f7f\">123</span></a>\n",
       "</pre>\n"
      ],
      "text/plain": [
       "\u001b[2;36m                   \u001b[0m\u001b[2;36m \u001b[0m\u001b[32mDEBUG   \u001b[0m input tempfile: \u001b[35m/tmp/tmpsaail0o2/\u001b[0m\u001b[95mo0z7d0uz.json\u001b[0m                       \u001b]8;id=198258;file:///home/work/Documents/repo/economic_freedom_ml/.venv/lib/python3.8/site-packages/cmdstanpy/utils/filesystem.py\u001b\\\u001b[2mfilesystem.py\u001b[0m\u001b]8;;\u001b\\\u001b[2m:\u001b[0m\u001b]8;id=382924;file:///home/work/Documents/repo/economic_freedom_ml/.venv/lib/python3.8/site-packages/cmdstanpy/utils/filesystem.py#123\u001b\\\u001b[2m123\u001b[0m\u001b]8;;\u001b\\\n"
      ]
     },
     "metadata": {},
     "output_type": "display_data"
    },
    {
     "data": {
      "text/html": [
       "<pre style=\"white-space:pre;overflow-x:auto;line-height:normal;font-family:Menlo,'DejaVu Sans Mono',consolas,'Courier New',monospace\"><span style=\"color: #7fbfbf; text-decoration-color: #7fbfbf\">                    </span><span style=\"color: #008000; text-decoration-color: #008000\">DEBUG   </span> idx <span style=\"color: #008080; text-decoration-color: #008080; font-weight: bold\">0</span>                                                                    <a href=\"file:///home/work/Documents/repo/economic_freedom_ml/.venv/lib/python3.8/site-packages/cmdstanpy/model.py\" target=\"_blank\"><span style=\"color: #7f7f7f; text-decoration-color: #7f7f7f\">model.py</span></a><span style=\"color: #7f7f7f; text-decoration-color: #7f7f7f\">:</span><a href=\"file:///home/work/Documents/repo/economic_freedom_ml/.venv/lib/python3.8/site-packages/cmdstanpy/model.py#1677\" target=\"_blank\"><span style=\"color: #7f7f7f; text-decoration-color: #7f7f7f\">1677</span></a>\n",
       "</pre>\n"
      ],
      "text/plain": [
       "\u001b[2;36m                   \u001b[0m\u001b[2;36m \u001b[0m\u001b[32mDEBUG   \u001b[0m idx \u001b[1;36m0\u001b[0m                                                                    \u001b]8;id=544294;file:///home/work/Documents/repo/economic_freedom_ml/.venv/lib/python3.8/site-packages/cmdstanpy/model.py\u001b\\\u001b[2mmodel.py\u001b[0m\u001b]8;;\u001b\\\u001b[2m:\u001b[0m\u001b]8;id=969667;file:///home/work/Documents/repo/economic_freedom_ml/.venv/lib/python3.8/site-packages/cmdstanpy/model.py#1677\u001b\\\u001b[2m1677\u001b[0m\u001b]8;;\u001b\\\n"
      ]
     },
     "metadata": {},
     "output_type": "display_data"
    },
    {
     "data": {
      "text/html": [
       "<pre style=\"white-space:pre;overflow-x:auto;line-height:normal;font-family:Menlo,'DejaVu Sans Mono',consolas,'Courier New',monospace\"><span style=\"color: #7fbfbf; text-decoration-color: #7fbfbf\">                    </span><span style=\"color: #008000; text-decoration-color: #008000\">DEBUG   </span> running CmdStan, num_threads: <span style=\"color: #800080; text-decoration-color: #800080; font-style: italic\">None</span>                                       <a href=\"file:///home/work/Documents/repo/economic_freedom_ml/.venv/lib/python3.8/site-packages/cmdstanpy/model.py\" target=\"_blank\"><span style=\"color: #7f7f7f; text-decoration-color: #7f7f7f\">model.py</span></a><span style=\"color: #7f7f7f; text-decoration-color: #7f7f7f\">:</span><a href=\"file:///home/work/Documents/repo/economic_freedom_ml/.venv/lib/python3.8/site-packages/cmdstanpy/model.py#1678\" target=\"_blank\"><span style=\"color: #7f7f7f; text-decoration-color: #7f7f7f\">1678</span></a>\n",
       "</pre>\n"
      ],
      "text/plain": [
       "\u001b[2;36m                   \u001b[0m\u001b[2;36m \u001b[0m\u001b[32mDEBUG   \u001b[0m running CmdStan, num_threads: \u001b[3;35mNone\u001b[0m                                       \u001b]8;id=473067;file:///home/work/Documents/repo/economic_freedom_ml/.venv/lib/python3.8/site-packages/cmdstanpy/model.py\u001b\\\u001b[2mmodel.py\u001b[0m\u001b]8;;\u001b\\\u001b[2m:\u001b[0m\u001b]8;id=788955;file:///home/work/Documents/repo/economic_freedom_ml/.venv/lib/python3.8/site-packages/cmdstanpy/model.py#1678\u001b\\\u001b[2m1678\u001b[0m\u001b]8;;\u001b\\\n"
      ]
     },
     "metadata": {},
     "output_type": "display_data"
    },
    {
     "data": {
      "text/html": [
       "<pre style=\"white-space:pre;overflow-x:auto;line-height:normal;font-family:Menlo,'DejaVu Sans Mono',consolas,'Courier New',monospace\"><span style=\"color: #7fbfbf; text-decoration-color: #7fbfbf\">                    </span><span style=\"color: #008000; text-decoration-color: #008000\">DEBUG   </span> CmdStan args:                                                            <a href=\"file:///home/work/Documents/repo/economic_freedom_ml/.venv/lib/python3.8/site-packages/cmdstanpy/model.py\" target=\"_blank\"><span style=\"color: #7f7f7f; text-decoration-color: #7f7f7f\">model.py</span></a><span style=\"color: #7f7f7f; text-decoration-color: #7f7f7f\">:</span><a href=\"file:///home/work/Documents/repo/economic_freedom_ml/.venv/lib/python3.8/site-packages/cmdstanpy/model.py#1690\" target=\"_blank\"><span style=\"color: #7f7f7f; text-decoration-color: #7f7f7f\">1690</span></a>\n",
       "<span style=\"color: #7fbfbf; text-decoration-color: #7fbfbf\">                    </span>         <span style=\"font-weight: bold\">[</span><span style=\"color: #008000; text-decoration-color: #008000\">'/home/work/Documents/repo/economic_freedom_ml/.venv/lib/python3.8/site</span> <span style=\"color: #7f7f7f; text-decoration-color: #7f7f7f\">             </span>\n",
       "<span style=\"color: #7fbfbf; text-decoration-color: #7fbfbf\">                    </span>         <span style=\"color: #008000; text-decoration-color: #008000\">-packages/prophet/stan_model/prophet_model.bin'</span>, <span style=\"color: #008000; text-decoration-color: #008000\">'random'</span>, <span style=\"color: #008000; text-decoration-color: #008000\">'seed=918'</span>,   <span style=\"color: #7f7f7f; text-decoration-color: #7f7f7f\">             </span>\n",
       "<span style=\"color: #7fbfbf; text-decoration-color: #7fbfbf\">                    </span>         <span style=\"color: #008000; text-decoration-color: #008000\">'data'</span>, <span style=\"color: #008000; text-decoration-color: #008000\">'file=/tmp/tmpsaail0o2/099kxlvv.json'</span>,                           <span style=\"color: #7f7f7f; text-decoration-color: #7f7f7f\">             </span>\n",
       "<span style=\"color: #7fbfbf; text-decoration-color: #7fbfbf\">                    </span>         <span style=\"color: #008000; text-decoration-color: #008000\">'init=/tmp/tmpsaail0o2/o0z7d0uz.json'</span>, <span style=\"color: #008000; text-decoration-color: #008000\">'output'</span>,                         <span style=\"color: #7f7f7f; text-decoration-color: #7f7f7f\">             </span>\n",
       "<span style=\"color: #7fbfbf; text-decoration-color: #7fbfbf\">                    </span>         <span style=\"color: #008000; text-decoration-color: #008000\">'file=/tmp/tmpsaail0o2/prophet_modelg46d4ctw/prophet_model-2023052018370</span> <span style=\"color: #7f7f7f; text-decoration-color: #7f7f7f\">             </span>\n",
       "<span style=\"color: #7fbfbf; text-decoration-color: #7fbfbf\">                    </span>         <span style=\"color: #008000; text-decoration-color: #008000\">3.csv'</span>, <span style=\"color: #008000; text-decoration-color: #008000\">'method=optimize'</span>, <span style=\"color: #008000; text-decoration-color: #008000\">'algorithm=newton'</span>, <span style=\"color: #008000; text-decoration-color: #008000\">'iter=10000'</span><span style=\"font-weight: bold\">]</span>             <span style=\"color: #7f7f7f; text-decoration-color: #7f7f7f\">             </span>\n",
       "</pre>\n"
      ],
      "text/plain": [
       "\u001b[2;36m                   \u001b[0m\u001b[2;36m \u001b[0m\u001b[32mDEBUG   \u001b[0m CmdStan args:                                                            \u001b]8;id=969944;file:///home/work/Documents/repo/economic_freedom_ml/.venv/lib/python3.8/site-packages/cmdstanpy/model.py\u001b\\\u001b[2mmodel.py\u001b[0m\u001b]8;;\u001b\\\u001b[2m:\u001b[0m\u001b]8;id=970181;file:///home/work/Documents/repo/economic_freedom_ml/.venv/lib/python3.8/site-packages/cmdstanpy/model.py#1690\u001b\\\u001b[2m1690\u001b[0m\u001b]8;;\u001b\\\n",
       "\u001b[2;36m                    \u001b[0m         \u001b[1m[\u001b[0m\u001b[32m'/home/work/Documents/repo/economic_freedom_ml/.venv/lib/python3.8/site\u001b[0m \u001b[2m             \u001b[0m\n",
       "\u001b[2;36m                    \u001b[0m         \u001b[32m-packages/prophet/stan_model/prophet_model.bin'\u001b[0m, \u001b[32m'random'\u001b[0m, \u001b[32m'\u001b[0m\u001b[32mseed\u001b[0m\u001b[32m=\u001b[0m\u001b[32m918\u001b[0m\u001b[32m'\u001b[0m,   \u001b[2m             \u001b[0m\n",
       "\u001b[2;36m                    \u001b[0m         \u001b[32m'data'\u001b[0m, \u001b[32m'\u001b[0m\u001b[32mfile\u001b[0m\u001b[32m=/tmp/tmpsaail0o2/099kxlvv.json'\u001b[0m,                           \u001b[2m             \u001b[0m\n",
       "\u001b[2;36m                    \u001b[0m         \u001b[32m'\u001b[0m\u001b[32minit\u001b[0m\u001b[32m=/tmp/tmpsaail0o2/o0z7d0uz.json'\u001b[0m, \u001b[32m'output'\u001b[0m,                         \u001b[2m             \u001b[0m\n",
       "\u001b[2;36m                    \u001b[0m         \u001b[32m'\u001b[0m\u001b[32mfile\u001b[0m\u001b[32m=/tmp/tmpsaail0o2/prophet_modelg46d4ctw/prophet_model-2023052018370\u001b[0m \u001b[2m             \u001b[0m\n",
       "\u001b[2;36m                    \u001b[0m         \u001b[32m3.csv'\u001b[0m, \u001b[32m'\u001b[0m\u001b[32mmethod\u001b[0m\u001b[32m=\u001b[0m\u001b[32moptimize\u001b[0m\u001b[32m'\u001b[0m, \u001b[32m'\u001b[0m\u001b[32malgorithm\u001b[0m\u001b[32m=\u001b[0m\u001b[32mnewton\u001b[0m\u001b[32m'\u001b[0m, \u001b[32m'\u001b[0m\u001b[32miter\u001b[0m\u001b[32m=\u001b[0m\u001b[32m10000\u001b[0m\u001b[32m'\u001b[0m\u001b[1m]\u001b[0m             \u001b[2m             \u001b[0m\n"
      ]
     },
     "metadata": {},
     "output_type": "display_data"
    },
    {
     "name": "stderr",
     "output_type": "stream",
     "text": [
      "18:37:03 - cmdstanpy - INFO - Chain [1] start processing\n"
     ]
    },
    {
     "data": {
      "text/html": [
       "<pre style=\"white-space:pre;overflow-x:auto;line-height:normal;font-family:Menlo,'DejaVu Sans Mono',consolas,'Courier New',monospace\"><span style=\"color: #7fbfbf; text-decoration-color: #7fbfbf\">                    </span><span style=\"color: #000080; text-decoration-color: #000080\">INFO    </span> Chain <span style=\"font-weight: bold\">[</span><span style=\"color: #008080; text-decoration-color: #008080; font-weight: bold\">1</span><span style=\"font-weight: bold\">]</span> start processing                                               <a href=\"file:///home/work/Documents/repo/economic_freedom_ml/.venv/lib/python3.8/site-packages/cmdstanpy/model.py\" target=\"_blank\"><span style=\"color: #7f7f7f; text-decoration-color: #7f7f7f\">model.py</span></a><span style=\"color: #7f7f7f; text-decoration-color: #7f7f7f\">:</span><a href=\"file:///home/work/Documents/repo/economic_freedom_ml/.venv/lib/python3.8/site-packages/cmdstanpy/model.py#1693\" target=\"_blank\"><span style=\"color: #7f7f7f; text-decoration-color: #7f7f7f\">1693</span></a>\n",
       "</pre>\n"
      ],
      "text/plain": [
       "\u001b[2;36m                   \u001b[0m\u001b[2;36m \u001b[0m\u001b[34mINFO    \u001b[0m Chain \u001b[1m[\u001b[0m\u001b[1;36m1\u001b[0m\u001b[1m]\u001b[0m start processing                                               \u001b]8;id=578401;file:///home/work/Documents/repo/economic_freedom_ml/.venv/lib/python3.8/site-packages/cmdstanpy/model.py\u001b\\\u001b[2mmodel.py\u001b[0m\u001b]8;;\u001b\\\u001b[2m:\u001b[0m\u001b]8;id=467516;file:///home/work/Documents/repo/economic_freedom_ml/.venv/lib/python3.8/site-packages/cmdstanpy/model.py#1693\u001b\\\u001b[2m1693\u001b[0m\u001b]8;;\u001b\\\n"
      ]
     },
     "metadata": {},
     "output_type": "display_data"
    },
    {
     "name": "stderr",
     "output_type": "stream",
     "text": [
      "18:37:04 - cmdstanpy - INFO - Chain [1] done processing\n"
     ]
    },
    {
     "data": {
      "text/html": [
       "<pre style=\"white-space:pre;overflow-x:auto;line-height:normal;font-family:Menlo,'DejaVu Sans Mono',consolas,'Courier New',monospace\"><span style=\"color: #7fbfbf; text-decoration-color: #7fbfbf\">[05/20/23 18:37:04] </span><span style=\"color: #000080; text-decoration-color: #000080\">INFO    </span> Chain <span style=\"font-weight: bold\">[</span><span style=\"color: #008080; text-decoration-color: #008080; font-weight: bold\">1</span><span style=\"font-weight: bold\">]</span> done processing                                                <a href=\"file:///home/work/Documents/repo/economic_freedom_ml/.venv/lib/python3.8/site-packages/cmdstanpy/model.py\" target=\"_blank\"><span style=\"color: #7f7f7f; text-decoration-color: #7f7f7f\">model.py</span></a><span style=\"color: #7f7f7f; text-decoration-color: #7f7f7f\">:</span><a href=\"file:///home/work/Documents/repo/economic_freedom_ml/.venv/lib/python3.8/site-packages/cmdstanpy/model.py#1750\" target=\"_blank\"><span style=\"color: #7f7f7f; text-decoration-color: #7f7f7f\">1750</span></a>\n",
       "</pre>\n"
      ],
      "text/plain": [
       "\u001b[2;36m[05/20/23 18:37:04]\u001b[0m\u001b[2;36m \u001b[0m\u001b[34mINFO    \u001b[0m Chain \u001b[1m[\u001b[0m\u001b[1;36m1\u001b[0m\u001b[1m]\u001b[0m done processing                                                \u001b]8;id=898778;file:///home/work/Documents/repo/economic_freedom_ml/.venv/lib/python3.8/site-packages/cmdstanpy/model.py\u001b\\\u001b[2mmodel.py\u001b[0m\u001b]8;;\u001b\\\u001b[2m:\u001b[0m\u001b]8;id=593847;file:///home/work/Documents/repo/economic_freedom_ml/.venv/lib/python3.8/site-packages/cmdstanpy/model.py#1750\u001b\\\u001b[2m1750\u001b[0m\u001b]8;;\u001b\\\n"
      ]
     },
     "metadata": {},
     "output_type": "display_data"
    },
    {
     "data": {
      "text/html": [
       "<pre style=\"white-space:pre;overflow-x:auto;line-height:normal;font-family:Menlo,'DejaVu Sans Mono',consolas,'Courier New',monospace\"><span style=\"color: #7fbfbf; text-decoration-color: #7fbfbf\">                    </span><span style=\"color: #000080; text-decoration-color: #000080\">INFO    </span> Disabling weekly seasonality. Run prophet with                       <a href=\"file:///home/work/Documents/repo/economic_freedom_ml/.venv/lib/python3.8/site-packages/prophet/forecaster.py\" target=\"_blank\"><span style=\"color: #7f7f7f; text-decoration-color: #7f7f7f\">forecaster.py</span></a><span style=\"color: #7f7f7f; text-decoration-color: #7f7f7f\">:</span><a href=\"file:///home/work/Documents/repo/economic_freedom_ml/.venv/lib/python3.8/site-packages/prophet/forecaster.py#931\" target=\"_blank\"><span style=\"color: #7f7f7f; text-decoration-color: #7f7f7f\">931</span></a>\n",
       "<span style=\"color: #7fbfbf; text-decoration-color: #7fbfbf\">                    </span>         <span style=\"color: #808000; text-decoration-color: #808000\">weekly_seasonality</span>=<span style=\"color: #00ff00; text-decoration-color: #00ff00; font-style: italic\">True</span> to override this.                            <span style=\"color: #7f7f7f; text-decoration-color: #7f7f7f\">                 </span>\n",
       "</pre>\n"
      ],
      "text/plain": [
       "\u001b[2;36m                   \u001b[0m\u001b[2;36m \u001b[0m\u001b[34mINFO    \u001b[0m Disabling weekly seasonality. Run prophet with                       \u001b]8;id=7148;file:///home/work/Documents/repo/economic_freedom_ml/.venv/lib/python3.8/site-packages/prophet/forecaster.py\u001b\\\u001b[2mforecaster.py\u001b[0m\u001b]8;;\u001b\\\u001b[2m:\u001b[0m\u001b]8;id=480065;file:///home/work/Documents/repo/economic_freedom_ml/.venv/lib/python3.8/site-packages/prophet/forecaster.py#931\u001b\\\u001b[2m931\u001b[0m\u001b]8;;\u001b\\\n",
       "\u001b[2;36m                    \u001b[0m         \u001b[33mweekly_seasonality\u001b[0m=\u001b[3;92mTrue\u001b[0m to override this.                            \u001b[2m                 \u001b[0m\n"
      ]
     },
     "metadata": {},
     "output_type": "display_data"
    },
    {
     "data": {
      "text/html": [
       "<pre style=\"white-space:pre;overflow-x:auto;line-height:normal;font-family:Menlo,'DejaVu Sans Mono',consolas,'Courier New',monospace\"><span style=\"color: #7fbfbf; text-decoration-color: #7fbfbf\">                    </span><span style=\"color: #000080; text-decoration-color: #000080\">INFO    </span> Disabling daily seasonality. Run prophet with <span style=\"color: #808000; text-decoration-color: #808000\">daily_seasonality</span>=<span style=\"color: #00ff00; text-decoration-color: #00ff00; font-style: italic\">True</span> <a href=\"file:///home/work/Documents/repo/economic_freedom_ml/.venv/lib/python3.8/site-packages/prophet/forecaster.py\" target=\"_blank\"><span style=\"color: #7f7f7f; text-decoration-color: #7f7f7f\">forecaster.py</span></a><span style=\"color: #7f7f7f; text-decoration-color: #7f7f7f\">:</span><a href=\"file:///home/work/Documents/repo/economic_freedom_ml/.venv/lib/python3.8/site-packages/prophet/forecaster.py#931\" target=\"_blank\"><span style=\"color: #7f7f7f; text-decoration-color: #7f7f7f\">931</span></a>\n",
       "<span style=\"color: #7fbfbf; text-decoration-color: #7fbfbf\">                    </span>         to override this.                                                    <span style=\"color: #7f7f7f; text-decoration-color: #7f7f7f\">                 </span>\n",
       "</pre>\n"
      ],
      "text/plain": [
       "\u001b[2;36m                   \u001b[0m\u001b[2;36m \u001b[0m\u001b[34mINFO    \u001b[0m Disabling daily seasonality. Run prophet with \u001b[33mdaily_seasonality\u001b[0m=\u001b[3;92mTrue\u001b[0m \u001b]8;id=312888;file:///home/work/Documents/repo/economic_freedom_ml/.venv/lib/python3.8/site-packages/prophet/forecaster.py\u001b\\\u001b[2mforecaster.py\u001b[0m\u001b]8;;\u001b\\\u001b[2m:\u001b[0m\u001b]8;id=113761;file:///home/work/Documents/repo/economic_freedom_ml/.venv/lib/python3.8/site-packages/prophet/forecaster.py#931\u001b\\\u001b[2m931\u001b[0m\u001b]8;;\u001b\\\n",
       "\u001b[2;36m                    \u001b[0m         to override this.                                                    \u001b[2m                 \u001b[0m\n"
      ]
     },
     "metadata": {},
     "output_type": "display_data"
    },
    {
     "data": {
      "text/html": [
       "<pre style=\"white-space:pre;overflow-x:auto;line-height:normal;font-family:Menlo,'DejaVu Sans Mono',consolas,'Courier New',monospace\"><span style=\"color: #7fbfbf; text-decoration-color: #7fbfbf\">                    </span><span style=\"color: #000080; text-decoration-color: #000080\">INFO    </span> n_changepoints greater than number of observations. Using <span style=\"color: #008080; text-decoration-color: #008080; font-weight: bold\">18</span>.        <a href=\"file:///home/work/Documents/repo/economic_freedom_ml/.venv/lib/python3.8/site-packages/prophet/forecaster.py\" target=\"_blank\"><span style=\"color: #7f7f7f; text-decoration-color: #7f7f7f\">forecaster.py</span></a><span style=\"color: #7f7f7f; text-decoration-color: #7f7f7f\">:</span><a href=\"file:///home/work/Documents/repo/economic_freedom_ml/.venv/lib/python3.8/site-packages/prophet/forecaster.py#401\" target=\"_blank\"><span style=\"color: #7f7f7f; text-decoration-color: #7f7f7f\">401</span></a>\n",
       "</pre>\n"
      ],
      "text/plain": [
       "\u001b[2;36m                   \u001b[0m\u001b[2;36m \u001b[0m\u001b[34mINFO    \u001b[0m n_changepoints greater than number of observations. Using \u001b[1;36m18\u001b[0m.        \u001b]8;id=443945;file:///home/work/Documents/repo/economic_freedom_ml/.venv/lib/python3.8/site-packages/prophet/forecaster.py\u001b\\\u001b[2mforecaster.py\u001b[0m\u001b]8;;\u001b\\\u001b[2m:\u001b[0m\u001b]8;id=732433;file:///home/work/Documents/repo/economic_freedom_ml/.venv/lib/python3.8/site-packages/prophet/forecaster.py#401\u001b\\\u001b[2m401\u001b[0m\u001b]8;;\u001b\\\n"
      ]
     },
     "metadata": {},
     "output_type": "display_data"
    },
    {
     "data": {
      "text/html": [
       "<pre style=\"white-space:pre;overflow-x:auto;line-height:normal;font-family:Menlo,'DejaVu Sans Mono',consolas,'Courier New',monospace\"><span style=\"color: #7fbfbf; text-decoration-color: #7fbfbf\">                    </span><span style=\"color: #008000; text-decoration-color: #008000\">DEBUG   </span> input tempfile: <span style=\"color: #800080; text-decoration-color: #800080\">/tmp/tmpsaail0o2/</span><span style=\"color: #ff00ff; text-decoration-color: #ff00ff\">az9blbej.json</span>                       <a href=\"file:///home/work/Documents/repo/economic_freedom_ml/.venv/lib/python3.8/site-packages/cmdstanpy/utils/filesystem.py\" target=\"_blank\"><span style=\"color: #7f7f7f; text-decoration-color: #7f7f7f\">filesystem.py</span></a><span style=\"color: #7f7f7f; text-decoration-color: #7f7f7f\">:</span><a href=\"file:///home/work/Documents/repo/economic_freedom_ml/.venv/lib/python3.8/site-packages/cmdstanpy/utils/filesystem.py#123\" target=\"_blank\"><span style=\"color: #7f7f7f; text-decoration-color: #7f7f7f\">123</span></a>\n",
       "</pre>\n"
      ],
      "text/plain": [
       "\u001b[2;36m                   \u001b[0m\u001b[2;36m \u001b[0m\u001b[32mDEBUG   \u001b[0m input tempfile: \u001b[35m/tmp/tmpsaail0o2/\u001b[0m\u001b[95maz9blbej.json\u001b[0m                       \u001b]8;id=816362;file:///home/work/Documents/repo/economic_freedom_ml/.venv/lib/python3.8/site-packages/cmdstanpy/utils/filesystem.py\u001b\\\u001b[2mfilesystem.py\u001b[0m\u001b]8;;\u001b\\\u001b[2m:\u001b[0m\u001b]8;id=242149;file:///home/work/Documents/repo/economic_freedom_ml/.venv/lib/python3.8/site-packages/cmdstanpy/utils/filesystem.py#123\u001b\\\u001b[2m123\u001b[0m\u001b]8;;\u001b\\\n"
      ]
     },
     "metadata": {},
     "output_type": "display_data"
    },
    {
     "data": {
      "text/html": [
       "<pre style=\"white-space:pre;overflow-x:auto;line-height:normal;font-family:Menlo,'DejaVu Sans Mono',consolas,'Courier New',monospace\"><span style=\"color: #7fbfbf; text-decoration-color: #7fbfbf\">                    </span><span style=\"color: #008000; text-decoration-color: #008000\">DEBUG   </span> input tempfile: <span style=\"color: #800080; text-decoration-color: #800080\">/tmp/tmpsaail0o2/</span><span style=\"color: #ff00ff; text-decoration-color: #ff00ff\">x4_0k1k2.json</span>                       <a href=\"file:///home/work/Documents/repo/economic_freedom_ml/.venv/lib/python3.8/site-packages/cmdstanpy/utils/filesystem.py\" target=\"_blank\"><span style=\"color: #7f7f7f; text-decoration-color: #7f7f7f\">filesystem.py</span></a><span style=\"color: #7f7f7f; text-decoration-color: #7f7f7f\">:</span><a href=\"file:///home/work/Documents/repo/economic_freedom_ml/.venv/lib/python3.8/site-packages/cmdstanpy/utils/filesystem.py#123\" target=\"_blank\"><span style=\"color: #7f7f7f; text-decoration-color: #7f7f7f\">123</span></a>\n",
       "</pre>\n"
      ],
      "text/plain": [
       "\u001b[2;36m                   \u001b[0m\u001b[2;36m \u001b[0m\u001b[32mDEBUG   \u001b[0m input tempfile: \u001b[35m/tmp/tmpsaail0o2/\u001b[0m\u001b[95mx4_0k1k2.json\u001b[0m                       \u001b]8;id=414585;file:///home/work/Documents/repo/economic_freedom_ml/.venv/lib/python3.8/site-packages/cmdstanpy/utils/filesystem.py\u001b\\\u001b[2mfilesystem.py\u001b[0m\u001b]8;;\u001b\\\u001b[2m:\u001b[0m\u001b]8;id=530342;file:///home/work/Documents/repo/economic_freedom_ml/.venv/lib/python3.8/site-packages/cmdstanpy/utils/filesystem.py#123\u001b\\\u001b[2m123\u001b[0m\u001b]8;;\u001b\\\n"
      ]
     },
     "metadata": {},
     "output_type": "display_data"
    },
    {
     "data": {
      "text/html": [
       "<pre style=\"white-space:pre;overflow-x:auto;line-height:normal;font-family:Menlo,'DejaVu Sans Mono',consolas,'Courier New',monospace\"><span style=\"color: #7fbfbf; text-decoration-color: #7fbfbf\">                    </span><span style=\"color: #008000; text-decoration-color: #008000\">DEBUG   </span> idx <span style=\"color: #008080; text-decoration-color: #008080; font-weight: bold\">0</span>                                                                    <a href=\"file:///home/work/Documents/repo/economic_freedom_ml/.venv/lib/python3.8/site-packages/cmdstanpy/model.py\" target=\"_blank\"><span style=\"color: #7f7f7f; text-decoration-color: #7f7f7f\">model.py</span></a><span style=\"color: #7f7f7f; text-decoration-color: #7f7f7f\">:</span><a href=\"file:///home/work/Documents/repo/economic_freedom_ml/.venv/lib/python3.8/site-packages/cmdstanpy/model.py#1677\" target=\"_blank\"><span style=\"color: #7f7f7f; text-decoration-color: #7f7f7f\">1677</span></a>\n",
       "</pre>\n"
      ],
      "text/plain": [
       "\u001b[2;36m                   \u001b[0m\u001b[2;36m \u001b[0m\u001b[32mDEBUG   \u001b[0m idx \u001b[1;36m0\u001b[0m                                                                    \u001b]8;id=573426;file:///home/work/Documents/repo/economic_freedom_ml/.venv/lib/python3.8/site-packages/cmdstanpy/model.py\u001b\\\u001b[2mmodel.py\u001b[0m\u001b]8;;\u001b\\\u001b[2m:\u001b[0m\u001b]8;id=486694;file:///home/work/Documents/repo/economic_freedom_ml/.venv/lib/python3.8/site-packages/cmdstanpy/model.py#1677\u001b\\\u001b[2m1677\u001b[0m\u001b]8;;\u001b\\\n"
      ]
     },
     "metadata": {},
     "output_type": "display_data"
    },
    {
     "data": {
      "text/html": [
       "<pre style=\"white-space:pre;overflow-x:auto;line-height:normal;font-family:Menlo,'DejaVu Sans Mono',consolas,'Courier New',monospace\"><span style=\"color: #7fbfbf; text-decoration-color: #7fbfbf\">                    </span><span style=\"color: #008000; text-decoration-color: #008000\">DEBUG   </span> running CmdStan, num_threads: <span style=\"color: #800080; text-decoration-color: #800080; font-style: italic\">None</span>                                       <a href=\"file:///home/work/Documents/repo/economic_freedom_ml/.venv/lib/python3.8/site-packages/cmdstanpy/model.py\" target=\"_blank\"><span style=\"color: #7f7f7f; text-decoration-color: #7f7f7f\">model.py</span></a><span style=\"color: #7f7f7f; text-decoration-color: #7f7f7f\">:</span><a href=\"file:///home/work/Documents/repo/economic_freedom_ml/.venv/lib/python3.8/site-packages/cmdstanpy/model.py#1678\" target=\"_blank\"><span style=\"color: #7f7f7f; text-decoration-color: #7f7f7f\">1678</span></a>\n",
       "</pre>\n"
      ],
      "text/plain": [
       "\u001b[2;36m                   \u001b[0m\u001b[2;36m \u001b[0m\u001b[32mDEBUG   \u001b[0m running CmdStan, num_threads: \u001b[3;35mNone\u001b[0m                                       \u001b]8;id=21990;file:///home/work/Documents/repo/economic_freedom_ml/.venv/lib/python3.8/site-packages/cmdstanpy/model.py\u001b\\\u001b[2mmodel.py\u001b[0m\u001b]8;;\u001b\\\u001b[2m:\u001b[0m\u001b]8;id=234347;file:///home/work/Documents/repo/economic_freedom_ml/.venv/lib/python3.8/site-packages/cmdstanpy/model.py#1678\u001b\\\u001b[2m1678\u001b[0m\u001b]8;;\u001b\\\n"
      ]
     },
     "metadata": {},
     "output_type": "display_data"
    },
    {
     "data": {
      "text/html": [
       "<pre style=\"white-space:pre;overflow-x:auto;line-height:normal;font-family:Menlo,'DejaVu Sans Mono',consolas,'Courier New',monospace\"><span style=\"color: #7fbfbf; text-decoration-color: #7fbfbf\">                    </span><span style=\"color: #008000; text-decoration-color: #008000\">DEBUG   </span> CmdStan args:                                                            <a href=\"file:///home/work/Documents/repo/economic_freedom_ml/.venv/lib/python3.8/site-packages/cmdstanpy/model.py\" target=\"_blank\"><span style=\"color: #7f7f7f; text-decoration-color: #7f7f7f\">model.py</span></a><span style=\"color: #7f7f7f; text-decoration-color: #7f7f7f\">:</span><a href=\"file:///home/work/Documents/repo/economic_freedom_ml/.venv/lib/python3.8/site-packages/cmdstanpy/model.py#1690\" target=\"_blank\"><span style=\"color: #7f7f7f; text-decoration-color: #7f7f7f\">1690</span></a>\n",
       "<span style=\"color: #7fbfbf; text-decoration-color: #7fbfbf\">                    </span>         <span style=\"font-weight: bold\">[</span><span style=\"color: #008000; text-decoration-color: #008000\">'/home/work/Documents/repo/economic_freedom_ml/.venv/lib/python3.8/site</span> <span style=\"color: #7f7f7f; text-decoration-color: #7f7f7f\">             </span>\n",
       "<span style=\"color: #7fbfbf; text-decoration-color: #7fbfbf\">                    </span>         <span style=\"color: #008000; text-decoration-color: #008000\">-packages/prophet/stan_model/prophet_model.bin'</span>, <span style=\"color: #008000; text-decoration-color: #008000\">'random'</span>, <span style=\"color: #008000; text-decoration-color: #008000\">'seed=21719'</span>, <span style=\"color: #7f7f7f; text-decoration-color: #7f7f7f\">             </span>\n",
       "<span style=\"color: #7fbfbf; text-decoration-color: #7fbfbf\">                    </span>         <span style=\"color: #008000; text-decoration-color: #008000\">'data'</span>, <span style=\"color: #008000; text-decoration-color: #008000\">'file=/tmp/tmpsaail0o2/az9blbej.json'</span>,                           <span style=\"color: #7f7f7f; text-decoration-color: #7f7f7f\">             </span>\n",
       "<span style=\"color: #7fbfbf; text-decoration-color: #7fbfbf\">                    </span>         <span style=\"color: #008000; text-decoration-color: #008000\">'init=/tmp/tmpsaail0o2/x4_0k1k2.json'</span>, <span style=\"color: #008000; text-decoration-color: #008000\">'output'</span>,                         <span style=\"color: #7f7f7f; text-decoration-color: #7f7f7f\">             </span>\n",
       "<span style=\"color: #7fbfbf; text-decoration-color: #7fbfbf\">                    </span>         <span style=\"color: #008000; text-decoration-color: #008000\">'file=/tmp/tmpsaail0o2/prophet_modelv12ae_y8/prophet_model-2023052018370</span> <span style=\"color: #7f7f7f; text-decoration-color: #7f7f7f\">             </span>\n",
       "<span style=\"color: #7fbfbf; text-decoration-color: #7fbfbf\">                    </span>         <span style=\"color: #008000; text-decoration-color: #008000\">4.csv'</span>, <span style=\"color: #008000; text-decoration-color: #008000\">'method=optimize'</span>, <span style=\"color: #008000; text-decoration-color: #008000\">'algorithm=newton'</span>, <span style=\"color: #008000; text-decoration-color: #008000\">'iter=10000'</span><span style=\"font-weight: bold\">]</span>             <span style=\"color: #7f7f7f; text-decoration-color: #7f7f7f\">             </span>\n",
       "</pre>\n"
      ],
      "text/plain": [
       "\u001b[2;36m                   \u001b[0m\u001b[2;36m \u001b[0m\u001b[32mDEBUG   \u001b[0m CmdStan args:                                                            \u001b]8;id=874423;file:///home/work/Documents/repo/economic_freedom_ml/.venv/lib/python3.8/site-packages/cmdstanpy/model.py\u001b\\\u001b[2mmodel.py\u001b[0m\u001b]8;;\u001b\\\u001b[2m:\u001b[0m\u001b]8;id=859952;file:///home/work/Documents/repo/economic_freedom_ml/.venv/lib/python3.8/site-packages/cmdstanpy/model.py#1690\u001b\\\u001b[2m1690\u001b[0m\u001b]8;;\u001b\\\n",
       "\u001b[2;36m                    \u001b[0m         \u001b[1m[\u001b[0m\u001b[32m'/home/work/Documents/repo/economic_freedom_ml/.venv/lib/python3.8/site\u001b[0m \u001b[2m             \u001b[0m\n",
       "\u001b[2;36m                    \u001b[0m         \u001b[32m-packages/prophet/stan_model/prophet_model.bin'\u001b[0m, \u001b[32m'random'\u001b[0m, \u001b[32m'\u001b[0m\u001b[32mseed\u001b[0m\u001b[32m=\u001b[0m\u001b[32m21719\u001b[0m\u001b[32m'\u001b[0m, \u001b[2m             \u001b[0m\n",
       "\u001b[2;36m                    \u001b[0m         \u001b[32m'data'\u001b[0m, \u001b[32m'\u001b[0m\u001b[32mfile\u001b[0m\u001b[32m=/tmp/tmpsaail0o2/az9blbej.json'\u001b[0m,                           \u001b[2m             \u001b[0m\n",
       "\u001b[2;36m                    \u001b[0m         \u001b[32m'\u001b[0m\u001b[32minit\u001b[0m\u001b[32m=/tmp/tmpsaail0o2/x4_0k1k2.json'\u001b[0m, \u001b[32m'output'\u001b[0m,                         \u001b[2m             \u001b[0m\n",
       "\u001b[2;36m                    \u001b[0m         \u001b[32m'\u001b[0m\u001b[32mfile\u001b[0m\u001b[32m=/tmp/tmpsaail0o2/prophet_modelv12ae_y8/prophet_model-2023052018370\u001b[0m \u001b[2m             \u001b[0m\n",
       "\u001b[2;36m                    \u001b[0m         \u001b[32m4.csv'\u001b[0m, \u001b[32m'\u001b[0m\u001b[32mmethod\u001b[0m\u001b[32m=\u001b[0m\u001b[32moptimize\u001b[0m\u001b[32m'\u001b[0m, \u001b[32m'\u001b[0m\u001b[32malgorithm\u001b[0m\u001b[32m=\u001b[0m\u001b[32mnewton\u001b[0m\u001b[32m'\u001b[0m, \u001b[32m'\u001b[0m\u001b[32miter\u001b[0m\u001b[32m=\u001b[0m\u001b[32m10000\u001b[0m\u001b[32m'\u001b[0m\u001b[1m]\u001b[0m             \u001b[2m             \u001b[0m\n"
      ]
     },
     "metadata": {},
     "output_type": "display_data"
    },
    {
     "name": "stderr",
     "output_type": "stream",
     "text": [
      "18:37:04 - cmdstanpy - INFO - Chain [1] start processing\n"
     ]
    },
    {
     "data": {
      "text/html": [
       "<pre style=\"white-space:pre;overflow-x:auto;line-height:normal;font-family:Menlo,'DejaVu Sans Mono',consolas,'Courier New',monospace\"><span style=\"color: #7fbfbf; text-decoration-color: #7fbfbf\">                    </span><span style=\"color: #000080; text-decoration-color: #000080\">INFO    </span> Chain <span style=\"font-weight: bold\">[</span><span style=\"color: #008080; text-decoration-color: #008080; font-weight: bold\">1</span><span style=\"font-weight: bold\">]</span> start processing                                               <a href=\"file:///home/work/Documents/repo/economic_freedom_ml/.venv/lib/python3.8/site-packages/cmdstanpy/model.py\" target=\"_blank\"><span style=\"color: #7f7f7f; text-decoration-color: #7f7f7f\">model.py</span></a><span style=\"color: #7f7f7f; text-decoration-color: #7f7f7f\">:</span><a href=\"file:///home/work/Documents/repo/economic_freedom_ml/.venv/lib/python3.8/site-packages/cmdstanpy/model.py#1693\" target=\"_blank\"><span style=\"color: #7f7f7f; text-decoration-color: #7f7f7f\">1693</span></a>\n",
       "</pre>\n"
      ],
      "text/plain": [
       "\u001b[2;36m                   \u001b[0m\u001b[2;36m \u001b[0m\u001b[34mINFO    \u001b[0m Chain \u001b[1m[\u001b[0m\u001b[1;36m1\u001b[0m\u001b[1m]\u001b[0m start processing                                               \u001b]8;id=593491;file:///home/work/Documents/repo/economic_freedom_ml/.venv/lib/python3.8/site-packages/cmdstanpy/model.py\u001b\\\u001b[2mmodel.py\u001b[0m\u001b]8;;\u001b\\\u001b[2m:\u001b[0m\u001b]8;id=26552;file:///home/work/Documents/repo/economic_freedom_ml/.venv/lib/python3.8/site-packages/cmdstanpy/model.py#1693\u001b\\\u001b[2m1693\u001b[0m\u001b]8;;\u001b\\\n"
      ]
     },
     "metadata": {},
     "output_type": "display_data"
    },
    {
     "name": "stderr",
     "output_type": "stream",
     "text": [
      "18:37:04 - cmdstanpy - INFO - Chain [1] done processing\n"
     ]
    },
    {
     "data": {
      "text/html": [
       "<pre style=\"white-space:pre;overflow-x:auto;line-height:normal;font-family:Menlo,'DejaVu Sans Mono',consolas,'Courier New',monospace\"><span style=\"color: #7fbfbf; text-decoration-color: #7fbfbf\">                    </span><span style=\"color: #000080; text-decoration-color: #000080\">INFO    </span> Chain <span style=\"font-weight: bold\">[</span><span style=\"color: #008080; text-decoration-color: #008080; font-weight: bold\">1</span><span style=\"font-weight: bold\">]</span> done processing                                                <a href=\"file:///home/work/Documents/repo/economic_freedom_ml/.venv/lib/python3.8/site-packages/cmdstanpy/model.py\" target=\"_blank\"><span style=\"color: #7f7f7f; text-decoration-color: #7f7f7f\">model.py</span></a><span style=\"color: #7f7f7f; text-decoration-color: #7f7f7f\">:</span><a href=\"file:///home/work/Documents/repo/economic_freedom_ml/.venv/lib/python3.8/site-packages/cmdstanpy/model.py#1750\" target=\"_blank\"><span style=\"color: #7f7f7f; text-decoration-color: #7f7f7f\">1750</span></a>\n",
       "</pre>\n"
      ],
      "text/plain": [
       "\u001b[2;36m                   \u001b[0m\u001b[2;36m \u001b[0m\u001b[34mINFO    \u001b[0m Chain \u001b[1m[\u001b[0m\u001b[1;36m1\u001b[0m\u001b[1m]\u001b[0m done processing                                                \u001b]8;id=279612;file:///home/work/Documents/repo/economic_freedom_ml/.venv/lib/python3.8/site-packages/cmdstanpy/model.py\u001b\\\u001b[2mmodel.py\u001b[0m\u001b]8;;\u001b\\\u001b[2m:\u001b[0m\u001b]8;id=402009;file:///home/work/Documents/repo/economic_freedom_ml/.venv/lib/python3.8/site-packages/cmdstanpy/model.py#1750\u001b\\\u001b[2m1750\u001b[0m\u001b]8;;\u001b\\\n"
      ]
     },
     "metadata": {},
     "output_type": "display_data"
    },
    {
     "data": {
      "text/html": [
       "<pre style=\"white-space:pre;overflow-x:auto;line-height:normal;font-family:Menlo,'DejaVu Sans Mono',consolas,'Courier New',monospace\"><span style=\"color: #7fbfbf; text-decoration-color: #7fbfbf\">                    </span><span style=\"color: #000080; text-decoration-color: #000080\">INFO    </span> Disabling weekly seasonality. Run prophet with                       <a href=\"file:///home/work/Documents/repo/economic_freedom_ml/.venv/lib/python3.8/site-packages/prophet/forecaster.py\" target=\"_blank\"><span style=\"color: #7f7f7f; text-decoration-color: #7f7f7f\">forecaster.py</span></a><span style=\"color: #7f7f7f; text-decoration-color: #7f7f7f\">:</span><a href=\"file:///home/work/Documents/repo/economic_freedom_ml/.venv/lib/python3.8/site-packages/prophet/forecaster.py#931\" target=\"_blank\"><span style=\"color: #7f7f7f; text-decoration-color: #7f7f7f\">931</span></a>\n",
       "<span style=\"color: #7fbfbf; text-decoration-color: #7fbfbf\">                    </span>         <span style=\"color: #808000; text-decoration-color: #808000\">weekly_seasonality</span>=<span style=\"color: #00ff00; text-decoration-color: #00ff00; font-style: italic\">True</span> to override this.                            <span style=\"color: #7f7f7f; text-decoration-color: #7f7f7f\">                 </span>\n",
       "</pre>\n"
      ],
      "text/plain": [
       "\u001b[2;36m                   \u001b[0m\u001b[2;36m \u001b[0m\u001b[34mINFO    \u001b[0m Disabling weekly seasonality. Run prophet with                       \u001b]8;id=1233;file:///home/work/Documents/repo/economic_freedom_ml/.venv/lib/python3.8/site-packages/prophet/forecaster.py\u001b\\\u001b[2mforecaster.py\u001b[0m\u001b]8;;\u001b\\\u001b[2m:\u001b[0m\u001b]8;id=191842;file:///home/work/Documents/repo/economic_freedom_ml/.venv/lib/python3.8/site-packages/prophet/forecaster.py#931\u001b\\\u001b[2m931\u001b[0m\u001b]8;;\u001b\\\n",
       "\u001b[2;36m                    \u001b[0m         \u001b[33mweekly_seasonality\u001b[0m=\u001b[3;92mTrue\u001b[0m to override this.                            \u001b[2m                 \u001b[0m\n"
      ]
     },
     "metadata": {},
     "output_type": "display_data"
    },
    {
     "data": {
      "text/html": [
       "<pre style=\"white-space:pre;overflow-x:auto;line-height:normal;font-family:Menlo,'DejaVu Sans Mono',consolas,'Courier New',monospace\"><span style=\"color: #7fbfbf; text-decoration-color: #7fbfbf\">                    </span><span style=\"color: #000080; text-decoration-color: #000080\">INFO    </span> Disabling daily seasonality. Run prophet with <span style=\"color: #808000; text-decoration-color: #808000\">daily_seasonality</span>=<span style=\"color: #00ff00; text-decoration-color: #00ff00; font-style: italic\">True</span> <a href=\"file:///home/work/Documents/repo/economic_freedom_ml/.venv/lib/python3.8/site-packages/prophet/forecaster.py\" target=\"_blank\"><span style=\"color: #7f7f7f; text-decoration-color: #7f7f7f\">forecaster.py</span></a><span style=\"color: #7f7f7f; text-decoration-color: #7f7f7f\">:</span><a href=\"file:///home/work/Documents/repo/economic_freedom_ml/.venv/lib/python3.8/site-packages/prophet/forecaster.py#931\" target=\"_blank\"><span style=\"color: #7f7f7f; text-decoration-color: #7f7f7f\">931</span></a>\n",
       "<span style=\"color: #7fbfbf; text-decoration-color: #7fbfbf\">                    </span>         to override this.                                                    <span style=\"color: #7f7f7f; text-decoration-color: #7f7f7f\">                 </span>\n",
       "</pre>\n"
      ],
      "text/plain": [
       "\u001b[2;36m                   \u001b[0m\u001b[2;36m \u001b[0m\u001b[34mINFO    \u001b[0m Disabling daily seasonality. Run prophet with \u001b[33mdaily_seasonality\u001b[0m=\u001b[3;92mTrue\u001b[0m \u001b]8;id=430936;file:///home/work/Documents/repo/economic_freedom_ml/.venv/lib/python3.8/site-packages/prophet/forecaster.py\u001b\\\u001b[2mforecaster.py\u001b[0m\u001b]8;;\u001b\\\u001b[2m:\u001b[0m\u001b]8;id=323286;file:///home/work/Documents/repo/economic_freedom_ml/.venv/lib/python3.8/site-packages/prophet/forecaster.py#931\u001b\\\u001b[2m931\u001b[0m\u001b]8;;\u001b\\\n",
       "\u001b[2;36m                    \u001b[0m         to override this.                                                    \u001b[2m                 \u001b[0m\n"
      ]
     },
     "metadata": {},
     "output_type": "display_data"
    },
    {
     "data": {
      "text/html": [
       "<pre style=\"white-space:pre;overflow-x:auto;line-height:normal;font-family:Menlo,'DejaVu Sans Mono',consolas,'Courier New',monospace\"><span style=\"color: #7fbfbf; text-decoration-color: #7fbfbf\">                    </span><span style=\"color: #000080; text-decoration-color: #000080\">INFO    </span> n_changepoints greater than number of observations. Using <span style=\"color: #008080; text-decoration-color: #008080; font-weight: bold\">18</span>.        <a href=\"file:///home/work/Documents/repo/economic_freedom_ml/.venv/lib/python3.8/site-packages/prophet/forecaster.py\" target=\"_blank\"><span style=\"color: #7f7f7f; text-decoration-color: #7f7f7f\">forecaster.py</span></a><span style=\"color: #7f7f7f; text-decoration-color: #7f7f7f\">:</span><a href=\"file:///home/work/Documents/repo/economic_freedom_ml/.venv/lib/python3.8/site-packages/prophet/forecaster.py#401\" target=\"_blank\"><span style=\"color: #7f7f7f; text-decoration-color: #7f7f7f\">401</span></a>\n",
       "</pre>\n"
      ],
      "text/plain": [
       "\u001b[2;36m                   \u001b[0m\u001b[2;36m \u001b[0m\u001b[34mINFO    \u001b[0m n_changepoints greater than number of observations. Using \u001b[1;36m18\u001b[0m.        \u001b]8;id=355965;file:///home/work/Documents/repo/economic_freedom_ml/.venv/lib/python3.8/site-packages/prophet/forecaster.py\u001b\\\u001b[2mforecaster.py\u001b[0m\u001b]8;;\u001b\\\u001b[2m:\u001b[0m\u001b]8;id=449601;file:///home/work/Documents/repo/economic_freedom_ml/.venv/lib/python3.8/site-packages/prophet/forecaster.py#401\u001b\\\u001b[2m401\u001b[0m\u001b]8;;\u001b\\\n"
      ]
     },
     "metadata": {},
     "output_type": "display_data"
    },
    {
     "data": {
      "text/html": [
       "<pre style=\"white-space:pre;overflow-x:auto;line-height:normal;font-family:Menlo,'DejaVu Sans Mono',consolas,'Courier New',monospace\"><span style=\"color: #7fbfbf; text-decoration-color: #7fbfbf\">                    </span><span style=\"color: #008000; text-decoration-color: #008000\">DEBUG   </span> input tempfile: <span style=\"color: #800080; text-decoration-color: #800080\">/tmp/tmpsaail0o2/</span><span style=\"color: #ff00ff; text-decoration-color: #ff00ff\">jjty8iaq.json</span>                       <a href=\"file:///home/work/Documents/repo/economic_freedom_ml/.venv/lib/python3.8/site-packages/cmdstanpy/utils/filesystem.py\" target=\"_blank\"><span style=\"color: #7f7f7f; text-decoration-color: #7f7f7f\">filesystem.py</span></a><span style=\"color: #7f7f7f; text-decoration-color: #7f7f7f\">:</span><a href=\"file:///home/work/Documents/repo/economic_freedom_ml/.venv/lib/python3.8/site-packages/cmdstanpy/utils/filesystem.py#123\" target=\"_blank\"><span style=\"color: #7f7f7f; text-decoration-color: #7f7f7f\">123</span></a>\n",
       "</pre>\n"
      ],
      "text/plain": [
       "\u001b[2;36m                   \u001b[0m\u001b[2;36m \u001b[0m\u001b[32mDEBUG   \u001b[0m input tempfile: \u001b[35m/tmp/tmpsaail0o2/\u001b[0m\u001b[95mjjty8iaq.json\u001b[0m                       \u001b]8;id=83603;file:///home/work/Documents/repo/economic_freedom_ml/.venv/lib/python3.8/site-packages/cmdstanpy/utils/filesystem.py\u001b\\\u001b[2mfilesystem.py\u001b[0m\u001b]8;;\u001b\\\u001b[2m:\u001b[0m\u001b]8;id=940652;file:///home/work/Documents/repo/economic_freedom_ml/.venv/lib/python3.8/site-packages/cmdstanpy/utils/filesystem.py#123\u001b\\\u001b[2m123\u001b[0m\u001b]8;;\u001b\\\n"
      ]
     },
     "metadata": {},
     "output_type": "display_data"
    },
    {
     "data": {
      "text/html": [
       "<pre style=\"white-space:pre;overflow-x:auto;line-height:normal;font-family:Menlo,'DejaVu Sans Mono',consolas,'Courier New',monospace\"><span style=\"color: #7fbfbf; text-decoration-color: #7fbfbf\">                    </span><span style=\"color: #008000; text-decoration-color: #008000\">DEBUG   </span> input tempfile: <span style=\"color: #800080; text-decoration-color: #800080\">/tmp/tmpsaail0o2/</span><span style=\"color: #ff00ff; text-decoration-color: #ff00ff\">girikz6a.json</span>                       <a href=\"file:///home/work/Documents/repo/economic_freedom_ml/.venv/lib/python3.8/site-packages/cmdstanpy/utils/filesystem.py\" target=\"_blank\"><span style=\"color: #7f7f7f; text-decoration-color: #7f7f7f\">filesystem.py</span></a><span style=\"color: #7f7f7f; text-decoration-color: #7f7f7f\">:</span><a href=\"file:///home/work/Documents/repo/economic_freedom_ml/.venv/lib/python3.8/site-packages/cmdstanpy/utils/filesystem.py#123\" target=\"_blank\"><span style=\"color: #7f7f7f; text-decoration-color: #7f7f7f\">123</span></a>\n",
       "</pre>\n"
      ],
      "text/plain": [
       "\u001b[2;36m                   \u001b[0m\u001b[2;36m \u001b[0m\u001b[32mDEBUG   \u001b[0m input tempfile: \u001b[35m/tmp/tmpsaail0o2/\u001b[0m\u001b[95mgirikz6a.json\u001b[0m                       \u001b]8;id=627963;file:///home/work/Documents/repo/economic_freedom_ml/.venv/lib/python3.8/site-packages/cmdstanpy/utils/filesystem.py\u001b\\\u001b[2mfilesystem.py\u001b[0m\u001b]8;;\u001b\\\u001b[2m:\u001b[0m\u001b]8;id=631366;file:///home/work/Documents/repo/economic_freedom_ml/.venv/lib/python3.8/site-packages/cmdstanpy/utils/filesystem.py#123\u001b\\\u001b[2m123\u001b[0m\u001b]8;;\u001b\\\n"
      ]
     },
     "metadata": {},
     "output_type": "display_data"
    },
    {
     "data": {
      "text/html": [
       "<pre style=\"white-space:pre;overflow-x:auto;line-height:normal;font-family:Menlo,'DejaVu Sans Mono',consolas,'Courier New',monospace\"><span style=\"color: #7fbfbf; text-decoration-color: #7fbfbf\">                    </span><span style=\"color: #008000; text-decoration-color: #008000\">DEBUG   </span> idx <span style=\"color: #008080; text-decoration-color: #008080; font-weight: bold\">0</span>                                                                    <a href=\"file:///home/work/Documents/repo/economic_freedom_ml/.venv/lib/python3.8/site-packages/cmdstanpy/model.py\" target=\"_blank\"><span style=\"color: #7f7f7f; text-decoration-color: #7f7f7f\">model.py</span></a><span style=\"color: #7f7f7f; text-decoration-color: #7f7f7f\">:</span><a href=\"file:///home/work/Documents/repo/economic_freedom_ml/.venv/lib/python3.8/site-packages/cmdstanpy/model.py#1677\" target=\"_blank\"><span style=\"color: #7f7f7f; text-decoration-color: #7f7f7f\">1677</span></a>\n",
       "</pre>\n"
      ],
      "text/plain": [
       "\u001b[2;36m                   \u001b[0m\u001b[2;36m \u001b[0m\u001b[32mDEBUG   \u001b[0m idx \u001b[1;36m0\u001b[0m                                                                    \u001b]8;id=588084;file:///home/work/Documents/repo/economic_freedom_ml/.venv/lib/python3.8/site-packages/cmdstanpy/model.py\u001b\\\u001b[2mmodel.py\u001b[0m\u001b]8;;\u001b\\\u001b[2m:\u001b[0m\u001b]8;id=944871;file:///home/work/Documents/repo/economic_freedom_ml/.venv/lib/python3.8/site-packages/cmdstanpy/model.py#1677\u001b\\\u001b[2m1677\u001b[0m\u001b]8;;\u001b\\\n"
      ]
     },
     "metadata": {},
     "output_type": "display_data"
    },
    {
     "data": {
      "text/html": [
       "<pre style=\"white-space:pre;overflow-x:auto;line-height:normal;font-family:Menlo,'DejaVu Sans Mono',consolas,'Courier New',monospace\"><span style=\"color: #7fbfbf; text-decoration-color: #7fbfbf\">                    </span><span style=\"color: #008000; text-decoration-color: #008000\">DEBUG   </span> running CmdStan, num_threads: <span style=\"color: #800080; text-decoration-color: #800080; font-style: italic\">None</span>                                       <a href=\"file:///home/work/Documents/repo/economic_freedom_ml/.venv/lib/python3.8/site-packages/cmdstanpy/model.py\" target=\"_blank\"><span style=\"color: #7f7f7f; text-decoration-color: #7f7f7f\">model.py</span></a><span style=\"color: #7f7f7f; text-decoration-color: #7f7f7f\">:</span><a href=\"file:///home/work/Documents/repo/economic_freedom_ml/.venv/lib/python3.8/site-packages/cmdstanpy/model.py#1678\" target=\"_blank\"><span style=\"color: #7f7f7f; text-decoration-color: #7f7f7f\">1678</span></a>\n",
       "</pre>\n"
      ],
      "text/plain": [
       "\u001b[2;36m                   \u001b[0m\u001b[2;36m \u001b[0m\u001b[32mDEBUG   \u001b[0m running CmdStan, num_threads: \u001b[3;35mNone\u001b[0m                                       \u001b]8;id=727290;file:///home/work/Documents/repo/economic_freedom_ml/.venv/lib/python3.8/site-packages/cmdstanpy/model.py\u001b\\\u001b[2mmodel.py\u001b[0m\u001b]8;;\u001b\\\u001b[2m:\u001b[0m\u001b]8;id=63583;file:///home/work/Documents/repo/economic_freedom_ml/.venv/lib/python3.8/site-packages/cmdstanpy/model.py#1678\u001b\\\u001b[2m1678\u001b[0m\u001b]8;;\u001b\\\n"
      ]
     },
     "metadata": {},
     "output_type": "display_data"
    },
    {
     "data": {
      "text/html": [
       "<pre style=\"white-space:pre;overflow-x:auto;line-height:normal;font-family:Menlo,'DejaVu Sans Mono',consolas,'Courier New',monospace\"><span style=\"color: #7fbfbf; text-decoration-color: #7fbfbf\">                    </span><span style=\"color: #008000; text-decoration-color: #008000\">DEBUG   </span> CmdStan args:                                                            <a href=\"file:///home/work/Documents/repo/economic_freedom_ml/.venv/lib/python3.8/site-packages/cmdstanpy/model.py\" target=\"_blank\"><span style=\"color: #7f7f7f; text-decoration-color: #7f7f7f\">model.py</span></a><span style=\"color: #7f7f7f; text-decoration-color: #7f7f7f\">:</span><a href=\"file:///home/work/Documents/repo/economic_freedom_ml/.venv/lib/python3.8/site-packages/cmdstanpy/model.py#1690\" target=\"_blank\"><span style=\"color: #7f7f7f; text-decoration-color: #7f7f7f\">1690</span></a>\n",
       "<span style=\"color: #7fbfbf; text-decoration-color: #7fbfbf\">                    </span>         <span style=\"font-weight: bold\">[</span><span style=\"color: #008000; text-decoration-color: #008000\">'/home/work/Documents/repo/economic_freedom_ml/.venv/lib/python3.8/site</span> <span style=\"color: #7f7f7f; text-decoration-color: #7f7f7f\">             </span>\n",
       "<span style=\"color: #7fbfbf; text-decoration-color: #7fbfbf\">                    </span>         <span style=\"color: #008000; text-decoration-color: #008000\">-packages/prophet/stan_model/prophet_model.bin'</span>, <span style=\"color: #008000; text-decoration-color: #008000\">'random'</span>, <span style=\"color: #008000; text-decoration-color: #008000\">'seed=59310'</span>, <span style=\"color: #7f7f7f; text-decoration-color: #7f7f7f\">             </span>\n",
       "<span style=\"color: #7fbfbf; text-decoration-color: #7fbfbf\">                    </span>         <span style=\"color: #008000; text-decoration-color: #008000\">'data'</span>, <span style=\"color: #008000; text-decoration-color: #008000\">'file=/tmp/tmpsaail0o2/jjty8iaq.json'</span>,                           <span style=\"color: #7f7f7f; text-decoration-color: #7f7f7f\">             </span>\n",
       "<span style=\"color: #7fbfbf; text-decoration-color: #7fbfbf\">                    </span>         <span style=\"color: #008000; text-decoration-color: #008000\">'init=/tmp/tmpsaail0o2/girikz6a.json'</span>, <span style=\"color: #008000; text-decoration-color: #008000\">'output'</span>,                         <span style=\"color: #7f7f7f; text-decoration-color: #7f7f7f\">             </span>\n",
       "<span style=\"color: #7fbfbf; text-decoration-color: #7fbfbf\">                    </span>         <span style=\"color: #008000; text-decoration-color: #008000\">'file=/tmp/tmpsaail0o2/prophet_model5lgknoot/prophet_model-2023052018370</span> <span style=\"color: #7f7f7f; text-decoration-color: #7f7f7f\">             </span>\n",
       "<span style=\"color: #7fbfbf; text-decoration-color: #7fbfbf\">                    </span>         <span style=\"color: #008000; text-decoration-color: #008000\">4.csv'</span>, <span style=\"color: #008000; text-decoration-color: #008000\">'method=optimize'</span>, <span style=\"color: #008000; text-decoration-color: #008000\">'algorithm=newton'</span>, <span style=\"color: #008000; text-decoration-color: #008000\">'iter=10000'</span><span style=\"font-weight: bold\">]</span>             <span style=\"color: #7f7f7f; text-decoration-color: #7f7f7f\">             </span>\n",
       "</pre>\n"
      ],
      "text/plain": [
       "\u001b[2;36m                   \u001b[0m\u001b[2;36m \u001b[0m\u001b[32mDEBUG   \u001b[0m CmdStan args:                                                            \u001b]8;id=340723;file:///home/work/Documents/repo/economic_freedom_ml/.venv/lib/python3.8/site-packages/cmdstanpy/model.py\u001b\\\u001b[2mmodel.py\u001b[0m\u001b]8;;\u001b\\\u001b[2m:\u001b[0m\u001b]8;id=485753;file:///home/work/Documents/repo/economic_freedom_ml/.venv/lib/python3.8/site-packages/cmdstanpy/model.py#1690\u001b\\\u001b[2m1690\u001b[0m\u001b]8;;\u001b\\\n",
       "\u001b[2;36m                    \u001b[0m         \u001b[1m[\u001b[0m\u001b[32m'/home/work/Documents/repo/economic_freedom_ml/.venv/lib/python3.8/site\u001b[0m \u001b[2m             \u001b[0m\n",
       "\u001b[2;36m                    \u001b[0m         \u001b[32m-packages/prophet/stan_model/prophet_model.bin'\u001b[0m, \u001b[32m'random'\u001b[0m, \u001b[32m'\u001b[0m\u001b[32mseed\u001b[0m\u001b[32m=\u001b[0m\u001b[32m59310\u001b[0m\u001b[32m'\u001b[0m, \u001b[2m             \u001b[0m\n",
       "\u001b[2;36m                    \u001b[0m         \u001b[32m'data'\u001b[0m, \u001b[32m'\u001b[0m\u001b[32mfile\u001b[0m\u001b[32m=/tmp/tmpsaail0o2/jjty8iaq.json'\u001b[0m,                           \u001b[2m             \u001b[0m\n",
       "\u001b[2;36m                    \u001b[0m         \u001b[32m'\u001b[0m\u001b[32minit\u001b[0m\u001b[32m=/tmp/tmpsaail0o2/girikz6a.json'\u001b[0m, \u001b[32m'output'\u001b[0m,                         \u001b[2m             \u001b[0m\n",
       "\u001b[2;36m                    \u001b[0m         \u001b[32m'\u001b[0m\u001b[32mfile\u001b[0m\u001b[32m=/tmp/tmpsaail0o2/prophet_model5lgknoot/prophet_model-2023052018370\u001b[0m \u001b[2m             \u001b[0m\n",
       "\u001b[2;36m                    \u001b[0m         \u001b[32m4.csv'\u001b[0m, \u001b[32m'\u001b[0m\u001b[32mmethod\u001b[0m\u001b[32m=\u001b[0m\u001b[32moptimize\u001b[0m\u001b[32m'\u001b[0m, \u001b[32m'\u001b[0m\u001b[32malgorithm\u001b[0m\u001b[32m=\u001b[0m\u001b[32mnewton\u001b[0m\u001b[32m'\u001b[0m, \u001b[32m'\u001b[0m\u001b[32miter\u001b[0m\u001b[32m=\u001b[0m\u001b[32m10000\u001b[0m\u001b[32m'\u001b[0m\u001b[1m]\u001b[0m             \u001b[2m             \u001b[0m\n"
      ]
     },
     "metadata": {},
     "output_type": "display_data"
    },
    {
     "name": "stderr",
     "output_type": "stream",
     "text": [
      "18:37:04 - cmdstanpy - INFO - Chain [1] start processing\n"
     ]
    },
    {
     "data": {
      "text/html": [
       "<pre style=\"white-space:pre;overflow-x:auto;line-height:normal;font-family:Menlo,'DejaVu Sans Mono',consolas,'Courier New',monospace\"><span style=\"color: #7fbfbf; text-decoration-color: #7fbfbf\">                    </span><span style=\"color: #000080; text-decoration-color: #000080\">INFO    </span> Chain <span style=\"font-weight: bold\">[</span><span style=\"color: #008080; text-decoration-color: #008080; font-weight: bold\">1</span><span style=\"font-weight: bold\">]</span> start processing                                               <a href=\"file:///home/work/Documents/repo/economic_freedom_ml/.venv/lib/python3.8/site-packages/cmdstanpy/model.py\" target=\"_blank\"><span style=\"color: #7f7f7f; text-decoration-color: #7f7f7f\">model.py</span></a><span style=\"color: #7f7f7f; text-decoration-color: #7f7f7f\">:</span><a href=\"file:///home/work/Documents/repo/economic_freedom_ml/.venv/lib/python3.8/site-packages/cmdstanpy/model.py#1693\" target=\"_blank\"><span style=\"color: #7f7f7f; text-decoration-color: #7f7f7f\">1693</span></a>\n",
       "</pre>\n"
      ],
      "text/plain": [
       "\u001b[2;36m                   \u001b[0m\u001b[2;36m \u001b[0m\u001b[34mINFO    \u001b[0m Chain \u001b[1m[\u001b[0m\u001b[1;36m1\u001b[0m\u001b[1m]\u001b[0m start processing                                               \u001b]8;id=385270;file:///home/work/Documents/repo/economic_freedom_ml/.venv/lib/python3.8/site-packages/cmdstanpy/model.py\u001b\\\u001b[2mmodel.py\u001b[0m\u001b]8;;\u001b\\\u001b[2m:\u001b[0m\u001b]8;id=299586;file:///home/work/Documents/repo/economic_freedom_ml/.venv/lib/python3.8/site-packages/cmdstanpy/model.py#1693\u001b\\\u001b[2m1693\u001b[0m\u001b]8;;\u001b\\\n"
      ]
     },
     "metadata": {},
     "output_type": "display_data"
    },
    {
     "name": "stderr",
     "output_type": "stream",
     "text": [
      "18:37:04 - cmdstanpy - INFO - Chain [1] done processing\n"
     ]
    },
    {
     "data": {
      "text/html": [
       "<pre style=\"white-space:pre;overflow-x:auto;line-height:normal;font-family:Menlo,'DejaVu Sans Mono',consolas,'Courier New',monospace\"><span style=\"color: #7fbfbf; text-decoration-color: #7fbfbf\">                    </span><span style=\"color: #000080; text-decoration-color: #000080\">INFO    </span> Chain <span style=\"font-weight: bold\">[</span><span style=\"color: #008080; text-decoration-color: #008080; font-weight: bold\">1</span><span style=\"font-weight: bold\">]</span> done processing                                                <a href=\"file:///home/work/Documents/repo/economic_freedom_ml/.venv/lib/python3.8/site-packages/cmdstanpy/model.py\" target=\"_blank\"><span style=\"color: #7f7f7f; text-decoration-color: #7f7f7f\">model.py</span></a><span style=\"color: #7f7f7f; text-decoration-color: #7f7f7f\">:</span><a href=\"file:///home/work/Documents/repo/economic_freedom_ml/.venv/lib/python3.8/site-packages/cmdstanpy/model.py#1750\" target=\"_blank\"><span style=\"color: #7f7f7f; text-decoration-color: #7f7f7f\">1750</span></a>\n",
       "</pre>\n"
      ],
      "text/plain": [
       "\u001b[2;36m                   \u001b[0m\u001b[2;36m \u001b[0m\u001b[34mINFO    \u001b[0m Chain \u001b[1m[\u001b[0m\u001b[1;36m1\u001b[0m\u001b[1m]\u001b[0m done processing                                                \u001b]8;id=965338;file:///home/work/Documents/repo/economic_freedom_ml/.venv/lib/python3.8/site-packages/cmdstanpy/model.py\u001b\\\u001b[2mmodel.py\u001b[0m\u001b]8;;\u001b\\\u001b[2m:\u001b[0m\u001b]8;id=306103;file:///home/work/Documents/repo/economic_freedom_ml/.venv/lib/python3.8/site-packages/cmdstanpy/model.py#1750\u001b\\\u001b[2m1750\u001b[0m\u001b]8;;\u001b\\\n"
      ]
     },
     "metadata": {},
     "output_type": "display_data"
    },
    {
     "data": {
      "text/html": [
       "<pre style=\"white-space:pre;overflow-x:auto;line-height:normal;font-family:Menlo,'DejaVu Sans Mono',consolas,'Courier New',monospace\"><span style=\"color: #7fbfbf; text-decoration-color: #7fbfbf\">                    </span><span style=\"color: #000080; text-decoration-color: #000080\">INFO    </span> Disabling weekly seasonality. Run prophet with                       <a href=\"file:///home/work/Documents/repo/economic_freedom_ml/.venv/lib/python3.8/site-packages/prophet/forecaster.py\" target=\"_blank\"><span style=\"color: #7f7f7f; text-decoration-color: #7f7f7f\">forecaster.py</span></a><span style=\"color: #7f7f7f; text-decoration-color: #7f7f7f\">:</span><a href=\"file:///home/work/Documents/repo/economic_freedom_ml/.venv/lib/python3.8/site-packages/prophet/forecaster.py#931\" target=\"_blank\"><span style=\"color: #7f7f7f; text-decoration-color: #7f7f7f\">931</span></a>\n",
       "<span style=\"color: #7fbfbf; text-decoration-color: #7fbfbf\">                    </span>         <span style=\"color: #808000; text-decoration-color: #808000\">weekly_seasonality</span>=<span style=\"color: #00ff00; text-decoration-color: #00ff00; font-style: italic\">True</span> to override this.                            <span style=\"color: #7f7f7f; text-decoration-color: #7f7f7f\">                 </span>\n",
       "</pre>\n"
      ],
      "text/plain": [
       "\u001b[2;36m                   \u001b[0m\u001b[2;36m \u001b[0m\u001b[34mINFO    \u001b[0m Disabling weekly seasonality. Run prophet with                       \u001b]8;id=73900;file:///home/work/Documents/repo/economic_freedom_ml/.venv/lib/python3.8/site-packages/prophet/forecaster.py\u001b\\\u001b[2mforecaster.py\u001b[0m\u001b]8;;\u001b\\\u001b[2m:\u001b[0m\u001b]8;id=100744;file:///home/work/Documents/repo/economic_freedom_ml/.venv/lib/python3.8/site-packages/prophet/forecaster.py#931\u001b\\\u001b[2m931\u001b[0m\u001b]8;;\u001b\\\n",
       "\u001b[2;36m                    \u001b[0m         \u001b[33mweekly_seasonality\u001b[0m=\u001b[3;92mTrue\u001b[0m to override this.                            \u001b[2m                 \u001b[0m\n"
      ]
     },
     "metadata": {},
     "output_type": "display_data"
    },
    {
     "data": {
      "text/html": [
       "<pre style=\"white-space:pre;overflow-x:auto;line-height:normal;font-family:Menlo,'DejaVu Sans Mono',consolas,'Courier New',monospace\"><span style=\"color: #7fbfbf; text-decoration-color: #7fbfbf\">                    </span><span style=\"color: #000080; text-decoration-color: #000080\">INFO    </span> Disabling daily seasonality. Run prophet with <span style=\"color: #808000; text-decoration-color: #808000\">daily_seasonality</span>=<span style=\"color: #00ff00; text-decoration-color: #00ff00; font-style: italic\">True</span> <a href=\"file:///home/work/Documents/repo/economic_freedom_ml/.venv/lib/python3.8/site-packages/prophet/forecaster.py\" target=\"_blank\"><span style=\"color: #7f7f7f; text-decoration-color: #7f7f7f\">forecaster.py</span></a><span style=\"color: #7f7f7f; text-decoration-color: #7f7f7f\">:</span><a href=\"file:///home/work/Documents/repo/economic_freedom_ml/.venv/lib/python3.8/site-packages/prophet/forecaster.py#931\" target=\"_blank\"><span style=\"color: #7f7f7f; text-decoration-color: #7f7f7f\">931</span></a>\n",
       "<span style=\"color: #7fbfbf; text-decoration-color: #7fbfbf\">                    </span>         to override this.                                                    <span style=\"color: #7f7f7f; text-decoration-color: #7f7f7f\">                 </span>\n",
       "</pre>\n"
      ],
      "text/plain": [
       "\u001b[2;36m                   \u001b[0m\u001b[2;36m \u001b[0m\u001b[34mINFO    \u001b[0m Disabling daily seasonality. Run prophet with \u001b[33mdaily_seasonality\u001b[0m=\u001b[3;92mTrue\u001b[0m \u001b]8;id=423795;file:///home/work/Documents/repo/economic_freedom_ml/.venv/lib/python3.8/site-packages/prophet/forecaster.py\u001b\\\u001b[2mforecaster.py\u001b[0m\u001b]8;;\u001b\\\u001b[2m:\u001b[0m\u001b]8;id=955471;file:///home/work/Documents/repo/economic_freedom_ml/.venv/lib/python3.8/site-packages/prophet/forecaster.py#931\u001b\\\u001b[2m931\u001b[0m\u001b]8;;\u001b\\\n",
       "\u001b[2;36m                    \u001b[0m         to override this.                                                    \u001b[2m                 \u001b[0m\n"
      ]
     },
     "metadata": {},
     "output_type": "display_data"
    },
    {
     "data": {
      "text/html": [
       "<pre style=\"white-space:pre;overflow-x:auto;line-height:normal;font-family:Menlo,'DejaVu Sans Mono',consolas,'Courier New',monospace\"><span style=\"color: #7fbfbf; text-decoration-color: #7fbfbf\">                    </span><span style=\"color: #000080; text-decoration-color: #000080\">INFO    </span> n_changepoints greater than number of observations. Using <span style=\"color: #008080; text-decoration-color: #008080; font-weight: bold\">18</span>.        <a href=\"file:///home/work/Documents/repo/economic_freedom_ml/.venv/lib/python3.8/site-packages/prophet/forecaster.py\" target=\"_blank\"><span style=\"color: #7f7f7f; text-decoration-color: #7f7f7f\">forecaster.py</span></a><span style=\"color: #7f7f7f; text-decoration-color: #7f7f7f\">:</span><a href=\"file:///home/work/Documents/repo/economic_freedom_ml/.venv/lib/python3.8/site-packages/prophet/forecaster.py#401\" target=\"_blank\"><span style=\"color: #7f7f7f; text-decoration-color: #7f7f7f\">401</span></a>\n",
       "</pre>\n"
      ],
      "text/plain": [
       "\u001b[2;36m                   \u001b[0m\u001b[2;36m \u001b[0m\u001b[34mINFO    \u001b[0m n_changepoints greater than number of observations. Using \u001b[1;36m18\u001b[0m.        \u001b]8;id=185394;file:///home/work/Documents/repo/economic_freedom_ml/.venv/lib/python3.8/site-packages/prophet/forecaster.py\u001b\\\u001b[2mforecaster.py\u001b[0m\u001b]8;;\u001b\\\u001b[2m:\u001b[0m\u001b]8;id=65240;file:///home/work/Documents/repo/economic_freedom_ml/.venv/lib/python3.8/site-packages/prophet/forecaster.py#401\u001b\\\u001b[2m401\u001b[0m\u001b]8;;\u001b\\\n"
      ]
     },
     "metadata": {},
     "output_type": "display_data"
    },
    {
     "data": {
      "text/html": [
       "<pre style=\"white-space:pre;overflow-x:auto;line-height:normal;font-family:Menlo,'DejaVu Sans Mono',consolas,'Courier New',monospace\"><span style=\"color: #7fbfbf; text-decoration-color: #7fbfbf\">                    </span><span style=\"color: #008000; text-decoration-color: #008000\">DEBUG   </span> input tempfile: <span style=\"color: #800080; text-decoration-color: #800080\">/tmp/tmpsaail0o2/</span><span style=\"color: #ff00ff; text-decoration-color: #ff00ff\">nqsx0m4n.json</span>                       <a href=\"file:///home/work/Documents/repo/economic_freedom_ml/.venv/lib/python3.8/site-packages/cmdstanpy/utils/filesystem.py\" target=\"_blank\"><span style=\"color: #7f7f7f; text-decoration-color: #7f7f7f\">filesystem.py</span></a><span style=\"color: #7f7f7f; text-decoration-color: #7f7f7f\">:</span><a href=\"file:///home/work/Documents/repo/economic_freedom_ml/.venv/lib/python3.8/site-packages/cmdstanpy/utils/filesystem.py#123\" target=\"_blank\"><span style=\"color: #7f7f7f; text-decoration-color: #7f7f7f\">123</span></a>\n",
       "</pre>\n"
      ],
      "text/plain": [
       "\u001b[2;36m                   \u001b[0m\u001b[2;36m \u001b[0m\u001b[32mDEBUG   \u001b[0m input tempfile: \u001b[35m/tmp/tmpsaail0o2/\u001b[0m\u001b[95mnqsx0m4n.json\u001b[0m                       \u001b]8;id=999360;file:///home/work/Documents/repo/economic_freedom_ml/.venv/lib/python3.8/site-packages/cmdstanpy/utils/filesystem.py\u001b\\\u001b[2mfilesystem.py\u001b[0m\u001b]8;;\u001b\\\u001b[2m:\u001b[0m\u001b]8;id=758835;file:///home/work/Documents/repo/economic_freedom_ml/.venv/lib/python3.8/site-packages/cmdstanpy/utils/filesystem.py#123\u001b\\\u001b[2m123\u001b[0m\u001b]8;;\u001b\\\n"
      ]
     },
     "metadata": {},
     "output_type": "display_data"
    },
    {
     "data": {
      "text/html": [
       "<pre style=\"white-space:pre;overflow-x:auto;line-height:normal;font-family:Menlo,'DejaVu Sans Mono',consolas,'Courier New',monospace\"><span style=\"color: #7fbfbf; text-decoration-color: #7fbfbf\">                    </span><span style=\"color: #008000; text-decoration-color: #008000\">DEBUG   </span> input tempfile: <span style=\"color: #800080; text-decoration-color: #800080\">/tmp/tmpsaail0o2/</span><span style=\"color: #ff00ff; text-decoration-color: #ff00ff\">c0nteq8s.json</span>                       <a href=\"file:///home/work/Documents/repo/economic_freedom_ml/.venv/lib/python3.8/site-packages/cmdstanpy/utils/filesystem.py\" target=\"_blank\"><span style=\"color: #7f7f7f; text-decoration-color: #7f7f7f\">filesystem.py</span></a><span style=\"color: #7f7f7f; text-decoration-color: #7f7f7f\">:</span><a href=\"file:///home/work/Documents/repo/economic_freedom_ml/.venv/lib/python3.8/site-packages/cmdstanpy/utils/filesystem.py#123\" target=\"_blank\"><span style=\"color: #7f7f7f; text-decoration-color: #7f7f7f\">123</span></a>\n",
       "</pre>\n"
      ],
      "text/plain": [
       "\u001b[2;36m                   \u001b[0m\u001b[2;36m \u001b[0m\u001b[32mDEBUG   \u001b[0m input tempfile: \u001b[35m/tmp/tmpsaail0o2/\u001b[0m\u001b[95mc0nteq8s.json\u001b[0m                       \u001b]8;id=28768;file:///home/work/Documents/repo/economic_freedom_ml/.venv/lib/python3.8/site-packages/cmdstanpy/utils/filesystem.py\u001b\\\u001b[2mfilesystem.py\u001b[0m\u001b]8;;\u001b\\\u001b[2m:\u001b[0m\u001b]8;id=257843;file:///home/work/Documents/repo/economic_freedom_ml/.venv/lib/python3.8/site-packages/cmdstanpy/utils/filesystem.py#123\u001b\\\u001b[2m123\u001b[0m\u001b]8;;\u001b\\\n"
      ]
     },
     "metadata": {},
     "output_type": "display_data"
    },
    {
     "data": {
      "text/html": [
       "<pre style=\"white-space:pre;overflow-x:auto;line-height:normal;font-family:Menlo,'DejaVu Sans Mono',consolas,'Courier New',monospace\"><span style=\"color: #7fbfbf; text-decoration-color: #7fbfbf\">                    </span><span style=\"color: #008000; text-decoration-color: #008000\">DEBUG   </span> idx <span style=\"color: #008080; text-decoration-color: #008080; font-weight: bold\">0</span>                                                                    <a href=\"file:///home/work/Documents/repo/economic_freedom_ml/.venv/lib/python3.8/site-packages/cmdstanpy/model.py\" target=\"_blank\"><span style=\"color: #7f7f7f; text-decoration-color: #7f7f7f\">model.py</span></a><span style=\"color: #7f7f7f; text-decoration-color: #7f7f7f\">:</span><a href=\"file:///home/work/Documents/repo/economic_freedom_ml/.venv/lib/python3.8/site-packages/cmdstanpy/model.py#1677\" target=\"_blank\"><span style=\"color: #7f7f7f; text-decoration-color: #7f7f7f\">1677</span></a>\n",
       "</pre>\n"
      ],
      "text/plain": [
       "\u001b[2;36m                   \u001b[0m\u001b[2;36m \u001b[0m\u001b[32mDEBUG   \u001b[0m idx \u001b[1;36m0\u001b[0m                                                                    \u001b]8;id=966921;file:///home/work/Documents/repo/economic_freedom_ml/.venv/lib/python3.8/site-packages/cmdstanpy/model.py\u001b\\\u001b[2mmodel.py\u001b[0m\u001b]8;;\u001b\\\u001b[2m:\u001b[0m\u001b]8;id=757532;file:///home/work/Documents/repo/economic_freedom_ml/.venv/lib/python3.8/site-packages/cmdstanpy/model.py#1677\u001b\\\u001b[2m1677\u001b[0m\u001b]8;;\u001b\\\n"
      ]
     },
     "metadata": {},
     "output_type": "display_data"
    },
    {
     "data": {
      "text/html": [
       "<pre style=\"white-space:pre;overflow-x:auto;line-height:normal;font-family:Menlo,'DejaVu Sans Mono',consolas,'Courier New',monospace\"><span style=\"color: #7fbfbf; text-decoration-color: #7fbfbf\">                    </span><span style=\"color: #008000; text-decoration-color: #008000\">DEBUG   </span> running CmdStan, num_threads: <span style=\"color: #800080; text-decoration-color: #800080; font-style: italic\">None</span>                                       <a href=\"file:///home/work/Documents/repo/economic_freedom_ml/.venv/lib/python3.8/site-packages/cmdstanpy/model.py\" target=\"_blank\"><span style=\"color: #7f7f7f; text-decoration-color: #7f7f7f\">model.py</span></a><span style=\"color: #7f7f7f; text-decoration-color: #7f7f7f\">:</span><a href=\"file:///home/work/Documents/repo/economic_freedom_ml/.venv/lib/python3.8/site-packages/cmdstanpy/model.py#1678\" target=\"_blank\"><span style=\"color: #7f7f7f; text-decoration-color: #7f7f7f\">1678</span></a>\n",
       "</pre>\n"
      ],
      "text/plain": [
       "\u001b[2;36m                   \u001b[0m\u001b[2;36m \u001b[0m\u001b[32mDEBUG   \u001b[0m running CmdStan, num_threads: \u001b[3;35mNone\u001b[0m                                       \u001b]8;id=379199;file:///home/work/Documents/repo/economic_freedom_ml/.venv/lib/python3.8/site-packages/cmdstanpy/model.py\u001b\\\u001b[2mmodel.py\u001b[0m\u001b]8;;\u001b\\\u001b[2m:\u001b[0m\u001b]8;id=319851;file:///home/work/Documents/repo/economic_freedom_ml/.venv/lib/python3.8/site-packages/cmdstanpy/model.py#1678\u001b\\\u001b[2m1678\u001b[0m\u001b]8;;\u001b\\\n"
      ]
     },
     "metadata": {},
     "output_type": "display_data"
    },
    {
     "data": {
      "text/html": [
       "<pre style=\"white-space:pre;overflow-x:auto;line-height:normal;font-family:Menlo,'DejaVu Sans Mono',consolas,'Courier New',monospace\"><span style=\"color: #7fbfbf; text-decoration-color: #7fbfbf\">                    </span><span style=\"color: #008000; text-decoration-color: #008000\">DEBUG   </span> CmdStan args:                                                            <a href=\"file:///home/work/Documents/repo/economic_freedom_ml/.venv/lib/python3.8/site-packages/cmdstanpy/model.py\" target=\"_blank\"><span style=\"color: #7f7f7f; text-decoration-color: #7f7f7f\">model.py</span></a><span style=\"color: #7f7f7f; text-decoration-color: #7f7f7f\">:</span><a href=\"file:///home/work/Documents/repo/economic_freedom_ml/.venv/lib/python3.8/site-packages/cmdstanpy/model.py#1690\" target=\"_blank\"><span style=\"color: #7f7f7f; text-decoration-color: #7f7f7f\">1690</span></a>\n",
       "<span style=\"color: #7fbfbf; text-decoration-color: #7fbfbf\">                    </span>         <span style=\"font-weight: bold\">[</span><span style=\"color: #008000; text-decoration-color: #008000\">'/home/work/Documents/repo/economic_freedom_ml/.venv/lib/python3.8/site</span> <span style=\"color: #7f7f7f; text-decoration-color: #7f7f7f\">             </span>\n",
       "<span style=\"color: #7fbfbf; text-decoration-color: #7fbfbf\">                    </span>         <span style=\"color: #008000; text-decoration-color: #008000\">-packages/prophet/stan_model/prophet_model.bin'</span>, <span style=\"color: #008000; text-decoration-color: #008000\">'random'</span>, <span style=\"color: #008000; text-decoration-color: #008000\">'seed=30314'</span>, <span style=\"color: #7f7f7f; text-decoration-color: #7f7f7f\">             </span>\n",
       "<span style=\"color: #7fbfbf; text-decoration-color: #7fbfbf\">                    </span>         <span style=\"color: #008000; text-decoration-color: #008000\">'data'</span>, <span style=\"color: #008000; text-decoration-color: #008000\">'file=/tmp/tmpsaail0o2/nqsx0m4n.json'</span>,                           <span style=\"color: #7f7f7f; text-decoration-color: #7f7f7f\">             </span>\n",
       "<span style=\"color: #7fbfbf; text-decoration-color: #7fbfbf\">                    </span>         <span style=\"color: #008000; text-decoration-color: #008000\">'init=/tmp/tmpsaail0o2/c0nteq8s.json'</span>, <span style=\"color: #008000; text-decoration-color: #008000\">'output'</span>,                         <span style=\"color: #7f7f7f; text-decoration-color: #7f7f7f\">             </span>\n",
       "<span style=\"color: #7fbfbf; text-decoration-color: #7fbfbf\">                    </span>         <span style=\"color: #008000; text-decoration-color: #008000\">'file=/tmp/tmpsaail0o2/prophet_modelq1la44w9/prophet_model-2023052018370</span> <span style=\"color: #7f7f7f; text-decoration-color: #7f7f7f\">             </span>\n",
       "<span style=\"color: #7fbfbf; text-decoration-color: #7fbfbf\">                    </span>         <span style=\"color: #008000; text-decoration-color: #008000\">4.csv'</span>, <span style=\"color: #008000; text-decoration-color: #008000\">'method=optimize'</span>, <span style=\"color: #008000; text-decoration-color: #008000\">'algorithm=newton'</span>, <span style=\"color: #008000; text-decoration-color: #008000\">'iter=10000'</span><span style=\"font-weight: bold\">]</span>             <span style=\"color: #7f7f7f; text-decoration-color: #7f7f7f\">             </span>\n",
       "</pre>\n"
      ],
      "text/plain": [
       "\u001b[2;36m                   \u001b[0m\u001b[2;36m \u001b[0m\u001b[32mDEBUG   \u001b[0m CmdStan args:                                                            \u001b]8;id=524531;file:///home/work/Documents/repo/economic_freedom_ml/.venv/lib/python3.8/site-packages/cmdstanpy/model.py\u001b\\\u001b[2mmodel.py\u001b[0m\u001b]8;;\u001b\\\u001b[2m:\u001b[0m\u001b]8;id=94770;file:///home/work/Documents/repo/economic_freedom_ml/.venv/lib/python3.8/site-packages/cmdstanpy/model.py#1690\u001b\\\u001b[2m1690\u001b[0m\u001b]8;;\u001b\\\n",
       "\u001b[2;36m                    \u001b[0m         \u001b[1m[\u001b[0m\u001b[32m'/home/work/Documents/repo/economic_freedom_ml/.venv/lib/python3.8/site\u001b[0m \u001b[2m             \u001b[0m\n",
       "\u001b[2;36m                    \u001b[0m         \u001b[32m-packages/prophet/stan_model/prophet_model.bin'\u001b[0m, \u001b[32m'random'\u001b[0m, \u001b[32m'\u001b[0m\u001b[32mseed\u001b[0m\u001b[32m=\u001b[0m\u001b[32m30314\u001b[0m\u001b[32m'\u001b[0m, \u001b[2m             \u001b[0m\n",
       "\u001b[2;36m                    \u001b[0m         \u001b[32m'data'\u001b[0m, \u001b[32m'\u001b[0m\u001b[32mfile\u001b[0m\u001b[32m=/tmp/tmpsaail0o2/nqsx0m4n.json'\u001b[0m,                           \u001b[2m             \u001b[0m\n",
       "\u001b[2;36m                    \u001b[0m         \u001b[32m'\u001b[0m\u001b[32minit\u001b[0m\u001b[32m=/tmp/tmpsaail0o2/c0nteq8s.json'\u001b[0m, \u001b[32m'output'\u001b[0m,                         \u001b[2m             \u001b[0m\n",
       "\u001b[2;36m                    \u001b[0m         \u001b[32m'\u001b[0m\u001b[32mfile\u001b[0m\u001b[32m=/tmp/tmpsaail0o2/prophet_modelq1la44w9/prophet_model-2023052018370\u001b[0m \u001b[2m             \u001b[0m\n",
       "\u001b[2;36m                    \u001b[0m         \u001b[32m4.csv'\u001b[0m, \u001b[32m'\u001b[0m\u001b[32mmethod\u001b[0m\u001b[32m=\u001b[0m\u001b[32moptimize\u001b[0m\u001b[32m'\u001b[0m, \u001b[32m'\u001b[0m\u001b[32malgorithm\u001b[0m\u001b[32m=\u001b[0m\u001b[32mnewton\u001b[0m\u001b[32m'\u001b[0m, \u001b[32m'\u001b[0m\u001b[32miter\u001b[0m\u001b[32m=\u001b[0m\u001b[32m10000\u001b[0m\u001b[32m'\u001b[0m\u001b[1m]\u001b[0m             \u001b[2m             \u001b[0m\n"
      ]
     },
     "metadata": {},
     "output_type": "display_data"
    },
    {
     "name": "stderr",
     "output_type": "stream",
     "text": [
      "18:37:05 - cmdstanpy - INFO - Chain [1] start processing\n"
     ]
    },
    {
     "data": {
      "text/html": [
       "<pre style=\"white-space:pre;overflow-x:auto;line-height:normal;font-family:Menlo,'DejaVu Sans Mono',consolas,'Courier New',monospace\"><span style=\"color: #7fbfbf; text-decoration-color: #7fbfbf\">[05/20/23 18:37:05] </span><span style=\"color: #000080; text-decoration-color: #000080\">INFO    </span> Chain <span style=\"font-weight: bold\">[</span><span style=\"color: #008080; text-decoration-color: #008080; font-weight: bold\">1</span><span style=\"font-weight: bold\">]</span> start processing                                               <a href=\"file:///home/work/Documents/repo/economic_freedom_ml/.venv/lib/python3.8/site-packages/cmdstanpy/model.py\" target=\"_blank\"><span style=\"color: #7f7f7f; text-decoration-color: #7f7f7f\">model.py</span></a><span style=\"color: #7f7f7f; text-decoration-color: #7f7f7f\">:</span><a href=\"file:///home/work/Documents/repo/economic_freedom_ml/.venv/lib/python3.8/site-packages/cmdstanpy/model.py#1693\" target=\"_blank\"><span style=\"color: #7f7f7f; text-decoration-color: #7f7f7f\">1693</span></a>\n",
       "</pre>\n"
      ],
      "text/plain": [
       "\u001b[2;36m[05/20/23 18:37:05]\u001b[0m\u001b[2;36m \u001b[0m\u001b[34mINFO    \u001b[0m Chain \u001b[1m[\u001b[0m\u001b[1;36m1\u001b[0m\u001b[1m]\u001b[0m start processing                                               \u001b]8;id=284752;file:///home/work/Documents/repo/economic_freedom_ml/.venv/lib/python3.8/site-packages/cmdstanpy/model.py\u001b\\\u001b[2mmodel.py\u001b[0m\u001b]8;;\u001b\\\u001b[2m:\u001b[0m\u001b]8;id=248326;file:///home/work/Documents/repo/economic_freedom_ml/.venv/lib/python3.8/site-packages/cmdstanpy/model.py#1693\u001b\\\u001b[2m1693\u001b[0m\u001b]8;;\u001b\\\n"
      ]
     },
     "metadata": {},
     "output_type": "display_data"
    },
    {
     "name": "stderr",
     "output_type": "stream",
     "text": [
      "18:37:05 - cmdstanpy - INFO - Chain [1] done processing\n"
     ]
    },
    {
     "data": {
      "text/html": [
       "<pre style=\"white-space:pre;overflow-x:auto;line-height:normal;font-family:Menlo,'DejaVu Sans Mono',consolas,'Courier New',monospace\"><span style=\"color: #7fbfbf; text-decoration-color: #7fbfbf\">                    </span><span style=\"color: #000080; text-decoration-color: #000080\">INFO    </span> Chain <span style=\"font-weight: bold\">[</span><span style=\"color: #008080; text-decoration-color: #008080; font-weight: bold\">1</span><span style=\"font-weight: bold\">]</span> done processing                                                <a href=\"file:///home/work/Documents/repo/economic_freedom_ml/.venv/lib/python3.8/site-packages/cmdstanpy/model.py\" target=\"_blank\"><span style=\"color: #7f7f7f; text-decoration-color: #7f7f7f\">model.py</span></a><span style=\"color: #7f7f7f; text-decoration-color: #7f7f7f\">:</span><a href=\"file:///home/work/Documents/repo/economic_freedom_ml/.venv/lib/python3.8/site-packages/cmdstanpy/model.py#1750\" target=\"_blank\"><span style=\"color: #7f7f7f; text-decoration-color: #7f7f7f\">1750</span></a>\n",
       "</pre>\n"
      ],
      "text/plain": [
       "\u001b[2;36m                   \u001b[0m\u001b[2;36m \u001b[0m\u001b[34mINFO    \u001b[0m Chain \u001b[1m[\u001b[0m\u001b[1;36m1\u001b[0m\u001b[1m]\u001b[0m done processing                                                \u001b]8;id=860196;file:///home/work/Documents/repo/economic_freedom_ml/.venv/lib/python3.8/site-packages/cmdstanpy/model.py\u001b\\\u001b[2mmodel.py\u001b[0m\u001b]8;;\u001b\\\u001b[2m:\u001b[0m\u001b]8;id=745086;file:///home/work/Documents/repo/economic_freedom_ml/.venv/lib/python3.8/site-packages/cmdstanpy/model.py#1750\u001b\\\u001b[2m1750\u001b[0m\u001b]8;;\u001b\\\n"
      ]
     },
     "metadata": {},
     "output_type": "display_data"
    },
    {
     "data": {
      "text/html": [
       "<pre style=\"white-space:pre;overflow-x:auto;line-height:normal;font-family:Menlo,'DejaVu Sans Mono',consolas,'Courier New',monospace\"><span style=\"color: #7fbfbf; text-decoration-color: #7fbfbf\">                    </span><span style=\"color: #000080; text-decoration-color: #000080\">INFO    </span> Disabling weekly seasonality. Run prophet with                       <a href=\"file:///home/work/Documents/repo/economic_freedom_ml/.venv/lib/python3.8/site-packages/prophet/forecaster.py\" target=\"_blank\"><span style=\"color: #7f7f7f; text-decoration-color: #7f7f7f\">forecaster.py</span></a><span style=\"color: #7f7f7f; text-decoration-color: #7f7f7f\">:</span><a href=\"file:///home/work/Documents/repo/economic_freedom_ml/.venv/lib/python3.8/site-packages/prophet/forecaster.py#931\" target=\"_blank\"><span style=\"color: #7f7f7f; text-decoration-color: #7f7f7f\">931</span></a>\n",
       "<span style=\"color: #7fbfbf; text-decoration-color: #7fbfbf\">                    </span>         <span style=\"color: #808000; text-decoration-color: #808000\">weekly_seasonality</span>=<span style=\"color: #00ff00; text-decoration-color: #00ff00; font-style: italic\">True</span> to override this.                            <span style=\"color: #7f7f7f; text-decoration-color: #7f7f7f\">                 </span>\n",
       "</pre>\n"
      ],
      "text/plain": [
       "\u001b[2;36m                   \u001b[0m\u001b[2;36m \u001b[0m\u001b[34mINFO    \u001b[0m Disabling weekly seasonality. Run prophet with                       \u001b]8;id=798126;file:///home/work/Documents/repo/economic_freedom_ml/.venv/lib/python3.8/site-packages/prophet/forecaster.py\u001b\\\u001b[2mforecaster.py\u001b[0m\u001b]8;;\u001b\\\u001b[2m:\u001b[0m\u001b]8;id=417507;file:///home/work/Documents/repo/economic_freedom_ml/.venv/lib/python3.8/site-packages/prophet/forecaster.py#931\u001b\\\u001b[2m931\u001b[0m\u001b]8;;\u001b\\\n",
       "\u001b[2;36m                    \u001b[0m         \u001b[33mweekly_seasonality\u001b[0m=\u001b[3;92mTrue\u001b[0m to override this.                            \u001b[2m                 \u001b[0m\n"
      ]
     },
     "metadata": {},
     "output_type": "display_data"
    },
    {
     "data": {
      "text/html": [
       "<pre style=\"white-space:pre;overflow-x:auto;line-height:normal;font-family:Menlo,'DejaVu Sans Mono',consolas,'Courier New',monospace\"><span style=\"color: #7fbfbf; text-decoration-color: #7fbfbf\">                    </span><span style=\"color: #000080; text-decoration-color: #000080\">INFO    </span> Disabling daily seasonality. Run prophet with <span style=\"color: #808000; text-decoration-color: #808000\">daily_seasonality</span>=<span style=\"color: #00ff00; text-decoration-color: #00ff00; font-style: italic\">True</span> <a href=\"file:///home/work/Documents/repo/economic_freedom_ml/.venv/lib/python3.8/site-packages/prophet/forecaster.py\" target=\"_blank\"><span style=\"color: #7f7f7f; text-decoration-color: #7f7f7f\">forecaster.py</span></a><span style=\"color: #7f7f7f; text-decoration-color: #7f7f7f\">:</span><a href=\"file:///home/work/Documents/repo/economic_freedom_ml/.venv/lib/python3.8/site-packages/prophet/forecaster.py#931\" target=\"_blank\"><span style=\"color: #7f7f7f; text-decoration-color: #7f7f7f\">931</span></a>\n",
       "<span style=\"color: #7fbfbf; text-decoration-color: #7fbfbf\">                    </span>         to override this.                                                    <span style=\"color: #7f7f7f; text-decoration-color: #7f7f7f\">                 </span>\n",
       "</pre>\n"
      ],
      "text/plain": [
       "\u001b[2;36m                   \u001b[0m\u001b[2;36m \u001b[0m\u001b[34mINFO    \u001b[0m Disabling daily seasonality. Run prophet with \u001b[33mdaily_seasonality\u001b[0m=\u001b[3;92mTrue\u001b[0m \u001b]8;id=99804;file:///home/work/Documents/repo/economic_freedom_ml/.venv/lib/python3.8/site-packages/prophet/forecaster.py\u001b\\\u001b[2mforecaster.py\u001b[0m\u001b]8;;\u001b\\\u001b[2m:\u001b[0m\u001b]8;id=595785;file:///home/work/Documents/repo/economic_freedom_ml/.venv/lib/python3.8/site-packages/prophet/forecaster.py#931\u001b\\\u001b[2m931\u001b[0m\u001b]8;;\u001b\\\n",
       "\u001b[2;36m                    \u001b[0m         to override this.                                                    \u001b[2m                 \u001b[0m\n"
      ]
     },
     "metadata": {},
     "output_type": "display_data"
    },
    {
     "data": {
      "text/html": [
       "<pre style=\"white-space:pre;overflow-x:auto;line-height:normal;font-family:Menlo,'DejaVu Sans Mono',consolas,'Courier New',monospace\"><span style=\"color: #7fbfbf; text-decoration-color: #7fbfbf\">                    </span><span style=\"color: #000080; text-decoration-color: #000080\">INFO    </span> n_changepoints greater than number of observations. Using <span style=\"color: #008080; text-decoration-color: #008080; font-weight: bold\">18</span>.        <a href=\"file:///home/work/Documents/repo/economic_freedom_ml/.venv/lib/python3.8/site-packages/prophet/forecaster.py\" target=\"_blank\"><span style=\"color: #7f7f7f; text-decoration-color: #7f7f7f\">forecaster.py</span></a><span style=\"color: #7f7f7f; text-decoration-color: #7f7f7f\">:</span><a href=\"file:///home/work/Documents/repo/economic_freedom_ml/.venv/lib/python3.8/site-packages/prophet/forecaster.py#401\" target=\"_blank\"><span style=\"color: #7f7f7f; text-decoration-color: #7f7f7f\">401</span></a>\n",
       "</pre>\n"
      ],
      "text/plain": [
       "\u001b[2;36m                   \u001b[0m\u001b[2;36m \u001b[0m\u001b[34mINFO    \u001b[0m n_changepoints greater than number of observations. Using \u001b[1;36m18\u001b[0m.        \u001b]8;id=116741;file:///home/work/Documents/repo/economic_freedom_ml/.venv/lib/python3.8/site-packages/prophet/forecaster.py\u001b\\\u001b[2mforecaster.py\u001b[0m\u001b]8;;\u001b\\\u001b[2m:\u001b[0m\u001b]8;id=886261;file:///home/work/Documents/repo/economic_freedom_ml/.venv/lib/python3.8/site-packages/prophet/forecaster.py#401\u001b\\\u001b[2m401\u001b[0m\u001b]8;;\u001b\\\n"
      ]
     },
     "metadata": {},
     "output_type": "display_data"
    },
    {
     "data": {
      "text/html": [
       "<pre style=\"white-space:pre;overflow-x:auto;line-height:normal;font-family:Menlo,'DejaVu Sans Mono',consolas,'Courier New',monospace\"><span style=\"color: #7fbfbf; text-decoration-color: #7fbfbf\">                    </span><span style=\"color: #008000; text-decoration-color: #008000\">DEBUG   </span> input tempfile: <span style=\"color: #800080; text-decoration-color: #800080\">/tmp/tmpsaail0o2/</span><span style=\"color: #ff00ff; text-decoration-color: #ff00ff\">vpluvdoz.json</span>                       <a href=\"file:///home/work/Documents/repo/economic_freedom_ml/.venv/lib/python3.8/site-packages/cmdstanpy/utils/filesystem.py\" target=\"_blank\"><span style=\"color: #7f7f7f; text-decoration-color: #7f7f7f\">filesystem.py</span></a><span style=\"color: #7f7f7f; text-decoration-color: #7f7f7f\">:</span><a href=\"file:///home/work/Documents/repo/economic_freedom_ml/.venv/lib/python3.8/site-packages/cmdstanpy/utils/filesystem.py#123\" target=\"_blank\"><span style=\"color: #7f7f7f; text-decoration-color: #7f7f7f\">123</span></a>\n",
       "</pre>\n"
      ],
      "text/plain": [
       "\u001b[2;36m                   \u001b[0m\u001b[2;36m \u001b[0m\u001b[32mDEBUG   \u001b[0m input tempfile: \u001b[35m/tmp/tmpsaail0o2/\u001b[0m\u001b[95mvpluvdoz.json\u001b[0m                       \u001b]8;id=531995;file:///home/work/Documents/repo/economic_freedom_ml/.venv/lib/python3.8/site-packages/cmdstanpy/utils/filesystem.py\u001b\\\u001b[2mfilesystem.py\u001b[0m\u001b]8;;\u001b\\\u001b[2m:\u001b[0m\u001b]8;id=192383;file:///home/work/Documents/repo/economic_freedom_ml/.venv/lib/python3.8/site-packages/cmdstanpy/utils/filesystem.py#123\u001b\\\u001b[2m123\u001b[0m\u001b]8;;\u001b\\\n"
      ]
     },
     "metadata": {},
     "output_type": "display_data"
    },
    {
     "data": {
      "text/html": [
       "<pre style=\"white-space:pre;overflow-x:auto;line-height:normal;font-family:Menlo,'DejaVu Sans Mono',consolas,'Courier New',monospace\"><span style=\"color: #7fbfbf; text-decoration-color: #7fbfbf\">                    </span><span style=\"color: #008000; text-decoration-color: #008000\">DEBUG   </span> input tempfile: <span style=\"color: #800080; text-decoration-color: #800080\">/tmp/tmpsaail0o2/</span><span style=\"color: #ff00ff; text-decoration-color: #ff00ff\">_n7qwwvk.json</span>                       <a href=\"file:///home/work/Documents/repo/economic_freedom_ml/.venv/lib/python3.8/site-packages/cmdstanpy/utils/filesystem.py\" target=\"_blank\"><span style=\"color: #7f7f7f; text-decoration-color: #7f7f7f\">filesystem.py</span></a><span style=\"color: #7f7f7f; text-decoration-color: #7f7f7f\">:</span><a href=\"file:///home/work/Documents/repo/economic_freedom_ml/.venv/lib/python3.8/site-packages/cmdstanpy/utils/filesystem.py#123\" target=\"_blank\"><span style=\"color: #7f7f7f; text-decoration-color: #7f7f7f\">123</span></a>\n",
       "</pre>\n"
      ],
      "text/plain": [
       "\u001b[2;36m                   \u001b[0m\u001b[2;36m \u001b[0m\u001b[32mDEBUG   \u001b[0m input tempfile: \u001b[35m/tmp/tmpsaail0o2/\u001b[0m\u001b[95m_n7qwwvk.json\u001b[0m                       \u001b]8;id=165887;file:///home/work/Documents/repo/economic_freedom_ml/.venv/lib/python3.8/site-packages/cmdstanpy/utils/filesystem.py\u001b\\\u001b[2mfilesystem.py\u001b[0m\u001b]8;;\u001b\\\u001b[2m:\u001b[0m\u001b]8;id=518483;file:///home/work/Documents/repo/economic_freedom_ml/.venv/lib/python3.8/site-packages/cmdstanpy/utils/filesystem.py#123\u001b\\\u001b[2m123\u001b[0m\u001b]8;;\u001b\\\n"
      ]
     },
     "metadata": {},
     "output_type": "display_data"
    },
    {
     "data": {
      "text/html": [
       "<pre style=\"white-space:pre;overflow-x:auto;line-height:normal;font-family:Menlo,'DejaVu Sans Mono',consolas,'Courier New',monospace\"><span style=\"color: #7fbfbf; text-decoration-color: #7fbfbf\">                    </span><span style=\"color: #008000; text-decoration-color: #008000\">DEBUG   </span> idx <span style=\"color: #008080; text-decoration-color: #008080; font-weight: bold\">0</span>                                                                    <a href=\"file:///home/work/Documents/repo/economic_freedom_ml/.venv/lib/python3.8/site-packages/cmdstanpy/model.py\" target=\"_blank\"><span style=\"color: #7f7f7f; text-decoration-color: #7f7f7f\">model.py</span></a><span style=\"color: #7f7f7f; text-decoration-color: #7f7f7f\">:</span><a href=\"file:///home/work/Documents/repo/economic_freedom_ml/.venv/lib/python3.8/site-packages/cmdstanpy/model.py#1677\" target=\"_blank\"><span style=\"color: #7f7f7f; text-decoration-color: #7f7f7f\">1677</span></a>\n",
       "</pre>\n"
      ],
      "text/plain": [
       "\u001b[2;36m                   \u001b[0m\u001b[2;36m \u001b[0m\u001b[32mDEBUG   \u001b[0m idx \u001b[1;36m0\u001b[0m                                                                    \u001b]8;id=289906;file:///home/work/Documents/repo/economic_freedom_ml/.venv/lib/python3.8/site-packages/cmdstanpy/model.py\u001b\\\u001b[2mmodel.py\u001b[0m\u001b]8;;\u001b\\\u001b[2m:\u001b[0m\u001b]8;id=385395;file:///home/work/Documents/repo/economic_freedom_ml/.venv/lib/python3.8/site-packages/cmdstanpy/model.py#1677\u001b\\\u001b[2m1677\u001b[0m\u001b]8;;\u001b\\\n"
      ]
     },
     "metadata": {},
     "output_type": "display_data"
    },
    {
     "data": {
      "text/html": [
       "<pre style=\"white-space:pre;overflow-x:auto;line-height:normal;font-family:Menlo,'DejaVu Sans Mono',consolas,'Courier New',monospace\"><span style=\"color: #7fbfbf; text-decoration-color: #7fbfbf\">                    </span><span style=\"color: #008000; text-decoration-color: #008000\">DEBUG   </span> running CmdStan, num_threads: <span style=\"color: #800080; text-decoration-color: #800080; font-style: italic\">None</span>                                       <a href=\"file:///home/work/Documents/repo/economic_freedom_ml/.venv/lib/python3.8/site-packages/cmdstanpy/model.py\" target=\"_blank\"><span style=\"color: #7f7f7f; text-decoration-color: #7f7f7f\">model.py</span></a><span style=\"color: #7f7f7f; text-decoration-color: #7f7f7f\">:</span><a href=\"file:///home/work/Documents/repo/economic_freedom_ml/.venv/lib/python3.8/site-packages/cmdstanpy/model.py#1678\" target=\"_blank\"><span style=\"color: #7f7f7f; text-decoration-color: #7f7f7f\">1678</span></a>\n",
       "</pre>\n"
      ],
      "text/plain": [
       "\u001b[2;36m                   \u001b[0m\u001b[2;36m \u001b[0m\u001b[32mDEBUG   \u001b[0m running CmdStan, num_threads: \u001b[3;35mNone\u001b[0m                                       \u001b]8;id=942978;file:///home/work/Documents/repo/economic_freedom_ml/.venv/lib/python3.8/site-packages/cmdstanpy/model.py\u001b\\\u001b[2mmodel.py\u001b[0m\u001b]8;;\u001b\\\u001b[2m:\u001b[0m\u001b]8;id=474126;file:///home/work/Documents/repo/economic_freedom_ml/.venv/lib/python3.8/site-packages/cmdstanpy/model.py#1678\u001b\\\u001b[2m1678\u001b[0m\u001b]8;;\u001b\\\n"
      ]
     },
     "metadata": {},
     "output_type": "display_data"
    },
    {
     "data": {
      "text/html": [
       "<pre style=\"white-space:pre;overflow-x:auto;line-height:normal;font-family:Menlo,'DejaVu Sans Mono',consolas,'Courier New',monospace\"><span style=\"color: #7fbfbf; text-decoration-color: #7fbfbf\">                    </span><span style=\"color: #008000; text-decoration-color: #008000\">DEBUG   </span> CmdStan args:                                                            <a href=\"file:///home/work/Documents/repo/economic_freedom_ml/.venv/lib/python3.8/site-packages/cmdstanpy/model.py\" target=\"_blank\"><span style=\"color: #7f7f7f; text-decoration-color: #7f7f7f\">model.py</span></a><span style=\"color: #7f7f7f; text-decoration-color: #7f7f7f\">:</span><a href=\"file:///home/work/Documents/repo/economic_freedom_ml/.venv/lib/python3.8/site-packages/cmdstanpy/model.py#1690\" target=\"_blank\"><span style=\"color: #7f7f7f; text-decoration-color: #7f7f7f\">1690</span></a>\n",
       "<span style=\"color: #7fbfbf; text-decoration-color: #7fbfbf\">                    </span>         <span style=\"font-weight: bold\">[</span><span style=\"color: #008000; text-decoration-color: #008000\">'/home/work/Documents/repo/economic_freedom_ml/.venv/lib/python3.8/site</span> <span style=\"color: #7f7f7f; text-decoration-color: #7f7f7f\">             </span>\n",
       "<span style=\"color: #7fbfbf; text-decoration-color: #7fbfbf\">                    </span>         <span style=\"color: #008000; text-decoration-color: #008000\">-packages/prophet/stan_model/prophet_model.bin'</span>, <span style=\"color: #008000; text-decoration-color: #008000\">'random'</span>, <span style=\"color: #008000; text-decoration-color: #008000\">'seed=34654'</span>, <span style=\"color: #7f7f7f; text-decoration-color: #7f7f7f\">             </span>\n",
       "<span style=\"color: #7fbfbf; text-decoration-color: #7fbfbf\">                    </span>         <span style=\"color: #008000; text-decoration-color: #008000\">'data'</span>, <span style=\"color: #008000; text-decoration-color: #008000\">'file=/tmp/tmpsaail0o2/vpluvdoz.json'</span>,                           <span style=\"color: #7f7f7f; text-decoration-color: #7f7f7f\">             </span>\n",
       "<span style=\"color: #7fbfbf; text-decoration-color: #7fbfbf\">                    </span>         <span style=\"color: #008000; text-decoration-color: #008000\">'init=/tmp/tmpsaail0o2/_n7qwwvk.json'</span>, <span style=\"color: #008000; text-decoration-color: #008000\">'output'</span>,                         <span style=\"color: #7f7f7f; text-decoration-color: #7f7f7f\">             </span>\n",
       "<span style=\"color: #7fbfbf; text-decoration-color: #7fbfbf\">                    </span>         <span style=\"color: #008000; text-decoration-color: #008000\">'file=/tmp/tmpsaail0o2/prophet_modelvqcy7wzl/prophet_model-2023052018370</span> <span style=\"color: #7f7f7f; text-decoration-color: #7f7f7f\">             </span>\n",
       "<span style=\"color: #7fbfbf; text-decoration-color: #7fbfbf\">                    </span>         <span style=\"color: #008000; text-decoration-color: #008000\">5.csv'</span>, <span style=\"color: #008000; text-decoration-color: #008000\">'method=optimize'</span>, <span style=\"color: #008000; text-decoration-color: #008000\">'algorithm=newton'</span>, <span style=\"color: #008000; text-decoration-color: #008000\">'iter=10000'</span><span style=\"font-weight: bold\">]</span>             <span style=\"color: #7f7f7f; text-decoration-color: #7f7f7f\">             </span>\n",
       "</pre>\n"
      ],
      "text/plain": [
       "\u001b[2;36m                   \u001b[0m\u001b[2;36m \u001b[0m\u001b[32mDEBUG   \u001b[0m CmdStan args:                                                            \u001b]8;id=91179;file:///home/work/Documents/repo/economic_freedom_ml/.venv/lib/python3.8/site-packages/cmdstanpy/model.py\u001b\\\u001b[2mmodel.py\u001b[0m\u001b]8;;\u001b\\\u001b[2m:\u001b[0m\u001b]8;id=145030;file:///home/work/Documents/repo/economic_freedom_ml/.venv/lib/python3.8/site-packages/cmdstanpy/model.py#1690\u001b\\\u001b[2m1690\u001b[0m\u001b]8;;\u001b\\\n",
       "\u001b[2;36m                    \u001b[0m         \u001b[1m[\u001b[0m\u001b[32m'/home/work/Documents/repo/economic_freedom_ml/.venv/lib/python3.8/site\u001b[0m \u001b[2m             \u001b[0m\n",
       "\u001b[2;36m                    \u001b[0m         \u001b[32m-packages/prophet/stan_model/prophet_model.bin'\u001b[0m, \u001b[32m'random'\u001b[0m, \u001b[32m'\u001b[0m\u001b[32mseed\u001b[0m\u001b[32m=\u001b[0m\u001b[32m34654\u001b[0m\u001b[32m'\u001b[0m, \u001b[2m             \u001b[0m\n",
       "\u001b[2;36m                    \u001b[0m         \u001b[32m'data'\u001b[0m, \u001b[32m'\u001b[0m\u001b[32mfile\u001b[0m\u001b[32m=/tmp/tmpsaail0o2/vpluvdoz.json'\u001b[0m,                           \u001b[2m             \u001b[0m\n",
       "\u001b[2;36m                    \u001b[0m         \u001b[32m'\u001b[0m\u001b[32minit\u001b[0m\u001b[32m=/tmp/tmpsaail0o2/_n7qwwvk.json'\u001b[0m, \u001b[32m'output'\u001b[0m,                         \u001b[2m             \u001b[0m\n",
       "\u001b[2;36m                    \u001b[0m         \u001b[32m'\u001b[0m\u001b[32mfile\u001b[0m\u001b[32m=/tmp/tmpsaail0o2/prophet_modelvqcy7wzl/prophet_model-2023052018370\u001b[0m \u001b[2m             \u001b[0m\n",
       "\u001b[2;36m                    \u001b[0m         \u001b[32m5.csv'\u001b[0m, \u001b[32m'\u001b[0m\u001b[32mmethod\u001b[0m\u001b[32m=\u001b[0m\u001b[32moptimize\u001b[0m\u001b[32m'\u001b[0m, \u001b[32m'\u001b[0m\u001b[32malgorithm\u001b[0m\u001b[32m=\u001b[0m\u001b[32mnewton\u001b[0m\u001b[32m'\u001b[0m, \u001b[32m'\u001b[0m\u001b[32miter\u001b[0m\u001b[32m=\u001b[0m\u001b[32m10000\u001b[0m\u001b[32m'\u001b[0m\u001b[1m]\u001b[0m             \u001b[2m             \u001b[0m\n"
      ]
     },
     "metadata": {},
     "output_type": "display_data"
    },
    {
     "name": "stderr",
     "output_type": "stream",
     "text": [
      "18:37:05 - cmdstanpy - INFO - Chain [1] start processing\n"
     ]
    },
    {
     "data": {
      "text/html": [
       "<pre style=\"white-space:pre;overflow-x:auto;line-height:normal;font-family:Menlo,'DejaVu Sans Mono',consolas,'Courier New',monospace\"><span style=\"color: #7fbfbf; text-decoration-color: #7fbfbf\">                    </span><span style=\"color: #000080; text-decoration-color: #000080\">INFO    </span> Chain <span style=\"font-weight: bold\">[</span><span style=\"color: #008080; text-decoration-color: #008080; font-weight: bold\">1</span><span style=\"font-weight: bold\">]</span> start processing                                               <a href=\"file:///home/work/Documents/repo/economic_freedom_ml/.venv/lib/python3.8/site-packages/cmdstanpy/model.py\" target=\"_blank\"><span style=\"color: #7f7f7f; text-decoration-color: #7f7f7f\">model.py</span></a><span style=\"color: #7f7f7f; text-decoration-color: #7f7f7f\">:</span><a href=\"file:///home/work/Documents/repo/economic_freedom_ml/.venv/lib/python3.8/site-packages/cmdstanpy/model.py#1693\" target=\"_blank\"><span style=\"color: #7f7f7f; text-decoration-color: #7f7f7f\">1693</span></a>\n",
       "</pre>\n"
      ],
      "text/plain": [
       "\u001b[2;36m                   \u001b[0m\u001b[2;36m \u001b[0m\u001b[34mINFO    \u001b[0m Chain \u001b[1m[\u001b[0m\u001b[1;36m1\u001b[0m\u001b[1m]\u001b[0m start processing                                               \u001b]8;id=218280;file:///home/work/Documents/repo/economic_freedom_ml/.venv/lib/python3.8/site-packages/cmdstanpy/model.py\u001b\\\u001b[2mmodel.py\u001b[0m\u001b]8;;\u001b\\\u001b[2m:\u001b[0m\u001b]8;id=797534;file:///home/work/Documents/repo/economic_freedom_ml/.venv/lib/python3.8/site-packages/cmdstanpy/model.py#1693\u001b\\\u001b[2m1693\u001b[0m\u001b]8;;\u001b\\\n"
      ]
     },
     "metadata": {},
     "output_type": "display_data"
    },
    {
     "name": "stderr",
     "output_type": "stream",
     "text": [
      "18:37:05 - cmdstanpy - INFO - Chain [1] done processing\n"
     ]
    },
    {
     "data": {
      "text/html": [
       "<pre style=\"white-space:pre;overflow-x:auto;line-height:normal;font-family:Menlo,'DejaVu Sans Mono',consolas,'Courier New',monospace\"><span style=\"color: #7fbfbf; text-decoration-color: #7fbfbf\">                    </span><span style=\"color: #000080; text-decoration-color: #000080\">INFO    </span> Chain <span style=\"font-weight: bold\">[</span><span style=\"color: #008080; text-decoration-color: #008080; font-weight: bold\">1</span><span style=\"font-weight: bold\">]</span> done processing                                                <a href=\"file:///home/work/Documents/repo/economic_freedom_ml/.venv/lib/python3.8/site-packages/cmdstanpy/model.py\" target=\"_blank\"><span style=\"color: #7f7f7f; text-decoration-color: #7f7f7f\">model.py</span></a><span style=\"color: #7f7f7f; text-decoration-color: #7f7f7f\">:</span><a href=\"file:///home/work/Documents/repo/economic_freedom_ml/.venv/lib/python3.8/site-packages/cmdstanpy/model.py#1750\" target=\"_blank\"><span style=\"color: #7f7f7f; text-decoration-color: #7f7f7f\">1750</span></a>\n",
       "</pre>\n"
      ],
      "text/plain": [
       "\u001b[2;36m                   \u001b[0m\u001b[2;36m \u001b[0m\u001b[34mINFO    \u001b[0m Chain \u001b[1m[\u001b[0m\u001b[1;36m1\u001b[0m\u001b[1m]\u001b[0m done processing                                                \u001b]8;id=643952;file:///home/work/Documents/repo/economic_freedom_ml/.venv/lib/python3.8/site-packages/cmdstanpy/model.py\u001b\\\u001b[2mmodel.py\u001b[0m\u001b]8;;\u001b\\\u001b[2m:\u001b[0m\u001b]8;id=597769;file:///home/work/Documents/repo/economic_freedom_ml/.venv/lib/python3.8/site-packages/cmdstanpy/model.py#1750\u001b\\\u001b[2m1750\u001b[0m\u001b]8;;\u001b\\\n"
      ]
     },
     "metadata": {},
     "output_type": "display_data"
    },
    {
     "data": {
      "text/html": [
       "<pre style=\"white-space:pre;overflow-x:auto;line-height:normal;font-family:Menlo,'DejaVu Sans Mono',consolas,'Courier New',monospace\"><span style=\"color: #7fbfbf; text-decoration-color: #7fbfbf\">                    </span><span style=\"color: #000080; text-decoration-color: #000080\">INFO    </span> Disabling weekly seasonality. Run prophet with                       <a href=\"file:///home/work/Documents/repo/economic_freedom_ml/.venv/lib/python3.8/site-packages/prophet/forecaster.py\" target=\"_blank\"><span style=\"color: #7f7f7f; text-decoration-color: #7f7f7f\">forecaster.py</span></a><span style=\"color: #7f7f7f; text-decoration-color: #7f7f7f\">:</span><a href=\"file:///home/work/Documents/repo/economic_freedom_ml/.venv/lib/python3.8/site-packages/prophet/forecaster.py#931\" target=\"_blank\"><span style=\"color: #7f7f7f; text-decoration-color: #7f7f7f\">931</span></a>\n",
       "<span style=\"color: #7fbfbf; text-decoration-color: #7fbfbf\">                    </span>         <span style=\"color: #808000; text-decoration-color: #808000\">weekly_seasonality</span>=<span style=\"color: #00ff00; text-decoration-color: #00ff00; font-style: italic\">True</span> to override this.                            <span style=\"color: #7f7f7f; text-decoration-color: #7f7f7f\">                 </span>\n",
       "</pre>\n"
      ],
      "text/plain": [
       "\u001b[2;36m                   \u001b[0m\u001b[2;36m \u001b[0m\u001b[34mINFO    \u001b[0m Disabling weekly seasonality. Run prophet with                       \u001b]8;id=208905;file:///home/work/Documents/repo/economic_freedom_ml/.venv/lib/python3.8/site-packages/prophet/forecaster.py\u001b\\\u001b[2mforecaster.py\u001b[0m\u001b]8;;\u001b\\\u001b[2m:\u001b[0m\u001b]8;id=910875;file:///home/work/Documents/repo/economic_freedom_ml/.venv/lib/python3.8/site-packages/prophet/forecaster.py#931\u001b\\\u001b[2m931\u001b[0m\u001b]8;;\u001b\\\n",
       "\u001b[2;36m                    \u001b[0m         \u001b[33mweekly_seasonality\u001b[0m=\u001b[3;92mTrue\u001b[0m to override this.                            \u001b[2m                 \u001b[0m\n"
      ]
     },
     "metadata": {},
     "output_type": "display_data"
    },
    {
     "data": {
      "text/html": [
       "<pre style=\"white-space:pre;overflow-x:auto;line-height:normal;font-family:Menlo,'DejaVu Sans Mono',consolas,'Courier New',monospace\"><span style=\"color: #7fbfbf; text-decoration-color: #7fbfbf\">                    </span><span style=\"color: #000080; text-decoration-color: #000080\">INFO    </span> Disabling daily seasonality. Run prophet with <span style=\"color: #808000; text-decoration-color: #808000\">daily_seasonality</span>=<span style=\"color: #00ff00; text-decoration-color: #00ff00; font-style: italic\">True</span> <a href=\"file:///home/work/Documents/repo/economic_freedom_ml/.venv/lib/python3.8/site-packages/prophet/forecaster.py\" target=\"_blank\"><span style=\"color: #7f7f7f; text-decoration-color: #7f7f7f\">forecaster.py</span></a><span style=\"color: #7f7f7f; text-decoration-color: #7f7f7f\">:</span><a href=\"file:///home/work/Documents/repo/economic_freedom_ml/.venv/lib/python3.8/site-packages/prophet/forecaster.py#931\" target=\"_blank\"><span style=\"color: #7f7f7f; text-decoration-color: #7f7f7f\">931</span></a>\n",
       "<span style=\"color: #7fbfbf; text-decoration-color: #7fbfbf\">                    </span>         to override this.                                                    <span style=\"color: #7f7f7f; text-decoration-color: #7f7f7f\">                 </span>\n",
       "</pre>\n"
      ],
      "text/plain": [
       "\u001b[2;36m                   \u001b[0m\u001b[2;36m \u001b[0m\u001b[34mINFO    \u001b[0m Disabling daily seasonality. Run prophet with \u001b[33mdaily_seasonality\u001b[0m=\u001b[3;92mTrue\u001b[0m \u001b]8;id=347548;file:///home/work/Documents/repo/economic_freedom_ml/.venv/lib/python3.8/site-packages/prophet/forecaster.py\u001b\\\u001b[2mforecaster.py\u001b[0m\u001b]8;;\u001b\\\u001b[2m:\u001b[0m\u001b]8;id=375475;file:///home/work/Documents/repo/economic_freedom_ml/.venv/lib/python3.8/site-packages/prophet/forecaster.py#931\u001b\\\u001b[2m931\u001b[0m\u001b]8;;\u001b\\\n",
       "\u001b[2;36m                    \u001b[0m         to override this.                                                    \u001b[2m                 \u001b[0m\n"
      ]
     },
     "metadata": {},
     "output_type": "display_data"
    },
    {
     "data": {
      "text/html": [
       "<pre style=\"white-space:pre;overflow-x:auto;line-height:normal;font-family:Menlo,'DejaVu Sans Mono',consolas,'Courier New',monospace\"><span style=\"color: #7fbfbf; text-decoration-color: #7fbfbf\">                    </span><span style=\"color: #000080; text-decoration-color: #000080\">INFO    </span> n_changepoints greater than number of observations. Using <span style=\"color: #008080; text-decoration-color: #008080; font-weight: bold\">7</span>.         <a href=\"file:///home/work/Documents/repo/economic_freedom_ml/.venv/lib/python3.8/site-packages/prophet/forecaster.py\" target=\"_blank\"><span style=\"color: #7f7f7f; text-decoration-color: #7f7f7f\">forecaster.py</span></a><span style=\"color: #7f7f7f; text-decoration-color: #7f7f7f\">:</span><a href=\"file:///home/work/Documents/repo/economic_freedom_ml/.venv/lib/python3.8/site-packages/prophet/forecaster.py#401\" target=\"_blank\"><span style=\"color: #7f7f7f; text-decoration-color: #7f7f7f\">401</span></a>\n",
       "</pre>\n"
      ],
      "text/plain": [
       "\u001b[2;36m                   \u001b[0m\u001b[2;36m \u001b[0m\u001b[34mINFO    \u001b[0m n_changepoints greater than number of observations. Using \u001b[1;36m7\u001b[0m.         \u001b]8;id=328031;file:///home/work/Documents/repo/economic_freedom_ml/.venv/lib/python3.8/site-packages/prophet/forecaster.py\u001b\\\u001b[2mforecaster.py\u001b[0m\u001b]8;;\u001b\\\u001b[2m:\u001b[0m\u001b]8;id=670165;file:///home/work/Documents/repo/economic_freedom_ml/.venv/lib/python3.8/site-packages/prophet/forecaster.py#401\u001b\\\u001b[2m401\u001b[0m\u001b]8;;\u001b\\\n"
      ]
     },
     "metadata": {},
     "output_type": "display_data"
    },
    {
     "data": {
      "text/html": [
       "<pre style=\"white-space:pre;overflow-x:auto;line-height:normal;font-family:Menlo,'DejaVu Sans Mono',consolas,'Courier New',monospace\"><span style=\"color: #7fbfbf; text-decoration-color: #7fbfbf\">                    </span><span style=\"color: #008000; text-decoration-color: #008000\">DEBUG   </span> input tempfile: <span style=\"color: #800080; text-decoration-color: #800080\">/tmp/tmpsaail0o2/</span><span style=\"color: #ff00ff; text-decoration-color: #ff00ff\">c_2p765u.json</span>                       <a href=\"file:///home/work/Documents/repo/economic_freedom_ml/.venv/lib/python3.8/site-packages/cmdstanpy/utils/filesystem.py\" target=\"_blank\"><span style=\"color: #7f7f7f; text-decoration-color: #7f7f7f\">filesystem.py</span></a><span style=\"color: #7f7f7f; text-decoration-color: #7f7f7f\">:</span><a href=\"file:///home/work/Documents/repo/economic_freedom_ml/.venv/lib/python3.8/site-packages/cmdstanpy/utils/filesystem.py#123\" target=\"_blank\"><span style=\"color: #7f7f7f; text-decoration-color: #7f7f7f\">123</span></a>\n",
       "</pre>\n"
      ],
      "text/plain": [
       "\u001b[2;36m                   \u001b[0m\u001b[2;36m \u001b[0m\u001b[32mDEBUG   \u001b[0m input tempfile: \u001b[35m/tmp/tmpsaail0o2/\u001b[0m\u001b[95mc_2p765u.json\u001b[0m                       \u001b]8;id=539235;file:///home/work/Documents/repo/economic_freedom_ml/.venv/lib/python3.8/site-packages/cmdstanpy/utils/filesystem.py\u001b\\\u001b[2mfilesystem.py\u001b[0m\u001b]8;;\u001b\\\u001b[2m:\u001b[0m\u001b]8;id=297654;file:///home/work/Documents/repo/economic_freedom_ml/.venv/lib/python3.8/site-packages/cmdstanpy/utils/filesystem.py#123\u001b\\\u001b[2m123\u001b[0m\u001b]8;;\u001b\\\n"
      ]
     },
     "metadata": {},
     "output_type": "display_data"
    },
    {
     "data": {
      "text/html": [
       "<pre style=\"white-space:pre;overflow-x:auto;line-height:normal;font-family:Menlo,'DejaVu Sans Mono',consolas,'Courier New',monospace\"><span style=\"color: #7fbfbf; text-decoration-color: #7fbfbf\">                    </span><span style=\"color: #008000; text-decoration-color: #008000\">DEBUG   </span> input tempfile: <span style=\"color: #800080; text-decoration-color: #800080\">/tmp/tmpsaail0o2/</span><span style=\"color: #ff00ff; text-decoration-color: #ff00ff\">5mivz2s1.json</span>                       <a href=\"file:///home/work/Documents/repo/economic_freedom_ml/.venv/lib/python3.8/site-packages/cmdstanpy/utils/filesystem.py\" target=\"_blank\"><span style=\"color: #7f7f7f; text-decoration-color: #7f7f7f\">filesystem.py</span></a><span style=\"color: #7f7f7f; text-decoration-color: #7f7f7f\">:</span><a href=\"file:///home/work/Documents/repo/economic_freedom_ml/.venv/lib/python3.8/site-packages/cmdstanpy/utils/filesystem.py#123\" target=\"_blank\"><span style=\"color: #7f7f7f; text-decoration-color: #7f7f7f\">123</span></a>\n",
       "</pre>\n"
      ],
      "text/plain": [
       "\u001b[2;36m                   \u001b[0m\u001b[2;36m \u001b[0m\u001b[32mDEBUG   \u001b[0m input tempfile: \u001b[35m/tmp/tmpsaail0o2/\u001b[0m\u001b[95m5mivz2s1.json\u001b[0m                       \u001b]8;id=137890;file:///home/work/Documents/repo/economic_freedom_ml/.venv/lib/python3.8/site-packages/cmdstanpy/utils/filesystem.py\u001b\\\u001b[2mfilesystem.py\u001b[0m\u001b]8;;\u001b\\\u001b[2m:\u001b[0m\u001b]8;id=114886;file:///home/work/Documents/repo/economic_freedom_ml/.venv/lib/python3.8/site-packages/cmdstanpy/utils/filesystem.py#123\u001b\\\u001b[2m123\u001b[0m\u001b]8;;\u001b\\\n"
      ]
     },
     "metadata": {},
     "output_type": "display_data"
    },
    {
     "data": {
      "text/html": [
       "<pre style=\"white-space:pre;overflow-x:auto;line-height:normal;font-family:Menlo,'DejaVu Sans Mono',consolas,'Courier New',monospace\"><span style=\"color: #7fbfbf; text-decoration-color: #7fbfbf\">                    </span><span style=\"color: #008000; text-decoration-color: #008000\">DEBUG   </span> idx <span style=\"color: #008080; text-decoration-color: #008080; font-weight: bold\">0</span>                                                                    <a href=\"file:///home/work/Documents/repo/economic_freedom_ml/.venv/lib/python3.8/site-packages/cmdstanpy/model.py\" target=\"_blank\"><span style=\"color: #7f7f7f; text-decoration-color: #7f7f7f\">model.py</span></a><span style=\"color: #7f7f7f; text-decoration-color: #7f7f7f\">:</span><a href=\"file:///home/work/Documents/repo/economic_freedom_ml/.venv/lib/python3.8/site-packages/cmdstanpy/model.py#1677\" target=\"_blank\"><span style=\"color: #7f7f7f; text-decoration-color: #7f7f7f\">1677</span></a>\n",
       "</pre>\n"
      ],
      "text/plain": [
       "\u001b[2;36m                   \u001b[0m\u001b[2;36m \u001b[0m\u001b[32mDEBUG   \u001b[0m idx \u001b[1;36m0\u001b[0m                                                                    \u001b]8;id=955470;file:///home/work/Documents/repo/economic_freedom_ml/.venv/lib/python3.8/site-packages/cmdstanpy/model.py\u001b\\\u001b[2mmodel.py\u001b[0m\u001b]8;;\u001b\\\u001b[2m:\u001b[0m\u001b]8;id=384138;file:///home/work/Documents/repo/economic_freedom_ml/.venv/lib/python3.8/site-packages/cmdstanpy/model.py#1677\u001b\\\u001b[2m1677\u001b[0m\u001b]8;;\u001b\\\n"
      ]
     },
     "metadata": {},
     "output_type": "display_data"
    },
    {
     "data": {
      "text/html": [
       "<pre style=\"white-space:pre;overflow-x:auto;line-height:normal;font-family:Menlo,'DejaVu Sans Mono',consolas,'Courier New',monospace\"><span style=\"color: #7fbfbf; text-decoration-color: #7fbfbf\">                    </span><span style=\"color: #008000; text-decoration-color: #008000\">DEBUG   </span> running CmdStan, num_threads: <span style=\"color: #800080; text-decoration-color: #800080; font-style: italic\">None</span>                                       <a href=\"file:///home/work/Documents/repo/economic_freedom_ml/.venv/lib/python3.8/site-packages/cmdstanpy/model.py\" target=\"_blank\"><span style=\"color: #7f7f7f; text-decoration-color: #7f7f7f\">model.py</span></a><span style=\"color: #7f7f7f; text-decoration-color: #7f7f7f\">:</span><a href=\"file:///home/work/Documents/repo/economic_freedom_ml/.venv/lib/python3.8/site-packages/cmdstanpy/model.py#1678\" target=\"_blank\"><span style=\"color: #7f7f7f; text-decoration-color: #7f7f7f\">1678</span></a>\n",
       "</pre>\n"
      ],
      "text/plain": [
       "\u001b[2;36m                   \u001b[0m\u001b[2;36m \u001b[0m\u001b[32mDEBUG   \u001b[0m running CmdStan, num_threads: \u001b[3;35mNone\u001b[0m                                       \u001b]8;id=404707;file:///home/work/Documents/repo/economic_freedom_ml/.venv/lib/python3.8/site-packages/cmdstanpy/model.py\u001b\\\u001b[2mmodel.py\u001b[0m\u001b]8;;\u001b\\\u001b[2m:\u001b[0m\u001b]8;id=255228;file:///home/work/Documents/repo/economic_freedom_ml/.venv/lib/python3.8/site-packages/cmdstanpy/model.py#1678\u001b\\\u001b[2m1678\u001b[0m\u001b]8;;\u001b\\\n"
      ]
     },
     "metadata": {},
     "output_type": "display_data"
    },
    {
     "data": {
      "text/html": [
       "<pre style=\"white-space:pre;overflow-x:auto;line-height:normal;font-family:Menlo,'DejaVu Sans Mono',consolas,'Courier New',monospace\"><span style=\"color: #7fbfbf; text-decoration-color: #7fbfbf\">                    </span><span style=\"color: #008000; text-decoration-color: #008000\">DEBUG   </span> CmdStan args:                                                            <a href=\"file:///home/work/Documents/repo/economic_freedom_ml/.venv/lib/python3.8/site-packages/cmdstanpy/model.py\" target=\"_blank\"><span style=\"color: #7f7f7f; text-decoration-color: #7f7f7f\">model.py</span></a><span style=\"color: #7f7f7f; text-decoration-color: #7f7f7f\">:</span><a href=\"file:///home/work/Documents/repo/economic_freedom_ml/.venv/lib/python3.8/site-packages/cmdstanpy/model.py#1690\" target=\"_blank\"><span style=\"color: #7f7f7f; text-decoration-color: #7f7f7f\">1690</span></a>\n",
       "<span style=\"color: #7fbfbf; text-decoration-color: #7fbfbf\">                    </span>         <span style=\"font-weight: bold\">[</span><span style=\"color: #008000; text-decoration-color: #008000\">'/home/work/Documents/repo/economic_freedom_ml/.venv/lib/python3.8/site</span> <span style=\"color: #7f7f7f; text-decoration-color: #7f7f7f\">             </span>\n",
       "<span style=\"color: #7fbfbf; text-decoration-color: #7fbfbf\">                    </span>         <span style=\"color: #008000; text-decoration-color: #008000\">-packages/prophet/stan_model/prophet_model.bin'</span>, <span style=\"color: #008000; text-decoration-color: #008000\">'random'</span>, <span style=\"color: #008000; text-decoration-color: #008000\">'seed=97438'</span>, <span style=\"color: #7f7f7f; text-decoration-color: #7f7f7f\">             </span>\n",
       "<span style=\"color: #7fbfbf; text-decoration-color: #7fbfbf\">                    </span>         <span style=\"color: #008000; text-decoration-color: #008000\">'data'</span>, <span style=\"color: #008000; text-decoration-color: #008000\">'file=/tmp/tmpsaail0o2/c_2p765u.json'</span>,                           <span style=\"color: #7f7f7f; text-decoration-color: #7f7f7f\">             </span>\n",
       "<span style=\"color: #7fbfbf; text-decoration-color: #7fbfbf\">                    </span>         <span style=\"color: #008000; text-decoration-color: #008000\">'init=/tmp/tmpsaail0o2/5mivz2s1.json'</span>, <span style=\"color: #008000; text-decoration-color: #008000\">'output'</span>,                         <span style=\"color: #7f7f7f; text-decoration-color: #7f7f7f\">             </span>\n",
       "<span style=\"color: #7fbfbf; text-decoration-color: #7fbfbf\">                    </span>         <span style=\"color: #008000; text-decoration-color: #008000\">'file=/tmp/tmpsaail0o2/prophet_modelu7x8l2nk/prophet_model-2023052018370</span> <span style=\"color: #7f7f7f; text-decoration-color: #7f7f7f\">             </span>\n",
       "<span style=\"color: #7fbfbf; text-decoration-color: #7fbfbf\">                    </span>         <span style=\"color: #008000; text-decoration-color: #008000\">5.csv'</span>, <span style=\"color: #008000; text-decoration-color: #008000\">'method=optimize'</span>, <span style=\"color: #008000; text-decoration-color: #008000\">'algorithm=newton'</span>, <span style=\"color: #008000; text-decoration-color: #008000\">'iter=10000'</span><span style=\"font-weight: bold\">]</span>             <span style=\"color: #7f7f7f; text-decoration-color: #7f7f7f\">             </span>\n",
       "</pre>\n"
      ],
      "text/plain": [
       "\u001b[2;36m                   \u001b[0m\u001b[2;36m \u001b[0m\u001b[32mDEBUG   \u001b[0m CmdStan args:                                                            \u001b]8;id=738911;file:///home/work/Documents/repo/economic_freedom_ml/.venv/lib/python3.8/site-packages/cmdstanpy/model.py\u001b\\\u001b[2mmodel.py\u001b[0m\u001b]8;;\u001b\\\u001b[2m:\u001b[0m\u001b]8;id=241512;file:///home/work/Documents/repo/economic_freedom_ml/.venv/lib/python3.8/site-packages/cmdstanpy/model.py#1690\u001b\\\u001b[2m1690\u001b[0m\u001b]8;;\u001b\\\n",
       "\u001b[2;36m                    \u001b[0m         \u001b[1m[\u001b[0m\u001b[32m'/home/work/Documents/repo/economic_freedom_ml/.venv/lib/python3.8/site\u001b[0m \u001b[2m             \u001b[0m\n",
       "\u001b[2;36m                    \u001b[0m         \u001b[32m-packages/prophet/stan_model/prophet_model.bin'\u001b[0m, \u001b[32m'random'\u001b[0m, \u001b[32m'\u001b[0m\u001b[32mseed\u001b[0m\u001b[32m=\u001b[0m\u001b[32m97438\u001b[0m\u001b[32m'\u001b[0m, \u001b[2m             \u001b[0m\n",
       "\u001b[2;36m                    \u001b[0m         \u001b[32m'data'\u001b[0m, \u001b[32m'\u001b[0m\u001b[32mfile\u001b[0m\u001b[32m=/tmp/tmpsaail0o2/c_2p765u.json'\u001b[0m,                           \u001b[2m             \u001b[0m\n",
       "\u001b[2;36m                    \u001b[0m         \u001b[32m'\u001b[0m\u001b[32minit\u001b[0m\u001b[32m=/tmp/tmpsaail0o2/5mivz2s1.json'\u001b[0m, \u001b[32m'output'\u001b[0m,                         \u001b[2m             \u001b[0m\n",
       "\u001b[2;36m                    \u001b[0m         \u001b[32m'\u001b[0m\u001b[32mfile\u001b[0m\u001b[32m=/tmp/tmpsaail0o2/prophet_modelu7x8l2nk/prophet_model-2023052018370\u001b[0m \u001b[2m             \u001b[0m\n",
       "\u001b[2;36m                    \u001b[0m         \u001b[32m5.csv'\u001b[0m, \u001b[32m'\u001b[0m\u001b[32mmethod\u001b[0m\u001b[32m=\u001b[0m\u001b[32moptimize\u001b[0m\u001b[32m'\u001b[0m, \u001b[32m'\u001b[0m\u001b[32malgorithm\u001b[0m\u001b[32m=\u001b[0m\u001b[32mnewton\u001b[0m\u001b[32m'\u001b[0m, \u001b[32m'\u001b[0m\u001b[32miter\u001b[0m\u001b[32m=\u001b[0m\u001b[32m10000\u001b[0m\u001b[32m'\u001b[0m\u001b[1m]\u001b[0m             \u001b[2m             \u001b[0m\n"
      ]
     },
     "metadata": {},
     "output_type": "display_data"
    },
    {
     "name": "stderr",
     "output_type": "stream",
     "text": [
      "18:37:05 - cmdstanpy - INFO - Chain [1] start processing\n"
     ]
    },
    {
     "data": {
      "text/html": [
       "<pre style=\"white-space:pre;overflow-x:auto;line-height:normal;font-family:Menlo,'DejaVu Sans Mono',consolas,'Courier New',monospace\"><span style=\"color: #7fbfbf; text-decoration-color: #7fbfbf\">                    </span><span style=\"color: #000080; text-decoration-color: #000080\">INFO    </span> Chain <span style=\"font-weight: bold\">[</span><span style=\"color: #008080; text-decoration-color: #008080; font-weight: bold\">1</span><span style=\"font-weight: bold\">]</span> start processing                                               <a href=\"file:///home/work/Documents/repo/economic_freedom_ml/.venv/lib/python3.8/site-packages/cmdstanpy/model.py\" target=\"_blank\"><span style=\"color: #7f7f7f; text-decoration-color: #7f7f7f\">model.py</span></a><span style=\"color: #7f7f7f; text-decoration-color: #7f7f7f\">:</span><a href=\"file:///home/work/Documents/repo/economic_freedom_ml/.venv/lib/python3.8/site-packages/cmdstanpy/model.py#1693\" target=\"_blank\"><span style=\"color: #7f7f7f; text-decoration-color: #7f7f7f\">1693</span></a>\n",
       "</pre>\n"
      ],
      "text/plain": [
       "\u001b[2;36m                   \u001b[0m\u001b[2;36m \u001b[0m\u001b[34mINFO    \u001b[0m Chain \u001b[1m[\u001b[0m\u001b[1;36m1\u001b[0m\u001b[1m]\u001b[0m start processing                                               \u001b]8;id=341458;file:///home/work/Documents/repo/economic_freedom_ml/.venv/lib/python3.8/site-packages/cmdstanpy/model.py\u001b\\\u001b[2mmodel.py\u001b[0m\u001b]8;;\u001b\\\u001b[2m:\u001b[0m\u001b]8;id=178982;file:///home/work/Documents/repo/economic_freedom_ml/.venv/lib/python3.8/site-packages/cmdstanpy/model.py#1693\u001b\\\u001b[2m1693\u001b[0m\u001b]8;;\u001b\\\n"
      ]
     },
     "metadata": {},
     "output_type": "display_data"
    },
    {
     "name": "stderr",
     "output_type": "stream",
     "text": [
      "18:37:05 - cmdstanpy - INFO - Chain [1] done processing\n"
     ]
    },
    {
     "data": {
      "text/html": [
       "<pre style=\"white-space:pre;overflow-x:auto;line-height:normal;font-family:Menlo,'DejaVu Sans Mono',consolas,'Courier New',monospace\"><span style=\"color: #7fbfbf; text-decoration-color: #7fbfbf\">                    </span><span style=\"color: #000080; text-decoration-color: #000080\">INFO    </span> Chain <span style=\"font-weight: bold\">[</span><span style=\"color: #008080; text-decoration-color: #008080; font-weight: bold\">1</span><span style=\"font-weight: bold\">]</span> done processing                                                <a href=\"file:///home/work/Documents/repo/economic_freedom_ml/.venv/lib/python3.8/site-packages/cmdstanpy/model.py\" target=\"_blank\"><span style=\"color: #7f7f7f; text-decoration-color: #7f7f7f\">model.py</span></a><span style=\"color: #7f7f7f; text-decoration-color: #7f7f7f\">:</span><a href=\"file:///home/work/Documents/repo/economic_freedom_ml/.venv/lib/python3.8/site-packages/cmdstanpy/model.py#1750\" target=\"_blank\"><span style=\"color: #7f7f7f; text-decoration-color: #7f7f7f\">1750</span></a>\n",
       "</pre>\n"
      ],
      "text/plain": [
       "\u001b[2;36m                   \u001b[0m\u001b[2;36m \u001b[0m\u001b[34mINFO    \u001b[0m Chain \u001b[1m[\u001b[0m\u001b[1;36m1\u001b[0m\u001b[1m]\u001b[0m done processing                                                \u001b]8;id=771815;file:///home/work/Documents/repo/economic_freedom_ml/.venv/lib/python3.8/site-packages/cmdstanpy/model.py\u001b\\\u001b[2mmodel.py\u001b[0m\u001b]8;;\u001b\\\u001b[2m:\u001b[0m\u001b]8;id=540758;file:///home/work/Documents/repo/economic_freedom_ml/.venv/lib/python3.8/site-packages/cmdstanpy/model.py#1750\u001b\\\u001b[2m1750\u001b[0m\u001b]8;;\u001b\\\n"
      ]
     },
     "metadata": {},
     "output_type": "display_data"
    },
    {
     "data": {
      "text/html": [
       "<pre style=\"white-space:pre;overflow-x:auto;line-height:normal;font-family:Menlo,'DejaVu Sans Mono',consolas,'Courier New',monospace\"><span style=\"color: #7fbfbf; text-decoration-color: #7fbfbf\">                    </span><span style=\"color: #000080; text-decoration-color: #000080\">INFO    </span> Disabling weekly seasonality. Run prophet with                       <a href=\"file:///home/work/Documents/repo/economic_freedom_ml/.venv/lib/python3.8/site-packages/prophet/forecaster.py\" target=\"_blank\"><span style=\"color: #7f7f7f; text-decoration-color: #7f7f7f\">forecaster.py</span></a><span style=\"color: #7f7f7f; text-decoration-color: #7f7f7f\">:</span><a href=\"file:///home/work/Documents/repo/economic_freedom_ml/.venv/lib/python3.8/site-packages/prophet/forecaster.py#931\" target=\"_blank\"><span style=\"color: #7f7f7f; text-decoration-color: #7f7f7f\">931</span></a>\n",
       "<span style=\"color: #7fbfbf; text-decoration-color: #7fbfbf\">                    </span>         <span style=\"color: #808000; text-decoration-color: #808000\">weekly_seasonality</span>=<span style=\"color: #00ff00; text-decoration-color: #00ff00; font-style: italic\">True</span> to override this.                            <span style=\"color: #7f7f7f; text-decoration-color: #7f7f7f\">                 </span>\n",
       "</pre>\n"
      ],
      "text/plain": [
       "\u001b[2;36m                   \u001b[0m\u001b[2;36m \u001b[0m\u001b[34mINFO    \u001b[0m Disabling weekly seasonality. Run prophet with                       \u001b]8;id=596219;file:///home/work/Documents/repo/economic_freedom_ml/.venv/lib/python3.8/site-packages/prophet/forecaster.py\u001b\\\u001b[2mforecaster.py\u001b[0m\u001b]8;;\u001b\\\u001b[2m:\u001b[0m\u001b]8;id=45299;file:///home/work/Documents/repo/economic_freedom_ml/.venv/lib/python3.8/site-packages/prophet/forecaster.py#931\u001b\\\u001b[2m931\u001b[0m\u001b]8;;\u001b\\\n",
       "\u001b[2;36m                    \u001b[0m         \u001b[33mweekly_seasonality\u001b[0m=\u001b[3;92mTrue\u001b[0m to override this.                            \u001b[2m                 \u001b[0m\n"
      ]
     },
     "metadata": {},
     "output_type": "display_data"
    },
    {
     "data": {
      "text/html": [
       "<pre style=\"white-space:pre;overflow-x:auto;line-height:normal;font-family:Menlo,'DejaVu Sans Mono',consolas,'Courier New',monospace\"><span style=\"color: #7fbfbf; text-decoration-color: #7fbfbf\">                    </span><span style=\"color: #000080; text-decoration-color: #000080\">INFO    </span> Disabling daily seasonality. Run prophet with <span style=\"color: #808000; text-decoration-color: #808000\">daily_seasonality</span>=<span style=\"color: #00ff00; text-decoration-color: #00ff00; font-style: italic\">True</span> <a href=\"file:///home/work/Documents/repo/economic_freedom_ml/.venv/lib/python3.8/site-packages/prophet/forecaster.py\" target=\"_blank\"><span style=\"color: #7f7f7f; text-decoration-color: #7f7f7f\">forecaster.py</span></a><span style=\"color: #7f7f7f; text-decoration-color: #7f7f7f\">:</span><a href=\"file:///home/work/Documents/repo/economic_freedom_ml/.venv/lib/python3.8/site-packages/prophet/forecaster.py#931\" target=\"_blank\"><span style=\"color: #7f7f7f; text-decoration-color: #7f7f7f\">931</span></a>\n",
       "<span style=\"color: #7fbfbf; text-decoration-color: #7fbfbf\">                    </span>         to override this.                                                    <span style=\"color: #7f7f7f; text-decoration-color: #7f7f7f\">                 </span>\n",
       "</pre>\n"
      ],
      "text/plain": [
       "\u001b[2;36m                   \u001b[0m\u001b[2;36m \u001b[0m\u001b[34mINFO    \u001b[0m Disabling daily seasonality. Run prophet with \u001b[33mdaily_seasonality\u001b[0m=\u001b[3;92mTrue\u001b[0m \u001b]8;id=237768;file:///home/work/Documents/repo/economic_freedom_ml/.venv/lib/python3.8/site-packages/prophet/forecaster.py\u001b\\\u001b[2mforecaster.py\u001b[0m\u001b]8;;\u001b\\\u001b[2m:\u001b[0m\u001b]8;id=617913;file:///home/work/Documents/repo/economic_freedom_ml/.venv/lib/python3.8/site-packages/prophet/forecaster.py#931\u001b\\\u001b[2m931\u001b[0m\u001b]8;;\u001b\\\n",
       "\u001b[2;36m                    \u001b[0m         to override this.                                                    \u001b[2m                 \u001b[0m\n"
      ]
     },
     "metadata": {},
     "output_type": "display_data"
    },
    {
     "data": {
      "text/html": [
       "<pre style=\"white-space:pre;overflow-x:auto;line-height:normal;font-family:Menlo,'DejaVu Sans Mono',consolas,'Courier New',monospace\"><span style=\"color: #7fbfbf; text-decoration-color: #7fbfbf\">                    </span><span style=\"color: #000080; text-decoration-color: #000080\">INFO    </span> n_changepoints greater than number of observations. Using <span style=\"color: #008080; text-decoration-color: #008080; font-weight: bold\">18</span>.        <a href=\"file:///home/work/Documents/repo/economic_freedom_ml/.venv/lib/python3.8/site-packages/prophet/forecaster.py\" target=\"_blank\"><span style=\"color: #7f7f7f; text-decoration-color: #7f7f7f\">forecaster.py</span></a><span style=\"color: #7f7f7f; text-decoration-color: #7f7f7f\">:</span><a href=\"file:///home/work/Documents/repo/economic_freedom_ml/.venv/lib/python3.8/site-packages/prophet/forecaster.py#401\" target=\"_blank\"><span style=\"color: #7f7f7f; text-decoration-color: #7f7f7f\">401</span></a>\n",
       "</pre>\n"
      ],
      "text/plain": [
       "\u001b[2;36m                   \u001b[0m\u001b[2;36m \u001b[0m\u001b[34mINFO    \u001b[0m n_changepoints greater than number of observations. Using \u001b[1;36m18\u001b[0m.        \u001b]8;id=144737;file:///home/work/Documents/repo/economic_freedom_ml/.venv/lib/python3.8/site-packages/prophet/forecaster.py\u001b\\\u001b[2mforecaster.py\u001b[0m\u001b]8;;\u001b\\\u001b[2m:\u001b[0m\u001b]8;id=504839;file:///home/work/Documents/repo/economic_freedom_ml/.venv/lib/python3.8/site-packages/prophet/forecaster.py#401\u001b\\\u001b[2m401\u001b[0m\u001b]8;;\u001b\\\n"
      ]
     },
     "metadata": {},
     "output_type": "display_data"
    },
    {
     "data": {
      "text/html": [
       "<pre style=\"white-space:pre;overflow-x:auto;line-height:normal;font-family:Menlo,'DejaVu Sans Mono',consolas,'Courier New',monospace\"><span style=\"color: #7fbfbf; text-decoration-color: #7fbfbf\">                    </span><span style=\"color: #008000; text-decoration-color: #008000\">DEBUG   </span> input tempfile: <span style=\"color: #800080; text-decoration-color: #800080\">/tmp/tmpsaail0o2/</span><span style=\"color: #ff00ff; text-decoration-color: #ff00ff\">yebc1hrk.json</span>                       <a href=\"file:///home/work/Documents/repo/economic_freedom_ml/.venv/lib/python3.8/site-packages/cmdstanpy/utils/filesystem.py\" target=\"_blank\"><span style=\"color: #7f7f7f; text-decoration-color: #7f7f7f\">filesystem.py</span></a><span style=\"color: #7f7f7f; text-decoration-color: #7f7f7f\">:</span><a href=\"file:///home/work/Documents/repo/economic_freedom_ml/.venv/lib/python3.8/site-packages/cmdstanpy/utils/filesystem.py#123\" target=\"_blank\"><span style=\"color: #7f7f7f; text-decoration-color: #7f7f7f\">123</span></a>\n",
       "</pre>\n"
      ],
      "text/plain": [
       "\u001b[2;36m                   \u001b[0m\u001b[2;36m \u001b[0m\u001b[32mDEBUG   \u001b[0m input tempfile: \u001b[35m/tmp/tmpsaail0o2/\u001b[0m\u001b[95myebc1hrk.json\u001b[0m                       \u001b]8;id=650492;file:///home/work/Documents/repo/economic_freedom_ml/.venv/lib/python3.8/site-packages/cmdstanpy/utils/filesystem.py\u001b\\\u001b[2mfilesystem.py\u001b[0m\u001b]8;;\u001b\\\u001b[2m:\u001b[0m\u001b]8;id=30866;file:///home/work/Documents/repo/economic_freedom_ml/.venv/lib/python3.8/site-packages/cmdstanpy/utils/filesystem.py#123\u001b\\\u001b[2m123\u001b[0m\u001b]8;;\u001b\\\n"
      ]
     },
     "metadata": {},
     "output_type": "display_data"
    },
    {
     "data": {
      "text/html": [
       "<pre style=\"white-space:pre;overflow-x:auto;line-height:normal;font-family:Menlo,'DejaVu Sans Mono',consolas,'Courier New',monospace\"><span style=\"color: #7fbfbf; text-decoration-color: #7fbfbf\">                    </span><span style=\"color: #008000; text-decoration-color: #008000\">DEBUG   </span> input tempfile: <span style=\"color: #800080; text-decoration-color: #800080\">/tmp/tmpsaail0o2/</span><span style=\"color: #ff00ff; text-decoration-color: #ff00ff\">v6iky31_.json</span>                       <a href=\"file:///home/work/Documents/repo/economic_freedom_ml/.venv/lib/python3.8/site-packages/cmdstanpy/utils/filesystem.py\" target=\"_blank\"><span style=\"color: #7f7f7f; text-decoration-color: #7f7f7f\">filesystem.py</span></a><span style=\"color: #7f7f7f; text-decoration-color: #7f7f7f\">:</span><a href=\"file:///home/work/Documents/repo/economic_freedom_ml/.venv/lib/python3.8/site-packages/cmdstanpy/utils/filesystem.py#123\" target=\"_blank\"><span style=\"color: #7f7f7f; text-decoration-color: #7f7f7f\">123</span></a>\n",
       "</pre>\n"
      ],
      "text/plain": [
       "\u001b[2;36m                   \u001b[0m\u001b[2;36m \u001b[0m\u001b[32mDEBUG   \u001b[0m input tempfile: \u001b[35m/tmp/tmpsaail0o2/\u001b[0m\u001b[95mv6iky31_.json\u001b[0m                       \u001b]8;id=762797;file:///home/work/Documents/repo/economic_freedom_ml/.venv/lib/python3.8/site-packages/cmdstanpy/utils/filesystem.py\u001b\\\u001b[2mfilesystem.py\u001b[0m\u001b]8;;\u001b\\\u001b[2m:\u001b[0m\u001b]8;id=20906;file:///home/work/Documents/repo/economic_freedom_ml/.venv/lib/python3.8/site-packages/cmdstanpy/utils/filesystem.py#123\u001b\\\u001b[2m123\u001b[0m\u001b]8;;\u001b\\\n"
      ]
     },
     "metadata": {},
     "output_type": "display_data"
    },
    {
     "data": {
      "text/html": [
       "<pre style=\"white-space:pre;overflow-x:auto;line-height:normal;font-family:Menlo,'DejaVu Sans Mono',consolas,'Courier New',monospace\"><span style=\"color: #7fbfbf; text-decoration-color: #7fbfbf\">                    </span><span style=\"color: #008000; text-decoration-color: #008000\">DEBUG   </span> idx <span style=\"color: #008080; text-decoration-color: #008080; font-weight: bold\">0</span>                                                                    <a href=\"file:///home/work/Documents/repo/economic_freedom_ml/.venv/lib/python3.8/site-packages/cmdstanpy/model.py\" target=\"_blank\"><span style=\"color: #7f7f7f; text-decoration-color: #7f7f7f\">model.py</span></a><span style=\"color: #7f7f7f; text-decoration-color: #7f7f7f\">:</span><a href=\"file:///home/work/Documents/repo/economic_freedom_ml/.venv/lib/python3.8/site-packages/cmdstanpy/model.py#1677\" target=\"_blank\"><span style=\"color: #7f7f7f; text-decoration-color: #7f7f7f\">1677</span></a>\n",
       "</pre>\n"
      ],
      "text/plain": [
       "\u001b[2;36m                   \u001b[0m\u001b[2;36m \u001b[0m\u001b[32mDEBUG   \u001b[0m idx \u001b[1;36m0\u001b[0m                                                                    \u001b]8;id=657003;file:///home/work/Documents/repo/economic_freedom_ml/.venv/lib/python3.8/site-packages/cmdstanpy/model.py\u001b\\\u001b[2mmodel.py\u001b[0m\u001b]8;;\u001b\\\u001b[2m:\u001b[0m\u001b]8;id=32503;file:///home/work/Documents/repo/economic_freedom_ml/.venv/lib/python3.8/site-packages/cmdstanpy/model.py#1677\u001b\\\u001b[2m1677\u001b[0m\u001b]8;;\u001b\\\n"
      ]
     },
     "metadata": {},
     "output_type": "display_data"
    },
    {
     "data": {
      "text/html": [
       "<pre style=\"white-space:pre;overflow-x:auto;line-height:normal;font-family:Menlo,'DejaVu Sans Mono',consolas,'Courier New',monospace\"><span style=\"color: #7fbfbf; text-decoration-color: #7fbfbf\">                    </span><span style=\"color: #008000; text-decoration-color: #008000\">DEBUG   </span> running CmdStan, num_threads: <span style=\"color: #800080; text-decoration-color: #800080; font-style: italic\">None</span>                                       <a href=\"file:///home/work/Documents/repo/economic_freedom_ml/.venv/lib/python3.8/site-packages/cmdstanpy/model.py\" target=\"_blank\"><span style=\"color: #7f7f7f; text-decoration-color: #7f7f7f\">model.py</span></a><span style=\"color: #7f7f7f; text-decoration-color: #7f7f7f\">:</span><a href=\"file:///home/work/Documents/repo/economic_freedom_ml/.venv/lib/python3.8/site-packages/cmdstanpy/model.py#1678\" target=\"_blank\"><span style=\"color: #7f7f7f; text-decoration-color: #7f7f7f\">1678</span></a>\n",
       "</pre>\n"
      ],
      "text/plain": [
       "\u001b[2;36m                   \u001b[0m\u001b[2;36m \u001b[0m\u001b[32mDEBUG   \u001b[0m running CmdStan, num_threads: \u001b[3;35mNone\u001b[0m                                       \u001b]8;id=458907;file:///home/work/Documents/repo/economic_freedom_ml/.venv/lib/python3.8/site-packages/cmdstanpy/model.py\u001b\\\u001b[2mmodel.py\u001b[0m\u001b]8;;\u001b\\\u001b[2m:\u001b[0m\u001b]8;id=385484;file:///home/work/Documents/repo/economic_freedom_ml/.venv/lib/python3.8/site-packages/cmdstanpy/model.py#1678\u001b\\\u001b[2m1678\u001b[0m\u001b]8;;\u001b\\\n"
      ]
     },
     "metadata": {},
     "output_type": "display_data"
    },
    {
     "data": {
      "text/html": [
       "<pre style=\"white-space:pre;overflow-x:auto;line-height:normal;font-family:Menlo,'DejaVu Sans Mono',consolas,'Courier New',monospace\"><span style=\"color: #7fbfbf; text-decoration-color: #7fbfbf\">                    </span><span style=\"color: #008000; text-decoration-color: #008000\">DEBUG   </span> CmdStan args:                                                            <a href=\"file:///home/work/Documents/repo/economic_freedom_ml/.venv/lib/python3.8/site-packages/cmdstanpy/model.py\" target=\"_blank\"><span style=\"color: #7f7f7f; text-decoration-color: #7f7f7f\">model.py</span></a><span style=\"color: #7f7f7f; text-decoration-color: #7f7f7f\">:</span><a href=\"file:///home/work/Documents/repo/economic_freedom_ml/.venv/lib/python3.8/site-packages/cmdstanpy/model.py#1690\" target=\"_blank\"><span style=\"color: #7f7f7f; text-decoration-color: #7f7f7f\">1690</span></a>\n",
       "<span style=\"color: #7fbfbf; text-decoration-color: #7fbfbf\">                    </span>         <span style=\"font-weight: bold\">[</span><span style=\"color: #008000; text-decoration-color: #008000\">'/home/work/Documents/repo/economic_freedom_ml/.venv/lib/python3.8/site</span> <span style=\"color: #7f7f7f; text-decoration-color: #7f7f7f\">             </span>\n",
       "<span style=\"color: #7fbfbf; text-decoration-color: #7fbfbf\">                    </span>         <span style=\"color: #008000; text-decoration-color: #008000\">-packages/prophet/stan_model/prophet_model.bin'</span>, <span style=\"color: #008000; text-decoration-color: #008000\">'random'</span>, <span style=\"color: #008000; text-decoration-color: #008000\">'seed=3808'</span>,  <span style=\"color: #7f7f7f; text-decoration-color: #7f7f7f\">             </span>\n",
       "<span style=\"color: #7fbfbf; text-decoration-color: #7fbfbf\">                    </span>         <span style=\"color: #008000; text-decoration-color: #008000\">'data'</span>, <span style=\"color: #008000; text-decoration-color: #008000\">'file=/tmp/tmpsaail0o2/yebc1hrk.json'</span>,                           <span style=\"color: #7f7f7f; text-decoration-color: #7f7f7f\">             </span>\n",
       "<span style=\"color: #7fbfbf; text-decoration-color: #7fbfbf\">                    </span>         <span style=\"color: #008000; text-decoration-color: #008000\">'init=/tmp/tmpsaail0o2/v6iky31_.json'</span>, <span style=\"color: #008000; text-decoration-color: #008000\">'output'</span>,                         <span style=\"color: #7f7f7f; text-decoration-color: #7f7f7f\">             </span>\n",
       "<span style=\"color: #7fbfbf; text-decoration-color: #7fbfbf\">                    </span>         <span style=\"color: #008000; text-decoration-color: #008000\">'file=/tmp/tmpsaail0o2/prophet_modele1uzz1lf/prophet_model-2023052018370</span> <span style=\"color: #7f7f7f; text-decoration-color: #7f7f7f\">             </span>\n",
       "<span style=\"color: #7fbfbf; text-decoration-color: #7fbfbf\">                    </span>         <span style=\"color: #008000; text-decoration-color: #008000\">5.csv'</span>, <span style=\"color: #008000; text-decoration-color: #008000\">'method=optimize'</span>, <span style=\"color: #008000; text-decoration-color: #008000\">'algorithm=newton'</span>, <span style=\"color: #008000; text-decoration-color: #008000\">'iter=10000'</span><span style=\"font-weight: bold\">]</span>             <span style=\"color: #7f7f7f; text-decoration-color: #7f7f7f\">             </span>\n",
       "</pre>\n"
      ],
      "text/plain": [
       "\u001b[2;36m                   \u001b[0m\u001b[2;36m \u001b[0m\u001b[32mDEBUG   \u001b[0m CmdStan args:                                                            \u001b]8;id=565888;file:///home/work/Documents/repo/economic_freedom_ml/.venv/lib/python3.8/site-packages/cmdstanpy/model.py\u001b\\\u001b[2mmodel.py\u001b[0m\u001b]8;;\u001b\\\u001b[2m:\u001b[0m\u001b]8;id=852310;file:///home/work/Documents/repo/economic_freedom_ml/.venv/lib/python3.8/site-packages/cmdstanpy/model.py#1690\u001b\\\u001b[2m1690\u001b[0m\u001b]8;;\u001b\\\n",
       "\u001b[2;36m                    \u001b[0m         \u001b[1m[\u001b[0m\u001b[32m'/home/work/Documents/repo/economic_freedom_ml/.venv/lib/python3.8/site\u001b[0m \u001b[2m             \u001b[0m\n",
       "\u001b[2;36m                    \u001b[0m         \u001b[32m-packages/prophet/stan_model/prophet_model.bin'\u001b[0m, \u001b[32m'random'\u001b[0m, \u001b[32m'\u001b[0m\u001b[32mseed\u001b[0m\u001b[32m=\u001b[0m\u001b[32m3808\u001b[0m\u001b[32m'\u001b[0m,  \u001b[2m             \u001b[0m\n",
       "\u001b[2;36m                    \u001b[0m         \u001b[32m'data'\u001b[0m, \u001b[32m'\u001b[0m\u001b[32mfile\u001b[0m\u001b[32m=/tmp/tmpsaail0o2/yebc1hrk.json'\u001b[0m,                           \u001b[2m             \u001b[0m\n",
       "\u001b[2;36m                    \u001b[0m         \u001b[32m'\u001b[0m\u001b[32minit\u001b[0m\u001b[32m=/tmp/tmpsaail0o2/v6iky31_.json'\u001b[0m, \u001b[32m'output'\u001b[0m,                         \u001b[2m             \u001b[0m\n",
       "\u001b[2;36m                    \u001b[0m         \u001b[32m'\u001b[0m\u001b[32mfile\u001b[0m\u001b[32m=/tmp/tmpsaail0o2/prophet_modele1uzz1lf/prophet_model-2023052018370\u001b[0m \u001b[2m             \u001b[0m\n",
       "\u001b[2;36m                    \u001b[0m         \u001b[32m5.csv'\u001b[0m, \u001b[32m'\u001b[0m\u001b[32mmethod\u001b[0m\u001b[32m=\u001b[0m\u001b[32moptimize\u001b[0m\u001b[32m'\u001b[0m, \u001b[32m'\u001b[0m\u001b[32malgorithm\u001b[0m\u001b[32m=\u001b[0m\u001b[32mnewton\u001b[0m\u001b[32m'\u001b[0m, \u001b[32m'\u001b[0m\u001b[32miter\u001b[0m\u001b[32m=\u001b[0m\u001b[32m10000\u001b[0m\u001b[32m'\u001b[0m\u001b[1m]\u001b[0m             \u001b[2m             \u001b[0m\n"
      ]
     },
     "metadata": {},
     "output_type": "display_data"
    },
    {
     "name": "stderr",
     "output_type": "stream",
     "text": [
      "18:37:05 - cmdstanpy - INFO - Chain [1] start processing\n"
     ]
    },
    {
     "data": {
      "text/html": [
       "<pre style=\"white-space:pre;overflow-x:auto;line-height:normal;font-family:Menlo,'DejaVu Sans Mono',consolas,'Courier New',monospace\"><span style=\"color: #7fbfbf; text-decoration-color: #7fbfbf\">                    </span><span style=\"color: #000080; text-decoration-color: #000080\">INFO    </span> Chain <span style=\"font-weight: bold\">[</span><span style=\"color: #008080; text-decoration-color: #008080; font-weight: bold\">1</span><span style=\"font-weight: bold\">]</span> start processing                                               <a href=\"file:///home/work/Documents/repo/economic_freedom_ml/.venv/lib/python3.8/site-packages/cmdstanpy/model.py\" target=\"_blank\"><span style=\"color: #7f7f7f; text-decoration-color: #7f7f7f\">model.py</span></a><span style=\"color: #7f7f7f; text-decoration-color: #7f7f7f\">:</span><a href=\"file:///home/work/Documents/repo/economic_freedom_ml/.venv/lib/python3.8/site-packages/cmdstanpy/model.py#1693\" target=\"_blank\"><span style=\"color: #7f7f7f; text-decoration-color: #7f7f7f\">1693</span></a>\n",
       "</pre>\n"
      ],
      "text/plain": [
       "\u001b[2;36m                   \u001b[0m\u001b[2;36m \u001b[0m\u001b[34mINFO    \u001b[0m Chain \u001b[1m[\u001b[0m\u001b[1;36m1\u001b[0m\u001b[1m]\u001b[0m start processing                                               \u001b]8;id=984412;file:///home/work/Documents/repo/economic_freedom_ml/.venv/lib/python3.8/site-packages/cmdstanpy/model.py\u001b\\\u001b[2mmodel.py\u001b[0m\u001b]8;;\u001b\\\u001b[2m:\u001b[0m\u001b]8;id=429550;file:///home/work/Documents/repo/economic_freedom_ml/.venv/lib/python3.8/site-packages/cmdstanpy/model.py#1693\u001b\\\u001b[2m1693\u001b[0m\u001b]8;;\u001b\\\n"
      ]
     },
     "metadata": {},
     "output_type": "display_data"
    },
    {
     "name": "stderr",
     "output_type": "stream",
     "text": [
      "18:37:05 - cmdstanpy - INFO - Chain [1] done processing\n"
     ]
    },
    {
     "data": {
      "text/html": [
       "<pre style=\"white-space:pre;overflow-x:auto;line-height:normal;font-family:Menlo,'DejaVu Sans Mono',consolas,'Courier New',monospace\"><span style=\"color: #7fbfbf; text-decoration-color: #7fbfbf\">                    </span><span style=\"color: #000080; text-decoration-color: #000080\">INFO    </span> Chain <span style=\"font-weight: bold\">[</span><span style=\"color: #008080; text-decoration-color: #008080; font-weight: bold\">1</span><span style=\"font-weight: bold\">]</span> done processing                                                <a href=\"file:///home/work/Documents/repo/economic_freedom_ml/.venv/lib/python3.8/site-packages/cmdstanpy/model.py\" target=\"_blank\"><span style=\"color: #7f7f7f; text-decoration-color: #7f7f7f\">model.py</span></a><span style=\"color: #7f7f7f; text-decoration-color: #7f7f7f\">:</span><a href=\"file:///home/work/Documents/repo/economic_freedom_ml/.venv/lib/python3.8/site-packages/cmdstanpy/model.py#1750\" target=\"_blank\"><span style=\"color: #7f7f7f; text-decoration-color: #7f7f7f\">1750</span></a>\n",
       "</pre>\n"
      ],
      "text/plain": [
       "\u001b[2;36m                   \u001b[0m\u001b[2;36m \u001b[0m\u001b[34mINFO    \u001b[0m Chain \u001b[1m[\u001b[0m\u001b[1;36m1\u001b[0m\u001b[1m]\u001b[0m done processing                                                \u001b]8;id=486718;file:///home/work/Documents/repo/economic_freedom_ml/.venv/lib/python3.8/site-packages/cmdstanpy/model.py\u001b\\\u001b[2mmodel.py\u001b[0m\u001b]8;;\u001b\\\u001b[2m:\u001b[0m\u001b]8;id=885447;file:///home/work/Documents/repo/economic_freedom_ml/.venv/lib/python3.8/site-packages/cmdstanpy/model.py#1750\u001b\\\u001b[2m1750\u001b[0m\u001b]8;;\u001b\\\n"
      ]
     },
     "metadata": {},
     "output_type": "display_data"
    },
    {
     "data": {
      "text/html": [
       "<pre style=\"white-space:pre;overflow-x:auto;line-height:normal;font-family:Menlo,'DejaVu Sans Mono',consolas,'Courier New',monospace\"><span style=\"color: #7fbfbf; text-decoration-color: #7fbfbf\">                    </span><span style=\"color: #000080; text-decoration-color: #000080\">INFO    </span> Disabling weekly seasonality. Run prophet with                       <a href=\"file:///home/work/Documents/repo/economic_freedom_ml/.venv/lib/python3.8/site-packages/prophet/forecaster.py\" target=\"_blank\"><span style=\"color: #7f7f7f; text-decoration-color: #7f7f7f\">forecaster.py</span></a><span style=\"color: #7f7f7f; text-decoration-color: #7f7f7f\">:</span><a href=\"file:///home/work/Documents/repo/economic_freedom_ml/.venv/lib/python3.8/site-packages/prophet/forecaster.py#931\" target=\"_blank\"><span style=\"color: #7f7f7f; text-decoration-color: #7f7f7f\">931</span></a>\n",
       "<span style=\"color: #7fbfbf; text-decoration-color: #7fbfbf\">                    </span>         <span style=\"color: #808000; text-decoration-color: #808000\">weekly_seasonality</span>=<span style=\"color: #00ff00; text-decoration-color: #00ff00; font-style: italic\">True</span> to override this.                            <span style=\"color: #7f7f7f; text-decoration-color: #7f7f7f\">                 </span>\n",
       "</pre>\n"
      ],
      "text/plain": [
       "\u001b[2;36m                   \u001b[0m\u001b[2;36m \u001b[0m\u001b[34mINFO    \u001b[0m Disabling weekly seasonality. Run prophet with                       \u001b]8;id=333120;file:///home/work/Documents/repo/economic_freedom_ml/.venv/lib/python3.8/site-packages/prophet/forecaster.py\u001b\\\u001b[2mforecaster.py\u001b[0m\u001b]8;;\u001b\\\u001b[2m:\u001b[0m\u001b]8;id=70751;file:///home/work/Documents/repo/economic_freedom_ml/.venv/lib/python3.8/site-packages/prophet/forecaster.py#931\u001b\\\u001b[2m931\u001b[0m\u001b]8;;\u001b\\\n",
       "\u001b[2;36m                    \u001b[0m         \u001b[33mweekly_seasonality\u001b[0m=\u001b[3;92mTrue\u001b[0m to override this.                            \u001b[2m                 \u001b[0m\n"
      ]
     },
     "metadata": {},
     "output_type": "display_data"
    },
    {
     "data": {
      "text/html": [
       "<pre style=\"white-space:pre;overflow-x:auto;line-height:normal;font-family:Menlo,'DejaVu Sans Mono',consolas,'Courier New',monospace\"><span style=\"color: #7fbfbf; text-decoration-color: #7fbfbf\">                    </span><span style=\"color: #000080; text-decoration-color: #000080\">INFO    </span> Disabling daily seasonality. Run prophet with <span style=\"color: #808000; text-decoration-color: #808000\">daily_seasonality</span>=<span style=\"color: #00ff00; text-decoration-color: #00ff00; font-style: italic\">True</span> <a href=\"file:///home/work/Documents/repo/economic_freedom_ml/.venv/lib/python3.8/site-packages/prophet/forecaster.py\" target=\"_blank\"><span style=\"color: #7f7f7f; text-decoration-color: #7f7f7f\">forecaster.py</span></a><span style=\"color: #7f7f7f; text-decoration-color: #7f7f7f\">:</span><a href=\"file:///home/work/Documents/repo/economic_freedom_ml/.venv/lib/python3.8/site-packages/prophet/forecaster.py#931\" target=\"_blank\"><span style=\"color: #7f7f7f; text-decoration-color: #7f7f7f\">931</span></a>\n",
       "<span style=\"color: #7fbfbf; text-decoration-color: #7fbfbf\">                    </span>         to override this.                                                    <span style=\"color: #7f7f7f; text-decoration-color: #7f7f7f\">                 </span>\n",
       "</pre>\n"
      ],
      "text/plain": [
       "\u001b[2;36m                   \u001b[0m\u001b[2;36m \u001b[0m\u001b[34mINFO    \u001b[0m Disabling daily seasonality. Run prophet with \u001b[33mdaily_seasonality\u001b[0m=\u001b[3;92mTrue\u001b[0m \u001b]8;id=833393;file:///home/work/Documents/repo/economic_freedom_ml/.venv/lib/python3.8/site-packages/prophet/forecaster.py\u001b\\\u001b[2mforecaster.py\u001b[0m\u001b]8;;\u001b\\\u001b[2m:\u001b[0m\u001b]8;id=623801;file:///home/work/Documents/repo/economic_freedom_ml/.venv/lib/python3.8/site-packages/prophet/forecaster.py#931\u001b\\\u001b[2m931\u001b[0m\u001b]8;;\u001b\\\n",
       "\u001b[2;36m                    \u001b[0m         to override this.                                                    \u001b[2m                 \u001b[0m\n"
      ]
     },
     "metadata": {},
     "output_type": "display_data"
    },
    {
     "data": {
      "text/html": [
       "<pre style=\"white-space:pre;overflow-x:auto;line-height:normal;font-family:Menlo,'DejaVu Sans Mono',consolas,'Courier New',monospace\"><span style=\"color: #7fbfbf; text-decoration-color: #7fbfbf\">                    </span><span style=\"color: #000080; text-decoration-color: #000080\">INFO    </span> n_changepoints greater than number of observations. Using <span style=\"color: #008080; text-decoration-color: #008080; font-weight: bold\">18</span>.        <a href=\"file:///home/work/Documents/repo/economic_freedom_ml/.venv/lib/python3.8/site-packages/prophet/forecaster.py\" target=\"_blank\"><span style=\"color: #7f7f7f; text-decoration-color: #7f7f7f\">forecaster.py</span></a><span style=\"color: #7f7f7f; text-decoration-color: #7f7f7f\">:</span><a href=\"file:///home/work/Documents/repo/economic_freedom_ml/.venv/lib/python3.8/site-packages/prophet/forecaster.py#401\" target=\"_blank\"><span style=\"color: #7f7f7f; text-decoration-color: #7f7f7f\">401</span></a>\n",
       "</pre>\n"
      ],
      "text/plain": [
       "\u001b[2;36m                   \u001b[0m\u001b[2;36m \u001b[0m\u001b[34mINFO    \u001b[0m n_changepoints greater than number of observations. Using \u001b[1;36m18\u001b[0m.        \u001b]8;id=405747;file:///home/work/Documents/repo/economic_freedom_ml/.venv/lib/python3.8/site-packages/prophet/forecaster.py\u001b\\\u001b[2mforecaster.py\u001b[0m\u001b]8;;\u001b\\\u001b[2m:\u001b[0m\u001b]8;id=386952;file:///home/work/Documents/repo/economic_freedom_ml/.venv/lib/python3.8/site-packages/prophet/forecaster.py#401\u001b\\\u001b[2m401\u001b[0m\u001b]8;;\u001b\\\n"
      ]
     },
     "metadata": {},
     "output_type": "display_data"
    },
    {
     "data": {
      "text/html": [
       "<pre style=\"white-space:pre;overflow-x:auto;line-height:normal;font-family:Menlo,'DejaVu Sans Mono',consolas,'Courier New',monospace\"><span style=\"color: #7fbfbf; text-decoration-color: #7fbfbf\">                    </span><span style=\"color: #008000; text-decoration-color: #008000\">DEBUG   </span> input tempfile: <span style=\"color: #800080; text-decoration-color: #800080\">/tmp/tmpsaail0o2/</span><span style=\"color: #ff00ff; text-decoration-color: #ff00ff\">nffa817z.json</span>                       <a href=\"file:///home/work/Documents/repo/economic_freedom_ml/.venv/lib/python3.8/site-packages/cmdstanpy/utils/filesystem.py\" target=\"_blank\"><span style=\"color: #7f7f7f; text-decoration-color: #7f7f7f\">filesystem.py</span></a><span style=\"color: #7f7f7f; text-decoration-color: #7f7f7f\">:</span><a href=\"file:///home/work/Documents/repo/economic_freedom_ml/.venv/lib/python3.8/site-packages/cmdstanpy/utils/filesystem.py#123\" target=\"_blank\"><span style=\"color: #7f7f7f; text-decoration-color: #7f7f7f\">123</span></a>\n",
       "</pre>\n"
      ],
      "text/plain": [
       "\u001b[2;36m                   \u001b[0m\u001b[2;36m \u001b[0m\u001b[32mDEBUG   \u001b[0m input tempfile: \u001b[35m/tmp/tmpsaail0o2/\u001b[0m\u001b[95mnffa817z.json\u001b[0m                       \u001b]8;id=424923;file:///home/work/Documents/repo/economic_freedom_ml/.venv/lib/python3.8/site-packages/cmdstanpy/utils/filesystem.py\u001b\\\u001b[2mfilesystem.py\u001b[0m\u001b]8;;\u001b\\\u001b[2m:\u001b[0m\u001b]8;id=792360;file:///home/work/Documents/repo/economic_freedom_ml/.venv/lib/python3.8/site-packages/cmdstanpy/utils/filesystem.py#123\u001b\\\u001b[2m123\u001b[0m\u001b]8;;\u001b\\\n"
      ]
     },
     "metadata": {},
     "output_type": "display_data"
    },
    {
     "data": {
      "text/html": [
       "<pre style=\"white-space:pre;overflow-x:auto;line-height:normal;font-family:Menlo,'DejaVu Sans Mono',consolas,'Courier New',monospace\"><span style=\"color: #7fbfbf; text-decoration-color: #7fbfbf\">                    </span><span style=\"color: #008000; text-decoration-color: #008000\">DEBUG   </span> input tempfile: <span style=\"color: #800080; text-decoration-color: #800080\">/tmp/tmpsaail0o2/</span><span style=\"color: #ff00ff; text-decoration-color: #ff00ff\">o6e479r2.json</span>                       <a href=\"file:///home/work/Documents/repo/economic_freedom_ml/.venv/lib/python3.8/site-packages/cmdstanpy/utils/filesystem.py\" target=\"_blank\"><span style=\"color: #7f7f7f; text-decoration-color: #7f7f7f\">filesystem.py</span></a><span style=\"color: #7f7f7f; text-decoration-color: #7f7f7f\">:</span><a href=\"file:///home/work/Documents/repo/economic_freedom_ml/.venv/lib/python3.8/site-packages/cmdstanpy/utils/filesystem.py#123\" target=\"_blank\"><span style=\"color: #7f7f7f; text-decoration-color: #7f7f7f\">123</span></a>\n",
       "</pre>\n"
      ],
      "text/plain": [
       "\u001b[2;36m                   \u001b[0m\u001b[2;36m \u001b[0m\u001b[32mDEBUG   \u001b[0m input tempfile: \u001b[35m/tmp/tmpsaail0o2/\u001b[0m\u001b[95mo6e479r2.json\u001b[0m                       \u001b]8;id=996231;file:///home/work/Documents/repo/economic_freedom_ml/.venv/lib/python3.8/site-packages/cmdstanpy/utils/filesystem.py\u001b\\\u001b[2mfilesystem.py\u001b[0m\u001b]8;;\u001b\\\u001b[2m:\u001b[0m\u001b]8;id=347546;file:///home/work/Documents/repo/economic_freedom_ml/.venv/lib/python3.8/site-packages/cmdstanpy/utils/filesystem.py#123\u001b\\\u001b[2m123\u001b[0m\u001b]8;;\u001b\\\n"
      ]
     },
     "metadata": {},
     "output_type": "display_data"
    },
    {
     "data": {
      "text/html": [
       "<pre style=\"white-space:pre;overflow-x:auto;line-height:normal;font-family:Menlo,'DejaVu Sans Mono',consolas,'Courier New',monospace\"><span style=\"color: #7fbfbf; text-decoration-color: #7fbfbf\">                    </span><span style=\"color: #008000; text-decoration-color: #008000\">DEBUG   </span> idx <span style=\"color: #008080; text-decoration-color: #008080; font-weight: bold\">0</span>                                                                    <a href=\"file:///home/work/Documents/repo/economic_freedom_ml/.venv/lib/python3.8/site-packages/cmdstanpy/model.py\" target=\"_blank\"><span style=\"color: #7f7f7f; text-decoration-color: #7f7f7f\">model.py</span></a><span style=\"color: #7f7f7f; text-decoration-color: #7f7f7f\">:</span><a href=\"file:///home/work/Documents/repo/economic_freedom_ml/.venv/lib/python3.8/site-packages/cmdstanpy/model.py#1677\" target=\"_blank\"><span style=\"color: #7f7f7f; text-decoration-color: #7f7f7f\">1677</span></a>\n",
       "</pre>\n"
      ],
      "text/plain": [
       "\u001b[2;36m                   \u001b[0m\u001b[2;36m \u001b[0m\u001b[32mDEBUG   \u001b[0m idx \u001b[1;36m0\u001b[0m                                                                    \u001b]8;id=920224;file:///home/work/Documents/repo/economic_freedom_ml/.venv/lib/python3.8/site-packages/cmdstanpy/model.py\u001b\\\u001b[2mmodel.py\u001b[0m\u001b]8;;\u001b\\\u001b[2m:\u001b[0m\u001b]8;id=379579;file:///home/work/Documents/repo/economic_freedom_ml/.venv/lib/python3.8/site-packages/cmdstanpy/model.py#1677\u001b\\\u001b[2m1677\u001b[0m\u001b]8;;\u001b\\\n"
      ]
     },
     "metadata": {},
     "output_type": "display_data"
    },
    {
     "data": {
      "text/html": [
       "<pre style=\"white-space:pre;overflow-x:auto;line-height:normal;font-family:Menlo,'DejaVu Sans Mono',consolas,'Courier New',monospace\"><span style=\"color: #7fbfbf; text-decoration-color: #7fbfbf\">                    </span><span style=\"color: #008000; text-decoration-color: #008000\">DEBUG   </span> running CmdStan, num_threads: <span style=\"color: #800080; text-decoration-color: #800080; font-style: italic\">None</span>                                       <a href=\"file:///home/work/Documents/repo/economic_freedom_ml/.venv/lib/python3.8/site-packages/cmdstanpy/model.py\" target=\"_blank\"><span style=\"color: #7f7f7f; text-decoration-color: #7f7f7f\">model.py</span></a><span style=\"color: #7f7f7f; text-decoration-color: #7f7f7f\">:</span><a href=\"file:///home/work/Documents/repo/economic_freedom_ml/.venv/lib/python3.8/site-packages/cmdstanpy/model.py#1678\" target=\"_blank\"><span style=\"color: #7f7f7f; text-decoration-color: #7f7f7f\">1678</span></a>\n",
       "</pre>\n"
      ],
      "text/plain": [
       "\u001b[2;36m                   \u001b[0m\u001b[2;36m \u001b[0m\u001b[32mDEBUG   \u001b[0m running CmdStan, num_threads: \u001b[3;35mNone\u001b[0m                                       \u001b]8;id=981055;file:///home/work/Documents/repo/economic_freedom_ml/.venv/lib/python3.8/site-packages/cmdstanpy/model.py\u001b\\\u001b[2mmodel.py\u001b[0m\u001b]8;;\u001b\\\u001b[2m:\u001b[0m\u001b]8;id=233455;file:///home/work/Documents/repo/economic_freedom_ml/.venv/lib/python3.8/site-packages/cmdstanpy/model.py#1678\u001b\\\u001b[2m1678\u001b[0m\u001b]8;;\u001b\\\n"
      ]
     },
     "metadata": {},
     "output_type": "display_data"
    },
    {
     "data": {
      "text/html": [
       "<pre style=\"white-space:pre;overflow-x:auto;line-height:normal;font-family:Menlo,'DejaVu Sans Mono',consolas,'Courier New',monospace\"><span style=\"color: #7fbfbf; text-decoration-color: #7fbfbf\">                    </span><span style=\"color: #008000; text-decoration-color: #008000\">DEBUG   </span> CmdStan args:                                                            <a href=\"file:///home/work/Documents/repo/economic_freedom_ml/.venv/lib/python3.8/site-packages/cmdstanpy/model.py\" target=\"_blank\"><span style=\"color: #7f7f7f; text-decoration-color: #7f7f7f\">model.py</span></a><span style=\"color: #7f7f7f; text-decoration-color: #7f7f7f\">:</span><a href=\"file:///home/work/Documents/repo/economic_freedom_ml/.venv/lib/python3.8/site-packages/cmdstanpy/model.py#1690\" target=\"_blank\"><span style=\"color: #7f7f7f; text-decoration-color: #7f7f7f\">1690</span></a>\n",
       "<span style=\"color: #7fbfbf; text-decoration-color: #7fbfbf\">                    </span>         <span style=\"font-weight: bold\">[</span><span style=\"color: #008000; text-decoration-color: #008000\">'/home/work/Documents/repo/economic_freedom_ml/.venv/lib/python3.8/site</span> <span style=\"color: #7f7f7f; text-decoration-color: #7f7f7f\">             </span>\n",
       "<span style=\"color: #7fbfbf; text-decoration-color: #7fbfbf\">                    </span>         <span style=\"color: #008000; text-decoration-color: #008000\">-packages/prophet/stan_model/prophet_model.bin'</span>, <span style=\"color: #008000; text-decoration-color: #008000\">'random'</span>, <span style=\"color: #008000; text-decoration-color: #008000\">'seed=56411'</span>, <span style=\"color: #7f7f7f; text-decoration-color: #7f7f7f\">             </span>\n",
       "<span style=\"color: #7fbfbf; text-decoration-color: #7fbfbf\">                    </span>         <span style=\"color: #008000; text-decoration-color: #008000\">'data'</span>, <span style=\"color: #008000; text-decoration-color: #008000\">'file=/tmp/tmpsaail0o2/nffa817z.json'</span>,                           <span style=\"color: #7f7f7f; text-decoration-color: #7f7f7f\">             </span>\n",
       "<span style=\"color: #7fbfbf; text-decoration-color: #7fbfbf\">                    </span>         <span style=\"color: #008000; text-decoration-color: #008000\">'init=/tmp/tmpsaail0o2/o6e479r2.json'</span>, <span style=\"color: #008000; text-decoration-color: #008000\">'output'</span>,                         <span style=\"color: #7f7f7f; text-decoration-color: #7f7f7f\">             </span>\n",
       "<span style=\"color: #7fbfbf; text-decoration-color: #7fbfbf\">                    </span>         <span style=\"color: #008000; text-decoration-color: #008000\">'file=/tmp/tmpsaail0o2/prophet_model21xs69ts/prophet_model-2023052018370</span> <span style=\"color: #7f7f7f; text-decoration-color: #7f7f7f\">             </span>\n",
       "<span style=\"color: #7fbfbf; text-decoration-color: #7fbfbf\">                    </span>         <span style=\"color: #008000; text-decoration-color: #008000\">5.csv'</span>, <span style=\"color: #008000; text-decoration-color: #008000\">'method=optimize'</span>, <span style=\"color: #008000; text-decoration-color: #008000\">'algorithm=newton'</span>, <span style=\"color: #008000; text-decoration-color: #008000\">'iter=10000'</span><span style=\"font-weight: bold\">]</span>             <span style=\"color: #7f7f7f; text-decoration-color: #7f7f7f\">             </span>\n",
       "</pre>\n"
      ],
      "text/plain": [
       "\u001b[2;36m                   \u001b[0m\u001b[2;36m \u001b[0m\u001b[32mDEBUG   \u001b[0m CmdStan args:                                                            \u001b]8;id=989499;file:///home/work/Documents/repo/economic_freedom_ml/.venv/lib/python3.8/site-packages/cmdstanpy/model.py\u001b\\\u001b[2mmodel.py\u001b[0m\u001b]8;;\u001b\\\u001b[2m:\u001b[0m\u001b]8;id=856506;file:///home/work/Documents/repo/economic_freedom_ml/.venv/lib/python3.8/site-packages/cmdstanpy/model.py#1690\u001b\\\u001b[2m1690\u001b[0m\u001b]8;;\u001b\\\n",
       "\u001b[2;36m                    \u001b[0m         \u001b[1m[\u001b[0m\u001b[32m'/home/work/Documents/repo/economic_freedom_ml/.venv/lib/python3.8/site\u001b[0m \u001b[2m             \u001b[0m\n",
       "\u001b[2;36m                    \u001b[0m         \u001b[32m-packages/prophet/stan_model/prophet_model.bin'\u001b[0m, \u001b[32m'random'\u001b[0m, \u001b[32m'\u001b[0m\u001b[32mseed\u001b[0m\u001b[32m=\u001b[0m\u001b[32m56411\u001b[0m\u001b[32m'\u001b[0m, \u001b[2m             \u001b[0m\n",
       "\u001b[2;36m                    \u001b[0m         \u001b[32m'data'\u001b[0m, \u001b[32m'\u001b[0m\u001b[32mfile\u001b[0m\u001b[32m=/tmp/tmpsaail0o2/nffa817z.json'\u001b[0m,                           \u001b[2m             \u001b[0m\n",
       "\u001b[2;36m                    \u001b[0m         \u001b[32m'\u001b[0m\u001b[32minit\u001b[0m\u001b[32m=/tmp/tmpsaail0o2/o6e479r2.json'\u001b[0m, \u001b[32m'output'\u001b[0m,                         \u001b[2m             \u001b[0m\n",
       "\u001b[2;36m                    \u001b[0m         \u001b[32m'\u001b[0m\u001b[32mfile\u001b[0m\u001b[32m=/tmp/tmpsaail0o2/prophet_model21xs69ts/prophet_model-2023052018370\u001b[0m \u001b[2m             \u001b[0m\n",
       "\u001b[2;36m                    \u001b[0m         \u001b[32m5.csv'\u001b[0m, \u001b[32m'\u001b[0m\u001b[32mmethod\u001b[0m\u001b[32m=\u001b[0m\u001b[32moptimize\u001b[0m\u001b[32m'\u001b[0m, \u001b[32m'\u001b[0m\u001b[32malgorithm\u001b[0m\u001b[32m=\u001b[0m\u001b[32mnewton\u001b[0m\u001b[32m'\u001b[0m, \u001b[32m'\u001b[0m\u001b[32miter\u001b[0m\u001b[32m=\u001b[0m\u001b[32m10000\u001b[0m\u001b[32m'\u001b[0m\u001b[1m]\u001b[0m             \u001b[2m             \u001b[0m\n"
      ]
     },
     "metadata": {},
     "output_type": "display_data"
    },
    {
     "name": "stderr",
     "output_type": "stream",
     "text": [
      "18:37:05 - cmdstanpy - INFO - Chain [1] start processing\n"
     ]
    },
    {
     "data": {
      "text/html": [
       "<pre style=\"white-space:pre;overflow-x:auto;line-height:normal;font-family:Menlo,'DejaVu Sans Mono',consolas,'Courier New',monospace\"><span style=\"color: #7fbfbf; text-decoration-color: #7fbfbf\">                    </span><span style=\"color: #000080; text-decoration-color: #000080\">INFO    </span> Chain <span style=\"font-weight: bold\">[</span><span style=\"color: #008080; text-decoration-color: #008080; font-weight: bold\">1</span><span style=\"font-weight: bold\">]</span> start processing                                               <a href=\"file:///home/work/Documents/repo/economic_freedom_ml/.venv/lib/python3.8/site-packages/cmdstanpy/model.py\" target=\"_blank\"><span style=\"color: #7f7f7f; text-decoration-color: #7f7f7f\">model.py</span></a><span style=\"color: #7f7f7f; text-decoration-color: #7f7f7f\">:</span><a href=\"file:///home/work/Documents/repo/economic_freedom_ml/.venv/lib/python3.8/site-packages/cmdstanpy/model.py#1693\" target=\"_blank\"><span style=\"color: #7f7f7f; text-decoration-color: #7f7f7f\">1693</span></a>\n",
       "</pre>\n"
      ],
      "text/plain": [
       "\u001b[2;36m                   \u001b[0m\u001b[2;36m \u001b[0m\u001b[34mINFO    \u001b[0m Chain \u001b[1m[\u001b[0m\u001b[1;36m1\u001b[0m\u001b[1m]\u001b[0m start processing                                               \u001b]8;id=45248;file:///home/work/Documents/repo/economic_freedom_ml/.venv/lib/python3.8/site-packages/cmdstanpy/model.py\u001b\\\u001b[2mmodel.py\u001b[0m\u001b]8;;\u001b\\\u001b[2m:\u001b[0m\u001b]8;id=240483;file:///home/work/Documents/repo/economic_freedom_ml/.venv/lib/python3.8/site-packages/cmdstanpy/model.py#1693\u001b\\\u001b[2m1693\u001b[0m\u001b]8;;\u001b\\\n"
      ]
     },
     "metadata": {},
     "output_type": "display_data"
    },
    {
     "name": "stderr",
     "output_type": "stream",
     "text": [
      "18:37:06 - cmdstanpy - INFO - Chain [1] done processing\n"
     ]
    },
    {
     "data": {
      "text/html": [
       "<pre style=\"white-space:pre;overflow-x:auto;line-height:normal;font-family:Menlo,'DejaVu Sans Mono',consolas,'Courier New',monospace\"><span style=\"color: #7fbfbf; text-decoration-color: #7fbfbf\">[05/20/23 18:37:06] </span><span style=\"color: #000080; text-decoration-color: #000080\">INFO    </span> Chain <span style=\"font-weight: bold\">[</span><span style=\"color: #008080; text-decoration-color: #008080; font-weight: bold\">1</span><span style=\"font-weight: bold\">]</span> done processing                                                <a href=\"file:///home/work/Documents/repo/economic_freedom_ml/.venv/lib/python3.8/site-packages/cmdstanpy/model.py\" target=\"_blank\"><span style=\"color: #7f7f7f; text-decoration-color: #7f7f7f\">model.py</span></a><span style=\"color: #7f7f7f; text-decoration-color: #7f7f7f\">:</span><a href=\"file:///home/work/Documents/repo/economic_freedom_ml/.venv/lib/python3.8/site-packages/cmdstanpy/model.py#1750\" target=\"_blank\"><span style=\"color: #7f7f7f; text-decoration-color: #7f7f7f\">1750</span></a>\n",
       "</pre>\n"
      ],
      "text/plain": [
       "\u001b[2;36m[05/20/23 18:37:06]\u001b[0m\u001b[2;36m \u001b[0m\u001b[34mINFO    \u001b[0m Chain \u001b[1m[\u001b[0m\u001b[1;36m1\u001b[0m\u001b[1m]\u001b[0m done processing                                                \u001b]8;id=518268;file:///home/work/Documents/repo/economic_freedom_ml/.venv/lib/python3.8/site-packages/cmdstanpy/model.py\u001b\\\u001b[2mmodel.py\u001b[0m\u001b]8;;\u001b\\\u001b[2m:\u001b[0m\u001b]8;id=274746;file:///home/work/Documents/repo/economic_freedom_ml/.venv/lib/python3.8/site-packages/cmdstanpy/model.py#1750\u001b\\\u001b[2m1750\u001b[0m\u001b]8;;\u001b\\\n"
      ]
     },
     "metadata": {},
     "output_type": "display_data"
    },
    {
     "data": {
      "text/html": [
       "<pre style=\"white-space:pre;overflow-x:auto;line-height:normal;font-family:Menlo,'DejaVu Sans Mono',consolas,'Courier New',monospace\"><span style=\"color: #7fbfbf; text-decoration-color: #7fbfbf\">                    </span><span style=\"color: #000080; text-decoration-color: #000080\">INFO    </span> Disabling weekly seasonality. Run prophet with                       <a href=\"file:///home/work/Documents/repo/economic_freedom_ml/.venv/lib/python3.8/site-packages/prophet/forecaster.py\" target=\"_blank\"><span style=\"color: #7f7f7f; text-decoration-color: #7f7f7f\">forecaster.py</span></a><span style=\"color: #7f7f7f; text-decoration-color: #7f7f7f\">:</span><a href=\"file:///home/work/Documents/repo/economic_freedom_ml/.venv/lib/python3.8/site-packages/prophet/forecaster.py#931\" target=\"_blank\"><span style=\"color: #7f7f7f; text-decoration-color: #7f7f7f\">931</span></a>\n",
       "<span style=\"color: #7fbfbf; text-decoration-color: #7fbfbf\">                    </span>         <span style=\"color: #808000; text-decoration-color: #808000\">weekly_seasonality</span>=<span style=\"color: #00ff00; text-decoration-color: #00ff00; font-style: italic\">True</span> to override this.                            <span style=\"color: #7f7f7f; text-decoration-color: #7f7f7f\">                 </span>\n",
       "</pre>\n"
      ],
      "text/plain": [
       "\u001b[2;36m                   \u001b[0m\u001b[2;36m \u001b[0m\u001b[34mINFO    \u001b[0m Disabling weekly seasonality. Run prophet with                       \u001b]8;id=635825;file:///home/work/Documents/repo/economic_freedom_ml/.venv/lib/python3.8/site-packages/prophet/forecaster.py\u001b\\\u001b[2mforecaster.py\u001b[0m\u001b]8;;\u001b\\\u001b[2m:\u001b[0m\u001b]8;id=702691;file:///home/work/Documents/repo/economic_freedom_ml/.venv/lib/python3.8/site-packages/prophet/forecaster.py#931\u001b\\\u001b[2m931\u001b[0m\u001b]8;;\u001b\\\n",
       "\u001b[2;36m                    \u001b[0m         \u001b[33mweekly_seasonality\u001b[0m=\u001b[3;92mTrue\u001b[0m to override this.                            \u001b[2m                 \u001b[0m\n"
      ]
     },
     "metadata": {},
     "output_type": "display_data"
    },
    {
     "data": {
      "text/html": [
       "<pre style=\"white-space:pre;overflow-x:auto;line-height:normal;font-family:Menlo,'DejaVu Sans Mono',consolas,'Courier New',monospace\"><span style=\"color: #7fbfbf; text-decoration-color: #7fbfbf\">                    </span><span style=\"color: #000080; text-decoration-color: #000080\">INFO    </span> Disabling daily seasonality. Run prophet with <span style=\"color: #808000; text-decoration-color: #808000\">daily_seasonality</span>=<span style=\"color: #00ff00; text-decoration-color: #00ff00; font-style: italic\">True</span> <a href=\"file:///home/work/Documents/repo/economic_freedom_ml/.venv/lib/python3.8/site-packages/prophet/forecaster.py\" target=\"_blank\"><span style=\"color: #7f7f7f; text-decoration-color: #7f7f7f\">forecaster.py</span></a><span style=\"color: #7f7f7f; text-decoration-color: #7f7f7f\">:</span><a href=\"file:///home/work/Documents/repo/economic_freedom_ml/.venv/lib/python3.8/site-packages/prophet/forecaster.py#931\" target=\"_blank\"><span style=\"color: #7f7f7f; text-decoration-color: #7f7f7f\">931</span></a>\n",
       "<span style=\"color: #7fbfbf; text-decoration-color: #7fbfbf\">                    </span>         to override this.                                                    <span style=\"color: #7f7f7f; text-decoration-color: #7f7f7f\">                 </span>\n",
       "</pre>\n"
      ],
      "text/plain": [
       "\u001b[2;36m                   \u001b[0m\u001b[2;36m \u001b[0m\u001b[34mINFO    \u001b[0m Disabling daily seasonality. Run prophet with \u001b[33mdaily_seasonality\u001b[0m=\u001b[3;92mTrue\u001b[0m \u001b]8;id=652753;file:///home/work/Documents/repo/economic_freedom_ml/.venv/lib/python3.8/site-packages/prophet/forecaster.py\u001b\\\u001b[2mforecaster.py\u001b[0m\u001b]8;;\u001b\\\u001b[2m:\u001b[0m\u001b]8;id=368561;file:///home/work/Documents/repo/economic_freedom_ml/.venv/lib/python3.8/site-packages/prophet/forecaster.py#931\u001b\\\u001b[2m931\u001b[0m\u001b]8;;\u001b\\\n",
       "\u001b[2;36m                    \u001b[0m         to override this.                                                    \u001b[2m                 \u001b[0m\n"
      ]
     },
     "metadata": {},
     "output_type": "display_data"
    },
    {
     "data": {
      "text/html": [
       "<pre style=\"white-space:pre;overflow-x:auto;line-height:normal;font-family:Menlo,'DejaVu Sans Mono',consolas,'Courier New',monospace\"><span style=\"color: #7fbfbf; text-decoration-color: #7fbfbf\">                    </span><span style=\"color: #000080; text-decoration-color: #000080\">INFO    </span> n_changepoints greater than number of observations. Using <span style=\"color: #008080; text-decoration-color: #008080; font-weight: bold\">18</span>.        <a href=\"file:///home/work/Documents/repo/economic_freedom_ml/.venv/lib/python3.8/site-packages/prophet/forecaster.py\" target=\"_blank\"><span style=\"color: #7f7f7f; text-decoration-color: #7f7f7f\">forecaster.py</span></a><span style=\"color: #7f7f7f; text-decoration-color: #7f7f7f\">:</span><a href=\"file:///home/work/Documents/repo/economic_freedom_ml/.venv/lib/python3.8/site-packages/prophet/forecaster.py#401\" target=\"_blank\"><span style=\"color: #7f7f7f; text-decoration-color: #7f7f7f\">401</span></a>\n",
       "</pre>\n"
      ],
      "text/plain": [
       "\u001b[2;36m                   \u001b[0m\u001b[2;36m \u001b[0m\u001b[34mINFO    \u001b[0m n_changepoints greater than number of observations. Using \u001b[1;36m18\u001b[0m.        \u001b]8;id=303664;file:///home/work/Documents/repo/economic_freedom_ml/.venv/lib/python3.8/site-packages/prophet/forecaster.py\u001b\\\u001b[2mforecaster.py\u001b[0m\u001b]8;;\u001b\\\u001b[2m:\u001b[0m\u001b]8;id=558958;file:///home/work/Documents/repo/economic_freedom_ml/.venv/lib/python3.8/site-packages/prophet/forecaster.py#401\u001b\\\u001b[2m401\u001b[0m\u001b]8;;\u001b\\\n"
      ]
     },
     "metadata": {},
     "output_type": "display_data"
    },
    {
     "data": {
      "text/html": [
       "<pre style=\"white-space:pre;overflow-x:auto;line-height:normal;font-family:Menlo,'DejaVu Sans Mono',consolas,'Courier New',monospace\"><span style=\"color: #7fbfbf; text-decoration-color: #7fbfbf\">                    </span><span style=\"color: #008000; text-decoration-color: #008000\">DEBUG   </span> input tempfile: <span style=\"color: #800080; text-decoration-color: #800080\">/tmp/tmpsaail0o2/</span><span style=\"color: #ff00ff; text-decoration-color: #ff00ff\">smayp2fd.json</span>                       <a href=\"file:///home/work/Documents/repo/economic_freedom_ml/.venv/lib/python3.8/site-packages/cmdstanpy/utils/filesystem.py\" target=\"_blank\"><span style=\"color: #7f7f7f; text-decoration-color: #7f7f7f\">filesystem.py</span></a><span style=\"color: #7f7f7f; text-decoration-color: #7f7f7f\">:</span><a href=\"file:///home/work/Documents/repo/economic_freedom_ml/.venv/lib/python3.8/site-packages/cmdstanpy/utils/filesystem.py#123\" target=\"_blank\"><span style=\"color: #7f7f7f; text-decoration-color: #7f7f7f\">123</span></a>\n",
       "</pre>\n"
      ],
      "text/plain": [
       "\u001b[2;36m                   \u001b[0m\u001b[2;36m \u001b[0m\u001b[32mDEBUG   \u001b[0m input tempfile: \u001b[35m/tmp/tmpsaail0o2/\u001b[0m\u001b[95msmayp2fd.json\u001b[0m                       \u001b]8;id=673797;file:///home/work/Documents/repo/economic_freedom_ml/.venv/lib/python3.8/site-packages/cmdstanpy/utils/filesystem.py\u001b\\\u001b[2mfilesystem.py\u001b[0m\u001b]8;;\u001b\\\u001b[2m:\u001b[0m\u001b]8;id=189604;file:///home/work/Documents/repo/economic_freedom_ml/.venv/lib/python3.8/site-packages/cmdstanpy/utils/filesystem.py#123\u001b\\\u001b[2m123\u001b[0m\u001b]8;;\u001b\\\n"
      ]
     },
     "metadata": {},
     "output_type": "display_data"
    },
    {
     "data": {
      "text/html": [
       "<pre style=\"white-space:pre;overflow-x:auto;line-height:normal;font-family:Menlo,'DejaVu Sans Mono',consolas,'Courier New',monospace\"><span style=\"color: #7fbfbf; text-decoration-color: #7fbfbf\">                    </span><span style=\"color: #008000; text-decoration-color: #008000\">DEBUG   </span> input tempfile: <span style=\"color: #800080; text-decoration-color: #800080\">/tmp/tmpsaail0o2/</span><span style=\"color: #ff00ff; text-decoration-color: #ff00ff\">l3v6vzj2.json</span>                       <a href=\"file:///home/work/Documents/repo/economic_freedom_ml/.venv/lib/python3.8/site-packages/cmdstanpy/utils/filesystem.py\" target=\"_blank\"><span style=\"color: #7f7f7f; text-decoration-color: #7f7f7f\">filesystem.py</span></a><span style=\"color: #7f7f7f; text-decoration-color: #7f7f7f\">:</span><a href=\"file:///home/work/Documents/repo/economic_freedom_ml/.venv/lib/python3.8/site-packages/cmdstanpy/utils/filesystem.py#123\" target=\"_blank\"><span style=\"color: #7f7f7f; text-decoration-color: #7f7f7f\">123</span></a>\n",
       "</pre>\n"
      ],
      "text/plain": [
       "\u001b[2;36m                   \u001b[0m\u001b[2;36m \u001b[0m\u001b[32mDEBUG   \u001b[0m input tempfile: \u001b[35m/tmp/tmpsaail0o2/\u001b[0m\u001b[95ml3v6vzj2.json\u001b[0m                       \u001b]8;id=166435;file:///home/work/Documents/repo/economic_freedom_ml/.venv/lib/python3.8/site-packages/cmdstanpy/utils/filesystem.py\u001b\\\u001b[2mfilesystem.py\u001b[0m\u001b]8;;\u001b\\\u001b[2m:\u001b[0m\u001b]8;id=544927;file:///home/work/Documents/repo/economic_freedom_ml/.venv/lib/python3.8/site-packages/cmdstanpy/utils/filesystem.py#123\u001b\\\u001b[2m123\u001b[0m\u001b]8;;\u001b\\\n"
      ]
     },
     "metadata": {},
     "output_type": "display_data"
    },
    {
     "data": {
      "text/html": [
       "<pre style=\"white-space:pre;overflow-x:auto;line-height:normal;font-family:Menlo,'DejaVu Sans Mono',consolas,'Courier New',monospace\"><span style=\"color: #7fbfbf; text-decoration-color: #7fbfbf\">                    </span><span style=\"color: #008000; text-decoration-color: #008000\">DEBUG   </span> idx <span style=\"color: #008080; text-decoration-color: #008080; font-weight: bold\">0</span>                                                                    <a href=\"file:///home/work/Documents/repo/economic_freedom_ml/.venv/lib/python3.8/site-packages/cmdstanpy/model.py\" target=\"_blank\"><span style=\"color: #7f7f7f; text-decoration-color: #7f7f7f\">model.py</span></a><span style=\"color: #7f7f7f; text-decoration-color: #7f7f7f\">:</span><a href=\"file:///home/work/Documents/repo/economic_freedom_ml/.venv/lib/python3.8/site-packages/cmdstanpy/model.py#1677\" target=\"_blank\"><span style=\"color: #7f7f7f; text-decoration-color: #7f7f7f\">1677</span></a>\n",
       "</pre>\n"
      ],
      "text/plain": [
       "\u001b[2;36m                   \u001b[0m\u001b[2;36m \u001b[0m\u001b[32mDEBUG   \u001b[0m idx \u001b[1;36m0\u001b[0m                                                                    \u001b]8;id=699706;file:///home/work/Documents/repo/economic_freedom_ml/.venv/lib/python3.8/site-packages/cmdstanpy/model.py\u001b\\\u001b[2mmodel.py\u001b[0m\u001b]8;;\u001b\\\u001b[2m:\u001b[0m\u001b]8;id=557164;file:///home/work/Documents/repo/economic_freedom_ml/.venv/lib/python3.8/site-packages/cmdstanpy/model.py#1677\u001b\\\u001b[2m1677\u001b[0m\u001b]8;;\u001b\\\n"
      ]
     },
     "metadata": {},
     "output_type": "display_data"
    },
    {
     "data": {
      "text/html": [
       "<pre style=\"white-space:pre;overflow-x:auto;line-height:normal;font-family:Menlo,'DejaVu Sans Mono',consolas,'Courier New',monospace\"><span style=\"color: #7fbfbf; text-decoration-color: #7fbfbf\">                    </span><span style=\"color: #008000; text-decoration-color: #008000\">DEBUG   </span> running CmdStan, num_threads: <span style=\"color: #800080; text-decoration-color: #800080; font-style: italic\">None</span>                                       <a href=\"file:///home/work/Documents/repo/economic_freedom_ml/.venv/lib/python3.8/site-packages/cmdstanpy/model.py\" target=\"_blank\"><span style=\"color: #7f7f7f; text-decoration-color: #7f7f7f\">model.py</span></a><span style=\"color: #7f7f7f; text-decoration-color: #7f7f7f\">:</span><a href=\"file:///home/work/Documents/repo/economic_freedom_ml/.venv/lib/python3.8/site-packages/cmdstanpy/model.py#1678\" target=\"_blank\"><span style=\"color: #7f7f7f; text-decoration-color: #7f7f7f\">1678</span></a>\n",
       "</pre>\n"
      ],
      "text/plain": [
       "\u001b[2;36m                   \u001b[0m\u001b[2;36m \u001b[0m\u001b[32mDEBUG   \u001b[0m running CmdStan, num_threads: \u001b[3;35mNone\u001b[0m                                       \u001b]8;id=510363;file:///home/work/Documents/repo/economic_freedom_ml/.venv/lib/python3.8/site-packages/cmdstanpy/model.py\u001b\\\u001b[2mmodel.py\u001b[0m\u001b]8;;\u001b\\\u001b[2m:\u001b[0m\u001b]8;id=528061;file:///home/work/Documents/repo/economic_freedom_ml/.venv/lib/python3.8/site-packages/cmdstanpy/model.py#1678\u001b\\\u001b[2m1678\u001b[0m\u001b]8;;\u001b\\\n"
      ]
     },
     "metadata": {},
     "output_type": "display_data"
    },
    {
     "data": {
      "text/html": [
       "<pre style=\"white-space:pre;overflow-x:auto;line-height:normal;font-family:Menlo,'DejaVu Sans Mono',consolas,'Courier New',monospace\"><span style=\"color: #7fbfbf; text-decoration-color: #7fbfbf\">                    </span><span style=\"color: #008000; text-decoration-color: #008000\">DEBUG   </span> CmdStan args:                                                            <a href=\"file:///home/work/Documents/repo/economic_freedom_ml/.venv/lib/python3.8/site-packages/cmdstanpy/model.py\" target=\"_blank\"><span style=\"color: #7f7f7f; text-decoration-color: #7f7f7f\">model.py</span></a><span style=\"color: #7f7f7f; text-decoration-color: #7f7f7f\">:</span><a href=\"file:///home/work/Documents/repo/economic_freedom_ml/.venv/lib/python3.8/site-packages/cmdstanpy/model.py#1690\" target=\"_blank\"><span style=\"color: #7f7f7f; text-decoration-color: #7f7f7f\">1690</span></a>\n",
       "<span style=\"color: #7fbfbf; text-decoration-color: #7fbfbf\">                    </span>         <span style=\"font-weight: bold\">[</span><span style=\"color: #008000; text-decoration-color: #008000\">'/home/work/Documents/repo/economic_freedom_ml/.venv/lib/python3.8/site</span> <span style=\"color: #7f7f7f; text-decoration-color: #7f7f7f\">             </span>\n",
       "<span style=\"color: #7fbfbf; text-decoration-color: #7fbfbf\">                    </span>         <span style=\"color: #008000; text-decoration-color: #008000\">-packages/prophet/stan_model/prophet_model.bin'</span>, <span style=\"color: #008000; text-decoration-color: #008000\">'random'</span>, <span style=\"color: #008000; text-decoration-color: #008000\">'seed=1927'</span>,  <span style=\"color: #7f7f7f; text-decoration-color: #7f7f7f\">             </span>\n",
       "<span style=\"color: #7fbfbf; text-decoration-color: #7fbfbf\">                    </span>         <span style=\"color: #008000; text-decoration-color: #008000\">'data'</span>, <span style=\"color: #008000; text-decoration-color: #008000\">'file=/tmp/tmpsaail0o2/smayp2fd.json'</span>,                           <span style=\"color: #7f7f7f; text-decoration-color: #7f7f7f\">             </span>\n",
       "<span style=\"color: #7fbfbf; text-decoration-color: #7fbfbf\">                    </span>         <span style=\"color: #008000; text-decoration-color: #008000\">'init=/tmp/tmpsaail0o2/l3v6vzj2.json'</span>, <span style=\"color: #008000; text-decoration-color: #008000\">'output'</span>,                         <span style=\"color: #7f7f7f; text-decoration-color: #7f7f7f\">             </span>\n",
       "<span style=\"color: #7fbfbf; text-decoration-color: #7fbfbf\">                    </span>         <span style=\"color: #008000; text-decoration-color: #008000\">'file=/tmp/tmpsaail0o2/prophet_modelmzf2go2n/prophet_model-2023052018370</span> <span style=\"color: #7f7f7f; text-decoration-color: #7f7f7f\">             </span>\n",
       "<span style=\"color: #7fbfbf; text-decoration-color: #7fbfbf\">                    </span>         <span style=\"color: #008000; text-decoration-color: #008000\">6.csv'</span>, <span style=\"color: #008000; text-decoration-color: #008000\">'method=optimize'</span>, <span style=\"color: #008000; text-decoration-color: #008000\">'algorithm=newton'</span>, <span style=\"color: #008000; text-decoration-color: #008000\">'iter=10000'</span><span style=\"font-weight: bold\">]</span>             <span style=\"color: #7f7f7f; text-decoration-color: #7f7f7f\">             </span>\n",
       "</pre>\n"
      ],
      "text/plain": [
       "\u001b[2;36m                   \u001b[0m\u001b[2;36m \u001b[0m\u001b[32mDEBUG   \u001b[0m CmdStan args:                                                            \u001b]8;id=988665;file:///home/work/Documents/repo/economic_freedom_ml/.venv/lib/python3.8/site-packages/cmdstanpy/model.py\u001b\\\u001b[2mmodel.py\u001b[0m\u001b]8;;\u001b\\\u001b[2m:\u001b[0m\u001b]8;id=290892;file:///home/work/Documents/repo/economic_freedom_ml/.venv/lib/python3.8/site-packages/cmdstanpy/model.py#1690\u001b\\\u001b[2m1690\u001b[0m\u001b]8;;\u001b\\\n",
       "\u001b[2;36m                    \u001b[0m         \u001b[1m[\u001b[0m\u001b[32m'/home/work/Documents/repo/economic_freedom_ml/.venv/lib/python3.8/site\u001b[0m \u001b[2m             \u001b[0m\n",
       "\u001b[2;36m                    \u001b[0m         \u001b[32m-packages/prophet/stan_model/prophet_model.bin'\u001b[0m, \u001b[32m'random'\u001b[0m, \u001b[32m'\u001b[0m\u001b[32mseed\u001b[0m\u001b[32m=\u001b[0m\u001b[32m1927\u001b[0m\u001b[32m'\u001b[0m,  \u001b[2m             \u001b[0m\n",
       "\u001b[2;36m                    \u001b[0m         \u001b[32m'data'\u001b[0m, \u001b[32m'\u001b[0m\u001b[32mfile\u001b[0m\u001b[32m=/tmp/tmpsaail0o2/smayp2fd.json'\u001b[0m,                           \u001b[2m             \u001b[0m\n",
       "\u001b[2;36m                    \u001b[0m         \u001b[32m'\u001b[0m\u001b[32minit\u001b[0m\u001b[32m=/tmp/tmpsaail0o2/l3v6vzj2.json'\u001b[0m, \u001b[32m'output'\u001b[0m,                         \u001b[2m             \u001b[0m\n",
       "\u001b[2;36m                    \u001b[0m         \u001b[32m'\u001b[0m\u001b[32mfile\u001b[0m\u001b[32m=/tmp/tmpsaail0o2/prophet_modelmzf2go2n/prophet_model-2023052018370\u001b[0m \u001b[2m             \u001b[0m\n",
       "\u001b[2;36m                    \u001b[0m         \u001b[32m6.csv'\u001b[0m, \u001b[32m'\u001b[0m\u001b[32mmethod\u001b[0m\u001b[32m=\u001b[0m\u001b[32moptimize\u001b[0m\u001b[32m'\u001b[0m, \u001b[32m'\u001b[0m\u001b[32malgorithm\u001b[0m\u001b[32m=\u001b[0m\u001b[32mnewton\u001b[0m\u001b[32m'\u001b[0m, \u001b[32m'\u001b[0m\u001b[32miter\u001b[0m\u001b[32m=\u001b[0m\u001b[32m10000\u001b[0m\u001b[32m'\u001b[0m\u001b[1m]\u001b[0m             \u001b[2m             \u001b[0m\n"
      ]
     },
     "metadata": {},
     "output_type": "display_data"
    },
    {
     "name": "stderr",
     "output_type": "stream",
     "text": [
      "18:37:06 - cmdstanpy - INFO - Chain [1] start processing\n"
     ]
    },
    {
     "data": {
      "text/html": [
       "<pre style=\"white-space:pre;overflow-x:auto;line-height:normal;font-family:Menlo,'DejaVu Sans Mono',consolas,'Courier New',monospace\"><span style=\"color: #7fbfbf; text-decoration-color: #7fbfbf\">                    </span><span style=\"color: #000080; text-decoration-color: #000080\">INFO    </span> Chain <span style=\"font-weight: bold\">[</span><span style=\"color: #008080; text-decoration-color: #008080; font-weight: bold\">1</span><span style=\"font-weight: bold\">]</span> start processing                                               <a href=\"file:///home/work/Documents/repo/economic_freedom_ml/.venv/lib/python3.8/site-packages/cmdstanpy/model.py\" target=\"_blank\"><span style=\"color: #7f7f7f; text-decoration-color: #7f7f7f\">model.py</span></a><span style=\"color: #7f7f7f; text-decoration-color: #7f7f7f\">:</span><a href=\"file:///home/work/Documents/repo/economic_freedom_ml/.venv/lib/python3.8/site-packages/cmdstanpy/model.py#1693\" target=\"_blank\"><span style=\"color: #7f7f7f; text-decoration-color: #7f7f7f\">1693</span></a>\n",
       "</pre>\n"
      ],
      "text/plain": [
       "\u001b[2;36m                   \u001b[0m\u001b[2;36m \u001b[0m\u001b[34mINFO    \u001b[0m Chain \u001b[1m[\u001b[0m\u001b[1;36m1\u001b[0m\u001b[1m]\u001b[0m start processing                                               \u001b]8;id=599475;file:///home/work/Documents/repo/economic_freedom_ml/.venv/lib/python3.8/site-packages/cmdstanpy/model.py\u001b\\\u001b[2mmodel.py\u001b[0m\u001b]8;;\u001b\\\u001b[2m:\u001b[0m\u001b]8;id=155526;file:///home/work/Documents/repo/economic_freedom_ml/.venv/lib/python3.8/site-packages/cmdstanpy/model.py#1693\u001b\\\u001b[2m1693\u001b[0m\u001b]8;;\u001b\\\n"
      ]
     },
     "metadata": {},
     "output_type": "display_data"
    },
    {
     "name": "stderr",
     "output_type": "stream",
     "text": [
      "18:37:06 - cmdstanpy - INFO - Chain [1] done processing\n"
     ]
    },
    {
     "data": {
      "text/html": [
       "<pre style=\"white-space:pre;overflow-x:auto;line-height:normal;font-family:Menlo,'DejaVu Sans Mono',consolas,'Courier New',monospace\"><span style=\"color: #7fbfbf; text-decoration-color: #7fbfbf\">                    </span><span style=\"color: #000080; text-decoration-color: #000080\">INFO    </span> Chain <span style=\"font-weight: bold\">[</span><span style=\"color: #008080; text-decoration-color: #008080; font-weight: bold\">1</span><span style=\"font-weight: bold\">]</span> done processing                                                <a href=\"file:///home/work/Documents/repo/economic_freedom_ml/.venv/lib/python3.8/site-packages/cmdstanpy/model.py\" target=\"_blank\"><span style=\"color: #7f7f7f; text-decoration-color: #7f7f7f\">model.py</span></a><span style=\"color: #7f7f7f; text-decoration-color: #7f7f7f\">:</span><a href=\"file:///home/work/Documents/repo/economic_freedom_ml/.venv/lib/python3.8/site-packages/cmdstanpy/model.py#1750\" target=\"_blank\"><span style=\"color: #7f7f7f; text-decoration-color: #7f7f7f\">1750</span></a>\n",
       "</pre>\n"
      ],
      "text/plain": [
       "\u001b[2;36m                   \u001b[0m\u001b[2;36m \u001b[0m\u001b[34mINFO    \u001b[0m Chain \u001b[1m[\u001b[0m\u001b[1;36m1\u001b[0m\u001b[1m]\u001b[0m done processing                                                \u001b]8;id=888377;file:///home/work/Documents/repo/economic_freedom_ml/.venv/lib/python3.8/site-packages/cmdstanpy/model.py\u001b\\\u001b[2mmodel.py\u001b[0m\u001b]8;;\u001b\\\u001b[2m:\u001b[0m\u001b]8;id=381911;file:///home/work/Documents/repo/economic_freedom_ml/.venv/lib/python3.8/site-packages/cmdstanpy/model.py#1750\u001b\\\u001b[2m1750\u001b[0m\u001b]8;;\u001b\\\n"
      ]
     },
     "metadata": {},
     "output_type": "display_data"
    },
    {
     "data": {
      "text/html": [
       "<pre style=\"white-space:pre;overflow-x:auto;line-height:normal;font-family:Menlo,'DejaVu Sans Mono',consolas,'Courier New',monospace\"><span style=\"color: #7fbfbf; text-decoration-color: #7fbfbf\">                    </span><span style=\"color: #000080; text-decoration-color: #000080\">INFO    </span> Disabling weekly seasonality. Run prophet with                       <a href=\"file:///home/work/Documents/repo/economic_freedom_ml/.venv/lib/python3.8/site-packages/prophet/forecaster.py\" target=\"_blank\"><span style=\"color: #7f7f7f; text-decoration-color: #7f7f7f\">forecaster.py</span></a><span style=\"color: #7f7f7f; text-decoration-color: #7f7f7f\">:</span><a href=\"file:///home/work/Documents/repo/economic_freedom_ml/.venv/lib/python3.8/site-packages/prophet/forecaster.py#931\" target=\"_blank\"><span style=\"color: #7f7f7f; text-decoration-color: #7f7f7f\">931</span></a>\n",
       "<span style=\"color: #7fbfbf; text-decoration-color: #7fbfbf\">                    </span>         <span style=\"color: #808000; text-decoration-color: #808000\">weekly_seasonality</span>=<span style=\"color: #00ff00; text-decoration-color: #00ff00; font-style: italic\">True</span> to override this.                            <span style=\"color: #7f7f7f; text-decoration-color: #7f7f7f\">                 </span>\n",
       "</pre>\n"
      ],
      "text/plain": [
       "\u001b[2;36m                   \u001b[0m\u001b[2;36m \u001b[0m\u001b[34mINFO    \u001b[0m Disabling weekly seasonality. Run prophet with                       \u001b]8;id=8725;file:///home/work/Documents/repo/economic_freedom_ml/.venv/lib/python3.8/site-packages/prophet/forecaster.py\u001b\\\u001b[2mforecaster.py\u001b[0m\u001b]8;;\u001b\\\u001b[2m:\u001b[0m\u001b]8;id=79541;file:///home/work/Documents/repo/economic_freedom_ml/.venv/lib/python3.8/site-packages/prophet/forecaster.py#931\u001b\\\u001b[2m931\u001b[0m\u001b]8;;\u001b\\\n",
       "\u001b[2;36m                    \u001b[0m         \u001b[33mweekly_seasonality\u001b[0m=\u001b[3;92mTrue\u001b[0m to override this.                            \u001b[2m                 \u001b[0m\n"
      ]
     },
     "metadata": {},
     "output_type": "display_data"
    },
    {
     "data": {
      "text/html": [
       "<pre style=\"white-space:pre;overflow-x:auto;line-height:normal;font-family:Menlo,'DejaVu Sans Mono',consolas,'Courier New',monospace\"><span style=\"color: #7fbfbf; text-decoration-color: #7fbfbf\">                    </span><span style=\"color: #000080; text-decoration-color: #000080\">INFO    </span> Disabling daily seasonality. Run prophet with <span style=\"color: #808000; text-decoration-color: #808000\">daily_seasonality</span>=<span style=\"color: #00ff00; text-decoration-color: #00ff00; font-style: italic\">True</span> <a href=\"file:///home/work/Documents/repo/economic_freedom_ml/.venv/lib/python3.8/site-packages/prophet/forecaster.py\" target=\"_blank\"><span style=\"color: #7f7f7f; text-decoration-color: #7f7f7f\">forecaster.py</span></a><span style=\"color: #7f7f7f; text-decoration-color: #7f7f7f\">:</span><a href=\"file:///home/work/Documents/repo/economic_freedom_ml/.venv/lib/python3.8/site-packages/prophet/forecaster.py#931\" target=\"_blank\"><span style=\"color: #7f7f7f; text-decoration-color: #7f7f7f\">931</span></a>\n",
       "<span style=\"color: #7fbfbf; text-decoration-color: #7fbfbf\">                    </span>         to override this.                                                    <span style=\"color: #7f7f7f; text-decoration-color: #7f7f7f\">                 </span>\n",
       "</pre>\n"
      ],
      "text/plain": [
       "\u001b[2;36m                   \u001b[0m\u001b[2;36m \u001b[0m\u001b[34mINFO    \u001b[0m Disabling daily seasonality. Run prophet with \u001b[33mdaily_seasonality\u001b[0m=\u001b[3;92mTrue\u001b[0m \u001b]8;id=905719;file:///home/work/Documents/repo/economic_freedom_ml/.venv/lib/python3.8/site-packages/prophet/forecaster.py\u001b\\\u001b[2mforecaster.py\u001b[0m\u001b]8;;\u001b\\\u001b[2m:\u001b[0m\u001b]8;id=258217;file:///home/work/Documents/repo/economic_freedom_ml/.venv/lib/python3.8/site-packages/prophet/forecaster.py#931\u001b\\\u001b[2m931\u001b[0m\u001b]8;;\u001b\\\n",
       "\u001b[2;36m                    \u001b[0m         to override this.                                                    \u001b[2m                 \u001b[0m\n"
      ]
     },
     "metadata": {},
     "output_type": "display_data"
    },
    {
     "data": {
      "text/html": [
       "<pre style=\"white-space:pre;overflow-x:auto;line-height:normal;font-family:Menlo,'DejaVu Sans Mono',consolas,'Courier New',monospace\"><span style=\"color: #7fbfbf; text-decoration-color: #7fbfbf\">                    </span><span style=\"color: #000080; text-decoration-color: #000080\">INFO    </span> n_changepoints greater than number of observations. Using <span style=\"color: #008080; text-decoration-color: #008080; font-weight: bold\">18</span>.        <a href=\"file:///home/work/Documents/repo/economic_freedom_ml/.venv/lib/python3.8/site-packages/prophet/forecaster.py\" target=\"_blank\"><span style=\"color: #7f7f7f; text-decoration-color: #7f7f7f\">forecaster.py</span></a><span style=\"color: #7f7f7f; text-decoration-color: #7f7f7f\">:</span><a href=\"file:///home/work/Documents/repo/economic_freedom_ml/.venv/lib/python3.8/site-packages/prophet/forecaster.py#401\" target=\"_blank\"><span style=\"color: #7f7f7f; text-decoration-color: #7f7f7f\">401</span></a>\n",
       "</pre>\n"
      ],
      "text/plain": [
       "\u001b[2;36m                   \u001b[0m\u001b[2;36m \u001b[0m\u001b[34mINFO    \u001b[0m n_changepoints greater than number of observations. Using \u001b[1;36m18\u001b[0m.        \u001b]8;id=243186;file:///home/work/Documents/repo/economic_freedom_ml/.venv/lib/python3.8/site-packages/prophet/forecaster.py\u001b\\\u001b[2mforecaster.py\u001b[0m\u001b]8;;\u001b\\\u001b[2m:\u001b[0m\u001b]8;id=211459;file:///home/work/Documents/repo/economic_freedom_ml/.venv/lib/python3.8/site-packages/prophet/forecaster.py#401\u001b\\\u001b[2m401\u001b[0m\u001b]8;;\u001b\\\n"
      ]
     },
     "metadata": {},
     "output_type": "display_data"
    },
    {
     "data": {
      "text/html": [
       "<pre style=\"white-space:pre;overflow-x:auto;line-height:normal;font-family:Menlo,'DejaVu Sans Mono',consolas,'Courier New',monospace\"><span style=\"color: #7fbfbf; text-decoration-color: #7fbfbf\">                    </span><span style=\"color: #008000; text-decoration-color: #008000\">DEBUG   </span> input tempfile: <span style=\"color: #800080; text-decoration-color: #800080\">/tmp/tmpsaail0o2/</span><span style=\"color: #ff00ff; text-decoration-color: #ff00ff\">l_ltaarq.json</span>                       <a href=\"file:///home/work/Documents/repo/economic_freedom_ml/.venv/lib/python3.8/site-packages/cmdstanpy/utils/filesystem.py\" target=\"_blank\"><span style=\"color: #7f7f7f; text-decoration-color: #7f7f7f\">filesystem.py</span></a><span style=\"color: #7f7f7f; text-decoration-color: #7f7f7f\">:</span><a href=\"file:///home/work/Documents/repo/economic_freedom_ml/.venv/lib/python3.8/site-packages/cmdstanpy/utils/filesystem.py#123\" target=\"_blank\"><span style=\"color: #7f7f7f; text-decoration-color: #7f7f7f\">123</span></a>\n",
       "</pre>\n"
      ],
      "text/plain": [
       "\u001b[2;36m                   \u001b[0m\u001b[2;36m \u001b[0m\u001b[32mDEBUG   \u001b[0m input tempfile: \u001b[35m/tmp/tmpsaail0o2/\u001b[0m\u001b[95ml_ltaarq.json\u001b[0m                       \u001b]8;id=829562;file:///home/work/Documents/repo/economic_freedom_ml/.venv/lib/python3.8/site-packages/cmdstanpy/utils/filesystem.py\u001b\\\u001b[2mfilesystem.py\u001b[0m\u001b]8;;\u001b\\\u001b[2m:\u001b[0m\u001b]8;id=244793;file:///home/work/Documents/repo/economic_freedom_ml/.venv/lib/python3.8/site-packages/cmdstanpy/utils/filesystem.py#123\u001b\\\u001b[2m123\u001b[0m\u001b]8;;\u001b\\\n"
      ]
     },
     "metadata": {},
     "output_type": "display_data"
    },
    {
     "data": {
      "text/html": [
       "<pre style=\"white-space:pre;overflow-x:auto;line-height:normal;font-family:Menlo,'DejaVu Sans Mono',consolas,'Courier New',monospace\"><span style=\"color: #7fbfbf; text-decoration-color: #7fbfbf\">                    </span><span style=\"color: #008000; text-decoration-color: #008000\">DEBUG   </span> input tempfile: <span style=\"color: #800080; text-decoration-color: #800080\">/tmp/tmpsaail0o2/</span><span style=\"color: #ff00ff; text-decoration-color: #ff00ff\">u8nxxjp6.json</span>                       <a href=\"file:///home/work/Documents/repo/economic_freedom_ml/.venv/lib/python3.8/site-packages/cmdstanpy/utils/filesystem.py\" target=\"_blank\"><span style=\"color: #7f7f7f; text-decoration-color: #7f7f7f\">filesystem.py</span></a><span style=\"color: #7f7f7f; text-decoration-color: #7f7f7f\">:</span><a href=\"file:///home/work/Documents/repo/economic_freedom_ml/.venv/lib/python3.8/site-packages/cmdstanpy/utils/filesystem.py#123\" target=\"_blank\"><span style=\"color: #7f7f7f; text-decoration-color: #7f7f7f\">123</span></a>\n",
       "</pre>\n"
      ],
      "text/plain": [
       "\u001b[2;36m                   \u001b[0m\u001b[2;36m \u001b[0m\u001b[32mDEBUG   \u001b[0m input tempfile: \u001b[35m/tmp/tmpsaail0o2/\u001b[0m\u001b[95mu8nxxjp6.json\u001b[0m                       \u001b]8;id=51285;file:///home/work/Documents/repo/economic_freedom_ml/.venv/lib/python3.8/site-packages/cmdstanpy/utils/filesystem.py\u001b\\\u001b[2mfilesystem.py\u001b[0m\u001b]8;;\u001b\\\u001b[2m:\u001b[0m\u001b]8;id=611873;file:///home/work/Documents/repo/economic_freedom_ml/.venv/lib/python3.8/site-packages/cmdstanpy/utils/filesystem.py#123\u001b\\\u001b[2m123\u001b[0m\u001b]8;;\u001b\\\n"
      ]
     },
     "metadata": {},
     "output_type": "display_data"
    },
    {
     "data": {
      "text/html": [
       "<pre style=\"white-space:pre;overflow-x:auto;line-height:normal;font-family:Menlo,'DejaVu Sans Mono',consolas,'Courier New',monospace\"><span style=\"color: #7fbfbf; text-decoration-color: #7fbfbf\">                    </span><span style=\"color: #008000; text-decoration-color: #008000\">DEBUG   </span> idx <span style=\"color: #008080; text-decoration-color: #008080; font-weight: bold\">0</span>                                                                    <a href=\"file:///home/work/Documents/repo/economic_freedom_ml/.venv/lib/python3.8/site-packages/cmdstanpy/model.py\" target=\"_blank\"><span style=\"color: #7f7f7f; text-decoration-color: #7f7f7f\">model.py</span></a><span style=\"color: #7f7f7f; text-decoration-color: #7f7f7f\">:</span><a href=\"file:///home/work/Documents/repo/economic_freedom_ml/.venv/lib/python3.8/site-packages/cmdstanpy/model.py#1677\" target=\"_blank\"><span style=\"color: #7f7f7f; text-decoration-color: #7f7f7f\">1677</span></a>\n",
       "</pre>\n"
      ],
      "text/plain": [
       "\u001b[2;36m                   \u001b[0m\u001b[2;36m \u001b[0m\u001b[32mDEBUG   \u001b[0m idx \u001b[1;36m0\u001b[0m                                                                    \u001b]8;id=580863;file:///home/work/Documents/repo/economic_freedom_ml/.venv/lib/python3.8/site-packages/cmdstanpy/model.py\u001b\\\u001b[2mmodel.py\u001b[0m\u001b]8;;\u001b\\\u001b[2m:\u001b[0m\u001b]8;id=706062;file:///home/work/Documents/repo/economic_freedom_ml/.venv/lib/python3.8/site-packages/cmdstanpy/model.py#1677\u001b\\\u001b[2m1677\u001b[0m\u001b]8;;\u001b\\\n"
      ]
     },
     "metadata": {},
     "output_type": "display_data"
    },
    {
     "data": {
      "text/html": [
       "<pre style=\"white-space:pre;overflow-x:auto;line-height:normal;font-family:Menlo,'DejaVu Sans Mono',consolas,'Courier New',monospace\"><span style=\"color: #7fbfbf; text-decoration-color: #7fbfbf\">                    </span><span style=\"color: #008000; text-decoration-color: #008000\">DEBUG   </span> running CmdStan, num_threads: <span style=\"color: #800080; text-decoration-color: #800080; font-style: italic\">None</span>                                       <a href=\"file:///home/work/Documents/repo/economic_freedom_ml/.venv/lib/python3.8/site-packages/cmdstanpy/model.py\" target=\"_blank\"><span style=\"color: #7f7f7f; text-decoration-color: #7f7f7f\">model.py</span></a><span style=\"color: #7f7f7f; text-decoration-color: #7f7f7f\">:</span><a href=\"file:///home/work/Documents/repo/economic_freedom_ml/.venv/lib/python3.8/site-packages/cmdstanpy/model.py#1678\" target=\"_blank\"><span style=\"color: #7f7f7f; text-decoration-color: #7f7f7f\">1678</span></a>\n",
       "</pre>\n"
      ],
      "text/plain": [
       "\u001b[2;36m                   \u001b[0m\u001b[2;36m \u001b[0m\u001b[32mDEBUG   \u001b[0m running CmdStan, num_threads: \u001b[3;35mNone\u001b[0m                                       \u001b]8;id=216715;file:///home/work/Documents/repo/economic_freedom_ml/.venv/lib/python3.8/site-packages/cmdstanpy/model.py\u001b\\\u001b[2mmodel.py\u001b[0m\u001b]8;;\u001b\\\u001b[2m:\u001b[0m\u001b]8;id=814434;file:///home/work/Documents/repo/economic_freedom_ml/.venv/lib/python3.8/site-packages/cmdstanpy/model.py#1678\u001b\\\u001b[2m1678\u001b[0m\u001b]8;;\u001b\\\n"
      ]
     },
     "metadata": {},
     "output_type": "display_data"
    },
    {
     "data": {
      "text/html": [
       "<pre style=\"white-space:pre;overflow-x:auto;line-height:normal;font-family:Menlo,'DejaVu Sans Mono',consolas,'Courier New',monospace\"><span style=\"color: #7fbfbf; text-decoration-color: #7fbfbf\">                    </span><span style=\"color: #008000; text-decoration-color: #008000\">DEBUG   </span> CmdStan args:                                                            <a href=\"file:///home/work/Documents/repo/economic_freedom_ml/.venv/lib/python3.8/site-packages/cmdstanpy/model.py\" target=\"_blank\"><span style=\"color: #7f7f7f; text-decoration-color: #7f7f7f\">model.py</span></a><span style=\"color: #7f7f7f; text-decoration-color: #7f7f7f\">:</span><a href=\"file:///home/work/Documents/repo/economic_freedom_ml/.venv/lib/python3.8/site-packages/cmdstanpy/model.py#1690\" target=\"_blank\"><span style=\"color: #7f7f7f; text-decoration-color: #7f7f7f\">1690</span></a>\n",
       "<span style=\"color: #7fbfbf; text-decoration-color: #7fbfbf\">                    </span>         <span style=\"font-weight: bold\">[</span><span style=\"color: #008000; text-decoration-color: #008000\">'/home/work/Documents/repo/economic_freedom_ml/.venv/lib/python3.8/site</span> <span style=\"color: #7f7f7f; text-decoration-color: #7f7f7f\">             </span>\n",
       "<span style=\"color: #7fbfbf; text-decoration-color: #7fbfbf\">                    </span>         <span style=\"color: #008000; text-decoration-color: #008000\">-packages/prophet/stan_model/prophet_model.bin'</span>, <span style=\"color: #008000; text-decoration-color: #008000\">'random'</span>, <span style=\"color: #008000; text-decoration-color: #008000\">'seed=96255'</span>, <span style=\"color: #7f7f7f; text-decoration-color: #7f7f7f\">             </span>\n",
       "<span style=\"color: #7fbfbf; text-decoration-color: #7fbfbf\">                    </span>         <span style=\"color: #008000; text-decoration-color: #008000\">'data'</span>, <span style=\"color: #008000; text-decoration-color: #008000\">'file=/tmp/tmpsaail0o2/l_ltaarq.json'</span>,                           <span style=\"color: #7f7f7f; text-decoration-color: #7f7f7f\">             </span>\n",
       "<span style=\"color: #7fbfbf; text-decoration-color: #7fbfbf\">                    </span>         <span style=\"color: #008000; text-decoration-color: #008000\">'init=/tmp/tmpsaail0o2/u8nxxjp6.json'</span>, <span style=\"color: #008000; text-decoration-color: #008000\">'output'</span>,                         <span style=\"color: #7f7f7f; text-decoration-color: #7f7f7f\">             </span>\n",
       "<span style=\"color: #7fbfbf; text-decoration-color: #7fbfbf\">                    </span>         <span style=\"color: #008000; text-decoration-color: #008000\">'file=/tmp/tmpsaail0o2/prophet_modeljwbqztlo/prophet_model-2023052018370</span> <span style=\"color: #7f7f7f; text-decoration-color: #7f7f7f\">             </span>\n",
       "<span style=\"color: #7fbfbf; text-decoration-color: #7fbfbf\">                    </span>         <span style=\"color: #008000; text-decoration-color: #008000\">6.csv'</span>, <span style=\"color: #008000; text-decoration-color: #008000\">'method=optimize'</span>, <span style=\"color: #008000; text-decoration-color: #008000\">'algorithm=newton'</span>, <span style=\"color: #008000; text-decoration-color: #008000\">'iter=10000'</span><span style=\"font-weight: bold\">]</span>             <span style=\"color: #7f7f7f; text-decoration-color: #7f7f7f\">             </span>\n",
       "</pre>\n"
      ],
      "text/plain": [
       "\u001b[2;36m                   \u001b[0m\u001b[2;36m \u001b[0m\u001b[32mDEBUG   \u001b[0m CmdStan args:                                                            \u001b]8;id=407508;file:///home/work/Documents/repo/economic_freedom_ml/.venv/lib/python3.8/site-packages/cmdstanpy/model.py\u001b\\\u001b[2mmodel.py\u001b[0m\u001b]8;;\u001b\\\u001b[2m:\u001b[0m\u001b]8;id=996234;file:///home/work/Documents/repo/economic_freedom_ml/.venv/lib/python3.8/site-packages/cmdstanpy/model.py#1690\u001b\\\u001b[2m1690\u001b[0m\u001b]8;;\u001b\\\n",
       "\u001b[2;36m                    \u001b[0m         \u001b[1m[\u001b[0m\u001b[32m'/home/work/Documents/repo/economic_freedom_ml/.venv/lib/python3.8/site\u001b[0m \u001b[2m             \u001b[0m\n",
       "\u001b[2;36m                    \u001b[0m         \u001b[32m-packages/prophet/stan_model/prophet_model.bin'\u001b[0m, \u001b[32m'random'\u001b[0m, \u001b[32m'\u001b[0m\u001b[32mseed\u001b[0m\u001b[32m=\u001b[0m\u001b[32m96255\u001b[0m\u001b[32m'\u001b[0m, \u001b[2m             \u001b[0m\n",
       "\u001b[2;36m                    \u001b[0m         \u001b[32m'data'\u001b[0m, \u001b[32m'\u001b[0m\u001b[32mfile\u001b[0m\u001b[32m=/tmp/tmpsaail0o2/l_ltaarq.json'\u001b[0m,                           \u001b[2m             \u001b[0m\n",
       "\u001b[2;36m                    \u001b[0m         \u001b[32m'\u001b[0m\u001b[32minit\u001b[0m\u001b[32m=/tmp/tmpsaail0o2/u8nxxjp6.json'\u001b[0m, \u001b[32m'output'\u001b[0m,                         \u001b[2m             \u001b[0m\n",
       "\u001b[2;36m                    \u001b[0m         \u001b[32m'\u001b[0m\u001b[32mfile\u001b[0m\u001b[32m=/tmp/tmpsaail0o2/prophet_modeljwbqztlo/prophet_model-2023052018370\u001b[0m \u001b[2m             \u001b[0m\n",
       "\u001b[2;36m                    \u001b[0m         \u001b[32m6.csv'\u001b[0m, \u001b[32m'\u001b[0m\u001b[32mmethod\u001b[0m\u001b[32m=\u001b[0m\u001b[32moptimize\u001b[0m\u001b[32m'\u001b[0m, \u001b[32m'\u001b[0m\u001b[32malgorithm\u001b[0m\u001b[32m=\u001b[0m\u001b[32mnewton\u001b[0m\u001b[32m'\u001b[0m, \u001b[32m'\u001b[0m\u001b[32miter\u001b[0m\u001b[32m=\u001b[0m\u001b[32m10000\u001b[0m\u001b[32m'\u001b[0m\u001b[1m]\u001b[0m             \u001b[2m             \u001b[0m\n"
      ]
     },
     "metadata": {},
     "output_type": "display_data"
    },
    {
     "name": "stderr",
     "output_type": "stream",
     "text": [
      "18:37:06 - cmdstanpy - INFO - Chain [1] start processing\n"
     ]
    },
    {
     "data": {
      "text/html": [
       "<pre style=\"white-space:pre;overflow-x:auto;line-height:normal;font-family:Menlo,'DejaVu Sans Mono',consolas,'Courier New',monospace\"><span style=\"color: #7fbfbf; text-decoration-color: #7fbfbf\">                    </span><span style=\"color: #000080; text-decoration-color: #000080\">INFO    </span> Chain <span style=\"font-weight: bold\">[</span><span style=\"color: #008080; text-decoration-color: #008080; font-weight: bold\">1</span><span style=\"font-weight: bold\">]</span> start processing                                               <a href=\"file:///home/work/Documents/repo/economic_freedom_ml/.venv/lib/python3.8/site-packages/cmdstanpy/model.py\" target=\"_blank\"><span style=\"color: #7f7f7f; text-decoration-color: #7f7f7f\">model.py</span></a><span style=\"color: #7f7f7f; text-decoration-color: #7f7f7f\">:</span><a href=\"file:///home/work/Documents/repo/economic_freedom_ml/.venv/lib/python3.8/site-packages/cmdstanpy/model.py#1693\" target=\"_blank\"><span style=\"color: #7f7f7f; text-decoration-color: #7f7f7f\">1693</span></a>\n",
       "</pre>\n"
      ],
      "text/plain": [
       "\u001b[2;36m                   \u001b[0m\u001b[2;36m \u001b[0m\u001b[34mINFO    \u001b[0m Chain \u001b[1m[\u001b[0m\u001b[1;36m1\u001b[0m\u001b[1m]\u001b[0m start processing                                               \u001b]8;id=622885;file:///home/work/Documents/repo/economic_freedom_ml/.venv/lib/python3.8/site-packages/cmdstanpy/model.py\u001b\\\u001b[2mmodel.py\u001b[0m\u001b]8;;\u001b\\\u001b[2m:\u001b[0m\u001b]8;id=188705;file:///home/work/Documents/repo/economic_freedom_ml/.venv/lib/python3.8/site-packages/cmdstanpy/model.py#1693\u001b\\\u001b[2m1693\u001b[0m\u001b]8;;\u001b\\\n"
      ]
     },
     "metadata": {},
     "output_type": "display_data"
    },
    {
     "name": "stderr",
     "output_type": "stream",
     "text": [
      "18:37:06 - cmdstanpy - INFO - Chain [1] done processing\n"
     ]
    },
    {
     "data": {
      "text/html": [
       "<pre style=\"white-space:pre;overflow-x:auto;line-height:normal;font-family:Menlo,'DejaVu Sans Mono',consolas,'Courier New',monospace\"><span style=\"color: #7fbfbf; text-decoration-color: #7fbfbf\">                    </span><span style=\"color: #000080; text-decoration-color: #000080\">INFO    </span> Chain <span style=\"font-weight: bold\">[</span><span style=\"color: #008080; text-decoration-color: #008080; font-weight: bold\">1</span><span style=\"font-weight: bold\">]</span> done processing                                                <a href=\"file:///home/work/Documents/repo/economic_freedom_ml/.venv/lib/python3.8/site-packages/cmdstanpy/model.py\" target=\"_blank\"><span style=\"color: #7f7f7f; text-decoration-color: #7f7f7f\">model.py</span></a><span style=\"color: #7f7f7f; text-decoration-color: #7f7f7f\">:</span><a href=\"file:///home/work/Documents/repo/economic_freedom_ml/.venv/lib/python3.8/site-packages/cmdstanpy/model.py#1750\" target=\"_blank\"><span style=\"color: #7f7f7f; text-decoration-color: #7f7f7f\">1750</span></a>\n",
       "</pre>\n"
      ],
      "text/plain": [
       "\u001b[2;36m                   \u001b[0m\u001b[2;36m \u001b[0m\u001b[34mINFO    \u001b[0m Chain \u001b[1m[\u001b[0m\u001b[1;36m1\u001b[0m\u001b[1m]\u001b[0m done processing                                                \u001b]8;id=253209;file:///home/work/Documents/repo/economic_freedom_ml/.venv/lib/python3.8/site-packages/cmdstanpy/model.py\u001b\\\u001b[2mmodel.py\u001b[0m\u001b]8;;\u001b\\\u001b[2m:\u001b[0m\u001b]8;id=902626;file:///home/work/Documents/repo/economic_freedom_ml/.venv/lib/python3.8/site-packages/cmdstanpy/model.py#1750\u001b\\\u001b[2m1750\u001b[0m\u001b]8;;\u001b\\\n"
      ]
     },
     "metadata": {},
     "output_type": "display_data"
    },
    {
     "data": {
      "text/html": [
       "<pre style=\"white-space:pre;overflow-x:auto;line-height:normal;font-family:Menlo,'DejaVu Sans Mono',consolas,'Courier New',monospace\"><span style=\"color: #7fbfbf; text-decoration-color: #7fbfbf\">                    </span><span style=\"color: #000080; text-decoration-color: #000080\">INFO    </span> Disabling weekly seasonality. Run prophet with                       <a href=\"file:///home/work/Documents/repo/economic_freedom_ml/.venv/lib/python3.8/site-packages/prophet/forecaster.py\" target=\"_blank\"><span style=\"color: #7f7f7f; text-decoration-color: #7f7f7f\">forecaster.py</span></a><span style=\"color: #7f7f7f; text-decoration-color: #7f7f7f\">:</span><a href=\"file:///home/work/Documents/repo/economic_freedom_ml/.venv/lib/python3.8/site-packages/prophet/forecaster.py#931\" target=\"_blank\"><span style=\"color: #7f7f7f; text-decoration-color: #7f7f7f\">931</span></a>\n",
       "<span style=\"color: #7fbfbf; text-decoration-color: #7fbfbf\">                    </span>         <span style=\"color: #808000; text-decoration-color: #808000\">weekly_seasonality</span>=<span style=\"color: #00ff00; text-decoration-color: #00ff00; font-style: italic\">True</span> to override this.                            <span style=\"color: #7f7f7f; text-decoration-color: #7f7f7f\">                 </span>\n",
       "</pre>\n"
      ],
      "text/plain": [
       "\u001b[2;36m                   \u001b[0m\u001b[2;36m \u001b[0m\u001b[34mINFO    \u001b[0m Disabling weekly seasonality. Run prophet with                       \u001b]8;id=387168;file:///home/work/Documents/repo/economic_freedom_ml/.venv/lib/python3.8/site-packages/prophet/forecaster.py\u001b\\\u001b[2mforecaster.py\u001b[0m\u001b]8;;\u001b\\\u001b[2m:\u001b[0m\u001b]8;id=736043;file:///home/work/Documents/repo/economic_freedom_ml/.venv/lib/python3.8/site-packages/prophet/forecaster.py#931\u001b\\\u001b[2m931\u001b[0m\u001b]8;;\u001b\\\n",
       "\u001b[2;36m                    \u001b[0m         \u001b[33mweekly_seasonality\u001b[0m=\u001b[3;92mTrue\u001b[0m to override this.                            \u001b[2m                 \u001b[0m\n"
      ]
     },
     "metadata": {},
     "output_type": "display_data"
    },
    {
     "data": {
      "text/html": [
       "<pre style=\"white-space:pre;overflow-x:auto;line-height:normal;font-family:Menlo,'DejaVu Sans Mono',consolas,'Courier New',monospace\"><span style=\"color: #7fbfbf; text-decoration-color: #7fbfbf\">                    </span><span style=\"color: #000080; text-decoration-color: #000080\">INFO    </span> Disabling daily seasonality. Run prophet with <span style=\"color: #808000; text-decoration-color: #808000\">daily_seasonality</span>=<span style=\"color: #00ff00; text-decoration-color: #00ff00; font-style: italic\">True</span> <a href=\"file:///home/work/Documents/repo/economic_freedom_ml/.venv/lib/python3.8/site-packages/prophet/forecaster.py\" target=\"_blank\"><span style=\"color: #7f7f7f; text-decoration-color: #7f7f7f\">forecaster.py</span></a><span style=\"color: #7f7f7f; text-decoration-color: #7f7f7f\">:</span><a href=\"file:///home/work/Documents/repo/economic_freedom_ml/.venv/lib/python3.8/site-packages/prophet/forecaster.py#931\" target=\"_blank\"><span style=\"color: #7f7f7f; text-decoration-color: #7f7f7f\">931</span></a>\n",
       "<span style=\"color: #7fbfbf; text-decoration-color: #7fbfbf\">                    </span>         to override this.                                                    <span style=\"color: #7f7f7f; text-decoration-color: #7f7f7f\">                 </span>\n",
       "</pre>\n"
      ],
      "text/plain": [
       "\u001b[2;36m                   \u001b[0m\u001b[2;36m \u001b[0m\u001b[34mINFO    \u001b[0m Disabling daily seasonality. Run prophet with \u001b[33mdaily_seasonality\u001b[0m=\u001b[3;92mTrue\u001b[0m \u001b]8;id=76800;file:///home/work/Documents/repo/economic_freedom_ml/.venv/lib/python3.8/site-packages/prophet/forecaster.py\u001b\\\u001b[2mforecaster.py\u001b[0m\u001b]8;;\u001b\\\u001b[2m:\u001b[0m\u001b]8;id=371303;file:///home/work/Documents/repo/economic_freedom_ml/.venv/lib/python3.8/site-packages/prophet/forecaster.py#931\u001b\\\u001b[2m931\u001b[0m\u001b]8;;\u001b\\\n",
       "\u001b[2;36m                    \u001b[0m         to override this.                                                    \u001b[2m                 \u001b[0m\n"
      ]
     },
     "metadata": {},
     "output_type": "display_data"
    },
    {
     "data": {
      "text/html": [
       "<pre style=\"white-space:pre;overflow-x:auto;line-height:normal;font-family:Menlo,'DejaVu Sans Mono',consolas,'Courier New',monospace\"><span style=\"color: #7fbfbf; text-decoration-color: #7fbfbf\">                    </span><span style=\"color: #000080; text-decoration-color: #000080\">INFO    </span> n_changepoints greater than number of observations. Using <span style=\"color: #008080; text-decoration-color: #008080; font-weight: bold\">18</span>.        <a href=\"file:///home/work/Documents/repo/economic_freedom_ml/.venv/lib/python3.8/site-packages/prophet/forecaster.py\" target=\"_blank\"><span style=\"color: #7f7f7f; text-decoration-color: #7f7f7f\">forecaster.py</span></a><span style=\"color: #7f7f7f; text-decoration-color: #7f7f7f\">:</span><a href=\"file:///home/work/Documents/repo/economic_freedom_ml/.venv/lib/python3.8/site-packages/prophet/forecaster.py#401\" target=\"_blank\"><span style=\"color: #7f7f7f; text-decoration-color: #7f7f7f\">401</span></a>\n",
       "</pre>\n"
      ],
      "text/plain": [
       "\u001b[2;36m                   \u001b[0m\u001b[2;36m \u001b[0m\u001b[34mINFO    \u001b[0m n_changepoints greater than number of observations. Using \u001b[1;36m18\u001b[0m.        \u001b]8;id=928306;file:///home/work/Documents/repo/economic_freedom_ml/.venv/lib/python3.8/site-packages/prophet/forecaster.py\u001b\\\u001b[2mforecaster.py\u001b[0m\u001b]8;;\u001b\\\u001b[2m:\u001b[0m\u001b]8;id=789879;file:///home/work/Documents/repo/economic_freedom_ml/.venv/lib/python3.8/site-packages/prophet/forecaster.py#401\u001b\\\u001b[2m401\u001b[0m\u001b]8;;\u001b\\\n"
      ]
     },
     "metadata": {},
     "output_type": "display_data"
    },
    {
     "data": {
      "text/html": [
       "<pre style=\"white-space:pre;overflow-x:auto;line-height:normal;font-family:Menlo,'DejaVu Sans Mono',consolas,'Courier New',monospace\"><span style=\"color: #7fbfbf; text-decoration-color: #7fbfbf\">                    </span><span style=\"color: #008000; text-decoration-color: #008000\">DEBUG   </span> input tempfile: <span style=\"color: #800080; text-decoration-color: #800080\">/tmp/tmpsaail0o2/</span><span style=\"color: #ff00ff; text-decoration-color: #ff00ff\">d4j6xo0q.json</span>                       <a href=\"file:///home/work/Documents/repo/economic_freedom_ml/.venv/lib/python3.8/site-packages/cmdstanpy/utils/filesystem.py\" target=\"_blank\"><span style=\"color: #7f7f7f; text-decoration-color: #7f7f7f\">filesystem.py</span></a><span style=\"color: #7f7f7f; text-decoration-color: #7f7f7f\">:</span><a href=\"file:///home/work/Documents/repo/economic_freedom_ml/.venv/lib/python3.8/site-packages/cmdstanpy/utils/filesystem.py#123\" target=\"_blank\"><span style=\"color: #7f7f7f; text-decoration-color: #7f7f7f\">123</span></a>\n",
       "</pre>\n"
      ],
      "text/plain": [
       "\u001b[2;36m                   \u001b[0m\u001b[2;36m \u001b[0m\u001b[32mDEBUG   \u001b[0m input tempfile: \u001b[35m/tmp/tmpsaail0o2/\u001b[0m\u001b[95md4j6xo0q.json\u001b[0m                       \u001b]8;id=74658;file:///home/work/Documents/repo/economic_freedom_ml/.venv/lib/python3.8/site-packages/cmdstanpy/utils/filesystem.py\u001b\\\u001b[2mfilesystem.py\u001b[0m\u001b]8;;\u001b\\\u001b[2m:\u001b[0m\u001b]8;id=369440;file:///home/work/Documents/repo/economic_freedom_ml/.venv/lib/python3.8/site-packages/cmdstanpy/utils/filesystem.py#123\u001b\\\u001b[2m123\u001b[0m\u001b]8;;\u001b\\\n"
      ]
     },
     "metadata": {},
     "output_type": "display_data"
    },
    {
     "data": {
      "text/html": [
       "<pre style=\"white-space:pre;overflow-x:auto;line-height:normal;font-family:Menlo,'DejaVu Sans Mono',consolas,'Courier New',monospace\"><span style=\"color: #7fbfbf; text-decoration-color: #7fbfbf\">                    </span><span style=\"color: #008000; text-decoration-color: #008000\">DEBUG   </span> input tempfile: <span style=\"color: #800080; text-decoration-color: #800080\">/tmp/tmpsaail0o2/</span><span style=\"color: #ff00ff; text-decoration-color: #ff00ff\">6eg92ipf.json</span>                       <a href=\"file:///home/work/Documents/repo/economic_freedom_ml/.venv/lib/python3.8/site-packages/cmdstanpy/utils/filesystem.py\" target=\"_blank\"><span style=\"color: #7f7f7f; text-decoration-color: #7f7f7f\">filesystem.py</span></a><span style=\"color: #7f7f7f; text-decoration-color: #7f7f7f\">:</span><a href=\"file:///home/work/Documents/repo/economic_freedom_ml/.venv/lib/python3.8/site-packages/cmdstanpy/utils/filesystem.py#123\" target=\"_blank\"><span style=\"color: #7f7f7f; text-decoration-color: #7f7f7f\">123</span></a>\n",
       "</pre>\n"
      ],
      "text/plain": [
       "\u001b[2;36m                   \u001b[0m\u001b[2;36m \u001b[0m\u001b[32mDEBUG   \u001b[0m input tempfile: \u001b[35m/tmp/tmpsaail0o2/\u001b[0m\u001b[95m6eg92ipf.json\u001b[0m                       \u001b]8;id=977568;file:///home/work/Documents/repo/economic_freedom_ml/.venv/lib/python3.8/site-packages/cmdstanpy/utils/filesystem.py\u001b\\\u001b[2mfilesystem.py\u001b[0m\u001b]8;;\u001b\\\u001b[2m:\u001b[0m\u001b]8;id=34524;file:///home/work/Documents/repo/economic_freedom_ml/.venv/lib/python3.8/site-packages/cmdstanpy/utils/filesystem.py#123\u001b\\\u001b[2m123\u001b[0m\u001b]8;;\u001b\\\n"
      ]
     },
     "metadata": {},
     "output_type": "display_data"
    },
    {
     "data": {
      "text/html": [
       "<pre style=\"white-space:pre;overflow-x:auto;line-height:normal;font-family:Menlo,'DejaVu Sans Mono',consolas,'Courier New',monospace\"><span style=\"color: #7fbfbf; text-decoration-color: #7fbfbf\">                    </span><span style=\"color: #008000; text-decoration-color: #008000\">DEBUG   </span> idx <span style=\"color: #008080; text-decoration-color: #008080; font-weight: bold\">0</span>                                                                    <a href=\"file:///home/work/Documents/repo/economic_freedom_ml/.venv/lib/python3.8/site-packages/cmdstanpy/model.py\" target=\"_blank\"><span style=\"color: #7f7f7f; text-decoration-color: #7f7f7f\">model.py</span></a><span style=\"color: #7f7f7f; text-decoration-color: #7f7f7f\">:</span><a href=\"file:///home/work/Documents/repo/economic_freedom_ml/.venv/lib/python3.8/site-packages/cmdstanpy/model.py#1677\" target=\"_blank\"><span style=\"color: #7f7f7f; text-decoration-color: #7f7f7f\">1677</span></a>\n",
       "</pre>\n"
      ],
      "text/plain": [
       "\u001b[2;36m                   \u001b[0m\u001b[2;36m \u001b[0m\u001b[32mDEBUG   \u001b[0m idx \u001b[1;36m0\u001b[0m                                                                    \u001b]8;id=636854;file:///home/work/Documents/repo/economic_freedom_ml/.venv/lib/python3.8/site-packages/cmdstanpy/model.py\u001b\\\u001b[2mmodel.py\u001b[0m\u001b]8;;\u001b\\\u001b[2m:\u001b[0m\u001b]8;id=931656;file:///home/work/Documents/repo/economic_freedom_ml/.venv/lib/python3.8/site-packages/cmdstanpy/model.py#1677\u001b\\\u001b[2m1677\u001b[0m\u001b]8;;\u001b\\\n"
      ]
     },
     "metadata": {},
     "output_type": "display_data"
    },
    {
     "data": {
      "text/html": [
       "<pre style=\"white-space:pre;overflow-x:auto;line-height:normal;font-family:Menlo,'DejaVu Sans Mono',consolas,'Courier New',monospace\"><span style=\"color: #7fbfbf; text-decoration-color: #7fbfbf\">                    </span><span style=\"color: #008000; text-decoration-color: #008000\">DEBUG   </span> running CmdStan, num_threads: <span style=\"color: #800080; text-decoration-color: #800080; font-style: italic\">None</span>                                       <a href=\"file:///home/work/Documents/repo/economic_freedom_ml/.venv/lib/python3.8/site-packages/cmdstanpy/model.py\" target=\"_blank\"><span style=\"color: #7f7f7f; text-decoration-color: #7f7f7f\">model.py</span></a><span style=\"color: #7f7f7f; text-decoration-color: #7f7f7f\">:</span><a href=\"file:///home/work/Documents/repo/economic_freedom_ml/.venv/lib/python3.8/site-packages/cmdstanpy/model.py#1678\" target=\"_blank\"><span style=\"color: #7f7f7f; text-decoration-color: #7f7f7f\">1678</span></a>\n",
       "</pre>\n"
      ],
      "text/plain": [
       "\u001b[2;36m                   \u001b[0m\u001b[2;36m \u001b[0m\u001b[32mDEBUG   \u001b[0m running CmdStan, num_threads: \u001b[3;35mNone\u001b[0m                                       \u001b]8;id=629129;file:///home/work/Documents/repo/economic_freedom_ml/.venv/lib/python3.8/site-packages/cmdstanpy/model.py\u001b\\\u001b[2mmodel.py\u001b[0m\u001b]8;;\u001b\\\u001b[2m:\u001b[0m\u001b]8;id=940080;file:///home/work/Documents/repo/economic_freedom_ml/.venv/lib/python3.8/site-packages/cmdstanpy/model.py#1678\u001b\\\u001b[2m1678\u001b[0m\u001b]8;;\u001b\\\n"
      ]
     },
     "metadata": {},
     "output_type": "display_data"
    },
    {
     "data": {
      "text/html": [
       "<pre style=\"white-space:pre;overflow-x:auto;line-height:normal;font-family:Menlo,'DejaVu Sans Mono',consolas,'Courier New',monospace\"><span style=\"color: #7fbfbf; text-decoration-color: #7fbfbf\">                    </span><span style=\"color: #008000; text-decoration-color: #008000\">DEBUG   </span> CmdStan args:                                                            <a href=\"file:///home/work/Documents/repo/economic_freedom_ml/.venv/lib/python3.8/site-packages/cmdstanpy/model.py\" target=\"_blank\"><span style=\"color: #7f7f7f; text-decoration-color: #7f7f7f\">model.py</span></a><span style=\"color: #7f7f7f; text-decoration-color: #7f7f7f\">:</span><a href=\"file:///home/work/Documents/repo/economic_freedom_ml/.venv/lib/python3.8/site-packages/cmdstanpy/model.py#1690\" target=\"_blank\"><span style=\"color: #7f7f7f; text-decoration-color: #7f7f7f\">1690</span></a>\n",
       "<span style=\"color: #7fbfbf; text-decoration-color: #7fbfbf\">                    </span>         <span style=\"font-weight: bold\">[</span><span style=\"color: #008000; text-decoration-color: #008000\">'/home/work/Documents/repo/economic_freedom_ml/.venv/lib/python3.8/site</span> <span style=\"color: #7f7f7f; text-decoration-color: #7f7f7f\">             </span>\n",
       "<span style=\"color: #7fbfbf; text-decoration-color: #7fbfbf\">                    </span>         <span style=\"color: #008000; text-decoration-color: #008000\">-packages/prophet/stan_model/prophet_model.bin'</span>, <span style=\"color: #008000; text-decoration-color: #008000\">'random'</span>, <span style=\"color: #008000; text-decoration-color: #008000\">'seed=44065'</span>, <span style=\"color: #7f7f7f; text-decoration-color: #7f7f7f\">             </span>\n",
       "<span style=\"color: #7fbfbf; text-decoration-color: #7fbfbf\">                    </span>         <span style=\"color: #008000; text-decoration-color: #008000\">'data'</span>, <span style=\"color: #008000; text-decoration-color: #008000\">'file=/tmp/tmpsaail0o2/d4j6xo0q.json'</span>,                           <span style=\"color: #7f7f7f; text-decoration-color: #7f7f7f\">             </span>\n",
       "<span style=\"color: #7fbfbf; text-decoration-color: #7fbfbf\">                    </span>         <span style=\"color: #008000; text-decoration-color: #008000\">'init=/tmp/tmpsaail0o2/6eg92ipf.json'</span>, <span style=\"color: #008000; text-decoration-color: #008000\">'output'</span>,                         <span style=\"color: #7f7f7f; text-decoration-color: #7f7f7f\">             </span>\n",
       "<span style=\"color: #7fbfbf; text-decoration-color: #7fbfbf\">                    </span>         <span style=\"color: #008000; text-decoration-color: #008000\">'file=/tmp/tmpsaail0o2/prophet_modelxksj_1s9/prophet_model-2023052018370</span> <span style=\"color: #7f7f7f; text-decoration-color: #7f7f7f\">             </span>\n",
       "<span style=\"color: #7fbfbf; text-decoration-color: #7fbfbf\">                    </span>         <span style=\"color: #008000; text-decoration-color: #008000\">6.csv'</span>, <span style=\"color: #008000; text-decoration-color: #008000\">'method=optimize'</span>, <span style=\"color: #008000; text-decoration-color: #008000\">'algorithm=newton'</span>, <span style=\"color: #008000; text-decoration-color: #008000\">'iter=10000'</span><span style=\"font-weight: bold\">]</span>             <span style=\"color: #7f7f7f; text-decoration-color: #7f7f7f\">             </span>\n",
       "</pre>\n"
      ],
      "text/plain": [
       "\u001b[2;36m                   \u001b[0m\u001b[2;36m \u001b[0m\u001b[32mDEBUG   \u001b[0m CmdStan args:                                                            \u001b]8;id=488357;file:///home/work/Documents/repo/economic_freedom_ml/.venv/lib/python3.8/site-packages/cmdstanpy/model.py\u001b\\\u001b[2mmodel.py\u001b[0m\u001b]8;;\u001b\\\u001b[2m:\u001b[0m\u001b]8;id=273661;file:///home/work/Documents/repo/economic_freedom_ml/.venv/lib/python3.8/site-packages/cmdstanpy/model.py#1690\u001b\\\u001b[2m1690\u001b[0m\u001b]8;;\u001b\\\n",
       "\u001b[2;36m                    \u001b[0m         \u001b[1m[\u001b[0m\u001b[32m'/home/work/Documents/repo/economic_freedom_ml/.venv/lib/python3.8/site\u001b[0m \u001b[2m             \u001b[0m\n",
       "\u001b[2;36m                    \u001b[0m         \u001b[32m-packages/prophet/stan_model/prophet_model.bin'\u001b[0m, \u001b[32m'random'\u001b[0m, \u001b[32m'\u001b[0m\u001b[32mseed\u001b[0m\u001b[32m=\u001b[0m\u001b[32m44065\u001b[0m\u001b[32m'\u001b[0m, \u001b[2m             \u001b[0m\n",
       "\u001b[2;36m                    \u001b[0m         \u001b[32m'data'\u001b[0m, \u001b[32m'\u001b[0m\u001b[32mfile\u001b[0m\u001b[32m=/tmp/tmpsaail0o2/d4j6xo0q.json'\u001b[0m,                           \u001b[2m             \u001b[0m\n",
       "\u001b[2;36m                    \u001b[0m         \u001b[32m'\u001b[0m\u001b[32minit\u001b[0m\u001b[32m=/tmp/tmpsaail0o2/6eg92ipf.json'\u001b[0m, \u001b[32m'output'\u001b[0m,                         \u001b[2m             \u001b[0m\n",
       "\u001b[2;36m                    \u001b[0m         \u001b[32m'\u001b[0m\u001b[32mfile\u001b[0m\u001b[32m=/tmp/tmpsaail0o2/prophet_modelxksj_1s9/prophet_model-2023052018370\u001b[0m \u001b[2m             \u001b[0m\n",
       "\u001b[2;36m                    \u001b[0m         \u001b[32m6.csv'\u001b[0m, \u001b[32m'\u001b[0m\u001b[32mmethod\u001b[0m\u001b[32m=\u001b[0m\u001b[32moptimize\u001b[0m\u001b[32m'\u001b[0m, \u001b[32m'\u001b[0m\u001b[32malgorithm\u001b[0m\u001b[32m=\u001b[0m\u001b[32mnewton\u001b[0m\u001b[32m'\u001b[0m, \u001b[32m'\u001b[0m\u001b[32miter\u001b[0m\u001b[32m=\u001b[0m\u001b[32m10000\u001b[0m\u001b[32m'\u001b[0m\u001b[1m]\u001b[0m             \u001b[2m             \u001b[0m\n"
      ]
     },
     "metadata": {},
     "output_type": "display_data"
    },
    {
     "name": "stderr",
     "output_type": "stream",
     "text": [
      "18:37:06 - cmdstanpy - INFO - Chain [1] start processing\n"
     ]
    },
    {
     "data": {
      "text/html": [
       "<pre style=\"white-space:pre;overflow-x:auto;line-height:normal;font-family:Menlo,'DejaVu Sans Mono',consolas,'Courier New',monospace\"><span style=\"color: #7fbfbf; text-decoration-color: #7fbfbf\">                    </span><span style=\"color: #000080; text-decoration-color: #000080\">INFO    </span> Chain <span style=\"font-weight: bold\">[</span><span style=\"color: #008080; text-decoration-color: #008080; font-weight: bold\">1</span><span style=\"font-weight: bold\">]</span> start processing                                               <a href=\"file:///home/work/Documents/repo/economic_freedom_ml/.venv/lib/python3.8/site-packages/cmdstanpy/model.py\" target=\"_blank\"><span style=\"color: #7f7f7f; text-decoration-color: #7f7f7f\">model.py</span></a><span style=\"color: #7f7f7f; text-decoration-color: #7f7f7f\">:</span><a href=\"file:///home/work/Documents/repo/economic_freedom_ml/.venv/lib/python3.8/site-packages/cmdstanpy/model.py#1693\" target=\"_blank\"><span style=\"color: #7f7f7f; text-decoration-color: #7f7f7f\">1693</span></a>\n",
       "</pre>\n"
      ],
      "text/plain": [
       "\u001b[2;36m                   \u001b[0m\u001b[2;36m \u001b[0m\u001b[34mINFO    \u001b[0m Chain \u001b[1m[\u001b[0m\u001b[1;36m1\u001b[0m\u001b[1m]\u001b[0m start processing                                               \u001b]8;id=23363;file:///home/work/Documents/repo/economic_freedom_ml/.venv/lib/python3.8/site-packages/cmdstanpy/model.py\u001b\\\u001b[2mmodel.py\u001b[0m\u001b]8;;\u001b\\\u001b[2m:\u001b[0m\u001b]8;id=917165;file:///home/work/Documents/repo/economic_freedom_ml/.venv/lib/python3.8/site-packages/cmdstanpy/model.py#1693\u001b\\\u001b[2m1693\u001b[0m\u001b]8;;\u001b\\\n"
      ]
     },
     "metadata": {},
     "output_type": "display_data"
    },
    {
     "name": "stderr",
     "output_type": "stream",
     "text": [
      "18:37:07 - cmdstanpy - INFO - Chain [1] done processing\n"
     ]
    },
    {
     "data": {
      "text/html": [
       "<pre style=\"white-space:pre;overflow-x:auto;line-height:normal;font-family:Menlo,'DejaVu Sans Mono',consolas,'Courier New',monospace\"><span style=\"color: #7fbfbf; text-decoration-color: #7fbfbf\">[05/20/23 18:37:07] </span><span style=\"color: #000080; text-decoration-color: #000080\">INFO    </span> Chain <span style=\"font-weight: bold\">[</span><span style=\"color: #008080; text-decoration-color: #008080; font-weight: bold\">1</span><span style=\"font-weight: bold\">]</span> done processing                                                <a href=\"file:///home/work/Documents/repo/economic_freedom_ml/.venv/lib/python3.8/site-packages/cmdstanpy/model.py\" target=\"_blank\"><span style=\"color: #7f7f7f; text-decoration-color: #7f7f7f\">model.py</span></a><span style=\"color: #7f7f7f; text-decoration-color: #7f7f7f\">:</span><a href=\"file:///home/work/Documents/repo/economic_freedom_ml/.venv/lib/python3.8/site-packages/cmdstanpy/model.py#1750\" target=\"_blank\"><span style=\"color: #7f7f7f; text-decoration-color: #7f7f7f\">1750</span></a>\n",
       "</pre>\n"
      ],
      "text/plain": [
       "\u001b[2;36m[05/20/23 18:37:07]\u001b[0m\u001b[2;36m \u001b[0m\u001b[34mINFO    \u001b[0m Chain \u001b[1m[\u001b[0m\u001b[1;36m1\u001b[0m\u001b[1m]\u001b[0m done processing                                                \u001b]8;id=672276;file:///home/work/Documents/repo/economic_freedom_ml/.venv/lib/python3.8/site-packages/cmdstanpy/model.py\u001b\\\u001b[2mmodel.py\u001b[0m\u001b]8;;\u001b\\\u001b[2m:\u001b[0m\u001b]8;id=760440;file:///home/work/Documents/repo/economic_freedom_ml/.venv/lib/python3.8/site-packages/cmdstanpy/model.py#1750\u001b\\\u001b[2m1750\u001b[0m\u001b]8;;\u001b\\\n"
      ]
     },
     "metadata": {},
     "output_type": "display_data"
    },
    {
     "data": {
      "text/html": [
       "<pre style=\"white-space:pre;overflow-x:auto;line-height:normal;font-family:Menlo,'DejaVu Sans Mono',consolas,'Courier New',monospace\"><span style=\"color: #7fbfbf; text-decoration-color: #7fbfbf\">                    </span><span style=\"color: #000080; text-decoration-color: #000080\">INFO    </span> Disabling weekly seasonality. Run prophet with                       <a href=\"file:///home/work/Documents/repo/economic_freedom_ml/.venv/lib/python3.8/site-packages/prophet/forecaster.py\" target=\"_blank\"><span style=\"color: #7f7f7f; text-decoration-color: #7f7f7f\">forecaster.py</span></a><span style=\"color: #7f7f7f; text-decoration-color: #7f7f7f\">:</span><a href=\"file:///home/work/Documents/repo/economic_freedom_ml/.venv/lib/python3.8/site-packages/prophet/forecaster.py#931\" target=\"_blank\"><span style=\"color: #7f7f7f; text-decoration-color: #7f7f7f\">931</span></a>\n",
       "<span style=\"color: #7fbfbf; text-decoration-color: #7fbfbf\">                    </span>         <span style=\"color: #808000; text-decoration-color: #808000\">weekly_seasonality</span>=<span style=\"color: #00ff00; text-decoration-color: #00ff00; font-style: italic\">True</span> to override this.                            <span style=\"color: #7f7f7f; text-decoration-color: #7f7f7f\">                 </span>\n",
       "</pre>\n"
      ],
      "text/plain": [
       "\u001b[2;36m                   \u001b[0m\u001b[2;36m \u001b[0m\u001b[34mINFO    \u001b[0m Disabling weekly seasonality. Run prophet with                       \u001b]8;id=31457;file:///home/work/Documents/repo/economic_freedom_ml/.venv/lib/python3.8/site-packages/prophet/forecaster.py\u001b\\\u001b[2mforecaster.py\u001b[0m\u001b]8;;\u001b\\\u001b[2m:\u001b[0m\u001b]8;id=61923;file:///home/work/Documents/repo/economic_freedom_ml/.venv/lib/python3.8/site-packages/prophet/forecaster.py#931\u001b\\\u001b[2m931\u001b[0m\u001b]8;;\u001b\\\n",
       "\u001b[2;36m                    \u001b[0m         \u001b[33mweekly_seasonality\u001b[0m=\u001b[3;92mTrue\u001b[0m to override this.                            \u001b[2m                 \u001b[0m\n"
      ]
     },
     "metadata": {},
     "output_type": "display_data"
    },
    {
     "data": {
      "text/html": [
       "<pre style=\"white-space:pre;overflow-x:auto;line-height:normal;font-family:Menlo,'DejaVu Sans Mono',consolas,'Courier New',monospace\"><span style=\"color: #7fbfbf; text-decoration-color: #7fbfbf\">                    </span><span style=\"color: #000080; text-decoration-color: #000080\">INFO    </span> Disabling daily seasonality. Run prophet with <span style=\"color: #808000; text-decoration-color: #808000\">daily_seasonality</span>=<span style=\"color: #00ff00; text-decoration-color: #00ff00; font-style: italic\">True</span> <a href=\"file:///home/work/Documents/repo/economic_freedom_ml/.venv/lib/python3.8/site-packages/prophet/forecaster.py\" target=\"_blank\"><span style=\"color: #7f7f7f; text-decoration-color: #7f7f7f\">forecaster.py</span></a><span style=\"color: #7f7f7f; text-decoration-color: #7f7f7f\">:</span><a href=\"file:///home/work/Documents/repo/economic_freedom_ml/.venv/lib/python3.8/site-packages/prophet/forecaster.py#931\" target=\"_blank\"><span style=\"color: #7f7f7f; text-decoration-color: #7f7f7f\">931</span></a>\n",
       "<span style=\"color: #7fbfbf; text-decoration-color: #7fbfbf\">                    </span>         to override this.                                                    <span style=\"color: #7f7f7f; text-decoration-color: #7f7f7f\">                 </span>\n",
       "</pre>\n"
      ],
      "text/plain": [
       "\u001b[2;36m                   \u001b[0m\u001b[2;36m \u001b[0m\u001b[34mINFO    \u001b[0m Disabling daily seasonality. Run prophet with \u001b[33mdaily_seasonality\u001b[0m=\u001b[3;92mTrue\u001b[0m \u001b]8;id=859413;file:///home/work/Documents/repo/economic_freedom_ml/.venv/lib/python3.8/site-packages/prophet/forecaster.py\u001b\\\u001b[2mforecaster.py\u001b[0m\u001b]8;;\u001b\\\u001b[2m:\u001b[0m\u001b]8;id=470742;file:///home/work/Documents/repo/economic_freedom_ml/.venv/lib/python3.8/site-packages/prophet/forecaster.py#931\u001b\\\u001b[2m931\u001b[0m\u001b]8;;\u001b\\\n",
       "\u001b[2;36m                    \u001b[0m         to override this.                                                    \u001b[2m                 \u001b[0m\n"
      ]
     },
     "metadata": {},
     "output_type": "display_data"
    },
    {
     "data": {
      "text/html": [
       "<pre style=\"white-space:pre;overflow-x:auto;line-height:normal;font-family:Menlo,'DejaVu Sans Mono',consolas,'Courier New',monospace\"><span style=\"color: #7fbfbf; text-decoration-color: #7fbfbf\">                    </span><span style=\"color: #000080; text-decoration-color: #000080\">INFO    </span> n_changepoints greater than number of observations. Using <span style=\"color: #008080; text-decoration-color: #008080; font-weight: bold\">18</span>.        <a href=\"file:///home/work/Documents/repo/economic_freedom_ml/.venv/lib/python3.8/site-packages/prophet/forecaster.py\" target=\"_blank\"><span style=\"color: #7f7f7f; text-decoration-color: #7f7f7f\">forecaster.py</span></a><span style=\"color: #7f7f7f; text-decoration-color: #7f7f7f\">:</span><a href=\"file:///home/work/Documents/repo/economic_freedom_ml/.venv/lib/python3.8/site-packages/prophet/forecaster.py#401\" target=\"_blank\"><span style=\"color: #7f7f7f; text-decoration-color: #7f7f7f\">401</span></a>\n",
       "</pre>\n"
      ],
      "text/plain": [
       "\u001b[2;36m                   \u001b[0m\u001b[2;36m \u001b[0m\u001b[34mINFO    \u001b[0m n_changepoints greater than number of observations. Using \u001b[1;36m18\u001b[0m.        \u001b]8;id=488091;file:///home/work/Documents/repo/economic_freedom_ml/.venv/lib/python3.8/site-packages/prophet/forecaster.py\u001b\\\u001b[2mforecaster.py\u001b[0m\u001b]8;;\u001b\\\u001b[2m:\u001b[0m\u001b]8;id=351264;file:///home/work/Documents/repo/economic_freedom_ml/.venv/lib/python3.8/site-packages/prophet/forecaster.py#401\u001b\\\u001b[2m401\u001b[0m\u001b]8;;\u001b\\\n"
      ]
     },
     "metadata": {},
     "output_type": "display_data"
    },
    {
     "data": {
      "text/html": [
       "<pre style=\"white-space:pre;overflow-x:auto;line-height:normal;font-family:Menlo,'DejaVu Sans Mono',consolas,'Courier New',monospace\"><span style=\"color: #7fbfbf; text-decoration-color: #7fbfbf\">                    </span><span style=\"color: #008000; text-decoration-color: #008000\">DEBUG   </span> input tempfile: <span style=\"color: #800080; text-decoration-color: #800080\">/tmp/tmpsaail0o2/</span><span style=\"color: #ff00ff; text-decoration-color: #ff00ff\">dt6yvgwb.json</span>                       <a href=\"file:///home/work/Documents/repo/economic_freedom_ml/.venv/lib/python3.8/site-packages/cmdstanpy/utils/filesystem.py\" target=\"_blank\"><span style=\"color: #7f7f7f; text-decoration-color: #7f7f7f\">filesystem.py</span></a><span style=\"color: #7f7f7f; text-decoration-color: #7f7f7f\">:</span><a href=\"file:///home/work/Documents/repo/economic_freedom_ml/.venv/lib/python3.8/site-packages/cmdstanpy/utils/filesystem.py#123\" target=\"_blank\"><span style=\"color: #7f7f7f; text-decoration-color: #7f7f7f\">123</span></a>\n",
       "</pre>\n"
      ],
      "text/plain": [
       "\u001b[2;36m                   \u001b[0m\u001b[2;36m \u001b[0m\u001b[32mDEBUG   \u001b[0m input tempfile: \u001b[35m/tmp/tmpsaail0o2/\u001b[0m\u001b[95mdt6yvgwb.json\u001b[0m                       \u001b]8;id=816302;file:///home/work/Documents/repo/economic_freedom_ml/.venv/lib/python3.8/site-packages/cmdstanpy/utils/filesystem.py\u001b\\\u001b[2mfilesystem.py\u001b[0m\u001b]8;;\u001b\\\u001b[2m:\u001b[0m\u001b]8;id=24093;file:///home/work/Documents/repo/economic_freedom_ml/.venv/lib/python3.8/site-packages/cmdstanpy/utils/filesystem.py#123\u001b\\\u001b[2m123\u001b[0m\u001b]8;;\u001b\\\n"
      ]
     },
     "metadata": {},
     "output_type": "display_data"
    },
    {
     "data": {
      "text/html": [
       "<pre style=\"white-space:pre;overflow-x:auto;line-height:normal;font-family:Menlo,'DejaVu Sans Mono',consolas,'Courier New',monospace\"><span style=\"color: #7fbfbf; text-decoration-color: #7fbfbf\">                    </span><span style=\"color: #008000; text-decoration-color: #008000\">DEBUG   </span> input tempfile: <span style=\"color: #800080; text-decoration-color: #800080\">/tmp/tmpsaail0o2/</span><span style=\"color: #ff00ff; text-decoration-color: #ff00ff\">v8kf7xr3.json</span>                       <a href=\"file:///home/work/Documents/repo/economic_freedom_ml/.venv/lib/python3.8/site-packages/cmdstanpy/utils/filesystem.py\" target=\"_blank\"><span style=\"color: #7f7f7f; text-decoration-color: #7f7f7f\">filesystem.py</span></a><span style=\"color: #7f7f7f; text-decoration-color: #7f7f7f\">:</span><a href=\"file:///home/work/Documents/repo/economic_freedom_ml/.venv/lib/python3.8/site-packages/cmdstanpy/utils/filesystem.py#123\" target=\"_blank\"><span style=\"color: #7f7f7f; text-decoration-color: #7f7f7f\">123</span></a>\n",
       "</pre>\n"
      ],
      "text/plain": [
       "\u001b[2;36m                   \u001b[0m\u001b[2;36m \u001b[0m\u001b[32mDEBUG   \u001b[0m input tempfile: \u001b[35m/tmp/tmpsaail0o2/\u001b[0m\u001b[95mv8kf7xr3.json\u001b[0m                       \u001b]8;id=676805;file:///home/work/Documents/repo/economic_freedom_ml/.venv/lib/python3.8/site-packages/cmdstanpy/utils/filesystem.py\u001b\\\u001b[2mfilesystem.py\u001b[0m\u001b]8;;\u001b\\\u001b[2m:\u001b[0m\u001b]8;id=739923;file:///home/work/Documents/repo/economic_freedom_ml/.venv/lib/python3.8/site-packages/cmdstanpy/utils/filesystem.py#123\u001b\\\u001b[2m123\u001b[0m\u001b]8;;\u001b\\\n"
      ]
     },
     "metadata": {},
     "output_type": "display_data"
    },
    {
     "data": {
      "text/html": [
       "<pre style=\"white-space:pre;overflow-x:auto;line-height:normal;font-family:Menlo,'DejaVu Sans Mono',consolas,'Courier New',monospace\"><span style=\"color: #7fbfbf; text-decoration-color: #7fbfbf\">                    </span><span style=\"color: #008000; text-decoration-color: #008000\">DEBUG   </span> idx <span style=\"color: #008080; text-decoration-color: #008080; font-weight: bold\">0</span>                                                                    <a href=\"file:///home/work/Documents/repo/economic_freedom_ml/.venv/lib/python3.8/site-packages/cmdstanpy/model.py\" target=\"_blank\"><span style=\"color: #7f7f7f; text-decoration-color: #7f7f7f\">model.py</span></a><span style=\"color: #7f7f7f; text-decoration-color: #7f7f7f\">:</span><a href=\"file:///home/work/Documents/repo/economic_freedom_ml/.venv/lib/python3.8/site-packages/cmdstanpy/model.py#1677\" target=\"_blank\"><span style=\"color: #7f7f7f; text-decoration-color: #7f7f7f\">1677</span></a>\n",
       "</pre>\n"
      ],
      "text/plain": [
       "\u001b[2;36m                   \u001b[0m\u001b[2;36m \u001b[0m\u001b[32mDEBUG   \u001b[0m idx \u001b[1;36m0\u001b[0m                                                                    \u001b]8;id=159503;file:///home/work/Documents/repo/economic_freedom_ml/.venv/lib/python3.8/site-packages/cmdstanpy/model.py\u001b\\\u001b[2mmodel.py\u001b[0m\u001b]8;;\u001b\\\u001b[2m:\u001b[0m\u001b]8;id=348818;file:///home/work/Documents/repo/economic_freedom_ml/.venv/lib/python3.8/site-packages/cmdstanpy/model.py#1677\u001b\\\u001b[2m1677\u001b[0m\u001b]8;;\u001b\\\n"
      ]
     },
     "metadata": {},
     "output_type": "display_data"
    },
    {
     "data": {
      "text/html": [
       "<pre style=\"white-space:pre;overflow-x:auto;line-height:normal;font-family:Menlo,'DejaVu Sans Mono',consolas,'Courier New',monospace\"><span style=\"color: #7fbfbf; text-decoration-color: #7fbfbf\">                    </span><span style=\"color: #008000; text-decoration-color: #008000\">DEBUG   </span> running CmdStan, num_threads: <span style=\"color: #800080; text-decoration-color: #800080; font-style: italic\">None</span>                                       <a href=\"file:///home/work/Documents/repo/economic_freedom_ml/.venv/lib/python3.8/site-packages/cmdstanpy/model.py\" target=\"_blank\"><span style=\"color: #7f7f7f; text-decoration-color: #7f7f7f\">model.py</span></a><span style=\"color: #7f7f7f; text-decoration-color: #7f7f7f\">:</span><a href=\"file:///home/work/Documents/repo/economic_freedom_ml/.venv/lib/python3.8/site-packages/cmdstanpy/model.py#1678\" target=\"_blank\"><span style=\"color: #7f7f7f; text-decoration-color: #7f7f7f\">1678</span></a>\n",
       "</pre>\n"
      ],
      "text/plain": [
       "\u001b[2;36m                   \u001b[0m\u001b[2;36m \u001b[0m\u001b[32mDEBUG   \u001b[0m running CmdStan, num_threads: \u001b[3;35mNone\u001b[0m                                       \u001b]8;id=129728;file:///home/work/Documents/repo/economic_freedom_ml/.venv/lib/python3.8/site-packages/cmdstanpy/model.py\u001b\\\u001b[2mmodel.py\u001b[0m\u001b]8;;\u001b\\\u001b[2m:\u001b[0m\u001b]8;id=963493;file:///home/work/Documents/repo/economic_freedom_ml/.venv/lib/python3.8/site-packages/cmdstanpy/model.py#1678\u001b\\\u001b[2m1678\u001b[0m\u001b]8;;\u001b\\\n"
      ]
     },
     "metadata": {},
     "output_type": "display_data"
    },
    {
     "data": {
      "text/html": [
       "<pre style=\"white-space:pre;overflow-x:auto;line-height:normal;font-family:Menlo,'DejaVu Sans Mono',consolas,'Courier New',monospace\"><span style=\"color: #7fbfbf; text-decoration-color: #7fbfbf\">                    </span><span style=\"color: #008000; text-decoration-color: #008000\">DEBUG   </span> CmdStan args:                                                            <a href=\"file:///home/work/Documents/repo/economic_freedom_ml/.venv/lib/python3.8/site-packages/cmdstanpy/model.py\" target=\"_blank\"><span style=\"color: #7f7f7f; text-decoration-color: #7f7f7f\">model.py</span></a><span style=\"color: #7f7f7f; text-decoration-color: #7f7f7f\">:</span><a href=\"file:///home/work/Documents/repo/economic_freedom_ml/.venv/lib/python3.8/site-packages/cmdstanpy/model.py#1690\" target=\"_blank\"><span style=\"color: #7f7f7f; text-decoration-color: #7f7f7f\">1690</span></a>\n",
       "<span style=\"color: #7fbfbf; text-decoration-color: #7fbfbf\">                    </span>         <span style=\"font-weight: bold\">[</span><span style=\"color: #008000; text-decoration-color: #008000\">'/home/work/Documents/repo/economic_freedom_ml/.venv/lib/python3.8/site</span> <span style=\"color: #7f7f7f; text-decoration-color: #7f7f7f\">             </span>\n",
       "<span style=\"color: #7fbfbf; text-decoration-color: #7fbfbf\">                    </span>         <span style=\"color: #008000; text-decoration-color: #008000\">-packages/prophet/stan_model/prophet_model.bin'</span>, <span style=\"color: #008000; text-decoration-color: #008000\">'random'</span>, <span style=\"color: #008000; text-decoration-color: #008000\">'seed=35148'</span>, <span style=\"color: #7f7f7f; text-decoration-color: #7f7f7f\">             </span>\n",
       "<span style=\"color: #7fbfbf; text-decoration-color: #7fbfbf\">                    </span>         <span style=\"color: #008000; text-decoration-color: #008000\">'data'</span>, <span style=\"color: #008000; text-decoration-color: #008000\">'file=/tmp/tmpsaail0o2/dt6yvgwb.json'</span>,                           <span style=\"color: #7f7f7f; text-decoration-color: #7f7f7f\">             </span>\n",
       "<span style=\"color: #7fbfbf; text-decoration-color: #7fbfbf\">                    </span>         <span style=\"color: #008000; text-decoration-color: #008000\">'init=/tmp/tmpsaail0o2/v8kf7xr3.json'</span>, <span style=\"color: #008000; text-decoration-color: #008000\">'output'</span>,                         <span style=\"color: #7f7f7f; text-decoration-color: #7f7f7f\">             </span>\n",
       "<span style=\"color: #7fbfbf; text-decoration-color: #7fbfbf\">                    </span>         <span style=\"color: #008000; text-decoration-color: #008000\">'file=/tmp/tmpsaail0o2/prophet_modelboxnr69f/prophet_model-2023052018370</span> <span style=\"color: #7f7f7f; text-decoration-color: #7f7f7f\">             </span>\n",
       "<span style=\"color: #7fbfbf; text-decoration-color: #7fbfbf\">                    </span>         <span style=\"color: #008000; text-decoration-color: #008000\">7.csv'</span>, <span style=\"color: #008000; text-decoration-color: #008000\">'method=optimize'</span>, <span style=\"color: #008000; text-decoration-color: #008000\">'algorithm=newton'</span>, <span style=\"color: #008000; text-decoration-color: #008000\">'iter=10000'</span><span style=\"font-weight: bold\">]</span>             <span style=\"color: #7f7f7f; text-decoration-color: #7f7f7f\">             </span>\n",
       "</pre>\n"
      ],
      "text/plain": [
       "\u001b[2;36m                   \u001b[0m\u001b[2;36m \u001b[0m\u001b[32mDEBUG   \u001b[0m CmdStan args:                                                            \u001b]8;id=972807;file:///home/work/Documents/repo/economic_freedom_ml/.venv/lib/python3.8/site-packages/cmdstanpy/model.py\u001b\\\u001b[2mmodel.py\u001b[0m\u001b]8;;\u001b\\\u001b[2m:\u001b[0m\u001b]8;id=523175;file:///home/work/Documents/repo/economic_freedom_ml/.venv/lib/python3.8/site-packages/cmdstanpy/model.py#1690\u001b\\\u001b[2m1690\u001b[0m\u001b]8;;\u001b\\\n",
       "\u001b[2;36m                    \u001b[0m         \u001b[1m[\u001b[0m\u001b[32m'/home/work/Documents/repo/economic_freedom_ml/.venv/lib/python3.8/site\u001b[0m \u001b[2m             \u001b[0m\n",
       "\u001b[2;36m                    \u001b[0m         \u001b[32m-packages/prophet/stan_model/prophet_model.bin'\u001b[0m, \u001b[32m'random'\u001b[0m, \u001b[32m'\u001b[0m\u001b[32mseed\u001b[0m\u001b[32m=\u001b[0m\u001b[32m35148\u001b[0m\u001b[32m'\u001b[0m, \u001b[2m             \u001b[0m\n",
       "\u001b[2;36m                    \u001b[0m         \u001b[32m'data'\u001b[0m, \u001b[32m'\u001b[0m\u001b[32mfile\u001b[0m\u001b[32m=/tmp/tmpsaail0o2/dt6yvgwb.json'\u001b[0m,                           \u001b[2m             \u001b[0m\n",
       "\u001b[2;36m                    \u001b[0m         \u001b[32m'\u001b[0m\u001b[32minit\u001b[0m\u001b[32m=/tmp/tmpsaail0o2/v8kf7xr3.json'\u001b[0m, \u001b[32m'output'\u001b[0m,                         \u001b[2m             \u001b[0m\n",
       "\u001b[2;36m                    \u001b[0m         \u001b[32m'\u001b[0m\u001b[32mfile\u001b[0m\u001b[32m=/tmp/tmpsaail0o2/prophet_modelboxnr69f/prophet_model-2023052018370\u001b[0m \u001b[2m             \u001b[0m\n",
       "\u001b[2;36m                    \u001b[0m         \u001b[32m7.csv'\u001b[0m, \u001b[32m'\u001b[0m\u001b[32mmethod\u001b[0m\u001b[32m=\u001b[0m\u001b[32moptimize\u001b[0m\u001b[32m'\u001b[0m, \u001b[32m'\u001b[0m\u001b[32malgorithm\u001b[0m\u001b[32m=\u001b[0m\u001b[32mnewton\u001b[0m\u001b[32m'\u001b[0m, \u001b[32m'\u001b[0m\u001b[32miter\u001b[0m\u001b[32m=\u001b[0m\u001b[32m10000\u001b[0m\u001b[32m'\u001b[0m\u001b[1m]\u001b[0m             \u001b[2m             \u001b[0m\n"
      ]
     },
     "metadata": {},
     "output_type": "display_data"
    },
    {
     "name": "stderr",
     "output_type": "stream",
     "text": [
      "18:37:07 - cmdstanpy - INFO - Chain [1] start processing\n"
     ]
    },
    {
     "data": {
      "text/html": [
       "<pre style=\"white-space:pre;overflow-x:auto;line-height:normal;font-family:Menlo,'DejaVu Sans Mono',consolas,'Courier New',monospace\"><span style=\"color: #7fbfbf; text-decoration-color: #7fbfbf\">                    </span><span style=\"color: #000080; text-decoration-color: #000080\">INFO    </span> Chain <span style=\"font-weight: bold\">[</span><span style=\"color: #008080; text-decoration-color: #008080; font-weight: bold\">1</span><span style=\"font-weight: bold\">]</span> start processing                                               <a href=\"file:///home/work/Documents/repo/economic_freedom_ml/.venv/lib/python3.8/site-packages/cmdstanpy/model.py\" target=\"_blank\"><span style=\"color: #7f7f7f; text-decoration-color: #7f7f7f\">model.py</span></a><span style=\"color: #7f7f7f; text-decoration-color: #7f7f7f\">:</span><a href=\"file:///home/work/Documents/repo/economic_freedom_ml/.venv/lib/python3.8/site-packages/cmdstanpy/model.py#1693\" target=\"_blank\"><span style=\"color: #7f7f7f; text-decoration-color: #7f7f7f\">1693</span></a>\n",
       "</pre>\n"
      ],
      "text/plain": [
       "\u001b[2;36m                   \u001b[0m\u001b[2;36m \u001b[0m\u001b[34mINFO    \u001b[0m Chain \u001b[1m[\u001b[0m\u001b[1;36m1\u001b[0m\u001b[1m]\u001b[0m start processing                                               \u001b]8;id=447038;file:///home/work/Documents/repo/economic_freedom_ml/.venv/lib/python3.8/site-packages/cmdstanpy/model.py\u001b\\\u001b[2mmodel.py\u001b[0m\u001b]8;;\u001b\\\u001b[2m:\u001b[0m\u001b]8;id=776013;file:///home/work/Documents/repo/economic_freedom_ml/.venv/lib/python3.8/site-packages/cmdstanpy/model.py#1693\u001b\\\u001b[2m1693\u001b[0m\u001b]8;;\u001b\\\n"
      ]
     },
     "metadata": {},
     "output_type": "display_data"
    },
    {
     "name": "stderr",
     "output_type": "stream",
     "text": [
      "18:37:07 - cmdstanpy - INFO - Chain [1] done processing\n"
     ]
    },
    {
     "data": {
      "text/html": [
       "<pre style=\"white-space:pre;overflow-x:auto;line-height:normal;font-family:Menlo,'DejaVu Sans Mono',consolas,'Courier New',monospace\"><span style=\"color: #7fbfbf; text-decoration-color: #7fbfbf\">                    </span><span style=\"color: #000080; text-decoration-color: #000080\">INFO    </span> Chain <span style=\"font-weight: bold\">[</span><span style=\"color: #008080; text-decoration-color: #008080; font-weight: bold\">1</span><span style=\"font-weight: bold\">]</span> done processing                                                <a href=\"file:///home/work/Documents/repo/economic_freedom_ml/.venv/lib/python3.8/site-packages/cmdstanpy/model.py\" target=\"_blank\"><span style=\"color: #7f7f7f; text-decoration-color: #7f7f7f\">model.py</span></a><span style=\"color: #7f7f7f; text-decoration-color: #7f7f7f\">:</span><a href=\"file:///home/work/Documents/repo/economic_freedom_ml/.venv/lib/python3.8/site-packages/cmdstanpy/model.py#1750\" target=\"_blank\"><span style=\"color: #7f7f7f; text-decoration-color: #7f7f7f\">1750</span></a>\n",
       "</pre>\n"
      ],
      "text/plain": [
       "\u001b[2;36m                   \u001b[0m\u001b[2;36m \u001b[0m\u001b[34mINFO    \u001b[0m Chain \u001b[1m[\u001b[0m\u001b[1;36m1\u001b[0m\u001b[1m]\u001b[0m done processing                                                \u001b]8;id=109949;file:///home/work/Documents/repo/economic_freedom_ml/.venv/lib/python3.8/site-packages/cmdstanpy/model.py\u001b\\\u001b[2mmodel.py\u001b[0m\u001b]8;;\u001b\\\u001b[2m:\u001b[0m\u001b]8;id=408843;file:///home/work/Documents/repo/economic_freedom_ml/.venv/lib/python3.8/site-packages/cmdstanpy/model.py#1750\u001b\\\u001b[2m1750\u001b[0m\u001b]8;;\u001b\\\n"
      ]
     },
     "metadata": {},
     "output_type": "display_data"
    },
    {
     "data": {
      "text/html": [
       "<pre style=\"white-space:pre;overflow-x:auto;line-height:normal;font-family:Menlo,'DejaVu Sans Mono',consolas,'Courier New',monospace\"><span style=\"color: #7fbfbf; text-decoration-color: #7fbfbf\">                    </span><span style=\"color: #000080; text-decoration-color: #000080\">INFO    </span> Disabling weekly seasonality. Run prophet with                       <a href=\"file:///home/work/Documents/repo/economic_freedom_ml/.venv/lib/python3.8/site-packages/prophet/forecaster.py\" target=\"_blank\"><span style=\"color: #7f7f7f; text-decoration-color: #7f7f7f\">forecaster.py</span></a><span style=\"color: #7f7f7f; text-decoration-color: #7f7f7f\">:</span><a href=\"file:///home/work/Documents/repo/economic_freedom_ml/.venv/lib/python3.8/site-packages/prophet/forecaster.py#931\" target=\"_blank\"><span style=\"color: #7f7f7f; text-decoration-color: #7f7f7f\">931</span></a>\n",
       "<span style=\"color: #7fbfbf; text-decoration-color: #7fbfbf\">                    </span>         <span style=\"color: #808000; text-decoration-color: #808000\">weekly_seasonality</span>=<span style=\"color: #00ff00; text-decoration-color: #00ff00; font-style: italic\">True</span> to override this.                            <span style=\"color: #7f7f7f; text-decoration-color: #7f7f7f\">                 </span>\n",
       "</pre>\n"
      ],
      "text/plain": [
       "\u001b[2;36m                   \u001b[0m\u001b[2;36m \u001b[0m\u001b[34mINFO    \u001b[0m Disabling weekly seasonality. Run prophet with                       \u001b]8;id=527287;file:///home/work/Documents/repo/economic_freedom_ml/.venv/lib/python3.8/site-packages/prophet/forecaster.py\u001b\\\u001b[2mforecaster.py\u001b[0m\u001b]8;;\u001b\\\u001b[2m:\u001b[0m\u001b]8;id=516580;file:///home/work/Documents/repo/economic_freedom_ml/.venv/lib/python3.8/site-packages/prophet/forecaster.py#931\u001b\\\u001b[2m931\u001b[0m\u001b]8;;\u001b\\\n",
       "\u001b[2;36m                    \u001b[0m         \u001b[33mweekly_seasonality\u001b[0m=\u001b[3;92mTrue\u001b[0m to override this.                            \u001b[2m                 \u001b[0m\n"
      ]
     },
     "metadata": {},
     "output_type": "display_data"
    },
    {
     "data": {
      "text/html": [
       "<pre style=\"white-space:pre;overflow-x:auto;line-height:normal;font-family:Menlo,'DejaVu Sans Mono',consolas,'Courier New',monospace\"><span style=\"color: #7fbfbf; text-decoration-color: #7fbfbf\">                    </span><span style=\"color: #000080; text-decoration-color: #000080\">INFO    </span> Disabling daily seasonality. Run prophet with <span style=\"color: #808000; text-decoration-color: #808000\">daily_seasonality</span>=<span style=\"color: #00ff00; text-decoration-color: #00ff00; font-style: italic\">True</span> <a href=\"file:///home/work/Documents/repo/economic_freedom_ml/.venv/lib/python3.8/site-packages/prophet/forecaster.py\" target=\"_blank\"><span style=\"color: #7f7f7f; text-decoration-color: #7f7f7f\">forecaster.py</span></a><span style=\"color: #7f7f7f; text-decoration-color: #7f7f7f\">:</span><a href=\"file:///home/work/Documents/repo/economic_freedom_ml/.venv/lib/python3.8/site-packages/prophet/forecaster.py#931\" target=\"_blank\"><span style=\"color: #7f7f7f; text-decoration-color: #7f7f7f\">931</span></a>\n",
       "<span style=\"color: #7fbfbf; text-decoration-color: #7fbfbf\">                    </span>         to override this.                                                    <span style=\"color: #7f7f7f; text-decoration-color: #7f7f7f\">                 </span>\n",
       "</pre>\n"
      ],
      "text/plain": [
       "\u001b[2;36m                   \u001b[0m\u001b[2;36m \u001b[0m\u001b[34mINFO    \u001b[0m Disabling daily seasonality. Run prophet with \u001b[33mdaily_seasonality\u001b[0m=\u001b[3;92mTrue\u001b[0m \u001b]8;id=305721;file:///home/work/Documents/repo/economic_freedom_ml/.venv/lib/python3.8/site-packages/prophet/forecaster.py\u001b\\\u001b[2mforecaster.py\u001b[0m\u001b]8;;\u001b\\\u001b[2m:\u001b[0m\u001b]8;id=382108;file:///home/work/Documents/repo/economic_freedom_ml/.venv/lib/python3.8/site-packages/prophet/forecaster.py#931\u001b\\\u001b[2m931\u001b[0m\u001b]8;;\u001b\\\n",
       "\u001b[2;36m                    \u001b[0m         to override this.                                                    \u001b[2m                 \u001b[0m\n"
      ]
     },
     "metadata": {},
     "output_type": "display_data"
    },
    {
     "data": {
      "text/html": [
       "<pre style=\"white-space:pre;overflow-x:auto;line-height:normal;font-family:Menlo,'DejaVu Sans Mono',consolas,'Courier New',monospace\"><span style=\"color: #7fbfbf; text-decoration-color: #7fbfbf\">                    </span><span style=\"color: #000080; text-decoration-color: #000080\">INFO    </span> n_changepoints greater than number of observations. Using <span style=\"color: #008080; text-decoration-color: #008080; font-weight: bold\">18</span>.        <a href=\"file:///home/work/Documents/repo/economic_freedom_ml/.venv/lib/python3.8/site-packages/prophet/forecaster.py\" target=\"_blank\"><span style=\"color: #7f7f7f; text-decoration-color: #7f7f7f\">forecaster.py</span></a><span style=\"color: #7f7f7f; text-decoration-color: #7f7f7f\">:</span><a href=\"file:///home/work/Documents/repo/economic_freedom_ml/.venv/lib/python3.8/site-packages/prophet/forecaster.py#401\" target=\"_blank\"><span style=\"color: #7f7f7f; text-decoration-color: #7f7f7f\">401</span></a>\n",
       "</pre>\n"
      ],
      "text/plain": [
       "\u001b[2;36m                   \u001b[0m\u001b[2;36m \u001b[0m\u001b[34mINFO    \u001b[0m n_changepoints greater than number of observations. Using \u001b[1;36m18\u001b[0m.        \u001b]8;id=516245;file:///home/work/Documents/repo/economic_freedom_ml/.venv/lib/python3.8/site-packages/prophet/forecaster.py\u001b\\\u001b[2mforecaster.py\u001b[0m\u001b]8;;\u001b\\\u001b[2m:\u001b[0m\u001b]8;id=39984;file:///home/work/Documents/repo/economic_freedom_ml/.venv/lib/python3.8/site-packages/prophet/forecaster.py#401\u001b\\\u001b[2m401\u001b[0m\u001b]8;;\u001b\\\n"
      ]
     },
     "metadata": {},
     "output_type": "display_data"
    },
    {
     "data": {
      "text/html": [
       "<pre style=\"white-space:pre;overflow-x:auto;line-height:normal;font-family:Menlo,'DejaVu Sans Mono',consolas,'Courier New',monospace\"><span style=\"color: #7fbfbf; text-decoration-color: #7fbfbf\">                    </span><span style=\"color: #008000; text-decoration-color: #008000\">DEBUG   </span> input tempfile: <span style=\"color: #800080; text-decoration-color: #800080\">/tmp/tmpsaail0o2/</span><span style=\"color: #ff00ff; text-decoration-color: #ff00ff\">b5hjaav9.json</span>                       <a href=\"file:///home/work/Documents/repo/economic_freedom_ml/.venv/lib/python3.8/site-packages/cmdstanpy/utils/filesystem.py\" target=\"_blank\"><span style=\"color: #7f7f7f; text-decoration-color: #7f7f7f\">filesystem.py</span></a><span style=\"color: #7f7f7f; text-decoration-color: #7f7f7f\">:</span><a href=\"file:///home/work/Documents/repo/economic_freedom_ml/.venv/lib/python3.8/site-packages/cmdstanpy/utils/filesystem.py#123\" target=\"_blank\"><span style=\"color: #7f7f7f; text-decoration-color: #7f7f7f\">123</span></a>\n",
       "</pre>\n"
      ],
      "text/plain": [
       "\u001b[2;36m                   \u001b[0m\u001b[2;36m \u001b[0m\u001b[32mDEBUG   \u001b[0m input tempfile: \u001b[35m/tmp/tmpsaail0o2/\u001b[0m\u001b[95mb5hjaav9.json\u001b[0m                       \u001b]8;id=2320;file:///home/work/Documents/repo/economic_freedom_ml/.venv/lib/python3.8/site-packages/cmdstanpy/utils/filesystem.py\u001b\\\u001b[2mfilesystem.py\u001b[0m\u001b]8;;\u001b\\\u001b[2m:\u001b[0m\u001b]8;id=344751;file:///home/work/Documents/repo/economic_freedom_ml/.venv/lib/python3.8/site-packages/cmdstanpy/utils/filesystem.py#123\u001b\\\u001b[2m123\u001b[0m\u001b]8;;\u001b\\\n"
      ]
     },
     "metadata": {},
     "output_type": "display_data"
    },
    {
     "data": {
      "text/html": [
       "<pre style=\"white-space:pre;overflow-x:auto;line-height:normal;font-family:Menlo,'DejaVu Sans Mono',consolas,'Courier New',monospace\"><span style=\"color: #7fbfbf; text-decoration-color: #7fbfbf\">                    </span><span style=\"color: #008000; text-decoration-color: #008000\">DEBUG   </span> input tempfile: <span style=\"color: #800080; text-decoration-color: #800080\">/tmp/tmpsaail0o2/</span><span style=\"color: #ff00ff; text-decoration-color: #ff00ff\">2ty_t5uo.json</span>                       <a href=\"file:///home/work/Documents/repo/economic_freedom_ml/.venv/lib/python3.8/site-packages/cmdstanpy/utils/filesystem.py\" target=\"_blank\"><span style=\"color: #7f7f7f; text-decoration-color: #7f7f7f\">filesystem.py</span></a><span style=\"color: #7f7f7f; text-decoration-color: #7f7f7f\">:</span><a href=\"file:///home/work/Documents/repo/economic_freedom_ml/.venv/lib/python3.8/site-packages/cmdstanpy/utils/filesystem.py#123\" target=\"_blank\"><span style=\"color: #7f7f7f; text-decoration-color: #7f7f7f\">123</span></a>\n",
       "</pre>\n"
      ],
      "text/plain": [
       "\u001b[2;36m                   \u001b[0m\u001b[2;36m \u001b[0m\u001b[32mDEBUG   \u001b[0m input tempfile: \u001b[35m/tmp/tmpsaail0o2/\u001b[0m\u001b[95m2ty_t5uo.json\u001b[0m                       \u001b]8;id=20771;file:///home/work/Documents/repo/economic_freedom_ml/.venv/lib/python3.8/site-packages/cmdstanpy/utils/filesystem.py\u001b\\\u001b[2mfilesystem.py\u001b[0m\u001b]8;;\u001b\\\u001b[2m:\u001b[0m\u001b]8;id=952470;file:///home/work/Documents/repo/economic_freedom_ml/.venv/lib/python3.8/site-packages/cmdstanpy/utils/filesystem.py#123\u001b\\\u001b[2m123\u001b[0m\u001b]8;;\u001b\\\n"
      ]
     },
     "metadata": {},
     "output_type": "display_data"
    },
    {
     "data": {
      "text/html": [
       "<pre style=\"white-space:pre;overflow-x:auto;line-height:normal;font-family:Menlo,'DejaVu Sans Mono',consolas,'Courier New',monospace\"><span style=\"color: #7fbfbf; text-decoration-color: #7fbfbf\">                    </span><span style=\"color: #008000; text-decoration-color: #008000\">DEBUG   </span> idx <span style=\"color: #008080; text-decoration-color: #008080; font-weight: bold\">0</span>                                                                    <a href=\"file:///home/work/Documents/repo/economic_freedom_ml/.venv/lib/python3.8/site-packages/cmdstanpy/model.py\" target=\"_blank\"><span style=\"color: #7f7f7f; text-decoration-color: #7f7f7f\">model.py</span></a><span style=\"color: #7f7f7f; text-decoration-color: #7f7f7f\">:</span><a href=\"file:///home/work/Documents/repo/economic_freedom_ml/.venv/lib/python3.8/site-packages/cmdstanpy/model.py#1677\" target=\"_blank\"><span style=\"color: #7f7f7f; text-decoration-color: #7f7f7f\">1677</span></a>\n",
       "</pre>\n"
      ],
      "text/plain": [
       "\u001b[2;36m                   \u001b[0m\u001b[2;36m \u001b[0m\u001b[32mDEBUG   \u001b[0m idx \u001b[1;36m0\u001b[0m                                                                    \u001b]8;id=763417;file:///home/work/Documents/repo/economic_freedom_ml/.venv/lib/python3.8/site-packages/cmdstanpy/model.py\u001b\\\u001b[2mmodel.py\u001b[0m\u001b]8;;\u001b\\\u001b[2m:\u001b[0m\u001b]8;id=536244;file:///home/work/Documents/repo/economic_freedom_ml/.venv/lib/python3.8/site-packages/cmdstanpy/model.py#1677\u001b\\\u001b[2m1677\u001b[0m\u001b]8;;\u001b\\\n"
      ]
     },
     "metadata": {},
     "output_type": "display_data"
    },
    {
     "data": {
      "text/html": [
       "<pre style=\"white-space:pre;overflow-x:auto;line-height:normal;font-family:Menlo,'DejaVu Sans Mono',consolas,'Courier New',monospace\"><span style=\"color: #7fbfbf; text-decoration-color: #7fbfbf\">                    </span><span style=\"color: #008000; text-decoration-color: #008000\">DEBUG   </span> running CmdStan, num_threads: <span style=\"color: #800080; text-decoration-color: #800080; font-style: italic\">None</span>                                       <a href=\"file:///home/work/Documents/repo/economic_freedom_ml/.venv/lib/python3.8/site-packages/cmdstanpy/model.py\" target=\"_blank\"><span style=\"color: #7f7f7f; text-decoration-color: #7f7f7f\">model.py</span></a><span style=\"color: #7f7f7f; text-decoration-color: #7f7f7f\">:</span><a href=\"file:///home/work/Documents/repo/economic_freedom_ml/.venv/lib/python3.8/site-packages/cmdstanpy/model.py#1678\" target=\"_blank\"><span style=\"color: #7f7f7f; text-decoration-color: #7f7f7f\">1678</span></a>\n",
       "</pre>\n"
      ],
      "text/plain": [
       "\u001b[2;36m                   \u001b[0m\u001b[2;36m \u001b[0m\u001b[32mDEBUG   \u001b[0m running CmdStan, num_threads: \u001b[3;35mNone\u001b[0m                                       \u001b]8;id=670445;file:///home/work/Documents/repo/economic_freedom_ml/.venv/lib/python3.8/site-packages/cmdstanpy/model.py\u001b\\\u001b[2mmodel.py\u001b[0m\u001b]8;;\u001b\\\u001b[2m:\u001b[0m\u001b]8;id=780446;file:///home/work/Documents/repo/economic_freedom_ml/.venv/lib/python3.8/site-packages/cmdstanpy/model.py#1678\u001b\\\u001b[2m1678\u001b[0m\u001b]8;;\u001b\\\n"
      ]
     },
     "metadata": {},
     "output_type": "display_data"
    },
    {
     "data": {
      "text/html": [
       "<pre style=\"white-space:pre;overflow-x:auto;line-height:normal;font-family:Menlo,'DejaVu Sans Mono',consolas,'Courier New',monospace\"><span style=\"color: #7fbfbf; text-decoration-color: #7fbfbf\">                    </span><span style=\"color: #008000; text-decoration-color: #008000\">DEBUG   </span> CmdStan args:                                                            <a href=\"file:///home/work/Documents/repo/economic_freedom_ml/.venv/lib/python3.8/site-packages/cmdstanpy/model.py\" target=\"_blank\"><span style=\"color: #7f7f7f; text-decoration-color: #7f7f7f\">model.py</span></a><span style=\"color: #7f7f7f; text-decoration-color: #7f7f7f\">:</span><a href=\"file:///home/work/Documents/repo/economic_freedom_ml/.venv/lib/python3.8/site-packages/cmdstanpy/model.py#1690\" target=\"_blank\"><span style=\"color: #7f7f7f; text-decoration-color: #7f7f7f\">1690</span></a>\n",
       "<span style=\"color: #7fbfbf; text-decoration-color: #7fbfbf\">                    </span>         <span style=\"font-weight: bold\">[</span><span style=\"color: #008000; text-decoration-color: #008000\">'/home/work/Documents/repo/economic_freedom_ml/.venv/lib/python3.8/site</span> <span style=\"color: #7f7f7f; text-decoration-color: #7f7f7f\">             </span>\n",
       "<span style=\"color: #7fbfbf; text-decoration-color: #7fbfbf\">                    </span>         <span style=\"color: #008000; text-decoration-color: #008000\">-packages/prophet/stan_model/prophet_model.bin'</span>, <span style=\"color: #008000; text-decoration-color: #008000\">'random'</span>, <span style=\"color: #008000; text-decoration-color: #008000\">'seed=89719'</span>, <span style=\"color: #7f7f7f; text-decoration-color: #7f7f7f\">             </span>\n",
       "<span style=\"color: #7fbfbf; text-decoration-color: #7fbfbf\">                    </span>         <span style=\"color: #008000; text-decoration-color: #008000\">'data'</span>, <span style=\"color: #008000; text-decoration-color: #008000\">'file=/tmp/tmpsaail0o2/b5hjaav9.json'</span>,                           <span style=\"color: #7f7f7f; text-decoration-color: #7f7f7f\">             </span>\n",
       "<span style=\"color: #7fbfbf; text-decoration-color: #7fbfbf\">                    </span>         <span style=\"color: #008000; text-decoration-color: #008000\">'init=/tmp/tmpsaail0o2/2ty_t5uo.json'</span>, <span style=\"color: #008000; text-decoration-color: #008000\">'output'</span>,                         <span style=\"color: #7f7f7f; text-decoration-color: #7f7f7f\">             </span>\n",
       "<span style=\"color: #7fbfbf; text-decoration-color: #7fbfbf\">                    </span>         <span style=\"color: #008000; text-decoration-color: #008000\">'file=/tmp/tmpsaail0o2/prophet_modelo_0sn2u6/prophet_model-2023052018370</span> <span style=\"color: #7f7f7f; text-decoration-color: #7f7f7f\">             </span>\n",
       "<span style=\"color: #7fbfbf; text-decoration-color: #7fbfbf\">                    </span>         <span style=\"color: #008000; text-decoration-color: #008000\">7.csv'</span>, <span style=\"color: #008000; text-decoration-color: #008000\">'method=optimize'</span>, <span style=\"color: #008000; text-decoration-color: #008000\">'algorithm=newton'</span>, <span style=\"color: #008000; text-decoration-color: #008000\">'iter=10000'</span><span style=\"font-weight: bold\">]</span>             <span style=\"color: #7f7f7f; text-decoration-color: #7f7f7f\">             </span>\n",
       "</pre>\n"
      ],
      "text/plain": [
       "\u001b[2;36m                   \u001b[0m\u001b[2;36m \u001b[0m\u001b[32mDEBUG   \u001b[0m CmdStan args:                                                            \u001b]8;id=579474;file:///home/work/Documents/repo/economic_freedom_ml/.venv/lib/python3.8/site-packages/cmdstanpy/model.py\u001b\\\u001b[2mmodel.py\u001b[0m\u001b]8;;\u001b\\\u001b[2m:\u001b[0m\u001b]8;id=913656;file:///home/work/Documents/repo/economic_freedom_ml/.venv/lib/python3.8/site-packages/cmdstanpy/model.py#1690\u001b\\\u001b[2m1690\u001b[0m\u001b]8;;\u001b\\\n",
       "\u001b[2;36m                    \u001b[0m         \u001b[1m[\u001b[0m\u001b[32m'/home/work/Documents/repo/economic_freedom_ml/.venv/lib/python3.8/site\u001b[0m \u001b[2m             \u001b[0m\n",
       "\u001b[2;36m                    \u001b[0m         \u001b[32m-packages/prophet/stan_model/prophet_model.bin'\u001b[0m, \u001b[32m'random'\u001b[0m, \u001b[32m'\u001b[0m\u001b[32mseed\u001b[0m\u001b[32m=\u001b[0m\u001b[32m89719\u001b[0m\u001b[32m'\u001b[0m, \u001b[2m             \u001b[0m\n",
       "\u001b[2;36m                    \u001b[0m         \u001b[32m'data'\u001b[0m, \u001b[32m'\u001b[0m\u001b[32mfile\u001b[0m\u001b[32m=/tmp/tmpsaail0o2/b5hjaav9.json'\u001b[0m,                           \u001b[2m             \u001b[0m\n",
       "\u001b[2;36m                    \u001b[0m         \u001b[32m'\u001b[0m\u001b[32minit\u001b[0m\u001b[32m=/tmp/tmpsaail0o2/2ty_t5uo.json'\u001b[0m, \u001b[32m'output'\u001b[0m,                         \u001b[2m             \u001b[0m\n",
       "\u001b[2;36m                    \u001b[0m         \u001b[32m'\u001b[0m\u001b[32mfile\u001b[0m\u001b[32m=/tmp/tmpsaail0o2/prophet_modelo_0sn2u6/prophet_model-2023052018370\u001b[0m \u001b[2m             \u001b[0m\n",
       "\u001b[2;36m                    \u001b[0m         \u001b[32m7.csv'\u001b[0m, \u001b[32m'\u001b[0m\u001b[32mmethod\u001b[0m\u001b[32m=\u001b[0m\u001b[32moptimize\u001b[0m\u001b[32m'\u001b[0m, \u001b[32m'\u001b[0m\u001b[32malgorithm\u001b[0m\u001b[32m=\u001b[0m\u001b[32mnewton\u001b[0m\u001b[32m'\u001b[0m, \u001b[32m'\u001b[0m\u001b[32miter\u001b[0m\u001b[32m=\u001b[0m\u001b[32m10000\u001b[0m\u001b[32m'\u001b[0m\u001b[1m]\u001b[0m             \u001b[2m             \u001b[0m\n"
      ]
     },
     "metadata": {},
     "output_type": "display_data"
    },
    {
     "name": "stderr",
     "output_type": "stream",
     "text": [
      "18:37:07 - cmdstanpy - INFO - Chain [1] start processing\n"
     ]
    },
    {
     "data": {
      "text/html": [
       "<pre style=\"white-space:pre;overflow-x:auto;line-height:normal;font-family:Menlo,'DejaVu Sans Mono',consolas,'Courier New',monospace\"><span style=\"color: #7fbfbf; text-decoration-color: #7fbfbf\">                    </span><span style=\"color: #000080; text-decoration-color: #000080\">INFO    </span> Chain <span style=\"font-weight: bold\">[</span><span style=\"color: #008080; text-decoration-color: #008080; font-weight: bold\">1</span><span style=\"font-weight: bold\">]</span> start processing                                               <a href=\"file:///home/work/Documents/repo/economic_freedom_ml/.venv/lib/python3.8/site-packages/cmdstanpy/model.py\" target=\"_blank\"><span style=\"color: #7f7f7f; text-decoration-color: #7f7f7f\">model.py</span></a><span style=\"color: #7f7f7f; text-decoration-color: #7f7f7f\">:</span><a href=\"file:///home/work/Documents/repo/economic_freedom_ml/.venv/lib/python3.8/site-packages/cmdstanpy/model.py#1693\" target=\"_blank\"><span style=\"color: #7f7f7f; text-decoration-color: #7f7f7f\">1693</span></a>\n",
       "</pre>\n"
      ],
      "text/plain": [
       "\u001b[2;36m                   \u001b[0m\u001b[2;36m \u001b[0m\u001b[34mINFO    \u001b[0m Chain \u001b[1m[\u001b[0m\u001b[1;36m1\u001b[0m\u001b[1m]\u001b[0m start processing                                               \u001b]8;id=331859;file:///home/work/Documents/repo/economic_freedom_ml/.venv/lib/python3.8/site-packages/cmdstanpy/model.py\u001b\\\u001b[2mmodel.py\u001b[0m\u001b]8;;\u001b\\\u001b[2m:\u001b[0m\u001b]8;id=630379;file:///home/work/Documents/repo/economic_freedom_ml/.venv/lib/python3.8/site-packages/cmdstanpy/model.py#1693\u001b\\\u001b[2m1693\u001b[0m\u001b]8;;\u001b\\\n"
      ]
     },
     "metadata": {},
     "output_type": "display_data"
    },
    {
     "name": "stderr",
     "output_type": "stream",
     "text": [
      "18:37:07 - cmdstanpy - INFO - Chain [1] done processing\n"
     ]
    },
    {
     "data": {
      "text/html": [
       "<pre style=\"white-space:pre;overflow-x:auto;line-height:normal;font-family:Menlo,'DejaVu Sans Mono',consolas,'Courier New',monospace\"><span style=\"color: #7fbfbf; text-decoration-color: #7fbfbf\">                    </span><span style=\"color: #000080; text-decoration-color: #000080\">INFO    </span> Chain <span style=\"font-weight: bold\">[</span><span style=\"color: #008080; text-decoration-color: #008080; font-weight: bold\">1</span><span style=\"font-weight: bold\">]</span> done processing                                                <a href=\"file:///home/work/Documents/repo/economic_freedom_ml/.venv/lib/python3.8/site-packages/cmdstanpy/model.py\" target=\"_blank\"><span style=\"color: #7f7f7f; text-decoration-color: #7f7f7f\">model.py</span></a><span style=\"color: #7f7f7f; text-decoration-color: #7f7f7f\">:</span><a href=\"file:///home/work/Documents/repo/economic_freedom_ml/.venv/lib/python3.8/site-packages/cmdstanpy/model.py#1750\" target=\"_blank\"><span style=\"color: #7f7f7f; text-decoration-color: #7f7f7f\">1750</span></a>\n",
       "</pre>\n"
      ],
      "text/plain": [
       "\u001b[2;36m                   \u001b[0m\u001b[2;36m \u001b[0m\u001b[34mINFO    \u001b[0m Chain \u001b[1m[\u001b[0m\u001b[1;36m1\u001b[0m\u001b[1m]\u001b[0m done processing                                                \u001b]8;id=813723;file:///home/work/Documents/repo/economic_freedom_ml/.venv/lib/python3.8/site-packages/cmdstanpy/model.py\u001b\\\u001b[2mmodel.py\u001b[0m\u001b]8;;\u001b\\\u001b[2m:\u001b[0m\u001b]8;id=115379;file:///home/work/Documents/repo/economic_freedom_ml/.venv/lib/python3.8/site-packages/cmdstanpy/model.py#1750\u001b\\\u001b[2m1750\u001b[0m\u001b]8;;\u001b\\\n"
      ]
     },
     "metadata": {},
     "output_type": "display_data"
    },
    {
     "data": {
      "text/html": [
       "<pre style=\"white-space:pre;overflow-x:auto;line-height:normal;font-family:Menlo,'DejaVu Sans Mono',consolas,'Courier New',monospace\"><span style=\"color: #7fbfbf; text-decoration-color: #7fbfbf\">                    </span><span style=\"color: #000080; text-decoration-color: #000080\">INFO    </span> Disabling weekly seasonality. Run prophet with                       <a href=\"file:///home/work/Documents/repo/economic_freedom_ml/.venv/lib/python3.8/site-packages/prophet/forecaster.py\" target=\"_blank\"><span style=\"color: #7f7f7f; text-decoration-color: #7f7f7f\">forecaster.py</span></a><span style=\"color: #7f7f7f; text-decoration-color: #7f7f7f\">:</span><a href=\"file:///home/work/Documents/repo/economic_freedom_ml/.venv/lib/python3.8/site-packages/prophet/forecaster.py#931\" target=\"_blank\"><span style=\"color: #7f7f7f; text-decoration-color: #7f7f7f\">931</span></a>\n",
       "<span style=\"color: #7fbfbf; text-decoration-color: #7fbfbf\">                    </span>         <span style=\"color: #808000; text-decoration-color: #808000\">weekly_seasonality</span>=<span style=\"color: #00ff00; text-decoration-color: #00ff00; font-style: italic\">True</span> to override this.                            <span style=\"color: #7f7f7f; text-decoration-color: #7f7f7f\">                 </span>\n",
       "</pre>\n"
      ],
      "text/plain": [
       "\u001b[2;36m                   \u001b[0m\u001b[2;36m \u001b[0m\u001b[34mINFO    \u001b[0m Disabling weekly seasonality. Run prophet with                       \u001b]8;id=496391;file:///home/work/Documents/repo/economic_freedom_ml/.venv/lib/python3.8/site-packages/prophet/forecaster.py\u001b\\\u001b[2mforecaster.py\u001b[0m\u001b]8;;\u001b\\\u001b[2m:\u001b[0m\u001b]8;id=876887;file:///home/work/Documents/repo/economic_freedom_ml/.venv/lib/python3.8/site-packages/prophet/forecaster.py#931\u001b\\\u001b[2m931\u001b[0m\u001b]8;;\u001b\\\n",
       "\u001b[2;36m                    \u001b[0m         \u001b[33mweekly_seasonality\u001b[0m=\u001b[3;92mTrue\u001b[0m to override this.                            \u001b[2m                 \u001b[0m\n"
      ]
     },
     "metadata": {},
     "output_type": "display_data"
    },
    {
     "data": {
      "text/html": [
       "<pre style=\"white-space:pre;overflow-x:auto;line-height:normal;font-family:Menlo,'DejaVu Sans Mono',consolas,'Courier New',monospace\"><span style=\"color: #7fbfbf; text-decoration-color: #7fbfbf\">                    </span><span style=\"color: #000080; text-decoration-color: #000080\">INFO    </span> Disabling daily seasonality. Run prophet with <span style=\"color: #808000; text-decoration-color: #808000\">daily_seasonality</span>=<span style=\"color: #00ff00; text-decoration-color: #00ff00; font-style: italic\">True</span> <a href=\"file:///home/work/Documents/repo/economic_freedom_ml/.venv/lib/python3.8/site-packages/prophet/forecaster.py\" target=\"_blank\"><span style=\"color: #7f7f7f; text-decoration-color: #7f7f7f\">forecaster.py</span></a><span style=\"color: #7f7f7f; text-decoration-color: #7f7f7f\">:</span><a href=\"file:///home/work/Documents/repo/economic_freedom_ml/.venv/lib/python3.8/site-packages/prophet/forecaster.py#931\" target=\"_blank\"><span style=\"color: #7f7f7f; text-decoration-color: #7f7f7f\">931</span></a>\n",
       "<span style=\"color: #7fbfbf; text-decoration-color: #7fbfbf\">                    </span>         to override this.                                                    <span style=\"color: #7f7f7f; text-decoration-color: #7f7f7f\">                 </span>\n",
       "</pre>\n"
      ],
      "text/plain": [
       "\u001b[2;36m                   \u001b[0m\u001b[2;36m \u001b[0m\u001b[34mINFO    \u001b[0m Disabling daily seasonality. Run prophet with \u001b[33mdaily_seasonality\u001b[0m=\u001b[3;92mTrue\u001b[0m \u001b]8;id=689327;file:///home/work/Documents/repo/economic_freedom_ml/.venv/lib/python3.8/site-packages/prophet/forecaster.py\u001b\\\u001b[2mforecaster.py\u001b[0m\u001b]8;;\u001b\\\u001b[2m:\u001b[0m\u001b]8;id=964599;file:///home/work/Documents/repo/economic_freedom_ml/.venv/lib/python3.8/site-packages/prophet/forecaster.py#931\u001b\\\u001b[2m931\u001b[0m\u001b]8;;\u001b\\\n",
       "\u001b[2;36m                    \u001b[0m         to override this.                                                    \u001b[2m                 \u001b[0m\n"
      ]
     },
     "metadata": {},
     "output_type": "display_data"
    },
    {
     "data": {
      "text/html": [
       "<pre style=\"white-space:pre;overflow-x:auto;line-height:normal;font-family:Menlo,'DejaVu Sans Mono',consolas,'Courier New',monospace\"><span style=\"color: #7fbfbf; text-decoration-color: #7fbfbf\">                    </span><span style=\"color: #000080; text-decoration-color: #000080\">INFO    </span> n_changepoints greater than number of observations. Using <span style=\"color: #008080; text-decoration-color: #008080; font-weight: bold\">18</span>.        <a href=\"file:///home/work/Documents/repo/economic_freedom_ml/.venv/lib/python3.8/site-packages/prophet/forecaster.py\" target=\"_blank\"><span style=\"color: #7f7f7f; text-decoration-color: #7f7f7f\">forecaster.py</span></a><span style=\"color: #7f7f7f; text-decoration-color: #7f7f7f\">:</span><a href=\"file:///home/work/Documents/repo/economic_freedom_ml/.venv/lib/python3.8/site-packages/prophet/forecaster.py#401\" target=\"_blank\"><span style=\"color: #7f7f7f; text-decoration-color: #7f7f7f\">401</span></a>\n",
       "</pre>\n"
      ],
      "text/plain": [
       "\u001b[2;36m                   \u001b[0m\u001b[2;36m \u001b[0m\u001b[34mINFO    \u001b[0m n_changepoints greater than number of observations. Using \u001b[1;36m18\u001b[0m.        \u001b]8;id=71471;file:///home/work/Documents/repo/economic_freedom_ml/.venv/lib/python3.8/site-packages/prophet/forecaster.py\u001b\\\u001b[2mforecaster.py\u001b[0m\u001b]8;;\u001b\\\u001b[2m:\u001b[0m\u001b]8;id=570094;file:///home/work/Documents/repo/economic_freedom_ml/.venv/lib/python3.8/site-packages/prophet/forecaster.py#401\u001b\\\u001b[2m401\u001b[0m\u001b]8;;\u001b\\\n"
      ]
     },
     "metadata": {},
     "output_type": "display_data"
    },
    {
     "data": {
      "text/html": [
       "<pre style=\"white-space:pre;overflow-x:auto;line-height:normal;font-family:Menlo,'DejaVu Sans Mono',consolas,'Courier New',monospace\"><span style=\"color: #7fbfbf; text-decoration-color: #7fbfbf\">                    </span><span style=\"color: #008000; text-decoration-color: #008000\">DEBUG   </span> input tempfile: <span style=\"color: #800080; text-decoration-color: #800080\">/tmp/tmpsaail0o2/</span><span style=\"color: #ff00ff; text-decoration-color: #ff00ff\">smio28z3.json</span>                       <a href=\"file:///home/work/Documents/repo/economic_freedom_ml/.venv/lib/python3.8/site-packages/cmdstanpy/utils/filesystem.py\" target=\"_blank\"><span style=\"color: #7f7f7f; text-decoration-color: #7f7f7f\">filesystem.py</span></a><span style=\"color: #7f7f7f; text-decoration-color: #7f7f7f\">:</span><a href=\"file:///home/work/Documents/repo/economic_freedom_ml/.venv/lib/python3.8/site-packages/cmdstanpy/utils/filesystem.py#123\" target=\"_blank\"><span style=\"color: #7f7f7f; text-decoration-color: #7f7f7f\">123</span></a>\n",
       "</pre>\n"
      ],
      "text/plain": [
       "\u001b[2;36m                   \u001b[0m\u001b[2;36m \u001b[0m\u001b[32mDEBUG   \u001b[0m input tempfile: \u001b[35m/tmp/tmpsaail0o2/\u001b[0m\u001b[95msmio28z3.json\u001b[0m                       \u001b]8;id=428136;file:///home/work/Documents/repo/economic_freedom_ml/.venv/lib/python3.8/site-packages/cmdstanpy/utils/filesystem.py\u001b\\\u001b[2mfilesystem.py\u001b[0m\u001b]8;;\u001b\\\u001b[2m:\u001b[0m\u001b]8;id=91605;file:///home/work/Documents/repo/economic_freedom_ml/.venv/lib/python3.8/site-packages/cmdstanpy/utils/filesystem.py#123\u001b\\\u001b[2m123\u001b[0m\u001b]8;;\u001b\\\n"
      ]
     },
     "metadata": {},
     "output_type": "display_data"
    },
    {
     "data": {
      "text/html": [
       "<pre style=\"white-space:pre;overflow-x:auto;line-height:normal;font-family:Menlo,'DejaVu Sans Mono',consolas,'Courier New',monospace\"><span style=\"color: #7fbfbf; text-decoration-color: #7fbfbf\">                    </span><span style=\"color: #008000; text-decoration-color: #008000\">DEBUG   </span> input tempfile: <span style=\"color: #800080; text-decoration-color: #800080\">/tmp/tmpsaail0o2/</span><span style=\"color: #ff00ff; text-decoration-color: #ff00ff\">9kpzer8a.json</span>                       <a href=\"file:///home/work/Documents/repo/economic_freedom_ml/.venv/lib/python3.8/site-packages/cmdstanpy/utils/filesystem.py\" target=\"_blank\"><span style=\"color: #7f7f7f; text-decoration-color: #7f7f7f\">filesystem.py</span></a><span style=\"color: #7f7f7f; text-decoration-color: #7f7f7f\">:</span><a href=\"file:///home/work/Documents/repo/economic_freedom_ml/.venv/lib/python3.8/site-packages/cmdstanpy/utils/filesystem.py#123\" target=\"_blank\"><span style=\"color: #7f7f7f; text-decoration-color: #7f7f7f\">123</span></a>\n",
       "</pre>\n"
      ],
      "text/plain": [
       "\u001b[2;36m                   \u001b[0m\u001b[2;36m \u001b[0m\u001b[32mDEBUG   \u001b[0m input tempfile: \u001b[35m/tmp/tmpsaail0o2/\u001b[0m\u001b[95m9kpzer8a.json\u001b[0m                       \u001b]8;id=831277;file:///home/work/Documents/repo/economic_freedom_ml/.venv/lib/python3.8/site-packages/cmdstanpy/utils/filesystem.py\u001b\\\u001b[2mfilesystem.py\u001b[0m\u001b]8;;\u001b\\\u001b[2m:\u001b[0m\u001b]8;id=361831;file:///home/work/Documents/repo/economic_freedom_ml/.venv/lib/python3.8/site-packages/cmdstanpy/utils/filesystem.py#123\u001b\\\u001b[2m123\u001b[0m\u001b]8;;\u001b\\\n"
      ]
     },
     "metadata": {},
     "output_type": "display_data"
    },
    {
     "data": {
      "text/html": [
       "<pre style=\"white-space:pre;overflow-x:auto;line-height:normal;font-family:Menlo,'DejaVu Sans Mono',consolas,'Courier New',monospace\"><span style=\"color: #7fbfbf; text-decoration-color: #7fbfbf\">                    </span><span style=\"color: #008000; text-decoration-color: #008000\">DEBUG   </span> idx <span style=\"color: #008080; text-decoration-color: #008080; font-weight: bold\">0</span>                                                                    <a href=\"file:///home/work/Documents/repo/economic_freedom_ml/.venv/lib/python3.8/site-packages/cmdstanpy/model.py\" target=\"_blank\"><span style=\"color: #7f7f7f; text-decoration-color: #7f7f7f\">model.py</span></a><span style=\"color: #7f7f7f; text-decoration-color: #7f7f7f\">:</span><a href=\"file:///home/work/Documents/repo/economic_freedom_ml/.venv/lib/python3.8/site-packages/cmdstanpy/model.py#1677\" target=\"_blank\"><span style=\"color: #7f7f7f; text-decoration-color: #7f7f7f\">1677</span></a>\n",
       "</pre>\n"
      ],
      "text/plain": [
       "\u001b[2;36m                   \u001b[0m\u001b[2;36m \u001b[0m\u001b[32mDEBUG   \u001b[0m idx \u001b[1;36m0\u001b[0m                                                                    \u001b]8;id=147913;file:///home/work/Documents/repo/economic_freedom_ml/.venv/lib/python3.8/site-packages/cmdstanpy/model.py\u001b\\\u001b[2mmodel.py\u001b[0m\u001b]8;;\u001b\\\u001b[2m:\u001b[0m\u001b]8;id=426840;file:///home/work/Documents/repo/economic_freedom_ml/.venv/lib/python3.8/site-packages/cmdstanpy/model.py#1677\u001b\\\u001b[2m1677\u001b[0m\u001b]8;;\u001b\\\n"
      ]
     },
     "metadata": {},
     "output_type": "display_data"
    },
    {
     "data": {
      "text/html": [
       "<pre style=\"white-space:pre;overflow-x:auto;line-height:normal;font-family:Menlo,'DejaVu Sans Mono',consolas,'Courier New',monospace\"><span style=\"color: #7fbfbf; text-decoration-color: #7fbfbf\">                    </span><span style=\"color: #008000; text-decoration-color: #008000\">DEBUG   </span> running CmdStan, num_threads: <span style=\"color: #800080; text-decoration-color: #800080; font-style: italic\">None</span>                                       <a href=\"file:///home/work/Documents/repo/economic_freedom_ml/.venv/lib/python3.8/site-packages/cmdstanpy/model.py\" target=\"_blank\"><span style=\"color: #7f7f7f; text-decoration-color: #7f7f7f\">model.py</span></a><span style=\"color: #7f7f7f; text-decoration-color: #7f7f7f\">:</span><a href=\"file:///home/work/Documents/repo/economic_freedom_ml/.venv/lib/python3.8/site-packages/cmdstanpy/model.py#1678\" target=\"_blank\"><span style=\"color: #7f7f7f; text-decoration-color: #7f7f7f\">1678</span></a>\n",
       "</pre>\n"
      ],
      "text/plain": [
       "\u001b[2;36m                   \u001b[0m\u001b[2;36m \u001b[0m\u001b[32mDEBUG   \u001b[0m running CmdStan, num_threads: \u001b[3;35mNone\u001b[0m                                       \u001b]8;id=252804;file:///home/work/Documents/repo/economic_freedom_ml/.venv/lib/python3.8/site-packages/cmdstanpy/model.py\u001b\\\u001b[2mmodel.py\u001b[0m\u001b]8;;\u001b\\\u001b[2m:\u001b[0m\u001b]8;id=458035;file:///home/work/Documents/repo/economic_freedom_ml/.venv/lib/python3.8/site-packages/cmdstanpy/model.py#1678\u001b\\\u001b[2m1678\u001b[0m\u001b]8;;\u001b\\\n"
      ]
     },
     "metadata": {},
     "output_type": "display_data"
    },
    {
     "data": {
      "text/html": [
       "<pre style=\"white-space:pre;overflow-x:auto;line-height:normal;font-family:Menlo,'DejaVu Sans Mono',consolas,'Courier New',monospace\"><span style=\"color: #7fbfbf; text-decoration-color: #7fbfbf\">                    </span><span style=\"color: #008000; text-decoration-color: #008000\">DEBUG   </span> CmdStan args:                                                            <a href=\"file:///home/work/Documents/repo/economic_freedom_ml/.venv/lib/python3.8/site-packages/cmdstanpy/model.py\" target=\"_blank\"><span style=\"color: #7f7f7f; text-decoration-color: #7f7f7f\">model.py</span></a><span style=\"color: #7f7f7f; text-decoration-color: #7f7f7f\">:</span><a href=\"file:///home/work/Documents/repo/economic_freedom_ml/.venv/lib/python3.8/site-packages/cmdstanpy/model.py#1690\" target=\"_blank\"><span style=\"color: #7f7f7f; text-decoration-color: #7f7f7f\">1690</span></a>\n",
       "<span style=\"color: #7fbfbf; text-decoration-color: #7fbfbf\">                    </span>         <span style=\"font-weight: bold\">[</span><span style=\"color: #008000; text-decoration-color: #008000\">'/home/work/Documents/repo/economic_freedom_ml/.venv/lib/python3.8/site</span> <span style=\"color: #7f7f7f; text-decoration-color: #7f7f7f\">             </span>\n",
       "<span style=\"color: #7fbfbf; text-decoration-color: #7fbfbf\">                    </span>         <span style=\"color: #008000; text-decoration-color: #008000\">-packages/prophet/stan_model/prophet_model.bin'</span>, <span style=\"color: #008000; text-decoration-color: #008000\">'random'</span>, <span style=\"color: #008000; text-decoration-color: #008000\">'seed=9489'</span>,  <span style=\"color: #7f7f7f; text-decoration-color: #7f7f7f\">             </span>\n",
       "<span style=\"color: #7fbfbf; text-decoration-color: #7fbfbf\">                    </span>         <span style=\"color: #008000; text-decoration-color: #008000\">'data'</span>, <span style=\"color: #008000; text-decoration-color: #008000\">'file=/tmp/tmpsaail0o2/smio28z3.json'</span>,                           <span style=\"color: #7f7f7f; text-decoration-color: #7f7f7f\">             </span>\n",
       "<span style=\"color: #7fbfbf; text-decoration-color: #7fbfbf\">                    </span>         <span style=\"color: #008000; text-decoration-color: #008000\">'init=/tmp/tmpsaail0o2/9kpzer8a.json'</span>, <span style=\"color: #008000; text-decoration-color: #008000\">'output'</span>,                         <span style=\"color: #7f7f7f; text-decoration-color: #7f7f7f\">             </span>\n",
       "<span style=\"color: #7fbfbf; text-decoration-color: #7fbfbf\">                    </span>         <span style=\"color: #008000; text-decoration-color: #008000\">'file=/tmp/tmpsaail0o2/prophet_modelihgali32/prophet_model-2023052018370</span> <span style=\"color: #7f7f7f; text-decoration-color: #7f7f7f\">             </span>\n",
       "<span style=\"color: #7fbfbf; text-decoration-color: #7fbfbf\">                    </span>         <span style=\"color: #008000; text-decoration-color: #008000\">7.csv'</span>, <span style=\"color: #008000; text-decoration-color: #008000\">'method=optimize'</span>, <span style=\"color: #008000; text-decoration-color: #008000\">'algorithm=newton'</span>, <span style=\"color: #008000; text-decoration-color: #008000\">'iter=10000'</span><span style=\"font-weight: bold\">]</span>             <span style=\"color: #7f7f7f; text-decoration-color: #7f7f7f\">             </span>\n",
       "</pre>\n"
      ],
      "text/plain": [
       "\u001b[2;36m                   \u001b[0m\u001b[2;36m \u001b[0m\u001b[32mDEBUG   \u001b[0m CmdStan args:                                                            \u001b]8;id=490405;file:///home/work/Documents/repo/economic_freedom_ml/.venv/lib/python3.8/site-packages/cmdstanpy/model.py\u001b\\\u001b[2mmodel.py\u001b[0m\u001b]8;;\u001b\\\u001b[2m:\u001b[0m\u001b]8;id=861429;file:///home/work/Documents/repo/economic_freedom_ml/.venv/lib/python3.8/site-packages/cmdstanpy/model.py#1690\u001b\\\u001b[2m1690\u001b[0m\u001b]8;;\u001b\\\n",
       "\u001b[2;36m                    \u001b[0m         \u001b[1m[\u001b[0m\u001b[32m'/home/work/Documents/repo/economic_freedom_ml/.venv/lib/python3.8/site\u001b[0m \u001b[2m             \u001b[0m\n",
       "\u001b[2;36m                    \u001b[0m         \u001b[32m-packages/prophet/stan_model/prophet_model.bin'\u001b[0m, \u001b[32m'random'\u001b[0m, \u001b[32m'\u001b[0m\u001b[32mseed\u001b[0m\u001b[32m=\u001b[0m\u001b[32m9489\u001b[0m\u001b[32m'\u001b[0m,  \u001b[2m             \u001b[0m\n",
       "\u001b[2;36m                    \u001b[0m         \u001b[32m'data'\u001b[0m, \u001b[32m'\u001b[0m\u001b[32mfile\u001b[0m\u001b[32m=/tmp/tmpsaail0o2/smio28z3.json'\u001b[0m,                           \u001b[2m             \u001b[0m\n",
       "\u001b[2;36m                    \u001b[0m         \u001b[32m'\u001b[0m\u001b[32minit\u001b[0m\u001b[32m=/tmp/tmpsaail0o2/9kpzer8a.json'\u001b[0m, \u001b[32m'output'\u001b[0m,                         \u001b[2m             \u001b[0m\n",
       "\u001b[2;36m                    \u001b[0m         \u001b[32m'\u001b[0m\u001b[32mfile\u001b[0m\u001b[32m=/tmp/tmpsaail0o2/prophet_modelihgali32/prophet_model-2023052018370\u001b[0m \u001b[2m             \u001b[0m\n",
       "\u001b[2;36m                    \u001b[0m         \u001b[32m7.csv'\u001b[0m, \u001b[32m'\u001b[0m\u001b[32mmethod\u001b[0m\u001b[32m=\u001b[0m\u001b[32moptimize\u001b[0m\u001b[32m'\u001b[0m, \u001b[32m'\u001b[0m\u001b[32malgorithm\u001b[0m\u001b[32m=\u001b[0m\u001b[32mnewton\u001b[0m\u001b[32m'\u001b[0m, \u001b[32m'\u001b[0m\u001b[32miter\u001b[0m\u001b[32m=\u001b[0m\u001b[32m10000\u001b[0m\u001b[32m'\u001b[0m\u001b[1m]\u001b[0m             \u001b[2m             \u001b[0m\n"
      ]
     },
     "metadata": {},
     "output_type": "display_data"
    },
    {
     "name": "stderr",
     "output_type": "stream",
     "text": [
      "18:37:07 - cmdstanpy - INFO - Chain [1] start processing\n"
     ]
    },
    {
     "data": {
      "text/html": [
       "<pre style=\"white-space:pre;overflow-x:auto;line-height:normal;font-family:Menlo,'DejaVu Sans Mono',consolas,'Courier New',monospace\"><span style=\"color: #7fbfbf; text-decoration-color: #7fbfbf\">                    </span><span style=\"color: #000080; text-decoration-color: #000080\">INFO    </span> Chain <span style=\"font-weight: bold\">[</span><span style=\"color: #008080; text-decoration-color: #008080; font-weight: bold\">1</span><span style=\"font-weight: bold\">]</span> start processing                                               <a href=\"file:///home/work/Documents/repo/economic_freedom_ml/.venv/lib/python3.8/site-packages/cmdstanpy/model.py\" target=\"_blank\"><span style=\"color: #7f7f7f; text-decoration-color: #7f7f7f\">model.py</span></a><span style=\"color: #7f7f7f; text-decoration-color: #7f7f7f\">:</span><a href=\"file:///home/work/Documents/repo/economic_freedom_ml/.venv/lib/python3.8/site-packages/cmdstanpy/model.py#1693\" target=\"_blank\"><span style=\"color: #7f7f7f; text-decoration-color: #7f7f7f\">1693</span></a>\n",
       "</pre>\n"
      ],
      "text/plain": [
       "\u001b[2;36m                   \u001b[0m\u001b[2;36m \u001b[0m\u001b[34mINFO    \u001b[0m Chain \u001b[1m[\u001b[0m\u001b[1;36m1\u001b[0m\u001b[1m]\u001b[0m start processing                                               \u001b]8;id=117426;file:///home/work/Documents/repo/economic_freedom_ml/.venv/lib/python3.8/site-packages/cmdstanpy/model.py\u001b\\\u001b[2mmodel.py\u001b[0m\u001b]8;;\u001b\\\u001b[2m:\u001b[0m\u001b]8;id=144955;file:///home/work/Documents/repo/economic_freedom_ml/.venv/lib/python3.8/site-packages/cmdstanpy/model.py#1693\u001b\\\u001b[2m1693\u001b[0m\u001b]8;;\u001b\\\n"
      ]
     },
     "metadata": {},
     "output_type": "display_data"
    },
    {
     "name": "stderr",
     "output_type": "stream",
     "text": [
      "18:37:07 - cmdstanpy - INFO - Chain [1] done processing\n"
     ]
    },
    {
     "data": {
      "text/html": [
       "<pre style=\"white-space:pre;overflow-x:auto;line-height:normal;font-family:Menlo,'DejaVu Sans Mono',consolas,'Courier New',monospace\"><span style=\"color: #7fbfbf; text-decoration-color: #7fbfbf\">                    </span><span style=\"color: #000080; text-decoration-color: #000080\">INFO    </span> Chain <span style=\"font-weight: bold\">[</span><span style=\"color: #008080; text-decoration-color: #008080; font-weight: bold\">1</span><span style=\"font-weight: bold\">]</span> done processing                                                <a href=\"file:///home/work/Documents/repo/economic_freedom_ml/.venv/lib/python3.8/site-packages/cmdstanpy/model.py\" target=\"_blank\"><span style=\"color: #7f7f7f; text-decoration-color: #7f7f7f\">model.py</span></a><span style=\"color: #7f7f7f; text-decoration-color: #7f7f7f\">:</span><a href=\"file:///home/work/Documents/repo/economic_freedom_ml/.venv/lib/python3.8/site-packages/cmdstanpy/model.py#1750\" target=\"_blank\"><span style=\"color: #7f7f7f; text-decoration-color: #7f7f7f\">1750</span></a>\n",
       "</pre>\n"
      ],
      "text/plain": [
       "\u001b[2;36m                   \u001b[0m\u001b[2;36m \u001b[0m\u001b[34mINFO    \u001b[0m Chain \u001b[1m[\u001b[0m\u001b[1;36m1\u001b[0m\u001b[1m]\u001b[0m done processing                                                \u001b]8;id=274100;file:///home/work/Documents/repo/economic_freedom_ml/.venv/lib/python3.8/site-packages/cmdstanpy/model.py\u001b\\\u001b[2mmodel.py\u001b[0m\u001b]8;;\u001b\\\u001b[2m:\u001b[0m\u001b]8;id=814406;file:///home/work/Documents/repo/economic_freedom_ml/.venv/lib/python3.8/site-packages/cmdstanpy/model.py#1750\u001b\\\u001b[2m1750\u001b[0m\u001b]8;;\u001b\\\n"
      ]
     },
     "metadata": {},
     "output_type": "display_data"
    },
    {
     "data": {
      "text/html": [
       "<pre style=\"white-space:pre;overflow-x:auto;line-height:normal;font-family:Menlo,'DejaVu Sans Mono',consolas,'Courier New',monospace\"><span style=\"color: #7fbfbf; text-decoration-color: #7fbfbf\">                    </span><span style=\"color: #000080; text-decoration-color: #000080\">INFO    </span> Disabling weekly seasonality. Run prophet with                       <a href=\"file:///home/work/Documents/repo/economic_freedom_ml/.venv/lib/python3.8/site-packages/prophet/forecaster.py\" target=\"_blank\"><span style=\"color: #7f7f7f; text-decoration-color: #7f7f7f\">forecaster.py</span></a><span style=\"color: #7f7f7f; text-decoration-color: #7f7f7f\">:</span><a href=\"file:///home/work/Documents/repo/economic_freedom_ml/.venv/lib/python3.8/site-packages/prophet/forecaster.py#931\" target=\"_blank\"><span style=\"color: #7f7f7f; text-decoration-color: #7f7f7f\">931</span></a>\n",
       "<span style=\"color: #7fbfbf; text-decoration-color: #7fbfbf\">                    </span>         <span style=\"color: #808000; text-decoration-color: #808000\">weekly_seasonality</span>=<span style=\"color: #00ff00; text-decoration-color: #00ff00; font-style: italic\">True</span> to override this.                            <span style=\"color: #7f7f7f; text-decoration-color: #7f7f7f\">                 </span>\n",
       "</pre>\n"
      ],
      "text/plain": [
       "\u001b[2;36m                   \u001b[0m\u001b[2;36m \u001b[0m\u001b[34mINFO    \u001b[0m Disabling weekly seasonality. Run prophet with                       \u001b]8;id=853319;file:///home/work/Documents/repo/economic_freedom_ml/.venv/lib/python3.8/site-packages/prophet/forecaster.py\u001b\\\u001b[2mforecaster.py\u001b[0m\u001b]8;;\u001b\\\u001b[2m:\u001b[0m\u001b]8;id=329808;file:///home/work/Documents/repo/economic_freedom_ml/.venv/lib/python3.8/site-packages/prophet/forecaster.py#931\u001b\\\u001b[2m931\u001b[0m\u001b]8;;\u001b\\\n",
       "\u001b[2;36m                    \u001b[0m         \u001b[33mweekly_seasonality\u001b[0m=\u001b[3;92mTrue\u001b[0m to override this.                            \u001b[2m                 \u001b[0m\n"
      ]
     },
     "metadata": {},
     "output_type": "display_data"
    },
    {
     "data": {
      "text/html": [
       "<pre style=\"white-space:pre;overflow-x:auto;line-height:normal;font-family:Menlo,'DejaVu Sans Mono',consolas,'Courier New',monospace\"><span style=\"color: #7fbfbf; text-decoration-color: #7fbfbf\">                    </span><span style=\"color: #000080; text-decoration-color: #000080\">INFO    </span> Disabling daily seasonality. Run prophet with <span style=\"color: #808000; text-decoration-color: #808000\">daily_seasonality</span>=<span style=\"color: #00ff00; text-decoration-color: #00ff00; font-style: italic\">True</span> <a href=\"file:///home/work/Documents/repo/economic_freedom_ml/.venv/lib/python3.8/site-packages/prophet/forecaster.py\" target=\"_blank\"><span style=\"color: #7f7f7f; text-decoration-color: #7f7f7f\">forecaster.py</span></a><span style=\"color: #7f7f7f; text-decoration-color: #7f7f7f\">:</span><a href=\"file:///home/work/Documents/repo/economic_freedom_ml/.venv/lib/python3.8/site-packages/prophet/forecaster.py#931\" target=\"_blank\"><span style=\"color: #7f7f7f; text-decoration-color: #7f7f7f\">931</span></a>\n",
       "<span style=\"color: #7fbfbf; text-decoration-color: #7fbfbf\">                    </span>         to override this.                                                    <span style=\"color: #7f7f7f; text-decoration-color: #7f7f7f\">                 </span>\n",
       "</pre>\n"
      ],
      "text/plain": [
       "\u001b[2;36m                   \u001b[0m\u001b[2;36m \u001b[0m\u001b[34mINFO    \u001b[0m Disabling daily seasonality. Run prophet with \u001b[33mdaily_seasonality\u001b[0m=\u001b[3;92mTrue\u001b[0m \u001b]8;id=704637;file:///home/work/Documents/repo/economic_freedom_ml/.venv/lib/python3.8/site-packages/prophet/forecaster.py\u001b\\\u001b[2mforecaster.py\u001b[0m\u001b]8;;\u001b\\\u001b[2m:\u001b[0m\u001b]8;id=708332;file:///home/work/Documents/repo/economic_freedom_ml/.venv/lib/python3.8/site-packages/prophet/forecaster.py#931\u001b\\\u001b[2m931\u001b[0m\u001b]8;;\u001b\\\n",
       "\u001b[2;36m                    \u001b[0m         to override this.                                                    \u001b[2m                 \u001b[0m\n"
      ]
     },
     "metadata": {},
     "output_type": "display_data"
    },
    {
     "data": {
      "text/html": [
       "<pre style=\"white-space:pre;overflow-x:auto;line-height:normal;font-family:Menlo,'DejaVu Sans Mono',consolas,'Courier New',monospace\"><span style=\"color: #7fbfbf; text-decoration-color: #7fbfbf\">                    </span><span style=\"color: #000080; text-decoration-color: #000080\">INFO    </span> n_changepoints greater than number of observations. Using <span style=\"color: #008080; text-decoration-color: #008080; font-weight: bold\">18</span>.        <a href=\"file:///home/work/Documents/repo/economic_freedom_ml/.venv/lib/python3.8/site-packages/prophet/forecaster.py\" target=\"_blank\"><span style=\"color: #7f7f7f; text-decoration-color: #7f7f7f\">forecaster.py</span></a><span style=\"color: #7f7f7f; text-decoration-color: #7f7f7f\">:</span><a href=\"file:///home/work/Documents/repo/economic_freedom_ml/.venv/lib/python3.8/site-packages/prophet/forecaster.py#401\" target=\"_blank\"><span style=\"color: #7f7f7f; text-decoration-color: #7f7f7f\">401</span></a>\n",
       "</pre>\n"
      ],
      "text/plain": [
       "\u001b[2;36m                   \u001b[0m\u001b[2;36m \u001b[0m\u001b[34mINFO    \u001b[0m n_changepoints greater than number of observations. Using \u001b[1;36m18\u001b[0m.        \u001b]8;id=574912;file:///home/work/Documents/repo/economic_freedom_ml/.venv/lib/python3.8/site-packages/prophet/forecaster.py\u001b\\\u001b[2mforecaster.py\u001b[0m\u001b]8;;\u001b\\\u001b[2m:\u001b[0m\u001b]8;id=614919;file:///home/work/Documents/repo/economic_freedom_ml/.venv/lib/python3.8/site-packages/prophet/forecaster.py#401\u001b\\\u001b[2m401\u001b[0m\u001b]8;;\u001b\\\n"
      ]
     },
     "metadata": {},
     "output_type": "display_data"
    },
    {
     "data": {
      "text/html": [
       "<pre style=\"white-space:pre;overflow-x:auto;line-height:normal;font-family:Menlo,'DejaVu Sans Mono',consolas,'Courier New',monospace\"><span style=\"color: #7fbfbf; text-decoration-color: #7fbfbf\">                    </span><span style=\"color: #008000; text-decoration-color: #008000\">DEBUG   </span> input tempfile: <span style=\"color: #800080; text-decoration-color: #800080\">/tmp/tmpsaail0o2/</span><span style=\"color: #ff00ff; text-decoration-color: #ff00ff\">o1uwsr6y.json</span>                       <a href=\"file:///home/work/Documents/repo/economic_freedom_ml/.venv/lib/python3.8/site-packages/cmdstanpy/utils/filesystem.py\" target=\"_blank\"><span style=\"color: #7f7f7f; text-decoration-color: #7f7f7f\">filesystem.py</span></a><span style=\"color: #7f7f7f; text-decoration-color: #7f7f7f\">:</span><a href=\"file:///home/work/Documents/repo/economic_freedom_ml/.venv/lib/python3.8/site-packages/cmdstanpy/utils/filesystem.py#123\" target=\"_blank\"><span style=\"color: #7f7f7f; text-decoration-color: #7f7f7f\">123</span></a>\n",
       "</pre>\n"
      ],
      "text/plain": [
       "\u001b[2;36m                   \u001b[0m\u001b[2;36m \u001b[0m\u001b[32mDEBUG   \u001b[0m input tempfile: \u001b[35m/tmp/tmpsaail0o2/\u001b[0m\u001b[95mo1uwsr6y.json\u001b[0m                       \u001b]8;id=544634;file:///home/work/Documents/repo/economic_freedom_ml/.venv/lib/python3.8/site-packages/cmdstanpy/utils/filesystem.py\u001b\\\u001b[2mfilesystem.py\u001b[0m\u001b]8;;\u001b\\\u001b[2m:\u001b[0m\u001b]8;id=185950;file:///home/work/Documents/repo/economic_freedom_ml/.venv/lib/python3.8/site-packages/cmdstanpy/utils/filesystem.py#123\u001b\\\u001b[2m123\u001b[0m\u001b]8;;\u001b\\\n"
      ]
     },
     "metadata": {},
     "output_type": "display_data"
    },
    {
     "data": {
      "text/html": [
       "<pre style=\"white-space:pre;overflow-x:auto;line-height:normal;font-family:Menlo,'DejaVu Sans Mono',consolas,'Courier New',monospace\"><span style=\"color: #7fbfbf; text-decoration-color: #7fbfbf\">                    </span><span style=\"color: #008000; text-decoration-color: #008000\">DEBUG   </span> input tempfile: <span style=\"color: #800080; text-decoration-color: #800080\">/tmp/tmpsaail0o2/</span><span style=\"color: #ff00ff; text-decoration-color: #ff00ff\">ne92b93m.json</span>                       <a href=\"file:///home/work/Documents/repo/economic_freedom_ml/.venv/lib/python3.8/site-packages/cmdstanpy/utils/filesystem.py\" target=\"_blank\"><span style=\"color: #7f7f7f; text-decoration-color: #7f7f7f\">filesystem.py</span></a><span style=\"color: #7f7f7f; text-decoration-color: #7f7f7f\">:</span><a href=\"file:///home/work/Documents/repo/economic_freedom_ml/.venv/lib/python3.8/site-packages/cmdstanpy/utils/filesystem.py#123\" target=\"_blank\"><span style=\"color: #7f7f7f; text-decoration-color: #7f7f7f\">123</span></a>\n",
       "</pre>\n"
      ],
      "text/plain": [
       "\u001b[2;36m                   \u001b[0m\u001b[2;36m \u001b[0m\u001b[32mDEBUG   \u001b[0m input tempfile: \u001b[35m/tmp/tmpsaail0o2/\u001b[0m\u001b[95mne92b93m.json\u001b[0m                       \u001b]8;id=620833;file:///home/work/Documents/repo/economic_freedom_ml/.venv/lib/python3.8/site-packages/cmdstanpy/utils/filesystem.py\u001b\\\u001b[2mfilesystem.py\u001b[0m\u001b]8;;\u001b\\\u001b[2m:\u001b[0m\u001b]8;id=317488;file:///home/work/Documents/repo/economic_freedom_ml/.venv/lib/python3.8/site-packages/cmdstanpy/utils/filesystem.py#123\u001b\\\u001b[2m123\u001b[0m\u001b]8;;\u001b\\\n"
      ]
     },
     "metadata": {},
     "output_type": "display_data"
    },
    {
     "data": {
      "text/html": [
       "<pre style=\"white-space:pre;overflow-x:auto;line-height:normal;font-family:Menlo,'DejaVu Sans Mono',consolas,'Courier New',monospace\"><span style=\"color: #7fbfbf; text-decoration-color: #7fbfbf\">                    </span><span style=\"color: #008000; text-decoration-color: #008000\">DEBUG   </span> idx <span style=\"color: #008080; text-decoration-color: #008080; font-weight: bold\">0</span>                                                                    <a href=\"file:///home/work/Documents/repo/economic_freedom_ml/.venv/lib/python3.8/site-packages/cmdstanpy/model.py\" target=\"_blank\"><span style=\"color: #7f7f7f; text-decoration-color: #7f7f7f\">model.py</span></a><span style=\"color: #7f7f7f; text-decoration-color: #7f7f7f\">:</span><a href=\"file:///home/work/Documents/repo/economic_freedom_ml/.venv/lib/python3.8/site-packages/cmdstanpy/model.py#1677\" target=\"_blank\"><span style=\"color: #7f7f7f; text-decoration-color: #7f7f7f\">1677</span></a>\n",
       "</pre>\n"
      ],
      "text/plain": [
       "\u001b[2;36m                   \u001b[0m\u001b[2;36m \u001b[0m\u001b[32mDEBUG   \u001b[0m idx \u001b[1;36m0\u001b[0m                                                                    \u001b]8;id=959762;file:///home/work/Documents/repo/economic_freedom_ml/.venv/lib/python3.8/site-packages/cmdstanpy/model.py\u001b\\\u001b[2mmodel.py\u001b[0m\u001b]8;;\u001b\\\u001b[2m:\u001b[0m\u001b]8;id=512367;file:///home/work/Documents/repo/economic_freedom_ml/.venv/lib/python3.8/site-packages/cmdstanpy/model.py#1677\u001b\\\u001b[2m1677\u001b[0m\u001b]8;;\u001b\\\n"
      ]
     },
     "metadata": {},
     "output_type": "display_data"
    },
    {
     "data": {
      "text/html": [
       "<pre style=\"white-space:pre;overflow-x:auto;line-height:normal;font-family:Menlo,'DejaVu Sans Mono',consolas,'Courier New',monospace\"><span style=\"color: #7fbfbf; text-decoration-color: #7fbfbf\">                    </span><span style=\"color: #008000; text-decoration-color: #008000\">DEBUG   </span> running CmdStan, num_threads: <span style=\"color: #800080; text-decoration-color: #800080; font-style: italic\">None</span>                                       <a href=\"file:///home/work/Documents/repo/economic_freedom_ml/.venv/lib/python3.8/site-packages/cmdstanpy/model.py\" target=\"_blank\"><span style=\"color: #7f7f7f; text-decoration-color: #7f7f7f\">model.py</span></a><span style=\"color: #7f7f7f; text-decoration-color: #7f7f7f\">:</span><a href=\"file:///home/work/Documents/repo/economic_freedom_ml/.venv/lib/python3.8/site-packages/cmdstanpy/model.py#1678\" target=\"_blank\"><span style=\"color: #7f7f7f; text-decoration-color: #7f7f7f\">1678</span></a>\n",
       "</pre>\n"
      ],
      "text/plain": [
       "\u001b[2;36m                   \u001b[0m\u001b[2;36m \u001b[0m\u001b[32mDEBUG   \u001b[0m running CmdStan, num_threads: \u001b[3;35mNone\u001b[0m                                       \u001b]8;id=249286;file:///home/work/Documents/repo/economic_freedom_ml/.venv/lib/python3.8/site-packages/cmdstanpy/model.py\u001b\\\u001b[2mmodel.py\u001b[0m\u001b]8;;\u001b\\\u001b[2m:\u001b[0m\u001b]8;id=965402;file:///home/work/Documents/repo/economic_freedom_ml/.venv/lib/python3.8/site-packages/cmdstanpy/model.py#1678\u001b\\\u001b[2m1678\u001b[0m\u001b]8;;\u001b\\\n"
      ]
     },
     "metadata": {},
     "output_type": "display_data"
    },
    {
     "data": {
      "text/html": [
       "<pre style=\"white-space:pre;overflow-x:auto;line-height:normal;font-family:Menlo,'DejaVu Sans Mono',consolas,'Courier New',monospace\"><span style=\"color: #7fbfbf; text-decoration-color: #7fbfbf\">                    </span><span style=\"color: #008000; text-decoration-color: #008000\">DEBUG   </span> CmdStan args:                                                            <a href=\"file:///home/work/Documents/repo/economic_freedom_ml/.venv/lib/python3.8/site-packages/cmdstanpy/model.py\" target=\"_blank\"><span style=\"color: #7f7f7f; text-decoration-color: #7f7f7f\">model.py</span></a><span style=\"color: #7f7f7f; text-decoration-color: #7f7f7f\">:</span><a href=\"file:///home/work/Documents/repo/economic_freedom_ml/.venv/lib/python3.8/site-packages/cmdstanpy/model.py#1690\" target=\"_blank\"><span style=\"color: #7f7f7f; text-decoration-color: #7f7f7f\">1690</span></a>\n",
       "<span style=\"color: #7fbfbf; text-decoration-color: #7fbfbf\">                    </span>         <span style=\"font-weight: bold\">[</span><span style=\"color: #008000; text-decoration-color: #008000\">'/home/work/Documents/repo/economic_freedom_ml/.venv/lib/python3.8/site</span> <span style=\"color: #7f7f7f; text-decoration-color: #7f7f7f\">             </span>\n",
       "<span style=\"color: #7fbfbf; text-decoration-color: #7fbfbf\">                    </span>         <span style=\"color: #008000; text-decoration-color: #008000\">-packages/prophet/stan_model/prophet_model.bin'</span>, <span style=\"color: #008000; text-decoration-color: #008000\">'random'</span>, <span style=\"color: #008000; text-decoration-color: #008000\">'seed=37549'</span>, <span style=\"color: #7f7f7f; text-decoration-color: #7f7f7f\">             </span>\n",
       "<span style=\"color: #7fbfbf; text-decoration-color: #7fbfbf\">                    </span>         <span style=\"color: #008000; text-decoration-color: #008000\">'data'</span>, <span style=\"color: #008000; text-decoration-color: #008000\">'file=/tmp/tmpsaail0o2/o1uwsr6y.json'</span>,                           <span style=\"color: #7f7f7f; text-decoration-color: #7f7f7f\">             </span>\n",
       "<span style=\"color: #7fbfbf; text-decoration-color: #7fbfbf\">                    </span>         <span style=\"color: #008000; text-decoration-color: #008000\">'init=/tmp/tmpsaail0o2/ne92b93m.json'</span>, <span style=\"color: #008000; text-decoration-color: #008000\">'output'</span>,                         <span style=\"color: #7f7f7f; text-decoration-color: #7f7f7f\">             </span>\n",
       "<span style=\"color: #7fbfbf; text-decoration-color: #7fbfbf\">                    </span>         <span style=\"color: #008000; text-decoration-color: #008000\">'file=/tmp/tmpsaail0o2/prophet_modelb0_y4e7p/prophet_model-2023052018370</span> <span style=\"color: #7f7f7f; text-decoration-color: #7f7f7f\">             </span>\n",
       "<span style=\"color: #7fbfbf; text-decoration-color: #7fbfbf\">                    </span>         <span style=\"color: #008000; text-decoration-color: #008000\">7.csv'</span>, <span style=\"color: #008000; text-decoration-color: #008000\">'method=optimize'</span>, <span style=\"color: #008000; text-decoration-color: #008000\">'algorithm=newton'</span>, <span style=\"color: #008000; text-decoration-color: #008000\">'iter=10000'</span><span style=\"font-weight: bold\">]</span>             <span style=\"color: #7f7f7f; text-decoration-color: #7f7f7f\">             </span>\n",
       "</pre>\n"
      ],
      "text/plain": [
       "\u001b[2;36m                   \u001b[0m\u001b[2;36m \u001b[0m\u001b[32mDEBUG   \u001b[0m CmdStan args:                                                            \u001b]8;id=194862;file:///home/work/Documents/repo/economic_freedom_ml/.venv/lib/python3.8/site-packages/cmdstanpy/model.py\u001b\\\u001b[2mmodel.py\u001b[0m\u001b]8;;\u001b\\\u001b[2m:\u001b[0m\u001b]8;id=121320;file:///home/work/Documents/repo/economic_freedom_ml/.venv/lib/python3.8/site-packages/cmdstanpy/model.py#1690\u001b\\\u001b[2m1690\u001b[0m\u001b]8;;\u001b\\\n",
       "\u001b[2;36m                    \u001b[0m         \u001b[1m[\u001b[0m\u001b[32m'/home/work/Documents/repo/economic_freedom_ml/.venv/lib/python3.8/site\u001b[0m \u001b[2m             \u001b[0m\n",
       "\u001b[2;36m                    \u001b[0m         \u001b[32m-packages/prophet/stan_model/prophet_model.bin'\u001b[0m, \u001b[32m'random'\u001b[0m, \u001b[32m'\u001b[0m\u001b[32mseed\u001b[0m\u001b[32m=\u001b[0m\u001b[32m37549\u001b[0m\u001b[32m'\u001b[0m, \u001b[2m             \u001b[0m\n",
       "\u001b[2;36m                    \u001b[0m         \u001b[32m'data'\u001b[0m, \u001b[32m'\u001b[0m\u001b[32mfile\u001b[0m\u001b[32m=/tmp/tmpsaail0o2/o1uwsr6y.json'\u001b[0m,                           \u001b[2m             \u001b[0m\n",
       "\u001b[2;36m                    \u001b[0m         \u001b[32m'\u001b[0m\u001b[32minit\u001b[0m\u001b[32m=/tmp/tmpsaail0o2/ne92b93m.json'\u001b[0m, \u001b[32m'output'\u001b[0m,                         \u001b[2m             \u001b[0m\n",
       "\u001b[2;36m                    \u001b[0m         \u001b[32m'\u001b[0m\u001b[32mfile\u001b[0m\u001b[32m=/tmp/tmpsaail0o2/prophet_modelb0_y4e7p/prophet_model-2023052018370\u001b[0m \u001b[2m             \u001b[0m\n",
       "\u001b[2;36m                    \u001b[0m         \u001b[32m7.csv'\u001b[0m, \u001b[32m'\u001b[0m\u001b[32mmethod\u001b[0m\u001b[32m=\u001b[0m\u001b[32moptimize\u001b[0m\u001b[32m'\u001b[0m, \u001b[32m'\u001b[0m\u001b[32malgorithm\u001b[0m\u001b[32m=\u001b[0m\u001b[32mnewton\u001b[0m\u001b[32m'\u001b[0m, \u001b[32m'\u001b[0m\u001b[32miter\u001b[0m\u001b[32m=\u001b[0m\u001b[32m10000\u001b[0m\u001b[32m'\u001b[0m\u001b[1m]\u001b[0m             \u001b[2m             \u001b[0m\n"
      ]
     },
     "metadata": {},
     "output_type": "display_data"
    },
    {
     "name": "stderr",
     "output_type": "stream",
     "text": [
      "18:37:07 - cmdstanpy - INFO - Chain [1] start processing\n"
     ]
    },
    {
     "data": {
      "text/html": [
       "<pre style=\"white-space:pre;overflow-x:auto;line-height:normal;font-family:Menlo,'DejaVu Sans Mono',consolas,'Courier New',monospace\"><span style=\"color: #7fbfbf; text-decoration-color: #7fbfbf\">                    </span><span style=\"color: #000080; text-decoration-color: #000080\">INFO    </span> Chain <span style=\"font-weight: bold\">[</span><span style=\"color: #008080; text-decoration-color: #008080; font-weight: bold\">1</span><span style=\"font-weight: bold\">]</span> start processing                                               <a href=\"file:///home/work/Documents/repo/economic_freedom_ml/.venv/lib/python3.8/site-packages/cmdstanpy/model.py\" target=\"_blank\"><span style=\"color: #7f7f7f; text-decoration-color: #7f7f7f\">model.py</span></a><span style=\"color: #7f7f7f; text-decoration-color: #7f7f7f\">:</span><a href=\"file:///home/work/Documents/repo/economic_freedom_ml/.venv/lib/python3.8/site-packages/cmdstanpy/model.py#1693\" target=\"_blank\"><span style=\"color: #7f7f7f; text-decoration-color: #7f7f7f\">1693</span></a>\n",
       "</pre>\n"
      ],
      "text/plain": [
       "\u001b[2;36m                   \u001b[0m\u001b[2;36m \u001b[0m\u001b[34mINFO    \u001b[0m Chain \u001b[1m[\u001b[0m\u001b[1;36m1\u001b[0m\u001b[1m]\u001b[0m start processing                                               \u001b]8;id=337647;file:///home/work/Documents/repo/economic_freedom_ml/.venv/lib/python3.8/site-packages/cmdstanpy/model.py\u001b\\\u001b[2mmodel.py\u001b[0m\u001b]8;;\u001b\\\u001b[2m:\u001b[0m\u001b]8;id=460112;file:///home/work/Documents/repo/economic_freedom_ml/.venv/lib/python3.8/site-packages/cmdstanpy/model.py#1693\u001b\\\u001b[2m1693\u001b[0m\u001b]8;;\u001b\\\n"
      ]
     },
     "metadata": {},
     "output_type": "display_data"
    },
    {
     "name": "stderr",
     "output_type": "stream",
     "text": [
      "18:37:08 - cmdstanpy - INFO - Chain [1] done processing\n"
     ]
    },
    {
     "data": {
      "text/html": [
       "<pre style=\"white-space:pre;overflow-x:auto;line-height:normal;font-family:Menlo,'DejaVu Sans Mono',consolas,'Courier New',monospace\"><span style=\"color: #7fbfbf; text-decoration-color: #7fbfbf\">[05/20/23 18:37:08] </span><span style=\"color: #000080; text-decoration-color: #000080\">INFO    </span> Chain <span style=\"font-weight: bold\">[</span><span style=\"color: #008080; text-decoration-color: #008080; font-weight: bold\">1</span><span style=\"font-weight: bold\">]</span> done processing                                                <a href=\"file:///home/work/Documents/repo/economic_freedom_ml/.venv/lib/python3.8/site-packages/cmdstanpy/model.py\" target=\"_blank\"><span style=\"color: #7f7f7f; text-decoration-color: #7f7f7f\">model.py</span></a><span style=\"color: #7f7f7f; text-decoration-color: #7f7f7f\">:</span><a href=\"file:///home/work/Documents/repo/economic_freedom_ml/.venv/lib/python3.8/site-packages/cmdstanpy/model.py#1750\" target=\"_blank\"><span style=\"color: #7f7f7f; text-decoration-color: #7f7f7f\">1750</span></a>\n",
       "</pre>\n"
      ],
      "text/plain": [
       "\u001b[2;36m[05/20/23 18:37:08]\u001b[0m\u001b[2;36m \u001b[0m\u001b[34mINFO    \u001b[0m Chain \u001b[1m[\u001b[0m\u001b[1;36m1\u001b[0m\u001b[1m]\u001b[0m done processing                                                \u001b]8;id=549888;file:///home/work/Documents/repo/economic_freedom_ml/.venv/lib/python3.8/site-packages/cmdstanpy/model.py\u001b\\\u001b[2mmodel.py\u001b[0m\u001b]8;;\u001b\\\u001b[2m:\u001b[0m\u001b]8;id=323863;file:///home/work/Documents/repo/economic_freedom_ml/.venv/lib/python3.8/site-packages/cmdstanpy/model.py#1750\u001b\\\u001b[2m1750\u001b[0m\u001b]8;;\u001b\\\n"
      ]
     },
     "metadata": {},
     "output_type": "display_data"
    },
    {
     "data": {
      "text/html": [
       "<pre style=\"white-space:pre;overflow-x:auto;line-height:normal;font-family:Menlo,'DejaVu Sans Mono',consolas,'Courier New',monospace\"><span style=\"color: #7fbfbf; text-decoration-color: #7fbfbf\">                    </span><span style=\"color: #000080; text-decoration-color: #000080\">INFO    </span> Disabling weekly seasonality. Run prophet with                       <a href=\"file:///home/work/Documents/repo/economic_freedom_ml/.venv/lib/python3.8/site-packages/prophet/forecaster.py\" target=\"_blank\"><span style=\"color: #7f7f7f; text-decoration-color: #7f7f7f\">forecaster.py</span></a><span style=\"color: #7f7f7f; text-decoration-color: #7f7f7f\">:</span><a href=\"file:///home/work/Documents/repo/economic_freedom_ml/.venv/lib/python3.8/site-packages/prophet/forecaster.py#931\" target=\"_blank\"><span style=\"color: #7f7f7f; text-decoration-color: #7f7f7f\">931</span></a>\n",
       "<span style=\"color: #7fbfbf; text-decoration-color: #7fbfbf\">                    </span>         <span style=\"color: #808000; text-decoration-color: #808000\">weekly_seasonality</span>=<span style=\"color: #00ff00; text-decoration-color: #00ff00; font-style: italic\">True</span> to override this.                            <span style=\"color: #7f7f7f; text-decoration-color: #7f7f7f\">                 </span>\n",
       "</pre>\n"
      ],
      "text/plain": [
       "\u001b[2;36m                   \u001b[0m\u001b[2;36m \u001b[0m\u001b[34mINFO    \u001b[0m Disabling weekly seasonality. Run prophet with                       \u001b]8;id=673806;file:///home/work/Documents/repo/economic_freedom_ml/.venv/lib/python3.8/site-packages/prophet/forecaster.py\u001b\\\u001b[2mforecaster.py\u001b[0m\u001b]8;;\u001b\\\u001b[2m:\u001b[0m\u001b]8;id=280607;file:///home/work/Documents/repo/economic_freedom_ml/.venv/lib/python3.8/site-packages/prophet/forecaster.py#931\u001b\\\u001b[2m931\u001b[0m\u001b]8;;\u001b\\\n",
       "\u001b[2;36m                    \u001b[0m         \u001b[33mweekly_seasonality\u001b[0m=\u001b[3;92mTrue\u001b[0m to override this.                            \u001b[2m                 \u001b[0m\n"
      ]
     },
     "metadata": {},
     "output_type": "display_data"
    },
    {
     "data": {
      "text/html": [
       "<pre style=\"white-space:pre;overflow-x:auto;line-height:normal;font-family:Menlo,'DejaVu Sans Mono',consolas,'Courier New',monospace\"><span style=\"color: #7fbfbf; text-decoration-color: #7fbfbf\">                    </span><span style=\"color: #000080; text-decoration-color: #000080\">INFO    </span> Disabling daily seasonality. Run prophet with <span style=\"color: #808000; text-decoration-color: #808000\">daily_seasonality</span>=<span style=\"color: #00ff00; text-decoration-color: #00ff00; font-style: italic\">True</span> <a href=\"file:///home/work/Documents/repo/economic_freedom_ml/.venv/lib/python3.8/site-packages/prophet/forecaster.py\" target=\"_blank\"><span style=\"color: #7f7f7f; text-decoration-color: #7f7f7f\">forecaster.py</span></a><span style=\"color: #7f7f7f; text-decoration-color: #7f7f7f\">:</span><a href=\"file:///home/work/Documents/repo/economic_freedom_ml/.venv/lib/python3.8/site-packages/prophet/forecaster.py#931\" target=\"_blank\"><span style=\"color: #7f7f7f; text-decoration-color: #7f7f7f\">931</span></a>\n",
       "<span style=\"color: #7fbfbf; text-decoration-color: #7fbfbf\">                    </span>         to override this.                                                    <span style=\"color: #7f7f7f; text-decoration-color: #7f7f7f\">                 </span>\n",
       "</pre>\n"
      ],
      "text/plain": [
       "\u001b[2;36m                   \u001b[0m\u001b[2;36m \u001b[0m\u001b[34mINFO    \u001b[0m Disabling daily seasonality. Run prophet with \u001b[33mdaily_seasonality\u001b[0m=\u001b[3;92mTrue\u001b[0m \u001b]8;id=14748;file:///home/work/Documents/repo/economic_freedom_ml/.venv/lib/python3.8/site-packages/prophet/forecaster.py\u001b\\\u001b[2mforecaster.py\u001b[0m\u001b]8;;\u001b\\\u001b[2m:\u001b[0m\u001b]8;id=122848;file:///home/work/Documents/repo/economic_freedom_ml/.venv/lib/python3.8/site-packages/prophet/forecaster.py#931\u001b\\\u001b[2m931\u001b[0m\u001b]8;;\u001b\\\n",
       "\u001b[2;36m                    \u001b[0m         to override this.                                                    \u001b[2m                 \u001b[0m\n"
      ]
     },
     "metadata": {},
     "output_type": "display_data"
    },
    {
     "data": {
      "text/html": [
       "<pre style=\"white-space:pre;overflow-x:auto;line-height:normal;font-family:Menlo,'DejaVu Sans Mono',consolas,'Courier New',monospace\"><span style=\"color: #7fbfbf; text-decoration-color: #7fbfbf\">                    </span><span style=\"color: #000080; text-decoration-color: #000080\">INFO    </span> n_changepoints greater than number of observations. Using <span style=\"color: #008080; text-decoration-color: #008080; font-weight: bold\">18</span>.        <a href=\"file:///home/work/Documents/repo/economic_freedom_ml/.venv/lib/python3.8/site-packages/prophet/forecaster.py\" target=\"_blank\"><span style=\"color: #7f7f7f; text-decoration-color: #7f7f7f\">forecaster.py</span></a><span style=\"color: #7f7f7f; text-decoration-color: #7f7f7f\">:</span><a href=\"file:///home/work/Documents/repo/economic_freedom_ml/.venv/lib/python3.8/site-packages/prophet/forecaster.py#401\" target=\"_blank\"><span style=\"color: #7f7f7f; text-decoration-color: #7f7f7f\">401</span></a>\n",
       "</pre>\n"
      ],
      "text/plain": [
       "\u001b[2;36m                   \u001b[0m\u001b[2;36m \u001b[0m\u001b[34mINFO    \u001b[0m n_changepoints greater than number of observations. Using \u001b[1;36m18\u001b[0m.        \u001b]8;id=988130;file:///home/work/Documents/repo/economic_freedom_ml/.venv/lib/python3.8/site-packages/prophet/forecaster.py\u001b\\\u001b[2mforecaster.py\u001b[0m\u001b]8;;\u001b\\\u001b[2m:\u001b[0m\u001b]8;id=810243;file:///home/work/Documents/repo/economic_freedom_ml/.venv/lib/python3.8/site-packages/prophet/forecaster.py#401\u001b\\\u001b[2m401\u001b[0m\u001b]8;;\u001b\\\n"
      ]
     },
     "metadata": {},
     "output_type": "display_data"
    },
    {
     "data": {
      "text/html": [
       "<pre style=\"white-space:pre;overflow-x:auto;line-height:normal;font-family:Menlo,'DejaVu Sans Mono',consolas,'Courier New',monospace\"><span style=\"color: #7fbfbf; text-decoration-color: #7fbfbf\">                    </span><span style=\"color: #008000; text-decoration-color: #008000\">DEBUG   </span> input tempfile: <span style=\"color: #800080; text-decoration-color: #800080\">/tmp/tmpsaail0o2/</span><span style=\"color: #ff00ff; text-decoration-color: #ff00ff\">guz711yf.json</span>                       <a href=\"file:///home/work/Documents/repo/economic_freedom_ml/.venv/lib/python3.8/site-packages/cmdstanpy/utils/filesystem.py\" target=\"_blank\"><span style=\"color: #7f7f7f; text-decoration-color: #7f7f7f\">filesystem.py</span></a><span style=\"color: #7f7f7f; text-decoration-color: #7f7f7f\">:</span><a href=\"file:///home/work/Documents/repo/economic_freedom_ml/.venv/lib/python3.8/site-packages/cmdstanpy/utils/filesystem.py#123\" target=\"_blank\"><span style=\"color: #7f7f7f; text-decoration-color: #7f7f7f\">123</span></a>\n",
       "</pre>\n"
      ],
      "text/plain": [
       "\u001b[2;36m                   \u001b[0m\u001b[2;36m \u001b[0m\u001b[32mDEBUG   \u001b[0m input tempfile: \u001b[35m/tmp/tmpsaail0o2/\u001b[0m\u001b[95mguz711yf.json\u001b[0m                       \u001b]8;id=595747;file:///home/work/Documents/repo/economic_freedom_ml/.venv/lib/python3.8/site-packages/cmdstanpy/utils/filesystem.py\u001b\\\u001b[2mfilesystem.py\u001b[0m\u001b]8;;\u001b\\\u001b[2m:\u001b[0m\u001b]8;id=523799;file:///home/work/Documents/repo/economic_freedom_ml/.venv/lib/python3.8/site-packages/cmdstanpy/utils/filesystem.py#123\u001b\\\u001b[2m123\u001b[0m\u001b]8;;\u001b\\\n"
      ]
     },
     "metadata": {},
     "output_type": "display_data"
    },
    {
     "data": {
      "text/html": [
       "<pre style=\"white-space:pre;overflow-x:auto;line-height:normal;font-family:Menlo,'DejaVu Sans Mono',consolas,'Courier New',monospace\"><span style=\"color: #7fbfbf; text-decoration-color: #7fbfbf\">                    </span><span style=\"color: #008000; text-decoration-color: #008000\">DEBUG   </span> input tempfile: <span style=\"color: #800080; text-decoration-color: #800080\">/tmp/tmpsaail0o2/</span><span style=\"color: #ff00ff; text-decoration-color: #ff00ff\">_ml0s1f5.json</span>                       <a href=\"file:///home/work/Documents/repo/economic_freedom_ml/.venv/lib/python3.8/site-packages/cmdstanpy/utils/filesystem.py\" target=\"_blank\"><span style=\"color: #7f7f7f; text-decoration-color: #7f7f7f\">filesystem.py</span></a><span style=\"color: #7f7f7f; text-decoration-color: #7f7f7f\">:</span><a href=\"file:///home/work/Documents/repo/economic_freedom_ml/.venv/lib/python3.8/site-packages/cmdstanpy/utils/filesystem.py#123\" target=\"_blank\"><span style=\"color: #7f7f7f; text-decoration-color: #7f7f7f\">123</span></a>\n",
       "</pre>\n"
      ],
      "text/plain": [
       "\u001b[2;36m                   \u001b[0m\u001b[2;36m \u001b[0m\u001b[32mDEBUG   \u001b[0m input tempfile: \u001b[35m/tmp/tmpsaail0o2/\u001b[0m\u001b[95m_ml0s1f5.json\u001b[0m                       \u001b]8;id=898595;file:///home/work/Documents/repo/economic_freedom_ml/.venv/lib/python3.8/site-packages/cmdstanpy/utils/filesystem.py\u001b\\\u001b[2mfilesystem.py\u001b[0m\u001b]8;;\u001b\\\u001b[2m:\u001b[0m\u001b]8;id=562777;file:///home/work/Documents/repo/economic_freedom_ml/.venv/lib/python3.8/site-packages/cmdstanpy/utils/filesystem.py#123\u001b\\\u001b[2m123\u001b[0m\u001b]8;;\u001b\\\n"
      ]
     },
     "metadata": {},
     "output_type": "display_data"
    },
    {
     "data": {
      "text/html": [
       "<pre style=\"white-space:pre;overflow-x:auto;line-height:normal;font-family:Menlo,'DejaVu Sans Mono',consolas,'Courier New',monospace\"><span style=\"color: #7fbfbf; text-decoration-color: #7fbfbf\">                    </span><span style=\"color: #008000; text-decoration-color: #008000\">DEBUG   </span> idx <span style=\"color: #008080; text-decoration-color: #008080; font-weight: bold\">0</span>                                                                    <a href=\"file:///home/work/Documents/repo/economic_freedom_ml/.venv/lib/python3.8/site-packages/cmdstanpy/model.py\" target=\"_blank\"><span style=\"color: #7f7f7f; text-decoration-color: #7f7f7f\">model.py</span></a><span style=\"color: #7f7f7f; text-decoration-color: #7f7f7f\">:</span><a href=\"file:///home/work/Documents/repo/economic_freedom_ml/.venv/lib/python3.8/site-packages/cmdstanpy/model.py#1677\" target=\"_blank\"><span style=\"color: #7f7f7f; text-decoration-color: #7f7f7f\">1677</span></a>\n",
       "</pre>\n"
      ],
      "text/plain": [
       "\u001b[2;36m                   \u001b[0m\u001b[2;36m \u001b[0m\u001b[32mDEBUG   \u001b[0m idx \u001b[1;36m0\u001b[0m                                                                    \u001b]8;id=199083;file:///home/work/Documents/repo/economic_freedom_ml/.venv/lib/python3.8/site-packages/cmdstanpy/model.py\u001b\\\u001b[2mmodel.py\u001b[0m\u001b]8;;\u001b\\\u001b[2m:\u001b[0m\u001b]8;id=562790;file:///home/work/Documents/repo/economic_freedom_ml/.venv/lib/python3.8/site-packages/cmdstanpy/model.py#1677\u001b\\\u001b[2m1677\u001b[0m\u001b]8;;\u001b\\\n"
      ]
     },
     "metadata": {},
     "output_type": "display_data"
    },
    {
     "data": {
      "text/html": [
       "<pre style=\"white-space:pre;overflow-x:auto;line-height:normal;font-family:Menlo,'DejaVu Sans Mono',consolas,'Courier New',monospace\"><span style=\"color: #7fbfbf; text-decoration-color: #7fbfbf\">                    </span><span style=\"color: #008000; text-decoration-color: #008000\">DEBUG   </span> running CmdStan, num_threads: <span style=\"color: #800080; text-decoration-color: #800080; font-style: italic\">None</span>                                       <a href=\"file:///home/work/Documents/repo/economic_freedom_ml/.venv/lib/python3.8/site-packages/cmdstanpy/model.py\" target=\"_blank\"><span style=\"color: #7f7f7f; text-decoration-color: #7f7f7f\">model.py</span></a><span style=\"color: #7f7f7f; text-decoration-color: #7f7f7f\">:</span><a href=\"file:///home/work/Documents/repo/economic_freedom_ml/.venv/lib/python3.8/site-packages/cmdstanpy/model.py#1678\" target=\"_blank\"><span style=\"color: #7f7f7f; text-decoration-color: #7f7f7f\">1678</span></a>\n",
       "</pre>\n"
      ],
      "text/plain": [
       "\u001b[2;36m                   \u001b[0m\u001b[2;36m \u001b[0m\u001b[32mDEBUG   \u001b[0m running CmdStan, num_threads: \u001b[3;35mNone\u001b[0m                                       \u001b]8;id=419961;file:///home/work/Documents/repo/economic_freedom_ml/.venv/lib/python3.8/site-packages/cmdstanpy/model.py\u001b\\\u001b[2mmodel.py\u001b[0m\u001b]8;;\u001b\\\u001b[2m:\u001b[0m\u001b]8;id=146033;file:///home/work/Documents/repo/economic_freedom_ml/.venv/lib/python3.8/site-packages/cmdstanpy/model.py#1678\u001b\\\u001b[2m1678\u001b[0m\u001b]8;;\u001b\\\n"
      ]
     },
     "metadata": {},
     "output_type": "display_data"
    },
    {
     "data": {
      "text/html": [
       "<pre style=\"white-space:pre;overflow-x:auto;line-height:normal;font-family:Menlo,'DejaVu Sans Mono',consolas,'Courier New',monospace\"><span style=\"color: #7fbfbf; text-decoration-color: #7fbfbf\">                    </span><span style=\"color: #008000; text-decoration-color: #008000\">DEBUG   </span> CmdStan args:                                                            <a href=\"file:///home/work/Documents/repo/economic_freedom_ml/.venv/lib/python3.8/site-packages/cmdstanpy/model.py\" target=\"_blank\"><span style=\"color: #7f7f7f; text-decoration-color: #7f7f7f\">model.py</span></a><span style=\"color: #7f7f7f; text-decoration-color: #7f7f7f\">:</span><a href=\"file:///home/work/Documents/repo/economic_freedom_ml/.venv/lib/python3.8/site-packages/cmdstanpy/model.py#1690\" target=\"_blank\"><span style=\"color: #7f7f7f; text-decoration-color: #7f7f7f\">1690</span></a>\n",
       "<span style=\"color: #7fbfbf; text-decoration-color: #7fbfbf\">                    </span>         <span style=\"font-weight: bold\">[</span><span style=\"color: #008000; text-decoration-color: #008000\">'/home/work/Documents/repo/economic_freedom_ml/.venv/lib/python3.8/site</span> <span style=\"color: #7f7f7f; text-decoration-color: #7f7f7f\">             </span>\n",
       "<span style=\"color: #7fbfbf; text-decoration-color: #7fbfbf\">                    </span>         <span style=\"color: #008000; text-decoration-color: #008000\">-packages/prophet/stan_model/prophet_model.bin'</span>, <span style=\"color: #008000; text-decoration-color: #008000\">'random'</span>, <span style=\"color: #008000; text-decoration-color: #008000\">'seed=17666'</span>, <span style=\"color: #7f7f7f; text-decoration-color: #7f7f7f\">             </span>\n",
       "<span style=\"color: #7fbfbf; text-decoration-color: #7fbfbf\">                    </span>         <span style=\"color: #008000; text-decoration-color: #008000\">'data'</span>, <span style=\"color: #008000; text-decoration-color: #008000\">'file=/tmp/tmpsaail0o2/guz711yf.json'</span>,                           <span style=\"color: #7f7f7f; text-decoration-color: #7f7f7f\">             </span>\n",
       "<span style=\"color: #7fbfbf; text-decoration-color: #7fbfbf\">                    </span>         <span style=\"color: #008000; text-decoration-color: #008000\">'init=/tmp/tmpsaail0o2/_ml0s1f5.json'</span>, <span style=\"color: #008000; text-decoration-color: #008000\">'output'</span>,                         <span style=\"color: #7f7f7f; text-decoration-color: #7f7f7f\">             </span>\n",
       "<span style=\"color: #7fbfbf; text-decoration-color: #7fbfbf\">                    </span>         <span style=\"color: #008000; text-decoration-color: #008000\">'file=/tmp/tmpsaail0o2/prophet_modelll0fwfuf/prophet_model-2023052018370</span> <span style=\"color: #7f7f7f; text-decoration-color: #7f7f7f\">             </span>\n",
       "<span style=\"color: #7fbfbf; text-decoration-color: #7fbfbf\">                    </span>         <span style=\"color: #008000; text-decoration-color: #008000\">8.csv'</span>, <span style=\"color: #008000; text-decoration-color: #008000\">'method=optimize'</span>, <span style=\"color: #008000; text-decoration-color: #008000\">'algorithm=newton'</span>, <span style=\"color: #008000; text-decoration-color: #008000\">'iter=10000'</span><span style=\"font-weight: bold\">]</span>             <span style=\"color: #7f7f7f; text-decoration-color: #7f7f7f\">             </span>\n",
       "</pre>\n"
      ],
      "text/plain": [
       "\u001b[2;36m                   \u001b[0m\u001b[2;36m \u001b[0m\u001b[32mDEBUG   \u001b[0m CmdStan args:                                                            \u001b]8;id=553546;file:///home/work/Documents/repo/economic_freedom_ml/.venv/lib/python3.8/site-packages/cmdstanpy/model.py\u001b\\\u001b[2mmodel.py\u001b[0m\u001b]8;;\u001b\\\u001b[2m:\u001b[0m\u001b]8;id=105046;file:///home/work/Documents/repo/economic_freedom_ml/.venv/lib/python3.8/site-packages/cmdstanpy/model.py#1690\u001b\\\u001b[2m1690\u001b[0m\u001b]8;;\u001b\\\n",
       "\u001b[2;36m                    \u001b[0m         \u001b[1m[\u001b[0m\u001b[32m'/home/work/Documents/repo/economic_freedom_ml/.venv/lib/python3.8/site\u001b[0m \u001b[2m             \u001b[0m\n",
       "\u001b[2;36m                    \u001b[0m         \u001b[32m-packages/prophet/stan_model/prophet_model.bin'\u001b[0m, \u001b[32m'random'\u001b[0m, \u001b[32m'\u001b[0m\u001b[32mseed\u001b[0m\u001b[32m=\u001b[0m\u001b[32m17666\u001b[0m\u001b[32m'\u001b[0m, \u001b[2m             \u001b[0m\n",
       "\u001b[2;36m                    \u001b[0m         \u001b[32m'data'\u001b[0m, \u001b[32m'\u001b[0m\u001b[32mfile\u001b[0m\u001b[32m=/tmp/tmpsaail0o2/guz711yf.json'\u001b[0m,                           \u001b[2m             \u001b[0m\n",
       "\u001b[2;36m                    \u001b[0m         \u001b[32m'\u001b[0m\u001b[32minit\u001b[0m\u001b[32m=/tmp/tmpsaail0o2/_ml0s1f5.json'\u001b[0m, \u001b[32m'output'\u001b[0m,                         \u001b[2m             \u001b[0m\n",
       "\u001b[2;36m                    \u001b[0m         \u001b[32m'\u001b[0m\u001b[32mfile\u001b[0m\u001b[32m=/tmp/tmpsaail0o2/prophet_modelll0fwfuf/prophet_model-2023052018370\u001b[0m \u001b[2m             \u001b[0m\n",
       "\u001b[2;36m                    \u001b[0m         \u001b[32m8.csv'\u001b[0m, \u001b[32m'\u001b[0m\u001b[32mmethod\u001b[0m\u001b[32m=\u001b[0m\u001b[32moptimize\u001b[0m\u001b[32m'\u001b[0m, \u001b[32m'\u001b[0m\u001b[32malgorithm\u001b[0m\u001b[32m=\u001b[0m\u001b[32mnewton\u001b[0m\u001b[32m'\u001b[0m, \u001b[32m'\u001b[0m\u001b[32miter\u001b[0m\u001b[32m=\u001b[0m\u001b[32m10000\u001b[0m\u001b[32m'\u001b[0m\u001b[1m]\u001b[0m             \u001b[2m             \u001b[0m\n"
      ]
     },
     "metadata": {},
     "output_type": "display_data"
    },
    {
     "name": "stderr",
     "output_type": "stream",
     "text": [
      "18:37:08 - cmdstanpy - INFO - Chain [1] start processing\n"
     ]
    },
    {
     "data": {
      "text/html": [
       "<pre style=\"white-space:pre;overflow-x:auto;line-height:normal;font-family:Menlo,'DejaVu Sans Mono',consolas,'Courier New',monospace\"><span style=\"color: #7fbfbf; text-decoration-color: #7fbfbf\">                    </span><span style=\"color: #000080; text-decoration-color: #000080\">INFO    </span> Chain <span style=\"font-weight: bold\">[</span><span style=\"color: #008080; text-decoration-color: #008080; font-weight: bold\">1</span><span style=\"font-weight: bold\">]</span> start processing                                               <a href=\"file:///home/work/Documents/repo/economic_freedom_ml/.venv/lib/python3.8/site-packages/cmdstanpy/model.py\" target=\"_blank\"><span style=\"color: #7f7f7f; text-decoration-color: #7f7f7f\">model.py</span></a><span style=\"color: #7f7f7f; text-decoration-color: #7f7f7f\">:</span><a href=\"file:///home/work/Documents/repo/economic_freedom_ml/.venv/lib/python3.8/site-packages/cmdstanpy/model.py#1693\" target=\"_blank\"><span style=\"color: #7f7f7f; text-decoration-color: #7f7f7f\">1693</span></a>\n",
       "</pre>\n"
      ],
      "text/plain": [
       "\u001b[2;36m                   \u001b[0m\u001b[2;36m \u001b[0m\u001b[34mINFO    \u001b[0m Chain \u001b[1m[\u001b[0m\u001b[1;36m1\u001b[0m\u001b[1m]\u001b[0m start processing                                               \u001b]8;id=273106;file:///home/work/Documents/repo/economic_freedom_ml/.venv/lib/python3.8/site-packages/cmdstanpy/model.py\u001b\\\u001b[2mmodel.py\u001b[0m\u001b]8;;\u001b\\\u001b[2m:\u001b[0m\u001b]8;id=103592;file:///home/work/Documents/repo/economic_freedom_ml/.venv/lib/python3.8/site-packages/cmdstanpy/model.py#1693\u001b\\\u001b[2m1693\u001b[0m\u001b]8;;\u001b\\\n"
      ]
     },
     "metadata": {},
     "output_type": "display_data"
    },
    {
     "name": "stderr",
     "output_type": "stream",
     "text": [
      "18:37:08 - cmdstanpy - INFO - Chain [1] done processing\n"
     ]
    },
    {
     "data": {
      "text/html": [
       "<pre style=\"white-space:pre;overflow-x:auto;line-height:normal;font-family:Menlo,'DejaVu Sans Mono',consolas,'Courier New',monospace\"><span style=\"color: #7fbfbf; text-decoration-color: #7fbfbf\">                    </span><span style=\"color: #000080; text-decoration-color: #000080\">INFO    </span> Chain <span style=\"font-weight: bold\">[</span><span style=\"color: #008080; text-decoration-color: #008080; font-weight: bold\">1</span><span style=\"font-weight: bold\">]</span> done processing                                                <a href=\"file:///home/work/Documents/repo/economic_freedom_ml/.venv/lib/python3.8/site-packages/cmdstanpy/model.py\" target=\"_blank\"><span style=\"color: #7f7f7f; text-decoration-color: #7f7f7f\">model.py</span></a><span style=\"color: #7f7f7f; text-decoration-color: #7f7f7f\">:</span><a href=\"file:///home/work/Documents/repo/economic_freedom_ml/.venv/lib/python3.8/site-packages/cmdstanpy/model.py#1750\" target=\"_blank\"><span style=\"color: #7f7f7f; text-decoration-color: #7f7f7f\">1750</span></a>\n",
       "</pre>\n"
      ],
      "text/plain": [
       "\u001b[2;36m                   \u001b[0m\u001b[2;36m \u001b[0m\u001b[34mINFO    \u001b[0m Chain \u001b[1m[\u001b[0m\u001b[1;36m1\u001b[0m\u001b[1m]\u001b[0m done processing                                                \u001b]8;id=987213;file:///home/work/Documents/repo/economic_freedom_ml/.venv/lib/python3.8/site-packages/cmdstanpy/model.py\u001b\\\u001b[2mmodel.py\u001b[0m\u001b]8;;\u001b\\\u001b[2m:\u001b[0m\u001b]8;id=53644;file:///home/work/Documents/repo/economic_freedom_ml/.venv/lib/python3.8/site-packages/cmdstanpy/model.py#1750\u001b\\\u001b[2m1750\u001b[0m\u001b]8;;\u001b\\\n"
      ]
     },
     "metadata": {},
     "output_type": "display_data"
    },
    {
     "data": {
      "text/html": [
       "<pre style=\"white-space:pre;overflow-x:auto;line-height:normal;font-family:Menlo,'DejaVu Sans Mono',consolas,'Courier New',monospace\"><span style=\"color: #7fbfbf; text-decoration-color: #7fbfbf\">                    </span><span style=\"color: #000080; text-decoration-color: #000080\">INFO    </span> Disabling weekly seasonality. Run prophet with                       <a href=\"file:///home/work/Documents/repo/economic_freedom_ml/.venv/lib/python3.8/site-packages/prophet/forecaster.py\" target=\"_blank\"><span style=\"color: #7f7f7f; text-decoration-color: #7f7f7f\">forecaster.py</span></a><span style=\"color: #7f7f7f; text-decoration-color: #7f7f7f\">:</span><a href=\"file:///home/work/Documents/repo/economic_freedom_ml/.venv/lib/python3.8/site-packages/prophet/forecaster.py#931\" target=\"_blank\"><span style=\"color: #7f7f7f; text-decoration-color: #7f7f7f\">931</span></a>\n",
       "<span style=\"color: #7fbfbf; text-decoration-color: #7fbfbf\">                    </span>         <span style=\"color: #808000; text-decoration-color: #808000\">weekly_seasonality</span>=<span style=\"color: #00ff00; text-decoration-color: #00ff00; font-style: italic\">True</span> to override this.                            <span style=\"color: #7f7f7f; text-decoration-color: #7f7f7f\">                 </span>\n",
       "</pre>\n"
      ],
      "text/plain": [
       "\u001b[2;36m                   \u001b[0m\u001b[2;36m \u001b[0m\u001b[34mINFO    \u001b[0m Disabling weekly seasonality. Run prophet with                       \u001b]8;id=215512;file:///home/work/Documents/repo/economic_freedom_ml/.venv/lib/python3.8/site-packages/prophet/forecaster.py\u001b\\\u001b[2mforecaster.py\u001b[0m\u001b]8;;\u001b\\\u001b[2m:\u001b[0m\u001b]8;id=436772;file:///home/work/Documents/repo/economic_freedom_ml/.venv/lib/python3.8/site-packages/prophet/forecaster.py#931\u001b\\\u001b[2m931\u001b[0m\u001b]8;;\u001b\\\n",
       "\u001b[2;36m                    \u001b[0m         \u001b[33mweekly_seasonality\u001b[0m=\u001b[3;92mTrue\u001b[0m to override this.                            \u001b[2m                 \u001b[0m\n"
      ]
     },
     "metadata": {},
     "output_type": "display_data"
    },
    {
     "data": {
      "text/html": [
       "<pre style=\"white-space:pre;overflow-x:auto;line-height:normal;font-family:Menlo,'DejaVu Sans Mono',consolas,'Courier New',monospace\"><span style=\"color: #7fbfbf; text-decoration-color: #7fbfbf\">                    </span><span style=\"color: #000080; text-decoration-color: #000080\">INFO    </span> Disabling daily seasonality. Run prophet with <span style=\"color: #808000; text-decoration-color: #808000\">daily_seasonality</span>=<span style=\"color: #00ff00; text-decoration-color: #00ff00; font-style: italic\">True</span> <a href=\"file:///home/work/Documents/repo/economic_freedom_ml/.venv/lib/python3.8/site-packages/prophet/forecaster.py\" target=\"_blank\"><span style=\"color: #7f7f7f; text-decoration-color: #7f7f7f\">forecaster.py</span></a><span style=\"color: #7f7f7f; text-decoration-color: #7f7f7f\">:</span><a href=\"file:///home/work/Documents/repo/economic_freedom_ml/.venv/lib/python3.8/site-packages/prophet/forecaster.py#931\" target=\"_blank\"><span style=\"color: #7f7f7f; text-decoration-color: #7f7f7f\">931</span></a>\n",
       "<span style=\"color: #7fbfbf; text-decoration-color: #7fbfbf\">                    </span>         to override this.                                                    <span style=\"color: #7f7f7f; text-decoration-color: #7f7f7f\">                 </span>\n",
       "</pre>\n"
      ],
      "text/plain": [
       "\u001b[2;36m                   \u001b[0m\u001b[2;36m \u001b[0m\u001b[34mINFO    \u001b[0m Disabling daily seasonality. Run prophet with \u001b[33mdaily_seasonality\u001b[0m=\u001b[3;92mTrue\u001b[0m \u001b]8;id=315973;file:///home/work/Documents/repo/economic_freedom_ml/.venv/lib/python3.8/site-packages/prophet/forecaster.py\u001b\\\u001b[2mforecaster.py\u001b[0m\u001b]8;;\u001b\\\u001b[2m:\u001b[0m\u001b]8;id=188823;file:///home/work/Documents/repo/economic_freedom_ml/.venv/lib/python3.8/site-packages/prophet/forecaster.py#931\u001b\\\u001b[2m931\u001b[0m\u001b]8;;\u001b\\\n",
       "\u001b[2;36m                    \u001b[0m         to override this.                                                    \u001b[2m                 \u001b[0m\n"
      ]
     },
     "metadata": {},
     "output_type": "display_data"
    },
    {
     "data": {
      "text/html": [
       "<pre style=\"white-space:pre;overflow-x:auto;line-height:normal;font-family:Menlo,'DejaVu Sans Mono',consolas,'Courier New',monospace\"><span style=\"color: #7fbfbf; text-decoration-color: #7fbfbf\">                    </span><span style=\"color: #000080; text-decoration-color: #000080\">INFO    </span> n_changepoints greater than number of observations. Using <span style=\"color: #008080; text-decoration-color: #008080; font-weight: bold\">18</span>.        <a href=\"file:///home/work/Documents/repo/economic_freedom_ml/.venv/lib/python3.8/site-packages/prophet/forecaster.py\" target=\"_blank\"><span style=\"color: #7f7f7f; text-decoration-color: #7f7f7f\">forecaster.py</span></a><span style=\"color: #7f7f7f; text-decoration-color: #7f7f7f\">:</span><a href=\"file:///home/work/Documents/repo/economic_freedom_ml/.venv/lib/python3.8/site-packages/prophet/forecaster.py#401\" target=\"_blank\"><span style=\"color: #7f7f7f; text-decoration-color: #7f7f7f\">401</span></a>\n",
       "</pre>\n"
      ],
      "text/plain": [
       "\u001b[2;36m                   \u001b[0m\u001b[2;36m \u001b[0m\u001b[34mINFO    \u001b[0m n_changepoints greater than number of observations. Using \u001b[1;36m18\u001b[0m.        \u001b]8;id=416478;file:///home/work/Documents/repo/economic_freedom_ml/.venv/lib/python3.8/site-packages/prophet/forecaster.py\u001b\\\u001b[2mforecaster.py\u001b[0m\u001b]8;;\u001b\\\u001b[2m:\u001b[0m\u001b]8;id=75232;file:///home/work/Documents/repo/economic_freedom_ml/.venv/lib/python3.8/site-packages/prophet/forecaster.py#401\u001b\\\u001b[2m401\u001b[0m\u001b]8;;\u001b\\\n"
      ]
     },
     "metadata": {},
     "output_type": "display_data"
    },
    {
     "data": {
      "text/html": [
       "<pre style=\"white-space:pre;overflow-x:auto;line-height:normal;font-family:Menlo,'DejaVu Sans Mono',consolas,'Courier New',monospace\"><span style=\"color: #7fbfbf; text-decoration-color: #7fbfbf\">                    </span><span style=\"color: #008000; text-decoration-color: #008000\">DEBUG   </span> input tempfile: <span style=\"color: #800080; text-decoration-color: #800080\">/tmp/tmpsaail0o2/</span><span style=\"color: #ff00ff; text-decoration-color: #ff00ff\">tjau771y.json</span>                       <a href=\"file:///home/work/Documents/repo/economic_freedom_ml/.venv/lib/python3.8/site-packages/cmdstanpy/utils/filesystem.py\" target=\"_blank\"><span style=\"color: #7f7f7f; text-decoration-color: #7f7f7f\">filesystem.py</span></a><span style=\"color: #7f7f7f; text-decoration-color: #7f7f7f\">:</span><a href=\"file:///home/work/Documents/repo/economic_freedom_ml/.venv/lib/python3.8/site-packages/cmdstanpy/utils/filesystem.py#123\" target=\"_blank\"><span style=\"color: #7f7f7f; text-decoration-color: #7f7f7f\">123</span></a>\n",
       "</pre>\n"
      ],
      "text/plain": [
       "\u001b[2;36m                   \u001b[0m\u001b[2;36m \u001b[0m\u001b[32mDEBUG   \u001b[0m input tempfile: \u001b[35m/tmp/tmpsaail0o2/\u001b[0m\u001b[95mtjau771y.json\u001b[0m                       \u001b]8;id=247221;file:///home/work/Documents/repo/economic_freedom_ml/.venv/lib/python3.8/site-packages/cmdstanpy/utils/filesystem.py\u001b\\\u001b[2mfilesystem.py\u001b[0m\u001b]8;;\u001b\\\u001b[2m:\u001b[0m\u001b]8;id=10391;file:///home/work/Documents/repo/economic_freedom_ml/.venv/lib/python3.8/site-packages/cmdstanpy/utils/filesystem.py#123\u001b\\\u001b[2m123\u001b[0m\u001b]8;;\u001b\\\n"
      ]
     },
     "metadata": {},
     "output_type": "display_data"
    },
    {
     "data": {
      "text/html": [
       "<pre style=\"white-space:pre;overflow-x:auto;line-height:normal;font-family:Menlo,'DejaVu Sans Mono',consolas,'Courier New',monospace\"><span style=\"color: #7fbfbf; text-decoration-color: #7fbfbf\">                    </span><span style=\"color: #008000; text-decoration-color: #008000\">DEBUG   </span> input tempfile: <span style=\"color: #800080; text-decoration-color: #800080\">/tmp/tmpsaail0o2/</span><span style=\"color: #ff00ff; text-decoration-color: #ff00ff\">hp9t1x72.json</span>                       <a href=\"file:///home/work/Documents/repo/economic_freedom_ml/.venv/lib/python3.8/site-packages/cmdstanpy/utils/filesystem.py\" target=\"_blank\"><span style=\"color: #7f7f7f; text-decoration-color: #7f7f7f\">filesystem.py</span></a><span style=\"color: #7f7f7f; text-decoration-color: #7f7f7f\">:</span><a href=\"file:///home/work/Documents/repo/economic_freedom_ml/.venv/lib/python3.8/site-packages/cmdstanpy/utils/filesystem.py#123\" target=\"_blank\"><span style=\"color: #7f7f7f; text-decoration-color: #7f7f7f\">123</span></a>\n",
       "</pre>\n"
      ],
      "text/plain": [
       "\u001b[2;36m                   \u001b[0m\u001b[2;36m \u001b[0m\u001b[32mDEBUG   \u001b[0m input tempfile: \u001b[35m/tmp/tmpsaail0o2/\u001b[0m\u001b[95mhp9t1x72.json\u001b[0m                       \u001b]8;id=392804;file:///home/work/Documents/repo/economic_freedom_ml/.venv/lib/python3.8/site-packages/cmdstanpy/utils/filesystem.py\u001b\\\u001b[2mfilesystem.py\u001b[0m\u001b]8;;\u001b\\\u001b[2m:\u001b[0m\u001b]8;id=825382;file:///home/work/Documents/repo/economic_freedom_ml/.venv/lib/python3.8/site-packages/cmdstanpy/utils/filesystem.py#123\u001b\\\u001b[2m123\u001b[0m\u001b]8;;\u001b\\\n"
      ]
     },
     "metadata": {},
     "output_type": "display_data"
    },
    {
     "data": {
      "text/html": [
       "<pre style=\"white-space:pre;overflow-x:auto;line-height:normal;font-family:Menlo,'DejaVu Sans Mono',consolas,'Courier New',monospace\"><span style=\"color: #7fbfbf; text-decoration-color: #7fbfbf\">                    </span><span style=\"color: #008000; text-decoration-color: #008000\">DEBUG   </span> idx <span style=\"color: #008080; text-decoration-color: #008080; font-weight: bold\">0</span>                                                                    <a href=\"file:///home/work/Documents/repo/economic_freedom_ml/.venv/lib/python3.8/site-packages/cmdstanpy/model.py\" target=\"_blank\"><span style=\"color: #7f7f7f; text-decoration-color: #7f7f7f\">model.py</span></a><span style=\"color: #7f7f7f; text-decoration-color: #7f7f7f\">:</span><a href=\"file:///home/work/Documents/repo/economic_freedom_ml/.venv/lib/python3.8/site-packages/cmdstanpy/model.py#1677\" target=\"_blank\"><span style=\"color: #7f7f7f; text-decoration-color: #7f7f7f\">1677</span></a>\n",
       "</pre>\n"
      ],
      "text/plain": [
       "\u001b[2;36m                   \u001b[0m\u001b[2;36m \u001b[0m\u001b[32mDEBUG   \u001b[0m idx \u001b[1;36m0\u001b[0m                                                                    \u001b]8;id=867152;file:///home/work/Documents/repo/economic_freedom_ml/.venv/lib/python3.8/site-packages/cmdstanpy/model.py\u001b\\\u001b[2mmodel.py\u001b[0m\u001b]8;;\u001b\\\u001b[2m:\u001b[0m\u001b]8;id=128548;file:///home/work/Documents/repo/economic_freedom_ml/.venv/lib/python3.8/site-packages/cmdstanpy/model.py#1677\u001b\\\u001b[2m1677\u001b[0m\u001b]8;;\u001b\\\n"
      ]
     },
     "metadata": {},
     "output_type": "display_data"
    },
    {
     "data": {
      "text/html": [
       "<pre style=\"white-space:pre;overflow-x:auto;line-height:normal;font-family:Menlo,'DejaVu Sans Mono',consolas,'Courier New',monospace\"><span style=\"color: #7fbfbf; text-decoration-color: #7fbfbf\">                    </span><span style=\"color: #008000; text-decoration-color: #008000\">DEBUG   </span> running CmdStan, num_threads: <span style=\"color: #800080; text-decoration-color: #800080; font-style: italic\">None</span>                                       <a href=\"file:///home/work/Documents/repo/economic_freedom_ml/.venv/lib/python3.8/site-packages/cmdstanpy/model.py\" target=\"_blank\"><span style=\"color: #7f7f7f; text-decoration-color: #7f7f7f\">model.py</span></a><span style=\"color: #7f7f7f; text-decoration-color: #7f7f7f\">:</span><a href=\"file:///home/work/Documents/repo/economic_freedom_ml/.venv/lib/python3.8/site-packages/cmdstanpy/model.py#1678\" target=\"_blank\"><span style=\"color: #7f7f7f; text-decoration-color: #7f7f7f\">1678</span></a>\n",
       "</pre>\n"
      ],
      "text/plain": [
       "\u001b[2;36m                   \u001b[0m\u001b[2;36m \u001b[0m\u001b[32mDEBUG   \u001b[0m running CmdStan, num_threads: \u001b[3;35mNone\u001b[0m                                       \u001b]8;id=588648;file:///home/work/Documents/repo/economic_freedom_ml/.venv/lib/python3.8/site-packages/cmdstanpy/model.py\u001b\\\u001b[2mmodel.py\u001b[0m\u001b]8;;\u001b\\\u001b[2m:\u001b[0m\u001b]8;id=165588;file:///home/work/Documents/repo/economic_freedom_ml/.venv/lib/python3.8/site-packages/cmdstanpy/model.py#1678\u001b\\\u001b[2m1678\u001b[0m\u001b]8;;\u001b\\\n"
      ]
     },
     "metadata": {},
     "output_type": "display_data"
    },
    {
     "data": {
      "text/html": [
       "<pre style=\"white-space:pre;overflow-x:auto;line-height:normal;font-family:Menlo,'DejaVu Sans Mono',consolas,'Courier New',monospace\"><span style=\"color: #7fbfbf; text-decoration-color: #7fbfbf\">                    </span><span style=\"color: #008000; text-decoration-color: #008000\">DEBUG   </span> CmdStan args:                                                            <a href=\"file:///home/work/Documents/repo/economic_freedom_ml/.venv/lib/python3.8/site-packages/cmdstanpy/model.py\" target=\"_blank\"><span style=\"color: #7f7f7f; text-decoration-color: #7f7f7f\">model.py</span></a><span style=\"color: #7f7f7f; text-decoration-color: #7f7f7f\">:</span><a href=\"file:///home/work/Documents/repo/economic_freedom_ml/.venv/lib/python3.8/site-packages/cmdstanpy/model.py#1690\" target=\"_blank\"><span style=\"color: #7f7f7f; text-decoration-color: #7f7f7f\">1690</span></a>\n",
       "<span style=\"color: #7fbfbf; text-decoration-color: #7fbfbf\">                    </span>         <span style=\"font-weight: bold\">[</span><span style=\"color: #008000; text-decoration-color: #008000\">'/home/work/Documents/repo/economic_freedom_ml/.venv/lib/python3.8/site</span> <span style=\"color: #7f7f7f; text-decoration-color: #7f7f7f\">             </span>\n",
       "<span style=\"color: #7fbfbf; text-decoration-color: #7fbfbf\">                    </span>         <span style=\"color: #008000; text-decoration-color: #008000\">-packages/prophet/stan_model/prophet_model.bin'</span>, <span style=\"color: #008000; text-decoration-color: #008000\">'random'</span>, <span style=\"color: #008000; text-decoration-color: #008000\">'seed=28817'</span>, <span style=\"color: #7f7f7f; text-decoration-color: #7f7f7f\">             </span>\n",
       "<span style=\"color: #7fbfbf; text-decoration-color: #7fbfbf\">                    </span>         <span style=\"color: #008000; text-decoration-color: #008000\">'data'</span>, <span style=\"color: #008000; text-decoration-color: #008000\">'file=/tmp/tmpsaail0o2/tjau771y.json'</span>,                           <span style=\"color: #7f7f7f; text-decoration-color: #7f7f7f\">             </span>\n",
       "<span style=\"color: #7fbfbf; text-decoration-color: #7fbfbf\">                    </span>         <span style=\"color: #008000; text-decoration-color: #008000\">'init=/tmp/tmpsaail0o2/hp9t1x72.json'</span>, <span style=\"color: #008000; text-decoration-color: #008000\">'output'</span>,                         <span style=\"color: #7f7f7f; text-decoration-color: #7f7f7f\">             </span>\n",
       "<span style=\"color: #7fbfbf; text-decoration-color: #7fbfbf\">                    </span>         <span style=\"color: #008000; text-decoration-color: #008000\">'file=/tmp/tmpsaail0o2/prophet_modelzdrqy4pr/prophet_model-2023052018370</span> <span style=\"color: #7f7f7f; text-decoration-color: #7f7f7f\">             </span>\n",
       "<span style=\"color: #7fbfbf; text-decoration-color: #7fbfbf\">                    </span>         <span style=\"color: #008000; text-decoration-color: #008000\">8.csv'</span>, <span style=\"color: #008000; text-decoration-color: #008000\">'method=optimize'</span>, <span style=\"color: #008000; text-decoration-color: #008000\">'algorithm=newton'</span>, <span style=\"color: #008000; text-decoration-color: #008000\">'iter=10000'</span><span style=\"font-weight: bold\">]</span>             <span style=\"color: #7f7f7f; text-decoration-color: #7f7f7f\">             </span>\n",
       "</pre>\n"
      ],
      "text/plain": [
       "\u001b[2;36m                   \u001b[0m\u001b[2;36m \u001b[0m\u001b[32mDEBUG   \u001b[0m CmdStan args:                                                            \u001b]8;id=303163;file:///home/work/Documents/repo/economic_freedom_ml/.venv/lib/python3.8/site-packages/cmdstanpy/model.py\u001b\\\u001b[2mmodel.py\u001b[0m\u001b]8;;\u001b\\\u001b[2m:\u001b[0m\u001b]8;id=608784;file:///home/work/Documents/repo/economic_freedom_ml/.venv/lib/python3.8/site-packages/cmdstanpy/model.py#1690\u001b\\\u001b[2m1690\u001b[0m\u001b]8;;\u001b\\\n",
       "\u001b[2;36m                    \u001b[0m         \u001b[1m[\u001b[0m\u001b[32m'/home/work/Documents/repo/economic_freedom_ml/.venv/lib/python3.8/site\u001b[0m \u001b[2m             \u001b[0m\n",
       "\u001b[2;36m                    \u001b[0m         \u001b[32m-packages/prophet/stan_model/prophet_model.bin'\u001b[0m, \u001b[32m'random'\u001b[0m, \u001b[32m'\u001b[0m\u001b[32mseed\u001b[0m\u001b[32m=\u001b[0m\u001b[32m28817\u001b[0m\u001b[32m'\u001b[0m, \u001b[2m             \u001b[0m\n",
       "\u001b[2;36m                    \u001b[0m         \u001b[32m'data'\u001b[0m, \u001b[32m'\u001b[0m\u001b[32mfile\u001b[0m\u001b[32m=/tmp/tmpsaail0o2/tjau771y.json'\u001b[0m,                           \u001b[2m             \u001b[0m\n",
       "\u001b[2;36m                    \u001b[0m         \u001b[32m'\u001b[0m\u001b[32minit\u001b[0m\u001b[32m=/tmp/tmpsaail0o2/hp9t1x72.json'\u001b[0m, \u001b[32m'output'\u001b[0m,                         \u001b[2m             \u001b[0m\n",
       "\u001b[2;36m                    \u001b[0m         \u001b[32m'\u001b[0m\u001b[32mfile\u001b[0m\u001b[32m=/tmp/tmpsaail0o2/prophet_modelzdrqy4pr/prophet_model-2023052018370\u001b[0m \u001b[2m             \u001b[0m\n",
       "\u001b[2;36m                    \u001b[0m         \u001b[32m8.csv'\u001b[0m, \u001b[32m'\u001b[0m\u001b[32mmethod\u001b[0m\u001b[32m=\u001b[0m\u001b[32moptimize\u001b[0m\u001b[32m'\u001b[0m, \u001b[32m'\u001b[0m\u001b[32malgorithm\u001b[0m\u001b[32m=\u001b[0m\u001b[32mnewton\u001b[0m\u001b[32m'\u001b[0m, \u001b[32m'\u001b[0m\u001b[32miter\u001b[0m\u001b[32m=\u001b[0m\u001b[32m10000\u001b[0m\u001b[32m'\u001b[0m\u001b[1m]\u001b[0m             \u001b[2m             \u001b[0m\n"
      ]
     },
     "metadata": {},
     "output_type": "display_data"
    },
    {
     "name": "stderr",
     "output_type": "stream",
     "text": [
      "18:37:08 - cmdstanpy - INFO - Chain [1] start processing\n"
     ]
    },
    {
     "data": {
      "text/html": [
       "<pre style=\"white-space:pre;overflow-x:auto;line-height:normal;font-family:Menlo,'DejaVu Sans Mono',consolas,'Courier New',monospace\"><span style=\"color: #7fbfbf; text-decoration-color: #7fbfbf\">                    </span><span style=\"color: #000080; text-decoration-color: #000080\">INFO    </span> Chain <span style=\"font-weight: bold\">[</span><span style=\"color: #008080; text-decoration-color: #008080; font-weight: bold\">1</span><span style=\"font-weight: bold\">]</span> start processing                                               <a href=\"file:///home/work/Documents/repo/economic_freedom_ml/.venv/lib/python3.8/site-packages/cmdstanpy/model.py\" target=\"_blank\"><span style=\"color: #7f7f7f; text-decoration-color: #7f7f7f\">model.py</span></a><span style=\"color: #7f7f7f; text-decoration-color: #7f7f7f\">:</span><a href=\"file:///home/work/Documents/repo/economic_freedom_ml/.venv/lib/python3.8/site-packages/cmdstanpy/model.py#1693\" target=\"_blank\"><span style=\"color: #7f7f7f; text-decoration-color: #7f7f7f\">1693</span></a>\n",
       "</pre>\n"
      ],
      "text/plain": [
       "\u001b[2;36m                   \u001b[0m\u001b[2;36m \u001b[0m\u001b[34mINFO    \u001b[0m Chain \u001b[1m[\u001b[0m\u001b[1;36m1\u001b[0m\u001b[1m]\u001b[0m start processing                                               \u001b]8;id=369261;file:///home/work/Documents/repo/economic_freedom_ml/.venv/lib/python3.8/site-packages/cmdstanpy/model.py\u001b\\\u001b[2mmodel.py\u001b[0m\u001b]8;;\u001b\\\u001b[2m:\u001b[0m\u001b]8;id=160281;file:///home/work/Documents/repo/economic_freedom_ml/.venv/lib/python3.8/site-packages/cmdstanpy/model.py#1693\u001b\\\u001b[2m1693\u001b[0m\u001b]8;;\u001b\\\n"
      ]
     },
     "metadata": {},
     "output_type": "display_data"
    },
    {
     "name": "stderr",
     "output_type": "stream",
     "text": [
      "18:37:08 - cmdstanpy - INFO - Chain [1] done processing\n"
     ]
    },
    {
     "data": {
      "text/html": [
       "<pre style=\"white-space:pre;overflow-x:auto;line-height:normal;font-family:Menlo,'DejaVu Sans Mono',consolas,'Courier New',monospace\"><span style=\"color: #7fbfbf; text-decoration-color: #7fbfbf\">                    </span><span style=\"color: #000080; text-decoration-color: #000080\">INFO    </span> Chain <span style=\"font-weight: bold\">[</span><span style=\"color: #008080; text-decoration-color: #008080; font-weight: bold\">1</span><span style=\"font-weight: bold\">]</span> done processing                                                <a href=\"file:///home/work/Documents/repo/economic_freedom_ml/.venv/lib/python3.8/site-packages/cmdstanpy/model.py\" target=\"_blank\"><span style=\"color: #7f7f7f; text-decoration-color: #7f7f7f\">model.py</span></a><span style=\"color: #7f7f7f; text-decoration-color: #7f7f7f\">:</span><a href=\"file:///home/work/Documents/repo/economic_freedom_ml/.venv/lib/python3.8/site-packages/cmdstanpy/model.py#1750\" target=\"_blank\"><span style=\"color: #7f7f7f; text-decoration-color: #7f7f7f\">1750</span></a>\n",
       "</pre>\n"
      ],
      "text/plain": [
       "\u001b[2;36m                   \u001b[0m\u001b[2;36m \u001b[0m\u001b[34mINFO    \u001b[0m Chain \u001b[1m[\u001b[0m\u001b[1;36m1\u001b[0m\u001b[1m]\u001b[0m done processing                                                \u001b]8;id=856934;file:///home/work/Documents/repo/economic_freedom_ml/.venv/lib/python3.8/site-packages/cmdstanpy/model.py\u001b\\\u001b[2mmodel.py\u001b[0m\u001b]8;;\u001b\\\u001b[2m:\u001b[0m\u001b]8;id=4977;file:///home/work/Documents/repo/economic_freedom_ml/.venv/lib/python3.8/site-packages/cmdstanpy/model.py#1750\u001b\\\u001b[2m1750\u001b[0m\u001b]8;;\u001b\\\n"
      ]
     },
     "metadata": {},
     "output_type": "display_data"
    },
    {
     "data": {
      "text/html": [
       "<pre style=\"white-space:pre;overflow-x:auto;line-height:normal;font-family:Menlo,'DejaVu Sans Mono',consolas,'Courier New',monospace\"><span style=\"color: #7fbfbf; text-decoration-color: #7fbfbf\">[05/20/23 18:37:09] </span><span style=\"color: #000080; text-decoration-color: #000080\">INFO    </span> Disabling weekly seasonality. Run prophet with                       <a href=\"file:///home/work/Documents/repo/economic_freedom_ml/.venv/lib/python3.8/site-packages/prophet/forecaster.py\" target=\"_blank\"><span style=\"color: #7f7f7f; text-decoration-color: #7f7f7f\">forecaster.py</span></a><span style=\"color: #7f7f7f; text-decoration-color: #7f7f7f\">:</span><a href=\"file:///home/work/Documents/repo/economic_freedom_ml/.venv/lib/python3.8/site-packages/prophet/forecaster.py#931\" target=\"_blank\"><span style=\"color: #7f7f7f; text-decoration-color: #7f7f7f\">931</span></a>\n",
       "<span style=\"color: #7fbfbf; text-decoration-color: #7fbfbf\">                    </span>         <span style=\"color: #808000; text-decoration-color: #808000\">weekly_seasonality</span>=<span style=\"color: #00ff00; text-decoration-color: #00ff00; font-style: italic\">True</span> to override this.                            <span style=\"color: #7f7f7f; text-decoration-color: #7f7f7f\">                 </span>\n",
       "</pre>\n"
      ],
      "text/plain": [
       "\u001b[2;36m[05/20/23 18:37:09]\u001b[0m\u001b[2;36m \u001b[0m\u001b[34mINFO    \u001b[0m Disabling weekly seasonality. Run prophet with                       \u001b]8;id=529733;file:///home/work/Documents/repo/economic_freedom_ml/.venv/lib/python3.8/site-packages/prophet/forecaster.py\u001b\\\u001b[2mforecaster.py\u001b[0m\u001b]8;;\u001b\\\u001b[2m:\u001b[0m\u001b]8;id=629926;file:///home/work/Documents/repo/economic_freedom_ml/.venv/lib/python3.8/site-packages/prophet/forecaster.py#931\u001b\\\u001b[2m931\u001b[0m\u001b]8;;\u001b\\\n",
       "\u001b[2;36m                    \u001b[0m         \u001b[33mweekly_seasonality\u001b[0m=\u001b[3;92mTrue\u001b[0m to override this.                            \u001b[2m                 \u001b[0m\n"
      ]
     },
     "metadata": {},
     "output_type": "display_data"
    },
    {
     "data": {
      "text/html": [
       "<pre style=\"white-space:pre;overflow-x:auto;line-height:normal;font-family:Menlo,'DejaVu Sans Mono',consolas,'Courier New',monospace\"><span style=\"color: #7fbfbf; text-decoration-color: #7fbfbf\">                    </span><span style=\"color: #000080; text-decoration-color: #000080\">INFO    </span> Disabling daily seasonality. Run prophet with <span style=\"color: #808000; text-decoration-color: #808000\">daily_seasonality</span>=<span style=\"color: #00ff00; text-decoration-color: #00ff00; font-style: italic\">True</span> <a href=\"file:///home/work/Documents/repo/economic_freedom_ml/.venv/lib/python3.8/site-packages/prophet/forecaster.py\" target=\"_blank\"><span style=\"color: #7f7f7f; text-decoration-color: #7f7f7f\">forecaster.py</span></a><span style=\"color: #7f7f7f; text-decoration-color: #7f7f7f\">:</span><a href=\"file:///home/work/Documents/repo/economic_freedom_ml/.venv/lib/python3.8/site-packages/prophet/forecaster.py#931\" target=\"_blank\"><span style=\"color: #7f7f7f; text-decoration-color: #7f7f7f\">931</span></a>\n",
       "<span style=\"color: #7fbfbf; text-decoration-color: #7fbfbf\">                    </span>         to override this.                                                    <span style=\"color: #7f7f7f; text-decoration-color: #7f7f7f\">                 </span>\n",
       "</pre>\n"
      ],
      "text/plain": [
       "\u001b[2;36m                   \u001b[0m\u001b[2;36m \u001b[0m\u001b[34mINFO    \u001b[0m Disabling daily seasonality. Run prophet with \u001b[33mdaily_seasonality\u001b[0m=\u001b[3;92mTrue\u001b[0m \u001b]8;id=983284;file:///home/work/Documents/repo/economic_freedom_ml/.venv/lib/python3.8/site-packages/prophet/forecaster.py\u001b\\\u001b[2mforecaster.py\u001b[0m\u001b]8;;\u001b\\\u001b[2m:\u001b[0m\u001b]8;id=20930;file:///home/work/Documents/repo/economic_freedom_ml/.venv/lib/python3.8/site-packages/prophet/forecaster.py#931\u001b\\\u001b[2m931\u001b[0m\u001b]8;;\u001b\\\n",
       "\u001b[2;36m                    \u001b[0m         to override this.                                                    \u001b[2m                 \u001b[0m\n"
      ]
     },
     "metadata": {},
     "output_type": "display_data"
    },
    {
     "data": {
      "text/html": [
       "<pre style=\"white-space:pre;overflow-x:auto;line-height:normal;font-family:Menlo,'DejaVu Sans Mono',consolas,'Courier New',monospace\"><span style=\"color: #7fbfbf; text-decoration-color: #7fbfbf\">                    </span><span style=\"color: #000080; text-decoration-color: #000080\">INFO    </span> n_changepoints greater than number of observations. Using <span style=\"color: #008080; text-decoration-color: #008080; font-weight: bold\">18</span>.        <a href=\"file:///home/work/Documents/repo/economic_freedom_ml/.venv/lib/python3.8/site-packages/prophet/forecaster.py\" target=\"_blank\"><span style=\"color: #7f7f7f; text-decoration-color: #7f7f7f\">forecaster.py</span></a><span style=\"color: #7f7f7f; text-decoration-color: #7f7f7f\">:</span><a href=\"file:///home/work/Documents/repo/economic_freedom_ml/.venv/lib/python3.8/site-packages/prophet/forecaster.py#401\" target=\"_blank\"><span style=\"color: #7f7f7f; text-decoration-color: #7f7f7f\">401</span></a>\n",
       "</pre>\n"
      ],
      "text/plain": [
       "\u001b[2;36m                   \u001b[0m\u001b[2;36m \u001b[0m\u001b[34mINFO    \u001b[0m n_changepoints greater than number of observations. Using \u001b[1;36m18\u001b[0m.        \u001b]8;id=125629;file:///home/work/Documents/repo/economic_freedom_ml/.venv/lib/python3.8/site-packages/prophet/forecaster.py\u001b\\\u001b[2mforecaster.py\u001b[0m\u001b]8;;\u001b\\\u001b[2m:\u001b[0m\u001b]8;id=798458;file:///home/work/Documents/repo/economic_freedom_ml/.venv/lib/python3.8/site-packages/prophet/forecaster.py#401\u001b\\\u001b[2m401\u001b[0m\u001b]8;;\u001b\\\n"
      ]
     },
     "metadata": {},
     "output_type": "display_data"
    },
    {
     "data": {
      "text/html": [
       "<pre style=\"white-space:pre;overflow-x:auto;line-height:normal;font-family:Menlo,'DejaVu Sans Mono',consolas,'Courier New',monospace\"><span style=\"color: #7fbfbf; text-decoration-color: #7fbfbf\">                    </span><span style=\"color: #008000; text-decoration-color: #008000\">DEBUG   </span> input tempfile: <span style=\"color: #800080; text-decoration-color: #800080\">/tmp/tmpsaail0o2/</span><span style=\"color: #ff00ff; text-decoration-color: #ff00ff\">oe5h8m7f.json</span>                       <a href=\"file:///home/work/Documents/repo/economic_freedom_ml/.venv/lib/python3.8/site-packages/cmdstanpy/utils/filesystem.py\" target=\"_blank\"><span style=\"color: #7f7f7f; text-decoration-color: #7f7f7f\">filesystem.py</span></a><span style=\"color: #7f7f7f; text-decoration-color: #7f7f7f\">:</span><a href=\"file:///home/work/Documents/repo/economic_freedom_ml/.venv/lib/python3.8/site-packages/cmdstanpy/utils/filesystem.py#123\" target=\"_blank\"><span style=\"color: #7f7f7f; text-decoration-color: #7f7f7f\">123</span></a>\n",
       "</pre>\n"
      ],
      "text/plain": [
       "\u001b[2;36m                   \u001b[0m\u001b[2;36m \u001b[0m\u001b[32mDEBUG   \u001b[0m input tempfile: \u001b[35m/tmp/tmpsaail0o2/\u001b[0m\u001b[95moe5h8m7f.json\u001b[0m                       \u001b]8;id=448761;file:///home/work/Documents/repo/economic_freedom_ml/.venv/lib/python3.8/site-packages/cmdstanpy/utils/filesystem.py\u001b\\\u001b[2mfilesystem.py\u001b[0m\u001b]8;;\u001b\\\u001b[2m:\u001b[0m\u001b]8;id=215132;file:///home/work/Documents/repo/economic_freedom_ml/.venv/lib/python3.8/site-packages/cmdstanpy/utils/filesystem.py#123\u001b\\\u001b[2m123\u001b[0m\u001b]8;;\u001b\\\n"
      ]
     },
     "metadata": {},
     "output_type": "display_data"
    },
    {
     "data": {
      "text/html": [
       "<pre style=\"white-space:pre;overflow-x:auto;line-height:normal;font-family:Menlo,'DejaVu Sans Mono',consolas,'Courier New',monospace\"><span style=\"color: #7fbfbf; text-decoration-color: #7fbfbf\">                    </span><span style=\"color: #008000; text-decoration-color: #008000\">DEBUG   </span> input tempfile: <span style=\"color: #800080; text-decoration-color: #800080\">/tmp/tmpsaail0o2/</span><span style=\"color: #ff00ff; text-decoration-color: #ff00ff\">jqy2c168.json</span>                       <a href=\"file:///home/work/Documents/repo/economic_freedom_ml/.venv/lib/python3.8/site-packages/cmdstanpy/utils/filesystem.py\" target=\"_blank\"><span style=\"color: #7f7f7f; text-decoration-color: #7f7f7f\">filesystem.py</span></a><span style=\"color: #7f7f7f; text-decoration-color: #7f7f7f\">:</span><a href=\"file:///home/work/Documents/repo/economic_freedom_ml/.venv/lib/python3.8/site-packages/cmdstanpy/utils/filesystem.py#123\" target=\"_blank\"><span style=\"color: #7f7f7f; text-decoration-color: #7f7f7f\">123</span></a>\n",
       "</pre>\n"
      ],
      "text/plain": [
       "\u001b[2;36m                   \u001b[0m\u001b[2;36m \u001b[0m\u001b[32mDEBUG   \u001b[0m input tempfile: \u001b[35m/tmp/tmpsaail0o2/\u001b[0m\u001b[95mjqy2c168.json\u001b[0m                       \u001b]8;id=826762;file:///home/work/Documents/repo/economic_freedom_ml/.venv/lib/python3.8/site-packages/cmdstanpy/utils/filesystem.py\u001b\\\u001b[2mfilesystem.py\u001b[0m\u001b]8;;\u001b\\\u001b[2m:\u001b[0m\u001b]8;id=479633;file:///home/work/Documents/repo/economic_freedom_ml/.venv/lib/python3.8/site-packages/cmdstanpy/utils/filesystem.py#123\u001b\\\u001b[2m123\u001b[0m\u001b]8;;\u001b\\\n"
      ]
     },
     "metadata": {},
     "output_type": "display_data"
    },
    {
     "data": {
      "text/html": [
       "<pre style=\"white-space:pre;overflow-x:auto;line-height:normal;font-family:Menlo,'DejaVu Sans Mono',consolas,'Courier New',monospace\"><span style=\"color: #7fbfbf; text-decoration-color: #7fbfbf\">                    </span><span style=\"color: #008000; text-decoration-color: #008000\">DEBUG   </span> idx <span style=\"color: #008080; text-decoration-color: #008080; font-weight: bold\">0</span>                                                                    <a href=\"file:///home/work/Documents/repo/economic_freedom_ml/.venv/lib/python3.8/site-packages/cmdstanpy/model.py\" target=\"_blank\"><span style=\"color: #7f7f7f; text-decoration-color: #7f7f7f\">model.py</span></a><span style=\"color: #7f7f7f; text-decoration-color: #7f7f7f\">:</span><a href=\"file:///home/work/Documents/repo/economic_freedom_ml/.venv/lib/python3.8/site-packages/cmdstanpy/model.py#1677\" target=\"_blank\"><span style=\"color: #7f7f7f; text-decoration-color: #7f7f7f\">1677</span></a>\n",
       "</pre>\n"
      ],
      "text/plain": [
       "\u001b[2;36m                   \u001b[0m\u001b[2;36m \u001b[0m\u001b[32mDEBUG   \u001b[0m idx \u001b[1;36m0\u001b[0m                                                                    \u001b]8;id=375031;file:///home/work/Documents/repo/economic_freedom_ml/.venv/lib/python3.8/site-packages/cmdstanpy/model.py\u001b\\\u001b[2mmodel.py\u001b[0m\u001b]8;;\u001b\\\u001b[2m:\u001b[0m\u001b]8;id=350410;file:///home/work/Documents/repo/economic_freedom_ml/.venv/lib/python3.8/site-packages/cmdstanpy/model.py#1677\u001b\\\u001b[2m1677\u001b[0m\u001b]8;;\u001b\\\n"
      ]
     },
     "metadata": {},
     "output_type": "display_data"
    },
    {
     "data": {
      "text/html": [
       "<pre style=\"white-space:pre;overflow-x:auto;line-height:normal;font-family:Menlo,'DejaVu Sans Mono',consolas,'Courier New',monospace\"><span style=\"color: #7fbfbf; text-decoration-color: #7fbfbf\">                    </span><span style=\"color: #008000; text-decoration-color: #008000\">DEBUG   </span> running CmdStan, num_threads: <span style=\"color: #800080; text-decoration-color: #800080; font-style: italic\">None</span>                                       <a href=\"file:///home/work/Documents/repo/economic_freedom_ml/.venv/lib/python3.8/site-packages/cmdstanpy/model.py\" target=\"_blank\"><span style=\"color: #7f7f7f; text-decoration-color: #7f7f7f\">model.py</span></a><span style=\"color: #7f7f7f; text-decoration-color: #7f7f7f\">:</span><a href=\"file:///home/work/Documents/repo/economic_freedom_ml/.venv/lib/python3.8/site-packages/cmdstanpy/model.py#1678\" target=\"_blank\"><span style=\"color: #7f7f7f; text-decoration-color: #7f7f7f\">1678</span></a>\n",
       "</pre>\n"
      ],
      "text/plain": [
       "\u001b[2;36m                   \u001b[0m\u001b[2;36m \u001b[0m\u001b[32mDEBUG   \u001b[0m running CmdStan, num_threads: \u001b[3;35mNone\u001b[0m                                       \u001b]8;id=560474;file:///home/work/Documents/repo/economic_freedom_ml/.venv/lib/python3.8/site-packages/cmdstanpy/model.py\u001b\\\u001b[2mmodel.py\u001b[0m\u001b]8;;\u001b\\\u001b[2m:\u001b[0m\u001b]8;id=199218;file:///home/work/Documents/repo/economic_freedom_ml/.venv/lib/python3.8/site-packages/cmdstanpy/model.py#1678\u001b\\\u001b[2m1678\u001b[0m\u001b]8;;\u001b\\\n"
      ]
     },
     "metadata": {},
     "output_type": "display_data"
    },
    {
     "data": {
      "text/html": [
       "<pre style=\"white-space:pre;overflow-x:auto;line-height:normal;font-family:Menlo,'DejaVu Sans Mono',consolas,'Courier New',monospace\"><span style=\"color: #7fbfbf; text-decoration-color: #7fbfbf\">                    </span><span style=\"color: #008000; text-decoration-color: #008000\">DEBUG   </span> CmdStan args:                                                            <a href=\"file:///home/work/Documents/repo/economic_freedom_ml/.venv/lib/python3.8/site-packages/cmdstanpy/model.py\" target=\"_blank\"><span style=\"color: #7f7f7f; text-decoration-color: #7f7f7f\">model.py</span></a><span style=\"color: #7f7f7f; text-decoration-color: #7f7f7f\">:</span><a href=\"file:///home/work/Documents/repo/economic_freedom_ml/.venv/lib/python3.8/site-packages/cmdstanpy/model.py#1690\" target=\"_blank\"><span style=\"color: #7f7f7f; text-decoration-color: #7f7f7f\">1690</span></a>\n",
       "<span style=\"color: #7fbfbf; text-decoration-color: #7fbfbf\">                    </span>         <span style=\"font-weight: bold\">[</span><span style=\"color: #008000; text-decoration-color: #008000\">'/home/work/Documents/repo/economic_freedom_ml/.venv/lib/python3.8/site</span> <span style=\"color: #7f7f7f; text-decoration-color: #7f7f7f\">             </span>\n",
       "<span style=\"color: #7fbfbf; text-decoration-color: #7fbfbf\">                    </span>         <span style=\"color: #008000; text-decoration-color: #008000\">-packages/prophet/stan_model/prophet_model.bin'</span>, <span style=\"color: #008000; text-decoration-color: #008000\">'random'</span>, <span style=\"color: #008000; text-decoration-color: #008000\">'seed=70959'</span>, <span style=\"color: #7f7f7f; text-decoration-color: #7f7f7f\">             </span>\n",
       "<span style=\"color: #7fbfbf; text-decoration-color: #7fbfbf\">                    </span>         <span style=\"color: #008000; text-decoration-color: #008000\">'data'</span>, <span style=\"color: #008000; text-decoration-color: #008000\">'file=/tmp/tmpsaail0o2/oe5h8m7f.json'</span>,                           <span style=\"color: #7f7f7f; text-decoration-color: #7f7f7f\">             </span>\n",
       "<span style=\"color: #7fbfbf; text-decoration-color: #7fbfbf\">                    </span>         <span style=\"color: #008000; text-decoration-color: #008000\">'init=/tmp/tmpsaail0o2/jqy2c168.json'</span>, <span style=\"color: #008000; text-decoration-color: #008000\">'output'</span>,                         <span style=\"color: #7f7f7f; text-decoration-color: #7f7f7f\">             </span>\n",
       "<span style=\"color: #7fbfbf; text-decoration-color: #7fbfbf\">                    </span>         <span style=\"color: #008000; text-decoration-color: #008000\">'file=/tmp/tmpsaail0o2/prophet_modelrkqact_a/prophet_model-2023052018370</span> <span style=\"color: #7f7f7f; text-decoration-color: #7f7f7f\">             </span>\n",
       "<span style=\"color: #7fbfbf; text-decoration-color: #7fbfbf\">                    </span>         <span style=\"color: #008000; text-decoration-color: #008000\">9.csv'</span>, <span style=\"color: #008000; text-decoration-color: #008000\">'method=optimize'</span>, <span style=\"color: #008000; text-decoration-color: #008000\">'algorithm=newton'</span>, <span style=\"color: #008000; text-decoration-color: #008000\">'iter=10000'</span><span style=\"font-weight: bold\">]</span>             <span style=\"color: #7f7f7f; text-decoration-color: #7f7f7f\">             </span>\n",
       "</pre>\n"
      ],
      "text/plain": [
       "\u001b[2;36m                   \u001b[0m\u001b[2;36m \u001b[0m\u001b[32mDEBUG   \u001b[0m CmdStan args:                                                            \u001b]8;id=364218;file:///home/work/Documents/repo/economic_freedom_ml/.venv/lib/python3.8/site-packages/cmdstanpy/model.py\u001b\\\u001b[2mmodel.py\u001b[0m\u001b]8;;\u001b\\\u001b[2m:\u001b[0m\u001b]8;id=488107;file:///home/work/Documents/repo/economic_freedom_ml/.venv/lib/python3.8/site-packages/cmdstanpy/model.py#1690\u001b\\\u001b[2m1690\u001b[0m\u001b]8;;\u001b\\\n",
       "\u001b[2;36m                    \u001b[0m         \u001b[1m[\u001b[0m\u001b[32m'/home/work/Documents/repo/economic_freedom_ml/.venv/lib/python3.8/site\u001b[0m \u001b[2m             \u001b[0m\n",
       "\u001b[2;36m                    \u001b[0m         \u001b[32m-packages/prophet/stan_model/prophet_model.bin'\u001b[0m, \u001b[32m'random'\u001b[0m, \u001b[32m'\u001b[0m\u001b[32mseed\u001b[0m\u001b[32m=\u001b[0m\u001b[32m70959\u001b[0m\u001b[32m'\u001b[0m, \u001b[2m             \u001b[0m\n",
       "\u001b[2;36m                    \u001b[0m         \u001b[32m'data'\u001b[0m, \u001b[32m'\u001b[0m\u001b[32mfile\u001b[0m\u001b[32m=/tmp/tmpsaail0o2/oe5h8m7f.json'\u001b[0m,                           \u001b[2m             \u001b[0m\n",
       "\u001b[2;36m                    \u001b[0m         \u001b[32m'\u001b[0m\u001b[32minit\u001b[0m\u001b[32m=/tmp/tmpsaail0o2/jqy2c168.json'\u001b[0m, \u001b[32m'output'\u001b[0m,                         \u001b[2m             \u001b[0m\n",
       "\u001b[2;36m                    \u001b[0m         \u001b[32m'\u001b[0m\u001b[32mfile\u001b[0m\u001b[32m=/tmp/tmpsaail0o2/prophet_modelrkqact_a/prophet_model-2023052018370\u001b[0m \u001b[2m             \u001b[0m\n",
       "\u001b[2;36m                    \u001b[0m         \u001b[32m9.csv'\u001b[0m, \u001b[32m'\u001b[0m\u001b[32mmethod\u001b[0m\u001b[32m=\u001b[0m\u001b[32moptimize\u001b[0m\u001b[32m'\u001b[0m, \u001b[32m'\u001b[0m\u001b[32malgorithm\u001b[0m\u001b[32m=\u001b[0m\u001b[32mnewton\u001b[0m\u001b[32m'\u001b[0m, \u001b[32m'\u001b[0m\u001b[32miter\u001b[0m\u001b[32m=\u001b[0m\u001b[32m10000\u001b[0m\u001b[32m'\u001b[0m\u001b[1m]\u001b[0m             \u001b[2m             \u001b[0m\n"
      ]
     },
     "metadata": {},
     "output_type": "display_data"
    },
    {
     "name": "stderr",
     "output_type": "stream",
     "text": [
      "18:37:09 - cmdstanpy - INFO - Chain [1] start processing\n"
     ]
    },
    {
     "data": {
      "text/html": [
       "<pre style=\"white-space:pre;overflow-x:auto;line-height:normal;font-family:Menlo,'DejaVu Sans Mono',consolas,'Courier New',monospace\"><span style=\"color: #7fbfbf; text-decoration-color: #7fbfbf\">                    </span><span style=\"color: #000080; text-decoration-color: #000080\">INFO    </span> Chain <span style=\"font-weight: bold\">[</span><span style=\"color: #008080; text-decoration-color: #008080; font-weight: bold\">1</span><span style=\"font-weight: bold\">]</span> start processing                                               <a href=\"file:///home/work/Documents/repo/economic_freedom_ml/.venv/lib/python3.8/site-packages/cmdstanpy/model.py\" target=\"_blank\"><span style=\"color: #7f7f7f; text-decoration-color: #7f7f7f\">model.py</span></a><span style=\"color: #7f7f7f; text-decoration-color: #7f7f7f\">:</span><a href=\"file:///home/work/Documents/repo/economic_freedom_ml/.venv/lib/python3.8/site-packages/cmdstanpy/model.py#1693\" target=\"_blank\"><span style=\"color: #7f7f7f; text-decoration-color: #7f7f7f\">1693</span></a>\n",
       "</pre>\n"
      ],
      "text/plain": [
       "\u001b[2;36m                   \u001b[0m\u001b[2;36m \u001b[0m\u001b[34mINFO    \u001b[0m Chain \u001b[1m[\u001b[0m\u001b[1;36m1\u001b[0m\u001b[1m]\u001b[0m start processing                                               \u001b]8;id=144771;file:///home/work/Documents/repo/economic_freedom_ml/.venv/lib/python3.8/site-packages/cmdstanpy/model.py\u001b\\\u001b[2mmodel.py\u001b[0m\u001b]8;;\u001b\\\u001b[2m:\u001b[0m\u001b]8;id=443827;file:///home/work/Documents/repo/economic_freedom_ml/.venv/lib/python3.8/site-packages/cmdstanpy/model.py#1693\u001b\\\u001b[2m1693\u001b[0m\u001b]8;;\u001b\\\n"
      ]
     },
     "metadata": {},
     "output_type": "display_data"
    },
    {
     "name": "stderr",
     "output_type": "stream",
     "text": [
      "18:37:09 - cmdstanpy - INFO - Chain [1] done processing\n"
     ]
    },
    {
     "data": {
      "text/html": [
       "<pre style=\"white-space:pre;overflow-x:auto;line-height:normal;font-family:Menlo,'DejaVu Sans Mono',consolas,'Courier New',monospace\"><span style=\"color: #7fbfbf; text-decoration-color: #7fbfbf\">                    </span><span style=\"color: #000080; text-decoration-color: #000080\">INFO    </span> Chain <span style=\"font-weight: bold\">[</span><span style=\"color: #008080; text-decoration-color: #008080; font-weight: bold\">1</span><span style=\"font-weight: bold\">]</span> done processing                                                <a href=\"file:///home/work/Documents/repo/economic_freedom_ml/.venv/lib/python3.8/site-packages/cmdstanpy/model.py\" target=\"_blank\"><span style=\"color: #7f7f7f; text-decoration-color: #7f7f7f\">model.py</span></a><span style=\"color: #7f7f7f; text-decoration-color: #7f7f7f\">:</span><a href=\"file:///home/work/Documents/repo/economic_freedom_ml/.venv/lib/python3.8/site-packages/cmdstanpy/model.py#1750\" target=\"_blank\"><span style=\"color: #7f7f7f; text-decoration-color: #7f7f7f\">1750</span></a>\n",
       "</pre>\n"
      ],
      "text/plain": [
       "\u001b[2;36m                   \u001b[0m\u001b[2;36m \u001b[0m\u001b[34mINFO    \u001b[0m Chain \u001b[1m[\u001b[0m\u001b[1;36m1\u001b[0m\u001b[1m]\u001b[0m done processing                                                \u001b]8;id=679719;file:///home/work/Documents/repo/economic_freedom_ml/.venv/lib/python3.8/site-packages/cmdstanpy/model.py\u001b\\\u001b[2mmodel.py\u001b[0m\u001b]8;;\u001b\\\u001b[2m:\u001b[0m\u001b]8;id=118523;file:///home/work/Documents/repo/economic_freedom_ml/.venv/lib/python3.8/site-packages/cmdstanpy/model.py#1750\u001b\\\u001b[2m1750\u001b[0m\u001b]8;;\u001b\\\n"
      ]
     },
     "metadata": {},
     "output_type": "display_data"
    },
    {
     "data": {
      "text/html": [
       "<pre style=\"white-space:pre;overflow-x:auto;line-height:normal;font-family:Menlo,'DejaVu Sans Mono',consolas,'Courier New',monospace\"><span style=\"color: #7fbfbf; text-decoration-color: #7fbfbf\">                    </span><span style=\"color: #000080; text-decoration-color: #000080\">INFO    </span> Disabling weekly seasonality. Run prophet with                       <a href=\"file:///home/work/Documents/repo/economic_freedom_ml/.venv/lib/python3.8/site-packages/prophet/forecaster.py\" target=\"_blank\"><span style=\"color: #7f7f7f; text-decoration-color: #7f7f7f\">forecaster.py</span></a><span style=\"color: #7f7f7f; text-decoration-color: #7f7f7f\">:</span><a href=\"file:///home/work/Documents/repo/economic_freedom_ml/.venv/lib/python3.8/site-packages/prophet/forecaster.py#931\" target=\"_blank\"><span style=\"color: #7f7f7f; text-decoration-color: #7f7f7f\">931</span></a>\n",
       "<span style=\"color: #7fbfbf; text-decoration-color: #7fbfbf\">                    </span>         <span style=\"color: #808000; text-decoration-color: #808000\">weekly_seasonality</span>=<span style=\"color: #00ff00; text-decoration-color: #00ff00; font-style: italic\">True</span> to override this.                            <span style=\"color: #7f7f7f; text-decoration-color: #7f7f7f\">                 </span>\n",
       "</pre>\n"
      ],
      "text/plain": [
       "\u001b[2;36m                   \u001b[0m\u001b[2;36m \u001b[0m\u001b[34mINFO    \u001b[0m Disabling weekly seasonality. Run prophet with                       \u001b]8;id=960773;file:///home/work/Documents/repo/economic_freedom_ml/.venv/lib/python3.8/site-packages/prophet/forecaster.py\u001b\\\u001b[2mforecaster.py\u001b[0m\u001b]8;;\u001b\\\u001b[2m:\u001b[0m\u001b]8;id=447073;file:///home/work/Documents/repo/economic_freedom_ml/.venv/lib/python3.8/site-packages/prophet/forecaster.py#931\u001b\\\u001b[2m931\u001b[0m\u001b]8;;\u001b\\\n",
       "\u001b[2;36m                    \u001b[0m         \u001b[33mweekly_seasonality\u001b[0m=\u001b[3;92mTrue\u001b[0m to override this.                            \u001b[2m                 \u001b[0m\n"
      ]
     },
     "metadata": {},
     "output_type": "display_data"
    },
    {
     "data": {
      "text/html": [
       "<pre style=\"white-space:pre;overflow-x:auto;line-height:normal;font-family:Menlo,'DejaVu Sans Mono',consolas,'Courier New',monospace\"><span style=\"color: #7fbfbf; text-decoration-color: #7fbfbf\">                    </span><span style=\"color: #000080; text-decoration-color: #000080\">INFO    </span> Disabling daily seasonality. Run prophet with <span style=\"color: #808000; text-decoration-color: #808000\">daily_seasonality</span>=<span style=\"color: #00ff00; text-decoration-color: #00ff00; font-style: italic\">True</span> <a href=\"file:///home/work/Documents/repo/economic_freedom_ml/.venv/lib/python3.8/site-packages/prophet/forecaster.py\" target=\"_blank\"><span style=\"color: #7f7f7f; text-decoration-color: #7f7f7f\">forecaster.py</span></a><span style=\"color: #7f7f7f; text-decoration-color: #7f7f7f\">:</span><a href=\"file:///home/work/Documents/repo/economic_freedom_ml/.venv/lib/python3.8/site-packages/prophet/forecaster.py#931\" target=\"_blank\"><span style=\"color: #7f7f7f; text-decoration-color: #7f7f7f\">931</span></a>\n",
       "<span style=\"color: #7fbfbf; text-decoration-color: #7fbfbf\">                    </span>         to override this.                                                    <span style=\"color: #7f7f7f; text-decoration-color: #7f7f7f\">                 </span>\n",
       "</pre>\n"
      ],
      "text/plain": [
       "\u001b[2;36m                   \u001b[0m\u001b[2;36m \u001b[0m\u001b[34mINFO    \u001b[0m Disabling daily seasonality. Run prophet with \u001b[33mdaily_seasonality\u001b[0m=\u001b[3;92mTrue\u001b[0m \u001b]8;id=715981;file:///home/work/Documents/repo/economic_freedom_ml/.venv/lib/python3.8/site-packages/prophet/forecaster.py\u001b\\\u001b[2mforecaster.py\u001b[0m\u001b]8;;\u001b\\\u001b[2m:\u001b[0m\u001b]8;id=348615;file:///home/work/Documents/repo/economic_freedom_ml/.venv/lib/python3.8/site-packages/prophet/forecaster.py#931\u001b\\\u001b[2m931\u001b[0m\u001b]8;;\u001b\\\n",
       "\u001b[2;36m                    \u001b[0m         to override this.                                                    \u001b[2m                 \u001b[0m\n"
      ]
     },
     "metadata": {},
     "output_type": "display_data"
    },
    {
     "data": {
      "text/html": [
       "<pre style=\"white-space:pre;overflow-x:auto;line-height:normal;font-family:Menlo,'DejaVu Sans Mono',consolas,'Courier New',monospace\"><span style=\"color: #7fbfbf; text-decoration-color: #7fbfbf\">                    </span><span style=\"color: #000080; text-decoration-color: #000080\">INFO    </span> n_changepoints greater than number of observations. Using <span style=\"color: #008080; text-decoration-color: #008080; font-weight: bold\">18</span>.        <a href=\"file:///home/work/Documents/repo/economic_freedom_ml/.venv/lib/python3.8/site-packages/prophet/forecaster.py\" target=\"_blank\"><span style=\"color: #7f7f7f; text-decoration-color: #7f7f7f\">forecaster.py</span></a><span style=\"color: #7f7f7f; text-decoration-color: #7f7f7f\">:</span><a href=\"file:///home/work/Documents/repo/economic_freedom_ml/.venv/lib/python3.8/site-packages/prophet/forecaster.py#401\" target=\"_blank\"><span style=\"color: #7f7f7f; text-decoration-color: #7f7f7f\">401</span></a>\n",
       "</pre>\n"
      ],
      "text/plain": [
       "\u001b[2;36m                   \u001b[0m\u001b[2;36m \u001b[0m\u001b[34mINFO    \u001b[0m n_changepoints greater than number of observations. Using \u001b[1;36m18\u001b[0m.        \u001b]8;id=702990;file:///home/work/Documents/repo/economic_freedom_ml/.venv/lib/python3.8/site-packages/prophet/forecaster.py\u001b\\\u001b[2mforecaster.py\u001b[0m\u001b]8;;\u001b\\\u001b[2m:\u001b[0m\u001b]8;id=952184;file:///home/work/Documents/repo/economic_freedom_ml/.venv/lib/python3.8/site-packages/prophet/forecaster.py#401\u001b\\\u001b[2m401\u001b[0m\u001b]8;;\u001b\\\n"
      ]
     },
     "metadata": {},
     "output_type": "display_data"
    },
    {
     "data": {
      "text/html": [
       "<pre style=\"white-space:pre;overflow-x:auto;line-height:normal;font-family:Menlo,'DejaVu Sans Mono',consolas,'Courier New',monospace\"><span style=\"color: #7fbfbf; text-decoration-color: #7fbfbf\">                    </span><span style=\"color: #008000; text-decoration-color: #008000\">DEBUG   </span> input tempfile: <span style=\"color: #800080; text-decoration-color: #800080\">/tmp/tmpsaail0o2/</span><span style=\"color: #ff00ff; text-decoration-color: #ff00ff\">09ows7b0.json</span>                       <a href=\"file:///home/work/Documents/repo/economic_freedom_ml/.venv/lib/python3.8/site-packages/cmdstanpy/utils/filesystem.py\" target=\"_blank\"><span style=\"color: #7f7f7f; text-decoration-color: #7f7f7f\">filesystem.py</span></a><span style=\"color: #7f7f7f; text-decoration-color: #7f7f7f\">:</span><a href=\"file:///home/work/Documents/repo/economic_freedom_ml/.venv/lib/python3.8/site-packages/cmdstanpy/utils/filesystem.py#123\" target=\"_blank\"><span style=\"color: #7f7f7f; text-decoration-color: #7f7f7f\">123</span></a>\n",
       "</pre>\n"
      ],
      "text/plain": [
       "\u001b[2;36m                   \u001b[0m\u001b[2;36m \u001b[0m\u001b[32mDEBUG   \u001b[0m input tempfile: \u001b[35m/tmp/tmpsaail0o2/\u001b[0m\u001b[95m09ows7b0.json\u001b[0m                       \u001b]8;id=131008;file:///home/work/Documents/repo/economic_freedom_ml/.venv/lib/python3.8/site-packages/cmdstanpy/utils/filesystem.py\u001b\\\u001b[2mfilesystem.py\u001b[0m\u001b]8;;\u001b\\\u001b[2m:\u001b[0m\u001b]8;id=25578;file:///home/work/Documents/repo/economic_freedom_ml/.venv/lib/python3.8/site-packages/cmdstanpy/utils/filesystem.py#123\u001b\\\u001b[2m123\u001b[0m\u001b]8;;\u001b\\\n"
      ]
     },
     "metadata": {},
     "output_type": "display_data"
    },
    {
     "data": {
      "text/html": [
       "<pre style=\"white-space:pre;overflow-x:auto;line-height:normal;font-family:Menlo,'DejaVu Sans Mono',consolas,'Courier New',monospace\"><span style=\"color: #7fbfbf; text-decoration-color: #7fbfbf\">                    </span><span style=\"color: #008000; text-decoration-color: #008000\">DEBUG   </span> input tempfile: <span style=\"color: #800080; text-decoration-color: #800080\">/tmp/tmpsaail0o2/</span><span style=\"color: #ff00ff; text-decoration-color: #ff00ff\">839yfiwy.json</span>                       <a href=\"file:///home/work/Documents/repo/economic_freedom_ml/.venv/lib/python3.8/site-packages/cmdstanpy/utils/filesystem.py\" target=\"_blank\"><span style=\"color: #7f7f7f; text-decoration-color: #7f7f7f\">filesystem.py</span></a><span style=\"color: #7f7f7f; text-decoration-color: #7f7f7f\">:</span><a href=\"file:///home/work/Documents/repo/economic_freedom_ml/.venv/lib/python3.8/site-packages/cmdstanpy/utils/filesystem.py#123\" target=\"_blank\"><span style=\"color: #7f7f7f; text-decoration-color: #7f7f7f\">123</span></a>\n",
       "</pre>\n"
      ],
      "text/plain": [
       "\u001b[2;36m                   \u001b[0m\u001b[2;36m \u001b[0m\u001b[32mDEBUG   \u001b[0m input tempfile: \u001b[35m/tmp/tmpsaail0o2/\u001b[0m\u001b[95m839yfiwy.json\u001b[0m                       \u001b]8;id=490679;file:///home/work/Documents/repo/economic_freedom_ml/.venv/lib/python3.8/site-packages/cmdstanpy/utils/filesystem.py\u001b\\\u001b[2mfilesystem.py\u001b[0m\u001b]8;;\u001b\\\u001b[2m:\u001b[0m\u001b]8;id=818693;file:///home/work/Documents/repo/economic_freedom_ml/.venv/lib/python3.8/site-packages/cmdstanpy/utils/filesystem.py#123\u001b\\\u001b[2m123\u001b[0m\u001b]8;;\u001b\\\n"
      ]
     },
     "metadata": {},
     "output_type": "display_data"
    },
    {
     "data": {
      "text/html": [
       "<pre style=\"white-space:pre;overflow-x:auto;line-height:normal;font-family:Menlo,'DejaVu Sans Mono',consolas,'Courier New',monospace\"><span style=\"color: #7fbfbf; text-decoration-color: #7fbfbf\">                    </span><span style=\"color: #008000; text-decoration-color: #008000\">DEBUG   </span> idx <span style=\"color: #008080; text-decoration-color: #008080; font-weight: bold\">0</span>                                                                    <a href=\"file:///home/work/Documents/repo/economic_freedom_ml/.venv/lib/python3.8/site-packages/cmdstanpy/model.py\" target=\"_blank\"><span style=\"color: #7f7f7f; text-decoration-color: #7f7f7f\">model.py</span></a><span style=\"color: #7f7f7f; text-decoration-color: #7f7f7f\">:</span><a href=\"file:///home/work/Documents/repo/economic_freedom_ml/.venv/lib/python3.8/site-packages/cmdstanpy/model.py#1677\" target=\"_blank\"><span style=\"color: #7f7f7f; text-decoration-color: #7f7f7f\">1677</span></a>\n",
       "</pre>\n"
      ],
      "text/plain": [
       "\u001b[2;36m                   \u001b[0m\u001b[2;36m \u001b[0m\u001b[32mDEBUG   \u001b[0m idx \u001b[1;36m0\u001b[0m                                                                    \u001b]8;id=416960;file:///home/work/Documents/repo/economic_freedom_ml/.venv/lib/python3.8/site-packages/cmdstanpy/model.py\u001b\\\u001b[2mmodel.py\u001b[0m\u001b]8;;\u001b\\\u001b[2m:\u001b[0m\u001b]8;id=141836;file:///home/work/Documents/repo/economic_freedom_ml/.venv/lib/python3.8/site-packages/cmdstanpy/model.py#1677\u001b\\\u001b[2m1677\u001b[0m\u001b]8;;\u001b\\\n"
      ]
     },
     "metadata": {},
     "output_type": "display_data"
    },
    {
     "data": {
      "text/html": [
       "<pre style=\"white-space:pre;overflow-x:auto;line-height:normal;font-family:Menlo,'DejaVu Sans Mono',consolas,'Courier New',monospace\"><span style=\"color: #7fbfbf; text-decoration-color: #7fbfbf\">                    </span><span style=\"color: #008000; text-decoration-color: #008000\">DEBUG   </span> running CmdStan, num_threads: <span style=\"color: #800080; text-decoration-color: #800080; font-style: italic\">None</span>                                       <a href=\"file:///home/work/Documents/repo/economic_freedom_ml/.venv/lib/python3.8/site-packages/cmdstanpy/model.py\" target=\"_blank\"><span style=\"color: #7f7f7f; text-decoration-color: #7f7f7f\">model.py</span></a><span style=\"color: #7f7f7f; text-decoration-color: #7f7f7f\">:</span><a href=\"file:///home/work/Documents/repo/economic_freedom_ml/.venv/lib/python3.8/site-packages/cmdstanpy/model.py#1678\" target=\"_blank\"><span style=\"color: #7f7f7f; text-decoration-color: #7f7f7f\">1678</span></a>\n",
       "</pre>\n"
      ],
      "text/plain": [
       "\u001b[2;36m                   \u001b[0m\u001b[2;36m \u001b[0m\u001b[32mDEBUG   \u001b[0m running CmdStan, num_threads: \u001b[3;35mNone\u001b[0m                                       \u001b]8;id=470364;file:///home/work/Documents/repo/economic_freedom_ml/.venv/lib/python3.8/site-packages/cmdstanpy/model.py\u001b\\\u001b[2mmodel.py\u001b[0m\u001b]8;;\u001b\\\u001b[2m:\u001b[0m\u001b]8;id=857612;file:///home/work/Documents/repo/economic_freedom_ml/.venv/lib/python3.8/site-packages/cmdstanpy/model.py#1678\u001b\\\u001b[2m1678\u001b[0m\u001b]8;;\u001b\\\n"
      ]
     },
     "metadata": {},
     "output_type": "display_data"
    },
    {
     "data": {
      "text/html": [
       "<pre style=\"white-space:pre;overflow-x:auto;line-height:normal;font-family:Menlo,'DejaVu Sans Mono',consolas,'Courier New',monospace\"><span style=\"color: #7fbfbf; text-decoration-color: #7fbfbf\">                    </span><span style=\"color: #008000; text-decoration-color: #008000\">DEBUG   </span> CmdStan args:                                                            <a href=\"file:///home/work/Documents/repo/economic_freedom_ml/.venv/lib/python3.8/site-packages/cmdstanpy/model.py\" target=\"_blank\"><span style=\"color: #7f7f7f; text-decoration-color: #7f7f7f\">model.py</span></a><span style=\"color: #7f7f7f; text-decoration-color: #7f7f7f\">:</span><a href=\"file:///home/work/Documents/repo/economic_freedom_ml/.venv/lib/python3.8/site-packages/cmdstanpy/model.py#1690\" target=\"_blank\"><span style=\"color: #7f7f7f; text-decoration-color: #7f7f7f\">1690</span></a>\n",
       "<span style=\"color: #7fbfbf; text-decoration-color: #7fbfbf\">                    </span>         <span style=\"font-weight: bold\">[</span><span style=\"color: #008000; text-decoration-color: #008000\">'/home/work/Documents/repo/economic_freedom_ml/.venv/lib/python3.8/site</span> <span style=\"color: #7f7f7f; text-decoration-color: #7f7f7f\">             </span>\n",
       "<span style=\"color: #7fbfbf; text-decoration-color: #7fbfbf\">                    </span>         <span style=\"color: #008000; text-decoration-color: #008000\">-packages/prophet/stan_model/prophet_model.bin'</span>, <span style=\"color: #008000; text-decoration-color: #008000\">'random'</span>, <span style=\"color: #008000; text-decoration-color: #008000\">'seed=68436'</span>, <span style=\"color: #7f7f7f; text-decoration-color: #7f7f7f\">             </span>\n",
       "<span style=\"color: #7fbfbf; text-decoration-color: #7fbfbf\">                    </span>         <span style=\"color: #008000; text-decoration-color: #008000\">'data'</span>, <span style=\"color: #008000; text-decoration-color: #008000\">'file=/tmp/tmpsaail0o2/09ows7b0.json'</span>,                           <span style=\"color: #7f7f7f; text-decoration-color: #7f7f7f\">             </span>\n",
       "<span style=\"color: #7fbfbf; text-decoration-color: #7fbfbf\">                    </span>         <span style=\"color: #008000; text-decoration-color: #008000\">'init=/tmp/tmpsaail0o2/839yfiwy.json'</span>, <span style=\"color: #008000; text-decoration-color: #008000\">'output'</span>,                         <span style=\"color: #7f7f7f; text-decoration-color: #7f7f7f\">             </span>\n",
       "<span style=\"color: #7fbfbf; text-decoration-color: #7fbfbf\">                    </span>         <span style=\"color: #008000; text-decoration-color: #008000\">'file=/tmp/tmpsaail0o2/prophet_modelme8blqxo/prophet_model-2023052018370</span> <span style=\"color: #7f7f7f; text-decoration-color: #7f7f7f\">             </span>\n",
       "<span style=\"color: #7fbfbf; text-decoration-color: #7fbfbf\">                    </span>         <span style=\"color: #008000; text-decoration-color: #008000\">9.csv'</span>, <span style=\"color: #008000; text-decoration-color: #008000\">'method=optimize'</span>, <span style=\"color: #008000; text-decoration-color: #008000\">'algorithm=newton'</span>, <span style=\"color: #008000; text-decoration-color: #008000\">'iter=10000'</span><span style=\"font-weight: bold\">]</span>             <span style=\"color: #7f7f7f; text-decoration-color: #7f7f7f\">             </span>\n",
       "</pre>\n"
      ],
      "text/plain": [
       "\u001b[2;36m                   \u001b[0m\u001b[2;36m \u001b[0m\u001b[32mDEBUG   \u001b[0m CmdStan args:                                                            \u001b]8;id=433115;file:///home/work/Documents/repo/economic_freedom_ml/.venv/lib/python3.8/site-packages/cmdstanpy/model.py\u001b\\\u001b[2mmodel.py\u001b[0m\u001b]8;;\u001b\\\u001b[2m:\u001b[0m\u001b]8;id=235805;file:///home/work/Documents/repo/economic_freedom_ml/.venv/lib/python3.8/site-packages/cmdstanpy/model.py#1690\u001b\\\u001b[2m1690\u001b[0m\u001b]8;;\u001b\\\n",
       "\u001b[2;36m                    \u001b[0m         \u001b[1m[\u001b[0m\u001b[32m'/home/work/Documents/repo/economic_freedom_ml/.venv/lib/python3.8/site\u001b[0m \u001b[2m             \u001b[0m\n",
       "\u001b[2;36m                    \u001b[0m         \u001b[32m-packages/prophet/stan_model/prophet_model.bin'\u001b[0m, \u001b[32m'random'\u001b[0m, \u001b[32m'\u001b[0m\u001b[32mseed\u001b[0m\u001b[32m=\u001b[0m\u001b[32m68436\u001b[0m\u001b[32m'\u001b[0m, \u001b[2m             \u001b[0m\n",
       "\u001b[2;36m                    \u001b[0m         \u001b[32m'data'\u001b[0m, \u001b[32m'\u001b[0m\u001b[32mfile\u001b[0m\u001b[32m=/tmp/tmpsaail0o2/09ows7b0.json'\u001b[0m,                           \u001b[2m             \u001b[0m\n",
       "\u001b[2;36m                    \u001b[0m         \u001b[32m'\u001b[0m\u001b[32minit\u001b[0m\u001b[32m=/tmp/tmpsaail0o2/839yfiwy.json'\u001b[0m, \u001b[32m'output'\u001b[0m,                         \u001b[2m             \u001b[0m\n",
       "\u001b[2;36m                    \u001b[0m         \u001b[32m'\u001b[0m\u001b[32mfile\u001b[0m\u001b[32m=/tmp/tmpsaail0o2/prophet_modelme8blqxo/prophet_model-2023052018370\u001b[0m \u001b[2m             \u001b[0m\n",
       "\u001b[2;36m                    \u001b[0m         \u001b[32m9.csv'\u001b[0m, \u001b[32m'\u001b[0m\u001b[32mmethod\u001b[0m\u001b[32m=\u001b[0m\u001b[32moptimize\u001b[0m\u001b[32m'\u001b[0m, \u001b[32m'\u001b[0m\u001b[32malgorithm\u001b[0m\u001b[32m=\u001b[0m\u001b[32mnewton\u001b[0m\u001b[32m'\u001b[0m, \u001b[32m'\u001b[0m\u001b[32miter\u001b[0m\u001b[32m=\u001b[0m\u001b[32m10000\u001b[0m\u001b[32m'\u001b[0m\u001b[1m]\u001b[0m             \u001b[2m             \u001b[0m\n"
      ]
     },
     "metadata": {},
     "output_type": "display_data"
    },
    {
     "name": "stderr",
     "output_type": "stream",
     "text": [
      "18:37:09 - cmdstanpy - INFO - Chain [1] start processing\n"
     ]
    },
    {
     "data": {
      "text/html": [
       "<pre style=\"white-space:pre;overflow-x:auto;line-height:normal;font-family:Menlo,'DejaVu Sans Mono',consolas,'Courier New',monospace\"><span style=\"color: #7fbfbf; text-decoration-color: #7fbfbf\">                    </span><span style=\"color: #000080; text-decoration-color: #000080\">INFO    </span> Chain <span style=\"font-weight: bold\">[</span><span style=\"color: #008080; text-decoration-color: #008080; font-weight: bold\">1</span><span style=\"font-weight: bold\">]</span> start processing                                               <a href=\"file:///home/work/Documents/repo/economic_freedom_ml/.venv/lib/python3.8/site-packages/cmdstanpy/model.py\" target=\"_blank\"><span style=\"color: #7f7f7f; text-decoration-color: #7f7f7f\">model.py</span></a><span style=\"color: #7f7f7f; text-decoration-color: #7f7f7f\">:</span><a href=\"file:///home/work/Documents/repo/economic_freedom_ml/.venv/lib/python3.8/site-packages/cmdstanpy/model.py#1693\" target=\"_blank\"><span style=\"color: #7f7f7f; text-decoration-color: #7f7f7f\">1693</span></a>\n",
       "</pre>\n"
      ],
      "text/plain": [
       "\u001b[2;36m                   \u001b[0m\u001b[2;36m \u001b[0m\u001b[34mINFO    \u001b[0m Chain \u001b[1m[\u001b[0m\u001b[1;36m1\u001b[0m\u001b[1m]\u001b[0m start processing                                               \u001b]8;id=599290;file:///home/work/Documents/repo/economic_freedom_ml/.venv/lib/python3.8/site-packages/cmdstanpy/model.py\u001b\\\u001b[2mmodel.py\u001b[0m\u001b]8;;\u001b\\\u001b[2m:\u001b[0m\u001b]8;id=920008;file:///home/work/Documents/repo/economic_freedom_ml/.venv/lib/python3.8/site-packages/cmdstanpy/model.py#1693\u001b\\\u001b[2m1693\u001b[0m\u001b]8;;\u001b\\\n"
      ]
     },
     "metadata": {},
     "output_type": "display_data"
    },
    {
     "name": "stderr",
     "output_type": "stream",
     "text": [
      "18:37:09 - cmdstanpy - INFO - Chain [1] done processing\n"
     ]
    },
    {
     "data": {
      "text/html": [
       "<pre style=\"white-space:pre;overflow-x:auto;line-height:normal;font-family:Menlo,'DejaVu Sans Mono',consolas,'Courier New',monospace\"><span style=\"color: #7fbfbf; text-decoration-color: #7fbfbf\">                    </span><span style=\"color: #000080; text-decoration-color: #000080\">INFO    </span> Chain <span style=\"font-weight: bold\">[</span><span style=\"color: #008080; text-decoration-color: #008080; font-weight: bold\">1</span><span style=\"font-weight: bold\">]</span> done processing                                                <a href=\"file:///home/work/Documents/repo/economic_freedom_ml/.venv/lib/python3.8/site-packages/cmdstanpy/model.py\" target=\"_blank\"><span style=\"color: #7f7f7f; text-decoration-color: #7f7f7f\">model.py</span></a><span style=\"color: #7f7f7f; text-decoration-color: #7f7f7f\">:</span><a href=\"file:///home/work/Documents/repo/economic_freedom_ml/.venv/lib/python3.8/site-packages/cmdstanpy/model.py#1750\" target=\"_blank\"><span style=\"color: #7f7f7f; text-decoration-color: #7f7f7f\">1750</span></a>\n",
       "</pre>\n"
      ],
      "text/plain": [
       "\u001b[2;36m                   \u001b[0m\u001b[2;36m \u001b[0m\u001b[34mINFO    \u001b[0m Chain \u001b[1m[\u001b[0m\u001b[1;36m1\u001b[0m\u001b[1m]\u001b[0m done processing                                                \u001b]8;id=140776;file:///home/work/Documents/repo/economic_freedom_ml/.venv/lib/python3.8/site-packages/cmdstanpy/model.py\u001b\\\u001b[2mmodel.py\u001b[0m\u001b]8;;\u001b\\\u001b[2m:\u001b[0m\u001b]8;id=69385;file:///home/work/Documents/repo/economic_freedom_ml/.venv/lib/python3.8/site-packages/cmdstanpy/model.py#1750\u001b\\\u001b[2m1750\u001b[0m\u001b]8;;\u001b\\\n"
      ]
     },
     "metadata": {},
     "output_type": "display_data"
    },
    {
     "data": {
      "text/html": [
       "<pre style=\"white-space:pre;overflow-x:auto;line-height:normal;font-family:Menlo,'DejaVu Sans Mono',consolas,'Courier New',monospace\"><span style=\"color: #7fbfbf; text-decoration-color: #7fbfbf\">                    </span><span style=\"color: #000080; text-decoration-color: #000080\">INFO    </span> Disabling weekly seasonality. Run prophet with                       <a href=\"file:///home/work/Documents/repo/economic_freedom_ml/.venv/lib/python3.8/site-packages/prophet/forecaster.py\" target=\"_blank\"><span style=\"color: #7f7f7f; text-decoration-color: #7f7f7f\">forecaster.py</span></a><span style=\"color: #7f7f7f; text-decoration-color: #7f7f7f\">:</span><a href=\"file:///home/work/Documents/repo/economic_freedom_ml/.venv/lib/python3.8/site-packages/prophet/forecaster.py#931\" target=\"_blank\"><span style=\"color: #7f7f7f; text-decoration-color: #7f7f7f\">931</span></a>\n",
       "<span style=\"color: #7fbfbf; text-decoration-color: #7fbfbf\">                    </span>         <span style=\"color: #808000; text-decoration-color: #808000\">weekly_seasonality</span>=<span style=\"color: #00ff00; text-decoration-color: #00ff00; font-style: italic\">True</span> to override this.                            <span style=\"color: #7f7f7f; text-decoration-color: #7f7f7f\">                 </span>\n",
       "</pre>\n"
      ],
      "text/plain": [
       "\u001b[2;36m                   \u001b[0m\u001b[2;36m \u001b[0m\u001b[34mINFO    \u001b[0m Disabling weekly seasonality. Run prophet with                       \u001b]8;id=875758;file:///home/work/Documents/repo/economic_freedom_ml/.venv/lib/python3.8/site-packages/prophet/forecaster.py\u001b\\\u001b[2mforecaster.py\u001b[0m\u001b]8;;\u001b\\\u001b[2m:\u001b[0m\u001b]8;id=609632;file:///home/work/Documents/repo/economic_freedom_ml/.venv/lib/python3.8/site-packages/prophet/forecaster.py#931\u001b\\\u001b[2m931\u001b[0m\u001b]8;;\u001b\\\n",
       "\u001b[2;36m                    \u001b[0m         \u001b[33mweekly_seasonality\u001b[0m=\u001b[3;92mTrue\u001b[0m to override this.                            \u001b[2m                 \u001b[0m\n"
      ]
     },
     "metadata": {},
     "output_type": "display_data"
    },
    {
     "data": {
      "text/html": [
       "<pre style=\"white-space:pre;overflow-x:auto;line-height:normal;font-family:Menlo,'DejaVu Sans Mono',consolas,'Courier New',monospace\"><span style=\"color: #7fbfbf; text-decoration-color: #7fbfbf\">                    </span><span style=\"color: #000080; text-decoration-color: #000080\">INFO    </span> Disabling daily seasonality. Run prophet with <span style=\"color: #808000; text-decoration-color: #808000\">daily_seasonality</span>=<span style=\"color: #00ff00; text-decoration-color: #00ff00; font-style: italic\">True</span> <a href=\"file:///home/work/Documents/repo/economic_freedom_ml/.venv/lib/python3.8/site-packages/prophet/forecaster.py\" target=\"_blank\"><span style=\"color: #7f7f7f; text-decoration-color: #7f7f7f\">forecaster.py</span></a><span style=\"color: #7f7f7f; text-decoration-color: #7f7f7f\">:</span><a href=\"file:///home/work/Documents/repo/economic_freedom_ml/.venv/lib/python3.8/site-packages/prophet/forecaster.py#931\" target=\"_blank\"><span style=\"color: #7f7f7f; text-decoration-color: #7f7f7f\">931</span></a>\n",
       "<span style=\"color: #7fbfbf; text-decoration-color: #7fbfbf\">                    </span>         to override this.                                                    <span style=\"color: #7f7f7f; text-decoration-color: #7f7f7f\">                 </span>\n",
       "</pre>\n"
      ],
      "text/plain": [
       "\u001b[2;36m                   \u001b[0m\u001b[2;36m \u001b[0m\u001b[34mINFO    \u001b[0m Disabling daily seasonality. Run prophet with \u001b[33mdaily_seasonality\u001b[0m=\u001b[3;92mTrue\u001b[0m \u001b]8;id=391798;file:///home/work/Documents/repo/economic_freedom_ml/.venv/lib/python3.8/site-packages/prophet/forecaster.py\u001b\\\u001b[2mforecaster.py\u001b[0m\u001b]8;;\u001b\\\u001b[2m:\u001b[0m\u001b]8;id=171604;file:///home/work/Documents/repo/economic_freedom_ml/.venv/lib/python3.8/site-packages/prophet/forecaster.py#931\u001b\\\u001b[2m931\u001b[0m\u001b]8;;\u001b\\\n",
       "\u001b[2;36m                    \u001b[0m         to override this.                                                    \u001b[2m                 \u001b[0m\n"
      ]
     },
     "metadata": {},
     "output_type": "display_data"
    },
    {
     "data": {
      "text/html": [
       "<pre style=\"white-space:pre;overflow-x:auto;line-height:normal;font-family:Menlo,'DejaVu Sans Mono',consolas,'Courier New',monospace\"><span style=\"color: #7fbfbf; text-decoration-color: #7fbfbf\">                    </span><span style=\"color: #000080; text-decoration-color: #000080\">INFO    </span> n_changepoints greater than number of observations. Using <span style=\"color: #008080; text-decoration-color: #008080; font-weight: bold\">7</span>.         <a href=\"file:///home/work/Documents/repo/economic_freedom_ml/.venv/lib/python3.8/site-packages/prophet/forecaster.py\" target=\"_blank\"><span style=\"color: #7f7f7f; text-decoration-color: #7f7f7f\">forecaster.py</span></a><span style=\"color: #7f7f7f; text-decoration-color: #7f7f7f\">:</span><a href=\"file:///home/work/Documents/repo/economic_freedom_ml/.venv/lib/python3.8/site-packages/prophet/forecaster.py#401\" target=\"_blank\"><span style=\"color: #7f7f7f; text-decoration-color: #7f7f7f\">401</span></a>\n",
       "</pre>\n"
      ],
      "text/plain": [
       "\u001b[2;36m                   \u001b[0m\u001b[2;36m \u001b[0m\u001b[34mINFO    \u001b[0m n_changepoints greater than number of observations. Using \u001b[1;36m7\u001b[0m.         \u001b]8;id=231576;file:///home/work/Documents/repo/economic_freedom_ml/.venv/lib/python3.8/site-packages/prophet/forecaster.py\u001b\\\u001b[2mforecaster.py\u001b[0m\u001b]8;;\u001b\\\u001b[2m:\u001b[0m\u001b]8;id=753005;file:///home/work/Documents/repo/economic_freedom_ml/.venv/lib/python3.8/site-packages/prophet/forecaster.py#401\u001b\\\u001b[2m401\u001b[0m\u001b]8;;\u001b\\\n"
      ]
     },
     "metadata": {},
     "output_type": "display_data"
    },
    {
     "data": {
      "text/html": [
       "<pre style=\"white-space:pre;overflow-x:auto;line-height:normal;font-family:Menlo,'DejaVu Sans Mono',consolas,'Courier New',monospace\"><span style=\"color: #7fbfbf; text-decoration-color: #7fbfbf\">                    </span><span style=\"color: #008000; text-decoration-color: #008000\">DEBUG   </span> input tempfile: <span style=\"color: #800080; text-decoration-color: #800080\">/tmp/tmpsaail0o2/</span><span style=\"color: #ff00ff; text-decoration-color: #ff00ff\">5npch96d.json</span>                       <a href=\"file:///home/work/Documents/repo/economic_freedom_ml/.venv/lib/python3.8/site-packages/cmdstanpy/utils/filesystem.py\" target=\"_blank\"><span style=\"color: #7f7f7f; text-decoration-color: #7f7f7f\">filesystem.py</span></a><span style=\"color: #7f7f7f; text-decoration-color: #7f7f7f\">:</span><a href=\"file:///home/work/Documents/repo/economic_freedom_ml/.venv/lib/python3.8/site-packages/cmdstanpy/utils/filesystem.py#123\" target=\"_blank\"><span style=\"color: #7f7f7f; text-decoration-color: #7f7f7f\">123</span></a>\n",
       "</pre>\n"
      ],
      "text/plain": [
       "\u001b[2;36m                   \u001b[0m\u001b[2;36m \u001b[0m\u001b[32mDEBUG   \u001b[0m input tempfile: \u001b[35m/tmp/tmpsaail0o2/\u001b[0m\u001b[95m5npch96d.json\u001b[0m                       \u001b]8;id=243622;file:///home/work/Documents/repo/economic_freedom_ml/.venv/lib/python3.8/site-packages/cmdstanpy/utils/filesystem.py\u001b\\\u001b[2mfilesystem.py\u001b[0m\u001b]8;;\u001b\\\u001b[2m:\u001b[0m\u001b]8;id=310091;file:///home/work/Documents/repo/economic_freedom_ml/.venv/lib/python3.8/site-packages/cmdstanpy/utils/filesystem.py#123\u001b\\\u001b[2m123\u001b[0m\u001b]8;;\u001b\\\n"
      ]
     },
     "metadata": {},
     "output_type": "display_data"
    },
    {
     "data": {
      "text/html": [
       "<pre style=\"white-space:pre;overflow-x:auto;line-height:normal;font-family:Menlo,'DejaVu Sans Mono',consolas,'Courier New',monospace\"><span style=\"color: #7fbfbf; text-decoration-color: #7fbfbf\">                    </span><span style=\"color: #008000; text-decoration-color: #008000\">DEBUG   </span> input tempfile: <span style=\"color: #800080; text-decoration-color: #800080\">/tmp/tmpsaail0o2/</span><span style=\"color: #ff00ff; text-decoration-color: #ff00ff\">d0dv_imo.json</span>                       <a href=\"file:///home/work/Documents/repo/economic_freedom_ml/.venv/lib/python3.8/site-packages/cmdstanpy/utils/filesystem.py\" target=\"_blank\"><span style=\"color: #7f7f7f; text-decoration-color: #7f7f7f\">filesystem.py</span></a><span style=\"color: #7f7f7f; text-decoration-color: #7f7f7f\">:</span><a href=\"file:///home/work/Documents/repo/economic_freedom_ml/.venv/lib/python3.8/site-packages/cmdstanpy/utils/filesystem.py#123\" target=\"_blank\"><span style=\"color: #7f7f7f; text-decoration-color: #7f7f7f\">123</span></a>\n",
       "</pre>\n"
      ],
      "text/plain": [
       "\u001b[2;36m                   \u001b[0m\u001b[2;36m \u001b[0m\u001b[32mDEBUG   \u001b[0m input tempfile: \u001b[35m/tmp/tmpsaail0o2/\u001b[0m\u001b[95md0dv_imo.json\u001b[0m                       \u001b]8;id=415607;file:///home/work/Documents/repo/economic_freedom_ml/.venv/lib/python3.8/site-packages/cmdstanpy/utils/filesystem.py\u001b\\\u001b[2mfilesystem.py\u001b[0m\u001b]8;;\u001b\\\u001b[2m:\u001b[0m\u001b]8;id=983490;file:///home/work/Documents/repo/economic_freedom_ml/.venv/lib/python3.8/site-packages/cmdstanpy/utils/filesystem.py#123\u001b\\\u001b[2m123\u001b[0m\u001b]8;;\u001b\\\n"
      ]
     },
     "metadata": {},
     "output_type": "display_data"
    },
    {
     "data": {
      "text/html": [
       "<pre style=\"white-space:pre;overflow-x:auto;line-height:normal;font-family:Menlo,'DejaVu Sans Mono',consolas,'Courier New',monospace\"><span style=\"color: #7fbfbf; text-decoration-color: #7fbfbf\">                    </span><span style=\"color: #008000; text-decoration-color: #008000\">DEBUG   </span> idx <span style=\"color: #008080; text-decoration-color: #008080; font-weight: bold\">0</span>                                                                    <a href=\"file:///home/work/Documents/repo/economic_freedom_ml/.venv/lib/python3.8/site-packages/cmdstanpy/model.py\" target=\"_blank\"><span style=\"color: #7f7f7f; text-decoration-color: #7f7f7f\">model.py</span></a><span style=\"color: #7f7f7f; text-decoration-color: #7f7f7f\">:</span><a href=\"file:///home/work/Documents/repo/economic_freedom_ml/.venv/lib/python3.8/site-packages/cmdstanpy/model.py#1677\" target=\"_blank\"><span style=\"color: #7f7f7f; text-decoration-color: #7f7f7f\">1677</span></a>\n",
       "</pre>\n"
      ],
      "text/plain": [
       "\u001b[2;36m                   \u001b[0m\u001b[2;36m \u001b[0m\u001b[32mDEBUG   \u001b[0m idx \u001b[1;36m0\u001b[0m                                                                    \u001b]8;id=764559;file:///home/work/Documents/repo/economic_freedom_ml/.venv/lib/python3.8/site-packages/cmdstanpy/model.py\u001b\\\u001b[2mmodel.py\u001b[0m\u001b]8;;\u001b\\\u001b[2m:\u001b[0m\u001b]8;id=203475;file:///home/work/Documents/repo/economic_freedom_ml/.venv/lib/python3.8/site-packages/cmdstanpy/model.py#1677\u001b\\\u001b[2m1677\u001b[0m\u001b]8;;\u001b\\\n"
      ]
     },
     "metadata": {},
     "output_type": "display_data"
    },
    {
     "data": {
      "text/html": [
       "<pre style=\"white-space:pre;overflow-x:auto;line-height:normal;font-family:Menlo,'DejaVu Sans Mono',consolas,'Courier New',monospace\"><span style=\"color: #7fbfbf; text-decoration-color: #7fbfbf\">                    </span><span style=\"color: #008000; text-decoration-color: #008000\">DEBUG   </span> running CmdStan, num_threads: <span style=\"color: #800080; text-decoration-color: #800080; font-style: italic\">None</span>                                       <a href=\"file:///home/work/Documents/repo/economic_freedom_ml/.venv/lib/python3.8/site-packages/cmdstanpy/model.py\" target=\"_blank\"><span style=\"color: #7f7f7f; text-decoration-color: #7f7f7f\">model.py</span></a><span style=\"color: #7f7f7f; text-decoration-color: #7f7f7f\">:</span><a href=\"file:///home/work/Documents/repo/economic_freedom_ml/.venv/lib/python3.8/site-packages/cmdstanpy/model.py#1678\" target=\"_blank\"><span style=\"color: #7f7f7f; text-decoration-color: #7f7f7f\">1678</span></a>\n",
       "</pre>\n"
      ],
      "text/plain": [
       "\u001b[2;36m                   \u001b[0m\u001b[2;36m \u001b[0m\u001b[32mDEBUG   \u001b[0m running CmdStan, num_threads: \u001b[3;35mNone\u001b[0m                                       \u001b]8;id=337159;file:///home/work/Documents/repo/economic_freedom_ml/.venv/lib/python3.8/site-packages/cmdstanpy/model.py\u001b\\\u001b[2mmodel.py\u001b[0m\u001b]8;;\u001b\\\u001b[2m:\u001b[0m\u001b]8;id=877187;file:///home/work/Documents/repo/economic_freedom_ml/.venv/lib/python3.8/site-packages/cmdstanpy/model.py#1678\u001b\\\u001b[2m1678\u001b[0m\u001b]8;;\u001b\\\n"
      ]
     },
     "metadata": {},
     "output_type": "display_data"
    },
    {
     "data": {
      "text/html": [
       "<pre style=\"white-space:pre;overflow-x:auto;line-height:normal;font-family:Menlo,'DejaVu Sans Mono',consolas,'Courier New',monospace\"><span style=\"color: #7fbfbf; text-decoration-color: #7fbfbf\">                    </span><span style=\"color: #008000; text-decoration-color: #008000\">DEBUG   </span> CmdStan args:                                                            <a href=\"file:///home/work/Documents/repo/economic_freedom_ml/.venv/lib/python3.8/site-packages/cmdstanpy/model.py\" target=\"_blank\"><span style=\"color: #7f7f7f; text-decoration-color: #7f7f7f\">model.py</span></a><span style=\"color: #7f7f7f; text-decoration-color: #7f7f7f\">:</span><a href=\"file:///home/work/Documents/repo/economic_freedom_ml/.venv/lib/python3.8/site-packages/cmdstanpy/model.py#1690\" target=\"_blank\"><span style=\"color: #7f7f7f; text-decoration-color: #7f7f7f\">1690</span></a>\n",
       "<span style=\"color: #7fbfbf; text-decoration-color: #7fbfbf\">                    </span>         <span style=\"font-weight: bold\">[</span><span style=\"color: #008000; text-decoration-color: #008000\">'/home/work/Documents/repo/economic_freedom_ml/.venv/lib/python3.8/site</span> <span style=\"color: #7f7f7f; text-decoration-color: #7f7f7f\">             </span>\n",
       "<span style=\"color: #7fbfbf; text-decoration-color: #7fbfbf\">                    </span>         <span style=\"color: #008000; text-decoration-color: #008000\">-packages/prophet/stan_model/prophet_model.bin'</span>, <span style=\"color: #008000; text-decoration-color: #008000\">'random'</span>, <span style=\"color: #008000; text-decoration-color: #008000\">'seed=23435'</span>, <span style=\"color: #7f7f7f; text-decoration-color: #7f7f7f\">             </span>\n",
       "<span style=\"color: #7fbfbf; text-decoration-color: #7fbfbf\">                    </span>         <span style=\"color: #008000; text-decoration-color: #008000\">'data'</span>, <span style=\"color: #008000; text-decoration-color: #008000\">'file=/tmp/tmpsaail0o2/5npch96d.json'</span>,                           <span style=\"color: #7f7f7f; text-decoration-color: #7f7f7f\">             </span>\n",
       "<span style=\"color: #7fbfbf; text-decoration-color: #7fbfbf\">                    </span>         <span style=\"color: #008000; text-decoration-color: #008000\">'init=/tmp/tmpsaail0o2/d0dv_imo.json'</span>, <span style=\"color: #008000; text-decoration-color: #008000\">'output'</span>,                         <span style=\"color: #7f7f7f; text-decoration-color: #7f7f7f\">             </span>\n",
       "<span style=\"color: #7fbfbf; text-decoration-color: #7fbfbf\">                    </span>         <span style=\"color: #008000; text-decoration-color: #008000\">'file=/tmp/tmpsaail0o2/prophet_modelg2r8091h/prophet_model-2023052018370</span> <span style=\"color: #7f7f7f; text-decoration-color: #7f7f7f\">             </span>\n",
       "<span style=\"color: #7fbfbf; text-decoration-color: #7fbfbf\">                    </span>         <span style=\"color: #008000; text-decoration-color: #008000\">9.csv'</span>, <span style=\"color: #008000; text-decoration-color: #008000\">'method=optimize'</span>, <span style=\"color: #008000; text-decoration-color: #008000\">'algorithm=newton'</span>, <span style=\"color: #008000; text-decoration-color: #008000\">'iter=10000'</span><span style=\"font-weight: bold\">]</span>             <span style=\"color: #7f7f7f; text-decoration-color: #7f7f7f\">             </span>\n",
       "</pre>\n"
      ],
      "text/plain": [
       "\u001b[2;36m                   \u001b[0m\u001b[2;36m \u001b[0m\u001b[32mDEBUG   \u001b[0m CmdStan args:                                                            \u001b]8;id=890382;file:///home/work/Documents/repo/economic_freedom_ml/.venv/lib/python3.8/site-packages/cmdstanpy/model.py\u001b\\\u001b[2mmodel.py\u001b[0m\u001b]8;;\u001b\\\u001b[2m:\u001b[0m\u001b]8;id=439268;file:///home/work/Documents/repo/economic_freedom_ml/.venv/lib/python3.8/site-packages/cmdstanpy/model.py#1690\u001b\\\u001b[2m1690\u001b[0m\u001b]8;;\u001b\\\n",
       "\u001b[2;36m                    \u001b[0m         \u001b[1m[\u001b[0m\u001b[32m'/home/work/Documents/repo/economic_freedom_ml/.venv/lib/python3.8/site\u001b[0m \u001b[2m             \u001b[0m\n",
       "\u001b[2;36m                    \u001b[0m         \u001b[32m-packages/prophet/stan_model/prophet_model.bin'\u001b[0m, \u001b[32m'random'\u001b[0m, \u001b[32m'\u001b[0m\u001b[32mseed\u001b[0m\u001b[32m=\u001b[0m\u001b[32m23435\u001b[0m\u001b[32m'\u001b[0m, \u001b[2m             \u001b[0m\n",
       "\u001b[2;36m                    \u001b[0m         \u001b[32m'data'\u001b[0m, \u001b[32m'\u001b[0m\u001b[32mfile\u001b[0m\u001b[32m=/tmp/tmpsaail0o2/5npch96d.json'\u001b[0m,                           \u001b[2m             \u001b[0m\n",
       "\u001b[2;36m                    \u001b[0m         \u001b[32m'\u001b[0m\u001b[32minit\u001b[0m\u001b[32m=/tmp/tmpsaail0o2/d0dv_imo.json'\u001b[0m, \u001b[32m'output'\u001b[0m,                         \u001b[2m             \u001b[0m\n",
       "\u001b[2;36m                    \u001b[0m         \u001b[32m'\u001b[0m\u001b[32mfile\u001b[0m\u001b[32m=/tmp/tmpsaail0o2/prophet_modelg2r8091h/prophet_model-2023052018370\u001b[0m \u001b[2m             \u001b[0m\n",
       "\u001b[2;36m                    \u001b[0m         \u001b[32m9.csv'\u001b[0m, \u001b[32m'\u001b[0m\u001b[32mmethod\u001b[0m\u001b[32m=\u001b[0m\u001b[32moptimize\u001b[0m\u001b[32m'\u001b[0m, \u001b[32m'\u001b[0m\u001b[32malgorithm\u001b[0m\u001b[32m=\u001b[0m\u001b[32mnewton\u001b[0m\u001b[32m'\u001b[0m, \u001b[32m'\u001b[0m\u001b[32miter\u001b[0m\u001b[32m=\u001b[0m\u001b[32m10000\u001b[0m\u001b[32m'\u001b[0m\u001b[1m]\u001b[0m             \u001b[2m             \u001b[0m\n"
      ]
     },
     "metadata": {},
     "output_type": "display_data"
    },
    {
     "name": "stderr",
     "output_type": "stream",
     "text": [
      "18:37:09 - cmdstanpy - INFO - Chain [1] start processing\n"
     ]
    },
    {
     "data": {
      "text/html": [
       "<pre style=\"white-space:pre;overflow-x:auto;line-height:normal;font-family:Menlo,'DejaVu Sans Mono',consolas,'Courier New',monospace\"><span style=\"color: #7fbfbf; text-decoration-color: #7fbfbf\">                    </span><span style=\"color: #000080; text-decoration-color: #000080\">INFO    </span> Chain <span style=\"font-weight: bold\">[</span><span style=\"color: #008080; text-decoration-color: #008080; font-weight: bold\">1</span><span style=\"font-weight: bold\">]</span> start processing                                               <a href=\"file:///home/work/Documents/repo/economic_freedom_ml/.venv/lib/python3.8/site-packages/cmdstanpy/model.py\" target=\"_blank\"><span style=\"color: #7f7f7f; text-decoration-color: #7f7f7f\">model.py</span></a><span style=\"color: #7f7f7f; text-decoration-color: #7f7f7f\">:</span><a href=\"file:///home/work/Documents/repo/economic_freedom_ml/.venv/lib/python3.8/site-packages/cmdstanpy/model.py#1693\" target=\"_blank\"><span style=\"color: #7f7f7f; text-decoration-color: #7f7f7f\">1693</span></a>\n",
       "</pre>\n"
      ],
      "text/plain": [
       "\u001b[2;36m                   \u001b[0m\u001b[2;36m \u001b[0m\u001b[34mINFO    \u001b[0m Chain \u001b[1m[\u001b[0m\u001b[1;36m1\u001b[0m\u001b[1m]\u001b[0m start processing                                               \u001b]8;id=672092;file:///home/work/Documents/repo/economic_freedom_ml/.venv/lib/python3.8/site-packages/cmdstanpy/model.py\u001b\\\u001b[2mmodel.py\u001b[0m\u001b]8;;\u001b\\\u001b[2m:\u001b[0m\u001b]8;id=930524;file:///home/work/Documents/repo/economic_freedom_ml/.venv/lib/python3.8/site-packages/cmdstanpy/model.py#1693\u001b\\\u001b[2m1693\u001b[0m\u001b]8;;\u001b\\\n"
      ]
     },
     "metadata": {},
     "output_type": "display_data"
    },
    {
     "name": "stderr",
     "output_type": "stream",
     "text": [
      "18:37:09 - cmdstanpy - INFO - Chain [1] done processing\n"
     ]
    },
    {
     "data": {
      "text/html": [
       "<pre style=\"white-space:pre;overflow-x:auto;line-height:normal;font-family:Menlo,'DejaVu Sans Mono',consolas,'Courier New',monospace\"><span style=\"color: #7fbfbf; text-decoration-color: #7fbfbf\">                    </span><span style=\"color: #000080; text-decoration-color: #000080\">INFO    </span> Chain <span style=\"font-weight: bold\">[</span><span style=\"color: #008080; text-decoration-color: #008080; font-weight: bold\">1</span><span style=\"font-weight: bold\">]</span> done processing                                                <a href=\"file:///home/work/Documents/repo/economic_freedom_ml/.venv/lib/python3.8/site-packages/cmdstanpy/model.py\" target=\"_blank\"><span style=\"color: #7f7f7f; text-decoration-color: #7f7f7f\">model.py</span></a><span style=\"color: #7f7f7f; text-decoration-color: #7f7f7f\">:</span><a href=\"file:///home/work/Documents/repo/economic_freedom_ml/.venv/lib/python3.8/site-packages/cmdstanpy/model.py#1750\" target=\"_blank\"><span style=\"color: #7f7f7f; text-decoration-color: #7f7f7f\">1750</span></a>\n",
       "</pre>\n"
      ],
      "text/plain": [
       "\u001b[2;36m                   \u001b[0m\u001b[2;36m \u001b[0m\u001b[34mINFO    \u001b[0m Chain \u001b[1m[\u001b[0m\u001b[1;36m1\u001b[0m\u001b[1m]\u001b[0m done processing                                                \u001b]8;id=306336;file:///home/work/Documents/repo/economic_freedom_ml/.venv/lib/python3.8/site-packages/cmdstanpy/model.py\u001b\\\u001b[2mmodel.py\u001b[0m\u001b]8;;\u001b\\\u001b[2m:\u001b[0m\u001b]8;id=404303;file:///home/work/Documents/repo/economic_freedom_ml/.venv/lib/python3.8/site-packages/cmdstanpy/model.py#1750\u001b\\\u001b[2m1750\u001b[0m\u001b]8;;\u001b\\\n"
      ]
     },
     "metadata": {},
     "output_type": "display_data"
    },
    {
     "data": {
      "text/html": [
       "<pre style=\"white-space:pre;overflow-x:auto;line-height:normal;font-family:Menlo,'DejaVu Sans Mono',consolas,'Courier New',monospace\"><span style=\"color: #7fbfbf; text-decoration-color: #7fbfbf\">                    </span><span style=\"color: #000080; text-decoration-color: #000080\">INFO    </span> Disabling weekly seasonality. Run prophet with                       <a href=\"file:///home/work/Documents/repo/economic_freedom_ml/.venv/lib/python3.8/site-packages/prophet/forecaster.py\" target=\"_blank\"><span style=\"color: #7f7f7f; text-decoration-color: #7f7f7f\">forecaster.py</span></a><span style=\"color: #7f7f7f; text-decoration-color: #7f7f7f\">:</span><a href=\"file:///home/work/Documents/repo/economic_freedom_ml/.venv/lib/python3.8/site-packages/prophet/forecaster.py#931\" target=\"_blank\"><span style=\"color: #7f7f7f; text-decoration-color: #7f7f7f\">931</span></a>\n",
       "<span style=\"color: #7fbfbf; text-decoration-color: #7fbfbf\">                    </span>         <span style=\"color: #808000; text-decoration-color: #808000\">weekly_seasonality</span>=<span style=\"color: #00ff00; text-decoration-color: #00ff00; font-style: italic\">True</span> to override this.                            <span style=\"color: #7f7f7f; text-decoration-color: #7f7f7f\">                 </span>\n",
       "</pre>\n"
      ],
      "text/plain": [
       "\u001b[2;36m                   \u001b[0m\u001b[2;36m \u001b[0m\u001b[34mINFO    \u001b[0m Disabling weekly seasonality. Run prophet with                       \u001b]8;id=526332;file:///home/work/Documents/repo/economic_freedom_ml/.venv/lib/python3.8/site-packages/prophet/forecaster.py\u001b\\\u001b[2mforecaster.py\u001b[0m\u001b]8;;\u001b\\\u001b[2m:\u001b[0m\u001b]8;id=491027;file:///home/work/Documents/repo/economic_freedom_ml/.venv/lib/python3.8/site-packages/prophet/forecaster.py#931\u001b\\\u001b[2m931\u001b[0m\u001b]8;;\u001b\\\n",
       "\u001b[2;36m                    \u001b[0m         \u001b[33mweekly_seasonality\u001b[0m=\u001b[3;92mTrue\u001b[0m to override this.                            \u001b[2m                 \u001b[0m\n"
      ]
     },
     "metadata": {},
     "output_type": "display_data"
    },
    {
     "data": {
      "text/html": [
       "<pre style=\"white-space:pre;overflow-x:auto;line-height:normal;font-family:Menlo,'DejaVu Sans Mono',consolas,'Courier New',monospace\"><span style=\"color: #7fbfbf; text-decoration-color: #7fbfbf\">                    </span><span style=\"color: #000080; text-decoration-color: #000080\">INFO    </span> Disabling daily seasonality. Run prophet with <span style=\"color: #808000; text-decoration-color: #808000\">daily_seasonality</span>=<span style=\"color: #00ff00; text-decoration-color: #00ff00; font-style: italic\">True</span> <a href=\"file:///home/work/Documents/repo/economic_freedom_ml/.venv/lib/python3.8/site-packages/prophet/forecaster.py\" target=\"_blank\"><span style=\"color: #7f7f7f; text-decoration-color: #7f7f7f\">forecaster.py</span></a><span style=\"color: #7f7f7f; text-decoration-color: #7f7f7f\">:</span><a href=\"file:///home/work/Documents/repo/economic_freedom_ml/.venv/lib/python3.8/site-packages/prophet/forecaster.py#931\" target=\"_blank\"><span style=\"color: #7f7f7f; text-decoration-color: #7f7f7f\">931</span></a>\n",
       "<span style=\"color: #7fbfbf; text-decoration-color: #7fbfbf\">                    </span>         to override this.                                                    <span style=\"color: #7f7f7f; text-decoration-color: #7f7f7f\">                 </span>\n",
       "</pre>\n"
      ],
      "text/plain": [
       "\u001b[2;36m                   \u001b[0m\u001b[2;36m \u001b[0m\u001b[34mINFO    \u001b[0m Disabling daily seasonality. Run prophet with \u001b[33mdaily_seasonality\u001b[0m=\u001b[3;92mTrue\u001b[0m \u001b]8;id=182476;file:///home/work/Documents/repo/economic_freedom_ml/.venv/lib/python3.8/site-packages/prophet/forecaster.py\u001b\\\u001b[2mforecaster.py\u001b[0m\u001b]8;;\u001b\\\u001b[2m:\u001b[0m\u001b]8;id=737429;file:///home/work/Documents/repo/economic_freedom_ml/.venv/lib/python3.8/site-packages/prophet/forecaster.py#931\u001b\\\u001b[2m931\u001b[0m\u001b]8;;\u001b\\\n",
       "\u001b[2;36m                    \u001b[0m         to override this.                                                    \u001b[2m                 \u001b[0m\n"
      ]
     },
     "metadata": {},
     "output_type": "display_data"
    },
    {
     "data": {
      "text/html": [
       "<pre style=\"white-space:pre;overflow-x:auto;line-height:normal;font-family:Menlo,'DejaVu Sans Mono',consolas,'Courier New',monospace\"><span style=\"color: #7fbfbf; text-decoration-color: #7fbfbf\">                    </span><span style=\"color: #000080; text-decoration-color: #000080\">INFO    </span> n_changepoints greater than number of observations. Using <span style=\"color: #008080; text-decoration-color: #008080; font-weight: bold\">7</span>.         <a href=\"file:///home/work/Documents/repo/economic_freedom_ml/.venv/lib/python3.8/site-packages/prophet/forecaster.py\" target=\"_blank\"><span style=\"color: #7f7f7f; text-decoration-color: #7f7f7f\">forecaster.py</span></a><span style=\"color: #7f7f7f; text-decoration-color: #7f7f7f\">:</span><a href=\"file:///home/work/Documents/repo/economic_freedom_ml/.venv/lib/python3.8/site-packages/prophet/forecaster.py#401\" target=\"_blank\"><span style=\"color: #7f7f7f; text-decoration-color: #7f7f7f\">401</span></a>\n",
       "</pre>\n"
      ],
      "text/plain": [
       "\u001b[2;36m                   \u001b[0m\u001b[2;36m \u001b[0m\u001b[34mINFO    \u001b[0m n_changepoints greater than number of observations. Using \u001b[1;36m7\u001b[0m.         \u001b]8;id=381361;file:///home/work/Documents/repo/economic_freedom_ml/.venv/lib/python3.8/site-packages/prophet/forecaster.py\u001b\\\u001b[2mforecaster.py\u001b[0m\u001b]8;;\u001b\\\u001b[2m:\u001b[0m\u001b]8;id=299736;file:///home/work/Documents/repo/economic_freedom_ml/.venv/lib/python3.8/site-packages/prophet/forecaster.py#401\u001b\\\u001b[2m401\u001b[0m\u001b]8;;\u001b\\\n"
      ]
     },
     "metadata": {},
     "output_type": "display_data"
    },
    {
     "data": {
      "text/html": [
       "<pre style=\"white-space:pre;overflow-x:auto;line-height:normal;font-family:Menlo,'DejaVu Sans Mono',consolas,'Courier New',monospace\"><span style=\"color: #7fbfbf; text-decoration-color: #7fbfbf\">                    </span><span style=\"color: #008000; text-decoration-color: #008000\">DEBUG   </span> input tempfile: <span style=\"color: #800080; text-decoration-color: #800080\">/tmp/tmpsaail0o2/</span><span style=\"color: #ff00ff; text-decoration-color: #ff00ff\">y85n7vuz.json</span>                       <a href=\"file:///home/work/Documents/repo/economic_freedom_ml/.venv/lib/python3.8/site-packages/cmdstanpy/utils/filesystem.py\" target=\"_blank\"><span style=\"color: #7f7f7f; text-decoration-color: #7f7f7f\">filesystem.py</span></a><span style=\"color: #7f7f7f; text-decoration-color: #7f7f7f\">:</span><a href=\"file:///home/work/Documents/repo/economic_freedom_ml/.venv/lib/python3.8/site-packages/cmdstanpy/utils/filesystem.py#123\" target=\"_blank\"><span style=\"color: #7f7f7f; text-decoration-color: #7f7f7f\">123</span></a>\n",
       "</pre>\n"
      ],
      "text/plain": [
       "\u001b[2;36m                   \u001b[0m\u001b[2;36m \u001b[0m\u001b[32mDEBUG   \u001b[0m input tempfile: \u001b[35m/tmp/tmpsaail0o2/\u001b[0m\u001b[95my85n7vuz.json\u001b[0m                       \u001b]8;id=493727;file:///home/work/Documents/repo/economic_freedom_ml/.venv/lib/python3.8/site-packages/cmdstanpy/utils/filesystem.py\u001b\\\u001b[2mfilesystem.py\u001b[0m\u001b]8;;\u001b\\\u001b[2m:\u001b[0m\u001b]8;id=387806;file:///home/work/Documents/repo/economic_freedom_ml/.venv/lib/python3.8/site-packages/cmdstanpy/utils/filesystem.py#123\u001b\\\u001b[2m123\u001b[0m\u001b]8;;\u001b\\\n"
      ]
     },
     "metadata": {},
     "output_type": "display_data"
    },
    {
     "data": {
      "text/html": [
       "<pre style=\"white-space:pre;overflow-x:auto;line-height:normal;font-family:Menlo,'DejaVu Sans Mono',consolas,'Courier New',monospace\"><span style=\"color: #7fbfbf; text-decoration-color: #7fbfbf\">                    </span><span style=\"color: #008000; text-decoration-color: #008000\">DEBUG   </span> input tempfile: <span style=\"color: #800080; text-decoration-color: #800080\">/tmp/tmpsaail0o2/</span><span style=\"color: #ff00ff; text-decoration-color: #ff00ff\">540wkf45.json</span>                       <a href=\"file:///home/work/Documents/repo/economic_freedom_ml/.venv/lib/python3.8/site-packages/cmdstanpy/utils/filesystem.py\" target=\"_blank\"><span style=\"color: #7f7f7f; text-decoration-color: #7f7f7f\">filesystem.py</span></a><span style=\"color: #7f7f7f; text-decoration-color: #7f7f7f\">:</span><a href=\"file:///home/work/Documents/repo/economic_freedom_ml/.venv/lib/python3.8/site-packages/cmdstanpy/utils/filesystem.py#123\" target=\"_blank\"><span style=\"color: #7f7f7f; text-decoration-color: #7f7f7f\">123</span></a>\n",
       "</pre>\n"
      ],
      "text/plain": [
       "\u001b[2;36m                   \u001b[0m\u001b[2;36m \u001b[0m\u001b[32mDEBUG   \u001b[0m input tempfile: \u001b[35m/tmp/tmpsaail0o2/\u001b[0m\u001b[95m540wkf45.json\u001b[0m                       \u001b]8;id=351024;file:///home/work/Documents/repo/economic_freedom_ml/.venv/lib/python3.8/site-packages/cmdstanpy/utils/filesystem.py\u001b\\\u001b[2mfilesystem.py\u001b[0m\u001b]8;;\u001b\\\u001b[2m:\u001b[0m\u001b]8;id=603748;file:///home/work/Documents/repo/economic_freedom_ml/.venv/lib/python3.8/site-packages/cmdstanpy/utils/filesystem.py#123\u001b\\\u001b[2m123\u001b[0m\u001b]8;;\u001b\\\n"
      ]
     },
     "metadata": {},
     "output_type": "display_data"
    },
    {
     "data": {
      "text/html": [
       "<pre style=\"white-space:pre;overflow-x:auto;line-height:normal;font-family:Menlo,'DejaVu Sans Mono',consolas,'Courier New',monospace\"><span style=\"color: #7fbfbf; text-decoration-color: #7fbfbf\">                    </span><span style=\"color: #008000; text-decoration-color: #008000\">DEBUG   </span> idx <span style=\"color: #008080; text-decoration-color: #008080; font-weight: bold\">0</span>                                                                    <a href=\"file:///home/work/Documents/repo/economic_freedom_ml/.venv/lib/python3.8/site-packages/cmdstanpy/model.py\" target=\"_blank\"><span style=\"color: #7f7f7f; text-decoration-color: #7f7f7f\">model.py</span></a><span style=\"color: #7f7f7f; text-decoration-color: #7f7f7f\">:</span><a href=\"file:///home/work/Documents/repo/economic_freedom_ml/.venv/lib/python3.8/site-packages/cmdstanpy/model.py#1677\" target=\"_blank\"><span style=\"color: #7f7f7f; text-decoration-color: #7f7f7f\">1677</span></a>\n",
       "</pre>\n"
      ],
      "text/plain": [
       "\u001b[2;36m                   \u001b[0m\u001b[2;36m \u001b[0m\u001b[32mDEBUG   \u001b[0m idx \u001b[1;36m0\u001b[0m                                                                    \u001b]8;id=347426;file:///home/work/Documents/repo/economic_freedom_ml/.venv/lib/python3.8/site-packages/cmdstanpy/model.py\u001b\\\u001b[2mmodel.py\u001b[0m\u001b]8;;\u001b\\\u001b[2m:\u001b[0m\u001b]8;id=568984;file:///home/work/Documents/repo/economic_freedom_ml/.venv/lib/python3.8/site-packages/cmdstanpy/model.py#1677\u001b\\\u001b[2m1677\u001b[0m\u001b]8;;\u001b\\\n"
      ]
     },
     "metadata": {},
     "output_type": "display_data"
    },
    {
     "data": {
      "text/html": [
       "<pre style=\"white-space:pre;overflow-x:auto;line-height:normal;font-family:Menlo,'DejaVu Sans Mono',consolas,'Courier New',monospace\"><span style=\"color: #7fbfbf; text-decoration-color: #7fbfbf\">                    </span><span style=\"color: #008000; text-decoration-color: #008000\">DEBUG   </span> running CmdStan, num_threads: <span style=\"color: #800080; text-decoration-color: #800080; font-style: italic\">None</span>                                       <a href=\"file:///home/work/Documents/repo/economic_freedom_ml/.venv/lib/python3.8/site-packages/cmdstanpy/model.py\" target=\"_blank\"><span style=\"color: #7f7f7f; text-decoration-color: #7f7f7f\">model.py</span></a><span style=\"color: #7f7f7f; text-decoration-color: #7f7f7f\">:</span><a href=\"file:///home/work/Documents/repo/economic_freedom_ml/.venv/lib/python3.8/site-packages/cmdstanpy/model.py#1678\" target=\"_blank\"><span style=\"color: #7f7f7f; text-decoration-color: #7f7f7f\">1678</span></a>\n",
       "</pre>\n"
      ],
      "text/plain": [
       "\u001b[2;36m                   \u001b[0m\u001b[2;36m \u001b[0m\u001b[32mDEBUG   \u001b[0m running CmdStan, num_threads: \u001b[3;35mNone\u001b[0m                                       \u001b]8;id=572708;file:///home/work/Documents/repo/economic_freedom_ml/.venv/lib/python3.8/site-packages/cmdstanpy/model.py\u001b\\\u001b[2mmodel.py\u001b[0m\u001b]8;;\u001b\\\u001b[2m:\u001b[0m\u001b]8;id=766411;file:///home/work/Documents/repo/economic_freedom_ml/.venv/lib/python3.8/site-packages/cmdstanpy/model.py#1678\u001b\\\u001b[2m1678\u001b[0m\u001b]8;;\u001b\\\n"
      ]
     },
     "metadata": {},
     "output_type": "display_data"
    },
    {
     "data": {
      "text/html": [
       "<pre style=\"white-space:pre;overflow-x:auto;line-height:normal;font-family:Menlo,'DejaVu Sans Mono',consolas,'Courier New',monospace\"><span style=\"color: #7fbfbf; text-decoration-color: #7fbfbf\">                    </span><span style=\"color: #008000; text-decoration-color: #008000\">DEBUG   </span> CmdStan args:                                                            <a href=\"file:///home/work/Documents/repo/economic_freedom_ml/.venv/lib/python3.8/site-packages/cmdstanpy/model.py\" target=\"_blank\"><span style=\"color: #7f7f7f; text-decoration-color: #7f7f7f\">model.py</span></a><span style=\"color: #7f7f7f; text-decoration-color: #7f7f7f\">:</span><a href=\"file:///home/work/Documents/repo/economic_freedom_ml/.venv/lib/python3.8/site-packages/cmdstanpy/model.py#1690\" target=\"_blank\"><span style=\"color: #7f7f7f; text-decoration-color: #7f7f7f\">1690</span></a>\n",
       "<span style=\"color: #7fbfbf; text-decoration-color: #7fbfbf\">                    </span>         <span style=\"font-weight: bold\">[</span><span style=\"color: #008000; text-decoration-color: #008000\">'/home/work/Documents/repo/economic_freedom_ml/.venv/lib/python3.8/site</span> <span style=\"color: #7f7f7f; text-decoration-color: #7f7f7f\">             </span>\n",
       "<span style=\"color: #7fbfbf; text-decoration-color: #7fbfbf\">                    </span>         <span style=\"color: #008000; text-decoration-color: #008000\">-packages/prophet/stan_model/prophet_model.bin'</span>, <span style=\"color: #008000; text-decoration-color: #008000\">'random'</span>, <span style=\"color: #008000; text-decoration-color: #008000\">'seed=26410'</span>, <span style=\"color: #7f7f7f; text-decoration-color: #7f7f7f\">             </span>\n",
       "<span style=\"color: #7fbfbf; text-decoration-color: #7fbfbf\">                    </span>         <span style=\"color: #008000; text-decoration-color: #008000\">'data'</span>, <span style=\"color: #008000; text-decoration-color: #008000\">'file=/tmp/tmpsaail0o2/y85n7vuz.json'</span>,                           <span style=\"color: #7f7f7f; text-decoration-color: #7f7f7f\">             </span>\n",
       "<span style=\"color: #7fbfbf; text-decoration-color: #7fbfbf\">                    </span>         <span style=\"color: #008000; text-decoration-color: #008000\">'init=/tmp/tmpsaail0o2/540wkf45.json'</span>, <span style=\"color: #008000; text-decoration-color: #008000\">'output'</span>,                         <span style=\"color: #7f7f7f; text-decoration-color: #7f7f7f\">             </span>\n",
       "<span style=\"color: #7fbfbf; text-decoration-color: #7fbfbf\">                    </span>         <span style=\"color: #008000; text-decoration-color: #008000\">'file=/tmp/tmpsaail0o2/prophet_model739eg4q3/prophet_model-2023052018370</span> <span style=\"color: #7f7f7f; text-decoration-color: #7f7f7f\">             </span>\n",
       "<span style=\"color: #7fbfbf; text-decoration-color: #7fbfbf\">                    </span>         <span style=\"color: #008000; text-decoration-color: #008000\">9.csv'</span>, <span style=\"color: #008000; text-decoration-color: #008000\">'method=optimize'</span>, <span style=\"color: #008000; text-decoration-color: #008000\">'algorithm=newton'</span>, <span style=\"color: #008000; text-decoration-color: #008000\">'iter=10000'</span><span style=\"font-weight: bold\">]</span>             <span style=\"color: #7f7f7f; text-decoration-color: #7f7f7f\">             </span>\n",
       "</pre>\n"
      ],
      "text/plain": [
       "\u001b[2;36m                   \u001b[0m\u001b[2;36m \u001b[0m\u001b[32mDEBUG   \u001b[0m CmdStan args:                                                            \u001b]8;id=498378;file:///home/work/Documents/repo/economic_freedom_ml/.venv/lib/python3.8/site-packages/cmdstanpy/model.py\u001b\\\u001b[2mmodel.py\u001b[0m\u001b]8;;\u001b\\\u001b[2m:\u001b[0m\u001b]8;id=788956;file:///home/work/Documents/repo/economic_freedom_ml/.venv/lib/python3.8/site-packages/cmdstanpy/model.py#1690\u001b\\\u001b[2m1690\u001b[0m\u001b]8;;\u001b\\\n",
       "\u001b[2;36m                    \u001b[0m         \u001b[1m[\u001b[0m\u001b[32m'/home/work/Documents/repo/economic_freedom_ml/.venv/lib/python3.8/site\u001b[0m \u001b[2m             \u001b[0m\n",
       "\u001b[2;36m                    \u001b[0m         \u001b[32m-packages/prophet/stan_model/prophet_model.bin'\u001b[0m, \u001b[32m'random'\u001b[0m, \u001b[32m'\u001b[0m\u001b[32mseed\u001b[0m\u001b[32m=\u001b[0m\u001b[32m26410\u001b[0m\u001b[32m'\u001b[0m, \u001b[2m             \u001b[0m\n",
       "\u001b[2;36m                    \u001b[0m         \u001b[32m'data'\u001b[0m, \u001b[32m'\u001b[0m\u001b[32mfile\u001b[0m\u001b[32m=/tmp/tmpsaail0o2/y85n7vuz.json'\u001b[0m,                           \u001b[2m             \u001b[0m\n",
       "\u001b[2;36m                    \u001b[0m         \u001b[32m'\u001b[0m\u001b[32minit\u001b[0m\u001b[32m=/tmp/tmpsaail0o2/540wkf45.json'\u001b[0m, \u001b[32m'output'\u001b[0m,                         \u001b[2m             \u001b[0m\n",
       "\u001b[2;36m                    \u001b[0m         \u001b[32m'\u001b[0m\u001b[32mfile\u001b[0m\u001b[32m=/tmp/tmpsaail0o2/prophet_model739eg4q3/prophet_model-2023052018370\u001b[0m \u001b[2m             \u001b[0m\n",
       "\u001b[2;36m                    \u001b[0m         \u001b[32m9.csv'\u001b[0m, \u001b[32m'\u001b[0m\u001b[32mmethod\u001b[0m\u001b[32m=\u001b[0m\u001b[32moptimize\u001b[0m\u001b[32m'\u001b[0m, \u001b[32m'\u001b[0m\u001b[32malgorithm\u001b[0m\u001b[32m=\u001b[0m\u001b[32mnewton\u001b[0m\u001b[32m'\u001b[0m, \u001b[32m'\u001b[0m\u001b[32miter\u001b[0m\u001b[32m=\u001b[0m\u001b[32m10000\u001b[0m\u001b[32m'\u001b[0m\u001b[1m]\u001b[0m             \u001b[2m             \u001b[0m\n"
      ]
     },
     "metadata": {},
     "output_type": "display_data"
    },
    {
     "name": "stderr",
     "output_type": "stream",
     "text": [
      "18:37:09 - cmdstanpy - INFO - Chain [1] start processing\n"
     ]
    },
    {
     "data": {
      "text/html": [
       "<pre style=\"white-space:pre;overflow-x:auto;line-height:normal;font-family:Menlo,'DejaVu Sans Mono',consolas,'Courier New',monospace\"><span style=\"color: #7fbfbf; text-decoration-color: #7fbfbf\">                    </span><span style=\"color: #000080; text-decoration-color: #000080\">INFO    </span> Chain <span style=\"font-weight: bold\">[</span><span style=\"color: #008080; text-decoration-color: #008080; font-weight: bold\">1</span><span style=\"font-weight: bold\">]</span> start processing                                               <a href=\"file:///home/work/Documents/repo/economic_freedom_ml/.venv/lib/python3.8/site-packages/cmdstanpy/model.py\" target=\"_blank\"><span style=\"color: #7f7f7f; text-decoration-color: #7f7f7f\">model.py</span></a><span style=\"color: #7f7f7f; text-decoration-color: #7f7f7f\">:</span><a href=\"file:///home/work/Documents/repo/economic_freedom_ml/.venv/lib/python3.8/site-packages/cmdstanpy/model.py#1693\" target=\"_blank\"><span style=\"color: #7f7f7f; text-decoration-color: #7f7f7f\">1693</span></a>\n",
       "</pre>\n"
      ],
      "text/plain": [
       "\u001b[2;36m                   \u001b[0m\u001b[2;36m \u001b[0m\u001b[34mINFO    \u001b[0m Chain \u001b[1m[\u001b[0m\u001b[1;36m1\u001b[0m\u001b[1m]\u001b[0m start processing                                               \u001b]8;id=510630;file:///home/work/Documents/repo/economic_freedom_ml/.venv/lib/python3.8/site-packages/cmdstanpy/model.py\u001b\\\u001b[2mmodel.py\u001b[0m\u001b]8;;\u001b\\\u001b[2m:\u001b[0m\u001b]8;id=197098;file:///home/work/Documents/repo/economic_freedom_ml/.venv/lib/python3.8/site-packages/cmdstanpy/model.py#1693\u001b\\\u001b[2m1693\u001b[0m\u001b]8;;\u001b\\\n"
      ]
     },
     "metadata": {},
     "output_type": "display_data"
    },
    {
     "name": "stderr",
     "output_type": "stream",
     "text": [
      "18:37:09 - cmdstanpy - INFO - Chain [1] done processing\n"
     ]
    },
    {
     "data": {
      "text/html": [
       "<pre style=\"white-space:pre;overflow-x:auto;line-height:normal;font-family:Menlo,'DejaVu Sans Mono',consolas,'Courier New',monospace\"><span style=\"color: #7fbfbf; text-decoration-color: #7fbfbf\">                    </span><span style=\"color: #000080; text-decoration-color: #000080\">INFO    </span> Chain <span style=\"font-weight: bold\">[</span><span style=\"color: #008080; text-decoration-color: #008080; font-weight: bold\">1</span><span style=\"font-weight: bold\">]</span> done processing                                                <a href=\"file:///home/work/Documents/repo/economic_freedom_ml/.venv/lib/python3.8/site-packages/cmdstanpy/model.py\" target=\"_blank\"><span style=\"color: #7f7f7f; text-decoration-color: #7f7f7f\">model.py</span></a><span style=\"color: #7f7f7f; text-decoration-color: #7f7f7f\">:</span><a href=\"file:///home/work/Documents/repo/economic_freedom_ml/.venv/lib/python3.8/site-packages/cmdstanpy/model.py#1750\" target=\"_blank\"><span style=\"color: #7f7f7f; text-decoration-color: #7f7f7f\">1750</span></a>\n",
       "</pre>\n"
      ],
      "text/plain": [
       "\u001b[2;36m                   \u001b[0m\u001b[2;36m \u001b[0m\u001b[34mINFO    \u001b[0m Chain \u001b[1m[\u001b[0m\u001b[1;36m1\u001b[0m\u001b[1m]\u001b[0m done processing                                                \u001b]8;id=4177;file:///home/work/Documents/repo/economic_freedom_ml/.venv/lib/python3.8/site-packages/cmdstanpy/model.py\u001b\\\u001b[2mmodel.py\u001b[0m\u001b]8;;\u001b\\\u001b[2m:\u001b[0m\u001b]8;id=432251;file:///home/work/Documents/repo/economic_freedom_ml/.venv/lib/python3.8/site-packages/cmdstanpy/model.py#1750\u001b\\\u001b[2m1750\u001b[0m\u001b]8;;\u001b\\\n"
      ]
     },
     "metadata": {},
     "output_type": "display_data"
    },
    {
     "data": {
      "text/html": [
       "<pre style=\"white-space:pre;overflow-x:auto;line-height:normal;font-family:Menlo,'DejaVu Sans Mono',consolas,'Courier New',monospace\"><span style=\"color: #7fbfbf; text-decoration-color: #7fbfbf\">[05/20/23 18:37:10] </span><span style=\"color: #000080; text-decoration-color: #000080\">INFO    </span> Disabling weekly seasonality. Run prophet with                       <a href=\"file:///home/work/Documents/repo/economic_freedom_ml/.venv/lib/python3.8/site-packages/prophet/forecaster.py\" target=\"_blank\"><span style=\"color: #7f7f7f; text-decoration-color: #7f7f7f\">forecaster.py</span></a><span style=\"color: #7f7f7f; text-decoration-color: #7f7f7f\">:</span><a href=\"file:///home/work/Documents/repo/economic_freedom_ml/.venv/lib/python3.8/site-packages/prophet/forecaster.py#931\" target=\"_blank\"><span style=\"color: #7f7f7f; text-decoration-color: #7f7f7f\">931</span></a>\n",
       "<span style=\"color: #7fbfbf; text-decoration-color: #7fbfbf\">                    </span>         <span style=\"color: #808000; text-decoration-color: #808000\">weekly_seasonality</span>=<span style=\"color: #00ff00; text-decoration-color: #00ff00; font-style: italic\">True</span> to override this.                            <span style=\"color: #7f7f7f; text-decoration-color: #7f7f7f\">                 </span>\n",
       "</pre>\n"
      ],
      "text/plain": [
       "\u001b[2;36m[05/20/23 18:37:10]\u001b[0m\u001b[2;36m \u001b[0m\u001b[34mINFO    \u001b[0m Disabling weekly seasonality. Run prophet with                       \u001b]8;id=981520;file:///home/work/Documents/repo/economic_freedom_ml/.venv/lib/python3.8/site-packages/prophet/forecaster.py\u001b\\\u001b[2mforecaster.py\u001b[0m\u001b]8;;\u001b\\\u001b[2m:\u001b[0m\u001b]8;id=976723;file:///home/work/Documents/repo/economic_freedom_ml/.venv/lib/python3.8/site-packages/prophet/forecaster.py#931\u001b\\\u001b[2m931\u001b[0m\u001b]8;;\u001b\\\n",
       "\u001b[2;36m                    \u001b[0m         \u001b[33mweekly_seasonality\u001b[0m=\u001b[3;92mTrue\u001b[0m to override this.                            \u001b[2m                 \u001b[0m\n"
      ]
     },
     "metadata": {},
     "output_type": "display_data"
    },
    {
     "data": {
      "text/html": [
       "<pre style=\"white-space:pre;overflow-x:auto;line-height:normal;font-family:Menlo,'DejaVu Sans Mono',consolas,'Courier New',monospace\"><span style=\"color: #7fbfbf; text-decoration-color: #7fbfbf\">                    </span><span style=\"color: #000080; text-decoration-color: #000080\">INFO    </span> Disabling daily seasonality. Run prophet with <span style=\"color: #808000; text-decoration-color: #808000\">daily_seasonality</span>=<span style=\"color: #00ff00; text-decoration-color: #00ff00; font-style: italic\">True</span> <a href=\"file:///home/work/Documents/repo/economic_freedom_ml/.venv/lib/python3.8/site-packages/prophet/forecaster.py\" target=\"_blank\"><span style=\"color: #7f7f7f; text-decoration-color: #7f7f7f\">forecaster.py</span></a><span style=\"color: #7f7f7f; text-decoration-color: #7f7f7f\">:</span><a href=\"file:///home/work/Documents/repo/economic_freedom_ml/.venv/lib/python3.8/site-packages/prophet/forecaster.py#931\" target=\"_blank\"><span style=\"color: #7f7f7f; text-decoration-color: #7f7f7f\">931</span></a>\n",
       "<span style=\"color: #7fbfbf; text-decoration-color: #7fbfbf\">                    </span>         to override this.                                                    <span style=\"color: #7f7f7f; text-decoration-color: #7f7f7f\">                 </span>\n",
       "</pre>\n"
      ],
      "text/plain": [
       "\u001b[2;36m                   \u001b[0m\u001b[2;36m \u001b[0m\u001b[34mINFO    \u001b[0m Disabling daily seasonality. Run prophet with \u001b[33mdaily_seasonality\u001b[0m=\u001b[3;92mTrue\u001b[0m \u001b]8;id=704153;file:///home/work/Documents/repo/economic_freedom_ml/.venv/lib/python3.8/site-packages/prophet/forecaster.py\u001b\\\u001b[2mforecaster.py\u001b[0m\u001b]8;;\u001b\\\u001b[2m:\u001b[0m\u001b]8;id=449980;file:///home/work/Documents/repo/economic_freedom_ml/.venv/lib/python3.8/site-packages/prophet/forecaster.py#931\u001b\\\u001b[2m931\u001b[0m\u001b]8;;\u001b\\\n",
       "\u001b[2;36m                    \u001b[0m         to override this.                                                    \u001b[2m                 \u001b[0m\n"
      ]
     },
     "metadata": {},
     "output_type": "display_data"
    },
    {
     "data": {
      "text/html": [
       "<pre style=\"white-space:pre;overflow-x:auto;line-height:normal;font-family:Menlo,'DejaVu Sans Mono',consolas,'Courier New',monospace\"><span style=\"color: #7fbfbf; text-decoration-color: #7fbfbf\">                    </span><span style=\"color: #000080; text-decoration-color: #000080\">INFO    </span> n_changepoints greater than number of observations. Using <span style=\"color: #008080; text-decoration-color: #008080; font-weight: bold\">17</span>.        <a href=\"file:///home/work/Documents/repo/economic_freedom_ml/.venv/lib/python3.8/site-packages/prophet/forecaster.py\" target=\"_blank\"><span style=\"color: #7f7f7f; text-decoration-color: #7f7f7f\">forecaster.py</span></a><span style=\"color: #7f7f7f; text-decoration-color: #7f7f7f\">:</span><a href=\"file:///home/work/Documents/repo/economic_freedom_ml/.venv/lib/python3.8/site-packages/prophet/forecaster.py#401\" target=\"_blank\"><span style=\"color: #7f7f7f; text-decoration-color: #7f7f7f\">401</span></a>\n",
       "</pre>\n"
      ],
      "text/plain": [
       "\u001b[2;36m                   \u001b[0m\u001b[2;36m \u001b[0m\u001b[34mINFO    \u001b[0m n_changepoints greater than number of observations. Using \u001b[1;36m17\u001b[0m.        \u001b]8;id=640485;file:///home/work/Documents/repo/economic_freedom_ml/.venv/lib/python3.8/site-packages/prophet/forecaster.py\u001b\\\u001b[2mforecaster.py\u001b[0m\u001b]8;;\u001b\\\u001b[2m:\u001b[0m\u001b]8;id=308014;file:///home/work/Documents/repo/economic_freedom_ml/.venv/lib/python3.8/site-packages/prophet/forecaster.py#401\u001b\\\u001b[2m401\u001b[0m\u001b]8;;\u001b\\\n"
      ]
     },
     "metadata": {},
     "output_type": "display_data"
    },
    {
     "data": {
      "text/html": [
       "<pre style=\"white-space:pre;overflow-x:auto;line-height:normal;font-family:Menlo,'DejaVu Sans Mono',consolas,'Courier New',monospace\"><span style=\"color: #7fbfbf; text-decoration-color: #7fbfbf\">                    </span><span style=\"color: #008000; text-decoration-color: #008000\">DEBUG   </span> input tempfile: <span style=\"color: #800080; text-decoration-color: #800080\">/tmp/tmpsaail0o2/</span><span style=\"color: #ff00ff; text-decoration-color: #ff00ff\">x8e4xu3f.json</span>                       <a href=\"file:///home/work/Documents/repo/economic_freedom_ml/.venv/lib/python3.8/site-packages/cmdstanpy/utils/filesystem.py\" target=\"_blank\"><span style=\"color: #7f7f7f; text-decoration-color: #7f7f7f\">filesystem.py</span></a><span style=\"color: #7f7f7f; text-decoration-color: #7f7f7f\">:</span><a href=\"file:///home/work/Documents/repo/economic_freedom_ml/.venv/lib/python3.8/site-packages/cmdstanpy/utils/filesystem.py#123\" target=\"_blank\"><span style=\"color: #7f7f7f; text-decoration-color: #7f7f7f\">123</span></a>\n",
       "</pre>\n"
      ],
      "text/plain": [
       "\u001b[2;36m                   \u001b[0m\u001b[2;36m \u001b[0m\u001b[32mDEBUG   \u001b[0m input tempfile: \u001b[35m/tmp/tmpsaail0o2/\u001b[0m\u001b[95mx8e4xu3f.json\u001b[0m                       \u001b]8;id=441757;file:///home/work/Documents/repo/economic_freedom_ml/.venv/lib/python3.8/site-packages/cmdstanpy/utils/filesystem.py\u001b\\\u001b[2mfilesystem.py\u001b[0m\u001b]8;;\u001b\\\u001b[2m:\u001b[0m\u001b]8;id=588943;file:///home/work/Documents/repo/economic_freedom_ml/.venv/lib/python3.8/site-packages/cmdstanpy/utils/filesystem.py#123\u001b\\\u001b[2m123\u001b[0m\u001b]8;;\u001b\\\n"
      ]
     },
     "metadata": {},
     "output_type": "display_data"
    },
    {
     "data": {
      "text/html": [
       "<pre style=\"white-space:pre;overflow-x:auto;line-height:normal;font-family:Menlo,'DejaVu Sans Mono',consolas,'Courier New',monospace\"><span style=\"color: #7fbfbf; text-decoration-color: #7fbfbf\">                    </span><span style=\"color: #008000; text-decoration-color: #008000\">DEBUG   </span> input tempfile: <span style=\"color: #800080; text-decoration-color: #800080\">/tmp/tmpsaail0o2/</span><span style=\"color: #ff00ff; text-decoration-color: #ff00ff\">vxbl_ils.json</span>                       <a href=\"file:///home/work/Documents/repo/economic_freedom_ml/.venv/lib/python3.8/site-packages/cmdstanpy/utils/filesystem.py\" target=\"_blank\"><span style=\"color: #7f7f7f; text-decoration-color: #7f7f7f\">filesystem.py</span></a><span style=\"color: #7f7f7f; text-decoration-color: #7f7f7f\">:</span><a href=\"file:///home/work/Documents/repo/economic_freedom_ml/.venv/lib/python3.8/site-packages/cmdstanpy/utils/filesystem.py#123\" target=\"_blank\"><span style=\"color: #7f7f7f; text-decoration-color: #7f7f7f\">123</span></a>\n",
       "</pre>\n"
      ],
      "text/plain": [
       "\u001b[2;36m                   \u001b[0m\u001b[2;36m \u001b[0m\u001b[32mDEBUG   \u001b[0m input tempfile: \u001b[35m/tmp/tmpsaail0o2/\u001b[0m\u001b[95mvxbl_ils.json\u001b[0m                       \u001b]8;id=237422;file:///home/work/Documents/repo/economic_freedom_ml/.venv/lib/python3.8/site-packages/cmdstanpy/utils/filesystem.py\u001b\\\u001b[2mfilesystem.py\u001b[0m\u001b]8;;\u001b\\\u001b[2m:\u001b[0m\u001b]8;id=895134;file:///home/work/Documents/repo/economic_freedom_ml/.venv/lib/python3.8/site-packages/cmdstanpy/utils/filesystem.py#123\u001b\\\u001b[2m123\u001b[0m\u001b]8;;\u001b\\\n"
      ]
     },
     "metadata": {},
     "output_type": "display_data"
    },
    {
     "data": {
      "text/html": [
       "<pre style=\"white-space:pre;overflow-x:auto;line-height:normal;font-family:Menlo,'DejaVu Sans Mono',consolas,'Courier New',monospace\"><span style=\"color: #7fbfbf; text-decoration-color: #7fbfbf\">                    </span><span style=\"color: #008000; text-decoration-color: #008000\">DEBUG   </span> idx <span style=\"color: #008080; text-decoration-color: #008080; font-weight: bold\">0</span>                                                                    <a href=\"file:///home/work/Documents/repo/economic_freedom_ml/.venv/lib/python3.8/site-packages/cmdstanpy/model.py\" target=\"_blank\"><span style=\"color: #7f7f7f; text-decoration-color: #7f7f7f\">model.py</span></a><span style=\"color: #7f7f7f; text-decoration-color: #7f7f7f\">:</span><a href=\"file:///home/work/Documents/repo/economic_freedom_ml/.venv/lib/python3.8/site-packages/cmdstanpy/model.py#1677\" target=\"_blank\"><span style=\"color: #7f7f7f; text-decoration-color: #7f7f7f\">1677</span></a>\n",
       "</pre>\n"
      ],
      "text/plain": [
       "\u001b[2;36m                   \u001b[0m\u001b[2;36m \u001b[0m\u001b[32mDEBUG   \u001b[0m idx \u001b[1;36m0\u001b[0m                                                                    \u001b]8;id=410894;file:///home/work/Documents/repo/economic_freedom_ml/.venv/lib/python3.8/site-packages/cmdstanpy/model.py\u001b\\\u001b[2mmodel.py\u001b[0m\u001b]8;;\u001b\\\u001b[2m:\u001b[0m\u001b]8;id=630852;file:///home/work/Documents/repo/economic_freedom_ml/.venv/lib/python3.8/site-packages/cmdstanpy/model.py#1677\u001b\\\u001b[2m1677\u001b[0m\u001b]8;;\u001b\\\n"
      ]
     },
     "metadata": {},
     "output_type": "display_data"
    },
    {
     "data": {
      "text/html": [
       "<pre style=\"white-space:pre;overflow-x:auto;line-height:normal;font-family:Menlo,'DejaVu Sans Mono',consolas,'Courier New',monospace\"><span style=\"color: #7fbfbf; text-decoration-color: #7fbfbf\">                    </span><span style=\"color: #008000; text-decoration-color: #008000\">DEBUG   </span> running CmdStan, num_threads: <span style=\"color: #800080; text-decoration-color: #800080; font-style: italic\">None</span>                                       <a href=\"file:///home/work/Documents/repo/economic_freedom_ml/.venv/lib/python3.8/site-packages/cmdstanpy/model.py\" target=\"_blank\"><span style=\"color: #7f7f7f; text-decoration-color: #7f7f7f\">model.py</span></a><span style=\"color: #7f7f7f; text-decoration-color: #7f7f7f\">:</span><a href=\"file:///home/work/Documents/repo/economic_freedom_ml/.venv/lib/python3.8/site-packages/cmdstanpy/model.py#1678\" target=\"_blank\"><span style=\"color: #7f7f7f; text-decoration-color: #7f7f7f\">1678</span></a>\n",
       "</pre>\n"
      ],
      "text/plain": [
       "\u001b[2;36m                   \u001b[0m\u001b[2;36m \u001b[0m\u001b[32mDEBUG   \u001b[0m running CmdStan, num_threads: \u001b[3;35mNone\u001b[0m                                       \u001b]8;id=650720;file:///home/work/Documents/repo/economic_freedom_ml/.venv/lib/python3.8/site-packages/cmdstanpy/model.py\u001b\\\u001b[2mmodel.py\u001b[0m\u001b]8;;\u001b\\\u001b[2m:\u001b[0m\u001b]8;id=618555;file:///home/work/Documents/repo/economic_freedom_ml/.venv/lib/python3.8/site-packages/cmdstanpy/model.py#1678\u001b\\\u001b[2m1678\u001b[0m\u001b]8;;\u001b\\\n"
      ]
     },
     "metadata": {},
     "output_type": "display_data"
    },
    {
     "data": {
      "text/html": [
       "<pre style=\"white-space:pre;overflow-x:auto;line-height:normal;font-family:Menlo,'DejaVu Sans Mono',consolas,'Courier New',monospace\"><span style=\"color: #7fbfbf; text-decoration-color: #7fbfbf\">                    </span><span style=\"color: #008000; text-decoration-color: #008000\">DEBUG   </span> CmdStan args:                                                            <a href=\"file:///home/work/Documents/repo/economic_freedom_ml/.venv/lib/python3.8/site-packages/cmdstanpy/model.py\" target=\"_blank\"><span style=\"color: #7f7f7f; text-decoration-color: #7f7f7f\">model.py</span></a><span style=\"color: #7f7f7f; text-decoration-color: #7f7f7f\">:</span><a href=\"file:///home/work/Documents/repo/economic_freedom_ml/.venv/lib/python3.8/site-packages/cmdstanpy/model.py#1690\" target=\"_blank\"><span style=\"color: #7f7f7f; text-decoration-color: #7f7f7f\">1690</span></a>\n",
       "<span style=\"color: #7fbfbf; text-decoration-color: #7fbfbf\">                    </span>         <span style=\"font-weight: bold\">[</span><span style=\"color: #008000; text-decoration-color: #008000\">'/home/work/Documents/repo/economic_freedom_ml/.venv/lib/python3.8/site</span> <span style=\"color: #7f7f7f; text-decoration-color: #7f7f7f\">             </span>\n",
       "<span style=\"color: #7fbfbf; text-decoration-color: #7fbfbf\">                    </span>         <span style=\"color: #008000; text-decoration-color: #008000\">-packages/prophet/stan_model/prophet_model.bin'</span>, <span style=\"color: #008000; text-decoration-color: #008000\">'random'</span>, <span style=\"color: #008000; text-decoration-color: #008000\">'seed=34689'</span>, <span style=\"color: #7f7f7f; text-decoration-color: #7f7f7f\">             </span>\n",
       "<span style=\"color: #7fbfbf; text-decoration-color: #7fbfbf\">                    </span>         <span style=\"color: #008000; text-decoration-color: #008000\">'data'</span>, <span style=\"color: #008000; text-decoration-color: #008000\">'file=/tmp/tmpsaail0o2/x8e4xu3f.json'</span>,                           <span style=\"color: #7f7f7f; text-decoration-color: #7f7f7f\">             </span>\n",
       "<span style=\"color: #7fbfbf; text-decoration-color: #7fbfbf\">                    </span>         <span style=\"color: #008000; text-decoration-color: #008000\">'init=/tmp/tmpsaail0o2/vxbl_ils.json'</span>, <span style=\"color: #008000; text-decoration-color: #008000\">'output'</span>,                         <span style=\"color: #7f7f7f; text-decoration-color: #7f7f7f\">             </span>\n",
       "<span style=\"color: #7fbfbf; text-decoration-color: #7fbfbf\">                    </span>         <span style=\"color: #008000; text-decoration-color: #008000\">'file=/tmp/tmpsaail0o2/prophet_modell18ndqrb/prophet_model-2023052018371</span> <span style=\"color: #7f7f7f; text-decoration-color: #7f7f7f\">             </span>\n",
       "<span style=\"color: #7fbfbf; text-decoration-color: #7fbfbf\">                    </span>         <span style=\"color: #008000; text-decoration-color: #008000\">0.csv'</span>, <span style=\"color: #008000; text-decoration-color: #008000\">'method=optimize'</span>, <span style=\"color: #008000; text-decoration-color: #008000\">'algorithm=newton'</span>, <span style=\"color: #008000; text-decoration-color: #008000\">'iter=10000'</span><span style=\"font-weight: bold\">]</span>             <span style=\"color: #7f7f7f; text-decoration-color: #7f7f7f\">             </span>\n",
       "</pre>\n"
      ],
      "text/plain": [
       "\u001b[2;36m                   \u001b[0m\u001b[2;36m \u001b[0m\u001b[32mDEBUG   \u001b[0m CmdStan args:                                                            \u001b]8;id=135338;file:///home/work/Documents/repo/economic_freedom_ml/.venv/lib/python3.8/site-packages/cmdstanpy/model.py\u001b\\\u001b[2mmodel.py\u001b[0m\u001b]8;;\u001b\\\u001b[2m:\u001b[0m\u001b]8;id=842140;file:///home/work/Documents/repo/economic_freedom_ml/.venv/lib/python3.8/site-packages/cmdstanpy/model.py#1690\u001b\\\u001b[2m1690\u001b[0m\u001b]8;;\u001b\\\n",
       "\u001b[2;36m                    \u001b[0m         \u001b[1m[\u001b[0m\u001b[32m'/home/work/Documents/repo/economic_freedom_ml/.venv/lib/python3.8/site\u001b[0m \u001b[2m             \u001b[0m\n",
       "\u001b[2;36m                    \u001b[0m         \u001b[32m-packages/prophet/stan_model/prophet_model.bin'\u001b[0m, \u001b[32m'random'\u001b[0m, \u001b[32m'\u001b[0m\u001b[32mseed\u001b[0m\u001b[32m=\u001b[0m\u001b[32m34689\u001b[0m\u001b[32m'\u001b[0m, \u001b[2m             \u001b[0m\n",
       "\u001b[2;36m                    \u001b[0m         \u001b[32m'data'\u001b[0m, \u001b[32m'\u001b[0m\u001b[32mfile\u001b[0m\u001b[32m=/tmp/tmpsaail0o2/x8e4xu3f.json'\u001b[0m,                           \u001b[2m             \u001b[0m\n",
       "\u001b[2;36m                    \u001b[0m         \u001b[32m'\u001b[0m\u001b[32minit\u001b[0m\u001b[32m=/tmp/tmpsaail0o2/vxbl_ils.json'\u001b[0m, \u001b[32m'output'\u001b[0m,                         \u001b[2m             \u001b[0m\n",
       "\u001b[2;36m                    \u001b[0m         \u001b[32m'\u001b[0m\u001b[32mfile\u001b[0m\u001b[32m=/tmp/tmpsaail0o2/prophet_modell18ndqrb/prophet_model-2023052018371\u001b[0m \u001b[2m             \u001b[0m\n",
       "\u001b[2;36m                    \u001b[0m         \u001b[32m0.csv'\u001b[0m, \u001b[32m'\u001b[0m\u001b[32mmethod\u001b[0m\u001b[32m=\u001b[0m\u001b[32moptimize\u001b[0m\u001b[32m'\u001b[0m, \u001b[32m'\u001b[0m\u001b[32malgorithm\u001b[0m\u001b[32m=\u001b[0m\u001b[32mnewton\u001b[0m\u001b[32m'\u001b[0m, \u001b[32m'\u001b[0m\u001b[32miter\u001b[0m\u001b[32m=\u001b[0m\u001b[32m10000\u001b[0m\u001b[32m'\u001b[0m\u001b[1m]\u001b[0m             \u001b[2m             \u001b[0m\n"
      ]
     },
     "metadata": {},
     "output_type": "display_data"
    },
    {
     "name": "stderr",
     "output_type": "stream",
     "text": [
      "18:37:10 - cmdstanpy - INFO - Chain [1] start processing\n"
     ]
    },
    {
     "data": {
      "text/html": [
       "<pre style=\"white-space:pre;overflow-x:auto;line-height:normal;font-family:Menlo,'DejaVu Sans Mono',consolas,'Courier New',monospace\"><span style=\"color: #7fbfbf; text-decoration-color: #7fbfbf\">                    </span><span style=\"color: #000080; text-decoration-color: #000080\">INFO    </span> Chain <span style=\"font-weight: bold\">[</span><span style=\"color: #008080; text-decoration-color: #008080; font-weight: bold\">1</span><span style=\"font-weight: bold\">]</span> start processing                                               <a href=\"file:///home/work/Documents/repo/economic_freedom_ml/.venv/lib/python3.8/site-packages/cmdstanpy/model.py\" target=\"_blank\"><span style=\"color: #7f7f7f; text-decoration-color: #7f7f7f\">model.py</span></a><span style=\"color: #7f7f7f; text-decoration-color: #7f7f7f\">:</span><a href=\"file:///home/work/Documents/repo/economic_freedom_ml/.venv/lib/python3.8/site-packages/cmdstanpy/model.py#1693\" target=\"_blank\"><span style=\"color: #7f7f7f; text-decoration-color: #7f7f7f\">1693</span></a>\n",
       "</pre>\n"
      ],
      "text/plain": [
       "\u001b[2;36m                   \u001b[0m\u001b[2;36m \u001b[0m\u001b[34mINFO    \u001b[0m Chain \u001b[1m[\u001b[0m\u001b[1;36m1\u001b[0m\u001b[1m]\u001b[0m start processing                                               \u001b]8;id=139032;file:///home/work/Documents/repo/economic_freedom_ml/.venv/lib/python3.8/site-packages/cmdstanpy/model.py\u001b\\\u001b[2mmodel.py\u001b[0m\u001b]8;;\u001b\\\u001b[2m:\u001b[0m\u001b]8;id=201101;file:///home/work/Documents/repo/economic_freedom_ml/.venv/lib/python3.8/site-packages/cmdstanpy/model.py#1693\u001b\\\u001b[2m1693\u001b[0m\u001b]8;;\u001b\\\n"
      ]
     },
     "metadata": {},
     "output_type": "display_data"
    },
    {
     "name": "stderr",
     "output_type": "stream",
     "text": [
      "18:37:10 - cmdstanpy - INFO - Chain [1] done processing\n"
     ]
    },
    {
     "data": {
      "text/html": [
       "<pre style=\"white-space:pre;overflow-x:auto;line-height:normal;font-family:Menlo,'DejaVu Sans Mono',consolas,'Courier New',monospace\"><span style=\"color: #7fbfbf; text-decoration-color: #7fbfbf\">                    </span><span style=\"color: #000080; text-decoration-color: #000080\">INFO    </span> Chain <span style=\"font-weight: bold\">[</span><span style=\"color: #008080; text-decoration-color: #008080; font-weight: bold\">1</span><span style=\"font-weight: bold\">]</span> done processing                                                <a href=\"file:///home/work/Documents/repo/economic_freedom_ml/.venv/lib/python3.8/site-packages/cmdstanpy/model.py\" target=\"_blank\"><span style=\"color: #7f7f7f; text-decoration-color: #7f7f7f\">model.py</span></a><span style=\"color: #7f7f7f; text-decoration-color: #7f7f7f\">:</span><a href=\"file:///home/work/Documents/repo/economic_freedom_ml/.venv/lib/python3.8/site-packages/cmdstanpy/model.py#1750\" target=\"_blank\"><span style=\"color: #7f7f7f; text-decoration-color: #7f7f7f\">1750</span></a>\n",
       "</pre>\n"
      ],
      "text/plain": [
       "\u001b[2;36m                   \u001b[0m\u001b[2;36m \u001b[0m\u001b[34mINFO    \u001b[0m Chain \u001b[1m[\u001b[0m\u001b[1;36m1\u001b[0m\u001b[1m]\u001b[0m done processing                                                \u001b]8;id=726729;file:///home/work/Documents/repo/economic_freedom_ml/.venv/lib/python3.8/site-packages/cmdstanpy/model.py\u001b\\\u001b[2mmodel.py\u001b[0m\u001b]8;;\u001b\\\u001b[2m:\u001b[0m\u001b]8;id=518550;file:///home/work/Documents/repo/economic_freedom_ml/.venv/lib/python3.8/site-packages/cmdstanpy/model.py#1750\u001b\\\u001b[2m1750\u001b[0m\u001b]8;;\u001b\\\n"
      ]
     },
     "metadata": {},
     "output_type": "display_data"
    },
    {
     "data": {
      "text/html": [
       "<pre style=\"white-space:pre;overflow-x:auto;line-height:normal;font-family:Menlo,'DejaVu Sans Mono',consolas,'Courier New',monospace\"><span style=\"color: #7fbfbf; text-decoration-color: #7fbfbf\">                    </span><span style=\"color: #000080; text-decoration-color: #000080\">INFO    </span> Disabling weekly seasonality. Run prophet with                       <a href=\"file:///home/work/Documents/repo/economic_freedom_ml/.venv/lib/python3.8/site-packages/prophet/forecaster.py\" target=\"_blank\"><span style=\"color: #7f7f7f; text-decoration-color: #7f7f7f\">forecaster.py</span></a><span style=\"color: #7f7f7f; text-decoration-color: #7f7f7f\">:</span><a href=\"file:///home/work/Documents/repo/economic_freedom_ml/.venv/lib/python3.8/site-packages/prophet/forecaster.py#931\" target=\"_blank\"><span style=\"color: #7f7f7f; text-decoration-color: #7f7f7f\">931</span></a>\n",
       "<span style=\"color: #7fbfbf; text-decoration-color: #7fbfbf\">                    </span>         <span style=\"color: #808000; text-decoration-color: #808000\">weekly_seasonality</span>=<span style=\"color: #00ff00; text-decoration-color: #00ff00; font-style: italic\">True</span> to override this.                            <span style=\"color: #7f7f7f; text-decoration-color: #7f7f7f\">                 </span>\n",
       "</pre>\n"
      ],
      "text/plain": [
       "\u001b[2;36m                   \u001b[0m\u001b[2;36m \u001b[0m\u001b[34mINFO    \u001b[0m Disabling weekly seasonality. Run prophet with                       \u001b]8;id=936893;file:///home/work/Documents/repo/economic_freedom_ml/.venv/lib/python3.8/site-packages/prophet/forecaster.py\u001b\\\u001b[2mforecaster.py\u001b[0m\u001b]8;;\u001b\\\u001b[2m:\u001b[0m\u001b]8;id=195697;file:///home/work/Documents/repo/economic_freedom_ml/.venv/lib/python3.8/site-packages/prophet/forecaster.py#931\u001b\\\u001b[2m931\u001b[0m\u001b]8;;\u001b\\\n",
       "\u001b[2;36m                    \u001b[0m         \u001b[33mweekly_seasonality\u001b[0m=\u001b[3;92mTrue\u001b[0m to override this.                            \u001b[2m                 \u001b[0m\n"
      ]
     },
     "metadata": {},
     "output_type": "display_data"
    },
    {
     "data": {
      "text/html": [
       "<pre style=\"white-space:pre;overflow-x:auto;line-height:normal;font-family:Menlo,'DejaVu Sans Mono',consolas,'Courier New',monospace\"><span style=\"color: #7fbfbf; text-decoration-color: #7fbfbf\">                    </span><span style=\"color: #000080; text-decoration-color: #000080\">INFO    </span> Disabling daily seasonality. Run prophet with <span style=\"color: #808000; text-decoration-color: #808000\">daily_seasonality</span>=<span style=\"color: #00ff00; text-decoration-color: #00ff00; font-style: italic\">True</span> <a href=\"file:///home/work/Documents/repo/economic_freedom_ml/.venv/lib/python3.8/site-packages/prophet/forecaster.py\" target=\"_blank\"><span style=\"color: #7f7f7f; text-decoration-color: #7f7f7f\">forecaster.py</span></a><span style=\"color: #7f7f7f; text-decoration-color: #7f7f7f\">:</span><a href=\"file:///home/work/Documents/repo/economic_freedom_ml/.venv/lib/python3.8/site-packages/prophet/forecaster.py#931\" target=\"_blank\"><span style=\"color: #7f7f7f; text-decoration-color: #7f7f7f\">931</span></a>\n",
       "<span style=\"color: #7fbfbf; text-decoration-color: #7fbfbf\">                    </span>         to override this.                                                    <span style=\"color: #7f7f7f; text-decoration-color: #7f7f7f\">                 </span>\n",
       "</pre>\n"
      ],
      "text/plain": [
       "\u001b[2;36m                   \u001b[0m\u001b[2;36m \u001b[0m\u001b[34mINFO    \u001b[0m Disabling daily seasonality. Run prophet with \u001b[33mdaily_seasonality\u001b[0m=\u001b[3;92mTrue\u001b[0m \u001b]8;id=790737;file:///home/work/Documents/repo/economic_freedom_ml/.venv/lib/python3.8/site-packages/prophet/forecaster.py\u001b\\\u001b[2mforecaster.py\u001b[0m\u001b]8;;\u001b\\\u001b[2m:\u001b[0m\u001b]8;id=810582;file:///home/work/Documents/repo/economic_freedom_ml/.venv/lib/python3.8/site-packages/prophet/forecaster.py#931\u001b\\\u001b[2m931\u001b[0m\u001b]8;;\u001b\\\n",
       "\u001b[2;36m                    \u001b[0m         to override this.                                                    \u001b[2m                 \u001b[0m\n"
      ]
     },
     "metadata": {},
     "output_type": "display_data"
    },
    {
     "data": {
      "text/html": [
       "<pre style=\"white-space:pre;overflow-x:auto;line-height:normal;font-family:Menlo,'DejaVu Sans Mono',consolas,'Courier New',monospace\"><span style=\"color: #7fbfbf; text-decoration-color: #7fbfbf\">                    </span><span style=\"color: #000080; text-decoration-color: #000080\">INFO    </span> n_changepoints greater than number of observations. Using <span style=\"color: #008080; text-decoration-color: #008080; font-weight: bold\">18</span>.        <a href=\"file:///home/work/Documents/repo/economic_freedom_ml/.venv/lib/python3.8/site-packages/prophet/forecaster.py\" target=\"_blank\"><span style=\"color: #7f7f7f; text-decoration-color: #7f7f7f\">forecaster.py</span></a><span style=\"color: #7f7f7f; text-decoration-color: #7f7f7f\">:</span><a href=\"file:///home/work/Documents/repo/economic_freedom_ml/.venv/lib/python3.8/site-packages/prophet/forecaster.py#401\" target=\"_blank\"><span style=\"color: #7f7f7f; text-decoration-color: #7f7f7f\">401</span></a>\n",
       "</pre>\n"
      ],
      "text/plain": [
       "\u001b[2;36m                   \u001b[0m\u001b[2;36m \u001b[0m\u001b[34mINFO    \u001b[0m n_changepoints greater than number of observations. Using \u001b[1;36m18\u001b[0m.        \u001b]8;id=173557;file:///home/work/Documents/repo/economic_freedom_ml/.venv/lib/python3.8/site-packages/prophet/forecaster.py\u001b\\\u001b[2mforecaster.py\u001b[0m\u001b]8;;\u001b\\\u001b[2m:\u001b[0m\u001b]8;id=522710;file:///home/work/Documents/repo/economic_freedom_ml/.venv/lib/python3.8/site-packages/prophet/forecaster.py#401\u001b\\\u001b[2m401\u001b[0m\u001b]8;;\u001b\\\n"
      ]
     },
     "metadata": {},
     "output_type": "display_data"
    },
    {
     "data": {
      "text/html": [
       "<pre style=\"white-space:pre;overflow-x:auto;line-height:normal;font-family:Menlo,'DejaVu Sans Mono',consolas,'Courier New',monospace\"><span style=\"color: #7fbfbf; text-decoration-color: #7fbfbf\">                    </span><span style=\"color: #008000; text-decoration-color: #008000\">DEBUG   </span> input tempfile: <span style=\"color: #800080; text-decoration-color: #800080\">/tmp/tmpsaail0o2/</span><span style=\"color: #ff00ff; text-decoration-color: #ff00ff\">dg9i4bpa.json</span>                       <a href=\"file:///home/work/Documents/repo/economic_freedom_ml/.venv/lib/python3.8/site-packages/cmdstanpy/utils/filesystem.py\" target=\"_blank\"><span style=\"color: #7f7f7f; text-decoration-color: #7f7f7f\">filesystem.py</span></a><span style=\"color: #7f7f7f; text-decoration-color: #7f7f7f\">:</span><a href=\"file:///home/work/Documents/repo/economic_freedom_ml/.venv/lib/python3.8/site-packages/cmdstanpy/utils/filesystem.py#123\" target=\"_blank\"><span style=\"color: #7f7f7f; text-decoration-color: #7f7f7f\">123</span></a>\n",
       "</pre>\n"
      ],
      "text/plain": [
       "\u001b[2;36m                   \u001b[0m\u001b[2;36m \u001b[0m\u001b[32mDEBUG   \u001b[0m input tempfile: \u001b[35m/tmp/tmpsaail0o2/\u001b[0m\u001b[95mdg9i4bpa.json\u001b[0m                       \u001b]8;id=481292;file:///home/work/Documents/repo/economic_freedom_ml/.venv/lib/python3.8/site-packages/cmdstanpy/utils/filesystem.py\u001b\\\u001b[2mfilesystem.py\u001b[0m\u001b]8;;\u001b\\\u001b[2m:\u001b[0m\u001b]8;id=153524;file:///home/work/Documents/repo/economic_freedom_ml/.venv/lib/python3.8/site-packages/cmdstanpy/utils/filesystem.py#123\u001b\\\u001b[2m123\u001b[0m\u001b]8;;\u001b\\\n"
      ]
     },
     "metadata": {},
     "output_type": "display_data"
    },
    {
     "data": {
      "text/html": [
       "<pre style=\"white-space:pre;overflow-x:auto;line-height:normal;font-family:Menlo,'DejaVu Sans Mono',consolas,'Courier New',monospace\"><span style=\"color: #7fbfbf; text-decoration-color: #7fbfbf\">                    </span><span style=\"color: #008000; text-decoration-color: #008000\">DEBUG   </span> input tempfile: <span style=\"color: #800080; text-decoration-color: #800080\">/tmp/tmpsaail0o2/</span><span style=\"color: #ff00ff; text-decoration-color: #ff00ff\">hba7ag_o.json</span>                       <a href=\"file:///home/work/Documents/repo/economic_freedom_ml/.venv/lib/python3.8/site-packages/cmdstanpy/utils/filesystem.py\" target=\"_blank\"><span style=\"color: #7f7f7f; text-decoration-color: #7f7f7f\">filesystem.py</span></a><span style=\"color: #7f7f7f; text-decoration-color: #7f7f7f\">:</span><a href=\"file:///home/work/Documents/repo/economic_freedom_ml/.venv/lib/python3.8/site-packages/cmdstanpy/utils/filesystem.py#123\" target=\"_blank\"><span style=\"color: #7f7f7f; text-decoration-color: #7f7f7f\">123</span></a>\n",
       "</pre>\n"
      ],
      "text/plain": [
       "\u001b[2;36m                   \u001b[0m\u001b[2;36m \u001b[0m\u001b[32mDEBUG   \u001b[0m input tempfile: \u001b[35m/tmp/tmpsaail0o2/\u001b[0m\u001b[95mhba7ag_o.json\u001b[0m                       \u001b]8;id=953093;file:///home/work/Documents/repo/economic_freedom_ml/.venv/lib/python3.8/site-packages/cmdstanpy/utils/filesystem.py\u001b\\\u001b[2mfilesystem.py\u001b[0m\u001b]8;;\u001b\\\u001b[2m:\u001b[0m\u001b]8;id=109083;file:///home/work/Documents/repo/economic_freedom_ml/.venv/lib/python3.8/site-packages/cmdstanpy/utils/filesystem.py#123\u001b\\\u001b[2m123\u001b[0m\u001b]8;;\u001b\\\n"
      ]
     },
     "metadata": {},
     "output_type": "display_data"
    },
    {
     "data": {
      "text/html": [
       "<pre style=\"white-space:pre;overflow-x:auto;line-height:normal;font-family:Menlo,'DejaVu Sans Mono',consolas,'Courier New',monospace\"><span style=\"color: #7fbfbf; text-decoration-color: #7fbfbf\">                    </span><span style=\"color: #008000; text-decoration-color: #008000\">DEBUG   </span> idx <span style=\"color: #008080; text-decoration-color: #008080; font-weight: bold\">0</span>                                                                    <a href=\"file:///home/work/Documents/repo/economic_freedom_ml/.venv/lib/python3.8/site-packages/cmdstanpy/model.py\" target=\"_blank\"><span style=\"color: #7f7f7f; text-decoration-color: #7f7f7f\">model.py</span></a><span style=\"color: #7f7f7f; text-decoration-color: #7f7f7f\">:</span><a href=\"file:///home/work/Documents/repo/economic_freedom_ml/.venv/lib/python3.8/site-packages/cmdstanpy/model.py#1677\" target=\"_blank\"><span style=\"color: #7f7f7f; text-decoration-color: #7f7f7f\">1677</span></a>\n",
       "</pre>\n"
      ],
      "text/plain": [
       "\u001b[2;36m                   \u001b[0m\u001b[2;36m \u001b[0m\u001b[32mDEBUG   \u001b[0m idx \u001b[1;36m0\u001b[0m                                                                    \u001b]8;id=903051;file:///home/work/Documents/repo/economic_freedom_ml/.venv/lib/python3.8/site-packages/cmdstanpy/model.py\u001b\\\u001b[2mmodel.py\u001b[0m\u001b]8;;\u001b\\\u001b[2m:\u001b[0m\u001b]8;id=836783;file:///home/work/Documents/repo/economic_freedom_ml/.venv/lib/python3.8/site-packages/cmdstanpy/model.py#1677\u001b\\\u001b[2m1677\u001b[0m\u001b]8;;\u001b\\\n"
      ]
     },
     "metadata": {},
     "output_type": "display_data"
    },
    {
     "data": {
      "text/html": [
       "<pre style=\"white-space:pre;overflow-x:auto;line-height:normal;font-family:Menlo,'DejaVu Sans Mono',consolas,'Courier New',monospace\"><span style=\"color: #7fbfbf; text-decoration-color: #7fbfbf\">                    </span><span style=\"color: #008000; text-decoration-color: #008000\">DEBUG   </span> running CmdStan, num_threads: <span style=\"color: #800080; text-decoration-color: #800080; font-style: italic\">None</span>                                       <a href=\"file:///home/work/Documents/repo/economic_freedom_ml/.venv/lib/python3.8/site-packages/cmdstanpy/model.py\" target=\"_blank\"><span style=\"color: #7f7f7f; text-decoration-color: #7f7f7f\">model.py</span></a><span style=\"color: #7f7f7f; text-decoration-color: #7f7f7f\">:</span><a href=\"file:///home/work/Documents/repo/economic_freedom_ml/.venv/lib/python3.8/site-packages/cmdstanpy/model.py#1678\" target=\"_blank\"><span style=\"color: #7f7f7f; text-decoration-color: #7f7f7f\">1678</span></a>\n",
       "</pre>\n"
      ],
      "text/plain": [
       "\u001b[2;36m                   \u001b[0m\u001b[2;36m \u001b[0m\u001b[32mDEBUG   \u001b[0m running CmdStan, num_threads: \u001b[3;35mNone\u001b[0m                                       \u001b]8;id=669114;file:///home/work/Documents/repo/economic_freedom_ml/.venv/lib/python3.8/site-packages/cmdstanpy/model.py\u001b\\\u001b[2mmodel.py\u001b[0m\u001b]8;;\u001b\\\u001b[2m:\u001b[0m\u001b]8;id=418174;file:///home/work/Documents/repo/economic_freedom_ml/.venv/lib/python3.8/site-packages/cmdstanpy/model.py#1678\u001b\\\u001b[2m1678\u001b[0m\u001b]8;;\u001b\\\n"
      ]
     },
     "metadata": {},
     "output_type": "display_data"
    },
    {
     "data": {
      "text/html": [
       "<pre style=\"white-space:pre;overflow-x:auto;line-height:normal;font-family:Menlo,'DejaVu Sans Mono',consolas,'Courier New',monospace\"><span style=\"color: #7fbfbf; text-decoration-color: #7fbfbf\">                    </span><span style=\"color: #008000; text-decoration-color: #008000\">DEBUG   </span> CmdStan args:                                                            <a href=\"file:///home/work/Documents/repo/economic_freedom_ml/.venv/lib/python3.8/site-packages/cmdstanpy/model.py\" target=\"_blank\"><span style=\"color: #7f7f7f; text-decoration-color: #7f7f7f\">model.py</span></a><span style=\"color: #7f7f7f; text-decoration-color: #7f7f7f\">:</span><a href=\"file:///home/work/Documents/repo/economic_freedom_ml/.venv/lib/python3.8/site-packages/cmdstanpy/model.py#1690\" target=\"_blank\"><span style=\"color: #7f7f7f; text-decoration-color: #7f7f7f\">1690</span></a>\n",
       "<span style=\"color: #7fbfbf; text-decoration-color: #7fbfbf\">                    </span>         <span style=\"font-weight: bold\">[</span><span style=\"color: #008000; text-decoration-color: #008000\">'/home/work/Documents/repo/economic_freedom_ml/.venv/lib/python3.8/site</span> <span style=\"color: #7f7f7f; text-decoration-color: #7f7f7f\">             </span>\n",
       "<span style=\"color: #7fbfbf; text-decoration-color: #7fbfbf\">                    </span>         <span style=\"color: #008000; text-decoration-color: #008000\">-packages/prophet/stan_model/prophet_model.bin'</span>, <span style=\"color: #008000; text-decoration-color: #008000\">'random'</span>, <span style=\"color: #008000; text-decoration-color: #008000\">'seed=92894'</span>, <span style=\"color: #7f7f7f; text-decoration-color: #7f7f7f\">             </span>\n",
       "<span style=\"color: #7fbfbf; text-decoration-color: #7fbfbf\">                    </span>         <span style=\"color: #008000; text-decoration-color: #008000\">'data'</span>, <span style=\"color: #008000; text-decoration-color: #008000\">'file=/tmp/tmpsaail0o2/dg9i4bpa.json'</span>,                           <span style=\"color: #7f7f7f; text-decoration-color: #7f7f7f\">             </span>\n",
       "<span style=\"color: #7fbfbf; text-decoration-color: #7fbfbf\">                    </span>         <span style=\"color: #008000; text-decoration-color: #008000\">'init=/tmp/tmpsaail0o2/hba7ag_o.json'</span>, <span style=\"color: #008000; text-decoration-color: #008000\">'output'</span>,                         <span style=\"color: #7f7f7f; text-decoration-color: #7f7f7f\">             </span>\n",
       "<span style=\"color: #7fbfbf; text-decoration-color: #7fbfbf\">                    </span>         <span style=\"color: #008000; text-decoration-color: #008000\">'file=/tmp/tmpsaail0o2/prophet_model1me2upp0/prophet_model-2023052018371</span> <span style=\"color: #7f7f7f; text-decoration-color: #7f7f7f\">             </span>\n",
       "<span style=\"color: #7fbfbf; text-decoration-color: #7fbfbf\">                    </span>         <span style=\"color: #008000; text-decoration-color: #008000\">0.csv'</span>, <span style=\"color: #008000; text-decoration-color: #008000\">'method=optimize'</span>, <span style=\"color: #008000; text-decoration-color: #008000\">'algorithm=newton'</span>, <span style=\"color: #008000; text-decoration-color: #008000\">'iter=10000'</span><span style=\"font-weight: bold\">]</span>             <span style=\"color: #7f7f7f; text-decoration-color: #7f7f7f\">             </span>\n",
       "</pre>\n"
      ],
      "text/plain": [
       "\u001b[2;36m                   \u001b[0m\u001b[2;36m \u001b[0m\u001b[32mDEBUG   \u001b[0m CmdStan args:                                                            \u001b]8;id=887199;file:///home/work/Documents/repo/economic_freedom_ml/.venv/lib/python3.8/site-packages/cmdstanpy/model.py\u001b\\\u001b[2mmodel.py\u001b[0m\u001b]8;;\u001b\\\u001b[2m:\u001b[0m\u001b]8;id=204879;file:///home/work/Documents/repo/economic_freedom_ml/.venv/lib/python3.8/site-packages/cmdstanpy/model.py#1690\u001b\\\u001b[2m1690\u001b[0m\u001b]8;;\u001b\\\n",
       "\u001b[2;36m                    \u001b[0m         \u001b[1m[\u001b[0m\u001b[32m'/home/work/Documents/repo/economic_freedom_ml/.venv/lib/python3.8/site\u001b[0m \u001b[2m             \u001b[0m\n",
       "\u001b[2;36m                    \u001b[0m         \u001b[32m-packages/prophet/stan_model/prophet_model.bin'\u001b[0m, \u001b[32m'random'\u001b[0m, \u001b[32m'\u001b[0m\u001b[32mseed\u001b[0m\u001b[32m=\u001b[0m\u001b[32m92894\u001b[0m\u001b[32m'\u001b[0m, \u001b[2m             \u001b[0m\n",
       "\u001b[2;36m                    \u001b[0m         \u001b[32m'data'\u001b[0m, \u001b[32m'\u001b[0m\u001b[32mfile\u001b[0m\u001b[32m=/tmp/tmpsaail0o2/dg9i4bpa.json'\u001b[0m,                           \u001b[2m             \u001b[0m\n",
       "\u001b[2;36m                    \u001b[0m         \u001b[32m'\u001b[0m\u001b[32minit\u001b[0m\u001b[32m=/tmp/tmpsaail0o2/hba7ag_o.json'\u001b[0m, \u001b[32m'output'\u001b[0m,                         \u001b[2m             \u001b[0m\n",
       "\u001b[2;36m                    \u001b[0m         \u001b[32m'\u001b[0m\u001b[32mfile\u001b[0m\u001b[32m=/tmp/tmpsaail0o2/prophet_model1me2upp0/prophet_model-2023052018371\u001b[0m \u001b[2m             \u001b[0m\n",
       "\u001b[2;36m                    \u001b[0m         \u001b[32m0.csv'\u001b[0m, \u001b[32m'\u001b[0m\u001b[32mmethod\u001b[0m\u001b[32m=\u001b[0m\u001b[32moptimize\u001b[0m\u001b[32m'\u001b[0m, \u001b[32m'\u001b[0m\u001b[32malgorithm\u001b[0m\u001b[32m=\u001b[0m\u001b[32mnewton\u001b[0m\u001b[32m'\u001b[0m, \u001b[32m'\u001b[0m\u001b[32miter\u001b[0m\u001b[32m=\u001b[0m\u001b[32m10000\u001b[0m\u001b[32m'\u001b[0m\u001b[1m]\u001b[0m             \u001b[2m             \u001b[0m\n"
      ]
     },
     "metadata": {},
     "output_type": "display_data"
    },
    {
     "name": "stderr",
     "output_type": "stream",
     "text": [
      "18:37:10 - cmdstanpy - INFO - Chain [1] start processing\n"
     ]
    },
    {
     "data": {
      "text/html": [
       "<pre style=\"white-space:pre;overflow-x:auto;line-height:normal;font-family:Menlo,'DejaVu Sans Mono',consolas,'Courier New',monospace\"><span style=\"color: #7fbfbf; text-decoration-color: #7fbfbf\">                    </span><span style=\"color: #000080; text-decoration-color: #000080\">INFO    </span> Chain <span style=\"font-weight: bold\">[</span><span style=\"color: #008080; text-decoration-color: #008080; font-weight: bold\">1</span><span style=\"font-weight: bold\">]</span> start processing                                               <a href=\"file:///home/work/Documents/repo/economic_freedom_ml/.venv/lib/python3.8/site-packages/cmdstanpy/model.py\" target=\"_blank\"><span style=\"color: #7f7f7f; text-decoration-color: #7f7f7f\">model.py</span></a><span style=\"color: #7f7f7f; text-decoration-color: #7f7f7f\">:</span><a href=\"file:///home/work/Documents/repo/economic_freedom_ml/.venv/lib/python3.8/site-packages/cmdstanpy/model.py#1693\" target=\"_blank\"><span style=\"color: #7f7f7f; text-decoration-color: #7f7f7f\">1693</span></a>\n",
       "</pre>\n"
      ],
      "text/plain": [
       "\u001b[2;36m                   \u001b[0m\u001b[2;36m \u001b[0m\u001b[34mINFO    \u001b[0m Chain \u001b[1m[\u001b[0m\u001b[1;36m1\u001b[0m\u001b[1m]\u001b[0m start processing                                               \u001b]8;id=157076;file:///home/work/Documents/repo/economic_freedom_ml/.venv/lib/python3.8/site-packages/cmdstanpy/model.py\u001b\\\u001b[2mmodel.py\u001b[0m\u001b]8;;\u001b\\\u001b[2m:\u001b[0m\u001b]8;id=301588;file:///home/work/Documents/repo/economic_freedom_ml/.venv/lib/python3.8/site-packages/cmdstanpy/model.py#1693\u001b\\\u001b[2m1693\u001b[0m\u001b]8;;\u001b\\\n"
      ]
     },
     "metadata": {},
     "output_type": "display_data"
    },
    {
     "name": "stderr",
     "output_type": "stream",
     "text": [
      "18:37:10 - cmdstanpy - INFO - Chain [1] done processing\n"
     ]
    },
    {
     "data": {
      "text/html": [
       "<pre style=\"white-space:pre;overflow-x:auto;line-height:normal;font-family:Menlo,'DejaVu Sans Mono',consolas,'Courier New',monospace\"><span style=\"color: #7fbfbf; text-decoration-color: #7fbfbf\">                    </span><span style=\"color: #000080; text-decoration-color: #000080\">INFO    </span> Chain <span style=\"font-weight: bold\">[</span><span style=\"color: #008080; text-decoration-color: #008080; font-weight: bold\">1</span><span style=\"font-weight: bold\">]</span> done processing                                                <a href=\"file:///home/work/Documents/repo/economic_freedom_ml/.venv/lib/python3.8/site-packages/cmdstanpy/model.py\" target=\"_blank\"><span style=\"color: #7f7f7f; text-decoration-color: #7f7f7f\">model.py</span></a><span style=\"color: #7f7f7f; text-decoration-color: #7f7f7f\">:</span><a href=\"file:///home/work/Documents/repo/economic_freedom_ml/.venv/lib/python3.8/site-packages/cmdstanpy/model.py#1750\" target=\"_blank\"><span style=\"color: #7f7f7f; text-decoration-color: #7f7f7f\">1750</span></a>\n",
       "</pre>\n"
      ],
      "text/plain": [
       "\u001b[2;36m                   \u001b[0m\u001b[2;36m \u001b[0m\u001b[34mINFO    \u001b[0m Chain \u001b[1m[\u001b[0m\u001b[1;36m1\u001b[0m\u001b[1m]\u001b[0m done processing                                                \u001b]8;id=640139;file:///home/work/Documents/repo/economic_freedom_ml/.venv/lib/python3.8/site-packages/cmdstanpy/model.py\u001b\\\u001b[2mmodel.py\u001b[0m\u001b]8;;\u001b\\\u001b[2m:\u001b[0m\u001b]8;id=707696;file:///home/work/Documents/repo/economic_freedom_ml/.venv/lib/python3.8/site-packages/cmdstanpy/model.py#1750\u001b\\\u001b[2m1750\u001b[0m\u001b]8;;\u001b\\\n"
      ]
     },
     "metadata": {},
     "output_type": "display_data"
    },
    {
     "data": {
      "text/html": [
       "<pre style=\"white-space:pre;overflow-x:auto;line-height:normal;font-family:Menlo,'DejaVu Sans Mono',consolas,'Courier New',monospace\"><span style=\"color: #7fbfbf; text-decoration-color: #7fbfbf\">                    </span><span style=\"color: #000080; text-decoration-color: #000080\">INFO    </span> Disabling weekly seasonality. Run prophet with                       <a href=\"file:///home/work/Documents/repo/economic_freedom_ml/.venv/lib/python3.8/site-packages/prophet/forecaster.py\" target=\"_blank\"><span style=\"color: #7f7f7f; text-decoration-color: #7f7f7f\">forecaster.py</span></a><span style=\"color: #7f7f7f; text-decoration-color: #7f7f7f\">:</span><a href=\"file:///home/work/Documents/repo/economic_freedom_ml/.venv/lib/python3.8/site-packages/prophet/forecaster.py#931\" target=\"_blank\"><span style=\"color: #7f7f7f; text-decoration-color: #7f7f7f\">931</span></a>\n",
       "<span style=\"color: #7fbfbf; text-decoration-color: #7fbfbf\">                    </span>         <span style=\"color: #808000; text-decoration-color: #808000\">weekly_seasonality</span>=<span style=\"color: #00ff00; text-decoration-color: #00ff00; font-style: italic\">True</span> to override this.                            <span style=\"color: #7f7f7f; text-decoration-color: #7f7f7f\">                 </span>\n",
       "</pre>\n"
      ],
      "text/plain": [
       "\u001b[2;36m                   \u001b[0m\u001b[2;36m \u001b[0m\u001b[34mINFO    \u001b[0m Disabling weekly seasonality. Run prophet with                       \u001b]8;id=85660;file:///home/work/Documents/repo/economic_freedom_ml/.venv/lib/python3.8/site-packages/prophet/forecaster.py\u001b\\\u001b[2mforecaster.py\u001b[0m\u001b]8;;\u001b\\\u001b[2m:\u001b[0m\u001b]8;id=417100;file:///home/work/Documents/repo/economic_freedom_ml/.venv/lib/python3.8/site-packages/prophet/forecaster.py#931\u001b\\\u001b[2m931\u001b[0m\u001b]8;;\u001b\\\n",
       "\u001b[2;36m                    \u001b[0m         \u001b[33mweekly_seasonality\u001b[0m=\u001b[3;92mTrue\u001b[0m to override this.                            \u001b[2m                 \u001b[0m\n"
      ]
     },
     "metadata": {},
     "output_type": "display_data"
    },
    {
     "data": {
      "text/html": [
       "<pre style=\"white-space:pre;overflow-x:auto;line-height:normal;font-family:Menlo,'DejaVu Sans Mono',consolas,'Courier New',monospace\"><span style=\"color: #7fbfbf; text-decoration-color: #7fbfbf\">                    </span><span style=\"color: #000080; text-decoration-color: #000080\">INFO    </span> Disabling daily seasonality. Run prophet with <span style=\"color: #808000; text-decoration-color: #808000\">daily_seasonality</span>=<span style=\"color: #00ff00; text-decoration-color: #00ff00; font-style: italic\">True</span> <a href=\"file:///home/work/Documents/repo/economic_freedom_ml/.venv/lib/python3.8/site-packages/prophet/forecaster.py\" target=\"_blank\"><span style=\"color: #7f7f7f; text-decoration-color: #7f7f7f\">forecaster.py</span></a><span style=\"color: #7f7f7f; text-decoration-color: #7f7f7f\">:</span><a href=\"file:///home/work/Documents/repo/economic_freedom_ml/.venv/lib/python3.8/site-packages/prophet/forecaster.py#931\" target=\"_blank\"><span style=\"color: #7f7f7f; text-decoration-color: #7f7f7f\">931</span></a>\n",
       "<span style=\"color: #7fbfbf; text-decoration-color: #7fbfbf\">                    </span>         to override this.                                                    <span style=\"color: #7f7f7f; text-decoration-color: #7f7f7f\">                 </span>\n",
       "</pre>\n"
      ],
      "text/plain": [
       "\u001b[2;36m                   \u001b[0m\u001b[2;36m \u001b[0m\u001b[34mINFO    \u001b[0m Disabling daily seasonality. Run prophet with \u001b[33mdaily_seasonality\u001b[0m=\u001b[3;92mTrue\u001b[0m \u001b]8;id=633312;file:///home/work/Documents/repo/economic_freedom_ml/.venv/lib/python3.8/site-packages/prophet/forecaster.py\u001b\\\u001b[2mforecaster.py\u001b[0m\u001b]8;;\u001b\\\u001b[2m:\u001b[0m\u001b]8;id=775964;file:///home/work/Documents/repo/economic_freedom_ml/.venv/lib/python3.8/site-packages/prophet/forecaster.py#931\u001b\\\u001b[2m931\u001b[0m\u001b]8;;\u001b\\\n",
       "\u001b[2;36m                    \u001b[0m         to override this.                                                    \u001b[2m                 \u001b[0m\n"
      ]
     },
     "metadata": {},
     "output_type": "display_data"
    },
    {
     "data": {
      "text/html": [
       "<pre style=\"white-space:pre;overflow-x:auto;line-height:normal;font-family:Menlo,'DejaVu Sans Mono',consolas,'Courier New',monospace\"><span style=\"color: #7fbfbf; text-decoration-color: #7fbfbf\">                    </span><span style=\"color: #000080; text-decoration-color: #000080\">INFO    </span> n_changepoints greater than number of observations. Using <span style=\"color: #008080; text-decoration-color: #008080; font-weight: bold\">17</span>.        <a href=\"file:///home/work/Documents/repo/economic_freedom_ml/.venv/lib/python3.8/site-packages/prophet/forecaster.py\" target=\"_blank\"><span style=\"color: #7f7f7f; text-decoration-color: #7f7f7f\">forecaster.py</span></a><span style=\"color: #7f7f7f; text-decoration-color: #7f7f7f\">:</span><a href=\"file:///home/work/Documents/repo/economic_freedom_ml/.venv/lib/python3.8/site-packages/prophet/forecaster.py#401\" target=\"_blank\"><span style=\"color: #7f7f7f; text-decoration-color: #7f7f7f\">401</span></a>\n",
       "</pre>\n"
      ],
      "text/plain": [
       "\u001b[2;36m                   \u001b[0m\u001b[2;36m \u001b[0m\u001b[34mINFO    \u001b[0m n_changepoints greater than number of observations. Using \u001b[1;36m17\u001b[0m.        \u001b]8;id=707340;file:///home/work/Documents/repo/economic_freedom_ml/.venv/lib/python3.8/site-packages/prophet/forecaster.py\u001b\\\u001b[2mforecaster.py\u001b[0m\u001b]8;;\u001b\\\u001b[2m:\u001b[0m\u001b]8;id=992824;file:///home/work/Documents/repo/economic_freedom_ml/.venv/lib/python3.8/site-packages/prophet/forecaster.py#401\u001b\\\u001b[2m401\u001b[0m\u001b]8;;\u001b\\\n"
      ]
     },
     "metadata": {},
     "output_type": "display_data"
    },
    {
     "data": {
      "text/html": [
       "<pre style=\"white-space:pre;overflow-x:auto;line-height:normal;font-family:Menlo,'DejaVu Sans Mono',consolas,'Courier New',monospace\"><span style=\"color: #7fbfbf; text-decoration-color: #7fbfbf\">                    </span><span style=\"color: #008000; text-decoration-color: #008000\">DEBUG   </span> input tempfile: <span style=\"color: #800080; text-decoration-color: #800080\">/tmp/tmpsaail0o2/</span><span style=\"color: #ff00ff; text-decoration-color: #ff00ff\">edl9zx_j.json</span>                       <a href=\"file:///home/work/Documents/repo/economic_freedom_ml/.venv/lib/python3.8/site-packages/cmdstanpy/utils/filesystem.py\" target=\"_blank\"><span style=\"color: #7f7f7f; text-decoration-color: #7f7f7f\">filesystem.py</span></a><span style=\"color: #7f7f7f; text-decoration-color: #7f7f7f\">:</span><a href=\"file:///home/work/Documents/repo/economic_freedom_ml/.venv/lib/python3.8/site-packages/cmdstanpy/utils/filesystem.py#123\" target=\"_blank\"><span style=\"color: #7f7f7f; text-decoration-color: #7f7f7f\">123</span></a>\n",
       "</pre>\n"
      ],
      "text/plain": [
       "\u001b[2;36m                   \u001b[0m\u001b[2;36m \u001b[0m\u001b[32mDEBUG   \u001b[0m input tempfile: \u001b[35m/tmp/tmpsaail0o2/\u001b[0m\u001b[95medl9zx_j.json\u001b[0m                       \u001b]8;id=151369;file:///home/work/Documents/repo/economic_freedom_ml/.venv/lib/python3.8/site-packages/cmdstanpy/utils/filesystem.py\u001b\\\u001b[2mfilesystem.py\u001b[0m\u001b]8;;\u001b\\\u001b[2m:\u001b[0m\u001b]8;id=390050;file:///home/work/Documents/repo/economic_freedom_ml/.venv/lib/python3.8/site-packages/cmdstanpy/utils/filesystem.py#123\u001b\\\u001b[2m123\u001b[0m\u001b]8;;\u001b\\\n"
      ]
     },
     "metadata": {},
     "output_type": "display_data"
    },
    {
     "data": {
      "text/html": [
       "<pre style=\"white-space:pre;overflow-x:auto;line-height:normal;font-family:Menlo,'DejaVu Sans Mono',consolas,'Courier New',monospace\"><span style=\"color: #7fbfbf; text-decoration-color: #7fbfbf\">                    </span><span style=\"color: #008000; text-decoration-color: #008000\">DEBUG   </span> input tempfile: <span style=\"color: #800080; text-decoration-color: #800080\">/tmp/tmpsaail0o2/</span><span style=\"color: #ff00ff; text-decoration-color: #ff00ff\">fahgf0lu.json</span>                       <a href=\"file:///home/work/Documents/repo/economic_freedom_ml/.venv/lib/python3.8/site-packages/cmdstanpy/utils/filesystem.py\" target=\"_blank\"><span style=\"color: #7f7f7f; text-decoration-color: #7f7f7f\">filesystem.py</span></a><span style=\"color: #7f7f7f; text-decoration-color: #7f7f7f\">:</span><a href=\"file:///home/work/Documents/repo/economic_freedom_ml/.venv/lib/python3.8/site-packages/cmdstanpy/utils/filesystem.py#123\" target=\"_blank\"><span style=\"color: #7f7f7f; text-decoration-color: #7f7f7f\">123</span></a>\n",
       "</pre>\n"
      ],
      "text/plain": [
       "\u001b[2;36m                   \u001b[0m\u001b[2;36m \u001b[0m\u001b[32mDEBUG   \u001b[0m input tempfile: \u001b[35m/tmp/tmpsaail0o2/\u001b[0m\u001b[95mfahgf0lu.json\u001b[0m                       \u001b]8;id=538277;file:///home/work/Documents/repo/economic_freedom_ml/.venv/lib/python3.8/site-packages/cmdstanpy/utils/filesystem.py\u001b\\\u001b[2mfilesystem.py\u001b[0m\u001b]8;;\u001b\\\u001b[2m:\u001b[0m\u001b]8;id=417815;file:///home/work/Documents/repo/economic_freedom_ml/.venv/lib/python3.8/site-packages/cmdstanpy/utils/filesystem.py#123\u001b\\\u001b[2m123\u001b[0m\u001b]8;;\u001b\\\n"
      ]
     },
     "metadata": {},
     "output_type": "display_data"
    },
    {
     "data": {
      "text/html": [
       "<pre style=\"white-space:pre;overflow-x:auto;line-height:normal;font-family:Menlo,'DejaVu Sans Mono',consolas,'Courier New',monospace\"><span style=\"color: #7fbfbf; text-decoration-color: #7fbfbf\">                    </span><span style=\"color: #008000; text-decoration-color: #008000\">DEBUG   </span> idx <span style=\"color: #008080; text-decoration-color: #008080; font-weight: bold\">0</span>                                                                    <a href=\"file:///home/work/Documents/repo/economic_freedom_ml/.venv/lib/python3.8/site-packages/cmdstanpy/model.py\" target=\"_blank\"><span style=\"color: #7f7f7f; text-decoration-color: #7f7f7f\">model.py</span></a><span style=\"color: #7f7f7f; text-decoration-color: #7f7f7f\">:</span><a href=\"file:///home/work/Documents/repo/economic_freedom_ml/.venv/lib/python3.8/site-packages/cmdstanpy/model.py#1677\" target=\"_blank\"><span style=\"color: #7f7f7f; text-decoration-color: #7f7f7f\">1677</span></a>\n",
       "</pre>\n"
      ],
      "text/plain": [
       "\u001b[2;36m                   \u001b[0m\u001b[2;36m \u001b[0m\u001b[32mDEBUG   \u001b[0m idx \u001b[1;36m0\u001b[0m                                                                    \u001b]8;id=123152;file:///home/work/Documents/repo/economic_freedom_ml/.venv/lib/python3.8/site-packages/cmdstanpy/model.py\u001b\\\u001b[2mmodel.py\u001b[0m\u001b]8;;\u001b\\\u001b[2m:\u001b[0m\u001b]8;id=80770;file:///home/work/Documents/repo/economic_freedom_ml/.venv/lib/python3.8/site-packages/cmdstanpy/model.py#1677\u001b\\\u001b[2m1677\u001b[0m\u001b]8;;\u001b\\\n"
      ]
     },
     "metadata": {},
     "output_type": "display_data"
    },
    {
     "data": {
      "text/html": [
       "<pre style=\"white-space:pre;overflow-x:auto;line-height:normal;font-family:Menlo,'DejaVu Sans Mono',consolas,'Courier New',monospace\"><span style=\"color: #7fbfbf; text-decoration-color: #7fbfbf\">                    </span><span style=\"color: #008000; text-decoration-color: #008000\">DEBUG   </span> running CmdStan, num_threads: <span style=\"color: #800080; text-decoration-color: #800080; font-style: italic\">None</span>                                       <a href=\"file:///home/work/Documents/repo/economic_freedom_ml/.venv/lib/python3.8/site-packages/cmdstanpy/model.py\" target=\"_blank\"><span style=\"color: #7f7f7f; text-decoration-color: #7f7f7f\">model.py</span></a><span style=\"color: #7f7f7f; text-decoration-color: #7f7f7f\">:</span><a href=\"file:///home/work/Documents/repo/economic_freedom_ml/.venv/lib/python3.8/site-packages/cmdstanpy/model.py#1678\" target=\"_blank\"><span style=\"color: #7f7f7f; text-decoration-color: #7f7f7f\">1678</span></a>\n",
       "</pre>\n"
      ],
      "text/plain": [
       "\u001b[2;36m                   \u001b[0m\u001b[2;36m \u001b[0m\u001b[32mDEBUG   \u001b[0m running CmdStan, num_threads: \u001b[3;35mNone\u001b[0m                                       \u001b]8;id=783701;file:///home/work/Documents/repo/economic_freedom_ml/.venv/lib/python3.8/site-packages/cmdstanpy/model.py\u001b\\\u001b[2mmodel.py\u001b[0m\u001b]8;;\u001b\\\u001b[2m:\u001b[0m\u001b]8;id=649329;file:///home/work/Documents/repo/economic_freedom_ml/.venv/lib/python3.8/site-packages/cmdstanpy/model.py#1678\u001b\\\u001b[2m1678\u001b[0m\u001b]8;;\u001b\\\n"
      ]
     },
     "metadata": {},
     "output_type": "display_data"
    },
    {
     "data": {
      "text/html": [
       "<pre style=\"white-space:pre;overflow-x:auto;line-height:normal;font-family:Menlo,'DejaVu Sans Mono',consolas,'Courier New',monospace\"><span style=\"color: #7fbfbf; text-decoration-color: #7fbfbf\">                    </span><span style=\"color: #008000; text-decoration-color: #008000\">DEBUG   </span> CmdStan args:                                                            <a href=\"file:///home/work/Documents/repo/economic_freedom_ml/.venv/lib/python3.8/site-packages/cmdstanpy/model.py\" target=\"_blank\"><span style=\"color: #7f7f7f; text-decoration-color: #7f7f7f\">model.py</span></a><span style=\"color: #7f7f7f; text-decoration-color: #7f7f7f\">:</span><a href=\"file:///home/work/Documents/repo/economic_freedom_ml/.venv/lib/python3.8/site-packages/cmdstanpy/model.py#1690\" target=\"_blank\"><span style=\"color: #7f7f7f; text-decoration-color: #7f7f7f\">1690</span></a>\n",
       "<span style=\"color: #7fbfbf; text-decoration-color: #7fbfbf\">                    </span>         <span style=\"font-weight: bold\">[</span><span style=\"color: #008000; text-decoration-color: #008000\">'/home/work/Documents/repo/economic_freedom_ml/.venv/lib/python3.8/site</span> <span style=\"color: #7f7f7f; text-decoration-color: #7f7f7f\">             </span>\n",
       "<span style=\"color: #7fbfbf; text-decoration-color: #7fbfbf\">                    </span>         <span style=\"color: #008000; text-decoration-color: #008000\">-packages/prophet/stan_model/prophet_model.bin'</span>, <span style=\"color: #008000; text-decoration-color: #008000\">'random'</span>, <span style=\"color: #008000; text-decoration-color: #008000\">'seed=19091'</span>, <span style=\"color: #7f7f7f; text-decoration-color: #7f7f7f\">             </span>\n",
       "<span style=\"color: #7fbfbf; text-decoration-color: #7fbfbf\">                    </span>         <span style=\"color: #008000; text-decoration-color: #008000\">'data'</span>, <span style=\"color: #008000; text-decoration-color: #008000\">'file=/tmp/tmpsaail0o2/edl9zx_j.json'</span>,                           <span style=\"color: #7f7f7f; text-decoration-color: #7f7f7f\">             </span>\n",
       "<span style=\"color: #7fbfbf; text-decoration-color: #7fbfbf\">                    </span>         <span style=\"color: #008000; text-decoration-color: #008000\">'init=/tmp/tmpsaail0o2/fahgf0lu.json'</span>, <span style=\"color: #008000; text-decoration-color: #008000\">'output'</span>,                         <span style=\"color: #7f7f7f; text-decoration-color: #7f7f7f\">             </span>\n",
       "<span style=\"color: #7fbfbf; text-decoration-color: #7fbfbf\">                    </span>         <span style=\"color: #008000; text-decoration-color: #008000\">'file=/tmp/tmpsaail0o2/prophet_modelpx2t037y/prophet_model-2023052018371</span> <span style=\"color: #7f7f7f; text-decoration-color: #7f7f7f\">             </span>\n",
       "<span style=\"color: #7fbfbf; text-decoration-color: #7fbfbf\">                    </span>         <span style=\"color: #008000; text-decoration-color: #008000\">0.csv'</span>, <span style=\"color: #008000; text-decoration-color: #008000\">'method=optimize'</span>, <span style=\"color: #008000; text-decoration-color: #008000\">'algorithm=newton'</span>, <span style=\"color: #008000; text-decoration-color: #008000\">'iter=10000'</span><span style=\"font-weight: bold\">]</span>             <span style=\"color: #7f7f7f; text-decoration-color: #7f7f7f\">             </span>\n",
       "</pre>\n"
      ],
      "text/plain": [
       "\u001b[2;36m                   \u001b[0m\u001b[2;36m \u001b[0m\u001b[32mDEBUG   \u001b[0m CmdStan args:                                                            \u001b]8;id=845451;file:///home/work/Documents/repo/economic_freedom_ml/.venv/lib/python3.8/site-packages/cmdstanpy/model.py\u001b\\\u001b[2mmodel.py\u001b[0m\u001b]8;;\u001b\\\u001b[2m:\u001b[0m\u001b]8;id=94869;file:///home/work/Documents/repo/economic_freedom_ml/.venv/lib/python3.8/site-packages/cmdstanpy/model.py#1690\u001b\\\u001b[2m1690\u001b[0m\u001b]8;;\u001b\\\n",
       "\u001b[2;36m                    \u001b[0m         \u001b[1m[\u001b[0m\u001b[32m'/home/work/Documents/repo/economic_freedom_ml/.venv/lib/python3.8/site\u001b[0m \u001b[2m             \u001b[0m\n",
       "\u001b[2;36m                    \u001b[0m         \u001b[32m-packages/prophet/stan_model/prophet_model.bin'\u001b[0m, \u001b[32m'random'\u001b[0m, \u001b[32m'\u001b[0m\u001b[32mseed\u001b[0m\u001b[32m=\u001b[0m\u001b[32m19091\u001b[0m\u001b[32m'\u001b[0m, \u001b[2m             \u001b[0m\n",
       "\u001b[2;36m                    \u001b[0m         \u001b[32m'data'\u001b[0m, \u001b[32m'\u001b[0m\u001b[32mfile\u001b[0m\u001b[32m=/tmp/tmpsaail0o2/edl9zx_j.json'\u001b[0m,                           \u001b[2m             \u001b[0m\n",
       "\u001b[2;36m                    \u001b[0m         \u001b[32m'\u001b[0m\u001b[32minit\u001b[0m\u001b[32m=/tmp/tmpsaail0o2/fahgf0lu.json'\u001b[0m, \u001b[32m'output'\u001b[0m,                         \u001b[2m             \u001b[0m\n",
       "\u001b[2;36m                    \u001b[0m         \u001b[32m'\u001b[0m\u001b[32mfile\u001b[0m\u001b[32m=/tmp/tmpsaail0o2/prophet_modelpx2t037y/prophet_model-2023052018371\u001b[0m \u001b[2m             \u001b[0m\n",
       "\u001b[2;36m                    \u001b[0m         \u001b[32m0.csv'\u001b[0m, \u001b[32m'\u001b[0m\u001b[32mmethod\u001b[0m\u001b[32m=\u001b[0m\u001b[32moptimize\u001b[0m\u001b[32m'\u001b[0m, \u001b[32m'\u001b[0m\u001b[32malgorithm\u001b[0m\u001b[32m=\u001b[0m\u001b[32mnewton\u001b[0m\u001b[32m'\u001b[0m, \u001b[32m'\u001b[0m\u001b[32miter\u001b[0m\u001b[32m=\u001b[0m\u001b[32m10000\u001b[0m\u001b[32m'\u001b[0m\u001b[1m]\u001b[0m             \u001b[2m             \u001b[0m\n"
      ]
     },
     "metadata": {},
     "output_type": "display_data"
    },
    {
     "name": "stderr",
     "output_type": "stream",
     "text": [
      "18:37:10 - cmdstanpy - INFO - Chain [1] start processing\n"
     ]
    },
    {
     "data": {
      "text/html": [
       "<pre style=\"white-space:pre;overflow-x:auto;line-height:normal;font-family:Menlo,'DejaVu Sans Mono',consolas,'Courier New',monospace\"><span style=\"color: #7fbfbf; text-decoration-color: #7fbfbf\">                    </span><span style=\"color: #000080; text-decoration-color: #000080\">INFO    </span> Chain <span style=\"font-weight: bold\">[</span><span style=\"color: #008080; text-decoration-color: #008080; font-weight: bold\">1</span><span style=\"font-weight: bold\">]</span> start processing                                               <a href=\"file:///home/work/Documents/repo/economic_freedom_ml/.venv/lib/python3.8/site-packages/cmdstanpy/model.py\" target=\"_blank\"><span style=\"color: #7f7f7f; text-decoration-color: #7f7f7f\">model.py</span></a><span style=\"color: #7f7f7f; text-decoration-color: #7f7f7f\">:</span><a href=\"file:///home/work/Documents/repo/economic_freedom_ml/.venv/lib/python3.8/site-packages/cmdstanpy/model.py#1693\" target=\"_blank\"><span style=\"color: #7f7f7f; text-decoration-color: #7f7f7f\">1693</span></a>\n",
       "</pre>\n"
      ],
      "text/plain": [
       "\u001b[2;36m                   \u001b[0m\u001b[2;36m \u001b[0m\u001b[34mINFO    \u001b[0m Chain \u001b[1m[\u001b[0m\u001b[1;36m1\u001b[0m\u001b[1m]\u001b[0m start processing                                               \u001b]8;id=915527;file:///home/work/Documents/repo/economic_freedom_ml/.venv/lib/python3.8/site-packages/cmdstanpy/model.py\u001b\\\u001b[2mmodel.py\u001b[0m\u001b]8;;\u001b\\\u001b[2m:\u001b[0m\u001b]8;id=600854;file:///home/work/Documents/repo/economic_freedom_ml/.venv/lib/python3.8/site-packages/cmdstanpy/model.py#1693\u001b\\\u001b[2m1693\u001b[0m\u001b]8;;\u001b\\\n"
      ]
     },
     "metadata": {},
     "output_type": "display_data"
    },
    {
     "name": "stderr",
     "output_type": "stream",
     "text": [
      "18:37:10 - cmdstanpy - INFO - Chain [1] done processing\n"
     ]
    },
    {
     "data": {
      "text/html": [
       "<pre style=\"white-space:pre;overflow-x:auto;line-height:normal;font-family:Menlo,'DejaVu Sans Mono',consolas,'Courier New',monospace\"><span style=\"color: #7fbfbf; text-decoration-color: #7fbfbf\">                    </span><span style=\"color: #000080; text-decoration-color: #000080\">INFO    </span> Chain <span style=\"font-weight: bold\">[</span><span style=\"color: #008080; text-decoration-color: #008080; font-weight: bold\">1</span><span style=\"font-weight: bold\">]</span> done processing                                                <a href=\"file:///home/work/Documents/repo/economic_freedom_ml/.venv/lib/python3.8/site-packages/cmdstanpy/model.py\" target=\"_blank\"><span style=\"color: #7f7f7f; text-decoration-color: #7f7f7f\">model.py</span></a><span style=\"color: #7f7f7f; text-decoration-color: #7f7f7f\">:</span><a href=\"file:///home/work/Documents/repo/economic_freedom_ml/.venv/lib/python3.8/site-packages/cmdstanpy/model.py#1750\" target=\"_blank\"><span style=\"color: #7f7f7f; text-decoration-color: #7f7f7f\">1750</span></a>\n",
       "</pre>\n"
      ],
      "text/plain": [
       "\u001b[2;36m                   \u001b[0m\u001b[2;36m \u001b[0m\u001b[34mINFO    \u001b[0m Chain \u001b[1m[\u001b[0m\u001b[1;36m1\u001b[0m\u001b[1m]\u001b[0m done processing                                                \u001b]8;id=223557;file:///home/work/Documents/repo/economic_freedom_ml/.venv/lib/python3.8/site-packages/cmdstanpy/model.py\u001b\\\u001b[2mmodel.py\u001b[0m\u001b]8;;\u001b\\\u001b[2m:\u001b[0m\u001b]8;id=588472;file:///home/work/Documents/repo/economic_freedom_ml/.venv/lib/python3.8/site-packages/cmdstanpy/model.py#1750\u001b\\\u001b[2m1750\u001b[0m\u001b]8;;\u001b\\\n"
      ]
     },
     "metadata": {},
     "output_type": "display_data"
    },
    {
     "data": {
      "text/html": [
       "<pre style=\"white-space:pre;overflow-x:auto;line-height:normal;font-family:Menlo,'DejaVu Sans Mono',consolas,'Courier New',monospace\"><span style=\"color: #7fbfbf; text-decoration-color: #7fbfbf\">[05/20/23 18:37:11] </span><span style=\"color: #000080; text-decoration-color: #000080\">INFO    </span> Disabling weekly seasonality. Run prophet with                       <a href=\"file:///home/work/Documents/repo/economic_freedom_ml/.venv/lib/python3.8/site-packages/prophet/forecaster.py\" target=\"_blank\"><span style=\"color: #7f7f7f; text-decoration-color: #7f7f7f\">forecaster.py</span></a><span style=\"color: #7f7f7f; text-decoration-color: #7f7f7f\">:</span><a href=\"file:///home/work/Documents/repo/economic_freedom_ml/.venv/lib/python3.8/site-packages/prophet/forecaster.py#931\" target=\"_blank\"><span style=\"color: #7f7f7f; text-decoration-color: #7f7f7f\">931</span></a>\n",
       "<span style=\"color: #7fbfbf; text-decoration-color: #7fbfbf\">                    </span>         <span style=\"color: #808000; text-decoration-color: #808000\">weekly_seasonality</span>=<span style=\"color: #00ff00; text-decoration-color: #00ff00; font-style: italic\">True</span> to override this.                            <span style=\"color: #7f7f7f; text-decoration-color: #7f7f7f\">                 </span>\n",
       "</pre>\n"
      ],
      "text/plain": [
       "\u001b[2;36m[05/20/23 18:37:11]\u001b[0m\u001b[2;36m \u001b[0m\u001b[34mINFO    \u001b[0m Disabling weekly seasonality. Run prophet with                       \u001b]8;id=425225;file:///home/work/Documents/repo/economic_freedom_ml/.venv/lib/python3.8/site-packages/prophet/forecaster.py\u001b\\\u001b[2mforecaster.py\u001b[0m\u001b]8;;\u001b\\\u001b[2m:\u001b[0m\u001b]8;id=948973;file:///home/work/Documents/repo/economic_freedom_ml/.venv/lib/python3.8/site-packages/prophet/forecaster.py#931\u001b\\\u001b[2m931\u001b[0m\u001b]8;;\u001b\\\n",
       "\u001b[2;36m                    \u001b[0m         \u001b[33mweekly_seasonality\u001b[0m=\u001b[3;92mTrue\u001b[0m to override this.                            \u001b[2m                 \u001b[0m\n"
      ]
     },
     "metadata": {},
     "output_type": "display_data"
    },
    {
     "data": {
      "text/html": [
       "<pre style=\"white-space:pre;overflow-x:auto;line-height:normal;font-family:Menlo,'DejaVu Sans Mono',consolas,'Courier New',monospace\"><span style=\"color: #7fbfbf; text-decoration-color: #7fbfbf\">                    </span><span style=\"color: #000080; text-decoration-color: #000080\">INFO    </span> Disabling daily seasonality. Run prophet with <span style=\"color: #808000; text-decoration-color: #808000\">daily_seasonality</span>=<span style=\"color: #00ff00; text-decoration-color: #00ff00; font-style: italic\">True</span> <a href=\"file:///home/work/Documents/repo/economic_freedom_ml/.venv/lib/python3.8/site-packages/prophet/forecaster.py\" target=\"_blank\"><span style=\"color: #7f7f7f; text-decoration-color: #7f7f7f\">forecaster.py</span></a><span style=\"color: #7f7f7f; text-decoration-color: #7f7f7f\">:</span><a href=\"file:///home/work/Documents/repo/economic_freedom_ml/.venv/lib/python3.8/site-packages/prophet/forecaster.py#931\" target=\"_blank\"><span style=\"color: #7f7f7f; text-decoration-color: #7f7f7f\">931</span></a>\n",
       "<span style=\"color: #7fbfbf; text-decoration-color: #7fbfbf\">                    </span>         to override this.                                                    <span style=\"color: #7f7f7f; text-decoration-color: #7f7f7f\">                 </span>\n",
       "</pre>\n"
      ],
      "text/plain": [
       "\u001b[2;36m                   \u001b[0m\u001b[2;36m \u001b[0m\u001b[34mINFO    \u001b[0m Disabling daily seasonality. Run prophet with \u001b[33mdaily_seasonality\u001b[0m=\u001b[3;92mTrue\u001b[0m \u001b]8;id=733109;file:///home/work/Documents/repo/economic_freedom_ml/.venv/lib/python3.8/site-packages/prophet/forecaster.py\u001b\\\u001b[2mforecaster.py\u001b[0m\u001b]8;;\u001b\\\u001b[2m:\u001b[0m\u001b]8;id=185572;file:///home/work/Documents/repo/economic_freedom_ml/.venv/lib/python3.8/site-packages/prophet/forecaster.py#931\u001b\\\u001b[2m931\u001b[0m\u001b]8;;\u001b\\\n",
       "\u001b[2;36m                    \u001b[0m         to override this.                                                    \u001b[2m                 \u001b[0m\n"
      ]
     },
     "metadata": {},
     "output_type": "display_data"
    },
    {
     "data": {
      "text/html": [
       "<pre style=\"white-space:pre;overflow-x:auto;line-height:normal;font-family:Menlo,'DejaVu Sans Mono',consolas,'Courier New',monospace\"><span style=\"color: #7fbfbf; text-decoration-color: #7fbfbf\">                    </span><span style=\"color: #000080; text-decoration-color: #000080\">INFO    </span> n_changepoints greater than number of observations. Using <span style=\"color: #008080; text-decoration-color: #008080; font-weight: bold\">18</span>.        <a href=\"file:///home/work/Documents/repo/economic_freedom_ml/.venv/lib/python3.8/site-packages/prophet/forecaster.py\" target=\"_blank\"><span style=\"color: #7f7f7f; text-decoration-color: #7f7f7f\">forecaster.py</span></a><span style=\"color: #7f7f7f; text-decoration-color: #7f7f7f\">:</span><a href=\"file:///home/work/Documents/repo/economic_freedom_ml/.venv/lib/python3.8/site-packages/prophet/forecaster.py#401\" target=\"_blank\"><span style=\"color: #7f7f7f; text-decoration-color: #7f7f7f\">401</span></a>\n",
       "</pre>\n"
      ],
      "text/plain": [
       "\u001b[2;36m                   \u001b[0m\u001b[2;36m \u001b[0m\u001b[34mINFO    \u001b[0m n_changepoints greater than number of observations. Using \u001b[1;36m18\u001b[0m.        \u001b]8;id=366259;file:///home/work/Documents/repo/economic_freedom_ml/.venv/lib/python3.8/site-packages/prophet/forecaster.py\u001b\\\u001b[2mforecaster.py\u001b[0m\u001b]8;;\u001b\\\u001b[2m:\u001b[0m\u001b]8;id=690311;file:///home/work/Documents/repo/economic_freedom_ml/.venv/lib/python3.8/site-packages/prophet/forecaster.py#401\u001b\\\u001b[2m401\u001b[0m\u001b]8;;\u001b\\\n"
      ]
     },
     "metadata": {},
     "output_type": "display_data"
    },
    {
     "data": {
      "text/html": [
       "<pre style=\"white-space:pre;overflow-x:auto;line-height:normal;font-family:Menlo,'DejaVu Sans Mono',consolas,'Courier New',monospace\"><span style=\"color: #7fbfbf; text-decoration-color: #7fbfbf\">                    </span><span style=\"color: #008000; text-decoration-color: #008000\">DEBUG   </span> input tempfile: <span style=\"color: #800080; text-decoration-color: #800080\">/tmp/tmpsaail0o2/</span><span style=\"color: #ff00ff; text-decoration-color: #ff00ff\">o4nb7saq.json</span>                       <a href=\"file:///home/work/Documents/repo/economic_freedom_ml/.venv/lib/python3.8/site-packages/cmdstanpy/utils/filesystem.py\" target=\"_blank\"><span style=\"color: #7f7f7f; text-decoration-color: #7f7f7f\">filesystem.py</span></a><span style=\"color: #7f7f7f; text-decoration-color: #7f7f7f\">:</span><a href=\"file:///home/work/Documents/repo/economic_freedom_ml/.venv/lib/python3.8/site-packages/cmdstanpy/utils/filesystem.py#123\" target=\"_blank\"><span style=\"color: #7f7f7f; text-decoration-color: #7f7f7f\">123</span></a>\n",
       "</pre>\n"
      ],
      "text/plain": [
       "\u001b[2;36m                   \u001b[0m\u001b[2;36m \u001b[0m\u001b[32mDEBUG   \u001b[0m input tempfile: \u001b[35m/tmp/tmpsaail0o2/\u001b[0m\u001b[95mo4nb7saq.json\u001b[0m                       \u001b]8;id=639324;file:///home/work/Documents/repo/economic_freedom_ml/.venv/lib/python3.8/site-packages/cmdstanpy/utils/filesystem.py\u001b\\\u001b[2mfilesystem.py\u001b[0m\u001b]8;;\u001b\\\u001b[2m:\u001b[0m\u001b]8;id=595092;file:///home/work/Documents/repo/economic_freedom_ml/.venv/lib/python3.8/site-packages/cmdstanpy/utils/filesystem.py#123\u001b\\\u001b[2m123\u001b[0m\u001b]8;;\u001b\\\n"
      ]
     },
     "metadata": {},
     "output_type": "display_data"
    },
    {
     "data": {
      "text/html": [
       "<pre style=\"white-space:pre;overflow-x:auto;line-height:normal;font-family:Menlo,'DejaVu Sans Mono',consolas,'Courier New',monospace\"><span style=\"color: #7fbfbf; text-decoration-color: #7fbfbf\">                    </span><span style=\"color: #008000; text-decoration-color: #008000\">DEBUG   </span> input tempfile: <span style=\"color: #800080; text-decoration-color: #800080\">/tmp/tmpsaail0o2/</span><span style=\"color: #ff00ff; text-decoration-color: #ff00ff\">in5glm0c.json</span>                       <a href=\"file:///home/work/Documents/repo/economic_freedom_ml/.venv/lib/python3.8/site-packages/cmdstanpy/utils/filesystem.py\" target=\"_blank\"><span style=\"color: #7f7f7f; text-decoration-color: #7f7f7f\">filesystem.py</span></a><span style=\"color: #7f7f7f; text-decoration-color: #7f7f7f\">:</span><a href=\"file:///home/work/Documents/repo/economic_freedom_ml/.venv/lib/python3.8/site-packages/cmdstanpy/utils/filesystem.py#123\" target=\"_blank\"><span style=\"color: #7f7f7f; text-decoration-color: #7f7f7f\">123</span></a>\n",
       "</pre>\n"
      ],
      "text/plain": [
       "\u001b[2;36m                   \u001b[0m\u001b[2;36m \u001b[0m\u001b[32mDEBUG   \u001b[0m input tempfile: \u001b[35m/tmp/tmpsaail0o2/\u001b[0m\u001b[95min5glm0c.json\u001b[0m                       \u001b]8;id=288989;file:///home/work/Documents/repo/economic_freedom_ml/.venv/lib/python3.8/site-packages/cmdstanpy/utils/filesystem.py\u001b\\\u001b[2mfilesystem.py\u001b[0m\u001b]8;;\u001b\\\u001b[2m:\u001b[0m\u001b]8;id=866104;file:///home/work/Documents/repo/economic_freedom_ml/.venv/lib/python3.8/site-packages/cmdstanpy/utils/filesystem.py#123\u001b\\\u001b[2m123\u001b[0m\u001b]8;;\u001b\\\n"
      ]
     },
     "metadata": {},
     "output_type": "display_data"
    },
    {
     "data": {
      "text/html": [
       "<pre style=\"white-space:pre;overflow-x:auto;line-height:normal;font-family:Menlo,'DejaVu Sans Mono',consolas,'Courier New',monospace\"><span style=\"color: #7fbfbf; text-decoration-color: #7fbfbf\">                    </span><span style=\"color: #008000; text-decoration-color: #008000\">DEBUG   </span> idx <span style=\"color: #008080; text-decoration-color: #008080; font-weight: bold\">0</span>                                                                    <a href=\"file:///home/work/Documents/repo/economic_freedom_ml/.venv/lib/python3.8/site-packages/cmdstanpy/model.py\" target=\"_blank\"><span style=\"color: #7f7f7f; text-decoration-color: #7f7f7f\">model.py</span></a><span style=\"color: #7f7f7f; text-decoration-color: #7f7f7f\">:</span><a href=\"file:///home/work/Documents/repo/economic_freedom_ml/.venv/lib/python3.8/site-packages/cmdstanpy/model.py#1677\" target=\"_blank\"><span style=\"color: #7f7f7f; text-decoration-color: #7f7f7f\">1677</span></a>\n",
       "</pre>\n"
      ],
      "text/plain": [
       "\u001b[2;36m                   \u001b[0m\u001b[2;36m \u001b[0m\u001b[32mDEBUG   \u001b[0m idx \u001b[1;36m0\u001b[0m                                                                    \u001b]8;id=678732;file:///home/work/Documents/repo/economic_freedom_ml/.venv/lib/python3.8/site-packages/cmdstanpy/model.py\u001b\\\u001b[2mmodel.py\u001b[0m\u001b]8;;\u001b\\\u001b[2m:\u001b[0m\u001b]8;id=527417;file:///home/work/Documents/repo/economic_freedom_ml/.venv/lib/python3.8/site-packages/cmdstanpy/model.py#1677\u001b\\\u001b[2m1677\u001b[0m\u001b]8;;\u001b\\\n"
      ]
     },
     "metadata": {},
     "output_type": "display_data"
    },
    {
     "data": {
      "text/html": [
       "<pre style=\"white-space:pre;overflow-x:auto;line-height:normal;font-family:Menlo,'DejaVu Sans Mono',consolas,'Courier New',monospace\"><span style=\"color: #7fbfbf; text-decoration-color: #7fbfbf\">                    </span><span style=\"color: #008000; text-decoration-color: #008000\">DEBUG   </span> running CmdStan, num_threads: <span style=\"color: #800080; text-decoration-color: #800080; font-style: italic\">None</span>                                       <a href=\"file:///home/work/Documents/repo/economic_freedom_ml/.venv/lib/python3.8/site-packages/cmdstanpy/model.py\" target=\"_blank\"><span style=\"color: #7f7f7f; text-decoration-color: #7f7f7f\">model.py</span></a><span style=\"color: #7f7f7f; text-decoration-color: #7f7f7f\">:</span><a href=\"file:///home/work/Documents/repo/economic_freedom_ml/.venv/lib/python3.8/site-packages/cmdstanpy/model.py#1678\" target=\"_blank\"><span style=\"color: #7f7f7f; text-decoration-color: #7f7f7f\">1678</span></a>\n",
       "</pre>\n"
      ],
      "text/plain": [
       "\u001b[2;36m                   \u001b[0m\u001b[2;36m \u001b[0m\u001b[32mDEBUG   \u001b[0m running CmdStan, num_threads: \u001b[3;35mNone\u001b[0m                                       \u001b]8;id=298424;file:///home/work/Documents/repo/economic_freedom_ml/.venv/lib/python3.8/site-packages/cmdstanpy/model.py\u001b\\\u001b[2mmodel.py\u001b[0m\u001b]8;;\u001b\\\u001b[2m:\u001b[0m\u001b]8;id=63466;file:///home/work/Documents/repo/economic_freedom_ml/.venv/lib/python3.8/site-packages/cmdstanpy/model.py#1678\u001b\\\u001b[2m1678\u001b[0m\u001b]8;;\u001b\\\n"
      ]
     },
     "metadata": {},
     "output_type": "display_data"
    },
    {
     "data": {
      "text/html": [
       "<pre style=\"white-space:pre;overflow-x:auto;line-height:normal;font-family:Menlo,'DejaVu Sans Mono',consolas,'Courier New',monospace\"><span style=\"color: #7fbfbf; text-decoration-color: #7fbfbf\">                    </span><span style=\"color: #008000; text-decoration-color: #008000\">DEBUG   </span> CmdStan args:                                                            <a href=\"file:///home/work/Documents/repo/economic_freedom_ml/.venv/lib/python3.8/site-packages/cmdstanpy/model.py\" target=\"_blank\"><span style=\"color: #7f7f7f; text-decoration-color: #7f7f7f\">model.py</span></a><span style=\"color: #7f7f7f; text-decoration-color: #7f7f7f\">:</span><a href=\"file:///home/work/Documents/repo/economic_freedom_ml/.venv/lib/python3.8/site-packages/cmdstanpy/model.py#1690\" target=\"_blank\"><span style=\"color: #7f7f7f; text-decoration-color: #7f7f7f\">1690</span></a>\n",
       "<span style=\"color: #7fbfbf; text-decoration-color: #7fbfbf\">                    </span>         <span style=\"font-weight: bold\">[</span><span style=\"color: #008000; text-decoration-color: #008000\">'/home/work/Documents/repo/economic_freedom_ml/.venv/lib/python3.8/site</span> <span style=\"color: #7f7f7f; text-decoration-color: #7f7f7f\">             </span>\n",
       "<span style=\"color: #7fbfbf; text-decoration-color: #7fbfbf\">                    </span>         <span style=\"color: #008000; text-decoration-color: #008000\">-packages/prophet/stan_model/prophet_model.bin'</span>, <span style=\"color: #008000; text-decoration-color: #008000\">'random'</span>, <span style=\"color: #008000; text-decoration-color: #008000\">'seed=45426'</span>, <span style=\"color: #7f7f7f; text-decoration-color: #7f7f7f\">             </span>\n",
       "<span style=\"color: #7fbfbf; text-decoration-color: #7fbfbf\">                    </span>         <span style=\"color: #008000; text-decoration-color: #008000\">'data'</span>, <span style=\"color: #008000; text-decoration-color: #008000\">'file=/tmp/tmpsaail0o2/o4nb7saq.json'</span>,                           <span style=\"color: #7f7f7f; text-decoration-color: #7f7f7f\">             </span>\n",
       "<span style=\"color: #7fbfbf; text-decoration-color: #7fbfbf\">                    </span>         <span style=\"color: #008000; text-decoration-color: #008000\">'init=/tmp/tmpsaail0o2/in5glm0c.json'</span>, <span style=\"color: #008000; text-decoration-color: #008000\">'output'</span>,                         <span style=\"color: #7f7f7f; text-decoration-color: #7f7f7f\">             </span>\n",
       "<span style=\"color: #7fbfbf; text-decoration-color: #7fbfbf\">                    </span>         <span style=\"color: #008000; text-decoration-color: #008000\">'file=/tmp/tmpsaail0o2/prophet_model9hbtoug4/prophet_model-2023052018371</span> <span style=\"color: #7f7f7f; text-decoration-color: #7f7f7f\">             </span>\n",
       "<span style=\"color: #7fbfbf; text-decoration-color: #7fbfbf\">                    </span>         <span style=\"color: #008000; text-decoration-color: #008000\">1.csv'</span>, <span style=\"color: #008000; text-decoration-color: #008000\">'method=optimize'</span>, <span style=\"color: #008000; text-decoration-color: #008000\">'algorithm=newton'</span>, <span style=\"color: #008000; text-decoration-color: #008000\">'iter=10000'</span><span style=\"font-weight: bold\">]</span>             <span style=\"color: #7f7f7f; text-decoration-color: #7f7f7f\">             </span>\n",
       "</pre>\n"
      ],
      "text/plain": [
       "\u001b[2;36m                   \u001b[0m\u001b[2;36m \u001b[0m\u001b[32mDEBUG   \u001b[0m CmdStan args:                                                            \u001b]8;id=740263;file:///home/work/Documents/repo/economic_freedom_ml/.venv/lib/python3.8/site-packages/cmdstanpy/model.py\u001b\\\u001b[2mmodel.py\u001b[0m\u001b]8;;\u001b\\\u001b[2m:\u001b[0m\u001b]8;id=961929;file:///home/work/Documents/repo/economic_freedom_ml/.venv/lib/python3.8/site-packages/cmdstanpy/model.py#1690\u001b\\\u001b[2m1690\u001b[0m\u001b]8;;\u001b\\\n",
       "\u001b[2;36m                    \u001b[0m         \u001b[1m[\u001b[0m\u001b[32m'/home/work/Documents/repo/economic_freedom_ml/.venv/lib/python3.8/site\u001b[0m \u001b[2m             \u001b[0m\n",
       "\u001b[2;36m                    \u001b[0m         \u001b[32m-packages/prophet/stan_model/prophet_model.bin'\u001b[0m, \u001b[32m'random'\u001b[0m, \u001b[32m'\u001b[0m\u001b[32mseed\u001b[0m\u001b[32m=\u001b[0m\u001b[32m45426\u001b[0m\u001b[32m'\u001b[0m, \u001b[2m             \u001b[0m\n",
       "\u001b[2;36m                    \u001b[0m         \u001b[32m'data'\u001b[0m, \u001b[32m'\u001b[0m\u001b[32mfile\u001b[0m\u001b[32m=/tmp/tmpsaail0o2/o4nb7saq.json'\u001b[0m,                           \u001b[2m             \u001b[0m\n",
       "\u001b[2;36m                    \u001b[0m         \u001b[32m'\u001b[0m\u001b[32minit\u001b[0m\u001b[32m=/tmp/tmpsaail0o2/in5glm0c.json'\u001b[0m, \u001b[32m'output'\u001b[0m,                         \u001b[2m             \u001b[0m\n",
       "\u001b[2;36m                    \u001b[0m         \u001b[32m'\u001b[0m\u001b[32mfile\u001b[0m\u001b[32m=/tmp/tmpsaail0o2/prophet_model9hbtoug4/prophet_model-2023052018371\u001b[0m \u001b[2m             \u001b[0m\n",
       "\u001b[2;36m                    \u001b[0m         \u001b[32m1.csv'\u001b[0m, \u001b[32m'\u001b[0m\u001b[32mmethod\u001b[0m\u001b[32m=\u001b[0m\u001b[32moptimize\u001b[0m\u001b[32m'\u001b[0m, \u001b[32m'\u001b[0m\u001b[32malgorithm\u001b[0m\u001b[32m=\u001b[0m\u001b[32mnewton\u001b[0m\u001b[32m'\u001b[0m, \u001b[32m'\u001b[0m\u001b[32miter\u001b[0m\u001b[32m=\u001b[0m\u001b[32m10000\u001b[0m\u001b[32m'\u001b[0m\u001b[1m]\u001b[0m             \u001b[2m             \u001b[0m\n"
      ]
     },
     "metadata": {},
     "output_type": "display_data"
    },
    {
     "name": "stderr",
     "output_type": "stream",
     "text": [
      "18:37:11 - cmdstanpy - INFO - Chain [1] start processing\n"
     ]
    },
    {
     "data": {
      "text/html": [
       "<pre style=\"white-space:pre;overflow-x:auto;line-height:normal;font-family:Menlo,'DejaVu Sans Mono',consolas,'Courier New',monospace\"><span style=\"color: #7fbfbf; text-decoration-color: #7fbfbf\">                    </span><span style=\"color: #000080; text-decoration-color: #000080\">INFO    </span> Chain <span style=\"font-weight: bold\">[</span><span style=\"color: #008080; text-decoration-color: #008080; font-weight: bold\">1</span><span style=\"font-weight: bold\">]</span> start processing                                               <a href=\"file:///home/work/Documents/repo/economic_freedom_ml/.venv/lib/python3.8/site-packages/cmdstanpy/model.py\" target=\"_blank\"><span style=\"color: #7f7f7f; text-decoration-color: #7f7f7f\">model.py</span></a><span style=\"color: #7f7f7f; text-decoration-color: #7f7f7f\">:</span><a href=\"file:///home/work/Documents/repo/economic_freedom_ml/.venv/lib/python3.8/site-packages/cmdstanpy/model.py#1693\" target=\"_blank\"><span style=\"color: #7f7f7f; text-decoration-color: #7f7f7f\">1693</span></a>\n",
       "</pre>\n"
      ],
      "text/plain": [
       "\u001b[2;36m                   \u001b[0m\u001b[2;36m \u001b[0m\u001b[34mINFO    \u001b[0m Chain \u001b[1m[\u001b[0m\u001b[1;36m1\u001b[0m\u001b[1m]\u001b[0m start processing                                               \u001b]8;id=934533;file:///home/work/Documents/repo/economic_freedom_ml/.venv/lib/python3.8/site-packages/cmdstanpy/model.py\u001b\\\u001b[2mmodel.py\u001b[0m\u001b]8;;\u001b\\\u001b[2m:\u001b[0m\u001b]8;id=407426;file:///home/work/Documents/repo/economic_freedom_ml/.venv/lib/python3.8/site-packages/cmdstanpy/model.py#1693\u001b\\\u001b[2m1693\u001b[0m\u001b]8;;\u001b\\\n"
      ]
     },
     "metadata": {},
     "output_type": "display_data"
    },
    {
     "name": "stderr",
     "output_type": "stream",
     "text": [
      "18:37:11 - cmdstanpy - INFO - Chain [1] done processing\n"
     ]
    },
    {
     "data": {
      "text/html": [
       "<pre style=\"white-space:pre;overflow-x:auto;line-height:normal;font-family:Menlo,'DejaVu Sans Mono',consolas,'Courier New',monospace\"><span style=\"color: #7fbfbf; text-decoration-color: #7fbfbf\">                    </span><span style=\"color: #000080; text-decoration-color: #000080\">INFO    </span> Chain <span style=\"font-weight: bold\">[</span><span style=\"color: #008080; text-decoration-color: #008080; font-weight: bold\">1</span><span style=\"font-weight: bold\">]</span> done processing                                                <a href=\"file:///home/work/Documents/repo/economic_freedom_ml/.venv/lib/python3.8/site-packages/cmdstanpy/model.py\" target=\"_blank\"><span style=\"color: #7f7f7f; text-decoration-color: #7f7f7f\">model.py</span></a><span style=\"color: #7f7f7f; text-decoration-color: #7f7f7f\">:</span><a href=\"file:///home/work/Documents/repo/economic_freedom_ml/.venv/lib/python3.8/site-packages/cmdstanpy/model.py#1750\" target=\"_blank\"><span style=\"color: #7f7f7f; text-decoration-color: #7f7f7f\">1750</span></a>\n",
       "</pre>\n"
      ],
      "text/plain": [
       "\u001b[2;36m                   \u001b[0m\u001b[2;36m \u001b[0m\u001b[34mINFO    \u001b[0m Chain \u001b[1m[\u001b[0m\u001b[1;36m1\u001b[0m\u001b[1m]\u001b[0m done processing                                                \u001b]8;id=518965;file:///home/work/Documents/repo/economic_freedom_ml/.venv/lib/python3.8/site-packages/cmdstanpy/model.py\u001b\\\u001b[2mmodel.py\u001b[0m\u001b]8;;\u001b\\\u001b[2m:\u001b[0m\u001b]8;id=34081;file:///home/work/Documents/repo/economic_freedom_ml/.venv/lib/python3.8/site-packages/cmdstanpy/model.py#1750\u001b\\\u001b[2m1750\u001b[0m\u001b]8;;\u001b\\\n"
      ]
     },
     "metadata": {},
     "output_type": "display_data"
    },
    {
     "data": {
      "text/html": [
       "<pre style=\"white-space:pre;overflow-x:auto;line-height:normal;font-family:Menlo,'DejaVu Sans Mono',consolas,'Courier New',monospace\"><span style=\"color: #7fbfbf; text-decoration-color: #7fbfbf\">                    </span><span style=\"color: #000080; text-decoration-color: #000080\">INFO    </span> Disabling weekly seasonality. Run prophet with                       <a href=\"file:///home/work/Documents/repo/economic_freedom_ml/.venv/lib/python3.8/site-packages/prophet/forecaster.py\" target=\"_blank\"><span style=\"color: #7f7f7f; text-decoration-color: #7f7f7f\">forecaster.py</span></a><span style=\"color: #7f7f7f; text-decoration-color: #7f7f7f\">:</span><a href=\"file:///home/work/Documents/repo/economic_freedom_ml/.venv/lib/python3.8/site-packages/prophet/forecaster.py#931\" target=\"_blank\"><span style=\"color: #7f7f7f; text-decoration-color: #7f7f7f\">931</span></a>\n",
       "<span style=\"color: #7fbfbf; text-decoration-color: #7fbfbf\">                    </span>         <span style=\"color: #808000; text-decoration-color: #808000\">weekly_seasonality</span>=<span style=\"color: #00ff00; text-decoration-color: #00ff00; font-style: italic\">True</span> to override this.                            <span style=\"color: #7f7f7f; text-decoration-color: #7f7f7f\">                 </span>\n",
       "</pre>\n"
      ],
      "text/plain": [
       "\u001b[2;36m                   \u001b[0m\u001b[2;36m \u001b[0m\u001b[34mINFO    \u001b[0m Disabling weekly seasonality. Run prophet with                       \u001b]8;id=827557;file:///home/work/Documents/repo/economic_freedom_ml/.venv/lib/python3.8/site-packages/prophet/forecaster.py\u001b\\\u001b[2mforecaster.py\u001b[0m\u001b]8;;\u001b\\\u001b[2m:\u001b[0m\u001b]8;id=727079;file:///home/work/Documents/repo/economic_freedom_ml/.venv/lib/python3.8/site-packages/prophet/forecaster.py#931\u001b\\\u001b[2m931\u001b[0m\u001b]8;;\u001b\\\n",
       "\u001b[2;36m                    \u001b[0m         \u001b[33mweekly_seasonality\u001b[0m=\u001b[3;92mTrue\u001b[0m to override this.                            \u001b[2m                 \u001b[0m\n"
      ]
     },
     "metadata": {},
     "output_type": "display_data"
    },
    {
     "data": {
      "text/html": [
       "<pre style=\"white-space:pre;overflow-x:auto;line-height:normal;font-family:Menlo,'DejaVu Sans Mono',consolas,'Courier New',monospace\"><span style=\"color: #7fbfbf; text-decoration-color: #7fbfbf\">                    </span><span style=\"color: #000080; text-decoration-color: #000080\">INFO    </span> Disabling daily seasonality. Run prophet with <span style=\"color: #808000; text-decoration-color: #808000\">daily_seasonality</span>=<span style=\"color: #00ff00; text-decoration-color: #00ff00; font-style: italic\">True</span> <a href=\"file:///home/work/Documents/repo/economic_freedom_ml/.venv/lib/python3.8/site-packages/prophet/forecaster.py\" target=\"_blank\"><span style=\"color: #7f7f7f; text-decoration-color: #7f7f7f\">forecaster.py</span></a><span style=\"color: #7f7f7f; text-decoration-color: #7f7f7f\">:</span><a href=\"file:///home/work/Documents/repo/economic_freedom_ml/.venv/lib/python3.8/site-packages/prophet/forecaster.py#931\" target=\"_blank\"><span style=\"color: #7f7f7f; text-decoration-color: #7f7f7f\">931</span></a>\n",
       "<span style=\"color: #7fbfbf; text-decoration-color: #7fbfbf\">                    </span>         to override this.                                                    <span style=\"color: #7f7f7f; text-decoration-color: #7f7f7f\">                 </span>\n",
       "</pre>\n"
      ],
      "text/plain": [
       "\u001b[2;36m                   \u001b[0m\u001b[2;36m \u001b[0m\u001b[34mINFO    \u001b[0m Disabling daily seasonality. Run prophet with \u001b[33mdaily_seasonality\u001b[0m=\u001b[3;92mTrue\u001b[0m \u001b]8;id=946999;file:///home/work/Documents/repo/economic_freedom_ml/.venv/lib/python3.8/site-packages/prophet/forecaster.py\u001b\\\u001b[2mforecaster.py\u001b[0m\u001b]8;;\u001b\\\u001b[2m:\u001b[0m\u001b]8;id=631071;file:///home/work/Documents/repo/economic_freedom_ml/.venv/lib/python3.8/site-packages/prophet/forecaster.py#931\u001b\\\u001b[2m931\u001b[0m\u001b]8;;\u001b\\\n",
       "\u001b[2;36m                    \u001b[0m         to override this.                                                    \u001b[2m                 \u001b[0m\n"
      ]
     },
     "metadata": {},
     "output_type": "display_data"
    },
    {
     "data": {
      "text/html": [
       "<pre style=\"white-space:pre;overflow-x:auto;line-height:normal;font-family:Menlo,'DejaVu Sans Mono',consolas,'Courier New',monospace\"><span style=\"color: #7fbfbf; text-decoration-color: #7fbfbf\">                    </span><span style=\"color: #000080; text-decoration-color: #000080\">INFO    </span> n_changepoints greater than number of observations. Using <span style=\"color: #008080; text-decoration-color: #008080; font-weight: bold\">18</span>.        <a href=\"file:///home/work/Documents/repo/economic_freedom_ml/.venv/lib/python3.8/site-packages/prophet/forecaster.py\" target=\"_blank\"><span style=\"color: #7f7f7f; text-decoration-color: #7f7f7f\">forecaster.py</span></a><span style=\"color: #7f7f7f; text-decoration-color: #7f7f7f\">:</span><a href=\"file:///home/work/Documents/repo/economic_freedom_ml/.venv/lib/python3.8/site-packages/prophet/forecaster.py#401\" target=\"_blank\"><span style=\"color: #7f7f7f; text-decoration-color: #7f7f7f\">401</span></a>\n",
       "</pre>\n"
      ],
      "text/plain": [
       "\u001b[2;36m                   \u001b[0m\u001b[2;36m \u001b[0m\u001b[34mINFO    \u001b[0m n_changepoints greater than number of observations. Using \u001b[1;36m18\u001b[0m.        \u001b]8;id=292794;file:///home/work/Documents/repo/economic_freedom_ml/.venv/lib/python3.8/site-packages/prophet/forecaster.py\u001b\\\u001b[2mforecaster.py\u001b[0m\u001b]8;;\u001b\\\u001b[2m:\u001b[0m\u001b]8;id=566745;file:///home/work/Documents/repo/economic_freedom_ml/.venv/lib/python3.8/site-packages/prophet/forecaster.py#401\u001b\\\u001b[2m401\u001b[0m\u001b]8;;\u001b\\\n"
      ]
     },
     "metadata": {},
     "output_type": "display_data"
    },
    {
     "data": {
      "text/html": [
       "<pre style=\"white-space:pre;overflow-x:auto;line-height:normal;font-family:Menlo,'DejaVu Sans Mono',consolas,'Courier New',monospace\"><span style=\"color: #7fbfbf; text-decoration-color: #7fbfbf\">                    </span><span style=\"color: #008000; text-decoration-color: #008000\">DEBUG   </span> input tempfile: <span style=\"color: #800080; text-decoration-color: #800080\">/tmp/tmpsaail0o2/</span><span style=\"color: #ff00ff; text-decoration-color: #ff00ff\">6sdd_yuo.json</span>                       <a href=\"file:///home/work/Documents/repo/economic_freedom_ml/.venv/lib/python3.8/site-packages/cmdstanpy/utils/filesystem.py\" target=\"_blank\"><span style=\"color: #7f7f7f; text-decoration-color: #7f7f7f\">filesystem.py</span></a><span style=\"color: #7f7f7f; text-decoration-color: #7f7f7f\">:</span><a href=\"file:///home/work/Documents/repo/economic_freedom_ml/.venv/lib/python3.8/site-packages/cmdstanpy/utils/filesystem.py#123\" target=\"_blank\"><span style=\"color: #7f7f7f; text-decoration-color: #7f7f7f\">123</span></a>\n",
       "</pre>\n"
      ],
      "text/plain": [
       "\u001b[2;36m                   \u001b[0m\u001b[2;36m \u001b[0m\u001b[32mDEBUG   \u001b[0m input tempfile: \u001b[35m/tmp/tmpsaail0o2/\u001b[0m\u001b[95m6sdd_yuo.json\u001b[0m                       \u001b]8;id=158343;file:///home/work/Documents/repo/economic_freedom_ml/.venv/lib/python3.8/site-packages/cmdstanpy/utils/filesystem.py\u001b\\\u001b[2mfilesystem.py\u001b[0m\u001b]8;;\u001b\\\u001b[2m:\u001b[0m\u001b]8;id=654891;file:///home/work/Documents/repo/economic_freedom_ml/.venv/lib/python3.8/site-packages/cmdstanpy/utils/filesystem.py#123\u001b\\\u001b[2m123\u001b[0m\u001b]8;;\u001b\\\n"
      ]
     },
     "metadata": {},
     "output_type": "display_data"
    },
    {
     "data": {
      "text/html": [
       "<pre style=\"white-space:pre;overflow-x:auto;line-height:normal;font-family:Menlo,'DejaVu Sans Mono',consolas,'Courier New',monospace\"><span style=\"color: #7fbfbf; text-decoration-color: #7fbfbf\">                    </span><span style=\"color: #008000; text-decoration-color: #008000\">DEBUG   </span> input tempfile: <span style=\"color: #800080; text-decoration-color: #800080\">/tmp/tmpsaail0o2/</span><span style=\"color: #ff00ff; text-decoration-color: #ff00ff\">kxfmf98q.json</span>                       <a href=\"file:///home/work/Documents/repo/economic_freedom_ml/.venv/lib/python3.8/site-packages/cmdstanpy/utils/filesystem.py\" target=\"_blank\"><span style=\"color: #7f7f7f; text-decoration-color: #7f7f7f\">filesystem.py</span></a><span style=\"color: #7f7f7f; text-decoration-color: #7f7f7f\">:</span><a href=\"file:///home/work/Documents/repo/economic_freedom_ml/.venv/lib/python3.8/site-packages/cmdstanpy/utils/filesystem.py#123\" target=\"_blank\"><span style=\"color: #7f7f7f; text-decoration-color: #7f7f7f\">123</span></a>\n",
       "</pre>\n"
      ],
      "text/plain": [
       "\u001b[2;36m                   \u001b[0m\u001b[2;36m \u001b[0m\u001b[32mDEBUG   \u001b[0m input tempfile: \u001b[35m/tmp/tmpsaail0o2/\u001b[0m\u001b[95mkxfmf98q.json\u001b[0m                       \u001b]8;id=780030;file:///home/work/Documents/repo/economic_freedom_ml/.venv/lib/python3.8/site-packages/cmdstanpy/utils/filesystem.py\u001b\\\u001b[2mfilesystem.py\u001b[0m\u001b]8;;\u001b\\\u001b[2m:\u001b[0m\u001b]8;id=269155;file:///home/work/Documents/repo/economic_freedom_ml/.venv/lib/python3.8/site-packages/cmdstanpy/utils/filesystem.py#123\u001b\\\u001b[2m123\u001b[0m\u001b]8;;\u001b\\\n"
      ]
     },
     "metadata": {},
     "output_type": "display_data"
    },
    {
     "data": {
      "text/html": [
       "<pre style=\"white-space:pre;overflow-x:auto;line-height:normal;font-family:Menlo,'DejaVu Sans Mono',consolas,'Courier New',monospace\"><span style=\"color: #7fbfbf; text-decoration-color: #7fbfbf\">                    </span><span style=\"color: #008000; text-decoration-color: #008000\">DEBUG   </span> idx <span style=\"color: #008080; text-decoration-color: #008080; font-weight: bold\">0</span>                                                                    <a href=\"file:///home/work/Documents/repo/economic_freedom_ml/.venv/lib/python3.8/site-packages/cmdstanpy/model.py\" target=\"_blank\"><span style=\"color: #7f7f7f; text-decoration-color: #7f7f7f\">model.py</span></a><span style=\"color: #7f7f7f; text-decoration-color: #7f7f7f\">:</span><a href=\"file:///home/work/Documents/repo/economic_freedom_ml/.venv/lib/python3.8/site-packages/cmdstanpy/model.py#1677\" target=\"_blank\"><span style=\"color: #7f7f7f; text-decoration-color: #7f7f7f\">1677</span></a>\n",
       "</pre>\n"
      ],
      "text/plain": [
       "\u001b[2;36m                   \u001b[0m\u001b[2;36m \u001b[0m\u001b[32mDEBUG   \u001b[0m idx \u001b[1;36m0\u001b[0m                                                                    \u001b]8;id=396351;file:///home/work/Documents/repo/economic_freedom_ml/.venv/lib/python3.8/site-packages/cmdstanpy/model.py\u001b\\\u001b[2mmodel.py\u001b[0m\u001b]8;;\u001b\\\u001b[2m:\u001b[0m\u001b]8;id=813565;file:///home/work/Documents/repo/economic_freedom_ml/.venv/lib/python3.8/site-packages/cmdstanpy/model.py#1677\u001b\\\u001b[2m1677\u001b[0m\u001b]8;;\u001b\\\n"
      ]
     },
     "metadata": {},
     "output_type": "display_data"
    },
    {
     "data": {
      "text/html": [
       "<pre style=\"white-space:pre;overflow-x:auto;line-height:normal;font-family:Menlo,'DejaVu Sans Mono',consolas,'Courier New',monospace\"><span style=\"color: #7fbfbf; text-decoration-color: #7fbfbf\">                    </span><span style=\"color: #008000; text-decoration-color: #008000\">DEBUG   </span> running CmdStan, num_threads: <span style=\"color: #800080; text-decoration-color: #800080; font-style: italic\">None</span>                                       <a href=\"file:///home/work/Documents/repo/economic_freedom_ml/.venv/lib/python3.8/site-packages/cmdstanpy/model.py\" target=\"_blank\"><span style=\"color: #7f7f7f; text-decoration-color: #7f7f7f\">model.py</span></a><span style=\"color: #7f7f7f; text-decoration-color: #7f7f7f\">:</span><a href=\"file:///home/work/Documents/repo/economic_freedom_ml/.venv/lib/python3.8/site-packages/cmdstanpy/model.py#1678\" target=\"_blank\"><span style=\"color: #7f7f7f; text-decoration-color: #7f7f7f\">1678</span></a>\n",
       "</pre>\n"
      ],
      "text/plain": [
       "\u001b[2;36m                   \u001b[0m\u001b[2;36m \u001b[0m\u001b[32mDEBUG   \u001b[0m running CmdStan, num_threads: \u001b[3;35mNone\u001b[0m                                       \u001b]8;id=900727;file:///home/work/Documents/repo/economic_freedom_ml/.venv/lib/python3.8/site-packages/cmdstanpy/model.py\u001b\\\u001b[2mmodel.py\u001b[0m\u001b]8;;\u001b\\\u001b[2m:\u001b[0m\u001b]8;id=855071;file:///home/work/Documents/repo/economic_freedom_ml/.venv/lib/python3.8/site-packages/cmdstanpy/model.py#1678\u001b\\\u001b[2m1678\u001b[0m\u001b]8;;\u001b\\\n"
      ]
     },
     "metadata": {},
     "output_type": "display_data"
    },
    {
     "data": {
      "text/html": [
       "<pre style=\"white-space:pre;overflow-x:auto;line-height:normal;font-family:Menlo,'DejaVu Sans Mono',consolas,'Courier New',monospace\"><span style=\"color: #7fbfbf; text-decoration-color: #7fbfbf\">                    </span><span style=\"color: #008000; text-decoration-color: #008000\">DEBUG   </span> CmdStan args:                                                            <a href=\"file:///home/work/Documents/repo/economic_freedom_ml/.venv/lib/python3.8/site-packages/cmdstanpy/model.py\" target=\"_blank\"><span style=\"color: #7f7f7f; text-decoration-color: #7f7f7f\">model.py</span></a><span style=\"color: #7f7f7f; text-decoration-color: #7f7f7f\">:</span><a href=\"file:///home/work/Documents/repo/economic_freedom_ml/.venv/lib/python3.8/site-packages/cmdstanpy/model.py#1690\" target=\"_blank\"><span style=\"color: #7f7f7f; text-decoration-color: #7f7f7f\">1690</span></a>\n",
       "<span style=\"color: #7fbfbf; text-decoration-color: #7fbfbf\">                    </span>         <span style=\"font-weight: bold\">[</span><span style=\"color: #008000; text-decoration-color: #008000\">'/home/work/Documents/repo/economic_freedom_ml/.venv/lib/python3.8/site</span> <span style=\"color: #7f7f7f; text-decoration-color: #7f7f7f\">             </span>\n",
       "<span style=\"color: #7fbfbf; text-decoration-color: #7fbfbf\">                    </span>         <span style=\"color: #008000; text-decoration-color: #008000\">-packages/prophet/stan_model/prophet_model.bin'</span>, <span style=\"color: #008000; text-decoration-color: #008000\">'random'</span>, <span style=\"color: #008000; text-decoration-color: #008000\">'seed=12503'</span>, <span style=\"color: #7f7f7f; text-decoration-color: #7f7f7f\">             </span>\n",
       "<span style=\"color: #7fbfbf; text-decoration-color: #7fbfbf\">                    </span>         <span style=\"color: #008000; text-decoration-color: #008000\">'data'</span>, <span style=\"color: #008000; text-decoration-color: #008000\">'file=/tmp/tmpsaail0o2/6sdd_yuo.json'</span>,                           <span style=\"color: #7f7f7f; text-decoration-color: #7f7f7f\">             </span>\n",
       "<span style=\"color: #7fbfbf; text-decoration-color: #7fbfbf\">                    </span>         <span style=\"color: #008000; text-decoration-color: #008000\">'init=/tmp/tmpsaail0o2/kxfmf98q.json'</span>, <span style=\"color: #008000; text-decoration-color: #008000\">'output'</span>,                         <span style=\"color: #7f7f7f; text-decoration-color: #7f7f7f\">             </span>\n",
       "<span style=\"color: #7fbfbf; text-decoration-color: #7fbfbf\">                    </span>         <span style=\"color: #008000; text-decoration-color: #008000\">'file=/tmp/tmpsaail0o2/prophet_modellhg6jbr_/prophet_model-2023052018371</span> <span style=\"color: #7f7f7f; text-decoration-color: #7f7f7f\">             </span>\n",
       "<span style=\"color: #7fbfbf; text-decoration-color: #7fbfbf\">                    </span>         <span style=\"color: #008000; text-decoration-color: #008000\">1.csv'</span>, <span style=\"color: #008000; text-decoration-color: #008000\">'method=optimize'</span>, <span style=\"color: #008000; text-decoration-color: #008000\">'algorithm=newton'</span>, <span style=\"color: #008000; text-decoration-color: #008000\">'iter=10000'</span><span style=\"font-weight: bold\">]</span>             <span style=\"color: #7f7f7f; text-decoration-color: #7f7f7f\">             </span>\n",
       "</pre>\n"
      ],
      "text/plain": [
       "\u001b[2;36m                   \u001b[0m\u001b[2;36m \u001b[0m\u001b[32mDEBUG   \u001b[0m CmdStan args:                                                            \u001b]8;id=430261;file:///home/work/Documents/repo/economic_freedom_ml/.venv/lib/python3.8/site-packages/cmdstanpy/model.py\u001b\\\u001b[2mmodel.py\u001b[0m\u001b]8;;\u001b\\\u001b[2m:\u001b[0m\u001b]8;id=697792;file:///home/work/Documents/repo/economic_freedom_ml/.venv/lib/python3.8/site-packages/cmdstanpy/model.py#1690\u001b\\\u001b[2m1690\u001b[0m\u001b]8;;\u001b\\\n",
       "\u001b[2;36m                    \u001b[0m         \u001b[1m[\u001b[0m\u001b[32m'/home/work/Documents/repo/economic_freedom_ml/.venv/lib/python3.8/site\u001b[0m \u001b[2m             \u001b[0m\n",
       "\u001b[2;36m                    \u001b[0m         \u001b[32m-packages/prophet/stan_model/prophet_model.bin'\u001b[0m, \u001b[32m'random'\u001b[0m, \u001b[32m'\u001b[0m\u001b[32mseed\u001b[0m\u001b[32m=\u001b[0m\u001b[32m12503\u001b[0m\u001b[32m'\u001b[0m, \u001b[2m             \u001b[0m\n",
       "\u001b[2;36m                    \u001b[0m         \u001b[32m'data'\u001b[0m, \u001b[32m'\u001b[0m\u001b[32mfile\u001b[0m\u001b[32m=/tmp/tmpsaail0o2/6sdd_yuo.json'\u001b[0m,                           \u001b[2m             \u001b[0m\n",
       "\u001b[2;36m                    \u001b[0m         \u001b[32m'\u001b[0m\u001b[32minit\u001b[0m\u001b[32m=/tmp/tmpsaail0o2/kxfmf98q.json'\u001b[0m, \u001b[32m'output'\u001b[0m,                         \u001b[2m             \u001b[0m\n",
       "\u001b[2;36m                    \u001b[0m         \u001b[32m'\u001b[0m\u001b[32mfile\u001b[0m\u001b[32m=/tmp/tmpsaail0o2/prophet_modellhg6jbr_/prophet_model-2023052018371\u001b[0m \u001b[2m             \u001b[0m\n",
       "\u001b[2;36m                    \u001b[0m         \u001b[32m1.csv'\u001b[0m, \u001b[32m'\u001b[0m\u001b[32mmethod\u001b[0m\u001b[32m=\u001b[0m\u001b[32moptimize\u001b[0m\u001b[32m'\u001b[0m, \u001b[32m'\u001b[0m\u001b[32malgorithm\u001b[0m\u001b[32m=\u001b[0m\u001b[32mnewton\u001b[0m\u001b[32m'\u001b[0m, \u001b[32m'\u001b[0m\u001b[32miter\u001b[0m\u001b[32m=\u001b[0m\u001b[32m10000\u001b[0m\u001b[32m'\u001b[0m\u001b[1m]\u001b[0m             \u001b[2m             \u001b[0m\n"
      ]
     },
     "metadata": {},
     "output_type": "display_data"
    },
    {
     "name": "stderr",
     "output_type": "stream",
     "text": [
      "18:37:11 - cmdstanpy - INFO - Chain [1] start processing\n"
     ]
    },
    {
     "data": {
      "text/html": [
       "<pre style=\"white-space:pre;overflow-x:auto;line-height:normal;font-family:Menlo,'DejaVu Sans Mono',consolas,'Courier New',monospace\"><span style=\"color: #7fbfbf; text-decoration-color: #7fbfbf\">                    </span><span style=\"color: #000080; text-decoration-color: #000080\">INFO    </span> Chain <span style=\"font-weight: bold\">[</span><span style=\"color: #008080; text-decoration-color: #008080; font-weight: bold\">1</span><span style=\"font-weight: bold\">]</span> start processing                                               <a href=\"file:///home/work/Documents/repo/economic_freedom_ml/.venv/lib/python3.8/site-packages/cmdstanpy/model.py\" target=\"_blank\"><span style=\"color: #7f7f7f; text-decoration-color: #7f7f7f\">model.py</span></a><span style=\"color: #7f7f7f; text-decoration-color: #7f7f7f\">:</span><a href=\"file:///home/work/Documents/repo/economic_freedom_ml/.venv/lib/python3.8/site-packages/cmdstanpy/model.py#1693\" target=\"_blank\"><span style=\"color: #7f7f7f; text-decoration-color: #7f7f7f\">1693</span></a>\n",
       "</pre>\n"
      ],
      "text/plain": [
       "\u001b[2;36m                   \u001b[0m\u001b[2;36m \u001b[0m\u001b[34mINFO    \u001b[0m Chain \u001b[1m[\u001b[0m\u001b[1;36m1\u001b[0m\u001b[1m]\u001b[0m start processing                                               \u001b]8;id=340512;file:///home/work/Documents/repo/economic_freedom_ml/.venv/lib/python3.8/site-packages/cmdstanpy/model.py\u001b\\\u001b[2mmodel.py\u001b[0m\u001b]8;;\u001b\\\u001b[2m:\u001b[0m\u001b]8;id=936391;file:///home/work/Documents/repo/economic_freedom_ml/.venv/lib/python3.8/site-packages/cmdstanpy/model.py#1693\u001b\\\u001b[2m1693\u001b[0m\u001b]8;;\u001b\\\n"
      ]
     },
     "metadata": {},
     "output_type": "display_data"
    },
    {
     "name": "stderr",
     "output_type": "stream",
     "text": [
      "18:37:11 - cmdstanpy - INFO - Chain [1] done processing\n"
     ]
    },
    {
     "data": {
      "text/html": [
       "<pre style=\"white-space:pre;overflow-x:auto;line-height:normal;font-family:Menlo,'DejaVu Sans Mono',consolas,'Courier New',monospace\"><span style=\"color: #7fbfbf; text-decoration-color: #7fbfbf\">                    </span><span style=\"color: #000080; text-decoration-color: #000080\">INFO    </span> Chain <span style=\"font-weight: bold\">[</span><span style=\"color: #008080; text-decoration-color: #008080; font-weight: bold\">1</span><span style=\"font-weight: bold\">]</span> done processing                                                <a href=\"file:///home/work/Documents/repo/economic_freedom_ml/.venv/lib/python3.8/site-packages/cmdstanpy/model.py\" target=\"_blank\"><span style=\"color: #7f7f7f; text-decoration-color: #7f7f7f\">model.py</span></a><span style=\"color: #7f7f7f; text-decoration-color: #7f7f7f\">:</span><a href=\"file:///home/work/Documents/repo/economic_freedom_ml/.venv/lib/python3.8/site-packages/cmdstanpy/model.py#1750\" target=\"_blank\"><span style=\"color: #7f7f7f; text-decoration-color: #7f7f7f\">1750</span></a>\n",
       "</pre>\n"
      ],
      "text/plain": [
       "\u001b[2;36m                   \u001b[0m\u001b[2;36m \u001b[0m\u001b[34mINFO    \u001b[0m Chain \u001b[1m[\u001b[0m\u001b[1;36m1\u001b[0m\u001b[1m]\u001b[0m done processing                                                \u001b]8;id=931432;file:///home/work/Documents/repo/economic_freedom_ml/.venv/lib/python3.8/site-packages/cmdstanpy/model.py\u001b\\\u001b[2mmodel.py\u001b[0m\u001b]8;;\u001b\\\u001b[2m:\u001b[0m\u001b]8;id=317869;file:///home/work/Documents/repo/economic_freedom_ml/.venv/lib/python3.8/site-packages/cmdstanpy/model.py#1750\u001b\\\u001b[2m1750\u001b[0m\u001b]8;;\u001b\\\n"
      ]
     },
     "metadata": {},
     "output_type": "display_data"
    },
    {
     "data": {
      "text/html": [
       "<pre style=\"white-space:pre;overflow-x:auto;line-height:normal;font-family:Menlo,'DejaVu Sans Mono',consolas,'Courier New',monospace\"><span style=\"color: #7fbfbf; text-decoration-color: #7fbfbf\">                    </span><span style=\"color: #000080; text-decoration-color: #000080\">INFO    </span> Disabling weekly seasonality. Run prophet with                       <a href=\"file:///home/work/Documents/repo/economic_freedom_ml/.venv/lib/python3.8/site-packages/prophet/forecaster.py\" target=\"_blank\"><span style=\"color: #7f7f7f; text-decoration-color: #7f7f7f\">forecaster.py</span></a><span style=\"color: #7f7f7f; text-decoration-color: #7f7f7f\">:</span><a href=\"file:///home/work/Documents/repo/economic_freedom_ml/.venv/lib/python3.8/site-packages/prophet/forecaster.py#931\" target=\"_blank\"><span style=\"color: #7f7f7f; text-decoration-color: #7f7f7f\">931</span></a>\n",
       "<span style=\"color: #7fbfbf; text-decoration-color: #7fbfbf\">                    </span>         <span style=\"color: #808000; text-decoration-color: #808000\">weekly_seasonality</span>=<span style=\"color: #00ff00; text-decoration-color: #00ff00; font-style: italic\">True</span> to override this.                            <span style=\"color: #7f7f7f; text-decoration-color: #7f7f7f\">                 </span>\n",
       "</pre>\n"
      ],
      "text/plain": [
       "\u001b[2;36m                   \u001b[0m\u001b[2;36m \u001b[0m\u001b[34mINFO    \u001b[0m Disabling weekly seasonality. Run prophet with                       \u001b]8;id=529155;file:///home/work/Documents/repo/economic_freedom_ml/.venv/lib/python3.8/site-packages/prophet/forecaster.py\u001b\\\u001b[2mforecaster.py\u001b[0m\u001b]8;;\u001b\\\u001b[2m:\u001b[0m\u001b]8;id=858824;file:///home/work/Documents/repo/economic_freedom_ml/.venv/lib/python3.8/site-packages/prophet/forecaster.py#931\u001b\\\u001b[2m931\u001b[0m\u001b]8;;\u001b\\\n",
       "\u001b[2;36m                    \u001b[0m         \u001b[33mweekly_seasonality\u001b[0m=\u001b[3;92mTrue\u001b[0m to override this.                            \u001b[2m                 \u001b[0m\n"
      ]
     },
     "metadata": {},
     "output_type": "display_data"
    },
    {
     "data": {
      "text/html": [
       "<pre style=\"white-space:pre;overflow-x:auto;line-height:normal;font-family:Menlo,'DejaVu Sans Mono',consolas,'Courier New',monospace\"><span style=\"color: #7fbfbf; text-decoration-color: #7fbfbf\">                    </span><span style=\"color: #000080; text-decoration-color: #000080\">INFO    </span> Disabling daily seasonality. Run prophet with <span style=\"color: #808000; text-decoration-color: #808000\">daily_seasonality</span>=<span style=\"color: #00ff00; text-decoration-color: #00ff00; font-style: italic\">True</span> <a href=\"file:///home/work/Documents/repo/economic_freedom_ml/.venv/lib/python3.8/site-packages/prophet/forecaster.py\" target=\"_blank\"><span style=\"color: #7f7f7f; text-decoration-color: #7f7f7f\">forecaster.py</span></a><span style=\"color: #7f7f7f; text-decoration-color: #7f7f7f\">:</span><a href=\"file:///home/work/Documents/repo/economic_freedom_ml/.venv/lib/python3.8/site-packages/prophet/forecaster.py#931\" target=\"_blank\"><span style=\"color: #7f7f7f; text-decoration-color: #7f7f7f\">931</span></a>\n",
       "<span style=\"color: #7fbfbf; text-decoration-color: #7fbfbf\">                    </span>         to override this.                                                    <span style=\"color: #7f7f7f; text-decoration-color: #7f7f7f\">                 </span>\n",
       "</pre>\n"
      ],
      "text/plain": [
       "\u001b[2;36m                   \u001b[0m\u001b[2;36m \u001b[0m\u001b[34mINFO    \u001b[0m Disabling daily seasonality. Run prophet with \u001b[33mdaily_seasonality\u001b[0m=\u001b[3;92mTrue\u001b[0m \u001b]8;id=51040;file:///home/work/Documents/repo/economic_freedom_ml/.venv/lib/python3.8/site-packages/prophet/forecaster.py\u001b\\\u001b[2mforecaster.py\u001b[0m\u001b]8;;\u001b\\\u001b[2m:\u001b[0m\u001b]8;id=235768;file:///home/work/Documents/repo/economic_freedom_ml/.venv/lib/python3.8/site-packages/prophet/forecaster.py#931\u001b\\\u001b[2m931\u001b[0m\u001b]8;;\u001b\\\n",
       "\u001b[2;36m                    \u001b[0m         to override this.                                                    \u001b[2m                 \u001b[0m\n"
      ]
     },
     "metadata": {},
     "output_type": "display_data"
    },
    {
     "data": {
      "text/html": [
       "<pre style=\"white-space:pre;overflow-x:auto;line-height:normal;font-family:Menlo,'DejaVu Sans Mono',consolas,'Courier New',monospace\"><span style=\"color: #7fbfbf; text-decoration-color: #7fbfbf\">                    </span><span style=\"color: #000080; text-decoration-color: #000080\">INFO    </span> n_changepoints greater than number of observations. Using <span style=\"color: #008080; text-decoration-color: #008080; font-weight: bold\">18</span>.        <a href=\"file:///home/work/Documents/repo/economic_freedom_ml/.venv/lib/python3.8/site-packages/prophet/forecaster.py\" target=\"_blank\"><span style=\"color: #7f7f7f; text-decoration-color: #7f7f7f\">forecaster.py</span></a><span style=\"color: #7f7f7f; text-decoration-color: #7f7f7f\">:</span><a href=\"file:///home/work/Documents/repo/economic_freedom_ml/.venv/lib/python3.8/site-packages/prophet/forecaster.py#401\" target=\"_blank\"><span style=\"color: #7f7f7f; text-decoration-color: #7f7f7f\">401</span></a>\n",
       "</pre>\n"
      ],
      "text/plain": [
       "\u001b[2;36m                   \u001b[0m\u001b[2;36m \u001b[0m\u001b[34mINFO    \u001b[0m n_changepoints greater than number of observations. Using \u001b[1;36m18\u001b[0m.        \u001b]8;id=525890;file:///home/work/Documents/repo/economic_freedom_ml/.venv/lib/python3.8/site-packages/prophet/forecaster.py\u001b\\\u001b[2mforecaster.py\u001b[0m\u001b]8;;\u001b\\\u001b[2m:\u001b[0m\u001b]8;id=804996;file:///home/work/Documents/repo/economic_freedom_ml/.venv/lib/python3.8/site-packages/prophet/forecaster.py#401\u001b\\\u001b[2m401\u001b[0m\u001b]8;;\u001b\\\n"
      ]
     },
     "metadata": {},
     "output_type": "display_data"
    },
    {
     "data": {
      "text/html": [
       "<pre style=\"white-space:pre;overflow-x:auto;line-height:normal;font-family:Menlo,'DejaVu Sans Mono',consolas,'Courier New',monospace\"><span style=\"color: #7fbfbf; text-decoration-color: #7fbfbf\">                    </span><span style=\"color: #008000; text-decoration-color: #008000\">DEBUG   </span> input tempfile: <span style=\"color: #800080; text-decoration-color: #800080\">/tmp/tmpsaail0o2/</span><span style=\"color: #ff00ff; text-decoration-color: #ff00ff\">psp0ldne.json</span>                       <a href=\"file:///home/work/Documents/repo/economic_freedom_ml/.venv/lib/python3.8/site-packages/cmdstanpy/utils/filesystem.py\" target=\"_blank\"><span style=\"color: #7f7f7f; text-decoration-color: #7f7f7f\">filesystem.py</span></a><span style=\"color: #7f7f7f; text-decoration-color: #7f7f7f\">:</span><a href=\"file:///home/work/Documents/repo/economic_freedom_ml/.venv/lib/python3.8/site-packages/cmdstanpy/utils/filesystem.py#123\" target=\"_blank\"><span style=\"color: #7f7f7f; text-decoration-color: #7f7f7f\">123</span></a>\n",
       "</pre>\n"
      ],
      "text/plain": [
       "\u001b[2;36m                   \u001b[0m\u001b[2;36m \u001b[0m\u001b[32mDEBUG   \u001b[0m input tempfile: \u001b[35m/tmp/tmpsaail0o2/\u001b[0m\u001b[95mpsp0ldne.json\u001b[0m                       \u001b]8;id=251736;file:///home/work/Documents/repo/economic_freedom_ml/.venv/lib/python3.8/site-packages/cmdstanpy/utils/filesystem.py\u001b\\\u001b[2mfilesystem.py\u001b[0m\u001b]8;;\u001b\\\u001b[2m:\u001b[0m\u001b]8;id=372126;file:///home/work/Documents/repo/economic_freedom_ml/.venv/lib/python3.8/site-packages/cmdstanpy/utils/filesystem.py#123\u001b\\\u001b[2m123\u001b[0m\u001b]8;;\u001b\\\n"
      ]
     },
     "metadata": {},
     "output_type": "display_data"
    },
    {
     "data": {
      "text/html": [
       "<pre style=\"white-space:pre;overflow-x:auto;line-height:normal;font-family:Menlo,'DejaVu Sans Mono',consolas,'Courier New',monospace\"><span style=\"color: #7fbfbf; text-decoration-color: #7fbfbf\">                    </span><span style=\"color: #008000; text-decoration-color: #008000\">DEBUG   </span> input tempfile: <span style=\"color: #800080; text-decoration-color: #800080\">/tmp/tmpsaail0o2/</span><span style=\"color: #ff00ff; text-decoration-color: #ff00ff\">v5u9_ik9.json</span>                       <a href=\"file:///home/work/Documents/repo/economic_freedom_ml/.venv/lib/python3.8/site-packages/cmdstanpy/utils/filesystem.py\" target=\"_blank\"><span style=\"color: #7f7f7f; text-decoration-color: #7f7f7f\">filesystem.py</span></a><span style=\"color: #7f7f7f; text-decoration-color: #7f7f7f\">:</span><a href=\"file:///home/work/Documents/repo/economic_freedom_ml/.venv/lib/python3.8/site-packages/cmdstanpy/utils/filesystem.py#123\" target=\"_blank\"><span style=\"color: #7f7f7f; text-decoration-color: #7f7f7f\">123</span></a>\n",
       "</pre>\n"
      ],
      "text/plain": [
       "\u001b[2;36m                   \u001b[0m\u001b[2;36m \u001b[0m\u001b[32mDEBUG   \u001b[0m input tempfile: \u001b[35m/tmp/tmpsaail0o2/\u001b[0m\u001b[95mv5u9_ik9.json\u001b[0m                       \u001b]8;id=108030;file:///home/work/Documents/repo/economic_freedom_ml/.venv/lib/python3.8/site-packages/cmdstanpy/utils/filesystem.py\u001b\\\u001b[2mfilesystem.py\u001b[0m\u001b]8;;\u001b\\\u001b[2m:\u001b[0m\u001b]8;id=159992;file:///home/work/Documents/repo/economic_freedom_ml/.venv/lib/python3.8/site-packages/cmdstanpy/utils/filesystem.py#123\u001b\\\u001b[2m123\u001b[0m\u001b]8;;\u001b\\\n"
      ]
     },
     "metadata": {},
     "output_type": "display_data"
    },
    {
     "data": {
      "text/html": [
       "<pre style=\"white-space:pre;overflow-x:auto;line-height:normal;font-family:Menlo,'DejaVu Sans Mono',consolas,'Courier New',monospace\"><span style=\"color: #7fbfbf; text-decoration-color: #7fbfbf\">                    </span><span style=\"color: #008000; text-decoration-color: #008000\">DEBUG   </span> idx <span style=\"color: #008080; text-decoration-color: #008080; font-weight: bold\">0</span>                                                                    <a href=\"file:///home/work/Documents/repo/economic_freedom_ml/.venv/lib/python3.8/site-packages/cmdstanpy/model.py\" target=\"_blank\"><span style=\"color: #7f7f7f; text-decoration-color: #7f7f7f\">model.py</span></a><span style=\"color: #7f7f7f; text-decoration-color: #7f7f7f\">:</span><a href=\"file:///home/work/Documents/repo/economic_freedom_ml/.venv/lib/python3.8/site-packages/cmdstanpy/model.py#1677\" target=\"_blank\"><span style=\"color: #7f7f7f; text-decoration-color: #7f7f7f\">1677</span></a>\n",
       "</pre>\n"
      ],
      "text/plain": [
       "\u001b[2;36m                   \u001b[0m\u001b[2;36m \u001b[0m\u001b[32mDEBUG   \u001b[0m idx \u001b[1;36m0\u001b[0m                                                                    \u001b]8;id=943211;file:///home/work/Documents/repo/economic_freedom_ml/.venv/lib/python3.8/site-packages/cmdstanpy/model.py\u001b\\\u001b[2mmodel.py\u001b[0m\u001b]8;;\u001b\\\u001b[2m:\u001b[0m\u001b]8;id=510653;file:///home/work/Documents/repo/economic_freedom_ml/.venv/lib/python3.8/site-packages/cmdstanpy/model.py#1677\u001b\\\u001b[2m1677\u001b[0m\u001b]8;;\u001b\\\n"
      ]
     },
     "metadata": {},
     "output_type": "display_data"
    },
    {
     "data": {
      "text/html": [
       "<pre style=\"white-space:pre;overflow-x:auto;line-height:normal;font-family:Menlo,'DejaVu Sans Mono',consolas,'Courier New',monospace\"><span style=\"color: #7fbfbf; text-decoration-color: #7fbfbf\">                    </span><span style=\"color: #008000; text-decoration-color: #008000\">DEBUG   </span> running CmdStan, num_threads: <span style=\"color: #800080; text-decoration-color: #800080; font-style: italic\">None</span>                                       <a href=\"file:///home/work/Documents/repo/economic_freedom_ml/.venv/lib/python3.8/site-packages/cmdstanpy/model.py\" target=\"_blank\"><span style=\"color: #7f7f7f; text-decoration-color: #7f7f7f\">model.py</span></a><span style=\"color: #7f7f7f; text-decoration-color: #7f7f7f\">:</span><a href=\"file:///home/work/Documents/repo/economic_freedom_ml/.venv/lib/python3.8/site-packages/cmdstanpy/model.py#1678\" target=\"_blank\"><span style=\"color: #7f7f7f; text-decoration-color: #7f7f7f\">1678</span></a>\n",
       "</pre>\n"
      ],
      "text/plain": [
       "\u001b[2;36m                   \u001b[0m\u001b[2;36m \u001b[0m\u001b[32mDEBUG   \u001b[0m running CmdStan, num_threads: \u001b[3;35mNone\u001b[0m                                       \u001b]8;id=847191;file:///home/work/Documents/repo/economic_freedom_ml/.venv/lib/python3.8/site-packages/cmdstanpy/model.py\u001b\\\u001b[2mmodel.py\u001b[0m\u001b]8;;\u001b\\\u001b[2m:\u001b[0m\u001b]8;id=53556;file:///home/work/Documents/repo/economic_freedom_ml/.venv/lib/python3.8/site-packages/cmdstanpy/model.py#1678\u001b\\\u001b[2m1678\u001b[0m\u001b]8;;\u001b\\\n"
      ]
     },
     "metadata": {},
     "output_type": "display_data"
    },
    {
     "data": {
      "text/html": [
       "<pre style=\"white-space:pre;overflow-x:auto;line-height:normal;font-family:Menlo,'DejaVu Sans Mono',consolas,'Courier New',monospace\"><span style=\"color: #7fbfbf; text-decoration-color: #7fbfbf\">                    </span><span style=\"color: #008000; text-decoration-color: #008000\">DEBUG   </span> CmdStan args:                                                            <a href=\"file:///home/work/Documents/repo/economic_freedom_ml/.venv/lib/python3.8/site-packages/cmdstanpy/model.py\" target=\"_blank\"><span style=\"color: #7f7f7f; text-decoration-color: #7f7f7f\">model.py</span></a><span style=\"color: #7f7f7f; text-decoration-color: #7f7f7f\">:</span><a href=\"file:///home/work/Documents/repo/economic_freedom_ml/.venv/lib/python3.8/site-packages/cmdstanpy/model.py#1690\" target=\"_blank\"><span style=\"color: #7f7f7f; text-decoration-color: #7f7f7f\">1690</span></a>\n",
       "<span style=\"color: #7fbfbf; text-decoration-color: #7fbfbf\">                    </span>         <span style=\"font-weight: bold\">[</span><span style=\"color: #008000; text-decoration-color: #008000\">'/home/work/Documents/repo/economic_freedom_ml/.venv/lib/python3.8/site</span> <span style=\"color: #7f7f7f; text-decoration-color: #7f7f7f\">             </span>\n",
       "<span style=\"color: #7fbfbf; text-decoration-color: #7fbfbf\">                    </span>         <span style=\"color: #008000; text-decoration-color: #008000\">-packages/prophet/stan_model/prophet_model.bin'</span>, <span style=\"color: #008000; text-decoration-color: #008000\">'random'</span>, <span style=\"color: #008000; text-decoration-color: #008000\">'seed=50407'</span>, <span style=\"color: #7f7f7f; text-decoration-color: #7f7f7f\">             </span>\n",
       "<span style=\"color: #7fbfbf; text-decoration-color: #7fbfbf\">                    </span>         <span style=\"color: #008000; text-decoration-color: #008000\">'data'</span>, <span style=\"color: #008000; text-decoration-color: #008000\">'file=/tmp/tmpsaail0o2/psp0ldne.json'</span>,                           <span style=\"color: #7f7f7f; text-decoration-color: #7f7f7f\">             </span>\n",
       "<span style=\"color: #7fbfbf; text-decoration-color: #7fbfbf\">                    </span>         <span style=\"color: #008000; text-decoration-color: #008000\">'init=/tmp/tmpsaail0o2/v5u9_ik9.json'</span>, <span style=\"color: #008000; text-decoration-color: #008000\">'output'</span>,                         <span style=\"color: #7f7f7f; text-decoration-color: #7f7f7f\">             </span>\n",
       "<span style=\"color: #7fbfbf; text-decoration-color: #7fbfbf\">                    </span>         <span style=\"color: #008000; text-decoration-color: #008000\">'file=/tmp/tmpsaail0o2/prophet_modelo_dnl2rz/prophet_model-2023052018371</span> <span style=\"color: #7f7f7f; text-decoration-color: #7f7f7f\">             </span>\n",
       "<span style=\"color: #7fbfbf; text-decoration-color: #7fbfbf\">                    </span>         <span style=\"color: #008000; text-decoration-color: #008000\">1.csv'</span>, <span style=\"color: #008000; text-decoration-color: #008000\">'method=optimize'</span>, <span style=\"color: #008000; text-decoration-color: #008000\">'algorithm=newton'</span>, <span style=\"color: #008000; text-decoration-color: #008000\">'iter=10000'</span><span style=\"font-weight: bold\">]</span>             <span style=\"color: #7f7f7f; text-decoration-color: #7f7f7f\">             </span>\n",
       "</pre>\n"
      ],
      "text/plain": [
       "\u001b[2;36m                   \u001b[0m\u001b[2;36m \u001b[0m\u001b[32mDEBUG   \u001b[0m CmdStan args:                                                            \u001b]8;id=191680;file:///home/work/Documents/repo/economic_freedom_ml/.venv/lib/python3.8/site-packages/cmdstanpy/model.py\u001b\\\u001b[2mmodel.py\u001b[0m\u001b]8;;\u001b\\\u001b[2m:\u001b[0m\u001b]8;id=267856;file:///home/work/Documents/repo/economic_freedom_ml/.venv/lib/python3.8/site-packages/cmdstanpy/model.py#1690\u001b\\\u001b[2m1690\u001b[0m\u001b]8;;\u001b\\\n",
       "\u001b[2;36m                    \u001b[0m         \u001b[1m[\u001b[0m\u001b[32m'/home/work/Documents/repo/economic_freedom_ml/.venv/lib/python3.8/site\u001b[0m \u001b[2m             \u001b[0m\n",
       "\u001b[2;36m                    \u001b[0m         \u001b[32m-packages/prophet/stan_model/prophet_model.bin'\u001b[0m, \u001b[32m'random'\u001b[0m, \u001b[32m'\u001b[0m\u001b[32mseed\u001b[0m\u001b[32m=\u001b[0m\u001b[32m50407\u001b[0m\u001b[32m'\u001b[0m, \u001b[2m             \u001b[0m\n",
       "\u001b[2;36m                    \u001b[0m         \u001b[32m'data'\u001b[0m, \u001b[32m'\u001b[0m\u001b[32mfile\u001b[0m\u001b[32m=/tmp/tmpsaail0o2/psp0ldne.json'\u001b[0m,                           \u001b[2m             \u001b[0m\n",
       "\u001b[2;36m                    \u001b[0m         \u001b[32m'\u001b[0m\u001b[32minit\u001b[0m\u001b[32m=/tmp/tmpsaail0o2/v5u9_ik9.json'\u001b[0m, \u001b[32m'output'\u001b[0m,                         \u001b[2m             \u001b[0m\n",
       "\u001b[2;36m                    \u001b[0m         \u001b[32m'\u001b[0m\u001b[32mfile\u001b[0m\u001b[32m=/tmp/tmpsaail0o2/prophet_modelo_dnl2rz/prophet_model-2023052018371\u001b[0m \u001b[2m             \u001b[0m\n",
       "\u001b[2;36m                    \u001b[0m         \u001b[32m1.csv'\u001b[0m, \u001b[32m'\u001b[0m\u001b[32mmethod\u001b[0m\u001b[32m=\u001b[0m\u001b[32moptimize\u001b[0m\u001b[32m'\u001b[0m, \u001b[32m'\u001b[0m\u001b[32malgorithm\u001b[0m\u001b[32m=\u001b[0m\u001b[32mnewton\u001b[0m\u001b[32m'\u001b[0m, \u001b[32m'\u001b[0m\u001b[32miter\u001b[0m\u001b[32m=\u001b[0m\u001b[32m10000\u001b[0m\u001b[32m'\u001b[0m\u001b[1m]\u001b[0m             \u001b[2m             \u001b[0m\n"
      ]
     },
     "metadata": {},
     "output_type": "display_data"
    },
    {
     "name": "stderr",
     "output_type": "stream",
     "text": [
      "18:37:11 - cmdstanpy - INFO - Chain [1] start processing\n"
     ]
    },
    {
     "data": {
      "text/html": [
       "<pre style=\"white-space:pre;overflow-x:auto;line-height:normal;font-family:Menlo,'DejaVu Sans Mono',consolas,'Courier New',monospace\"><span style=\"color: #7fbfbf; text-decoration-color: #7fbfbf\">                    </span><span style=\"color: #000080; text-decoration-color: #000080\">INFO    </span> Chain <span style=\"font-weight: bold\">[</span><span style=\"color: #008080; text-decoration-color: #008080; font-weight: bold\">1</span><span style=\"font-weight: bold\">]</span> start processing                                               <a href=\"file:///home/work/Documents/repo/economic_freedom_ml/.venv/lib/python3.8/site-packages/cmdstanpy/model.py\" target=\"_blank\"><span style=\"color: #7f7f7f; text-decoration-color: #7f7f7f\">model.py</span></a><span style=\"color: #7f7f7f; text-decoration-color: #7f7f7f\">:</span><a href=\"file:///home/work/Documents/repo/economic_freedom_ml/.venv/lib/python3.8/site-packages/cmdstanpy/model.py#1693\" target=\"_blank\"><span style=\"color: #7f7f7f; text-decoration-color: #7f7f7f\">1693</span></a>\n",
       "</pre>\n"
      ],
      "text/plain": [
       "\u001b[2;36m                   \u001b[0m\u001b[2;36m \u001b[0m\u001b[34mINFO    \u001b[0m Chain \u001b[1m[\u001b[0m\u001b[1;36m1\u001b[0m\u001b[1m]\u001b[0m start processing                                               \u001b]8;id=605166;file:///home/work/Documents/repo/economic_freedom_ml/.venv/lib/python3.8/site-packages/cmdstanpy/model.py\u001b\\\u001b[2mmodel.py\u001b[0m\u001b]8;;\u001b\\\u001b[2m:\u001b[0m\u001b]8;id=558246;file:///home/work/Documents/repo/economic_freedom_ml/.venv/lib/python3.8/site-packages/cmdstanpy/model.py#1693\u001b\\\u001b[2m1693\u001b[0m\u001b]8;;\u001b\\\n"
      ]
     },
     "metadata": {},
     "output_type": "display_data"
    },
    {
     "name": "stderr",
     "output_type": "stream",
     "text": [
      "18:37:11 - cmdstanpy - INFO - Chain [1] done processing\n"
     ]
    },
    {
     "data": {
      "text/html": [
       "<pre style=\"white-space:pre;overflow-x:auto;line-height:normal;font-family:Menlo,'DejaVu Sans Mono',consolas,'Courier New',monospace\"><span style=\"color: #7fbfbf; text-decoration-color: #7fbfbf\">                    </span><span style=\"color: #000080; text-decoration-color: #000080\">INFO    </span> Chain <span style=\"font-weight: bold\">[</span><span style=\"color: #008080; text-decoration-color: #008080; font-weight: bold\">1</span><span style=\"font-weight: bold\">]</span> done processing                                                <a href=\"file:///home/work/Documents/repo/economic_freedom_ml/.venv/lib/python3.8/site-packages/cmdstanpy/model.py\" target=\"_blank\"><span style=\"color: #7f7f7f; text-decoration-color: #7f7f7f\">model.py</span></a><span style=\"color: #7f7f7f; text-decoration-color: #7f7f7f\">:</span><a href=\"file:///home/work/Documents/repo/economic_freedom_ml/.venv/lib/python3.8/site-packages/cmdstanpy/model.py#1750\" target=\"_blank\"><span style=\"color: #7f7f7f; text-decoration-color: #7f7f7f\">1750</span></a>\n",
       "</pre>\n"
      ],
      "text/plain": [
       "\u001b[2;36m                   \u001b[0m\u001b[2;36m \u001b[0m\u001b[34mINFO    \u001b[0m Chain \u001b[1m[\u001b[0m\u001b[1;36m1\u001b[0m\u001b[1m]\u001b[0m done processing                                                \u001b]8;id=983624;file:///home/work/Documents/repo/economic_freedom_ml/.venv/lib/python3.8/site-packages/cmdstanpy/model.py\u001b\\\u001b[2mmodel.py\u001b[0m\u001b]8;;\u001b\\\u001b[2m:\u001b[0m\u001b]8;id=801050;file:///home/work/Documents/repo/economic_freedom_ml/.venv/lib/python3.8/site-packages/cmdstanpy/model.py#1750\u001b\\\u001b[2m1750\u001b[0m\u001b]8;;\u001b\\\n"
      ]
     },
     "metadata": {},
     "output_type": "display_data"
    }
   ],
   "source": [
    "# Assuming your dataset is in a DataFrame called 'data', with columns 'ds', 'y', and 'country'\n",
    "countries = y_train_prophet['country'].unique()\n",
    "predictions = []\n",
    "\n",
    "for country in countries:\n",
    "    # Filter data for the current country\n",
    "   country_data = y_train_prophet[y_train_prophet['country'] == country]\n",
    "   \n",
    "   # Define and fit the model\n",
    "   model = Prophet()\n",
    "   model.fit(country_data)\n",
    "   \n",
    "   # Create a DataFrame for future dates\n",
    "   future = model.make_future_dataframe(periods=5, freq='Y') # 5 years of daily predictions\n",
    "   \n",
    "   # Make predictions and store them in the 'predictions' list\n",
    "   forecast = model.predict(future)\n",
    "   forecast['country'] = country\n",
    "   predictions.append(forecast)\n",
    "\n",
    "# Combine all predictions into a single DataFrame\n",
    "all_predictions = pd.concat(predictions, ignore_index=True)"
   ]
  },
  {
   "cell_type": "code",
   "execution_count": 24,
   "id": "a6bd18ca",
   "metadata": {},
   "outputs": [
    {
     "data": {
      "text/html": [
       "<div>\n",
       "<style scoped>\n",
       "    .dataframe tbody tr th:only-of-type {\n",
       "        vertical-align: middle;\n",
       "    }\n",
       "\n",
       "    .dataframe tbody tr th {\n",
       "        vertical-align: top;\n",
       "    }\n",
       "\n",
       "    .dataframe thead th {\n",
       "        text-align: right;\n",
       "    }\n",
       "</style>\n",
       "<table border=\"1\" class=\"dataframe\">\n",
       "  <thead>\n",
       "    <tr style=\"text-align: right;\">\n",
       "      <th></th>\n",
       "      <th>ds</th>\n",
       "      <th>yhat</th>\n",
       "      <th>yhat_lower</th>\n",
       "      <th>yhat_upper</th>\n",
       "    </tr>\n",
       "  </thead>\n",
       "  <tbody>\n",
       "    <tr>\n",
       "      <th>868</th>\n",
       "      <td>2009-12-31</td>\n",
       "      <td>40.551589</td>\n",
       "      <td>37.425063</td>\n",
       "      <td>43.751471</td>\n",
       "    </tr>\n",
       "    <tr>\n",
       "      <th>869</th>\n",
       "      <td>2010-12-31</td>\n",
       "      <td>39.638063</td>\n",
       "      <td>36.192546</td>\n",
       "      <td>43.097936</td>\n",
       "    </tr>\n",
       "    <tr>\n",
       "      <th>870</th>\n",
       "      <td>2011-12-31</td>\n",
       "      <td>39.884251</td>\n",
       "      <td>36.496038</td>\n",
       "      <td>43.214422</td>\n",
       "    </tr>\n",
       "    <tr>\n",
       "      <th>871</th>\n",
       "      <td>2012-12-31</td>\n",
       "      <td>37.215452</td>\n",
       "      <td>33.892822</td>\n",
       "      <td>40.342610</td>\n",
       "    </tr>\n",
       "    <tr>\n",
       "      <th>872</th>\n",
       "      <td>2013-12-31</td>\n",
       "      <td>35.141647</td>\n",
       "      <td>31.881878</td>\n",
       "      <td>38.403215</td>\n",
       "    </tr>\n",
       "    <tr>\n",
       "      <th>873</th>\n",
       "      <td>2014-12-31</td>\n",
       "      <td>34.228121</td>\n",
       "      <td>30.902177</td>\n",
       "      <td>37.487259</td>\n",
       "    </tr>\n",
       "    <tr>\n",
       "      <th>874</th>\n",
       "      <td>2015-12-31</td>\n",
       "      <td>34.474309</td>\n",
       "      <td>31.185383</td>\n",
       "      <td>37.728783</td>\n",
       "    </tr>\n",
       "    <tr>\n",
       "      <th>875</th>\n",
       "      <td>2016-12-31</td>\n",
       "      <td>31.805510</td>\n",
       "      <td>28.347669</td>\n",
       "      <td>35.322650</td>\n",
       "    </tr>\n",
       "    <tr>\n",
       "      <th>876</th>\n",
       "      <td>2017-12-31</td>\n",
       "      <td>29.731705</td>\n",
       "      <td>26.389024</td>\n",
       "      <td>33.030129</td>\n",
       "    </tr>\n",
       "    <tr>\n",
       "      <th>877</th>\n",
       "      <td>2018-12-31</td>\n",
       "      <td>28.818179</td>\n",
       "      <td>25.446187</td>\n",
       "      <td>31.972671</td>\n",
       "    </tr>\n",
       "    <tr>\n",
       "      <th>878</th>\n",
       "      <td>2019-12-31</td>\n",
       "      <td>29.064367</td>\n",
       "      <td>25.715628</td>\n",
       "      <td>32.328285</td>\n",
       "    </tr>\n",
       "    <tr>\n",
       "      <th>879</th>\n",
       "      <td>2020-12-31</td>\n",
       "      <td>26.395568</td>\n",
       "      <td>23.245461</td>\n",
       "      <td>29.502535</td>\n",
       "    </tr>\n",
       "    <tr>\n",
       "      <th>880</th>\n",
       "      <td>2021-12-31</td>\n",
       "      <td>24.321763</td>\n",
       "      <td>21.301901</td>\n",
       "      <td>27.697069</td>\n",
       "    </tr>\n",
       "    <tr>\n",
       "      <th>881</th>\n",
       "      <td>2022-12-31</td>\n",
       "      <td>23.408237</td>\n",
       "      <td>20.178109</td>\n",
       "      <td>26.684091</td>\n",
       "    </tr>\n",
       "    <tr>\n",
       "      <th>882</th>\n",
       "      <td>2023-12-31</td>\n",
       "      <td>23.654425</td>\n",
       "      <td>20.443024</td>\n",
       "      <td>26.847676</td>\n",
       "    </tr>\n",
       "  </tbody>\n",
       "</table>\n",
       "</div>"
      ]
     },
     "execution_count": 24,
     "metadata": {},
     "output_type": "execute_result"
    }
   ],
   "source": [
    "all_predictions[['ds', 'yhat', 'yhat_lower', 'yhat_upper']].tail(15)"
   ]
  },
  {
   "cell_type": "code",
   "execution_count": 35,
   "id": "a4112f75-ed1f-4815-a1e3-8a3d724b50df",
   "metadata": {},
   "outputs": [
    {
     "name": "stdout",
     "output_type": "stream",
     "text": [
      "<class 'pandas.core.frame.DataFrame'>\n",
      "RangeIndex: 883 entries, 0 to 882\n",
      "Data columns (total 17 columns):\n",
      " #   Column                      Non-Null Count  Dtype         \n",
      "---  ------                      --------------  -----         \n",
      " 0   ds                          883 non-null    datetime64[ns]\n",
      " 1   trend                       883 non-null    float64       \n",
      " 2   yhat_lower                  883 non-null    float64       \n",
      " 3   yhat_upper                  883 non-null    float64       \n",
      " 4   trend_lower                 883 non-null    float64       \n",
      " 5   trend_upper                 883 non-null    float64       \n",
      " 6   additive_terms              883 non-null    float64       \n",
      " 7   additive_terms_lower        883 non-null    float64       \n",
      " 8   additive_terms_upper        883 non-null    float64       \n",
      " 9   yearly                      883 non-null    float64       \n",
      " 10  yearly_lower                883 non-null    float64       \n",
      " 11  yearly_upper                883 non-null    float64       \n",
      " 12  multiplicative_terms        883 non-null    float64       \n",
      " 13  multiplicative_terms_lower  883 non-null    float64       \n",
      " 14  multiplicative_terms_upper  883 non-null    float64       \n",
      " 15  yhat                        883 non-null    float64       \n",
      " 16  country                     883 non-null    object        \n",
      "dtypes: datetime64[ns](1), float64(15), object(1)\n",
      "memory usage: 117.4+ KB\n"
     ]
    }
   ],
   "source": [
    "all_predictions.info()"
   ]
  },
  {
   "cell_type": "code",
   "execution_count": 25,
   "id": "ba7bff1f",
   "metadata": {},
   "outputs": [
    {
     "data": {
      "text/html": [
       "<div>\n",
       "<style scoped>\n",
       "    .dataframe tbody tr th:only-of-type {\n",
       "        vertical-align: middle;\n",
       "    }\n",
       "\n",
       "    .dataframe tbody tr th {\n",
       "        vertical-align: top;\n",
       "    }\n",
       "\n",
       "    .dataframe thead th {\n",
       "        text-align: right;\n",
       "    }\n",
       "</style>\n",
       "<table border=\"1\" class=\"dataframe\">\n",
       "  <thead>\n",
       "    <tr style=\"text-align: right;\">\n",
       "      <th></th>\n",
       "      <th>ds</th>\n",
       "      <th>y</th>\n",
       "      <th>country</th>\n",
       "      <th>trend</th>\n",
       "      <th>yhat_lower</th>\n",
       "      <th>yhat_upper</th>\n",
       "      <th>trend_lower</th>\n",
       "      <th>trend_upper</th>\n",
       "      <th>additive_terms</th>\n",
       "      <th>additive_terms_lower</th>\n",
       "      <th>additive_terms_upper</th>\n",
       "      <th>yearly</th>\n",
       "      <th>yearly_lower</th>\n",
       "      <th>yearly_upper</th>\n",
       "      <th>multiplicative_terms</th>\n",
       "      <th>multiplicative_terms_lower</th>\n",
       "      <th>multiplicative_terms_upper</th>\n",
       "      <th>yhat</th>\n",
       "    </tr>\n",
       "  </thead>\n",
       "  <tbody>\n",
       "    <tr>\n",
       "      <th>0</th>\n",
       "      <td>2023-12-31</td>\n",
       "      <td>50.1</td>\n",
       "      <td>argentina</td>\n",
       "      <td>-70.928620</td>\n",
       "      <td>29.444645</td>\n",
       "      <td>39.794940</td>\n",
       "      <td>-70.934087</td>\n",
       "      <td>-70.922284</td>\n",
       "      <td>105.700535</td>\n",
       "      <td>105.700535</td>\n",
       "      <td>105.700535</td>\n",
       "      <td>105.700535</td>\n",
       "      <td>105.700535</td>\n",
       "      <td>105.700535</td>\n",
       "      <td>0.0</td>\n",
       "      <td>0.0</td>\n",
       "      <td>0.0</td>\n",
       "      <td>34.771914</td>\n",
       "    </tr>\n",
       "    <tr>\n",
       "      <th>1</th>\n",
       "      <td>2023-12-31</td>\n",
       "      <td>71.3</td>\n",
       "      <td>barbados</td>\n",
       "      <td>16.049490</td>\n",
       "      <td>59.955114</td>\n",
       "      <td>70.593762</td>\n",
       "      <td>16.039950</td>\n",
       "      <td>16.059364</td>\n",
       "      <td>49.271991</td>\n",
       "      <td>49.271991</td>\n",
       "      <td>49.271991</td>\n",
       "      <td>49.271991</td>\n",
       "      <td>49.271991</td>\n",
       "      <td>49.271991</td>\n",
       "      <td>0.0</td>\n",
       "      <td>0.0</td>\n",
       "      <td>0.0</td>\n",
       "      <td>65.321481</td>\n",
       "    </tr>\n",
       "    <tr>\n",
       "      <th>2</th>\n",
       "      <td>2023-12-31</td>\n",
       "      <td>56.6</td>\n",
       "      <td>belize</td>\n",
       "      <td>-14.424758</td>\n",
       "      <td>51.392027</td>\n",
       "      <td>55.899910</td>\n",
       "      <td>-14.764212</td>\n",
       "      <td>-14.038202</td>\n",
       "      <td>68.091918</td>\n",
       "      <td>68.091918</td>\n",
       "      <td>68.091918</td>\n",
       "      <td>68.091918</td>\n",
       "      <td>68.091918</td>\n",
       "      <td>68.091918</td>\n",
       "      <td>0.0</td>\n",
       "      <td>0.0</td>\n",
       "      <td>0.0</td>\n",
       "      <td>53.667160</td>\n",
       "    </tr>\n",
       "    <tr>\n",
       "      <th>3</th>\n",
       "      <td>2023-12-31</td>\n",
       "      <td>43.0</td>\n",
       "      <td>bolivia</td>\n",
       "      <td>-57.629360</td>\n",
       "      <td>33.706406</td>\n",
       "      <td>42.156719</td>\n",
       "      <td>-57.634039</td>\n",
       "      <td>-57.624445</td>\n",
       "      <td>95.634875</td>\n",
       "      <td>95.634875</td>\n",
       "      <td>95.634875</td>\n",
       "      <td>95.634875</td>\n",
       "      <td>95.634875</td>\n",
       "      <td>95.634875</td>\n",
       "      <td>0.0</td>\n",
       "      <td>0.0</td>\n",
       "      <td>0.0</td>\n",
       "      <td>38.005516</td>\n",
       "    </tr>\n",
       "    <tr>\n",
       "      <th>4</th>\n",
       "      <td>2023-12-31</td>\n",
       "      <td>53.3</td>\n",
       "      <td>brazil</td>\n",
       "      <td>7.522393</td>\n",
       "      <td>51.124498</td>\n",
       "      <td>61.591674</td>\n",
       "      <td>7.515034</td>\n",
       "      <td>7.530327</td>\n",
       "      <td>49.260761</td>\n",
       "      <td>49.260761</td>\n",
       "      <td>49.260761</td>\n",
       "      <td>49.260761</td>\n",
       "      <td>49.260761</td>\n",
       "      <td>49.260761</td>\n",
       "      <td>0.0</td>\n",
       "      <td>0.0</td>\n",
       "      <td>0.0</td>\n",
       "      <td>56.783155</td>\n",
       "    </tr>\n",
       "    <tr>\n",
       "      <th>...</th>\n",
       "      <td>...</td>\n",
       "      <td>...</td>\n",
       "      <td>...</td>\n",
       "      <td>...</td>\n",
       "      <td>...</td>\n",
       "      <td>...</td>\n",
       "      <td>...</td>\n",
       "      <td>...</td>\n",
       "      <td>...</td>\n",
       "      <td>...</td>\n",
       "      <td>...</td>\n",
       "      <td>...</td>\n",
       "      <td>...</td>\n",
       "      <td>...</td>\n",
       "      <td>...</td>\n",
       "      <td>...</td>\n",
       "      <td>...</td>\n",
       "      <td>...</td>\n",
       "    </tr>\n",
       "    <tr>\n",
       "      <th>155</th>\n",
       "      <td>2019-12-31</td>\n",
       "      <td>62.9</td>\n",
       "      <td>bahamas</td>\n",
       "      <td>6.888436</td>\n",
       "      <td>62.844308</td>\n",
       "      <td>67.544824</td>\n",
       "      <td>6.878469</td>\n",
       "      <td>6.899163</td>\n",
       "      <td>58.318021</td>\n",
       "      <td>58.318021</td>\n",
       "      <td>58.318021</td>\n",
       "      <td>58.318021</td>\n",
       "      <td>58.318021</td>\n",
       "      <td>58.318021</td>\n",
       "      <td>0.0</td>\n",
       "      <td>0.0</td>\n",
       "      <td>0.0</td>\n",
       "      <td>65.206458</td>\n",
       "    </tr>\n",
       "    <tr>\n",
       "      <th>156</th>\n",
       "      <td>2019-12-31</td>\n",
       "      <td>57.0</td>\n",
       "      <td>trinidad_and_tobago</td>\n",
       "      <td>23.038521</td>\n",
       "      <td>57.523684</td>\n",
       "      <td>60.856192</td>\n",
       "      <td>23.009711</td>\n",
       "      <td>23.071937</td>\n",
       "      <td>36.134598</td>\n",
       "      <td>36.134598</td>\n",
       "      <td>36.134598</td>\n",
       "      <td>36.134598</td>\n",
       "      <td>36.134598</td>\n",
       "      <td>36.134598</td>\n",
       "      <td>0.0</td>\n",
       "      <td>0.0</td>\n",
       "      <td>0.0</td>\n",
       "      <td>59.173119</td>\n",
       "    </tr>\n",
       "    <tr>\n",
       "      <th>157</th>\n",
       "      <td>2019-12-31</td>\n",
       "      <td>76.8</td>\n",
       "      <td>united_states</td>\n",
       "      <td>-6.087406</td>\n",
       "      <td>73.625790</td>\n",
       "      <td>75.388299</td>\n",
       "      <td>-6.156137</td>\n",
       "      <td>-5.995586</td>\n",
       "      <td>80.613719</td>\n",
       "      <td>80.613719</td>\n",
       "      <td>80.613719</td>\n",
       "      <td>80.613719</td>\n",
       "      <td>80.613719</td>\n",
       "      <td>80.613719</td>\n",
       "      <td>0.0</td>\n",
       "      <td>0.0</td>\n",
       "      <td>0.0</td>\n",
       "      <td>74.526313</td>\n",
       "    </tr>\n",
       "    <tr>\n",
       "      <th>158</th>\n",
       "      <td>2019-12-31</td>\n",
       "      <td>68.6</td>\n",
       "      <td>uruguay</td>\n",
       "      <td>-11.997996</td>\n",
       "      <td>67.759999</td>\n",
       "      <td>71.080105</td>\n",
       "      <td>-12.015566</td>\n",
       "      <td>-11.976551</td>\n",
       "      <td>81.462023</td>\n",
       "      <td>81.462023</td>\n",
       "      <td>81.462023</td>\n",
       "      <td>81.462023</td>\n",
       "      <td>81.462023</td>\n",
       "      <td>81.462023</td>\n",
       "      <td>0.0</td>\n",
       "      <td>0.0</td>\n",
       "      <td>0.0</td>\n",
       "      <td>69.464027</td>\n",
       "    </tr>\n",
       "    <tr>\n",
       "      <th>159</th>\n",
       "      <td>2019-12-31</td>\n",
       "      <td>25.9</td>\n",
       "      <td>venezuela</td>\n",
       "      <td>25.208968</td>\n",
       "      <td>25.715628</td>\n",
       "      <td>32.328285</td>\n",
       "      <td>25.208557</td>\n",
       "      <td>25.209385</td>\n",
       "      <td>3.855399</td>\n",
       "      <td>3.855399</td>\n",
       "      <td>3.855399</td>\n",
       "      <td>3.855399</td>\n",
       "      <td>3.855399</td>\n",
       "      <td>3.855399</td>\n",
       "      <td>0.0</td>\n",
       "      <td>0.0</td>\n",
       "      <td>0.0</td>\n",
       "      <td>29.064367</td>\n",
       "    </tr>\n",
       "  </tbody>\n",
       "</table>\n",
       "<p>160 rows × 18 columns</p>\n",
       "</div>"
      ]
     },
     "execution_count": 25,
     "metadata": {},
     "output_type": "execute_result"
    }
   ],
   "source": [
    "for_testing = all_predictions[all_predictions[\"ds\"]>=datetime(2019,1,1)]\n",
    "\n",
    "arranging_order_by_merge = pd.merge(\n",
    "    y_test_prophet, \n",
    "    for_testing,\n",
    "    how=\"left\",\n",
    "    on=['country', 'ds'], \n",
    ")\n",
    "arranging_order_by_merge"
   ]
  },
  {
   "cell_type": "markdown",
   "id": "e05a7064",
   "metadata": {},
   "source": [
    "# R2 Score"
   ]
  },
  {
   "cell_type": "markdown",
   "id": "d97ce8c2",
   "metadata": {},
   "source": [
    "## Random Forest"
   ]
  },
  {
   "cell_type": "code",
   "execution_count": 26,
   "id": "f44c290d-8d31-45a8-bdbb-65b5654737a8",
   "metadata": {
    "jp-MarkdownHeadingCollapsed": true,
    "tags": []
   },
   "outputs": [
    {
     "name": "stdout",
     "output_type": "stream",
     "text": [
      "R2 0.7517776244569526\n"
     ]
    }
   ],
   "source": [
    "print(\"R2\",r2_score(y_test,rf_predicted))"
   ]
  },
  {
   "cell_type": "code",
   "execution_count": 27,
   "id": "321801ad",
   "metadata": {},
   "outputs": [
    {
     "name": "stdout",
     "output_type": "stream",
     "text": [
      "MAE 3.8846376048263225\n"
     ]
    }
   ],
   "source": [
    "print(\"MAE\",mean_absolute_error(y_test,rf_predicted))"
   ]
  },
  {
   "cell_type": "code",
   "execution_count": 28,
   "id": "3c4ae762",
   "metadata": {},
   "outputs": [
    {
     "name": "stdout",
     "output_type": "stream",
     "text": [
      "MSE 33.39780469523098\n"
     ]
    }
   ],
   "source": [
    "print(\"MSE\",mean_squared_error(y_test,rf_predicted))"
   ]
  },
  {
   "cell_type": "markdown",
   "id": "ceebec61",
   "metadata": {},
   "source": [
    "## XG Boost"
   ]
  },
  {
   "cell_type": "code",
   "execution_count": 29,
   "id": "a68d9db5",
   "metadata": {},
   "outputs": [
    {
     "name": "stdout",
     "output_type": "stream",
     "text": [
      "R2 0.7549268081277446\n"
     ]
    }
   ],
   "source": [
    "print(\"R2\",r2_score(y_test,xb_predicted))"
   ]
  },
  {
   "cell_type": "code",
   "execution_count": 30,
   "id": "9fa36d17",
   "metadata": {},
   "outputs": [
    {
     "name": "stdout",
     "output_type": "stream",
     "text": [
      "MAE 3.8705165696144106\n"
     ]
    }
   ],
   "source": [
    "print(\"MAE\",mean_absolute_error(y_test,xb_predicted))"
   ]
  },
  {
   "cell_type": "code",
   "execution_count": 31,
   "id": "ba8c8ce4",
   "metadata": {},
   "outputs": [
    {
     "name": "stdout",
     "output_type": "stream",
     "text": [
      "MSE 32.97408857795339\n"
     ]
    }
   ],
   "source": [
    "print(\"MSE\",mean_squared_error(y_test,xb_predicted))"
   ]
  },
  {
   "cell_type": "markdown",
   "id": "478d2ddd",
   "metadata": {},
   "source": [
    "## Prophet"
   ]
  },
  {
   "cell_type": "code",
   "execution_count": 32,
   "id": "0f73ffa3",
   "metadata": {},
   "outputs": [
    {
     "name": "stdout",
     "output_type": "stream",
     "text": [
      "R2 0.8504568685329247\n"
     ]
    }
   ],
   "source": [
    "print(\"R2\",r2_score(arranging_order_by_merge['y'],arranging_order_by_merge[\"yhat\"]))"
   ]
  },
  {
   "cell_type": "code",
   "execution_count": 33,
   "id": "39fae939",
   "metadata": {},
   "outputs": [
    {
     "name": "stdout",
     "output_type": "stream",
     "text": [
      "MAE 2.868168091042787\n"
     ]
    }
   ],
   "source": [
    "print(\"MAE\",mean_absolute_error(arranging_order_by_merge['y'],arranging_order_by_merge[\"yhat\"]))"
   ]
  },
  {
   "cell_type": "code",
   "execution_count": 34,
   "id": "61d9ba7d",
   "metadata": {},
   "outputs": [
    {
     "name": "stdout",
     "output_type": "stream",
     "text": [
      "MSE 20.12071751115962\n"
     ]
    }
   ],
   "source": [
    "print(\"MSE\",mean_squared_error(arranging_order_by_merge['y'],arranging_order_by_merge[\"yhat\"]))"
   ]
  }
 ],
 "metadata": {
  "kernelspec": {
   "display_name": "Kedro (economic_freedom_ml)",
   "language": "python",
   "name": "kedro_economic_freedom_ml"
  },
  "language_info": {
   "codemirror_mode": {
    "name": "ipython",
    "version": 3
   },
   "file_extension": ".py",
   "mimetype": "text/x-python",
   "name": "python",
   "nbconvert_exporter": "python",
   "pygments_lexer": "ipython3",
   "version": "3.8.10"
  }
 },
 "nbformat": 4,
 "nbformat_minor": 5
}
