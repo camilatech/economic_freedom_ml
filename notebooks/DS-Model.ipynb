{
 "cells": [
  {
   "cell_type": "markdown",
   "id": "71ecff33-b42f-409c-8732-e75b692a806a",
   "metadata": {
    "tags": []
   },
   "source": [
    "# Packages and Overall Info"
   ]
  },
  {
   "cell_type": "code",
   "execution_count": 1,
   "id": "b336303c-e252-4e06-8428-91e5b9c34151",
   "metadata": {},
   "outputs": [
    {
     "data": {
      "text/html": [
       "<pre style=\"white-space:pre;overflow-x:auto;line-height:normal;font-family:Menlo,'DejaVu Sans Mono',consolas,'Courier New',monospace\"><span style=\"color: #7fbfbf; text-decoration-color: #7fbfbf\">[03/03/23 14:21:18] </span><span style=\"color: #000080; text-decoration-color: #000080\">INFO    </span> Resolved project path as:                                              <a href=\"file:///home/work/Documents/repo/economic_freedom_ml/.venv/lib/python3.8/site-packages/kedro/ipython/__init__.py\" target=\"_blank\"><span style=\"color: #7f7f7f; text-decoration-color: #7f7f7f\">__init__.py</span></a><span style=\"color: #7f7f7f; text-decoration-color: #7f7f7f\">:</span><a href=\"file:///home/work/Documents/repo/economic_freedom_ml/.venv/lib/python3.8/site-packages/kedro/ipython/__init__.py#132\" target=\"_blank\"><span style=\"color: #7f7f7f; text-decoration-color: #7f7f7f\">132</span></a>\n",
       "<span style=\"color: #7fbfbf; text-decoration-color: #7fbfbf\">                    </span>         <span style=\"color: #800080; text-decoration-color: #800080\">/home/work/Documents/repo/</span><span style=\"color: #ff00ff; text-decoration-color: #ff00ff\">economic_freedom_ml.</span>                         <span style=\"color: #7f7f7f; text-decoration-color: #7f7f7f\">               </span>\n",
       "<span style=\"color: #7fbfbf; text-decoration-color: #7fbfbf\">                    </span>         To set a different path, run <span style=\"color: #008000; text-decoration-color: #008000\">'%reload_kedro &lt;project_root&gt;'</span>            <span style=\"color: #7f7f7f; text-decoration-color: #7f7f7f\">               </span>\n",
       "</pre>\n"
      ],
      "text/plain": [
       "\u001b[2;36m[03/03/23 14:21:18]\u001b[0m\u001b[2;36m \u001b[0m\u001b[34mINFO    \u001b[0m Resolved project path as:                                              \u001b]8;id=938768;file:///home/work/Documents/repo/economic_freedom_ml/.venv/lib/python3.8/site-packages/kedro/ipython/__init__.py\u001b\\\u001b[2m__init__.py\u001b[0m\u001b]8;;\u001b\\\u001b[2m:\u001b[0m\u001b]8;id=711604;file:///home/work/Documents/repo/economic_freedom_ml/.venv/lib/python3.8/site-packages/kedro/ipython/__init__.py#132\u001b\\\u001b[2m132\u001b[0m\u001b]8;;\u001b\\\n",
       "\u001b[2;36m                    \u001b[0m         \u001b[35m/home/work/Documents/repo/\u001b[0m\u001b[95meconomic_freedom_ml.\u001b[0m                         \u001b[2m               \u001b[0m\n",
       "\u001b[2;36m                    \u001b[0m         To set a different path, run \u001b[32m'%reload_kedro \u001b[0m\u001b[32m<\u001b[0m\u001b[32mproject_root\u001b[0m\u001b[32m>\u001b[0m\u001b[32m'\u001b[0m            \u001b[2m               \u001b[0m\n"
      ]
     },
     "metadata": {},
     "output_type": "display_data"
    },
    {
     "data": {
      "text/html": [
       "<pre style=\"white-space:pre;overflow-x:auto;line-height:normal;font-family:Menlo,'DejaVu Sans Mono',consolas,'Courier New',monospace\"><span style=\"color: #7fbfbf; text-decoration-color: #7fbfbf\">[03/03/23 14:21:19] </span><span style=\"color: #000080; text-decoration-color: #000080\">INFO    </span> Kedro project economic_freedom_ml                                      <a href=\"file:///home/work/Documents/repo/economic_freedom_ml/.venv/lib/python3.8/site-packages/kedro/ipython/__init__.py\" target=\"_blank\"><span style=\"color: #7f7f7f; text-decoration-color: #7f7f7f\">__init__.py</span></a><span style=\"color: #7f7f7f; text-decoration-color: #7f7f7f\">:</span><a href=\"file:///home/work/Documents/repo/economic_freedom_ml/.venv/lib/python3.8/site-packages/kedro/ipython/__init__.py#101\" target=\"_blank\"><span style=\"color: #7f7f7f; text-decoration-color: #7f7f7f\">101</span></a>\n",
       "</pre>\n"
      ],
      "text/plain": [
       "\u001b[2;36m[03/03/23 14:21:19]\u001b[0m\u001b[2;36m \u001b[0m\u001b[34mINFO    \u001b[0m Kedro project economic_freedom_ml                                      \u001b]8;id=896960;file:///home/work/Documents/repo/economic_freedom_ml/.venv/lib/python3.8/site-packages/kedro/ipython/__init__.py\u001b\\\u001b[2m__init__.py\u001b[0m\u001b]8;;\u001b\\\u001b[2m:\u001b[0m\u001b]8;id=395921;file:///home/work/Documents/repo/economic_freedom_ml/.venv/lib/python3.8/site-packages/kedro/ipython/__init__.py#101\u001b\\\u001b[2m101\u001b[0m\u001b]8;;\u001b\\\n"
      ]
     },
     "metadata": {},
     "output_type": "display_data"
    },
    {
     "data": {
      "text/html": [
       "<pre style=\"white-space:pre;overflow-x:auto;line-height:normal;font-family:Menlo,'DejaVu Sans Mono',consolas,'Courier New',monospace\"><span style=\"color: #7fbfbf; text-decoration-color: #7fbfbf\">                    </span><span style=\"color: #000080; text-decoration-color: #000080\">INFO    </span> Defined global variable <span style=\"color: #008000; text-decoration-color: #008000\">'context'</span>, <span style=\"color: #008000; text-decoration-color: #008000\">'session'</span>, <span style=\"color: #008000; text-decoration-color: #008000\">'catalog'</span> and            <a href=\"file:///home/work/Documents/repo/economic_freedom_ml/.venv/lib/python3.8/site-packages/kedro/ipython/__init__.py\" target=\"_blank\"><span style=\"color: #7f7f7f; text-decoration-color: #7f7f7f\">__init__.py</span></a><span style=\"color: #7f7f7f; text-decoration-color: #7f7f7f\">:</span><a href=\"file:///home/work/Documents/repo/economic_freedom_ml/.venv/lib/python3.8/site-packages/kedro/ipython/__init__.py#102\" target=\"_blank\"><span style=\"color: #7f7f7f; text-decoration-color: #7f7f7f\">102</span></a>\n",
       "<span style=\"color: #7fbfbf; text-decoration-color: #7fbfbf\">                    </span>         <span style=\"color: #008000; text-decoration-color: #008000\">'pipelines'</span>                                                            <span style=\"color: #7f7f7f; text-decoration-color: #7f7f7f\">               </span>\n",
       "</pre>\n"
      ],
      "text/plain": [
       "\u001b[2;36m                   \u001b[0m\u001b[2;36m \u001b[0m\u001b[34mINFO    \u001b[0m Defined global variable \u001b[32m'context'\u001b[0m, \u001b[32m'session'\u001b[0m, \u001b[32m'catalog'\u001b[0m and            \u001b]8;id=319196;file:///home/work/Documents/repo/economic_freedom_ml/.venv/lib/python3.8/site-packages/kedro/ipython/__init__.py\u001b\\\u001b[2m__init__.py\u001b[0m\u001b]8;;\u001b\\\u001b[2m:\u001b[0m\u001b]8;id=988993;file:///home/work/Documents/repo/economic_freedom_ml/.venv/lib/python3.8/site-packages/kedro/ipython/__init__.py#102\u001b\\\u001b[2m102\u001b[0m\u001b]8;;\u001b\\\n",
       "\u001b[2;36m                    \u001b[0m         \u001b[32m'pipelines'\u001b[0m                                                            \u001b[2m               \u001b[0m\n"
      ]
     },
     "metadata": {},
     "output_type": "display_data"
    }
   ],
   "source": [
    "%reload_kedro"
   ]
  },
  {
   "cell_type": "code",
   "execution_count": 20,
   "id": "7729373c-c169-4bb2-8274-c5cfcdce9023",
   "metadata": {},
   "outputs": [],
   "source": [
    "import matplotlib \n",
    "import matplotlib.pyplot as plt\n",
    "import seaborn as sns\n",
    "import numpy as np\n",
    "import pandas as pd\n",
    "from prophet import Prophet\n",
    "import xgboost as xgb\n",
    "from sklearn.metrics import f1_score\n",
    "from sklearn.metrics import r2_score\n",
    "from sklearn.model_selection import train_test_split\n",
    "from sklearn.ensemble import RandomForestRegressor\n",
    "from pandas_profiling import ProfileReport"
   ]
  },
  {
   "cell_type": "code",
   "execution_count": 3,
   "id": "829e5b33-23fe-4731-a5d4-9542ac0205b3",
   "metadata": {},
   "outputs": [
    {
     "data": {
      "text/html": [
       "<pre style=\"white-space:pre;overflow-x:auto;line-height:normal;font-family:Menlo,'DejaVu Sans Mono',consolas,'Courier New',monospace\"><span style=\"color: #7fbfbf; text-decoration-color: #7fbfbf\">[03/03/23 14:21:27] </span><span style=\"color: #000080; text-decoration-color: #000080\">INFO    </span> Loading data from <span style=\"color: #008000; text-decoration-color: #008000\">'data_with_features'</span> <span style=\"font-weight: bold\">(</span>CSVDataSet<span style=\"font-weight: bold\">)</span><span style=\"color: #808000; text-decoration-color: #808000\">...</span>             <a href=\"file:///home/work/Documents/repo/economic_freedom_ml/.venv/lib/python3.8/site-packages/kedro/io/data_catalog.py\" target=\"_blank\"><span style=\"color: #7f7f7f; text-decoration-color: #7f7f7f\">data_catalog.py</span></a><span style=\"color: #7f7f7f; text-decoration-color: #7f7f7f\">:</span><a href=\"file:///home/work/Documents/repo/economic_freedom_ml/.venv/lib/python3.8/site-packages/kedro/io/data_catalog.py#343\" target=\"_blank\"><span style=\"color: #7f7f7f; text-decoration-color: #7f7f7f\">343</span></a>\n",
       "</pre>\n"
      ],
      "text/plain": [
       "\u001b[2;36m[03/03/23 14:21:27]\u001b[0m\u001b[2;36m \u001b[0m\u001b[34mINFO    \u001b[0m Loading data from \u001b[32m'data_with_features'\u001b[0m \u001b[1m(\u001b[0mCSVDataSet\u001b[1m)\u001b[0m\u001b[33m...\u001b[0m             \u001b]8;id=423722;file:///home/work/Documents/repo/economic_freedom_ml/.venv/lib/python3.8/site-packages/kedro/io/data_catalog.py\u001b\\\u001b[2mdata_catalog.py\u001b[0m\u001b]8;;\u001b\\\u001b[2m:\u001b[0m\u001b]8;id=720552;file:///home/work/Documents/repo/economic_freedom_ml/.venv/lib/python3.8/site-packages/kedro/io/data_catalog.py#343\u001b\\\u001b[2m343\u001b[0m\u001b]8;;\u001b\\\n"
      ]
     },
     "metadata": {},
     "output_type": "display_data"
    }
   ],
   "source": [
    "model_input = catalog.load(\"data_with_features\")"
   ]
  },
  {
   "cell_type": "code",
   "execution_count": 4,
   "id": "b957288d-1293-482c-bb52-0732034e08c8",
   "metadata": {},
   "outputs": [
    {
     "data": {
      "text/html": [
       "<div>\n",
       "<style scoped>\n",
       "    .dataframe tbody tr th:only-of-type {\n",
       "        vertical-align: middle;\n",
       "    }\n",
       "\n",
       "    .dataframe tbody tr th {\n",
       "        vertical-align: top;\n",
       "    }\n",
       "\n",
       "    .dataframe thead th {\n",
       "        text-align: right;\n",
       "    }\n",
       "</style>\n",
       "<table border=\"1\" class=\"dataframe\">\n",
       "  <thead>\n",
       "    <tr style=\"text-align: right;\">\n",
       "      <th></th>\n",
       "      <th>year</th>\n",
       "      <th>score</th>\n",
       "      <th>property_right</th>\n",
       "      <th>government_integrity</th>\n",
       "      <th>tax_burden</th>\n",
       "      <th>government_spending</th>\n",
       "      <th>business_freedom</th>\n",
       "      <th>labor_freedom</th>\n",
       "      <th>monetary_freedom</th>\n",
       "      <th>trade_freedom</th>\n",
       "      <th>...</th>\n",
       "      <th>peru</th>\n",
       "      <th>saint_lucia</th>\n",
       "      <th>saint_vincent_and_the_grenadines</th>\n",
       "      <th>suriname</th>\n",
       "      <th>trinidad_and_tobago</th>\n",
       "      <th>united_states</th>\n",
       "      <th>uruguay</th>\n",
       "      <th>venezuela</th>\n",
       "      <th>north_america</th>\n",
       "      <th>south_america</th>\n",
       "    </tr>\n",
       "  </thead>\n",
       "  <tbody>\n",
       "    <tr>\n",
       "      <th>0</th>\n",
       "      <td>2023</td>\n",
       "      <td>50.1</td>\n",
       "      <td>35.1</td>\n",
       "      <td>45.1</td>\n",
       "      <td>73.3</td>\n",
       "      <td>53.0</td>\n",
       "      <td>55.1</td>\n",
       "      <td>51.0</td>\n",
       "      <td>37.9</td>\n",
       "      <td>60.6</td>\n",
       "      <td>...</td>\n",
       "      <td>0</td>\n",
       "      <td>0</td>\n",
       "      <td>0</td>\n",
       "      <td>0</td>\n",
       "      <td>0</td>\n",
       "      <td>0</td>\n",
       "      <td>0</td>\n",
       "      <td>0</td>\n",
       "      <td>0</td>\n",
       "      <td>1</td>\n",
       "    </tr>\n",
       "    <tr>\n",
       "      <th>1</th>\n",
       "      <td>2023</td>\n",
       "      <td>71.3</td>\n",
       "      <td>72.6</td>\n",
       "      <td>68.7</td>\n",
       "      <td>80.6</td>\n",
       "      <td>70.8</td>\n",
       "      <td>64.7</td>\n",
       "      <td>63.4</td>\n",
       "      <td>78.6</td>\n",
       "      <td>58.4</td>\n",
       "      <td>...</td>\n",
       "      <td>0</td>\n",
       "      <td>0</td>\n",
       "      <td>0</td>\n",
       "      <td>0</td>\n",
       "      <td>0</td>\n",
       "      <td>0</td>\n",
       "      <td>0</td>\n",
       "      <td>0</td>\n",
       "      <td>1</td>\n",
       "      <td>0</td>\n",
       "    </tr>\n",
       "    <tr>\n",
       "      <th>2</th>\n",
       "      <td>2023</td>\n",
       "      <td>56.6</td>\n",
       "      <td>34.7</td>\n",
       "      <td>38.1</td>\n",
       "      <td>77.0</td>\n",
       "      <td>64.1</td>\n",
       "      <td>54.0</td>\n",
       "      <td>59.9</td>\n",
       "      <td>82.5</td>\n",
       "      <td>55.6</td>\n",
       "      <td>...</td>\n",
       "      <td>0</td>\n",
       "      <td>0</td>\n",
       "      <td>0</td>\n",
       "      <td>0</td>\n",
       "      <td>0</td>\n",
       "      <td>0</td>\n",
       "      <td>0</td>\n",
       "      <td>0</td>\n",
       "      <td>1</td>\n",
       "      <td>0</td>\n",
       "    </tr>\n",
       "    <tr>\n",
       "      <th>3</th>\n",
       "      <td>2023</td>\n",
       "      <td>43.0</td>\n",
       "      <td>14.1</td>\n",
       "      <td>28.7</td>\n",
       "      <td>86.0</td>\n",
       "      <td>58.8</td>\n",
       "      <td>54.7</td>\n",
       "      <td>46.2</td>\n",
       "      <td>72.8</td>\n",
       "      <td>60.8</td>\n",
       "      <td>...</td>\n",
       "      <td>0</td>\n",
       "      <td>0</td>\n",
       "      <td>0</td>\n",
       "      <td>0</td>\n",
       "      <td>0</td>\n",
       "      <td>0</td>\n",
       "      <td>0</td>\n",
       "      <td>0</td>\n",
       "      <td>0</td>\n",
       "      <td>1</td>\n",
       "    </tr>\n",
       "    <tr>\n",
       "      <th>4</th>\n",
       "      <td>2023</td>\n",
       "      <td>53.3</td>\n",
       "      <td>50.3</td>\n",
       "      <td>40.0</td>\n",
       "      <td>69.9</td>\n",
       "      <td>53.8</td>\n",
       "      <td>63.2</td>\n",
       "      <td>55.9</td>\n",
       "      <td>78.4</td>\n",
       "      <td>60.0</td>\n",
       "      <td>...</td>\n",
       "      <td>0</td>\n",
       "      <td>0</td>\n",
       "      <td>0</td>\n",
       "      <td>0</td>\n",
       "      <td>0</td>\n",
       "      <td>0</td>\n",
       "      <td>0</td>\n",
       "      <td>0</td>\n",
       "      <td>0</td>\n",
       "      <td>1</td>\n",
       "    </tr>\n",
       "  </tbody>\n",
       "</table>\n",
       "<p>5 rows × 46 columns</p>\n",
       "</div>"
      ]
     },
     "execution_count": 4,
     "metadata": {},
     "output_type": "execute_result"
    }
   ],
   "source": [
    "model_input.head()"
   ]
  },
  {
   "cell_type": "code",
   "execution_count": 5,
   "id": "71873599-2d2e-45bb-8151-5191be072036",
   "metadata": {},
   "outputs": [
    {
     "name": "stdout",
     "output_type": "stream",
     "text": [
      "(                              column    dtype  missing_percent  count  \\\n",
      "0                               year    int64              0.0    883   \n",
      "1                              score  float64              0.0    883   \n",
      "2                     property_right  float64              0.0    883   \n",
      "3               government_integrity  float64              0.0    883   \n",
      "4                         tax_burden  float64              0.0    883   \n",
      "5                government_spending  float64              0.0    883   \n",
      "6                   business_freedom  float64              0.0    883   \n",
      "7                      labor_freedom  float64              0.0    883   \n",
      "8                   monetary_freedom  float64              0.0    883   \n",
      "9                      trade_freedom  float64              0.0    883   \n",
      "10                investment_freedom  float64              0.0    883   \n",
      "11                 financial_freedom  float64              0.0    883   \n",
      "12                         argentina    int64              0.0    883   \n",
      "13                           bahamas    int64              0.0    883   \n",
      "14                          barbados    int64              0.0    883   \n",
      "15                            belize    int64              0.0    883   \n",
      "16                           bolivia    int64              0.0    883   \n",
      "17                            brazil    int64              0.0    883   \n",
      "18                            canada    int64              0.0    883   \n",
      "19                             chile    int64              0.0    883   \n",
      "20                          colombia    int64              0.0    883   \n",
      "21                        costa_rica    int64              0.0    883   \n",
      "22                              cuba    int64              0.0    883   \n",
      "23                          dominica    int64              0.0    883   \n",
      "24                dominican_republic    int64              0.0    883   \n",
      "25                           ecuador    int64              0.0    883   \n",
      "26                       el_salvador    int64              0.0    883   \n",
      "27                         guatemala    int64              0.0    883   \n",
      "28                            guyana    int64              0.0    883   \n",
      "29                             haiti    int64              0.0    883   \n",
      "30                          honduras    int64              0.0    883   \n",
      "31                           jamaica    int64              0.0    883   \n",
      "32                            mexico    int64              0.0    883   \n",
      "33                         nicaragua    int64              0.0    883   \n",
      "34                            panama    int64              0.0    883   \n",
      "35                          paraguay    int64              0.0    883   \n",
      "36                              peru    int64              0.0    883   \n",
      "37                       saint_lucia    int64              0.0    883   \n",
      "38  saint_vincent_and_the_grenadines    int64              0.0    883   \n",
      "39                          suriname    int64              0.0    883   \n",
      "40               trinidad_and_tobago    int64              0.0    883   \n",
      "41                     united_states    int64              0.0    883   \n",
      "42                           uruguay    int64              0.0    883   \n",
      "43                         venezuela    int64              0.0    883   \n",
      "44                     north_america    int64              0.0    883   \n",
      "45                     south_america    int64              0.0    883   \n",
      "\n",
      "    n_unique  \n",
      "0         29  \n",
      "1        344  \n",
      "2        165  \n",
      "3        229  \n",
      "4        309  \n",
      "5        390  \n",
      "6        325  \n",
      "7        354  \n",
      "8        332  \n",
      "9        246  \n",
      "10        19  \n",
      "11         9  \n",
      "12         2  \n",
      "13         2  \n",
      "14         2  \n",
      "15         2  \n",
      "16         2  \n",
      "17         2  \n",
      "18         2  \n",
      "19         2  \n",
      "20         2  \n",
      "21         2  \n",
      "22         2  \n",
      "23         2  \n",
      "24         2  \n",
      "25         2  \n",
      "26         2  \n",
      "27         2  \n",
      "28         2  \n",
      "29         2  \n",
      "30         2  \n",
      "31         2  \n",
      "32         2  \n",
      "33         2  \n",
      "34         2  \n",
      "35         2  \n",
      "36         2  \n",
      "37         2  \n",
      "38         2  \n",
      "39         2  \n",
      "40         2  \n",
      "41         2  \n",
      "42         2  \n",
      "43         2  \n",
      "44         2  \n",
      "45         2  ,)\n"
     ]
    }
   ],
   "source": [
    "model_input_info = pd.DataFrame({'column': model_input.columns,  \n",
    "                             'dtype': model_input.dtypes,\n",
    "                             'missing_percent': model_input.isna().sum()/model_input.shape[0],\n",
    "                             'count': model_input.count(),\n",
    "                             'n_unique': model_input.nunique()}).reset_index().drop('index', axis=1).round(decimals = 3),  \n",
    "print(model_input_info)"
   ]
  },
  {
   "cell_type": "code",
   "execution_count": 6,
   "id": "2c6e528c-b2f6-4315-b744-e3d58be414f2",
   "metadata": {},
   "outputs": [
    {
     "data": {
      "text/html": [
       "<div>\n",
       "<style scoped>\n",
       "    .dataframe tbody tr th:only-of-type {\n",
       "        vertical-align: middle;\n",
       "    }\n",
       "\n",
       "    .dataframe tbody tr th {\n",
       "        vertical-align: top;\n",
       "    }\n",
       "\n",
       "    .dataframe thead th {\n",
       "        text-align: right;\n",
       "    }\n",
       "</style>\n",
       "<table border=\"1\" class=\"dataframe\">\n",
       "  <thead>\n",
       "    <tr style=\"text-align: right;\">\n",
       "      <th></th>\n",
       "      <th>year</th>\n",
       "      <th>score</th>\n",
       "      <th>property_right</th>\n",
       "      <th>government_integrity</th>\n",
       "      <th>tax_burden</th>\n",
       "      <th>government_spending</th>\n",
       "      <th>business_freedom</th>\n",
       "      <th>labor_freedom</th>\n",
       "      <th>monetary_freedom</th>\n",
       "      <th>trade_freedom</th>\n",
       "      <th>...</th>\n",
       "      <th>peru</th>\n",
       "      <th>saint_lucia</th>\n",
       "      <th>saint_vincent_and_the_grenadines</th>\n",
       "      <th>suriname</th>\n",
       "      <th>trinidad_and_tobago</th>\n",
       "      <th>united_states</th>\n",
       "      <th>uruguay</th>\n",
       "      <th>venezuela</th>\n",
       "      <th>north_america</th>\n",
       "      <th>south_america</th>\n",
       "    </tr>\n",
       "  </thead>\n",
       "  <tbody>\n",
       "  </tbody>\n",
       "</table>\n",
       "<p>0 rows × 46 columns</p>\n",
       "</div>"
      ]
     },
     "execution_count": 6,
     "metadata": {},
     "output_type": "execute_result"
    }
   ],
   "source": [
    "model_input[model_input.isna().any(axis=1)].head()"
   ]
  },
  {
   "cell_type": "markdown",
   "id": "0f1d91df-350c-444c-8da2-a50fee0aa8a1",
   "metadata": {
    "tags": []
   },
   "source": [
    "# Data Science"
   ]
  },
  {
   "cell_type": "markdown",
   "id": "2dd2ea5a-61cc-441d-b41e-e379cdf55a49",
   "metadata": {},
   "source": [
    "## Preparing the Data"
   ]
  },
  {
   "cell_type": "markdown",
   "id": "f58f3ead-bf9a-4b85-aba1-da6786298845",
   "metadata": {},
   "source": [
    "### Separating the data into feature data and target data (X_all and y_all, respectively)"
   ]
  },
  {
   "cell_type": "code",
   "execution_count": 7,
   "id": "688a399b",
   "metadata": {},
   "outputs": [],
   "source": [
    "model_input = model_input.set_index(\"year\")"
   ]
  },
  {
   "cell_type": "code",
   "execution_count": 8,
   "id": "4dab4997-e84a-4625-a48a-511f90156da3",
   "metadata": {},
   "outputs": [],
   "source": [
    "X_all = model_input.drop('score', axis=1)\n",
    "y_all = model_input['score']"
   ]
  },
  {
   "cell_type": "code",
   "execution_count": 9,
   "id": "fd8d84b1",
   "metadata": {},
   "outputs": [
    {
     "data": {
      "text/html": [
       "<div>\n",
       "<style scoped>\n",
       "    .dataframe tbody tr th:only-of-type {\n",
       "        vertical-align: middle;\n",
       "    }\n",
       "\n",
       "    .dataframe tbody tr th {\n",
       "        vertical-align: top;\n",
       "    }\n",
       "\n",
       "    .dataframe thead th {\n",
       "        text-align: right;\n",
       "    }\n",
       "</style>\n",
       "<table border=\"1\" class=\"dataframe\">\n",
       "  <thead>\n",
       "    <tr style=\"text-align: right;\">\n",
       "      <th></th>\n",
       "      <th>property_right</th>\n",
       "      <th>government_integrity</th>\n",
       "      <th>tax_burden</th>\n",
       "      <th>government_spending</th>\n",
       "      <th>business_freedom</th>\n",
       "      <th>labor_freedom</th>\n",
       "      <th>monetary_freedom</th>\n",
       "      <th>trade_freedom</th>\n",
       "      <th>investment_freedom</th>\n",
       "      <th>financial_freedom</th>\n",
       "      <th>...</th>\n",
       "      <th>peru</th>\n",
       "      <th>saint_lucia</th>\n",
       "      <th>saint_vincent_and_the_grenadines</th>\n",
       "      <th>suriname</th>\n",
       "      <th>trinidad_and_tobago</th>\n",
       "      <th>united_states</th>\n",
       "      <th>uruguay</th>\n",
       "      <th>venezuela</th>\n",
       "      <th>north_america</th>\n",
       "      <th>south_america</th>\n",
       "    </tr>\n",
       "    <tr>\n",
       "      <th>year</th>\n",
       "      <th></th>\n",
       "      <th></th>\n",
       "      <th></th>\n",
       "      <th></th>\n",
       "      <th></th>\n",
       "      <th></th>\n",
       "      <th></th>\n",
       "      <th></th>\n",
       "      <th></th>\n",
       "      <th></th>\n",
       "      <th></th>\n",
       "      <th></th>\n",
       "      <th></th>\n",
       "      <th></th>\n",
       "      <th></th>\n",
       "      <th></th>\n",
       "      <th></th>\n",
       "      <th></th>\n",
       "      <th></th>\n",
       "      <th></th>\n",
       "      <th></th>\n",
       "    </tr>\n",
       "  </thead>\n",
       "  <tbody>\n",
       "    <tr>\n",
       "      <th>2023</th>\n",
       "      <td>35.1</td>\n",
       "      <td>45.1</td>\n",
       "      <td>73.3</td>\n",
       "      <td>53.0</td>\n",
       "      <td>55.1</td>\n",
       "      <td>51.0</td>\n",
       "      <td>37.9</td>\n",
       "      <td>60.6</td>\n",
       "      <td>55.0</td>\n",
       "      <td>60.0</td>\n",
       "      <td>...</td>\n",
       "      <td>0</td>\n",
       "      <td>0</td>\n",
       "      <td>0</td>\n",
       "      <td>0</td>\n",
       "      <td>0</td>\n",
       "      <td>0</td>\n",
       "      <td>0</td>\n",
       "      <td>0</td>\n",
       "      <td>0</td>\n",
       "      <td>1</td>\n",
       "    </tr>\n",
       "    <tr>\n",
       "      <th>2023</th>\n",
       "      <td>72.6</td>\n",
       "      <td>68.7</td>\n",
       "      <td>80.6</td>\n",
       "      <td>70.8</td>\n",
       "      <td>64.7</td>\n",
       "      <td>63.4</td>\n",
       "      <td>78.6</td>\n",
       "      <td>58.4</td>\n",
       "      <td>70.0</td>\n",
       "      <td>60.0</td>\n",
       "      <td>...</td>\n",
       "      <td>0</td>\n",
       "      <td>0</td>\n",
       "      <td>0</td>\n",
       "      <td>0</td>\n",
       "      <td>0</td>\n",
       "      <td>0</td>\n",
       "      <td>0</td>\n",
       "      <td>0</td>\n",
       "      <td>1</td>\n",
       "      <td>0</td>\n",
       "    </tr>\n",
       "    <tr>\n",
       "      <th>2023</th>\n",
       "      <td>34.7</td>\n",
       "      <td>38.1</td>\n",
       "      <td>77.0</td>\n",
       "      <td>64.1</td>\n",
       "      <td>54.0</td>\n",
       "      <td>59.9</td>\n",
       "      <td>82.5</td>\n",
       "      <td>55.6</td>\n",
       "      <td>55.0</td>\n",
       "      <td>50.0</td>\n",
       "      <td>...</td>\n",
       "      <td>0</td>\n",
       "      <td>0</td>\n",
       "      <td>0</td>\n",
       "      <td>0</td>\n",
       "      <td>0</td>\n",
       "      <td>0</td>\n",
       "      <td>0</td>\n",
       "      <td>0</td>\n",
       "      <td>1</td>\n",
       "      <td>0</td>\n",
       "    </tr>\n",
       "    <tr>\n",
       "      <th>2023</th>\n",
       "      <td>14.1</td>\n",
       "      <td>28.7</td>\n",
       "      <td>86.0</td>\n",
       "      <td>58.8</td>\n",
       "      <td>54.7</td>\n",
       "      <td>46.2</td>\n",
       "      <td>72.8</td>\n",
       "      <td>60.8</td>\n",
       "      <td>15.0</td>\n",
       "      <td>40.0</td>\n",
       "      <td>...</td>\n",
       "      <td>0</td>\n",
       "      <td>0</td>\n",
       "      <td>0</td>\n",
       "      <td>0</td>\n",
       "      <td>0</td>\n",
       "      <td>0</td>\n",
       "      <td>0</td>\n",
       "      <td>0</td>\n",
       "      <td>0</td>\n",
       "      <td>1</td>\n",
       "    </tr>\n",
       "    <tr>\n",
       "      <th>2023</th>\n",
       "      <td>50.3</td>\n",
       "      <td>40.0</td>\n",
       "      <td>69.9</td>\n",
       "      <td>53.8</td>\n",
       "      <td>63.2</td>\n",
       "      <td>55.9</td>\n",
       "      <td>78.4</td>\n",
       "      <td>60.0</td>\n",
       "      <td>60.0</td>\n",
       "      <td>50.0</td>\n",
       "      <td>...</td>\n",
       "      <td>0</td>\n",
       "      <td>0</td>\n",
       "      <td>0</td>\n",
       "      <td>0</td>\n",
       "      <td>0</td>\n",
       "      <td>0</td>\n",
       "      <td>0</td>\n",
       "      <td>0</td>\n",
       "      <td>0</td>\n",
       "      <td>1</td>\n",
       "    </tr>\n",
       "  </tbody>\n",
       "</table>\n",
       "<p>5 rows × 44 columns</p>\n",
       "</div>"
      ]
     },
     "execution_count": 9,
     "metadata": {},
     "output_type": "execute_result"
    }
   ],
   "source": [
    "X_all.head()"
   ]
  },
  {
   "cell_type": "code",
   "execution_count": 10,
   "id": "393f477c",
   "metadata": {},
   "outputs": [
    {
     "data": {
      "text/html": [
       "<pre style=\"white-space:pre;overflow-x:auto;line-height:normal;font-family:Menlo,'DejaVu Sans Mono',consolas,'Courier New',monospace\">\n",
       "year\n",
       "<span style=\"color: #008080; text-decoration-color: #008080; font-weight: bold\">2023</span>    <span style=\"color: #008080; text-decoration-color: #008080; font-weight: bold\">50.1</span>\n",
       "<span style=\"color: #008080; text-decoration-color: #008080; font-weight: bold\">2023</span>    <span style=\"color: #008080; text-decoration-color: #008080; font-weight: bold\">71.3</span>\n",
       "<span style=\"color: #008080; text-decoration-color: #008080; font-weight: bold\">2023</span>    <span style=\"color: #008080; text-decoration-color: #008080; font-weight: bold\">56.6</span>\n",
       "<span style=\"color: #008080; text-decoration-color: #008080; font-weight: bold\">2023</span>    <span style=\"color: #008080; text-decoration-color: #008080; font-weight: bold\">43.0</span>\n",
       "<span style=\"color: #008080; text-decoration-color: #008080; font-weight: bold\">2023</span>    <span style=\"color: #008080; text-decoration-color: #008080; font-weight: bold\">53.3</span>\n",
       "Name: score, dtype: float64\n",
       "</pre>\n"
      ],
      "text/plain": [
       "\n",
       "year\n",
       "\u001b[1;36m2023\u001b[0m    \u001b[1;36m50.1\u001b[0m\n",
       "\u001b[1;36m2023\u001b[0m    \u001b[1;36m71.3\u001b[0m\n",
       "\u001b[1;36m2023\u001b[0m    \u001b[1;36m56.6\u001b[0m\n",
       "\u001b[1;36m2023\u001b[0m    \u001b[1;36m43.0\u001b[0m\n",
       "\u001b[1;36m2023\u001b[0m    \u001b[1;36m53.3\u001b[0m\n",
       "Name: score, dtype: float64\n"
      ]
     },
     "metadata": {},
     "output_type": "display_data"
    }
   ],
   "source": [
    "y_all.head()"
   ]
  },
  {
   "cell_type": "markdown",
   "id": "dab584e2-a76f-4e3a-988d-030b160d8ce1",
   "metadata": {
    "tags": []
   },
   "source": [
    "### Training and Testing Data Split"
   ]
  },
  {
   "cell_type": "code",
   "execution_count": 11,
   "id": "1c625a12-e549-4094-a745-b7f952f79db1",
   "metadata": {},
   "outputs": [
    {
     "name": "stdout",
     "output_type": "stream",
     "text": [
      "Training set has 723 samples.\n",
      "Testing set has 160 samples.\n"
     ]
    }
   ],
   "source": [
    "X_train = X_all[X_all.index<2019]\n",
    "y_train = y_all[y_all.index<2019]\n",
    "\n",
    "X_test = X_all[X_all.index>=2019]\n",
    "y_test = y_all[y_all.index>=2019]\n",
    "\n",
    "print(\"Training set has {} samples.\".format(X_train.shape[0]))\n",
    "print(\"Testing set has {} samples.\".format(X_test.shape[0]))"
   ]
  },
  {
   "cell_type": "markdown",
   "id": "ff2ec361-ca7c-460a-83cf-1bba4e18f3b5",
   "metadata": {
    "tags": []
   },
   "source": [
    "## Random Forest "
   ]
  },
  {
   "cell_type": "code",
   "execution_count": 12,
   "id": "6675366c-6369-48e6-9a0e-ed82454aa6ee",
   "metadata": {
    "jp-MarkdownHeadingCollapsed": true,
    "tags": []
   },
   "outputs": [],
   "source": [
    "random_forest = RandomForestRegressor(random_state=999)\n",
    "random_forest.fit(X_train, y_train)\n",
    "rf_predicted = random_forest.predict(X_test)"
   ]
  },
  {
   "cell_type": "code",
   "execution_count": 15,
   "id": "f44c290d-8d31-45a8-bdbb-65b5654737a8",
   "metadata": {
    "jp-MarkdownHeadingCollapsed": true,
    "tags": []
   },
   "outputs": [
    {
     "name": "stdout",
     "output_type": "stream",
     "text": [
      "0.9293079985828352\n"
     ]
    }
   ],
   "source": [
    "print(r2_score(y_test,rf_predicted))"
   ]
  },
  {
   "cell_type": "markdown",
   "id": "e432deae",
   "metadata": {},
   "source": [
    "## Prophet (Meta)"
   ]
  },
  {
   "cell_type": "code",
   "execution_count": null,
   "id": "3d0513e6",
   "metadata": {},
   "outputs": [],
   "source": []
  },
  {
   "cell_type": "code",
   "execution_count": null,
   "id": "574a3b25",
   "metadata": {},
   "outputs": [],
   "source": []
  },
  {
   "cell_type": "markdown",
   "id": "6a9ef571",
   "metadata": {},
   "source": [
    "## XGBoost"
   ]
  },
  {
   "cell_type": "markdown",
   "id": "705b4841",
   "metadata": {},
   "source": []
  },
  {
   "cell_type": "markdown",
   "id": "a68d9db5",
   "metadata": {},
   "source": []
  }
 ],
 "metadata": {
  "kernelspec": {
   "display_name": "Kedro (economic_freedom_ml)",
   "language": "python",
   "name": "kedro_economic_freedom_ml"
  },
  "language_info": {
   "codemirror_mode": {
    "name": "ipython",
    "version": 3
   },
   "file_extension": ".py",
   "mimetype": "text/x-python",
   "name": "python",
   "nbconvert_exporter": "python",
   "pygments_lexer": "ipython3",
   "version": "3.8.10"
  }
 },
 "nbformat": 4,
 "nbformat_minor": 5
}
